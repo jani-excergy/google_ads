{
 "cells": [
  {
   "cell_type": "code",
   "execution_count": 1,
   "id": "developed-multiple",
   "metadata": {},
   "outputs": [],
   "source": [
    "import pandas as pd\n",
    "import numpy as np\n",
    "import matplotlib.pyplot as plt\n",
    "import seaborn as sns"
   ]
  },
  {
   "cell_type": "code",
   "execution_count": 2,
   "id": "wrong-manitoba",
   "metadata": {},
   "outputs": [],
   "source": [
    "df=pd.read_excel('combine_19_20_21_sale.xlsx')"
   ]
  },
  {
   "cell_type": "code",
   "execution_count": 3,
   "id": "renewable-differential",
   "metadata": {},
   "outputs": [
    {
     "data": {
      "text/html": [
       "<div>\n",
       "<style scoped>\n",
       "    .dataframe tbody tr th:only-of-type {\n",
       "        vertical-align: middle;\n",
       "    }\n",
       "\n",
       "    .dataframe tbody tr th {\n",
       "        vertical-align: top;\n",
       "    }\n",
       "\n",
       "    .dataframe thead th {\n",
       "        text-align: right;\n",
       "    }\n",
       "</style>\n",
       "<table border=\"1\" class=\"dataframe\">\n",
       "  <thead>\n",
       "    <tr style=\"text-align: right;\">\n",
       "      <th></th>\n",
       "      <th>Unnamed: 0</th>\n",
       "      <th>Created Date</th>\n",
       "      <th>TMAX</th>\n",
       "      <th>Completed_Jobs</th>\n",
       "      <th>tech_count</th>\n",
       "      <th>Avg_Sales</th>\n",
       "      <th>Zip_income</th>\n",
       "      <th>Income</th>\n",
       "    </tr>\n",
       "  </thead>\n",
       "  <tbody>\n",
       "    <tr>\n",
       "      <th>0</th>\n",
       "      <td>0</td>\n",
       "      <td>2019-01-03</td>\n",
       "      <td>68</td>\n",
       "      <td>90</td>\n",
       "      <td>42</td>\n",
       "      <td>6583.000000</td>\n",
       "      <td>100885.000000</td>\n",
       "      <td>100885.0</td>\n",
       "    </tr>\n",
       "    <tr>\n",
       "      <th>1</th>\n",
       "      <td>1</td>\n",
       "      <td>2019-01-04</td>\n",
       "      <td>69</td>\n",
       "      <td>85</td>\n",
       "      <td>46</td>\n",
       "      <td>6542.500000</td>\n",
       "      <td>112823.177778</td>\n",
       "      <td>25694.2</td>\n",
       "    </tr>\n",
       "    <tr>\n",
       "      <th>2</th>\n",
       "      <td>2</td>\n",
       "      <td>2019-01-05</td>\n",
       "      <td>53</td>\n",
       "      <td>82</td>\n",
       "      <td>22</td>\n",
       "      <td>11057.800000</td>\n",
       "      <td>92705.000000</td>\n",
       "      <td>92705.0</td>\n",
       "    </tr>\n",
       "    <tr>\n",
       "      <th>3</th>\n",
       "      <td>3</td>\n",
       "      <td>2019-01-06</td>\n",
       "      <td>58</td>\n",
       "      <td>16</td>\n",
       "      <td>12</td>\n",
       "      <td>5815.000000</td>\n",
       "      <td>41483.776667</td>\n",
       "      <td>14062.0</td>\n",
       "    </tr>\n",
       "    <tr>\n",
       "      <th>4</th>\n",
       "      <td>4</td>\n",
       "      <td>2019-01-07</td>\n",
       "      <td>60</td>\n",
       "      <td>89</td>\n",
       "      <td>63</td>\n",
       "      <td>7918.583333</td>\n",
       "      <td>108119.473333</td>\n",
       "      <td>109814.0</td>\n",
       "    </tr>\n",
       "  </tbody>\n",
       "</table>\n",
       "</div>"
      ],
      "text/plain": [
       "   Unnamed: 0 Created Date  TMAX  Completed_Jobs  tech_count     Avg_Sales  \\\n",
       "0           0   2019-01-03    68              90          42   6583.000000   \n",
       "1           1   2019-01-04    69              85          46   6542.500000   \n",
       "2           2   2019-01-05    53              82          22  11057.800000   \n",
       "3           3   2019-01-06    58              16          12   5815.000000   \n",
       "4           4   2019-01-07    60              89          63   7918.583333   \n",
       "\n",
       "      Zip_income    Income  \n",
       "0  100885.000000  100885.0  \n",
       "1  112823.177778   25694.2  \n",
       "2   92705.000000   92705.0  \n",
       "3   41483.776667   14062.0  \n",
       "4  108119.473333  109814.0  "
      ]
     },
     "execution_count": 3,
     "metadata": {},
     "output_type": "execute_result"
    }
   ],
   "source": [
    "df.head()"
   ]
  },
  {
   "cell_type": "code",
   "execution_count": 4,
   "id": "alternate-glory",
   "metadata": {},
   "outputs": [],
   "source": [
    "df=df.drop(['Unnamed: 0'],axis=1)"
   ]
  },
  {
   "cell_type": "code",
   "execution_count": 5,
   "id": "stock-engagement",
   "metadata": {},
   "outputs": [
    {
     "data": {
      "text/plain": [
       "Index(['Created Date', 'TMAX', 'Completed_Jobs', 'tech_count', 'Avg_Sales',\n",
       "       'Zip_income', 'Income'],\n",
       "      dtype='object')"
      ]
     },
     "execution_count": 5,
     "metadata": {},
     "output_type": "execute_result"
    }
   ],
   "source": [
    "df.columns"
   ]
  },
  {
   "cell_type": "code",
   "execution_count": 6,
   "id": "transsexual-lithuania",
   "metadata": {},
   "outputs": [],
   "source": [
    "df['year'] = df['Created Date'].dt.year\n",
    "df['month'] = df['Created Date'].dt.month\n",
    "df['day'] = df['Created Date'].dt.month\n",
    "\n",
    "\n",
    "df['weekday'] = df['Created Date'].dt.dayofweek\n",
    "\n",
    "df['quarter'] = df['Created Date'].dt.quarter"
   ]
  },
  {
   "cell_type": "code",
   "execution_count": 7,
   "id": "specific-possible",
   "metadata": {},
   "outputs": [],
   "source": [
    "df=df.drop(['Created Date'],axis=1)"
   ]
  },
  {
   "cell_type": "code",
   "execution_count": 8,
   "id": "becoming-period",
   "metadata": {},
   "outputs": [],
   "source": [
    "def encode(data, col, max_val):\n",
    "    data[col + '_sin'] = np.sin(2 * np.pi * data[col]/max_val)\n",
    "    data[col + '_cos'] = np.cos(2 * np.pi * data[col]/max_val)\n",
    "    return data"
   ]
  },
  {
   "cell_type": "code",
   "execution_count": 9,
   "id": "intelligent-kuwait",
   "metadata": {},
   "outputs": [
    {
     "data": {
      "text/html": [
       "<div>\n",
       "<style scoped>\n",
       "    .dataframe tbody tr th:only-of-type {\n",
       "        vertical-align: middle;\n",
       "    }\n",
       "\n",
       "    .dataframe tbody tr th {\n",
       "        vertical-align: top;\n",
       "    }\n",
       "\n",
       "    .dataframe thead th {\n",
       "        text-align: right;\n",
       "    }\n",
       "</style>\n",
       "<table border=\"1\" class=\"dataframe\">\n",
       "  <thead>\n",
       "    <tr style=\"text-align: right;\">\n",
       "      <th></th>\n",
       "      <th>TMAX</th>\n",
       "      <th>Completed_Jobs</th>\n",
       "      <th>tech_count</th>\n",
       "      <th>Avg_Sales</th>\n",
       "      <th>Zip_income</th>\n",
       "      <th>Income</th>\n",
       "      <th>year</th>\n",
       "      <th>month</th>\n",
       "      <th>day</th>\n",
       "      <th>weekday</th>\n",
       "      <th>quarter</th>\n",
       "      <th>month_sin</th>\n",
       "      <th>month_cos</th>\n",
       "      <th>day_sin</th>\n",
       "      <th>day_cos</th>\n",
       "      <th>weekday_sin</th>\n",
       "      <th>weekday_cos</th>\n",
       "      <th>quarter_sin</th>\n",
       "      <th>quarter_cos</th>\n",
       "    </tr>\n",
       "  </thead>\n",
       "  <tbody>\n",
       "    <tr>\n",
       "      <th>0</th>\n",
       "      <td>68</td>\n",
       "      <td>90</td>\n",
       "      <td>42</td>\n",
       "      <td>6583.000000</td>\n",
       "      <td>100885.000000</td>\n",
       "      <td>100885.00</td>\n",
       "      <td>2019</td>\n",
       "      <td>1</td>\n",
       "      <td>1</td>\n",
       "      <td>3</td>\n",
       "      <td>1</td>\n",
       "      <td>0.500000</td>\n",
       "      <td>0.866025</td>\n",
       "      <td>0.017213</td>\n",
       "      <td>0.999852</td>\n",
       "      <td>0.433884</td>\n",
       "      <td>-0.900969</td>\n",
       "      <td>1.000000e+00</td>\n",
       "      <td>6.123234e-17</td>\n",
       "    </tr>\n",
       "    <tr>\n",
       "      <th>1</th>\n",
       "      <td>69</td>\n",
       "      <td>85</td>\n",
       "      <td>46</td>\n",
       "      <td>6542.500000</td>\n",
       "      <td>112823.177778</td>\n",
       "      <td>25694.20</td>\n",
       "      <td>2019</td>\n",
       "      <td>1</td>\n",
       "      <td>1</td>\n",
       "      <td>4</td>\n",
       "      <td>1</td>\n",
       "      <td>0.500000</td>\n",
       "      <td>0.866025</td>\n",
       "      <td>0.017213</td>\n",
       "      <td>0.999852</td>\n",
       "      <td>-0.433884</td>\n",
       "      <td>-0.900969</td>\n",
       "      <td>1.000000e+00</td>\n",
       "      <td>6.123234e-17</td>\n",
       "    </tr>\n",
       "    <tr>\n",
       "      <th>2</th>\n",
       "      <td>53</td>\n",
       "      <td>82</td>\n",
       "      <td>22</td>\n",
       "      <td>11057.800000</td>\n",
       "      <td>92705.000000</td>\n",
       "      <td>92705.00</td>\n",
       "      <td>2019</td>\n",
       "      <td>1</td>\n",
       "      <td>1</td>\n",
       "      <td>5</td>\n",
       "      <td>1</td>\n",
       "      <td>0.500000</td>\n",
       "      <td>0.866025</td>\n",
       "      <td>0.017213</td>\n",
       "      <td>0.999852</td>\n",
       "      <td>-0.974928</td>\n",
       "      <td>-0.222521</td>\n",
       "      <td>1.000000e+00</td>\n",
       "      <td>6.123234e-17</td>\n",
       "    </tr>\n",
       "    <tr>\n",
       "      <th>3</th>\n",
       "      <td>58</td>\n",
       "      <td>16</td>\n",
       "      <td>12</td>\n",
       "      <td>5815.000000</td>\n",
       "      <td>41483.776667</td>\n",
       "      <td>14062.00</td>\n",
       "      <td>2019</td>\n",
       "      <td>1</td>\n",
       "      <td>1</td>\n",
       "      <td>6</td>\n",
       "      <td>1</td>\n",
       "      <td>0.500000</td>\n",
       "      <td>0.866025</td>\n",
       "      <td>0.017213</td>\n",
       "      <td>0.999852</td>\n",
       "      <td>-0.781831</td>\n",
       "      <td>0.623490</td>\n",
       "      <td>1.000000e+00</td>\n",
       "      <td>6.123234e-17</td>\n",
       "    </tr>\n",
       "    <tr>\n",
       "      <th>4</th>\n",
       "      <td>60</td>\n",
       "      <td>89</td>\n",
       "      <td>63</td>\n",
       "      <td>7918.583333</td>\n",
       "      <td>108119.473333</td>\n",
       "      <td>109814.00</td>\n",
       "      <td>2019</td>\n",
       "      <td>1</td>\n",
       "      <td>1</td>\n",
       "      <td>0</td>\n",
       "      <td>1</td>\n",
       "      <td>0.500000</td>\n",
       "      <td>0.866025</td>\n",
       "      <td>0.017213</td>\n",
       "      <td>0.999852</td>\n",
       "      <td>0.000000</td>\n",
       "      <td>1.000000</td>\n",
       "      <td>1.000000e+00</td>\n",
       "      <td>6.123234e-17</td>\n",
       "    </tr>\n",
       "    <tr>\n",
       "      <th>...</th>\n",
       "      <td>...</td>\n",
       "      <td>...</td>\n",
       "      <td>...</td>\n",
       "      <td>...</td>\n",
       "      <td>...</td>\n",
       "      <td>...</td>\n",
       "      <td>...</td>\n",
       "      <td>...</td>\n",
       "      <td>...</td>\n",
       "      <td>...</td>\n",
       "      <td>...</td>\n",
       "      <td>...</td>\n",
       "      <td>...</td>\n",
       "      <td>...</td>\n",
       "      <td>...</td>\n",
       "      <td>...</td>\n",
       "      <td>...</td>\n",
       "      <td>...</td>\n",
       "      <td>...</td>\n",
       "    </tr>\n",
       "    <tr>\n",
       "      <th>721</th>\n",
       "      <td>81</td>\n",
       "      <td>222</td>\n",
       "      <td>126</td>\n",
       "      <td>3494.939333</td>\n",
       "      <td>210099.110000</td>\n",
       "      <td>210099.11</td>\n",
       "      <td>2021</td>\n",
       "      <td>4</td>\n",
       "      <td>4</td>\n",
       "      <td>4</td>\n",
       "      <td>2</td>\n",
       "      <td>0.866025</td>\n",
       "      <td>-0.500000</td>\n",
       "      <td>0.068802</td>\n",
       "      <td>0.997630</td>\n",
       "      <td>-0.433884</td>\n",
       "      <td>-0.900969</td>\n",
       "      <td>1.224647e-16</td>\n",
       "      <td>-1.000000e+00</td>\n",
       "    </tr>\n",
       "    <tr>\n",
       "      <th>722</th>\n",
       "      <td>68</td>\n",
       "      <td>168</td>\n",
       "      <td>75</td>\n",
       "      <td>4079.521639</td>\n",
       "      <td>119775.950000</td>\n",
       "      <td>119775.95</td>\n",
       "      <td>2021</td>\n",
       "      <td>5</td>\n",
       "      <td>5</td>\n",
       "      <td>5</td>\n",
       "      <td>2</td>\n",
       "      <td>0.500000</td>\n",
       "      <td>-0.866025</td>\n",
       "      <td>0.085965</td>\n",
       "      <td>0.996298</td>\n",
       "      <td>-0.974928</td>\n",
       "      <td>-0.222521</td>\n",
       "      <td>1.224647e-16</td>\n",
       "      <td>-1.000000e+00</td>\n",
       "    </tr>\n",
       "    <tr>\n",
       "      <th>723</th>\n",
       "      <td>69</td>\n",
       "      <td>202</td>\n",
       "      <td>124</td>\n",
       "      <td>3481.447857</td>\n",
       "      <td>230699.430000</td>\n",
       "      <td>230699.43</td>\n",
       "      <td>2021</td>\n",
       "      <td>5</td>\n",
       "      <td>5</td>\n",
       "      <td>2</td>\n",
       "      <td>2</td>\n",
       "      <td>0.500000</td>\n",
       "      <td>-0.866025</td>\n",
       "      <td>0.085965</td>\n",
       "      <td>0.996298</td>\n",
       "      <td>0.974928</td>\n",
       "      <td>-0.222521</td>\n",
       "      <td>1.224647e-16</td>\n",
       "      <td>-1.000000e+00</td>\n",
       "    </tr>\n",
       "    <tr>\n",
       "      <th>724</th>\n",
       "      <td>68</td>\n",
       "      <td>109</td>\n",
       "      <td>75</td>\n",
       "      <td>4314.042857</td>\n",
       "      <td>112431.950000</td>\n",
       "      <td>112431.95</td>\n",
       "      <td>2021</td>\n",
       "      <td>5</td>\n",
       "      <td>5</td>\n",
       "      <td>5</td>\n",
       "      <td>2</td>\n",
       "      <td>0.500000</td>\n",
       "      <td>-0.866025</td>\n",
       "      <td>0.085965</td>\n",
       "      <td>0.996298</td>\n",
       "      <td>-0.974928</td>\n",
       "      <td>-0.222521</td>\n",
       "      <td>1.224647e-16</td>\n",
       "      <td>-1.000000e+00</td>\n",
       "    </tr>\n",
       "    <tr>\n",
       "      <th>725</th>\n",
       "      <td>63</td>\n",
       "      <td>177</td>\n",
       "      <td>114</td>\n",
       "      <td>3539.839216</td>\n",
       "      <td>199708.630000</td>\n",
       "      <td>199708.63</td>\n",
       "      <td>2021</td>\n",
       "      <td>5</td>\n",
       "      <td>5</td>\n",
       "      <td>3</td>\n",
       "      <td>2</td>\n",
       "      <td>0.500000</td>\n",
       "      <td>-0.866025</td>\n",
       "      <td>0.085965</td>\n",
       "      <td>0.996298</td>\n",
       "      <td>0.433884</td>\n",
       "      <td>-0.900969</td>\n",
       "      <td>1.224647e-16</td>\n",
       "      <td>-1.000000e+00</td>\n",
       "    </tr>\n",
       "  </tbody>\n",
       "</table>\n",
       "<p>726 rows × 19 columns</p>\n",
       "</div>"
      ],
      "text/plain": [
       "     TMAX  Completed_Jobs  tech_count     Avg_Sales     Zip_income     Income  \\\n",
       "0      68              90          42   6583.000000  100885.000000  100885.00   \n",
       "1      69              85          46   6542.500000  112823.177778   25694.20   \n",
       "2      53              82          22  11057.800000   92705.000000   92705.00   \n",
       "3      58              16          12   5815.000000   41483.776667   14062.00   \n",
       "4      60              89          63   7918.583333  108119.473333  109814.00   \n",
       "..    ...             ...         ...           ...            ...        ...   \n",
       "721    81             222         126   3494.939333  210099.110000  210099.11   \n",
       "722    68             168          75   4079.521639  119775.950000  119775.95   \n",
       "723    69             202         124   3481.447857  230699.430000  230699.43   \n",
       "724    68             109          75   4314.042857  112431.950000  112431.95   \n",
       "725    63             177         114   3539.839216  199708.630000  199708.63   \n",
       "\n",
       "     year  month  day  weekday  quarter  month_sin  month_cos   day_sin  \\\n",
       "0    2019      1    1        3        1   0.500000   0.866025  0.017213   \n",
       "1    2019      1    1        4        1   0.500000   0.866025  0.017213   \n",
       "2    2019      1    1        5        1   0.500000   0.866025  0.017213   \n",
       "3    2019      1    1        6        1   0.500000   0.866025  0.017213   \n",
       "4    2019      1    1        0        1   0.500000   0.866025  0.017213   \n",
       "..    ...    ...  ...      ...      ...        ...        ...       ...   \n",
       "721  2021      4    4        4        2   0.866025  -0.500000  0.068802   \n",
       "722  2021      5    5        5        2   0.500000  -0.866025  0.085965   \n",
       "723  2021      5    5        2        2   0.500000  -0.866025  0.085965   \n",
       "724  2021      5    5        5        2   0.500000  -0.866025  0.085965   \n",
       "725  2021      5    5        3        2   0.500000  -0.866025  0.085965   \n",
       "\n",
       "      day_cos  weekday_sin  weekday_cos   quarter_sin   quarter_cos  \n",
       "0    0.999852     0.433884    -0.900969  1.000000e+00  6.123234e-17  \n",
       "1    0.999852    -0.433884    -0.900969  1.000000e+00  6.123234e-17  \n",
       "2    0.999852    -0.974928    -0.222521  1.000000e+00  6.123234e-17  \n",
       "3    0.999852    -0.781831     0.623490  1.000000e+00  6.123234e-17  \n",
       "4    0.999852     0.000000     1.000000  1.000000e+00  6.123234e-17  \n",
       "..        ...          ...          ...           ...           ...  \n",
       "721  0.997630    -0.433884    -0.900969  1.224647e-16 -1.000000e+00  \n",
       "722  0.996298    -0.974928    -0.222521  1.224647e-16 -1.000000e+00  \n",
       "723  0.996298     0.974928    -0.222521  1.224647e-16 -1.000000e+00  \n",
       "724  0.996298    -0.974928    -0.222521  1.224647e-16 -1.000000e+00  \n",
       "725  0.996298     0.433884    -0.900969  1.224647e-16 -1.000000e+00  \n",
       "\n",
       "[726 rows x 19 columns]"
      ]
     },
     "execution_count": 9,
     "metadata": {},
     "output_type": "execute_result"
    }
   ],
   "source": [
    "encode(df,'month',12)\n",
    "encode(df,'day',365)\n",
    "encode(df,'weekday',7)\n",
    "encode(df,'quarter',4)"
   ]
  },
  {
   "cell_type": "code",
   "execution_count": 10,
   "id": "little-activity",
   "metadata": {},
   "outputs": [],
   "source": [
    "df=df.drop(['month', 'day', 'weekday', 'quarter'],axis=1)"
   ]
  },
  {
   "cell_type": "code",
   "execution_count": 11,
   "id": "dying-brass",
   "metadata": {},
   "outputs": [],
   "source": [
    "df['year'] = df['year'].map({2019: 0, 2020: 1,2021:2})"
   ]
  },
  {
   "cell_type": "code",
   "execution_count": 12,
   "id": "sweet-highland",
   "metadata": {},
   "outputs": [],
   "source": [
    "df['f1']=np.abs(df['Completed_Jobs'])*np.abs(df['Zip_income'])\n",
    "df['f2']=np.sqrt(df['Completed_Jobs']**3)*np.abs(df['Avg_Sales'])\n",
    "df['f3']=np.abs(np.sqrt(df['Completed_Jobs']) - np.sqrt(df['tech_count']))\n",
    "df['f4']=np.log(np.sqrt(df['Completed_Jobs'])*df['TMAX']**3)"
   ]
  },
  {
   "cell_type": "code",
   "execution_count": 13,
   "id": "thrown-elements",
   "metadata": {},
   "outputs": [],
   "source": [
    "df1=df[['f1', 'f2','f3', 'f4','year',  'month_cos',  'quarter_sin','Income']]"
   ]
  },
  {
   "cell_type": "code",
   "execution_count": 14,
   "id": "civic-carolina",
   "metadata": {},
   "outputs": [],
   "source": [
    "train=df1[0:600]\n",
    "test=df1[600:]"
   ]
  },
  {
   "cell_type": "code",
   "execution_count": 15,
   "id": "matched-mechanics",
   "metadata": {},
   "outputs": [],
   "source": [
    "y=train['Income']\n",
    "X=train.drop(['Income'],axis=1)"
   ]
  },
  {
   "cell_type": "code",
   "execution_count": 16,
   "id": "theoretical-kitty",
   "metadata": {},
   "outputs": [],
   "source": [
    "from sklearn.model_selection import train_test_split\n",
    "X_train, X_test, y_train, y_test = train_test_split(X, y, test_size=0.2, random_state=42)"
   ]
  },
  {
   "cell_type": "code",
   "execution_count": 17,
   "id": "chemical-biodiversity",
   "metadata": {},
   "outputs": [],
   "source": [
    "import xgboost as xgb\n",
    "xgbst_reg=xgb.XGBRegressor()"
   ]
  },
  {
   "cell_type": "code",
   "execution_count": 18,
   "id": "serious-interstate",
   "metadata": {},
   "outputs": [
    {
     "data": {
      "text/plain": [
       "XGBRegressor(base_score=0.5, booster='gbtree', colsample_bylevel=1,\n",
       "             colsample_bynode=1, colsample_bytree=1, gamma=0, gpu_id=-1,\n",
       "             importance_type='gain', interaction_constraints='',\n",
       "             learning_rate=0.300000012, max_delta_step=0, max_depth=6,\n",
       "             min_child_weight=1, missing=nan, monotone_constraints='()',\n",
       "             n_estimators=100, n_jobs=0, num_parallel_tree=1, random_state=0,\n",
       "             reg_alpha=0, reg_lambda=1, scale_pos_weight=1, subsample=1,\n",
       "             tree_method='exact', validate_parameters=1, verbosity=None)"
      ]
     },
     "execution_count": 18,
     "metadata": {},
     "output_type": "execute_result"
    }
   ],
   "source": [
    "xgbst_reg.fit(X_train,y_train)"
   ]
  },
  {
   "cell_type": "code",
   "execution_count": 19,
   "id": "prime-greenhouse",
   "metadata": {},
   "outputs": [
    {
     "data": {
      "text/plain": [
       "0.9997636754227742"
      ]
     },
     "execution_count": 19,
     "metadata": {},
     "output_type": "execute_result"
    }
   ],
   "source": [
    "xgbst_reg.score(X_train,y_train)"
   ]
  },
  {
   "cell_type": "code",
   "execution_count": 20,
   "id": "induced-underwear",
   "metadata": {},
   "outputs": [
    {
     "data": {
      "text/plain": [
       "0.6015674370059175"
      ]
     },
     "execution_count": 20,
     "metadata": {},
     "output_type": "execute_result"
    }
   ],
   "source": [
    "xgbst_reg.score(X_test,y_test)"
   ]
  },
  {
   "cell_type": "code",
   "execution_count": 21,
   "id": "average-estate",
   "metadata": {},
   "outputs": [],
   "source": [
    "y_=test['Income']\n",
    "X_=test.drop(['Income'],axis=1)"
   ]
  },
  {
   "cell_type": "code",
   "execution_count": 22,
   "id": "proprietary-debut",
   "metadata": {},
   "outputs": [
    {
     "data": {
      "text/html": [
       "<div>\n",
       "<style scoped>\n",
       "    .dataframe tbody tr th:only-of-type {\n",
       "        vertical-align: middle;\n",
       "    }\n",
       "\n",
       "    .dataframe tbody tr th {\n",
       "        vertical-align: top;\n",
       "    }\n",
       "\n",
       "    .dataframe thead th {\n",
       "        text-align: right;\n",
       "    }\n",
       "</style>\n",
       "<table border=\"1\" class=\"dataframe\">\n",
       "  <thead>\n",
       "    <tr style=\"text-align: right;\">\n",
       "      <th></th>\n",
       "      <th>f1</th>\n",
       "      <th>f2</th>\n",
       "      <th>f3</th>\n",
       "      <th>f4</th>\n",
       "      <th>year</th>\n",
       "      <th>month_cos</th>\n",
       "      <th>quarter_sin</th>\n",
       "    </tr>\n",
       "  </thead>\n",
       "  <tbody>\n",
       "    <tr>\n",
       "      <th>600</th>\n",
       "      <td>8.641438e+06</td>\n",
       "      <td>2.325629e+06</td>\n",
       "      <td>3.439976</td>\n",
       "      <td>15.624170</td>\n",
       "      <td>1</td>\n",
       "      <td>1.000000</td>\n",
       "      <td>-2.449294e-16</td>\n",
       "    </tr>\n",
       "    <tr>\n",
       "      <th>601</th>\n",
       "      <td>7.790484e+06</td>\n",
       "      <td>2.255753e+06</td>\n",
       "      <td>3.171302</td>\n",
       "      <td>15.264951</td>\n",
       "      <td>1</td>\n",
       "      <td>1.000000</td>\n",
       "      <td>-2.449294e-16</td>\n",
       "    </tr>\n",
       "    <tr>\n",
       "      <th>602</th>\n",
       "      <td>5.657075e+06</td>\n",
       "      <td>1.776562e+06</td>\n",
       "      <td>2.380652</td>\n",
       "      <td>14.701497</td>\n",
       "      <td>1</td>\n",
       "      <td>1.000000</td>\n",
       "      <td>-2.449294e-16</td>\n",
       "    </tr>\n",
       "    <tr>\n",
       "      <th>603</th>\n",
       "      <td>1.076714e+07</td>\n",
       "      <td>7.114696e+06</td>\n",
       "      <td>2.189750</td>\n",
       "      <td>14.269537</td>\n",
       "      <td>1</td>\n",
       "      <td>1.000000</td>\n",
       "      <td>-2.449294e-16</td>\n",
       "    </tr>\n",
       "    <tr>\n",
       "      <th>604</th>\n",
       "      <td>1.135843e+07</td>\n",
       "      <td>5.079207e+06</td>\n",
       "      <td>3.989318</td>\n",
       "      <td>14.754715</td>\n",
       "      <td>1</td>\n",
       "      <td>1.000000</td>\n",
       "      <td>-2.449294e-16</td>\n",
       "    </tr>\n",
       "    <tr>\n",
       "      <th>...</th>\n",
       "      <td>...</td>\n",
       "      <td>...</td>\n",
       "      <td>...</td>\n",
       "      <td>...</td>\n",
       "      <td>...</td>\n",
       "      <td>...</td>\n",
       "      <td>...</td>\n",
       "    </tr>\n",
       "    <tr>\n",
       "      <th>721</th>\n",
       "      <td>4.664200e+07</td>\n",
       "      <td>1.156030e+07</td>\n",
       "      <td>3.674692</td>\n",
       "      <td>15.884686</td>\n",
       "      <td>2</td>\n",
       "      <td>-0.500000</td>\n",
       "      <td>1.224647e-16</td>\n",
       "    </tr>\n",
       "    <tr>\n",
       "      <th>722</th>\n",
       "      <td>2.012236e+07</td>\n",
       "      <td>8.883276e+06</td>\n",
       "      <td>4.301227</td>\n",
       "      <td>15.220505</td>\n",
       "      <td>2</td>\n",
       "      <td>-0.866025</td>\n",
       "      <td>1.224647e-16</td>\n",
       "    </tr>\n",
       "    <tr>\n",
       "      <th>723</th>\n",
       "      <td>4.660128e+07</td>\n",
       "      <td>9.995096e+06</td>\n",
       "      <td>3.077142</td>\n",
       "      <td>15.356453</td>\n",
       "      <td>2</td>\n",
       "      <td>-0.866025</td>\n",
       "      <td>1.224647e-16</td>\n",
       "    </tr>\n",
       "    <tr>\n",
       "      <th>724</th>\n",
       "      <td>1.225508e+07</td>\n",
       "      <td>4.909352e+06</td>\n",
       "      <td>1.780052</td>\n",
       "      <td>15.004197</td>\n",
       "      <td>2</td>\n",
       "      <td>-0.866025</td>\n",
       "      <td>1.224647e-16</td>\n",
       "    </tr>\n",
       "    <tr>\n",
       "      <th>725</th>\n",
       "      <td>3.534843e+07</td>\n",
       "      <td>8.335726e+06</td>\n",
       "      <td>2.627056</td>\n",
       "      <td>15.017479</td>\n",
       "      <td>2</td>\n",
       "      <td>-0.866025</td>\n",
       "      <td>1.224647e-16</td>\n",
       "    </tr>\n",
       "  </tbody>\n",
       "</table>\n",
       "<p>126 rows × 7 columns</p>\n",
       "</div>"
      ],
      "text/plain": [
       "               f1            f2        f3         f4  year  month_cos  \\\n",
       "600  8.641438e+06  2.325629e+06  3.439976  15.624170     1   1.000000   \n",
       "601  7.790484e+06  2.255753e+06  3.171302  15.264951     1   1.000000   \n",
       "602  5.657075e+06  1.776562e+06  2.380652  14.701497     1   1.000000   \n",
       "603  1.076714e+07  7.114696e+06  2.189750  14.269537     1   1.000000   \n",
       "604  1.135843e+07  5.079207e+06  3.989318  14.754715     1   1.000000   \n",
       "..            ...           ...       ...        ...   ...        ...   \n",
       "721  4.664200e+07  1.156030e+07  3.674692  15.884686     2  -0.500000   \n",
       "722  2.012236e+07  8.883276e+06  4.301227  15.220505     2  -0.866025   \n",
       "723  4.660128e+07  9.995096e+06  3.077142  15.356453     2  -0.866025   \n",
       "724  1.225508e+07  4.909352e+06  1.780052  15.004197     2  -0.866025   \n",
       "725  3.534843e+07  8.335726e+06  2.627056  15.017479     2  -0.866025   \n",
       "\n",
       "      quarter_sin  \n",
       "600 -2.449294e-16  \n",
       "601 -2.449294e-16  \n",
       "602 -2.449294e-16  \n",
       "603 -2.449294e-16  \n",
       "604 -2.449294e-16  \n",
       "..            ...  \n",
       "721  1.224647e-16  \n",
       "722  1.224647e-16  \n",
       "723  1.224647e-16  \n",
       "724  1.224647e-16  \n",
       "725  1.224647e-16  \n",
       "\n",
       "[126 rows x 7 columns]"
      ]
     },
     "execution_count": 22,
     "metadata": {},
     "output_type": "execute_result"
    }
   ],
   "source": [
    "X_"
   ]
  },
  {
   "cell_type": "code",
   "execution_count": 77,
   "id": "expired-crossing",
   "metadata": {
    "scrolled": true
   },
   "outputs": [
    {
     "data": {
      "text/plain": [
       "82920.44"
      ]
     },
     "execution_count": 77,
     "metadata": {},
     "output_type": "execute_result"
    }
   ],
   "source": [
    "y_.median()"
   ]
  },
  {
   "cell_type": "code",
   "execution_count": 23,
   "id": "ecological-situation",
   "metadata": {},
   "outputs": [
    {
     "data": {
      "text/plain": [
       "0.6327156744127413"
      ]
     },
     "execution_count": 23,
     "metadata": {},
     "output_type": "execute_result"
    }
   ],
   "source": [
    "xgbst_reg.score(X_,y_)"
   ]
  },
  {
   "cell_type": "code",
   "execution_count": 24,
   "id": "sealed-longitude",
   "metadata": {},
   "outputs": [],
   "source": [
    "y_pred=xgbst_reg.predict(X_)"
   ]
  },
  {
   "cell_type": "code",
   "execution_count": 25,
   "id": "referenced-attraction",
   "metadata": {},
   "outputs": [
    {
     "name": "stdout",
     "output_type": "stream",
     "text": [
      "MAE: 25240.07736614893\n",
      "RMSE: 34385.69248149109\n"
     ]
    }
   ],
   "source": [
    "from sklearn import metrics\n",
    "\n",
    "print('MAE:', metrics.mean_absolute_error(y_,y_pred))\n",
    "print('RMSE:', np.sqrt(metrics.mean_squared_error(y_,y_pred)))"
   ]
  },
  {
   "cell_type": "code",
   "execution_count": 26,
   "id": "interesting-zoning",
   "metadata": {},
   "outputs": [],
   "source": [
    "comp=pd.DataFrame({'Actual':y_,'Predicted':y_pred})"
   ]
  },
  {
   "cell_type": "code",
   "execution_count": 27,
   "id": "eastern-pulse",
   "metadata": {},
   "outputs": [
    {
     "data": {
      "text/plain": [
       "<AxesSubplot:>"
      ]
     },
     "execution_count": 27,
     "metadata": {},
     "output_type": "execute_result"
    },
    {
     "data": {
      "image/png": "[encoded data removed]",
      "text/plain": [
       "<Figure size 432x288 with 1 Axes>"
      ]
     },
     "metadata": {
      "needs_background": "light"
     },
     "output_type": "display_data"
    }
   ],
   "source": [
    "comp.plot()"
   ]
  },
  {
   "cell_type": "code",
   "execution_count": null,
   "id": "diverse-booking",
   "metadata": {},
   "outputs": [],
   "source": []
  },
  {
   "cell_type": "markdown",
   "id": "freelance-contemporary",
   "metadata": {},
   "source": [
    "# Hyper Parameter tuning"
   ]
  },
  {
   "cell_type": "code",
   "execution_count": 28,
   "id": "cathedral-james",
   "metadata": {},
   "outputs": [],
   "source": [
    "# Hyperparameter tuning with RandomizedSearchCV\n",
    "\n",
    "from sklearn.model_selection import RandomizedSearchCV\n"
   ]
  },
  {
   "cell_type": "code",
   "execution_count": 29,
   "id": "strong-tuning",
   "metadata": {},
   "outputs": [],
   "source": [
    "# Hyparameter ranges \n",
    "\n",
    "from scipy.stats import randint\n",
    "\n",
    "\n",
    "parameters = {'n_estimators': randint(100,1200),\n",
    "               'learning_rate': [0.001,0.002,0.003,0.005,0.01,0.04,0.05,0.1,0.2,0.3,0.4,0.5,0.6],\n",
    "               'max_depth': randint(5,40),\n",
    "               'subsample': [0.5,0.6,0.7,0.8],\n",
    "               'min_child_weight': randint(1,10)  }\n"
   ]
  },
  {
   "cell_type": "code",
   "execution_count": 30,
   "id": "recorded-strength",
   "metadata": {},
   "outputs": [],
   "source": [
    "# Model for tuning\n",
    "\n",
    "base_learner=xgb.XGBRegressor()\n"
   ]
  },
  {
   "cell_type": "code",
   "execution_count": 31,
   "id": "south-reservation",
   "metadata": {},
   "outputs": [],
   "source": [
    "# Tuning \n",
    "\n",
    "tuned_model= RandomizedSearchCV(estimator = base_learner, param_distributions = parameters,scoring='neg_root_mean_squared_error', n_iter = 100, cv = 5, verbose=2, random_state=42, n_jobs =-1)"
   ]
  },
  {
   "cell_type": "code",
   "execution_count": 32,
   "id": "anonymous-sleeping",
   "metadata": {},
   "outputs": [
    {
     "name": "stdout",
     "output_type": "stream",
     "text": [
      "Fitting 5 folds for each of 100 candidates, totalling 500 fits\n"
     ]
    },
    {
     "name": "stderr",
     "output_type": "stream",
     "text": [
      "[Parallel(n_jobs=-1)]: Using backend LokyBackend with 4 concurrent workers.\n",
      "[Parallel(n_jobs=-1)]: Done  33 tasks      | elapsed:   34.6s\n",
      "[Parallel(n_jobs=-1)]: Done 154 tasks      | elapsed:  1.9min\n",
      "[Parallel(n_jobs=-1)]: Done 357 tasks      | elapsed:  3.7min\n",
      "[Parallel(n_jobs=-1)]: Done 500 out of 500 | elapsed:  5.4min finished\n"
     ]
    },
    {
     "data": {
      "text/plain": [
       "RandomizedSearchCV(cv=5,\n",
       "                   estimator=XGBRegressor(base_score=None, booster=None,\n",
       "                                          colsample_bylevel=None,\n",
       "                                          colsample_bynode=None,\n",
       "                                          colsample_bytree=None, gamma=None,\n",
       "                                          gpu_id=None, importance_type='gain',\n",
       "                                          interaction_constraints=None,\n",
       "                                          learning_rate=None,\n",
       "                                          max_delta_step=None, max_depth=None,\n",
       "                                          min_child_weight=None, missing=nan,\n",
       "                                          monotone_constraints=None,\n",
       "                                          n_estimators=100, n...\n",
       "                                        'max_depth': <scipy.stats._distn_infrastructure.rv_frozen object at 0x00000209EDE57358>,\n",
       "                                        'min_child_weight': <scipy.stats._distn_infrastructure.rv_frozen object at 0x00000209EDE57588>,\n",
       "                                        'n_estimators': <scipy.stats._distn_infrastructure.rv_frozen object at 0x00000209EDE57240>,\n",
       "                                        'subsample': [0.5, 0.6, 0.7, 0.8]},\n",
       "                   random_state=42, scoring='neg_root_mean_squared_error',\n",
       "                   verbose=2)"
      ]
     },
     "execution_count": 32,
     "metadata": {},
     "output_type": "execute_result"
    }
   ],
   "source": [
    "tuned_model.fit(X,y)"
   ]
  },
  {
   "cell_type": "code",
   "execution_count": null,
   "id": "atmospheric-cinema",
   "metadata": {},
   "outputs": [],
   "source": []
  },
  {
   "cell_type": "code",
   "execution_count": null,
   "id": "graduate-browse",
   "metadata": {},
   "outputs": [],
   "source": []
  },
  {
   "cell_type": "code",
   "execution_count": 30,
   "id": "contemporary-madrid",
   "metadata": {},
   "outputs": [],
   "source": [
    "# Best model\n",
    "\n",
    "best_model=xgb.XGBRegressor(eta =0.1, max_depth=6, min_child_weight=1,n_estimators=100)\n"
   ]
  },
  {
   "cell_type": "code",
   "execution_count": 31,
   "id": "nuclear-complex",
   "metadata": {},
   "outputs": [
    {
     "data": {
      "text/plain": [
       "XGBRegressor(base_score=0.5, booster='gbtree', colsample_bylevel=1,\n",
       "             colsample_bynode=1, colsample_bytree=1, eta=0.1, gamma=0,\n",
       "             gpu_id=-1, importance_type='gain', interaction_constraints='',\n",
       "             learning_rate=0.100000001, max_delta_step=0, max_depth=6,\n",
       "             min_child_weight=1, missing=nan, monotone_constraints='()',\n",
       "             n_estimators=100, n_jobs=0, num_parallel_tree=1, random_state=0,\n",
       "             reg_alpha=0, reg_lambda=1, scale_pos_weight=1, subsample=1,\n",
       "             tree_method='exact', validate_parameters=1, verbosity=None)"
      ]
     },
     "execution_count": 31,
     "metadata": {},
     "output_type": "execute_result"
    }
   ],
   "source": [
    "best_model.fit(X_train,y_train)"
   ]
  },
  {
   "cell_type": "code",
   "execution_count": 32,
   "id": "studied-prevention",
   "metadata": {},
   "outputs": [
    {
     "data": {
      "text/plain": [
       "0.9803965808797281"
      ]
     },
     "execution_count": 32,
     "metadata": {},
     "output_type": "execute_result"
    }
   ],
   "source": [
    "best_model.score(X_train,y_train)"
   ]
  },
  {
   "cell_type": "code",
   "execution_count": 33,
   "id": "homeless-communications",
   "metadata": {},
   "outputs": [
    {
     "data": {
      "text/plain": [
       "0.6432872802902958"
      ]
     },
     "execution_count": 33,
     "metadata": {},
     "output_type": "execute_result"
    }
   ],
   "source": [
    "best_model.score(X_test,y_test)"
   ]
  },
  {
   "cell_type": "code",
   "execution_count": 34,
   "id": "separate-sterling",
   "metadata": {},
   "outputs": [
    {
     "data": {
      "text/plain": [
       "0.4670062304606598"
      ]
     },
     "execution_count": 34,
     "metadata": {},
     "output_type": "execute_result"
    }
   ],
   "source": [
    "best_model.score(X_,y_)"
   ]
  },
  {
   "cell_type": "code",
   "execution_count": 35,
   "id": "prepared-suspension",
   "metadata": {},
   "outputs": [
    {
     "data": {
      "text/html": [
       "<div>\n",
       "<style scoped>\n",
       "    .dataframe tbody tr th:only-of-type {\n",
       "        vertical-align: middle;\n",
       "    }\n",
       "\n",
       "    .dataframe tbody tr th {\n",
       "        vertical-align: top;\n",
       "    }\n",
       "\n",
       "    .dataframe thead th {\n",
       "        text-align: right;\n",
       "    }\n",
       "</style>\n",
       "<table border=\"1\" class=\"dataframe\">\n",
       "  <thead>\n",
       "    <tr style=\"text-align: right;\">\n",
       "      <th></th>\n",
       "      <th>f1</th>\n",
       "      <th>f2</th>\n",
       "      <th>f3</th>\n",
       "      <th>f4</th>\n",
       "      <th>year</th>\n",
       "      <th>month_cos</th>\n",
       "      <th>quarter_sin</th>\n",
       "    </tr>\n",
       "  </thead>\n",
       "  <tbody>\n",
       "    <tr>\n",
       "      <th>600</th>\n",
       "      <td>8.641438e+06</td>\n",
       "      <td>2.325629e+06</td>\n",
       "      <td>3.439976</td>\n",
       "      <td>15.624170</td>\n",
       "      <td>1</td>\n",
       "      <td>1.000000</td>\n",
       "      <td>-2.449294e-16</td>\n",
       "    </tr>\n",
       "    <tr>\n",
       "      <th>601</th>\n",
       "      <td>7.790484e+06</td>\n",
       "      <td>2.255753e+06</td>\n",
       "      <td>3.171302</td>\n",
       "      <td>15.264951</td>\n",
       "      <td>1</td>\n",
       "      <td>1.000000</td>\n",
       "      <td>-2.449294e-16</td>\n",
       "    </tr>\n",
       "    <tr>\n",
       "      <th>602</th>\n",
       "      <td>5.657075e+06</td>\n",
       "      <td>1.776562e+06</td>\n",
       "      <td>2.380652</td>\n",
       "      <td>14.701497</td>\n",
       "      <td>1</td>\n",
       "      <td>1.000000</td>\n",
       "      <td>-2.449294e-16</td>\n",
       "    </tr>\n",
       "    <tr>\n",
       "      <th>603</th>\n",
       "      <td>1.076714e+07</td>\n",
       "      <td>7.114696e+06</td>\n",
       "      <td>2.189750</td>\n",
       "      <td>14.269537</td>\n",
       "      <td>1</td>\n",
       "      <td>1.000000</td>\n",
       "      <td>-2.449294e-16</td>\n",
       "    </tr>\n",
       "    <tr>\n",
       "      <th>604</th>\n",
       "      <td>1.135843e+07</td>\n",
       "      <td>5.079207e+06</td>\n",
       "      <td>3.989318</td>\n",
       "      <td>14.754715</td>\n",
       "      <td>1</td>\n",
       "      <td>1.000000</td>\n",
       "      <td>-2.449294e-16</td>\n",
       "    </tr>\n",
       "    <tr>\n",
       "      <th>...</th>\n",
       "      <td>...</td>\n",
       "      <td>...</td>\n",
       "      <td>...</td>\n",
       "      <td>...</td>\n",
       "      <td>...</td>\n",
       "      <td>...</td>\n",
       "      <td>...</td>\n",
       "    </tr>\n",
       "    <tr>\n",
       "      <th>721</th>\n",
       "      <td>4.664200e+07</td>\n",
       "      <td>1.156030e+07</td>\n",
       "      <td>3.674692</td>\n",
       "      <td>15.884686</td>\n",
       "      <td>2</td>\n",
       "      <td>-0.500000</td>\n",
       "      <td>1.224647e-16</td>\n",
       "    </tr>\n",
       "    <tr>\n",
       "      <th>722</th>\n",
       "      <td>2.012236e+07</td>\n",
       "      <td>8.883276e+06</td>\n",
       "      <td>4.301227</td>\n",
       "      <td>15.220505</td>\n",
       "      <td>2</td>\n",
       "      <td>-0.866025</td>\n",
       "      <td>1.224647e-16</td>\n",
       "    </tr>\n",
       "    <tr>\n",
       "      <th>723</th>\n",
       "      <td>4.660128e+07</td>\n",
       "      <td>9.995096e+06</td>\n",
       "      <td>3.077142</td>\n",
       "      <td>15.356453</td>\n",
       "      <td>2</td>\n",
       "      <td>-0.866025</td>\n",
       "      <td>1.224647e-16</td>\n",
       "    </tr>\n",
       "    <tr>\n",
       "      <th>724</th>\n",
       "      <td>1.225508e+07</td>\n",
       "      <td>4.909352e+06</td>\n",
       "      <td>1.780052</td>\n",
       "      <td>15.004197</td>\n",
       "      <td>2</td>\n",
       "      <td>-0.866025</td>\n",
       "      <td>1.224647e-16</td>\n",
       "    </tr>\n",
       "    <tr>\n",
       "      <th>725</th>\n",
       "      <td>3.534843e+07</td>\n",
       "      <td>8.335726e+06</td>\n",
       "      <td>2.627056</td>\n",
       "      <td>15.017479</td>\n",
       "      <td>2</td>\n",
       "      <td>-0.866025</td>\n",
       "      <td>1.224647e-16</td>\n",
       "    </tr>\n",
       "  </tbody>\n",
       "</table>\n",
       "<p>126 rows × 7 columns</p>\n",
       "</div>"
      ],
      "text/plain": [
       "               f1            f2        f3         f4  year  month_cos  \\\n",
       "600  8.641438e+06  2.325629e+06  3.439976  15.624170     1   1.000000   \n",
       "601  7.790484e+06  2.255753e+06  3.171302  15.264951     1   1.000000   \n",
       "602  5.657075e+06  1.776562e+06  2.380652  14.701497     1   1.000000   \n",
       "603  1.076714e+07  7.114696e+06  2.189750  14.269537     1   1.000000   \n",
       "604  1.135843e+07  5.079207e+06  3.989318  14.754715     1   1.000000   \n",
       "..            ...           ...       ...        ...   ...        ...   \n",
       "721  4.664200e+07  1.156030e+07  3.674692  15.884686     2  -0.500000   \n",
       "722  2.012236e+07  8.883276e+06  4.301227  15.220505     2  -0.866025   \n",
       "723  4.660128e+07  9.995096e+06  3.077142  15.356453     2  -0.866025   \n",
       "724  1.225508e+07  4.909352e+06  1.780052  15.004197     2  -0.866025   \n",
       "725  3.534843e+07  8.335726e+06  2.627056  15.017479     2  -0.866025   \n",
       "\n",
       "      quarter_sin  \n",
       "600 -2.449294e-16  \n",
       "601 -2.449294e-16  \n",
       "602 -2.449294e-16  \n",
       "603 -2.449294e-16  \n",
       "604 -2.449294e-16  \n",
       "..            ...  \n",
       "721  1.224647e-16  \n",
       "722  1.224647e-16  \n",
       "723  1.224647e-16  \n",
       "724  1.224647e-16  \n",
       "725  1.224647e-16  \n",
       "\n",
       "[126 rows x 7 columns]"
      ]
     },
     "execution_count": 35,
     "metadata": {},
     "output_type": "execute_result"
    }
   ],
   "source": [
    "X_"
   ]
  },
  {
   "cell_type": "code",
   "execution_count": 36,
   "id": "major-elimination",
   "metadata": {},
   "outputs": [],
   "source": [
    "y_pred_1=best_model.predict(X_)"
   ]
  },
  {
   "cell_type": "code",
   "execution_count": 37,
   "id": "sensitive-uniform",
   "metadata": {},
   "outputs": [],
   "source": [
    "comp_2=pd.DataFrame({'Actual':y_,'Predicted':y_pred_1})"
   ]
  },
  {
   "cell_type": "code",
   "execution_count": 38,
   "id": "opposite-lexington",
   "metadata": {},
   "outputs": [
    {
     "data": {
      "text/plain": [
       "<AxesSubplot:>"
      ]
     },
     "execution_count": 38,
     "metadata": {},
     "output_type": "execute_result"
    },
    {
     "data": {
      "image/png": "[encoded data removed]",
      "text/plain": [
       "<Figure size 432x288 with 1 Axes>"
      ]
     },
     "metadata": {
      "needs_background": "light"
     },
     "output_type": "display_data"
    }
   ],
   "source": [
    "comp_2.plot()"
   ]
  },
  {
   "cell_type": "code",
   "execution_count": 39,
   "id": "stunning-withdrawal",
   "metadata": {},
   "outputs": [
    {
     "name": "stdout",
     "output_type": "stream",
     "text": [
      "MAE: 29834.026964944504\n",
      "RMSE: 41422.6275355331\n"
     ]
    }
   ],
   "source": [
    "from sklearn import metrics\n",
    "\n",
    "print('MAE:', metrics.mean_absolute_error(y_, y_pred_1))\n",
    "print('RMSE:', np.sqrt(metrics.mean_squared_error(y_,y_pred_1)))"
   ]
  },
  {
   "cell_type": "code",
   "execution_count": null,
   "id": "three-slovakia",
   "metadata": {},
   "outputs": [],
   "source": []
  },
  {
   "cell_type": "code",
   "execution_count": null,
   "id": "defined-equation",
   "metadata": {},
   "outputs": [],
   "source": []
  }
 ],
 "metadata": {
  "kernelspec": {
   "display_name": "Python 3",
   "language": "python",
   "name": "python3"
  },
  "language_info": {
   "codemirror_mode": {
    "name": "ipython",
    "version": 3
   },
   "file_extension": ".py",
   "mimetype": "text/x-python",
   "name": "python",
   "nbconvert_exporter": "python",
   "pygments_lexer": "ipython3",
   "version": "3.7.3"
  }
 },
 "nbformat": 4,
 "nbformat_minor": 5
}
