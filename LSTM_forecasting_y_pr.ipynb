{
 "cells": [
  {
   "cell_type": "code",
   "execution_count": 1,
   "metadata": {
    "id": "_7byBlN2FcwD"
   },
   "outputs": [],
   "source": [
    "import numpy as np\n",
    "import pandas as pd\n",
    "from keras.models import Sequential\n",
    "from keras.layers import LSTM\n",
    "from keras.layers import Dense\n",
    "import matplotlib.pyplot as plt\n",
    "from sklearn.preprocessing import MinMaxScaler,StandardScaler\n",
    "import seaborn as sns\n",
    "\n"
   ]
  },
  {
   "cell_type": "code",
   "execution_count": 2,
   "metadata": {
    "id": "kDw-lOiuGIDk"
   },
   "outputs": [],
   "source": [
    "df1=pd.read_excel('/content/combine_19_20_21_sale.xlsx')"
   ]
  },
  {
   "cell_type": "code",
   "execution_count": 2,
   "metadata": {
    "id": "O5LGAiO0GJIG"
   },
   "outputs": [],
   "source": []
  },
  {
   "cell_type": "code",
   "execution_count": 3,
   "metadata": {
    "colab": {
     "base_uri": "https://localhost:8080/",
     "height": 204
    },
    "id": "r4U9vSvOEMVd",
    "outputId": "a64aea1c-69ce-40e2-a873-83e45ec7b03a"
   },
   "outputs": [
    {
     "data": {
      "text/html": [
       "<div>\n",
       "<style scoped>\n",
       "    .dataframe tbody tr th:only-of-type {\n",
       "        vertical-align: middle;\n",
       "    }\n",
       "\n",
       "    .dataframe tbody tr th {\n",
       "        vertical-align: top;\n",
       "    }\n",
       "\n",
       "    .dataframe thead th {\n",
       "        text-align: right;\n",
       "    }\n",
       "</style>\n",
       "<table border=\"1\" class=\"dataframe\">\n",
       "  <thead>\n",
       "    <tr style=\"text-align: right;\">\n",
       "      <th></th>\n",
       "      <th>Unnamed: 0</th>\n",
       "      <th>Created Date</th>\n",
       "      <th>TMAX</th>\n",
       "      <th>Completed_Jobs</th>\n",
       "      <th>tech_count</th>\n",
       "      <th>Avg_Sales</th>\n",
       "      <th>Zip_income</th>\n",
       "      <th>Income</th>\n",
       "    </tr>\n",
       "  </thead>\n",
       "  <tbody>\n",
       "    <tr>\n",
       "      <th>0</th>\n",
       "      <td>0</td>\n",
       "      <td>2019-01-03</td>\n",
       "      <td>68</td>\n",
       "      <td>90</td>\n",
       "      <td>42</td>\n",
       "      <td>6583.000000</td>\n",
       "      <td>100885.000000</td>\n",
       "      <td>100885.0</td>\n",
       "    </tr>\n",
       "    <tr>\n",
       "      <th>1</th>\n",
       "      <td>1</td>\n",
       "      <td>2019-01-04</td>\n",
       "      <td>69</td>\n",
       "      <td>85</td>\n",
       "      <td>46</td>\n",
       "      <td>6542.500000</td>\n",
       "      <td>112823.177778</td>\n",
       "      <td>25694.2</td>\n",
       "    </tr>\n",
       "    <tr>\n",
       "      <th>2</th>\n",
       "      <td>2</td>\n",
       "      <td>2019-01-05</td>\n",
       "      <td>53</td>\n",
       "      <td>82</td>\n",
       "      <td>22</td>\n",
       "      <td>11057.800000</td>\n",
       "      <td>92705.000000</td>\n",
       "      <td>92705.0</td>\n",
       "    </tr>\n",
       "    <tr>\n",
       "      <th>3</th>\n",
       "      <td>3</td>\n",
       "      <td>2019-01-06</td>\n",
       "      <td>58</td>\n",
       "      <td>16</td>\n",
       "      <td>12</td>\n",
       "      <td>5815.000000</td>\n",
       "      <td>41483.776667</td>\n",
       "      <td>14062.0</td>\n",
       "    </tr>\n",
       "    <tr>\n",
       "      <th>4</th>\n",
       "      <td>4</td>\n",
       "      <td>2019-01-07</td>\n",
       "      <td>60</td>\n",
       "      <td>89</td>\n",
       "      <td>63</td>\n",
       "      <td>7918.583333</td>\n",
       "      <td>108119.473333</td>\n",
       "      <td>109814.0</td>\n",
       "    </tr>\n",
       "  </tbody>\n",
       "</table>\n",
       "</div>"
      ],
      "text/plain": [
       "   Unnamed: 0 Created Date  TMAX  ...     Avg_Sales     Zip_income    Income\n",
       "0           0   2019-01-03    68  ...   6583.000000  100885.000000  100885.0\n",
       "1           1   2019-01-04    69  ...   6542.500000  112823.177778   25694.2\n",
       "2           2   2019-01-05    53  ...  11057.800000   92705.000000   92705.0\n",
       "3           3   2019-01-06    58  ...   5815.000000   41483.776667   14062.0\n",
       "4           4   2019-01-07    60  ...   7918.583333  108119.473333  109814.0\n",
       "\n",
       "[5 rows x 8 columns]"
      ]
     },
     "execution_count": 3,
     "metadata": {
      "tags": []
     },
     "output_type": "execute_result"
    }
   ],
   "source": [
    "df1.head()"
   ]
  },
  {
   "cell_type": "code",
   "execution_count": 4,
   "metadata": {
    "id": "mlRcmMDcTsXD"
   },
   "outputs": [],
   "source": [
    "df1=df1.drop(['Unnamed: 0','Zip_income','Avg_Sales'],axis=1)"
   ]
  },
  {
   "cell_type": "code",
   "execution_count": 4,
   "metadata": {
    "id": "bVeKRlHcTyeY"
   },
   "outputs": [],
   "source": []
  },
  {
   "cell_type": "code",
   "execution_count": 4,
   "metadata": {
    "id": "7AvSUv5FT6GB"
   },
   "outputs": [],
   "source": []
  },
  {
   "cell_type": "code",
   "execution_count": 4,
   "metadata": {
    "id": "toZNMD4-GTim"
   },
   "outputs": [],
   "source": []
  },
  {
   "cell_type": "code",
   "execution_count": 5,
   "metadata": {
    "colab": {
     "base_uri": "https://localhost:8080/",
     "height": 419
    },
    "id": "I69hCZjRGfEq",
    "outputId": "ba1b89dc-3526-4bf1-aabd-adcae1090420"
   },
   "outputs": [
    {
     "data": {
      "text/html": [
       "<div>\n",
       "<style scoped>\n",
       "    .dataframe tbody tr th:only-of-type {\n",
       "        vertical-align: middle;\n",
       "    }\n",
       "\n",
       "    .dataframe tbody tr th {\n",
       "        vertical-align: top;\n",
       "    }\n",
       "\n",
       "    .dataframe thead th {\n",
       "        text-align: right;\n",
       "    }\n",
       "</style>\n",
       "<table border=\"1\" class=\"dataframe\">\n",
       "  <thead>\n",
       "    <tr style=\"text-align: right;\">\n",
       "      <th></th>\n",
       "      <th>Created Date</th>\n",
       "      <th>TMAX</th>\n",
       "      <th>Completed_Jobs</th>\n",
       "      <th>tech_count</th>\n",
       "      <th>Income</th>\n",
       "    </tr>\n",
       "  </thead>\n",
       "  <tbody>\n",
       "    <tr>\n",
       "      <th>0</th>\n",
       "      <td>2019-01-03</td>\n",
       "      <td>68</td>\n",
       "      <td>90</td>\n",
       "      <td>42</td>\n",
       "      <td>100885.00</td>\n",
       "    </tr>\n",
       "    <tr>\n",
       "      <th>1</th>\n",
       "      <td>2019-01-04</td>\n",
       "      <td>69</td>\n",
       "      <td>85</td>\n",
       "      <td>46</td>\n",
       "      <td>25694.20</td>\n",
       "    </tr>\n",
       "    <tr>\n",
       "      <th>2</th>\n",
       "      <td>2019-01-05</td>\n",
       "      <td>53</td>\n",
       "      <td>82</td>\n",
       "      <td>22</td>\n",
       "      <td>92705.00</td>\n",
       "    </tr>\n",
       "    <tr>\n",
       "      <th>3</th>\n",
       "      <td>2019-01-06</td>\n",
       "      <td>58</td>\n",
       "      <td>16</td>\n",
       "      <td>12</td>\n",
       "      <td>14062.00</td>\n",
       "    </tr>\n",
       "    <tr>\n",
       "      <th>4</th>\n",
       "      <td>2019-01-07</td>\n",
       "      <td>60</td>\n",
       "      <td>89</td>\n",
       "      <td>63</td>\n",
       "      <td>109814.00</td>\n",
       "    </tr>\n",
       "    <tr>\n",
       "      <th>...</th>\n",
       "      <td>...</td>\n",
       "      <td>...</td>\n",
       "      <td>...</td>\n",
       "      <td>...</td>\n",
       "      <td>...</td>\n",
       "    </tr>\n",
       "    <tr>\n",
       "      <th>721</th>\n",
       "      <td>2021-04-30</td>\n",
       "      <td>81</td>\n",
       "      <td>222</td>\n",
       "      <td>126</td>\n",
       "      <td>210099.11</td>\n",
       "    </tr>\n",
       "    <tr>\n",
       "      <th>722</th>\n",
       "      <td>2021-05-01</td>\n",
       "      <td>68</td>\n",
       "      <td>168</td>\n",
       "      <td>75</td>\n",
       "      <td>119775.95</td>\n",
       "    </tr>\n",
       "    <tr>\n",
       "      <th>723</th>\n",
       "      <td>2021-05-05</td>\n",
       "      <td>69</td>\n",
       "      <td>202</td>\n",
       "      <td>124</td>\n",
       "      <td>230699.43</td>\n",
       "    </tr>\n",
       "    <tr>\n",
       "      <th>724</th>\n",
       "      <td>2021-05-08</td>\n",
       "      <td>68</td>\n",
       "      <td>109</td>\n",
       "      <td>75</td>\n",
       "      <td>112431.95</td>\n",
       "    </tr>\n",
       "    <tr>\n",
       "      <th>725</th>\n",
       "      <td>2021-05-13</td>\n",
       "      <td>63</td>\n",
       "      <td>177</td>\n",
       "      <td>114</td>\n",
       "      <td>199708.63</td>\n",
       "    </tr>\n",
       "  </tbody>\n",
       "</table>\n",
       "<p>726 rows × 5 columns</p>\n",
       "</div>"
      ],
      "text/plain": [
       "    Created Date  TMAX  Completed_Jobs  tech_count     Income\n",
       "0     2019-01-03    68              90          42  100885.00\n",
       "1     2019-01-04    69              85          46   25694.20\n",
       "2     2019-01-05    53              82          22   92705.00\n",
       "3     2019-01-06    58              16          12   14062.00\n",
       "4     2019-01-07    60              89          63  109814.00\n",
       "..           ...   ...             ...         ...        ...\n",
       "721   2021-04-30    81             222         126  210099.11\n",
       "722   2021-05-01    68             168          75  119775.95\n",
       "723   2021-05-05    69             202         124  230699.43\n",
       "724   2021-05-08    68             109          75  112431.95\n",
       "725   2021-05-13    63             177         114  199708.63\n",
       "\n",
       "[726 rows x 5 columns]"
      ]
     },
     "execution_count": 5,
     "metadata": {
      "tags": []
     },
     "output_type": "execute_result"
    }
   ],
   "source": [
    "df1"
   ]
  },
  {
   "cell_type": "code",
   "execution_count": 5,
   "metadata": {
    "id": "AVdTFwcWzL3P"
   },
   "outputs": [],
   "source": []
  },
  {
   "cell_type": "code",
   "execution_count": 6,
   "metadata": {
    "id": "t_uQ4Or8zY1q"
   },
   "outputs": [],
   "source": [
    "df1=df1.drop_duplicates(ignore_index=True)"
   ]
  },
  {
   "cell_type": "code",
   "execution_count": 7,
   "metadata": {
    "colab": {
     "base_uri": "https://localhost:8080/"
    },
    "id": "T-Vvt5VOGgNE",
    "outputId": "6a30031f-aec3-4edc-f9c8-4b5dd7ed4ea8"
   },
   "outputs": [
    {
     "data": {
      "text/plain": [
       "Created Date      datetime64[ns]\n",
       "TMAX                       int64\n",
       "Completed_Jobs             int64\n",
       "tech_count                 int64\n",
       "Income                   float64\n",
       "dtype: object"
      ]
     },
     "execution_count": 7,
     "metadata": {
      "tags": []
     },
     "output_type": "execute_result"
    }
   ],
   "source": [
    "df1.dtypes"
   ]
  },
  {
   "cell_type": "code",
   "execution_count": 8,
   "metadata": {
    "id": "c2YpWdHGGmoK"
   },
   "outputs": [],
   "source": [
    "train_dates=pd.to_datetime(df1['Created Date'])"
   ]
  },
  {
   "cell_type": "code",
   "execution_count": 9,
   "metadata": {
    "colab": {
     "base_uri": "https://localhost:8080/",
     "height": 419
    },
    "id": "Kri7jGUNVzpf",
    "outputId": "eecec42c-c1a7-409b-d3c2-0515634329d3"
   },
   "outputs": [
    {
     "data": {
      "text/html": [
       "<div>\n",
       "<style scoped>\n",
       "    .dataframe tbody tr th:only-of-type {\n",
       "        vertical-align: middle;\n",
       "    }\n",
       "\n",
       "    .dataframe tbody tr th {\n",
       "        vertical-align: top;\n",
       "    }\n",
       "\n",
       "    .dataframe thead th {\n",
       "        text-align: right;\n",
       "    }\n",
       "</style>\n",
       "<table border=\"1\" class=\"dataframe\">\n",
       "  <thead>\n",
       "    <tr style=\"text-align: right;\">\n",
       "      <th></th>\n",
       "      <th>Created Date</th>\n",
       "      <th>TMAX</th>\n",
       "      <th>Completed_Jobs</th>\n",
       "      <th>tech_count</th>\n",
       "      <th>Income</th>\n",
       "    </tr>\n",
       "  </thead>\n",
       "  <tbody>\n",
       "    <tr>\n",
       "      <th>0</th>\n",
       "      <td>2019-01-03</td>\n",
       "      <td>68</td>\n",
       "      <td>90</td>\n",
       "      <td>42</td>\n",
       "      <td>100885.00</td>\n",
       "    </tr>\n",
       "    <tr>\n",
       "      <th>1</th>\n",
       "      <td>2019-01-04</td>\n",
       "      <td>69</td>\n",
       "      <td>85</td>\n",
       "      <td>46</td>\n",
       "      <td>25694.20</td>\n",
       "    </tr>\n",
       "    <tr>\n",
       "      <th>2</th>\n",
       "      <td>2019-01-05</td>\n",
       "      <td>53</td>\n",
       "      <td>82</td>\n",
       "      <td>22</td>\n",
       "      <td>92705.00</td>\n",
       "    </tr>\n",
       "    <tr>\n",
       "      <th>3</th>\n",
       "      <td>2019-01-06</td>\n",
       "      <td>58</td>\n",
       "      <td>16</td>\n",
       "      <td>12</td>\n",
       "      <td>14062.00</td>\n",
       "    </tr>\n",
       "    <tr>\n",
       "      <th>4</th>\n",
       "      <td>2019-01-07</td>\n",
       "      <td>60</td>\n",
       "      <td>89</td>\n",
       "      <td>63</td>\n",
       "      <td>109814.00</td>\n",
       "    </tr>\n",
       "    <tr>\n",
       "      <th>...</th>\n",
       "      <td>...</td>\n",
       "      <td>...</td>\n",
       "      <td>...</td>\n",
       "      <td>...</td>\n",
       "      <td>...</td>\n",
       "    </tr>\n",
       "    <tr>\n",
       "      <th>719</th>\n",
       "      <td>2021-04-30</td>\n",
       "      <td>81</td>\n",
       "      <td>222</td>\n",
       "      <td>126</td>\n",
       "      <td>210099.11</td>\n",
       "    </tr>\n",
       "    <tr>\n",
       "      <th>720</th>\n",
       "      <td>2021-05-01</td>\n",
       "      <td>68</td>\n",
       "      <td>168</td>\n",
       "      <td>75</td>\n",
       "      <td>119775.95</td>\n",
       "    </tr>\n",
       "    <tr>\n",
       "      <th>721</th>\n",
       "      <td>2021-05-05</td>\n",
       "      <td>69</td>\n",
       "      <td>202</td>\n",
       "      <td>124</td>\n",
       "      <td>230699.43</td>\n",
       "    </tr>\n",
       "    <tr>\n",
       "      <th>722</th>\n",
       "      <td>2021-05-08</td>\n",
       "      <td>68</td>\n",
       "      <td>109</td>\n",
       "      <td>75</td>\n",
       "      <td>112431.95</td>\n",
       "    </tr>\n",
       "    <tr>\n",
       "      <th>723</th>\n",
       "      <td>2021-05-13</td>\n",
       "      <td>63</td>\n",
       "      <td>177</td>\n",
       "      <td>114</td>\n",
       "      <td>199708.63</td>\n",
       "    </tr>\n",
       "  </tbody>\n",
       "</table>\n",
       "<p>724 rows × 5 columns</p>\n",
       "</div>"
      ],
      "text/plain": [
       "    Created Date  TMAX  Completed_Jobs  tech_count     Income\n",
       "0     2019-01-03    68              90          42  100885.00\n",
       "1     2019-01-04    69              85          46   25694.20\n",
       "2     2019-01-05    53              82          22   92705.00\n",
       "3     2019-01-06    58              16          12   14062.00\n",
       "4     2019-01-07    60              89          63  109814.00\n",
       "..           ...   ...             ...         ...        ...\n",
       "719   2021-04-30    81             222         126  210099.11\n",
       "720   2021-05-01    68             168          75  119775.95\n",
       "721   2021-05-05    69             202         124  230699.43\n",
       "722   2021-05-08    68             109          75  112431.95\n",
       "723   2021-05-13    63             177         114  199708.63\n",
       "\n",
       "[724 rows x 5 columns]"
      ]
     },
     "execution_count": 9,
     "metadata": {
      "tags": []
     },
     "output_type": "execute_result"
    }
   ],
   "source": [
    "df1"
   ]
  },
  {
   "cell_type": "code",
   "execution_count": 10,
   "metadata": {
    "id": "7SJgLA5Tf7Zf"
   },
   "outputs": [],
   "source": [
    "df1=df1.drop_duplicates(ignore_index=True)"
   ]
  },
  {
   "cell_type": "code",
   "execution_count": 10,
   "metadata": {
    "id": "wo6c4D7UGyms"
   },
   "outputs": [],
   "source": [
    "\n"
   ]
  },
  {
   "cell_type": "code",
   "execution_count": 10,
   "metadata": {
    "id": "lst6YKfkV6oD"
   },
   "outputs": [],
   "source": [
    "\n"
   ]
  },
  {
   "cell_type": "code",
   "execution_count": 11,
   "metadata": {
    "id": "QwkYIfYvHK_I"
   },
   "outputs": [],
   "source": [
    "cols=list(df1)[1:5]\n"
   ]
  },
  {
   "cell_type": "code",
   "execution_count": 12,
   "metadata": {
    "colab": {
     "base_uri": "https://localhost:8080/"
    },
    "id": "J5UVFewN3SYl",
    "outputId": "13923cb8-9d67-43ff-d291-311c96747b37"
   },
   "outputs": [
    {
     "data": {
      "text/plain": [
       "['TMAX', 'Completed_Jobs', 'tech_count', 'Income']"
      ]
     },
     "execution_count": 12,
     "metadata": {
      "tags": []
     },
     "output_type": "execute_result"
    }
   ],
   "source": [
    "list(df1)[1:5]"
   ]
  },
  {
   "cell_type": "code",
   "execution_count": 13,
   "metadata": {
    "id": "cROfiYEDG-K4"
   },
   "outputs": [],
   "source": [
    "df_for_training=df1[cols].astype(float)"
   ]
  },
  {
   "cell_type": "code",
   "execution_count": 14,
   "metadata": {
    "colab": {
     "base_uri": "https://localhost:8080/",
     "height": 419
    },
    "id": "4d7XbP3dUuUi",
    "outputId": "b2b02a98-e2a8-4f5f-b5fc-a820d5581c13"
   },
   "outputs": [
    {
     "data": {
      "text/html": [
       "<div>\n",
       "<style scoped>\n",
       "    .dataframe tbody tr th:only-of-type {\n",
       "        vertical-align: middle;\n",
       "    }\n",
       "\n",
       "    .dataframe tbody tr th {\n",
       "        vertical-align: top;\n",
       "    }\n",
       "\n",
       "    .dataframe thead th {\n",
       "        text-align: right;\n",
       "    }\n",
       "</style>\n",
       "<table border=\"1\" class=\"dataframe\">\n",
       "  <thead>\n",
       "    <tr style=\"text-align: right;\">\n",
       "      <th></th>\n",
       "      <th>TMAX</th>\n",
       "      <th>Completed_Jobs</th>\n",
       "      <th>tech_count</th>\n",
       "      <th>Income</th>\n",
       "    </tr>\n",
       "  </thead>\n",
       "  <tbody>\n",
       "    <tr>\n",
       "      <th>0</th>\n",
       "      <td>68.0</td>\n",
       "      <td>90.0</td>\n",
       "      <td>42.0</td>\n",
       "      <td>100885.00</td>\n",
       "    </tr>\n",
       "    <tr>\n",
       "      <th>1</th>\n",
       "      <td>69.0</td>\n",
       "      <td>85.0</td>\n",
       "      <td>46.0</td>\n",
       "      <td>25694.20</td>\n",
       "    </tr>\n",
       "    <tr>\n",
       "      <th>2</th>\n",
       "      <td>53.0</td>\n",
       "      <td>82.0</td>\n",
       "      <td>22.0</td>\n",
       "      <td>92705.00</td>\n",
       "    </tr>\n",
       "    <tr>\n",
       "      <th>3</th>\n",
       "      <td>58.0</td>\n",
       "      <td>16.0</td>\n",
       "      <td>12.0</td>\n",
       "      <td>14062.00</td>\n",
       "    </tr>\n",
       "    <tr>\n",
       "      <th>4</th>\n",
       "      <td>60.0</td>\n",
       "      <td>89.0</td>\n",
       "      <td>63.0</td>\n",
       "      <td>109814.00</td>\n",
       "    </tr>\n",
       "    <tr>\n",
       "      <th>...</th>\n",
       "      <td>...</td>\n",
       "      <td>...</td>\n",
       "      <td>...</td>\n",
       "      <td>...</td>\n",
       "    </tr>\n",
       "    <tr>\n",
       "      <th>719</th>\n",
       "      <td>81.0</td>\n",
       "      <td>222.0</td>\n",
       "      <td>126.0</td>\n",
       "      <td>210099.11</td>\n",
       "    </tr>\n",
       "    <tr>\n",
       "      <th>720</th>\n",
       "      <td>68.0</td>\n",
       "      <td>168.0</td>\n",
       "      <td>75.0</td>\n",
       "      <td>119775.95</td>\n",
       "    </tr>\n",
       "    <tr>\n",
       "      <th>721</th>\n",
       "      <td>69.0</td>\n",
       "      <td>202.0</td>\n",
       "      <td>124.0</td>\n",
       "      <td>230699.43</td>\n",
       "    </tr>\n",
       "    <tr>\n",
       "      <th>722</th>\n",
       "      <td>68.0</td>\n",
       "      <td>109.0</td>\n",
       "      <td>75.0</td>\n",
       "      <td>112431.95</td>\n",
       "    </tr>\n",
       "    <tr>\n",
       "      <th>723</th>\n",
       "      <td>63.0</td>\n",
       "      <td>177.0</td>\n",
       "      <td>114.0</td>\n",
       "      <td>199708.63</td>\n",
       "    </tr>\n",
       "  </tbody>\n",
       "</table>\n",
       "<p>724 rows × 4 columns</p>\n",
       "</div>"
      ],
      "text/plain": [
       "     TMAX  Completed_Jobs  tech_count     Income\n",
       "0    68.0            90.0        42.0  100885.00\n",
       "1    69.0            85.0        46.0   25694.20\n",
       "2    53.0            82.0        22.0   92705.00\n",
       "3    58.0            16.0        12.0   14062.00\n",
       "4    60.0            89.0        63.0  109814.00\n",
       "..    ...             ...         ...        ...\n",
       "719  81.0           222.0       126.0  210099.11\n",
       "720  68.0           168.0        75.0  119775.95\n",
       "721  69.0           202.0       124.0  230699.43\n",
       "722  68.0           109.0        75.0  112431.95\n",
       "723  63.0           177.0       114.0  199708.63\n",
       "\n",
       "[724 rows x 4 columns]"
      ]
     },
     "execution_count": 14,
     "metadata": {
      "tags": []
     },
     "output_type": "execute_result"
    }
   ],
   "source": [
    "df_for_training"
   ]
  },
  {
   "cell_type": "code",
   "execution_count": 15,
   "metadata": {
    "id": "9KAiWuZJHIYO"
   },
   "outputs": [],
   "source": [
    "scaler=MinMaxScaler()\n",
    "scaler=scaler.fit(df_for_training)\n",
    "df_for_training_scaled=scaler.transform(df_for_training)"
   ]
  },
  {
   "cell_type": "code",
   "execution_count": 16,
   "metadata": {
    "colab": {
     "base_uri": "https://localhost:8080/"
    },
    "id": "fqLAOQ9tT9QH",
    "outputId": "462a455a-0c18-4109-c654-11aad7238f2a"
   },
   "outputs": [
    {
     "data": {
      "text/plain": [
       "(724, 4)"
      ]
     },
     "execution_count": 16,
     "metadata": {
      "tags": []
     },
     "output_type": "execute_result"
    }
   ],
   "source": [
    "df_for_training.shape"
   ]
  },
  {
   "cell_type": "code",
   "execution_count": 17,
   "metadata": {
    "colab": {
     "base_uri": "https://localhost:8080/"
    },
    "id": "Lhc5wdRaUWWM",
    "outputId": "dd0b731f-d5ce-4883-d867-2258de043f1b"
   },
   "outputs": [
    {
     "data": {
      "text/plain": [
       "array([[0.26865672, 0.40271493, 0.328     , 0.24734885],\n",
       "       [0.28358209, 0.3800905 , 0.36      , 0.06299679],\n",
       "       [0.04477612, 0.36651584, 0.168     , 0.22729321],\n",
       "       ...,\n",
       "       [0.28358209, 0.90950226, 0.984     , 0.5656266 ],\n",
       "       [0.26865672, 0.48868778, 0.592     , 0.27565955],\n",
       "       [0.19402985, 0.79638009, 0.904     , 0.48964366]])"
      ]
     },
     "execution_count": 17,
     "metadata": {
      "tags": []
     },
     "output_type": "execute_result"
    }
   ],
   "source": [
    "df_for_training_scaled"
   ]
  },
  {
   "cell_type": "code",
   "execution_count": 18,
   "metadata": {
    "colab": {
     "base_uri": "https://localhost:8080/",
     "height": 286
    },
    "id": "T-9TO_Js89fG",
    "outputId": "e3c7e42d-5e4c-4c1e-c23b-bafdd5f42475"
   },
   "outputs": [
    {
     "data": {
      "text/plain": [
       "<matplotlib.axes._subplots.AxesSubplot at 0x7f7d34111dd0>"
      ]
     },
     "execution_count": 18,
     "metadata": {
      "tags": []
     },
     "output_type": "execute_result"
    },
    {
     "data": {
      "image/png": "[encoded data removed]",
      "text/plain": [
       "<Figure size 432x288 with 1 Axes>"
      ]
     },
     "metadata": {
      "needs_background": "light",
      "tags": []
     },
     "output_type": "display_data"
    }
   ],
   "source": [
    "df_plot=df_for_training.tail(30)\n",
    "df_plot.plot()"
   ]
  },
  {
   "cell_type": "code",
   "execution_count": 19,
   "metadata": {
    "id": "LhywSZBJjP9t"
   },
   "outputs": [],
   "source": [
    "a=df_for_training_scaled[0:600]\n",
    "b=df_for_training_scaled[600:]"
   ]
  },
  {
   "cell_type": "code",
   "execution_count": 25,
   "metadata": {
    "id": "eS4n6ogtHr5u"
   },
   "outputs": [],
   "source": [
    "trainX=[]\n",
    "trainY=[]"
   ]
  },
  {
   "cell_type": "code",
   "execution_count": 26,
   "metadata": {
    "id": "Fk6RmqunIEik"
   },
   "outputs": [],
   "source": [
    "n_future=1\n",
    "n_past=5"
   ]
  },
  {
   "cell_type": "code",
   "execution_count": 26,
   "metadata": {
    "id": "VBaD4viJ4JGQ"
   },
   "outputs": [],
   "source": []
  },
  {
   "cell_type": "code",
   "execution_count": 27,
   "metadata": {
    "colab": {
     "base_uri": "https://localhost:8080/"
    },
    "id": "gs9xcsQf4h6s",
    "outputId": "edd6a873-267b-4075-ef6a-9ad31b7063a3"
   },
   "outputs": [
    {
     "data": {
      "text/plain": [
       "4"
      ]
     },
     "execution_count": 27,
     "metadata": {
      "tags": []
     },
     "output_type": "execute_result"
    }
   ],
   "source": [
    "df_for_training.shape[1]"
   ]
  },
  {
   "cell_type": "code",
   "execution_count": 28,
   "metadata": {
    "id": "ohHp70rDIThj"
   },
   "outputs": [],
   "source": [
    "for i in range(n_past,len(a)-n_future+1):\n",
    "  trainX.append(a[i-n_past:i,0:a.shape[1]])\n",
    "  trainY.append(a[i+n_future-1:i+n_future,3])\n"
   ]
  },
  {
   "cell_type": "code",
   "execution_count": 29,
   "metadata": {
    "id": "1IINT_iZ5Mps"
   },
   "outputs": [],
   "source": [
    "testX=[]\n",
    "testY=[]"
   ]
  },
  {
   "cell_type": "code",
   "execution_count": 30,
   "metadata": {
    "id": "yvLAU6yH49BV"
   },
   "outputs": [],
   "source": [
    "for i in range(n_past,len(b)-n_future+1):\n",
    "  testX.append(b[i-n_past:i,0:b.shape[1]])\n",
    "  testY.append(b[i+n_future-1:i+n_future,3])\n",
    "\n"
   ]
  },
  {
   "cell_type": "code",
   "execution_count": 30,
   "metadata": {
    "id": "wFp3LhZ_T4Bs"
   },
   "outputs": [],
   "source": []
  },
  {
   "cell_type": "code",
   "execution_count": 31,
   "metadata": {
    "id": "JzfXz6vcJWMg"
   },
   "outputs": [],
   "source": [
    "trainX,trainY = np.array(trainX),np.array(trainY)"
   ]
  },
  {
   "cell_type": "code",
   "execution_count": 32,
   "metadata": {
    "id": "7wC9Df_Lj6fD"
   },
   "outputs": [],
   "source": [
    "testX,testY = np.array(testX),np.array(testY)"
   ]
  },
  {
   "cell_type": "code",
   "execution_count": 33,
   "metadata": {
    "colab": {
     "base_uri": "https://localhost:8080/"
    },
    "id": "cVcTwtqFJiXa",
    "outputId": "c77b7ed9-0426-4704-98f5-7b5327a31a8f"
   },
   "outputs": [
    {
     "data": {
      "text/plain": [
       "(595, 5, 4)"
      ]
     },
     "execution_count": 33,
     "metadata": {
      "tags": []
     },
     "output_type": "execute_result"
    }
   ],
   "source": [
    "trainX.shape"
   ]
  },
  {
   "cell_type": "code",
   "execution_count": 34,
   "metadata": {
    "colab": {
     "base_uri": "https://localhost:8080/"
    },
    "id": "MF4g3HUlWaW6",
    "outputId": "dfe0b9cb-acf0-4fbe-cbaf-1c80423354c7"
   },
   "outputs": [
    {
     "data": {
      "text/plain": [
       "(119, 5, 4)"
      ]
     },
     "execution_count": 34,
     "metadata": {
      "tags": []
     },
     "output_type": "execute_result"
    }
   ],
   "source": [
    "testX.shape"
   ]
  },
  {
   "cell_type": "code",
   "execution_count": null,
   "metadata": {
    "colab": {
     "base_uri": "https://localhost:8080/"
    },
    "id": "7GVN4MeIJk2g",
    "outputId": "efe93892-e3f0-4762-d010-2ee2a29dead1"
   },
   "outputs": [
    {
     "data": {
      "text/plain": [
       "(719, 1)"
      ]
     },
     "execution_count": 26,
     "metadata": {
      "tags": []
     },
     "output_type": "execute_result"
    }
   ],
   "source": [
    "trainY.shape"
   ]
  },
  {
   "cell_type": "code",
   "execution_count": null,
   "metadata": {
    "colab": {
     "base_uri": "https://localhost:8080/"
    },
    "id": "sB9RFr8qWjci",
    "outputId": "6c2dcf08-d0d2-40e0-efbe-0dd1059aea7e"
   },
   "outputs": [
    {
     "data": {
      "text/plain": [
       "array([[1.64425387e-01],\n",
       "       [1.20105847e-01],\n",
       "       [2.43668718e-01],\n",
       "       [1.17037064e-01],\n",
       "       [1.30991795e-01],\n",
       "       [1.44655622e-03],\n",
       "       [1.22471824e-01],\n",
       "       [1.64065759e-01],\n",
       "       [1.50510497e-01],\n",
       "       [3.52503685e-01],\n",
       "       [1.35721299e-01],\n",
       "       [4.86189997e-03],\n",
       "       [1.79949142e-01],\n",
       "       [1.04839775e-01],\n",
       "       [2.37303870e-01],\n",
       "       [1.39090058e-01],\n",
       "       [1.46697963e-01],\n",
       "       [2.09311782e-01],\n",
       "       [5.68815327e-04],\n",
       "       [1.58500881e-01],\n",
       "       [2.15894838e-01],\n",
       "       [1.14963830e-01],\n",
       "       [2.38146796e-01],\n",
       "       [1.84742392e-02],\n",
       "       [1.12250311e-01],\n",
       "       [1.83215785e-01],\n",
       "       [2.13850536e-01],\n",
       "       [1.79898145e-01],\n",
       "       [1.25388596e-01],\n",
       "       [1.73069419e-01],\n",
       "       [1.49976007e-01],\n",
       "       [2.08666103e-01],\n",
       "       [1.83572888e-01],\n",
       "       [2.39684559e-01],\n",
       "       [2.73632904e-01],\n",
       "       [1.84287585e-01],\n",
       "       [2.15582480e-01],\n",
       "       [2.36461313e-01],\n",
       "       [1.56391851e-01],\n",
       "       [3.10161268e-01],\n",
       "       [2.51258725e-01],\n",
       "       [1.86701372e-01],\n",
       "       [2.20780521e-01],\n",
       "       [1.40874962e-01],\n",
       "       [1.16021164e-01],\n",
       "       [1.27726011e-01],\n",
       "       [2.17812874e-01],\n",
       "       [7.75721903e-02],\n",
       "       [1.65799836e-01],\n",
       "       [1.90424023e-01],\n",
       "       [1.90249113e-01],\n",
       "       [1.16047644e-01],\n",
       "       [1.20938279e-01],\n",
       "       [2.55450501e-01],\n",
       "       [1.01732989e-01],\n",
       "       [1.50539919e-03],\n",
       "       [3.07736325e-01],\n",
       "       [2.13455797e-01],\n",
       "       [2.97149348e-01],\n",
       "       [1.73607832e-01],\n",
       "       [9.29043377e-02],\n",
       "       [9.22510582e-02],\n",
       "       [2.25223532e-01],\n",
       "       [1.25458595e-01],\n",
       "       [2.60931895e-01],\n",
       "       [2.17945516e-01],\n",
       "       [1.71570639e-01],\n",
       "       [1.13456592e-01],\n",
       "       [0.00000000e+00],\n",
       "       [2.08219999e-01],\n",
       "       [2.46555333e-01],\n",
       "       [2.85982694e-01],\n",
       "       [3.06684139e-01],\n",
       "       [1.07888576e-01],\n",
       "       [2.34248940e-01],\n",
       "       [1.33183696e-01],\n",
       "       [4.61434272e-01],\n",
       "       [3.77603151e-01],\n",
       "       [3.55804138e-01],\n",
       "       [2.59467931e-01],\n",
       "       [1.53996085e-01],\n",
       "       [1.24955610e-01],\n",
       "       [2.62955480e-01],\n",
       "       [1.42163132e-01],\n",
       "       [2.66928361e-01],\n",
       "       [2.66928361e-01],\n",
       "       [2.94102655e-01],\n",
       "       [1.71582163e-01],\n",
       "       [9.60008262e-02],\n",
       "       [1.98143877e-01],\n",
       "       [1.98143877e-01],\n",
       "       [1.99905366e-01],\n",
       "       [2.98662127e-01],\n",
       "       [1.62193277e-01],\n",
       "       [4.59348534e-01],\n",
       "       [1.28107141e-01],\n",
       "       [2.26124810e-01],\n",
       "       [2.05570472e-01],\n",
       "       [4.10487052e-01],\n",
       "       [3.33794196e-01],\n",
       "       [2.78173742e-01],\n",
       "       [1.41907656e-01],\n",
       "       [2.03152639e-01],\n",
       "       [2.43019974e-01],\n",
       "       [1.22494405e-01],\n",
       "       [1.49596470e-01],\n",
       "       [2.85748008e-01],\n",
       "       [1.35836827e-01],\n",
       "       [9.00323107e-02],\n",
       "       [0.00000000e+00],\n",
       "       [2.18174513e-01],\n",
       "       [2.19207697e-01],\n",
       "       [2.08350802e-01],\n",
       "       [1.43780137e-01],\n",
       "       [5.86536867e-02],\n",
       "       [9.50007409e-03],\n",
       "       [6.14541215e-02],\n",
       "       [1.76404613e-01],\n",
       "       [3.63514111e-01],\n",
       "       [1.19662686e-01],\n",
       "       [2.51138219e-01],\n",
       "       [9.31950955e-02],\n",
       "       [2.31941315e-01],\n",
       "       [2.12274647e-01],\n",
       "       [2.83046307e-01],\n",
       "       [2.81270255e-01],\n",
       "       [2.15508166e-01],\n",
       "       [2.65223263e-01],\n",
       "       [3.57471012e-03],\n",
       "       [1.80333338e-01],\n",
       "       [4.76972860e-01],\n",
       "       [5.38468662e-01],\n",
       "       [4.08859676e-01],\n",
       "       [5.67908165e-01],\n",
       "       [3.81646521e-01],\n",
       "       [5.38413129e-03],\n",
       "       [4.24325814e-01],\n",
       "       [3.26873160e-01],\n",
       "       [3.73977591e-01],\n",
       "       [3.07196441e-01],\n",
       "       [5.16512022e-01],\n",
       "       [1.24672061e-01],\n",
       "       [6.38000924e-01],\n",
       "       [2.85852749e-01],\n",
       "       [3.11471137e-01],\n",
       "       [2.98564300e-01],\n",
       "       [2.56625816e-01],\n",
       "       [2.65652449e-01],\n",
       "       [2.88646809e-01],\n",
       "       [3.38089120e-01],\n",
       "       [2.50050237e-01],\n",
       "       [3.82794817e-01],\n",
       "       [4.94160277e-01],\n",
       "       [3.63404957e-01],\n",
       "       [4.92433923e-01],\n",
       "       [3.26538614e-01],\n",
       "       [4.33843786e-01],\n",
       "       [1.82766249e-02],\n",
       "       [3.58084082e-01],\n",
       "       [4.49765957e-01],\n",
       "       [4.94493475e-01],\n",
       "       [3.09545623e-01],\n",
       "       [3.12937798e-01],\n",
       "       [3.47964195e-01],\n",
       "       [3.36588134e-01],\n",
       "       [2.33197122e-01],\n",
       "       [4.58149118e-01],\n",
       "       [6.48923159e-01],\n",
       "       [5.10706306e-01],\n",
       "       [3.78703883e-01],\n",
       "       [4.56173220e-01],\n",
       "       [4.50889980e-01],\n",
       "       [3.16277994e-01],\n",
       "       [4.94033029e-01],\n",
       "       [3.38728056e-01],\n",
       "       [2.79240271e-01],\n",
       "       [4.35310938e-01],\n",
       "       [4.04909107e-01],\n",
       "       [4.05620003e-01],\n",
       "       [2.42880222e-01],\n",
       "       [1.61150776e-01],\n",
       "       [3.63666440e-01],\n",
       "       [1.60882550e-01],\n",
       "       [3.52665503e-02],\n",
       "       [1.86021736e-01],\n",
       "       [3.02051236e-01],\n",
       "       [1.23009992e-02],\n",
       "       [1.98151478e-01],\n",
       "       [4.12098859e-01],\n",
       "       [1.88356331e-01],\n",
       "       [3.56556984e-01],\n",
       "       [3.97720335e-01],\n",
       "       [2.88112564e-01],\n",
       "       [3.44242133e-01],\n",
       "       [3.30280658e-02],\n",
       "       [2.96948325e-01],\n",
       "       [2.79953742e-01],\n",
       "       [2.79953742e-01],\n",
       "       [4.90753024e-01],\n",
       "       [3.33828399e-01],\n",
       "       [1.96581842e-01],\n",
       "       [1.20587280e-01],\n",
       "       [3.07977949e-01],\n",
       "       [2.58275258e-01],\n",
       "       [1.15516095e-01],\n",
       "       [2.23985010e-01],\n",
       "       [1.88636325e-01],\n",
       "       [1.70410697e-01],\n",
       "       [1.17469192e-01],\n",
       "       [1.57131311e-01],\n",
       "       [1.22001081e-01],\n",
       "       [1.81409183e-01],\n",
       "       [1.70302990e-01],\n",
       "       [2.29521643e-01],\n",
       "       [1.86403357e-01],\n",
       "       [1.46496426e-01],\n",
       "       [2.40382093e-02],\n",
       "       [1.61151144e-01],\n",
       "       [3.11778101e-01],\n",
       "       [1.02743740e-01],\n",
       "       [1.55766522e-01],\n",
       "       [2.64066362e-01],\n",
       "       [6.45429603e-02],\n",
       "       [1.70831425e-01],\n",
       "       [1.33660079e-01],\n",
       "       [2.01454407e-01],\n",
       "       [2.13644536e-01],\n",
       "       [1.68912286e-01],\n",
       "       [1.95653839e-01],\n",
       "       [9.84233175e-02],\n",
       "       [1.35620162e-01],\n",
       "       [1.92807850e-01],\n",
       "       [2.20190865e-01],\n",
       "       [1.04605997e-01],\n",
       "       [1.31729416e-01],\n",
       "       [1.52523294e-01],\n",
       "       [2.28831219e-01],\n",
       "       [1.17996572e-01],\n",
       "       [6.29504490e-02],\n",
       "       [1.28351781e-01],\n",
       "       [3.16848133e-01],\n",
       "       [1.42749306e-01],\n",
       "       [1.26654088e-01],\n",
       "       [1.54992566e-01],\n",
       "       [1.11055186e-01],\n",
       "       [1.83972211e-01],\n",
       "       [9.80586137e-02],\n",
       "       [9.34786205e-02],\n",
       "       [6.15622454e-02],\n",
       "       [6.71846907e-02],\n",
       "       [9.48883754e-02],\n",
       "       [5.26368219e-02],\n",
       "       [6.93662936e-02],\n",
       "       [5.04309463e-02],\n",
       "       [7.70357386e-02],\n",
       "       [4.30289181e-02],\n",
       "       [3.54436063e-01],\n",
       "       [1.73356719e-01],\n",
       "       [2.00930655e-01],\n",
       "       [1.97105299e-01],\n",
       "       [2.03630689e-01],\n",
       "       [2.20942412e-01],\n",
       "       [7.55742509e-02],\n",
       "       [2.47455410e-01],\n",
       "       [1.27710295e-01],\n",
       "       [1.39522284e-01],\n",
       "       [1.13702359e-01],\n",
       "       [2.34575322e-01],\n",
       "       [1.65395095e-01],\n",
       "       [1.42564515e-01],\n",
       "       [2.76723925e-01],\n",
       "       [1.23891239e-01],\n",
       "       [0.00000000e+00],\n",
       "       [7.99633477e-02],\n",
       "       [1.95759756e-01],\n",
       "       [1.43031728e-01],\n",
       "       [1.54591011e-01],\n",
       "       [1.89789304e-01],\n",
       "       [1.43623443e-01],\n",
       "       [6.12195342e-02],\n",
       "       [9.85097921e-02],\n",
       "       [1.15974188e-01],\n",
       "       [1.33974275e-01],\n",
       "       [2.12496878e-01],\n",
       "       [3.33779878e-01],\n",
       "       [1.00000000e+00],\n",
       "       [5.86800189e-02],\n",
       "       [1.59935252e-01],\n",
       "       [6.42254290e-02],\n",
       "       [6.47272614e-04],\n",
       "       [1.18926928e-01],\n",
       "       [3.81491200e-02],\n",
       "       [2.27670272e-01],\n",
       "       [1.49716117e-02],\n",
       "       [6.17119027e-02],\n",
       "       [2.03079821e-01],\n",
       "       [1.16407468e-01],\n",
       "       [7.47229894e-02],\n",
       "       [1.16233269e-01],\n",
       "       [0.00000000e+00],\n",
       "       [8.24596869e-02],\n",
       "       [5.66676631e-02],\n",
       "       [7.86277595e-02],\n",
       "       [1.15442468e-01],\n",
       "       [1.34513547e-01],\n",
       "       [4.25483672e-03],\n",
       "       [2.63249156e-01],\n",
       "       [1.45510855e-01],\n",
       "       [1.81218679e-01],\n",
       "       [7.11792454e-02],\n",
       "       [1.06958171e-01],\n",
       "       [1.40276994e-01],\n",
       "       [2.42727230e-04],\n",
       "       [4.42669250e-02],\n",
       "       [1.77088491e-01],\n",
       "       [3.19155807e-01],\n",
       "       [7.78799880e-02],\n",
       "       [2.66009651e-01],\n",
       "       [1.90078027e-01],\n",
       "       [1.30607355e-01],\n",
       "       [2.17365324e-01],\n",
       "       [6.41984348e-02],\n",
       "       [2.62647535e-02],\n",
       "       [5.29292469e-02],\n",
       "       [1.42044490e-01],\n",
       "       [2.00870194e-01],\n",
       "       [2.69045139e-01],\n",
       "       [3.00264960e-01],\n",
       "       [1.02003789e-02],\n",
       "       [1.63084503e-01],\n",
       "       [1.57483217e-01],\n",
       "       [1.40958347e-01],\n",
       "       [8.20973369e-02],\n",
       "       [9.50597065e-02],\n",
       "       [1.48211944e-01],\n",
       "       [2.15757538e-04],\n",
       "       [1.59744160e-01],\n",
       "       [1.13733031e-01],\n",
       "       [2.29748948e-01],\n",
       "       [2.36362432e-01],\n",
       "       [7.93771737e-02],\n",
       "       [2.05375947e-01],\n",
       "       [5.11026632e-04],\n",
       "       [2.48978976e-01],\n",
       "       [8.95019149e-02],\n",
       "       [4.78661530e-02],\n",
       "       [5.89649415e-02],\n",
       "       [6.97455611e-02],\n",
       "       [1.52285103e-01],\n",
       "       [1.23913477e-03],\n",
       "       [1.24572224e-01],\n",
       "       [8.35079743e-02],\n",
       "       [1.32300365e-01],\n",
       "       [1.73076799e-01],\n",
       "       [1.76648493e-01],\n",
       "       [5.25026354e-02],\n",
       "       [4.05084778e-02],\n",
       "       [1.56908934e-02],\n",
       "       [9.20452795e-02],\n",
       "       [1.59054594e-01],\n",
       "       [3.29212168e-02],\n",
       "       [7.69862124e-04],\n",
       "       [7.75892547e-02],\n",
       "       [5.90611742e-02],\n",
       "       [1.43736421e-01],\n",
       "       [1.11505261e-01],\n",
       "       [1.42333777e-01],\n",
       "       [5.80100918e-02],\n",
       "       [2.15757538e-04],\n",
       "       [5.51697664e-02],\n",
       "       [9.88828075e-02],\n",
       "       [1.70008432e-01],\n",
       "       [1.26695940e-01],\n",
       "       [2.02189919e-01],\n",
       "       [7.00157729e-02],\n",
       "       [7.60651974e-02],\n",
       "       [2.20266429e-01],\n",
       "       [1.02102351e-01],\n",
       "       [1.60771950e-01],\n",
       "       [1.37414652e-01],\n",
       "       [8.50771201e-04],\n",
       "       [2.38245505e-01],\n",
       "       [2.97960964e-01],\n",
       "       [1.15289378e-01],\n",
       "       [2.41471301e-01],\n",
       "       [1.45710971e-01],\n",
       "       [2.96987186e-01],\n",
       "       [3.29743128e-01],\n",
       "       [3.95783617e-01],\n",
       "       [3.52281087e-01],\n",
       "       [4.64614170e-01],\n",
       "       [5.87335881e-01],\n",
       "       [3.75349932e-01],\n",
       "       [5.27059624e-02],\n",
       "       [4.27378465e-01],\n",
       "       [4.47580382e-01],\n",
       "       [3.17565625e-01],\n",
       "       [4.04209562e-01],\n",
       "       [3.94947066e-01],\n",
       "       [4.74616444e-01],\n",
       "       [4.67669567e-01],\n",
       "       [7.03608893e-01],\n",
       "       [3.63216047e-01],\n",
       "       [1.84129444e-03],\n",
       "       [2.32496179e-01],\n",
       "       [6.15055747e-01],\n",
       "       [5.41687078e-01],\n",
       "       [4.09104120e-01],\n",
       "       [3.26914718e-01],\n",
       "       [2.46449906e-01],\n",
       "       [3.85828417e-03],\n",
       "       [3.96101712e-01],\n",
       "       [5.32621093e-01],\n",
       "       [3.13905005e-01],\n",
       "       [2.79568001e-01],\n",
       "       [3.93739364e-01],\n",
       "       [3.49389323e-01],\n",
       "       [4.57574124e-01],\n",
       "       [2.49240999e-01],\n",
       "       [4.18826351e-01],\n",
       "       [1.67761440e-01],\n",
       "       [2.64240463e-01],\n",
       "       [5.90153257e-03],\n",
       "       [2.24222442e-01],\n",
       "       [4.35215122e-01],\n",
       "       [3.05176460e-01],\n",
       "       [3.38472727e-01],\n",
       "       [6.04505302e-01],\n",
       "       [3.56328527e-01],\n",
       "       [7.17317808e-03],\n",
       "       [4.24297864e-01],\n",
       "       [5.42287129e-01],\n",
       "       [4.57748520e-01],\n",
       "       [2.89175219e-01],\n",
       "       [2.60394806e-01],\n",
       "       [2.06587794e-01],\n",
       "       [1.96763813e-01],\n",
       "       [1.63688747e-01],\n",
       "       [1.57887909e-01],\n",
       "       [5.09064563e-01],\n",
       "       [2.81325101e-01],\n",
       "       [3.06964134e-03],\n",
       "       [3.15924397e-01],\n",
       "       [2.98641998e-01],\n",
       "       [2.53056892e-01],\n",
       "       [2.44927050e-01],\n",
       "       [5.63876760e-01],\n",
       "       [3.53709966e-03],\n",
       "       [3.19659135e-01],\n",
       "       [2.93656552e-01],\n",
       "       [4.15750776e-01],\n",
       "       [6.38847846e-01],\n",
       "       [4.02286672e-01],\n",
       "       [3.72214190e-01],\n",
       "       [8.22563355e-03],\n",
       "       [4.00001383e-01],\n",
       "       [6.27266594e-01],\n",
       "       [5.58388844e-01],\n",
       "       [4.04724904e-01],\n",
       "       [3.84394978e-01],\n",
       "       [3.60233199e-01],\n",
       "       [3.27268708e-01],\n",
       "       [4.13816240e-01],\n",
       "       [3.62906778e-01],\n",
       "       [2.00674419e-01],\n",
       "       [1.92222902e-01],\n",
       "       [3.39229693e-02],\n",
       "       [2.80217579e-01],\n",
       "       [3.07463710e-01],\n",
       "       [1.94674496e-01],\n",
       "       [2.20554539e-01],\n",
       "       [2.68931572e-01],\n",
       "       [2.99524814e-01],\n",
       "       [4.20001469e-02],\n",
       "       [3.90944813e-01],\n",
       "       [2.49689652e-01],\n",
       "       [3.73522269e-01],\n",
       "       [7.22166542e-01],\n",
       "       [3.36775573e-01],\n",
       "       [3.95856582e-01],\n",
       "       [8.86567338e-03],\n",
       "       [2.44806348e-01],\n",
       "       [4.30550444e-01],\n",
       "       [2.65467633e-01],\n",
       "       [3.06534972e-01],\n",
       "       [5.29766425e-01],\n",
       "       [1.23619262e-02],\n",
       "       [3.08479340e-01],\n",
       "       [5.65855281e-01],\n",
       "       [5.48632215e-01],\n",
       "       [6.85954140e-01],\n",
       "       [3.93858766e-01],\n",
       "       [3.14199636e-01],\n",
       "       [3.59301813e-01],\n",
       "       [6.51497343e-01],\n",
       "       [4.07597127e-01],\n",
       "       [5.50670903e-01],\n",
       "       [4.62537381e-01],\n",
       "       [7.16094365e-02],\n",
       "       [4.06070544e-01],\n",
       "       [3.75980336e-01],\n",
       "       [4.02758642e-01],\n",
       "       [6.08155429e-01],\n",
       "       [4.01195576e-01],\n",
       "       [5.09567327e-01],\n",
       "       [7.70695733e-03],\n",
       "       [2.99253621e-01],\n",
       "       [4.76783974e-01],\n",
       "       [3.10798341e-01],\n",
       "       [3.48444820e-01],\n",
       "       [4.30774905e-01],\n",
       "       [2.15757538e-04],\n",
       "       [2.75929888e-01],\n",
       "       [3.41480240e-01],\n",
       "       [3.16601729e-01],\n",
       "       [3.22769648e-01],\n",
       "       [3.60658265e-01],\n",
       "       [1.95547775e-01],\n",
       "       [2.88575707e-03],\n",
       "       [2.42090623e-01],\n",
       "       [3.92571576e-01],\n",
       "       [1.70030278e-01],\n",
       "       [2.02967603e-01],\n",
       "       [2.64662735e-01],\n",
       "       [4.93790547e-03],\n",
       "       [3.34995819e-01],\n",
       "       [2.95259655e-01],\n",
       "       [3.20850191e-01],\n",
       "       [1.50987861e-01],\n",
       "       [3.05677924e-01],\n",
       "       [3.49286936e-01],\n",
       "       [3.74486436e-02],\n",
       "       [3.37340932e-01],\n",
       "       [4.84985065e-01],\n",
       "       [5.36755964e-02],\n",
       "       [1.91721168e-01],\n",
       "       [2.07666630e-03],\n",
       "       [2.60294454e-01],\n",
       "       [2.18007006e-01],\n",
       "       [2.81255005e-01],\n",
       "       [3.28607949e-01],\n",
       "       [1.75875296e-01],\n",
       "       [2.28752026e-03],\n",
       "       [1.81338890e-01],\n",
       "       [2.08401358e-01],\n",
       "       [2.00675326e-01],\n",
       "       [2.54332657e-01],\n",
       "       [7.51620560e-02],\n",
       "       [6.15645746e-02],\n",
       "       [3.05183742e-01],\n",
       "       [2.69404914e-01],\n",
       "       [2.66627919e-01],\n",
       "       [2.83814306e-01],\n",
       "       [3.07098222e-01],\n",
       "       [1.47282127e-01],\n",
       "       [1.70922705e-01],\n",
       "       [5.47409532e-01],\n",
       "       [3.30010079e-01],\n",
       "       [5.37257943e-01],\n",
       "       [2.64264712e-01],\n",
       "       [9.62926627e-02],\n",
       "       [2.31277370e-02],\n",
       "       [2.01824750e-01],\n",
       "       [2.82606848e-01],\n",
       "       [1.44533449e-01],\n",
       "       [3.09902408e-01],\n",
       "       [1.59969994e-01],\n",
       "       [2.15757538e-04],\n",
       "       [2.69113813e-01],\n",
       "       [8.45183571e-02],\n",
       "       [1.20530497e-01],\n",
       "       [2.45424199e-03],\n",
       "       [2.50154732e-01],\n",
       "       [2.28799248e-01],\n",
       "       [1.60805123e-01],\n",
       "       [3.21684461e-01],\n",
       "       [1.06836243e-01],\n",
       "       [1.28944722e-01],\n",
       "       [6.47272614e-04],\n",
       "       [2.58662641e-01],\n",
       "       [3.43655689e-01],\n",
       "       [1.41267934e-01],\n",
       "       [2.05618699e-01],\n",
       "       [2.98019660e-01],\n",
       "       [1.06567429e-01],\n",
       "       [4.31515076e-04],\n",
       "       [2.80813854e-01],\n",
       "       [3.12387739e-01],\n",
       "       [1.79245331e-01],\n",
       "       [2.46002086e-01],\n",
       "       [2.03303523e-01],\n",
       "       [9.06966232e-02],\n",
       "       [7.99283607e-04],\n",
       "       [2.11558038e-01],\n",
       "       [1.94624038e-01],\n",
       "       [2.56234167e-01],\n",
       "       [2.37404296e-01],\n",
       "       [2.65595347e-01],\n",
       "       [2.44260237e-01],\n",
       "       [1.88489585e-01],\n",
       "       [1.69392150e-01],\n",
       "       [3.14344733e-01],\n",
       "       [4.34973130e-01],\n",
       "       [1.67763034e-01],\n",
       "       [3.19729134e-01],\n",
       "       [1.02121598e-01],\n",
       "       [2.52411802e-04],\n",
       "       [2.97473058e-01],\n",
       "       [2.30852107e-01],\n",
       "       [2.29067057e-01],\n",
       "       [1.79242928e-01],\n",
       "       [1.53197733e-01],\n",
       "       [1.22805268e-01],\n",
       "       [1.11041382e-01],\n",
       "       [2.33992580e-01],\n",
       "       [2.46833636e-01],\n",
       "       [1.36650723e-01],\n",
       "       [2.11888123e-01],\n",
       "       [2.11888123e-01],\n",
       "       [1.01366692e-01],\n",
       "       [3.87088637e-02],\n",
       "       [3.16245508e-01],\n",
       "       [2.29002501e-01],\n",
       "       [4.33346612e-01],\n",
       "       [7.96890659e-02],\n",
       "       [1.35122694e-01],\n",
       "       [3.26193156e-01],\n",
       "       [2.17078783e-01],\n",
       "       [1.62145198e-01],\n",
       "       [1.64492591e-01],\n",
       "       [1.69392150e-01],\n",
       "       [3.16461265e-01],\n",
       "       [3.14344733e-01],\n",
       "       [1.61613919e-01],\n",
       "       [5.38891007e-01],\n",
       "       [4.34973130e-01],\n",
       "       [1.67763034e-01],\n",
       "       [2.30852107e-01],\n",
       "       [1.02121598e-01],\n",
       "       [3.42249342e-01],\n",
       "       [2.97473058e-01],\n",
       "       [2.29067057e-01],\n",
       "       [5.13052032e-01],\n",
       "       [1.53197733e-01],\n",
       "       [1.11041382e-01],\n",
       "       [2.33992580e-01],\n",
       "       [1.36650723e-01],\n",
       "       [2.11888123e-01],\n",
       "       [4.16080346e-01],\n",
       "       [3.87088637e-02],\n",
       "       [2.29002501e-01],\n",
       "       [4.33346612e-01],\n",
       "       [7.96890659e-02],\n",
       "       [4.52591351e-01],\n",
       "       [3.29856131e-01],\n",
       "       [2.17078783e-01],\n",
       "       [5.62165582e-01],\n",
       "       [1.62145198e-01],\n",
       "       [3.18988301e-01],\n",
       "       [8.32765989e-02],\n",
       "       [3.68525129e-01],\n",
       "       [5.14475002e-01],\n",
       "       [1.02071876e-01],\n",
       "       [2.45378106e-01],\n",
       "       [1.31507529e-01],\n",
       "       [4.34456145e-01],\n",
       "       [7.05918945e-02],\n",
       "       [1.37992760e-01],\n",
       "       [1.77631146e-01],\n",
       "       [3.01635928e-01],\n",
       "       [3.06612694e-01],\n",
       "       [2.76463863e-02],\n",
       "       [1.97532131e-01],\n",
       "       [2.95193211e-01],\n",
       "       [1.91440438e-01],\n",
       "       [2.82936590e-03],\n",
       "       [3.63388849e-01],\n",
       "       [2.43036401e-01],\n",
       "       [5.47841169e-01],\n",
       "       [2.93221923e-01],\n",
       "       [2.42011430e-01],\n",
       "       [4.65340513e-01],\n",
       "       [2.85106228e-01],\n",
       "       [3.17208449e-01],\n",
       "       [4.88334480e-01],\n",
       "       [2.64354594e-01],\n",
       "       [2.86817773e-01],\n",
       "       [1.28302672e-01],\n",
       "       [1.11314070e-01],\n",
       "       [3.58402668e-01],\n",
       "       [3.54189462e-01],\n",
       "       [3.69741192e-01],\n",
       "       [8.13595932e-02],\n",
       "       [2.74242689e-01],\n",
       "       [4.18901547e-01],\n",
       "       [5.25515021e-01],\n",
       "       [2.46460252e-01],\n",
       "       [4.15964768e-01],\n",
       "       [2.61530181e-01],\n",
       "       [2.02272692e-03],\n",
       "       [4.29298241e-01],\n",
       "       [2.80908101e-01],\n",
       "       [4.32358590e-01],\n",
       "       [3.65149994e-01],\n",
       "       [2.78308247e-01],\n",
       "       [6.12947551e-03],\n",
       "       [3.79038699e-01],\n",
       "       [5.84794576e-01],\n",
       "       [3.63436021e-01],\n",
       "       [5.05837762e-01],\n",
       "       [3.47538883e-01],\n",
       "       [4.59130447e-01],\n",
       "       [2.60196824e-01],\n",
       "       [3.34379365e-01],\n",
       "       [5.15118940e-01],\n",
       "       [2.93665501e-01],\n",
       "       [5.65626603e-01],\n",
       "       [2.75659554e-01],\n",
       "       [4.89643663e-01]])"
      ]
     },
     "execution_count": 27,
     "metadata": {
      "tags": []
     },
     "output_type": "execute_result"
    }
   ],
   "source": [
    "trainY"
   ]
  },
  {
   "cell_type": "code",
   "execution_count": null,
   "metadata": {
    "id": "Jib8w2cYwJo4"
   },
   "outputs": [],
   "source": []
  },
  {
   "cell_type": "code",
   "execution_count": null,
   "metadata": {
    "id": "IfU6i0GLwRij"
   },
   "outputs": [],
   "source": []
  },
  {
   "cell_type": "code",
   "execution_count": 35,
   "metadata": {
    "id": "TNXX7kiMLM8Z"
   },
   "outputs": [],
   "source": [
    "from keras.layers import Dropout\n",
    "from keras.layers import Bidirectional"
   ]
  },
  {
   "cell_type": "code",
   "execution_count": 35,
   "metadata": {
    "id": "9sKmRyzywb52"
   },
   "outputs": [],
   "source": []
  },
  {
   "cell_type": "code",
   "execution_count": 36,
   "metadata": {
    "colab": {
     "base_uri": "https://localhost:8080/"
    },
    "id": "NjNWQQrRh6-q",
    "outputId": "1849924d-9239-4d03-dae7-3f5703756f63"
   },
   "outputs": [
    {
     "data": {
      "text/plain": [
       "(5, 4)"
      ]
     },
     "execution_count": 36,
     "metadata": {
      "tags": []
     },
     "output_type": "execute_result"
    }
   ],
   "source": [
    "(trainX.shape[1],trainX.shape[2])"
   ]
  },
  {
   "cell_type": "code",
   "execution_count": 37,
   "metadata": {
    "id": "ZOUY0m5liGt3"
   },
   "outputs": [],
   "source": [
    "import tensorflow as tf"
   ]
  },
  {
   "cell_type": "code",
   "execution_count": 38,
   "metadata": {
    "id": "wykTBIoHJmma"
   },
   "outputs": [],
   "source": [
    "model=tf.keras.Sequential()\n",
    "model.add(tf.keras.layers.LSTM(128,input_shape=(trainX.shape[1],trainX.shape[2]),return_sequences=True))\n",
    "model.add(tf.keras.layers.LeakyReLU(alpha=0.5))\n",
    "model.add(tf.keras.layers.LSTM(64,return_sequences=True))\n",
    "model.add(tf.keras.layers.LeakyReLU(alpha=0.5))\n",
    "model.add(tf.keras.layers.Dropout(0.2))\n",
    "model.add(tf.keras.layers.LSTM(32,return_sequences=False))\n",
    "model.add(tf.keras.layers.LeakyReLU(alpha=0.5))\n",
    "model.add(tf.keras.layers.Dropout(0.2))\n",
    "model.add(tf.keras.layers.Dense(1))"
   ]
  },
  {
   "cell_type": "code",
   "execution_count": 39,
   "metadata": {
    "id": "0l5Q-MuiiV4S"
   },
   "outputs": [],
   "source": [
    "model.compile(loss=tf.losses.MeanSquaredError(),optimizer=tf.optimizers.Adam(),metrics=[tf.metrics.MeanSquaredError()])"
   ]
  },
  {
   "cell_type": "code",
   "execution_count": 40,
   "metadata": {
    "colab": {
     "base_uri": "https://localhost:8080/"
    },
    "id": "do1JrCjxLKsX",
    "outputId": "897b19af-677d-4a12-99bb-cf14e7bffaf4"
   },
   "outputs": [
    {
     "name": "stdout",
     "output_type": "stream",
     "text": [
      "Epoch 1/100\n",
      "15/15 [==============================] - 7s 100ms/step - loss: 0.0337 - mean_squared_error: 0.0337 - val_loss: 0.0271 - val_mean_squared_error: 0.0271\n",
      "Epoch 2/100\n",
      "15/15 [==============================] - 0s 17ms/step - loss: 0.0191 - mean_squared_error: 0.0191 - val_loss: 0.0252 - val_mean_squared_error: 0.0252\n",
      "Epoch 3/100\n",
      "15/15 [==============================] - 0s 17ms/step - loss: 0.0174 - mean_squared_error: 0.0174 - val_loss: 0.0254 - val_mean_squared_error: 0.0254\n",
      "Epoch 4/100\n",
      "15/15 [==============================] - 0s 18ms/step - loss: 0.0178 - mean_squared_error: 0.0178 - val_loss: 0.0248 - val_mean_squared_error: 0.0248\n",
      "Epoch 5/100\n",
      "15/15 [==============================] - 0s 17ms/step - loss: 0.0169 - mean_squared_error: 0.0169 - val_loss: 0.0251 - val_mean_squared_error: 0.0251\n",
      "Epoch 6/100\n",
      "15/15 [==============================] - 0s 19ms/step - loss: 0.0170 - mean_squared_error: 0.0170 - val_loss: 0.0243 - val_mean_squared_error: 0.0243\n",
      "Epoch 7/100\n",
      "15/15 [==============================] - 0s 18ms/step - loss: 0.0170 - mean_squared_error: 0.0170 - val_loss: 0.0246 - val_mean_squared_error: 0.0246\n",
      "Epoch 8/100\n",
      "15/15 [==============================] - 0s 17ms/step - loss: 0.0165 - mean_squared_error: 0.0165 - val_loss: 0.0243 - val_mean_squared_error: 0.0243\n",
      "Epoch 9/100\n",
      "15/15 [==============================] - 0s 17ms/step - loss: 0.0161 - mean_squared_error: 0.0161 - val_loss: 0.0246 - val_mean_squared_error: 0.0246\n",
      "Epoch 10/100\n",
      "15/15 [==============================] - 0s 17ms/step - loss: 0.0162 - mean_squared_error: 0.0162 - val_loss: 0.0240 - val_mean_squared_error: 0.0240\n",
      "Epoch 11/100\n",
      "15/15 [==============================] - 0s 17ms/step - loss: 0.0159 - mean_squared_error: 0.0159 - val_loss: 0.0260 - val_mean_squared_error: 0.0260\n",
      "Epoch 12/100\n",
      "15/15 [==============================] - 0s 17ms/step - loss: 0.0171 - mean_squared_error: 0.0171 - val_loss: 0.0239 - val_mean_squared_error: 0.0239\n",
      "Epoch 13/100\n",
      "15/15 [==============================] - 0s 18ms/step - loss: 0.0165 - mean_squared_error: 0.0165 - val_loss: 0.0239 - val_mean_squared_error: 0.0239\n",
      "Epoch 14/100\n",
      "15/15 [==============================] - 0s 18ms/step - loss: 0.0161 - mean_squared_error: 0.0161 - val_loss: 0.0237 - val_mean_squared_error: 0.0237\n",
      "Epoch 15/100\n",
      "15/15 [==============================] - 0s 18ms/step - loss: 0.0163 - mean_squared_error: 0.0163 - val_loss: 0.0278 - val_mean_squared_error: 0.0278\n",
      "Epoch 16/100\n",
      "15/15 [==============================] - 0s 18ms/step - loss: 0.0173 - mean_squared_error: 0.0173 - val_loss: 0.0247 - val_mean_squared_error: 0.0247\n",
      "Epoch 17/100\n",
      "15/15 [==============================] - 0s 17ms/step - loss: 0.0161 - mean_squared_error: 0.0161 - val_loss: 0.0247 - val_mean_squared_error: 0.0247\n",
      "Epoch 18/100\n",
      "15/15 [==============================] - 0s 18ms/step - loss: 0.0164 - mean_squared_error: 0.0164 - val_loss: 0.0237 - val_mean_squared_error: 0.0237\n",
      "Epoch 19/100\n",
      "15/15 [==============================] - 0s 17ms/step - loss: 0.0160 - mean_squared_error: 0.0160 - val_loss: 0.0238 - val_mean_squared_error: 0.0238\n",
      "Epoch 20/100\n",
      "15/15 [==============================] - 0s 18ms/step - loss: 0.0154 - mean_squared_error: 0.0154 - val_loss: 0.0233 - val_mean_squared_error: 0.0233\n",
      "Epoch 21/100\n",
      "15/15 [==============================] - 0s 17ms/step - loss: 0.0161 - mean_squared_error: 0.0161 - val_loss: 0.0234 - val_mean_squared_error: 0.0234\n",
      "Epoch 22/100\n",
      "15/15 [==============================] - 0s 17ms/step - loss: 0.0160 - mean_squared_error: 0.0160 - val_loss: 0.0236 - val_mean_squared_error: 0.0236\n",
      "Epoch 23/100\n",
      "15/15 [==============================] - 0s 19ms/step - loss: 0.0156 - mean_squared_error: 0.0156 - val_loss: 0.0228 - val_mean_squared_error: 0.0228\n",
      "Epoch 24/100\n",
      "15/15 [==============================] - 0s 17ms/step - loss: 0.0156 - mean_squared_error: 0.0156 - val_loss: 0.0232 - val_mean_squared_error: 0.0232\n",
      "Epoch 25/100\n",
      "15/15 [==============================] - 0s 20ms/step - loss: 0.0152 - mean_squared_error: 0.0152 - val_loss: 0.0235 - val_mean_squared_error: 0.0235\n",
      "Epoch 26/100\n",
      "15/15 [==============================] - 0s 17ms/step - loss: 0.0154 - mean_squared_error: 0.0154 - val_loss: 0.0224 - val_mean_squared_error: 0.0224\n",
      "Epoch 27/100\n",
      "15/15 [==============================] - 0s 18ms/step - loss: 0.0159 - mean_squared_error: 0.0159 - val_loss: 0.0229 - val_mean_squared_error: 0.0229\n",
      "Epoch 28/100\n",
      "15/15 [==============================] - 0s 18ms/step - loss: 0.0161 - mean_squared_error: 0.0161 - val_loss: 0.0236 - val_mean_squared_error: 0.0236\n",
      "Epoch 29/100\n",
      "15/15 [==============================] - 0s 17ms/step - loss: 0.0159 - mean_squared_error: 0.0159 - val_loss: 0.0273 - val_mean_squared_error: 0.0273\n",
      "Epoch 30/100\n",
      "15/15 [==============================] - 0s 18ms/step - loss: 0.0157 - mean_squared_error: 0.0157 - val_loss: 0.0226 - val_mean_squared_error: 0.0226\n",
      "Epoch 31/100\n",
      "15/15 [==============================] - 0s 18ms/step - loss: 0.0146 - mean_squared_error: 0.0146 - val_loss: 0.0233 - val_mean_squared_error: 0.0233\n",
      "Epoch 32/100\n",
      "15/15 [==============================] - 0s 17ms/step - loss: 0.0157 - mean_squared_error: 0.0157 - val_loss: 0.0224 - val_mean_squared_error: 0.0224\n",
      "Epoch 33/100\n",
      "15/15 [==============================] - 0s 17ms/step - loss: 0.0150 - mean_squared_error: 0.0150 - val_loss: 0.0219 - val_mean_squared_error: 0.0219\n",
      "Epoch 34/100\n",
      "15/15 [==============================] - 0s 19ms/step - loss: 0.0154 - mean_squared_error: 0.0154 - val_loss: 0.0222 - val_mean_squared_error: 0.0222\n",
      "Epoch 35/100\n",
      "15/15 [==============================] - 0s 18ms/step - loss: 0.0153 - mean_squared_error: 0.0153 - val_loss: 0.0215 - val_mean_squared_error: 0.0215\n",
      "Epoch 36/100\n",
      "15/15 [==============================] - 0s 17ms/step - loss: 0.0151 - mean_squared_error: 0.0151 - val_loss: 0.0274 - val_mean_squared_error: 0.0274\n",
      "Epoch 37/100\n",
      "15/15 [==============================] - 0s 18ms/step - loss: 0.0151 - mean_squared_error: 0.0151 - val_loss: 0.0229 - val_mean_squared_error: 0.0229\n",
      "Epoch 38/100\n",
      "15/15 [==============================] - 0s 17ms/step - loss: 0.0151 - mean_squared_error: 0.0151 - val_loss: 0.0216 - val_mean_squared_error: 0.0216\n",
      "Epoch 39/100\n",
      "15/15 [==============================] - 0s 17ms/step - loss: 0.0146 - mean_squared_error: 0.0146 - val_loss: 0.0211 - val_mean_squared_error: 0.0211\n",
      "Epoch 40/100\n",
      "15/15 [==============================] - 0s 18ms/step - loss: 0.0144 - mean_squared_error: 0.0144 - val_loss: 0.0211 - val_mean_squared_error: 0.0211\n",
      "Epoch 41/100\n",
      "15/15 [==============================] - 0s 17ms/step - loss: 0.0151 - mean_squared_error: 0.0151 - val_loss: 0.0216 - val_mean_squared_error: 0.0216\n",
      "Epoch 42/100\n",
      "15/15 [==============================] - 0s 19ms/step - loss: 0.0149 - mean_squared_error: 0.0149 - val_loss: 0.0246 - val_mean_squared_error: 0.0246\n",
      "Epoch 43/100\n",
      "15/15 [==============================] - 0s 17ms/step - loss: 0.0144 - mean_squared_error: 0.0144 - val_loss: 0.0214 - val_mean_squared_error: 0.0214\n",
      "Epoch 44/100\n",
      "15/15 [==============================] - 0s 18ms/step - loss: 0.0146 - mean_squared_error: 0.0146 - val_loss: 0.0207 - val_mean_squared_error: 0.0207\n",
      "Epoch 45/100\n",
      "15/15 [==============================] - 0s 18ms/step - loss: 0.0137 - mean_squared_error: 0.0137 - val_loss: 0.0229 - val_mean_squared_error: 0.0229\n",
      "Epoch 46/100\n",
      "15/15 [==============================] - 0s 21ms/step - loss: 0.0141 - mean_squared_error: 0.0141 - val_loss: 0.0203 - val_mean_squared_error: 0.0203\n",
      "Epoch 47/100\n",
      "15/15 [==============================] - 0s 18ms/step - loss: 0.0143 - mean_squared_error: 0.0143 - val_loss: 0.0202 - val_mean_squared_error: 0.0202\n",
      "Epoch 48/100\n",
      "15/15 [==============================] - 0s 18ms/step - loss: 0.0144 - mean_squared_error: 0.0144 - val_loss: 0.0204 - val_mean_squared_error: 0.0204\n",
      "Epoch 49/100\n",
      "15/15 [==============================] - 0s 18ms/step - loss: 0.0145 - mean_squared_error: 0.0145 - val_loss: 0.0203 - val_mean_squared_error: 0.0203\n",
      "Epoch 50/100\n",
      "15/15 [==============================] - 0s 17ms/step - loss: 0.0142 - mean_squared_error: 0.0142 - val_loss: 0.0199 - val_mean_squared_error: 0.0199\n",
      "Epoch 51/100\n",
      "15/15 [==============================] - 0s 18ms/step - loss: 0.0138 - mean_squared_error: 0.0138 - val_loss: 0.0201 - val_mean_squared_error: 0.0201\n",
      "Epoch 52/100\n",
      "15/15 [==============================] - 0s 18ms/step - loss: 0.0142 - mean_squared_error: 0.0142 - val_loss: 0.0200 - val_mean_squared_error: 0.0200\n",
      "Epoch 53/100\n",
      "15/15 [==============================] - 0s 17ms/step - loss: 0.0137 - mean_squared_error: 0.0137 - val_loss: 0.0208 - val_mean_squared_error: 0.0208\n",
      "Epoch 54/100\n",
      "15/15 [==============================] - 0s 19ms/step - loss: 0.0134 - mean_squared_error: 0.0134 - val_loss: 0.0215 - val_mean_squared_error: 0.0215\n",
      "Epoch 55/100\n",
      "15/15 [==============================] - 0s 17ms/step - loss: 0.0135 - mean_squared_error: 0.0135 - val_loss: 0.0204 - val_mean_squared_error: 0.0204\n",
      "Epoch 56/100\n",
      "15/15 [==============================] - 0s 18ms/step - loss: 0.0134 - mean_squared_error: 0.0134 - val_loss: 0.0230 - val_mean_squared_error: 0.0230\n",
      "Epoch 57/100\n",
      "15/15 [==============================] - 0s 18ms/step - loss: 0.0138 - mean_squared_error: 0.0138 - val_loss: 0.0244 - val_mean_squared_error: 0.0244\n",
      "Epoch 58/100\n",
      "15/15 [==============================] - 0s 19ms/step - loss: 0.0131 - mean_squared_error: 0.0131 - val_loss: 0.0226 - val_mean_squared_error: 0.0226\n",
      "Epoch 59/100\n",
      "15/15 [==============================] - 0s 19ms/step - loss: 0.0130 - mean_squared_error: 0.0130 - val_loss: 0.0186 - val_mean_squared_error: 0.0186\n",
      "Epoch 60/100\n",
      "15/15 [==============================] - 0s 17ms/step - loss: 0.0130 - mean_squared_error: 0.0130 - val_loss: 0.0186 - val_mean_squared_error: 0.0186\n",
      "Epoch 61/100\n",
      "15/15 [==============================] - 0s 18ms/step - loss: 0.0131 - mean_squared_error: 0.0131 - val_loss: 0.0215 - val_mean_squared_error: 0.0215\n",
      "Epoch 62/100\n",
      "15/15 [==============================] - 0s 17ms/step - loss: 0.0126 - mean_squared_error: 0.0126 - val_loss: 0.0190 - val_mean_squared_error: 0.0190\n",
      "Epoch 63/100\n",
      "15/15 [==============================] - 0s 18ms/step - loss: 0.0129 - mean_squared_error: 0.0129 - val_loss: 0.0199 - val_mean_squared_error: 0.0199\n",
      "Epoch 64/100\n",
      "15/15 [==============================] - 0s 17ms/step - loss: 0.0132 - mean_squared_error: 0.0132 - val_loss: 0.0187 - val_mean_squared_error: 0.0187\n",
      "Epoch 65/100\n",
      "15/15 [==============================] - 0s 18ms/step - loss: 0.0134 - mean_squared_error: 0.0134 - val_loss: 0.0189 - val_mean_squared_error: 0.0189\n",
      "Epoch 66/100\n",
      "15/15 [==============================] - 0s 17ms/step - loss: 0.0126 - mean_squared_error: 0.0126 - val_loss: 0.0185 - val_mean_squared_error: 0.0185\n",
      "Epoch 67/100\n",
      "15/15 [==============================] - 0s 17ms/step - loss: 0.0130 - mean_squared_error: 0.0130 - val_loss: 0.0182 - val_mean_squared_error: 0.0182\n",
      "Epoch 68/100\n",
      "15/15 [==============================] - 0s 17ms/step - loss: 0.0128 - mean_squared_error: 0.0128 - val_loss: 0.0184 - val_mean_squared_error: 0.0184\n",
      "Epoch 69/100\n",
      "15/15 [==============================] - 0s 18ms/step - loss: 0.0126 - mean_squared_error: 0.0126 - val_loss: 0.0189 - val_mean_squared_error: 0.0189\n",
      "Epoch 70/100\n",
      "15/15 [==============================] - 0s 17ms/step - loss: 0.0132 - mean_squared_error: 0.0132 - val_loss: 0.0217 - val_mean_squared_error: 0.0217\n",
      "Epoch 71/100\n",
      "15/15 [==============================] - 0s 18ms/step - loss: 0.0128 - mean_squared_error: 0.0128 - val_loss: 0.0196 - val_mean_squared_error: 0.0196\n",
      "Epoch 72/100\n",
      "15/15 [==============================] - 0s 18ms/step - loss: 0.0129 - mean_squared_error: 0.0129 - val_loss: 0.0184 - val_mean_squared_error: 0.0184\n",
      "Epoch 73/100\n",
      "15/15 [==============================] - 0s 18ms/step - loss: 0.0121 - mean_squared_error: 0.0121 - val_loss: 0.0183 - val_mean_squared_error: 0.0183\n",
      "Epoch 74/100\n",
      "15/15 [==============================] - 0s 17ms/step - loss: 0.0126 - mean_squared_error: 0.0126 - val_loss: 0.0213 - val_mean_squared_error: 0.0213\n",
      "Epoch 75/100\n",
      "15/15 [==============================] - 0s 18ms/step - loss: 0.0126 - mean_squared_error: 0.0126 - val_loss: 0.0196 - val_mean_squared_error: 0.0196\n",
      "Epoch 76/100\n",
      "15/15 [==============================] - 0s 19ms/step - loss: 0.0126 - mean_squared_error: 0.0126 - val_loss: 0.0180 - val_mean_squared_error: 0.0180\n",
      "Epoch 77/100\n",
      "15/15 [==============================] - 0s 18ms/step - loss: 0.0127 - mean_squared_error: 0.0127 - val_loss: 0.0181 - val_mean_squared_error: 0.0181\n",
      "Epoch 78/100\n",
      "15/15 [==============================] - 0s 18ms/step - loss: 0.0122 - mean_squared_error: 0.0122 - val_loss: 0.0188 - val_mean_squared_error: 0.0188\n",
      "Epoch 79/100\n",
      "15/15 [==============================] - 0s 18ms/step - loss: 0.0120 - mean_squared_error: 0.0120 - val_loss: 0.0180 - val_mean_squared_error: 0.0180\n",
      "Epoch 80/100\n",
      "15/15 [==============================] - 0s 20ms/step - loss: 0.0124 - mean_squared_error: 0.0124 - val_loss: 0.0181 - val_mean_squared_error: 0.0181\n",
      "Epoch 81/100\n",
      "15/15 [==============================] - 0s 18ms/step - loss: 0.0122 - mean_squared_error: 0.0122 - val_loss: 0.0213 - val_mean_squared_error: 0.0213\n",
      "Epoch 82/100\n",
      "15/15 [==============================] - 0s 17ms/step - loss: 0.0126 - mean_squared_error: 0.0126 - val_loss: 0.0216 - val_mean_squared_error: 0.0216\n",
      "Epoch 83/100\n",
      "15/15 [==============================] - 0s 18ms/step - loss: 0.0123 - mean_squared_error: 0.0123 - val_loss: 0.0186 - val_mean_squared_error: 0.0186\n",
      "Epoch 84/100\n",
      "15/15 [==============================] - 0s 17ms/step - loss: 0.0122 - mean_squared_error: 0.0122 - val_loss: 0.0192 - val_mean_squared_error: 0.0192\n",
      "Epoch 85/100\n",
      "15/15 [==============================] - 0s 19ms/step - loss: 0.0126 - mean_squared_error: 0.0126 - val_loss: 0.0187 - val_mean_squared_error: 0.0187\n",
      "Epoch 86/100\n",
      "15/15 [==============================] - 0s 17ms/step - loss: 0.0126 - mean_squared_error: 0.0126 - val_loss: 0.0186 - val_mean_squared_error: 0.0186\n",
      "Epoch 87/100\n",
      "15/15 [==============================] - 0s 18ms/step - loss: 0.0121 - mean_squared_error: 0.0121 - val_loss: 0.0183 - val_mean_squared_error: 0.0183\n",
      "Epoch 88/100\n",
      "15/15 [==============================] - 0s 18ms/step - loss: 0.0125 - mean_squared_error: 0.0125 - val_loss: 0.0183 - val_mean_squared_error: 0.0183\n",
      "Epoch 89/100\n",
      "15/15 [==============================] - 0s 17ms/step - loss: 0.0117 - mean_squared_error: 0.0117 - val_loss: 0.0181 - val_mean_squared_error: 0.0181\n",
      "Epoch 90/100\n",
      "15/15 [==============================] - 0s 20ms/step - loss: 0.0121 - mean_squared_error: 0.0121 - val_loss: 0.0179 - val_mean_squared_error: 0.0179\n",
      "Epoch 91/100\n",
      "15/15 [==============================] - 0s 17ms/step - loss: 0.0123 - mean_squared_error: 0.0123 - val_loss: 0.0187 - val_mean_squared_error: 0.0187\n",
      "Epoch 92/100\n",
      "15/15 [==============================] - 0s 18ms/step - loss: 0.0118 - mean_squared_error: 0.0118 - val_loss: 0.0189 - val_mean_squared_error: 0.0189\n",
      "Epoch 93/100\n",
      "15/15 [==============================] - 0s 18ms/step - loss: 0.0124 - mean_squared_error: 0.0124 - val_loss: 0.0186 - val_mean_squared_error: 0.0186\n",
      "Epoch 94/100\n",
      "15/15 [==============================] - 0s 18ms/step - loss: 0.0119 - mean_squared_error: 0.0119 - val_loss: 0.0178 - val_mean_squared_error: 0.0178\n",
      "Epoch 95/100\n",
      "15/15 [==============================] - 0s 17ms/step - loss: 0.0121 - mean_squared_error: 0.0121 - val_loss: 0.0177 - val_mean_squared_error: 0.0177\n",
      "Epoch 96/100\n",
      "15/15 [==============================] - 0s 18ms/step - loss: 0.0125 - mean_squared_error: 0.0125 - val_loss: 0.0188 - val_mean_squared_error: 0.0188\n",
      "Epoch 97/100\n",
      "15/15 [==============================] - 0s 18ms/step - loss: 0.0122 - mean_squared_error: 0.0122 - val_loss: 0.0195 - val_mean_squared_error: 0.0195\n",
      "Epoch 98/100\n",
      "15/15 [==============================] - 0s 18ms/step - loss: 0.0119 - mean_squared_error: 0.0119 - val_loss: 0.0194 - val_mean_squared_error: 0.0194\n",
      "Epoch 99/100\n",
      "15/15 [==============================] - 0s 18ms/step - loss: 0.0119 - mean_squared_error: 0.0119 - val_loss: 0.0186 - val_mean_squared_error: 0.0186\n",
      "Epoch 100/100\n",
      "15/15 [==============================] - 0s 17ms/step - loss: 0.0122 - mean_squared_error: 0.0122 - val_loss: 0.0185 - val_mean_squared_error: 0.0185\n"
     ]
    }
   ],
   "source": [
    "history=model.fit(trainX,trainY,epochs=100,batch_size=32,validation_split=0.2,verbose=1)"
   ]
  },
  {
   "cell_type": "code",
   "execution_count": null,
   "metadata": {
    "id": "EvE2z4rPL20O"
   },
   "outputs": [],
   "source": [
    "n_future=30\n",
    "forecast_period_dates = pd.date_range(list(train_dates)[-1], periods=n_future, freq='1d').tolist()"
   ]
  },
  {
   "cell_type": "code",
   "execution_count": 41,
   "metadata": {
    "id": "nagFiPT7NeuF"
   },
   "outputs": [],
   "source": [
    "forecast = model.predict(testX) #forecast \n"
   ]
  },
  {
   "cell_type": "code",
   "execution_count": 42,
   "metadata": {
    "colab": {
     "base_uri": "https://localhost:8080/"
    },
    "id": "U2w9eKig7r9N",
    "outputId": "c17afba7-5918-4b89-f6ef-77ee2113bd82"
   },
   "outputs": [
    {
     "data": {
      "text/plain": [
       "array([[0.24636704],\n",
       "       [0.21731922],\n",
       "       [0.27318317],\n",
       "       [0.26044875],\n",
       "       [0.2523659 ],\n",
       "       [0.25246212],\n",
       "       [0.21045655],\n",
       "       [0.18251029],\n",
       "       [0.31910932],\n",
       "       [0.31530404],\n",
       "       [0.2806606 ],\n",
       "       [0.25957698],\n",
       "       [0.19662926],\n",
       "       [0.15432492],\n",
       "       [0.2601552 ],\n",
       "       [0.2423911 ],\n",
       "       [0.26773256],\n",
       "       [0.26400387],\n",
       "       [0.25204828],\n",
       "       [0.23731269],\n",
       "       [0.19979557],\n",
       "       [0.15121165],\n",
       "       [0.2781496 ],\n",
       "       [0.34151256],\n",
       "       [0.3530175 ],\n",
       "       [0.29991305],\n",
       "       [0.238557  ],\n",
       "       [0.27155787],\n",
       "       [0.27463025],\n",
       "       [0.29053915],\n",
       "       [0.27910456],\n",
       "       [0.22210893],\n",
       "       [0.33347684],\n",
       "       [0.3574276 ],\n",
       "       [0.34934753],\n",
       "       [0.39171943],\n",
       "       [0.34037542],\n",
       "       [0.31516582],\n",
       "       [0.3132438 ],\n",
       "       [0.2680432 ],\n",
       "       [0.35799637],\n",
       "       [0.35478702],\n",
       "       [0.32855648],\n",
       "       [0.48364186],\n",
       "       [0.36230263],\n",
       "       [0.43460625],\n",
       "       [0.38116375],\n",
       "       [0.3632119 ],\n",
       "       [0.28341025],\n",
       "       [0.32768828],\n",
       "       [0.2557637 ],\n",
       "       [0.36020163],\n",
       "       [0.37664366],\n",
       "       [0.3314676 ],\n",
       "       [0.43101257],\n",
       "       [0.37008974],\n",
       "       [0.38550147],\n",
       "       [0.49067107],\n",
       "       [0.4142676 ],\n",
       "       [0.36278602],\n",
       "       [0.31817544],\n",
       "       [0.3986818 ],\n",
       "       [0.42069837],\n",
       "       [0.396801  ],\n",
       "       [0.36698267],\n",
       "       [0.30189294],\n",
       "       [0.46121052],\n",
       "       [0.45597005],\n",
       "       [0.4442713 ],\n",
       "       [0.4112157 ],\n",
       "       [0.36527866],\n",
       "       [0.32020512],\n",
       "       [0.2635408 ],\n",
       "       [0.3622931 ],\n",
       "       [0.38060638],\n",
       "       [0.3807362 ],\n",
       "       [0.25920987],\n",
       "       [0.399727  ],\n",
       "       [0.38943127],\n",
       "       [0.52012   ],\n",
       "       [0.52134013],\n",
       "       [0.46678212],\n",
       "       [0.41494852],\n",
       "       [0.42129073],\n",
       "       [0.40166572],\n",
       "       [0.40237674],\n",
       "       [0.3583812 ],\n",
       "       [0.32353762],\n",
       "       [0.27313662],\n",
       "       [0.35887727],\n",
       "       [0.4003931 ],\n",
       "       [0.42992803],\n",
       "       [0.4056493 ],\n",
       "       [0.3258127 ],\n",
       "       [0.3726608 ],\n",
       "       [0.3873572 ],\n",
       "       [0.44136742],\n",
       "       [0.40799606],\n",
       "       [0.38216874],\n",
       "       [0.3432688 ],\n",
       "       [0.29908395],\n",
       "       [0.4790815 ],\n",
       "       [0.5160812 ],\n",
       "       [0.5852048 ],\n",
       "       [0.56129783],\n",
       "       [0.39686278],\n",
       "       [0.3566104 ],\n",
       "       [0.51298785],\n",
       "       [0.44024274],\n",
       "       [0.5437386 ],\n",
       "       [0.51420546],\n",
       "       [0.41330227],\n",
       "       [0.3982783 ],\n",
       "       [0.3920188 ],\n",
       "       [0.39123818],\n",
       "       [0.42826146],\n",
       "       [0.4048056 ],\n",
       "       [0.47642228],\n",
       "       [0.41559592]], dtype=float32)"
      ]
     },
     "execution_count": 42,
     "metadata": {
      "tags": []
     },
     "output_type": "execute_result"
    }
   ],
   "source": [
    "forecast"
   ]
  },
  {
   "cell_type": "code",
   "execution_count": null,
   "metadata": {
    "id": "44BVVfy_71ei"
   },
   "outputs": [],
   "source": []
  },
  {
   "cell_type": "code",
   "execution_count": null,
   "metadata": {
    "colab": {
     "base_uri": "https://localhost:8080/"
    },
    "id": "NBlLoaaOyK4l",
    "outputId": "b15588e8-7012-4567-b0b9-f7de63a12536"
   },
   "outputs": [
    {
     "data": {
      "text/plain": [
       "0     2019-01-03\n",
       "1     2019-01-04\n",
       "2     2019-01-05\n",
       "3     2019-01-06\n",
       "4     2019-01-07\n",
       "         ...    \n",
       "719   2021-04-30\n",
       "720   2021-05-01\n",
       "721   2021-05-05\n",
       "722   2021-05-08\n",
       "723   2021-05-13\n",
       "Name: Created Date, Length: 724, dtype: datetime64[ns]"
      ]
     },
     "execution_count": 44,
     "metadata": {
      "tags": []
     },
     "output_type": "execute_result"
    }
   ],
   "source": [
    "train_dates"
   ]
  },
  {
   "cell_type": "code",
   "execution_count": null,
   "metadata": {
    "colab": {
     "base_uri": "https://localhost:8080/"
    },
    "id": "0EMYxOtzXXlU",
    "outputId": "b145bf57-07e7-43fe-ce2b-68487b88e9d9"
   },
   "outputs": [
    {
     "data": {
      "text/plain": [
       "[Timestamp('2021-05-13 00:00:00', freq='D'),\n",
       " Timestamp('2021-05-14 00:00:00', freq='D'),\n",
       " Timestamp('2021-05-15 00:00:00', freq='D'),\n",
       " Timestamp('2021-05-16 00:00:00', freq='D'),\n",
       " Timestamp('2021-05-17 00:00:00', freq='D'),\n",
       " Timestamp('2021-05-18 00:00:00', freq='D'),\n",
       " Timestamp('2021-05-19 00:00:00', freq='D'),\n",
       " Timestamp('2021-05-20 00:00:00', freq='D'),\n",
       " Timestamp('2021-05-21 00:00:00', freq='D'),\n",
       " Timestamp('2021-05-22 00:00:00', freq='D'),\n",
       " Timestamp('2021-05-23 00:00:00', freq='D'),\n",
       " Timestamp('2021-05-24 00:00:00', freq='D'),\n",
       " Timestamp('2021-05-25 00:00:00', freq='D'),\n",
       " Timestamp('2021-05-26 00:00:00', freq='D'),\n",
       " Timestamp('2021-05-27 00:00:00', freq='D'),\n",
       " Timestamp('2021-05-28 00:00:00', freq='D'),\n",
       " Timestamp('2021-05-29 00:00:00', freq='D'),\n",
       " Timestamp('2021-05-30 00:00:00', freq='D'),\n",
       " Timestamp('2021-05-31 00:00:00', freq='D'),\n",
       " Timestamp('2021-06-01 00:00:00', freq='D'),\n",
       " Timestamp('2021-06-02 00:00:00', freq='D'),\n",
       " Timestamp('2021-06-03 00:00:00', freq='D'),\n",
       " Timestamp('2021-06-04 00:00:00', freq='D'),\n",
       " Timestamp('2021-06-05 00:00:00', freq='D'),\n",
       " Timestamp('2021-06-06 00:00:00', freq='D'),\n",
       " Timestamp('2021-06-07 00:00:00', freq='D'),\n",
       " Timestamp('2021-06-08 00:00:00', freq='D'),\n",
       " Timestamp('2021-06-09 00:00:00', freq='D'),\n",
       " Timestamp('2021-06-10 00:00:00', freq='D'),\n",
       " Timestamp('2021-06-11 00:00:00', freq='D')]"
      ]
     },
     "execution_count": 45,
     "metadata": {
      "tags": []
     },
     "output_type": "execute_result"
    }
   ],
   "source": [
    "forecast_period_dates"
   ]
  },
  {
   "cell_type": "code",
   "execution_count": null,
   "metadata": {
    "colab": {
     "base_uri": "https://localhost:8080/"
    },
    "id": "OcQt5XgbXHMp",
    "outputId": "e9cc4373-9a54-453e-f20d-3a8a0a051a89"
   },
   "outputs": [
    {
     "data": {
      "text/plain": [
       "array([[[0.11940299, 0.56108597, 0.752     , 0.48833448],\n",
       "        [0.2238806 , 0.66968326, 0.656     , 0.26435459],\n",
       "        [0.14925373, 0.3438914 , 0.416     , 0.28681777],\n",
       "        [0.25373134, 0.04072398, 0.312     , 0.12830267],\n",
       "        [0.20895522, 0.63800905, 0.808     , 0.11131407]],\n",
       "\n",
       "       [[0.2238806 , 0.66968326, 0.656     , 0.26435459],\n",
       "        [0.14925373, 0.3438914 , 0.416     , 0.28681777],\n",
       "        [0.25373134, 0.04072398, 0.312     , 0.12830267],\n",
       "        [0.20895522, 0.63800905, 0.808     , 0.11131407],\n",
       "        [0.11940299, 0.71945701, 0.824     , 0.35840267]],\n",
       "\n",
       "       [[0.14925373, 0.3438914 , 0.416     , 0.28681777],\n",
       "        [0.25373134, 0.04072398, 0.312     , 0.12830267],\n",
       "        [0.20895522, 0.63800905, 0.808     , 0.11131407],\n",
       "        [0.11940299, 0.71945701, 0.824     , 0.35840267],\n",
       "        [0.34328358, 0.65158371, 0.848     , 0.35418946]],\n",
       "\n",
       "       [[0.25373134, 0.04072398, 0.312     , 0.12830267],\n",
       "        [0.20895522, 0.63800905, 0.808     , 0.11131407],\n",
       "        [0.11940299, 0.71945701, 0.824     , 0.35840267],\n",
       "        [0.34328358, 0.65158371, 0.848     , 0.35418946],\n",
       "        [0.34328358, 0.58823529, 0.632     , 0.36974119]],\n",
       "\n",
       "       [[0.20895522, 0.63800905, 0.808     , 0.11131407],\n",
       "        [0.11940299, 0.71945701, 0.824     , 0.35840267],\n",
       "        [0.34328358, 0.65158371, 0.848     , 0.35418946],\n",
       "        [0.34328358, 0.58823529, 0.632     , 0.36974119],\n",
       "        [0.35820896, 0.239819  , 0.336     , 0.08135959]],\n",
       "\n",
       "       [[0.11940299, 0.71945701, 0.824     , 0.35840267],\n",
       "        [0.34328358, 0.65158371, 0.848     , 0.35418946],\n",
       "        [0.34328358, 0.58823529, 0.632     , 0.36974119],\n",
       "        [0.35820896, 0.239819  , 0.336     , 0.08135959],\n",
       "        [0.19402985, 0.58371041, 0.752     , 0.27424269]],\n",
       "\n",
       "       [[0.34328358, 0.65158371, 0.848     , 0.35418946],\n",
       "        [0.34328358, 0.58823529, 0.632     , 0.36974119],\n",
       "        [0.35820896, 0.239819  , 0.336     , 0.08135959],\n",
       "        [0.19402985, 0.58371041, 0.752     , 0.27424269],\n",
       "        [0.32835821, 0.66515837, 0.848     , 0.41890155]],\n",
       "\n",
       "       [[0.34328358, 0.58823529, 0.632     , 0.36974119],\n",
       "        [0.35820896, 0.239819  , 0.336     , 0.08135959],\n",
       "        [0.19402985, 0.58371041, 0.752     , 0.27424269],\n",
       "        [0.32835821, 0.66515837, 0.848     , 0.41890155],\n",
       "        [0.44776119, 0.80995475, 0.904     , 0.52551502]],\n",
       "\n",
       "       [[0.35820896, 0.239819  , 0.336     , 0.08135959],\n",
       "        [0.19402985, 0.58371041, 0.752     , 0.27424269],\n",
       "        [0.32835821, 0.66515837, 0.848     , 0.41890155],\n",
       "        [0.44776119, 0.80995475, 0.904     , 0.52551502],\n",
       "        [0.40298507, 0.59276018, 0.64      , 0.24646025]],\n",
       "\n",
       "       [[0.19402985, 0.58371041, 0.752     , 0.27424269],\n",
       "        [0.32835821, 0.66515837, 0.848     , 0.41890155],\n",
       "        [0.44776119, 0.80995475, 0.904     , 0.52551502],\n",
       "        [0.40298507, 0.59276018, 0.64      , 0.24646025],\n",
       "        [0.13432836, 0.73303167, 0.744     , 0.41596477]],\n",
       "\n",
       "       [[0.32835821, 0.66515837, 0.848     , 0.41890155],\n",
       "        [0.44776119, 0.80995475, 0.904     , 0.52551502],\n",
       "        [0.40298507, 0.59276018, 0.64      , 0.24646025],\n",
       "        [0.13432836, 0.73303167, 0.744     , 0.41596477],\n",
       "        [0.49253731, 0.33031674, 0.528     , 0.26153018]],\n",
       "\n",
       "       [[0.44776119, 0.80995475, 0.904     , 0.52551502],\n",
       "        [0.40298507, 0.59276018, 0.64      , 0.24646025],\n",
       "        [0.13432836, 0.73303167, 0.744     , 0.41596477],\n",
       "        [0.49253731, 0.33031674, 0.528     , 0.26153018],\n",
       "        [0.44776119, 0.00452489, 0.24      , 0.00202273]],\n",
       "\n",
       "       [[0.40298507, 0.59276018, 0.64      , 0.24646025],\n",
       "        [0.13432836, 0.73303167, 0.744     , 0.41596477],\n",
       "        [0.49253731, 0.33031674, 0.528     , 0.26153018],\n",
       "        [0.44776119, 0.00452489, 0.24      , 0.00202273],\n",
       "        [0.28358209, 0.7918552 , 0.832     , 0.42929824]],\n",
       "\n",
       "       [[0.13432836, 0.73303167, 0.744     , 0.41596477],\n",
       "        [0.49253731, 0.33031674, 0.528     , 0.26153018],\n",
       "        [0.44776119, 0.00452489, 0.24      , 0.00202273],\n",
       "        [0.28358209, 0.7918552 , 0.832     , 0.42929824],\n",
       "        [0.43283582, 0.81900452, 0.936     , 0.2809081 ]],\n",
       "\n",
       "       [[0.49253731, 0.33031674, 0.528     , 0.26153018],\n",
       "        [0.44776119, 0.00452489, 0.24      , 0.00202273],\n",
       "        [0.28358209, 0.7918552 , 0.832     , 0.42929824],\n",
       "        [0.43283582, 0.81900452, 0.936     , 0.2809081 ],\n",
       "        [0.53731343, 0.94117647, 0.824     , 0.43235859]],\n",
       "\n",
       "       [[0.44776119, 0.00452489, 0.24      , 0.00202273],\n",
       "        [0.28358209, 0.7918552 , 0.832     , 0.42929824],\n",
       "        [0.43283582, 0.81900452, 0.936     , 0.2809081 ],\n",
       "        [0.53731343, 0.94117647, 0.824     , 0.43235859],\n",
       "        [0.56716418, 0.80995475, 0.904     , 0.36514999]],\n",
       "\n",
       "       [[0.28358209, 0.7918552 , 0.832     , 0.42929824],\n",
       "        [0.43283582, 0.81900452, 0.936     , 0.2809081 ],\n",
       "        [0.53731343, 0.94117647, 0.824     , 0.43235859],\n",
       "        [0.56716418, 0.80995475, 0.904     , 0.36514999],\n",
       "        [0.44776119, 0.41628959, 0.624     , 0.27830825]],\n",
       "\n",
       "       [[0.43283582, 0.81900452, 0.936     , 0.2809081 ],\n",
       "        [0.53731343, 0.94117647, 0.824     , 0.43235859],\n",
       "        [0.56716418, 0.80995475, 0.904     , 0.36514999],\n",
       "        [0.44776119, 0.41628959, 0.624     , 0.27830825],\n",
       "        [0.31343284, 0.04072398, 0.336     , 0.00612948]],\n",
       "\n",
       "       [[0.53731343, 0.94117647, 0.824     , 0.43235859],\n",
       "        [0.56716418, 0.80995475, 0.904     , 0.36514999],\n",
       "        [0.44776119, 0.41628959, 0.624     , 0.27830825],\n",
       "        [0.31343284, 0.04072398, 0.336     , 0.00612948],\n",
       "        [0.2238806 , 0.80542986, 0.88      , 0.3790387 ]],\n",
       "\n",
       "       [[0.56716418, 0.80995475, 0.904     , 0.36514999],\n",
       "        [0.44776119, 0.41628959, 0.624     , 0.27830825],\n",
       "        [0.31343284, 0.04072398, 0.336     , 0.00612948],\n",
       "        [0.2238806 , 0.80542986, 0.88      , 0.3790387 ],\n",
       "        [0.26865672, 0.49321267, 0.488     , 0.58479458]],\n",
       "\n",
       "       [[0.44776119, 0.41628959, 0.624     , 0.27830825],\n",
       "        [0.31343284, 0.04072398, 0.336     , 0.00612948],\n",
       "        [0.2238806 , 0.80542986, 0.88      , 0.3790387 ],\n",
       "        [0.26865672, 0.49321267, 0.488     , 0.58479458],\n",
       "        [0.2238806 , 0.90045249, 0.976     , 0.36343602]],\n",
       "\n",
       "       [[0.31343284, 0.04072398, 0.336     , 0.00612948],\n",
       "        [0.2238806 , 0.80542986, 0.88      , 0.3790387 ],\n",
       "        [0.26865672, 0.49321267, 0.488     , 0.58479458],\n",
       "        [0.2238806 , 0.90045249, 0.976     , 0.36343602],\n",
       "        [0.17910448, 0.72850679, 0.792     , 0.50583776]],\n",
       "\n",
       "       [[0.2238806 , 0.80542986, 0.88      , 0.3790387 ],\n",
       "        [0.26865672, 0.49321267, 0.488     , 0.58479458],\n",
       "        [0.2238806 , 0.90045249, 0.976     , 0.36343602],\n",
       "        [0.17910448, 0.72850679, 0.792     , 0.50583776],\n",
       "        [0.26865672, 0.78733032, 0.888     , 0.34753888]],\n",
       "\n",
       "       [[0.26865672, 0.49321267, 0.488     , 0.58479458],\n",
       "        [0.2238806 , 0.90045249, 0.976     , 0.36343602],\n",
       "        [0.17910448, 0.72850679, 0.792     , 0.50583776],\n",
       "        [0.26865672, 0.78733032, 0.888     , 0.34753888],\n",
       "        [0.20895522, 0.6561086 , 0.944     , 0.45913045]],\n",
       "\n",
       "       [[0.2238806 , 0.90045249, 0.976     , 0.36343602],\n",
       "        [0.17910448, 0.72850679, 0.792     , 0.50583776],\n",
       "        [0.26865672, 0.78733032, 0.888     , 0.34753888],\n",
       "        [0.20895522, 0.6561086 , 0.944     , 0.45913045],\n",
       "        [0.34328358, 0.47963801, 0.6       , 0.26019682]],\n",
       "\n",
       "       [[0.17910448, 0.72850679, 0.792     , 0.50583776],\n",
       "        [0.26865672, 0.78733032, 0.888     , 0.34753888],\n",
       "        [0.20895522, 0.6561086 , 0.944     , 0.45913045],\n",
       "        [0.34328358, 0.47963801, 0.6       , 0.26019682],\n",
       "        [0.26865672, 0.69683258, 0.84      , 0.33437937]],\n",
       "\n",
       "       [[0.26865672, 0.78733032, 0.888     , 0.34753888],\n",
       "        [0.20895522, 0.6561086 , 0.944     , 0.45913045],\n",
       "        [0.34328358, 0.47963801, 0.6       , 0.26019682],\n",
       "        [0.26865672, 0.69683258, 0.84      , 0.33437937],\n",
       "        [0.46268657, 1.        , 1.        , 0.51511894]],\n",
       "\n",
       "       [[0.20895522, 0.6561086 , 0.944     , 0.45913045],\n",
       "        [0.34328358, 0.47963801, 0.6       , 0.26019682],\n",
       "        [0.26865672, 0.69683258, 0.84      , 0.33437937],\n",
       "        [0.46268657, 1.        , 1.        , 0.51511894],\n",
       "        [0.26865672, 0.75565611, 0.592     , 0.2936655 ]],\n",
       "\n",
       "       [[0.34328358, 0.47963801, 0.6       , 0.26019682],\n",
       "        [0.26865672, 0.69683258, 0.84      , 0.33437937],\n",
       "        [0.46268657, 1.        , 1.        , 0.51511894],\n",
       "        [0.26865672, 0.75565611, 0.592     , 0.2936655 ],\n",
       "        [0.28358209, 0.90950226, 0.984     , 0.5656266 ]],\n",
       "\n",
       "       [[0.26865672, 0.69683258, 0.84      , 0.33437937],\n",
       "        [0.46268657, 1.        , 1.        , 0.51511894],\n",
       "        [0.26865672, 0.75565611, 0.592     , 0.2936655 ],\n",
       "        [0.28358209, 0.90950226, 0.984     , 0.5656266 ],\n",
       "        [0.26865672, 0.48868778, 0.592     , 0.27565955]]])"
      ]
     },
     "execution_count": 46,
     "metadata": {
      "tags": []
     },
     "output_type": "execute_result"
    }
   ],
   "source": [
    "trainX[-n_future:]"
   ]
  },
  {
   "cell_type": "code",
   "execution_count": 43,
   "metadata": {
    "colab": {
     "base_uri": "https://localhost:8080/"
    },
    "id": "_NcEwr0KNqam",
    "outputId": "9b1a3b96-1e98-492d-a526-38e7eaa579a3"
   },
   "outputs": [
    {
     "data": {
      "text/plain": [
       "array([[0.24636704],\n",
       "       [0.21731922],\n",
       "       [0.27318317],\n",
       "       [0.26044875],\n",
       "       [0.2523659 ],\n",
       "       [0.25246212],\n",
       "       [0.21045655],\n",
       "       [0.18251029],\n",
       "       [0.31910932],\n",
       "       [0.31530404],\n",
       "       [0.2806606 ],\n",
       "       [0.25957698],\n",
       "       [0.19662926],\n",
       "       [0.15432492],\n",
       "       [0.2601552 ],\n",
       "       [0.2423911 ],\n",
       "       [0.26773256],\n",
       "       [0.26400387],\n",
       "       [0.25204828],\n",
       "       [0.23731269],\n",
       "       [0.19979557],\n",
       "       [0.15121165],\n",
       "       [0.2781496 ],\n",
       "       [0.34151256],\n",
       "       [0.3530175 ],\n",
       "       [0.29991305],\n",
       "       [0.238557  ],\n",
       "       [0.27155787],\n",
       "       [0.27463025],\n",
       "       [0.29053915],\n",
       "       [0.27910456],\n",
       "       [0.22210893],\n",
       "       [0.33347684],\n",
       "       [0.3574276 ],\n",
       "       [0.34934753],\n",
       "       [0.39171943],\n",
       "       [0.34037542],\n",
       "       [0.31516582],\n",
       "       [0.3132438 ],\n",
       "       [0.2680432 ],\n",
       "       [0.35799637],\n",
       "       [0.35478702],\n",
       "       [0.32855648],\n",
       "       [0.48364186],\n",
       "       [0.36230263],\n",
       "       [0.43460625],\n",
       "       [0.38116375],\n",
       "       [0.3632119 ],\n",
       "       [0.28341025],\n",
       "       [0.32768828],\n",
       "       [0.2557637 ],\n",
       "       [0.36020163],\n",
       "       [0.37664366],\n",
       "       [0.3314676 ],\n",
       "       [0.43101257],\n",
       "       [0.37008974],\n",
       "       [0.38550147],\n",
       "       [0.49067107],\n",
       "       [0.4142676 ],\n",
       "       [0.36278602],\n",
       "       [0.31817544],\n",
       "       [0.3986818 ],\n",
       "       [0.42069837],\n",
       "       [0.396801  ],\n",
       "       [0.36698267],\n",
       "       [0.30189294],\n",
       "       [0.46121052],\n",
       "       [0.45597005],\n",
       "       [0.4442713 ],\n",
       "       [0.4112157 ],\n",
       "       [0.36527866],\n",
       "       [0.32020512],\n",
       "       [0.2635408 ],\n",
       "       [0.3622931 ],\n",
       "       [0.38060638],\n",
       "       [0.3807362 ],\n",
       "       [0.25920987],\n",
       "       [0.399727  ],\n",
       "       [0.38943127],\n",
       "       [0.52012   ],\n",
       "       [0.52134013],\n",
       "       [0.46678212],\n",
       "       [0.41494852],\n",
       "       [0.42129073],\n",
       "       [0.40166572],\n",
       "       [0.40237674],\n",
       "       [0.3583812 ],\n",
       "       [0.32353762],\n",
       "       [0.27313662],\n",
       "       [0.35887727],\n",
       "       [0.4003931 ],\n",
       "       [0.42992803],\n",
       "       [0.4056493 ],\n",
       "       [0.3258127 ],\n",
       "       [0.3726608 ],\n",
       "       [0.3873572 ],\n",
       "       [0.44136742],\n",
       "       [0.40799606],\n",
       "       [0.38216874],\n",
       "       [0.3432688 ],\n",
       "       [0.29908395],\n",
       "       [0.4790815 ],\n",
       "       [0.5160812 ],\n",
       "       [0.5852048 ],\n",
       "       [0.56129783],\n",
       "       [0.39686278],\n",
       "       [0.3566104 ],\n",
       "       [0.51298785],\n",
       "       [0.44024274],\n",
       "       [0.5437386 ],\n",
       "       [0.51420546],\n",
       "       [0.41330227],\n",
       "       [0.3982783 ],\n",
       "       [0.3920188 ],\n",
       "       [0.39123818],\n",
       "       [0.42826146],\n",
       "       [0.4048056 ],\n",
       "       [0.47642228],\n",
       "       [0.41559592]], dtype=float32)"
      ]
     },
     "execution_count": 43,
     "metadata": {
      "tags": []
     },
     "output_type": "execute_result"
    }
   ],
   "source": [
    "forecast"
   ]
  },
  {
   "cell_type": "code",
   "execution_count": 45,
   "metadata": {
    "colab": {
     "base_uri": "https://localhost:8080/"
    },
    "id": "xnWXECioks6o",
    "outputId": "23d3a8eb-cb37-40fa-8187-ae546636b814"
   },
   "outputs": [
    {
     "data": {
      "text/plain": [
       "4"
      ]
     },
     "execution_count": 45,
     "metadata": {
      "tags": []
     },
     "output_type": "execute_result"
    }
   ],
   "source": [
    "df_for_training.shape[1]"
   ]
  },
  {
   "cell_type": "code",
   "execution_count": 46,
   "metadata": {
    "id": "7NmyWcxZNrcB"
   },
   "outputs": [],
   "source": [
    "forecast_copies = np.repeat(forecast, df_for_training.shape[1], axis=-1)\n",
    "y_pred_future = scaler.inverse_transform(forecast_copies)[:,3]"
   ]
  },
  {
   "cell_type": "code",
   "execution_count": 47,
   "metadata": {
    "colab": {
     "base_uri": "https://localhost:8080/"
    },
    "id": "6T2487c3TMtt",
    "outputId": "27e0af61-f75f-49f3-8186-2ee3754f0aa1"
   },
   "outputs": [
    {
     "data": {
      "text/plain": [
       "array([[6.65065918e+01, 5.54471169e+01, 3.17958775e+01, 1.00484555e+05],\n",
       "       [6.45603867e+01, 4.90275459e+01, 2.81649036e+01, 8.86369531e+04],\n",
       "       [6.83032761e+01, 6.13734779e+01, 3.51478958e+01, 1.11421914e+05],\n",
       "       [6.74500656e+01, 5.85591736e+01, 3.35560913e+01, 1.06227992e+05],\n",
       "       [6.69085159e+01, 5.67728615e+01, 3.25457344e+01, 1.02931273e+05],\n",
       "       [6.69149628e+01, 5.67941284e+01, 3.25577621e+01, 1.02970523e+05],\n",
       "       [6.41005859e+01, 4.75108986e+01, 2.73070698e+01, 8.58379141e+04],\n",
       "       [6.22281876e+01, 4.13347740e+01, 2.38137856e+01, 7.44396016e+04],\n",
       "       [7.13803253e+01, 7.15231628e+01, 4.08886642e+01, 1.30153602e+05],\n",
       "       [7.11253662e+01, 7.06821899e+01, 4.04130020e+01, 1.28601555e+05],\n",
       "       [6.88042603e+01, 6.30259933e+01, 3.60825729e+01, 1.14471703e+05],\n",
       "       [6.73916626e+01, 5.83665123e+01, 3.34471207e+01, 1.05872422e+05],\n",
       "       [6.31741600e+01, 4.44550667e+01, 2.55786572e+01, 8.01982422e+04],\n",
       "       [6.03397713e+01, 3.51058083e+01, 2.02906151e+01, 6.29437695e+04],\n",
       "       [6.74303970e+01, 5.84943008e+01, 3.35193977e+01, 1.06108266e+05],\n",
       "       [6.62402039e+01, 5.45684319e+01, 3.12988873e+01, 9.88628984e+04],\n",
       "       [6.79380875e+01, 6.01688957e+01, 3.44665680e+01, 1.09198805e+05],\n",
       "       [6.76882553e+01, 5.93448563e+01, 3.40004807e+01, 1.07678000e+05],\n",
       "       [6.68872375e+01, 5.67026711e+01, 3.25060349e+01, 1.02801734e+05],\n",
       "       [6.58999481e+01, 5.34461060e+01, 3.06640854e+01, 9.67915938e+04],\n",
       "       [6.33863029e+01, 4.51548233e+01, 2.59744473e+01, 8.14896719e+04],\n",
       "       [6.01311798e+01, 3.44177742e+01, 1.99014568e+01, 6.16739766e+04],\n",
       "       [6.86360245e+01, 6.24710617e+01, 3.57686996e+01, 1.13447555e+05],\n",
       "       [7.28813400e+01, 7.64742737e+01, 4.36890678e+01, 1.39291109e+05],\n",
       "       [7.36521759e+01, 7.90168686e+01, 4.51271858e+01, 1.43983578e+05],\n",
       "       [7.00941696e+01, 6.72807846e+01, 3.84891281e+01, 1.22324109e+05],\n",
       "       [6.59833221e+01, 5.37210960e+01, 3.08196239e+01, 9.72991094e+04],\n",
       "       [6.81943817e+01, 6.10142899e+01, 3.49447327e+01, 1.10759016e+05],\n",
       "       [6.84002304e+01, 6.16932831e+01, 3.53287811e+01, 1.12012133e+05],\n",
       "       [6.94661179e+01, 6.52091522e+01, 3.73173904e+01, 1.18500820e+05],\n",
       "       [6.87000046e+01, 6.26821060e+01, 3.58880692e+01, 1.13837047e+05],\n",
       "       [6.48813019e+01, 5.00860748e+01, 2.87636166e+01, 9.05905156e+04],\n",
       "       [7.23429489e+01, 7.46983795e+01, 4.26846046e+01, 1.36013609e+05],\n",
       "       [7.39476471e+01, 7.99915009e+01, 4.56784477e+01, 1.45782297e+05],\n",
       "       [7.34062881e+01, 7.82058029e+01, 4.46684380e+01, 1.42486719e+05],\n",
       "       [7.62452011e+01, 8.75699921e+01, 4.99649277e+01, 1.59768734e+05],\n",
       "       [7.28051529e+01, 7.62229691e+01, 4.35469246e+01, 1.38827297e+05],\n",
       "       [7.11161118e+01, 7.06516418e+01, 4.03957253e+01, 1.28545180e+05],\n",
       "       [7.09873352e+01, 7.02268829e+01, 4.01554756e+01, 1.27761258e+05],\n",
       "       [6.79588928e+01, 6.02375450e+01, 3.45053978e+01, 1.09325500e+05],\n",
       "       [7.39857559e+01, 8.01171951e+01, 4.57495461e+01, 1.46014281e+05],\n",
       "       [7.37707291e+01, 7.94079285e+01, 4.53483772e+01, 1.44705297e+05],\n",
       "       [7.20132828e+01, 7.36109848e+01, 4.20695572e+01, 1.34006766e+05],\n",
       "       [8.24039993e+01, 1.07884850e+02, 6.14552307e+01, 1.97260703e+05],\n",
       "       [7.42742767e+01, 8.10688782e+01, 4.62878265e+01, 1.47770656e+05],\n",
       "       [7.91186218e+01, 9.70479813e+01, 5.53257790e+01, 1.77260781e+05],\n",
       "       [7.55379639e+01, 8.52371902e+01, 4.86454659e+01, 1.55463438e+05],\n",
       "       [7.43351898e+01, 8.12698288e+01, 4.64014854e+01, 1.48141516e+05],\n",
       "       [6.89884872e+01, 6.36336670e+01, 3.64262810e+01, 1.15593188e+05],\n",
       "       [7.19551163e+01, 7.34191055e+01, 4.19610329e+01, 1.33652656e+05],\n",
       "       [6.71361694e+01, 5.75237808e+01, 3.29704628e+01, 1.04317125e+05],\n",
       "       [7.41335068e+01, 8.06045609e+01, 4.60251999e+01, 1.46913719e+05],\n",
       "       [7.52351227e+01, 8.42382507e+01, 4.80804558e+01, 1.53619859e+05],\n",
       "       [7.22083282e+01, 7.42543411e+01, 4.24334488e+01, 1.35194109e+05],\n",
       "       [7.88778458e+01, 9.62537766e+01, 5.48765678e+01, 1.75795047e+05],\n",
       "       [7.47960129e+01, 8.27898331e+01, 4.72612152e+01, 1.50946734e+05],\n",
       "       [7.58285980e+01, 8.61958237e+01, 4.91876831e+01, 1.57232656e+05],\n",
       "       [8.28749542e+01, 1.09438309e+02, 6.23338814e+01, 2.00127672e+05],\n",
       "       [7.77559280e+01, 9.25531387e+01, 5.27834473e+01, 1.68965359e+05],\n",
       "       [7.43066635e+01, 8.11757126e+01, 4.63482513e+01, 1.47967812e+05],\n",
       "       [7.13177490e+01, 7.13167725e+01, 4.07719269e+01, 1.29772703e+05],\n",
       "       [7.67116776e+01, 8.91086731e+01, 5.08352203e+01, 1.62608438e+05],\n",
       "       [7.81867905e+01, 9.39743423e+01, 5.35872955e+01, 1.71588250e+05],\n",
       "       [7.65856628e+01, 8.86930161e+01, 5.06001244e+01, 1.61841328e+05],\n",
       "       [7.45878372e+01, 8.21031723e+01, 4.68728333e+01, 1.49679469e+05],\n",
       "       [7.02268295e+01, 6.77183380e+01, 3.87366142e+01, 1.23131633e+05],\n",
       "       [8.09011002e+01, 1.02927528e+02, 5.86513138e+01, 1.88111734e+05],\n",
       "       [8.05499878e+01, 1.01769379e+02, 5.79962540e+01, 1.85974328e+05],\n",
       "       [7.97661743e+01, 9.91839600e+01, 5.65339088e+01, 1.81202812e+05],\n",
       "       [7.75514450e+01, 9.18786697e+01, 5.24019585e+01, 1.67720594e+05],\n",
       "       [7.44736710e+01, 8.17265854e+01, 4.66598320e+01, 1.48984469e+05],\n",
       "       [7.14537430e+01, 7.17653351e+01, 4.10256386e+01, 1.30600539e+05],\n",
       "       [6.76572342e+01, 5.92425194e+01, 3.39426003e+01, 1.07489133e+05],\n",
       "       [7.42736359e+01, 8.10667725e+01, 4.62866364e+01, 1.47766766e+05],\n",
       "       [7.55006256e+01, 8.51140137e+01, 4.85757980e+01, 1.55236109e+05],\n",
       "       [7.55093231e+01, 8.51427002e+01, 4.85920219e+01, 1.55289062e+05],\n",
       "       [6.73670578e+01, 5.82853813e+01, 3.34012337e+01, 1.05722695e+05],\n",
       "       [7.67817078e+01, 8.93396606e+01, 5.09658699e+01, 1.63034750e+05],\n",
       "       [7.60918884e+01, 8.70643082e+01, 4.96789055e+01, 1.58835484e+05],\n",
       "       [8.48480377e+01, 1.15946526e+02, 6.60150070e+01, 2.12138875e+05],\n",
       "       [8.49297867e+01, 1.16216171e+02, 6.61675186e+01, 2.12636516e+05],\n",
       "       [8.12743988e+01, 1.04158852e+02, 5.93477631e+01, 1.90384203e+05],\n",
       "       [7.78015518e+01, 9.27036209e+01, 5.28685646e+01, 1.69243078e+05],\n",
       "       [7.82264786e+01, 9.41052475e+01, 5.36613388e+01, 1.71829844e+05],\n",
       "       [7.69115982e+01, 8.97681198e+01, 5.12082138e+01, 1.63825484e+05],\n",
       "       [7.69592438e+01, 8.99252625e+01, 5.12970924e+01, 1.64115484e+05],\n",
       "       [7.40115433e+01, 8.02022476e+01, 4.57976494e+01, 1.46171234e+05],\n",
       "       [7.16770172e+01, 7.25018158e+01, 4.14421997e+01, 1.31959750e+05],\n",
       "       [6.83001480e+01, 6.13631935e+01, 3.51420746e+01, 1.11402930e+05],\n",
       "       [7.40447769e+01, 8.03118744e+01, 4.58596573e+01, 1.46373562e+05],\n",
       "       [7.68263397e+01, 8.94868774e+01, 5.10491371e+01, 1.63306422e+05],\n",
       "       [7.88051758e+01, 9.60140991e+01, 5.47410011e+01, 1.75352703e+05],\n",
       "       [7.71785049e+01, 9.06484985e+01, 5.17061615e+01, 1.65450250e+05],\n",
       "       [7.18294525e+01, 7.30046082e+01, 4.17265854e+01, 1.32887672e+05],\n",
       "       [7.49682693e+01, 8.33580322e+01, 4.75825958e+01, 1.51995375e+05],\n",
       "       [7.59529343e+01, 8.66059418e+01, 4.94196472e+01, 1.57989547e+05],\n",
       "       [7.95716095e+01, 9.85421982e+01, 5.61709251e+01, 1.80018422e+05],\n",
       "       [7.73357315e+01, 9.11671295e+01, 5.19995041e+01, 1.66407406e+05],\n",
       "       [7.56053085e+01, 8.54592896e+01, 4.87710915e+01, 1.55873344e+05],\n",
       "       [7.29990158e+01, 7.68624039e+01, 4.39085999e+01, 1.40007422e+05],\n",
       "       [7.00386200e+01, 6.70975494e+01, 3.83854904e+01, 1.21985945e+05],\n",
       "       [8.20984573e+01, 1.06877014e+02, 6.08851891e+01, 1.95400703e+05],\n",
       "       [8.45774384e+01, 1.15053947e+02, 6.55101547e+01, 2.10491594e+05],\n",
       "       [8.92087250e+01, 1.30330261e+02, 7.41505966e+01, 2.38684688e+05],\n",
       "       [8.76069565e+01, 1.25046822e+02, 7.11622314e+01, 2.28933875e+05],\n",
       "       [7.65898056e+01, 8.87066727e+01, 5.06078453e+01, 1.61866531e+05],\n",
       "       [7.38928986e+01, 7.98108978e+01, 4.55762978e+01, 1.45448984e+05],\n",
       "       [8.43701859e+01, 1.14370316e+02, 6.51234818e+01, 2.09229906e+05],\n",
       "       [7.94962616e+01, 9.82936478e+01, 5.60303421e+01, 1.79559703e+05],\n",
       "       [8.64304810e+01, 1.21166229e+02, 6.89673309e+01, 2.21772078e+05],\n",
       "       [8.44517670e+01, 1.14639404e+02, 6.52756805e+01, 2.09726531e+05],\n",
       "       [7.76912537e+01, 9.23398056e+01, 5.26627808e+01, 1.68571625e+05],\n",
       "       [7.66846466e+01, 8.90195007e+01, 5.07847862e+01, 1.62443875e+05],\n",
       "       [7.62652588e+01, 8.76361542e+01, 5.00023460e+01, 1.59890844e+05],\n",
       "       [7.62129593e+01, 8.74636383e+01, 4.99047699e+01, 1.59572453e+05],\n",
       "       [7.86935196e+01, 9.56457825e+01, 5.45326805e+01, 1.74672969e+05],\n",
       "       [7.71219788e+01, 9.04620361e+01, 5.16006966e+01, 1.65106141e+05],\n",
       "       [8.19202957e+01, 1.06289322e+02, 6.05527840e+01, 1.94316094e+05],\n",
       "       [7.78449249e+01, 9.28466949e+01, 5.29494896e+01, 1.69507125e+05]],\n",
       "      dtype=float32)"
      ]
     },
     "execution_count": 47,
     "metadata": {
      "tags": []
     },
     "output_type": "execute_result"
    }
   ],
   "source": [
    "\n",
    "scaler.inverse_transform(forecast_copies)\n"
   ]
  },
  {
   "cell_type": "code",
   "execution_count": 48,
   "metadata": {
    "colab": {
     "base_uri": "https://localhost:8080/"
    },
    "id": "syxHK2OsOKKN",
    "outputId": "a777cd61-44cd-448d-c7c4-0eb939c322e3"
   },
   "outputs": [
    {
     "data": {
      "text/plain": [
       "array([100484.555,  88636.95 , 111421.914, 106227.99 , 102931.27 ,\n",
       "       102970.52 ,  85837.914,  74439.6  , 130153.6  , 128601.555,\n",
       "       114471.7  , 105872.42 ,  80198.24 ,  62943.77 , 106108.266,\n",
       "        98862.9  , 109198.805, 107678.   , 102801.734,  96791.59 ,\n",
       "        81489.67 ,  61673.977, 113447.555, 139291.11 , 143983.58 ,\n",
       "       122324.11 ,  97299.11 , 110759.016, 112012.13 , 118500.82 ,\n",
       "       113837.05 ,  90590.516, 136013.61 , 145782.3  , 142486.72 ,\n",
       "       159768.73 , 138827.3  , 128545.18 , 127761.26 , 109325.5  ,\n",
       "       146014.28 , 144705.3  , 134006.77 , 197260.7  , 147770.66 ,\n",
       "       177260.78 , 155463.44 , 148141.52 , 115593.19 , 133652.66 ,\n",
       "       104317.125, 146913.72 , 153619.86 , 135194.11 , 175795.05 ,\n",
       "       150946.73 , 157232.66 , 200127.67 , 168965.36 , 147967.81 ,\n",
       "       129772.7  , 162608.44 , 171588.25 , 161841.33 , 149679.47 ,\n",
       "       123131.63 , 188111.73 , 185974.33 , 181202.81 , 167720.6  ,\n",
       "       148984.47 , 130600.54 , 107489.13 , 147766.77 , 155236.11 ,\n",
       "       155289.06 , 105722.695, 163034.75 , 158835.48 , 212138.88 ,\n",
       "       212636.52 , 190384.2  , 169243.08 , 171829.84 , 163825.48 ,\n",
       "       164115.48 , 146171.23 , 131959.75 , 111402.93 , 146373.56 ,\n",
       "       163306.42 , 175352.7  , 165450.25 , 132887.67 , 151995.38 ,\n",
       "       157989.55 , 180018.42 , 166407.4  , 155873.34 , 140007.42 ,\n",
       "       121985.945, 195400.7  , 210491.6  , 238684.69 , 228933.88 ,\n",
       "       161866.53 , 145448.98 , 209229.9  , 179559.7  , 221772.08 ,\n",
       "       209726.53 , 168571.62 , 162443.88 , 159890.84 , 159572.45 ,\n",
       "       174672.97 , 165106.14 , 194316.1  , 169507.12 ], dtype=float32)"
      ]
     },
     "execution_count": 48,
     "metadata": {
      "tags": []
     },
     "output_type": "execute_result"
    }
   ],
   "source": [
    "y_pred_future"
   ]
  },
  {
   "cell_type": "code",
   "execution_count": 53,
   "metadata": {
    "id": "rxmH6EkU8ElZ"
   },
   "outputs": [],
   "source": [
    "forecast_copies_1= np.repeat(testY, df_for_training.shape[1], axis=-1)\n",
    "y_original = scaler.inverse_transform(forecast_copies_1)[:,3]"
   ]
  },
  {
   "cell_type": "code",
   "execution_count": 54,
   "metadata": {
    "colab": {
     "base_uri": "https://localhost:8080/"
    },
    "id": "valQXWFGOSRD",
    "outputId": "accee643-4a15-41b2-e5a9-7f73de5c23ef"
   },
   "outputs": [
    {
     "data": {
      "text/plain": [
       "array([6.9089170e+04, 1.2821029e+05, 1.7741042e+05, 6.8424710e+04,\n",
       "       1.3040640e+05, 4.1651850e+04, 1.0295000e+02, 1.2132892e+05,\n",
       "       9.4156550e+04, 9.3428490e+04, 7.3106960e+04, 6.2484030e+04,\n",
       "       5.0088000e+04, 4.5289920e+04, 9.5437440e+04, 1.0067486e+05,\n",
       "       5.5735080e+04, 8.6421800e+04, 8.6421800e+04, 4.1343950e+04,\n",
       "       1.5788000e+04, 1.2898555e+05, 9.3402160e+04, 1.7674702e+05,\n",
       "       3.2502400e+04, 5.5111850e+04, 1.3304285e+05, 8.8538890e+04,\n",
       "       6.6133390e+04, 6.7090810e+04, 6.9089170e+04, 1.2907355e+05,\n",
       "       1.2821029e+05, 6.5916700e+04, 2.1979491e+05, 1.7741042e+05,\n",
       "       6.8424710e+04, 9.4156550e+04, 4.1651850e+04, 1.3959161e+05,\n",
       "       1.2132892e+05, 9.3428490e+04, 2.0925609e+05, 6.2484030e+04,\n",
       "       4.5289920e+04, 9.5437440e+04, 5.5735080e+04, 8.6421800e+04,\n",
       "       1.6970471e+05, 1.5788000e+04, 9.3402160e+04, 1.7674702e+05,\n",
       "       3.2502400e+04, 1.8459628e+05, 1.3453685e+05, 8.8538890e+04,\n",
       "       2.2928780e+05, 6.6133390e+04, 1.3010424e+05, 3.3965630e+04,\n",
       "       1.5030859e+05, 2.0983647e+05, 4.1631570e+04, 1.0008120e+05,\n",
       "       5.3637350e+04, 1.7719956e+05, 2.8791980e+04, 5.6282450e+04,\n",
       "       7.2449570e+04, 1.2302681e+05, 1.2505666e+05, 1.1276000e+04,\n",
       "       8.0566490e+04, 1.2039905e+05, 7.8081900e+04, 1.1540000e+03,\n",
       "       1.4821368e+05, 9.9126100e+04, 2.2344537e+05, 1.1959503e+05,\n",
       "       9.8708050e+04, 1.8979622e+05, 1.1628492e+05, 1.2937830e+05,\n",
       "       1.9917466e+05, 1.0782105e+05, 1.1698300e+05, 5.2330200e+04,\n",
       "       4.5401140e+04, 1.4617999e+05, 1.4446157e+05, 1.5080458e+05,\n",
       "       3.3183750e+04, 1.1185406e+05, 1.7085538e+05, 2.1433931e+05,\n",
       "       1.0052257e+05, 1.6965757e+05, 1.0666907e+05, 8.2500000e+02,\n",
       "       1.7509583e+05, 1.1457265e+05, 1.7634404e+05, 1.4893199e+05,\n",
       "       1.1351226e+05, 2.5000000e+03, 1.5459671e+05, 2.3851738e+05,\n",
       "       1.4823292e+05, 2.0631364e+05, 1.4174903e+05, 1.8726335e+05,\n",
       "       1.0612524e+05, 1.3638172e+05, 2.1009911e+05, 1.1977595e+05,\n",
       "       2.3069943e+05, 1.1243195e+05, 1.9970863e+05])"
      ]
     },
     "execution_count": 54,
     "metadata": {
      "tags": []
     },
     "output_type": "execute_result"
    }
   ],
   "source": [
    "y_original"
   ]
  },
  {
   "cell_type": "code",
   "execution_count": 58,
   "metadata": {
    "colab": {
     "base_uri": "https://localhost:8080/",
     "height": 265
    },
    "id": "oCKF_xBWO5OF",
    "outputId": "6872ba70-647e-47db-e652-c052fe47b1be"
   },
   "outputs": [
    {
     "data": {
      "image/png": "[encoded data removed]",
      "text/plain": [
       "<Figure size 432x288 with 1 Axes>"
      ]
     },
     "metadata": {
      "needs_background": "light",
      "tags": []
     },
     "output_type": "display_data"
    }
   ],
   "source": [
    "plt.plot(y_pred_future)\n",
    "plt.show()"
   ]
  },
  {
   "cell_type": "code",
   "execution_count": 59,
   "metadata": {
    "colab": {
     "base_uri": "https://localhost:8080/",
     "height": 269
    },
    "id": "6yvEQr-hQARF",
    "outputId": "9caa8688-001c-46b6-cd5a-7963e4660f91"
   },
   "outputs": [
    {
     "data": {
      "image/png": "[encoded data removed]",
      "text/plain": [
       "<Figure size 432x288 with 1 Axes>"
      ]
     },
     "metadata": {
      "needs_background": "light",
      "tags": []
     },
     "output_type": "display_data"
    }
   ],
   "source": [
    "plt.plot(y_original)\n",
    "plt.show()\n"
   ]
  },
  {
   "cell_type": "code",
   "execution_count": null,
   "metadata": {
    "id": "Mp0AFwvxO738"
   },
   "outputs": [],
   "source": []
  },
  {
   "cell_type": "code",
   "execution_count": 49,
   "metadata": {
    "id": "cekHTs4MPFGr"
   },
   "outputs": [],
   "source": []
  },
  {
   "cell_type": "code",
   "execution_count": 49,
   "metadata": {
    "id": "OtLRTarLPyFs"
   },
   "outputs": [],
   "source": []
  },
  {
   "cell_type": "code",
   "execution_count": null,
   "metadata": {
    "id": "ARO5-ctuQCnS"
   },
   "outputs": [],
   "source": []
  }
 ],
 "metadata": {
  "colab": {
   "collapsed_sections": [],
   "name": "LSTM_forecasting_y_pr.ipynb",
   "provenance": []
  },
  "kernelspec": {
   "display_name": "Python 3",
   "language": "python",
   "name": "python3"
  },
  "language_info": {
   "codemirror_mode": {
    "name": "ipython",
    "version": 3
   },
   "file_extension": ".py",
   "mimetype": "text/x-python",
   "name": "python",
   "nbconvert_exporter": "python",
   "pygments_lexer": "ipython3",
   "version": "3.7.3"
  }
 },
 "nbformat": 4,
 "nbformat_minor": 1
}
