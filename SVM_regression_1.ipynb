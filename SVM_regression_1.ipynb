{
 "cells": [
  {
   "cell_type": "code",
   "execution_count": 94,
   "id": "killing-queensland",
   "metadata": {},
   "outputs": [],
   "source": [
    "import pandas as pd\n",
    "import numpy as np\n",
    "import matplotlib.pyplot as plt\n",
    "import seaborn as sns"
   ]
  },
  {
   "cell_type": "code",
   "execution_count": 95,
   "id": "careful-officer",
   "metadata": {},
   "outputs": [],
   "source": [
    "df=pd.read_excel('final_feat.xlsx')"
   ]
  },
  {
   "cell_type": "code",
   "execution_count": 96,
   "id": "active-capture",
   "metadata": {},
   "outputs": [
    {
     "data": {
      "text/html": [
       "<div>\n",
       "<style scoped>\n",
       "    .dataframe tbody tr th:only-of-type {\n",
       "        vertical-align: middle;\n",
       "    }\n",
       "\n",
       "    .dataframe tbody tr th {\n",
       "        vertical-align: top;\n",
       "    }\n",
       "\n",
       "    .dataframe thead th {\n",
       "        text-align: right;\n",
       "    }\n",
       "</style>\n",
       "<table border=\"1\" class=\"dataframe\">\n",
       "  <thead>\n",
       "    <tr style=\"text-align: right;\">\n",
       "      <th></th>\n",
       "      <th>Day of week</th>\n",
       "      <th>Cost</th>\n",
       "      <th>Impressions</th>\n",
       "      <th>Clicks</th>\n",
       "      <th>CTR</th>\n",
       "      <th>Avg. CPC</th>\n",
       "      <th>Conversions</th>\n",
       "      <th>Conv. rate</th>\n",
       "      <th>Cost / conv.</th>\n",
       "      <th>Search Impr. share</th>\n",
       "      <th>...</th>\n",
       "      <th>Total Jobs</th>\n",
       "      <th>Avg Service</th>\n",
       "      <th>Avg Install</th>\n",
       "      <th>Canceled Jobs_y</th>\n",
       "      <th>Turn over %</th>\n",
       "      <th>Canceled %</th>\n",
       "      <th>Avg Sales</th>\n",
       "      <th>bookedjob</th>\n",
       "      <th>totalcalls</th>\n",
       "      <th>Booking rate</th>\n",
       "    </tr>\n",
       "  </thead>\n",
       "  <tbody>\n",
       "    <tr>\n",
       "      <th>0</th>\n",
       "      <td>Thursday</td>\n",
       "      <td>3181.56</td>\n",
       "      <td>13361</td>\n",
       "      <td>156</td>\n",
       "      <td>0.0117</td>\n",
       "      <td>20.39</td>\n",
       "      <td>26.77</td>\n",
       "      <td>0.0486</td>\n",
       "      <td>118.86</td>\n",
       "      <td>0.5337</td>\n",
       "      <td>...</td>\n",
       "      <td>101</td>\n",
       "      <td>143.417833</td>\n",
       "      <td>3224.412750</td>\n",
       "      <td>8</td>\n",
       "      <td>9.900990</td>\n",
       "      <td>7.920792</td>\n",
       "      <td>3617.444828</td>\n",
       "      <td>49</td>\n",
       "      <td>155</td>\n",
       "      <td>31.612903</td>\n",
       "    </tr>\n",
       "    <tr>\n",
       "      <th>1</th>\n",
       "      <td>Friday</td>\n",
       "      <td>2684.67</td>\n",
       "      <td>16841</td>\n",
       "      <td>160</td>\n",
       "      <td>0.0095</td>\n",
       "      <td>16.78</td>\n",
       "      <td>21.00</td>\n",
       "      <td>0.0299</td>\n",
       "      <td>127.84</td>\n",
       "      <td>0.5477</td>\n",
       "      <td>...</td>\n",
       "      <td>89</td>\n",
       "      <td>75.515208</td>\n",
       "      <td>965.365854</td>\n",
       "      <td>7</td>\n",
       "      <td>10.112360</td>\n",
       "      <td>7.865169</td>\n",
       "      <td>1781.345385</td>\n",
       "      <td>56</td>\n",
       "      <td>176</td>\n",
       "      <td>31.818182</td>\n",
       "    </tr>\n",
       "    <tr>\n",
       "      <th>2</th>\n",
       "      <td>Saturday</td>\n",
       "      <td>1338.36</td>\n",
       "      <td>30788</td>\n",
       "      <td>142</td>\n",
       "      <td>0.0046</td>\n",
       "      <td>9.43</td>\n",
       "      <td>11.00</td>\n",
       "      <td>0.0186</td>\n",
       "      <td>121.67</td>\n",
       "      <td>0.5297</td>\n",
       "      <td>...</td>\n",
       "      <td>31</td>\n",
       "      <td>110.019048</td>\n",
       "      <td>1377.666667</td>\n",
       "      <td>4</td>\n",
       "      <td>9.677419</td>\n",
       "      <td>12.903226</td>\n",
       "      <td>459.248750</td>\n",
       "      <td>30</td>\n",
       "      <td>92</td>\n",
       "      <td>32.608696</td>\n",
       "    </tr>\n",
       "    <tr>\n",
       "      <th>3</th>\n",
       "      <td>Sunday</td>\n",
       "      <td>1192.31</td>\n",
       "      <td>12865</td>\n",
       "      <td>108</td>\n",
       "      <td>0.0084</td>\n",
       "      <td>11.04</td>\n",
       "      <td>5.00</td>\n",
       "      <td>0.0130</td>\n",
       "      <td>238.46</td>\n",
       "      <td>0.5741</td>\n",
       "      <td>...</td>\n",
       "      <td>15</td>\n",
       "      <td>67.914286</td>\n",
       "      <td>406.250000</td>\n",
       "      <td>1</td>\n",
       "      <td>13.333333</td>\n",
       "      <td>6.666667</td>\n",
       "      <td>846.000000</td>\n",
       "      <td>11</td>\n",
       "      <td>52</td>\n",
       "      <td>21.153846</td>\n",
       "    </tr>\n",
       "    <tr>\n",
       "      <th>4</th>\n",
       "      <td>Monday</td>\n",
       "      <td>2383.17</td>\n",
       "      <td>49514</td>\n",
       "      <td>188</td>\n",
       "      <td>0.0038</td>\n",
       "      <td>12.68</td>\n",
       "      <td>22.00</td>\n",
       "      <td>0.0566</td>\n",
       "      <td>108.33</td>\n",
       "      <td>0.6027</td>\n",
       "      <td>...</td>\n",
       "      <td>91</td>\n",
       "      <td>78.753750</td>\n",
       "      <td>1646.943488</td>\n",
       "      <td>5</td>\n",
       "      <td>8.791209</td>\n",
       "      <td>5.494505</td>\n",
       "      <td>1820.060789</td>\n",
       "      <td>54</td>\n",
       "      <td>159</td>\n",
       "      <td>33.962264</td>\n",
       "    </tr>\n",
       "  </tbody>\n",
       "</table>\n",
       "<p>5 rows × 38 columns</p>\n",
       "</div>"
      ],
      "text/plain": [
       "  Day of week     Cost  Impressions  Clicks     CTR  Avg. CPC  Conversions  \\\n",
       "0    Thursday  3181.56        13361     156  0.0117     20.39        26.77   \n",
       "1      Friday  2684.67        16841     160  0.0095     16.78        21.00   \n",
       "2    Saturday  1338.36        30788     142  0.0046      9.43        11.00   \n",
       "3      Sunday  1192.31        12865     108  0.0084     11.04         5.00   \n",
       "4      Monday  2383.17        49514     188  0.0038     12.68        22.00   \n",
       "\n",
       "   Conv. rate  Cost / conv. Search Impr. share  ...  Total Jobs   Avg Service  \\\n",
       "0      0.0486        118.86             0.5337  ...          101   143.417833   \n",
       "1      0.0299        127.84             0.5477  ...           89    75.515208   \n",
       "2      0.0186        121.67             0.5297  ...           31   110.019048   \n",
       "3      0.0130        238.46             0.5741  ...           15    67.914286   \n",
       "4      0.0566        108.33             0.6027  ...           91    78.753750   \n",
       "\n",
       "   Avg Install  Canceled Jobs_y  Turn over % Canceled %    Avg Sales  \\\n",
       "0  3224.412750                8     9.900990   7.920792  3617.444828   \n",
       "1   965.365854                7    10.112360   7.865169  1781.345385   \n",
       "2  1377.666667                4     9.677419  12.903226   459.248750   \n",
       "3   406.250000                1    13.333333   6.666667   846.000000   \n",
       "4  1646.943488                5     8.791209   5.494505  1820.060789   \n",
       "\n",
       "   bookedjob  totalcalls  Booking rate  \n",
       "0         49         155     31.612903  \n",
       "1         56         176     31.818182  \n",
       "2         30          92     32.608696  \n",
       "3         11          52     21.153846  \n",
       "4         54         159     33.962264  \n",
       "\n",
       "[5 rows x 38 columns]"
      ]
     },
     "execution_count": 96,
     "metadata": {},
     "output_type": "execute_result"
    }
   ],
   "source": [
    "df.head()"
   ]
  },
  {
   "cell_type": "code",
   "execution_count": 97,
   "id": "stuck-drilling",
   "metadata": {},
   "outputs": [
    {
     "data": {
      "text/plain": [
       "0     2020-01-02\n",
       "1     2020-01-03\n",
       "2     2020-01-04\n",
       "3     2020-01-05\n",
       "4     2020-01-06\n",
       "         ...    \n",
       "345   2021-01-31\n",
       "346   2021-02-01\n",
       "347   2021-02-02\n",
       "348   2021-02-03\n",
       "349   2021-02-04\n",
       "Name: Created Date, Length: 350, dtype: datetime64[ns]"
      ]
     },
     "execution_count": 97,
     "metadata": {},
     "output_type": "execute_result"
    }
   ],
   "source": [
    "df['Created Date']"
   ]
  },
  {
   "cell_type": "code",
   "execution_count": 99,
   "id": "separate-necklace",
   "metadata": {},
   "outputs": [],
   "source": [
    "df1=df[['Completed Jobs', 'Total Leads','tech_count','Income_y','bookedjob', 'Total Jobs ','Lead Calls','TMAX',\n",
    "        'Avg Install']]"
   ]
  },
  {
   "cell_type": "code",
   "execution_count": 100,
   "id": "wired-liberia",
   "metadata": {},
   "outputs": [
    {
     "data": {
      "text/html": [
       "<div>\n",
       "<style scoped>\n",
       "    .dataframe tbody tr th:only-of-type {\n",
       "        vertical-align: middle;\n",
       "    }\n",
       "\n",
       "    .dataframe tbody tr th {\n",
       "        vertical-align: top;\n",
       "    }\n",
       "\n",
       "    .dataframe thead th {\n",
       "        text-align: right;\n",
       "    }\n",
       "</style>\n",
       "<table border=\"1\" class=\"dataframe\">\n",
       "  <thead>\n",
       "    <tr style=\"text-align: right;\">\n",
       "      <th></th>\n",
       "      <th>Completed Jobs</th>\n",
       "      <th>Total Leads</th>\n",
       "      <th>tech_count</th>\n",
       "      <th>Income_y</th>\n",
       "      <th>bookedjob</th>\n",
       "      <th>Total Jobs</th>\n",
       "      <th>Lead Calls</th>\n",
       "      <th>TMAX</th>\n",
       "      <th>Avg Install</th>\n",
       "    </tr>\n",
       "  </thead>\n",
       "  <tbody>\n",
       "    <tr>\n",
       "      <th>0</th>\n",
       "      <td>57</td>\n",
       "      <td>10</td>\n",
       "      <td>59</td>\n",
       "      <td>23933.54</td>\n",
       "      <td>49</td>\n",
       "      <td>101</td>\n",
       "      <td>60</td>\n",
       "      <td>65</td>\n",
       "      <td>3224.412750</td>\n",
       "    </tr>\n",
       "    <tr>\n",
       "      <th>1</th>\n",
       "      <td>77</td>\n",
       "      <td>9</td>\n",
       "      <td>40</td>\n",
       "      <td>65232.03</td>\n",
       "      <td>56</td>\n",
       "      <td>89</td>\n",
       "      <td>64</td>\n",
       "      <td>71</td>\n",
       "      <td>965.365854</td>\n",
       "    </tr>\n",
       "    <tr>\n",
       "      <th>2</th>\n",
       "      <td>55</td>\n",
       "      <td>3</td>\n",
       "      <td>21</td>\n",
       "      <td>26195.32</td>\n",
       "      <td>30</td>\n",
       "      <td>31</td>\n",
       "      <td>58</td>\n",
       "      <td>69</td>\n",
       "      <td>1377.666667</td>\n",
       "    </tr>\n",
       "    <tr>\n",
       "      <th>3</th>\n",
       "      <td>6</td>\n",
       "      <td>2</td>\n",
       "      <td>9</td>\n",
       "      <td>264.00</td>\n",
       "      <td>11</td>\n",
       "      <td>15</td>\n",
       "      <td>32</td>\n",
       "      <td>69</td>\n",
       "      <td>406.250000</td>\n",
       "    </tr>\n",
       "    <tr>\n",
       "      <th>4</th>\n",
       "      <td>73</td>\n",
       "      <td>8</td>\n",
       "      <td>60</td>\n",
       "      <td>48506.16</td>\n",
       "      <td>54</td>\n",
       "      <td>91</td>\n",
       "      <td>62</td>\n",
       "      <td>77</td>\n",
       "      <td>1646.943488</td>\n",
       "    </tr>\n",
       "  </tbody>\n",
       "</table>\n",
       "</div>"
      ],
      "text/plain": [
       "   Completed Jobs  Total Leads  tech_count  Income_y  bookedjob  Total Jobs   \\\n",
       "0              57           10          59  23933.54         49          101   \n",
       "1              77            9          40  65232.03         56           89   \n",
       "2              55            3          21  26195.32         30           31   \n",
       "3               6            2           9    264.00         11           15   \n",
       "4              73            8          60  48506.16         54           91   \n",
       "\n",
       "   Lead Calls  TMAX  Avg Install  \n",
       "0          60    65  3224.412750  \n",
       "1          64    71   965.365854  \n",
       "2          58    69  1377.666667  \n",
       "3          32    69   406.250000  \n",
       "4          62    77  1646.943488  "
      ]
     },
     "execution_count": 100,
     "metadata": {},
     "output_type": "execute_result"
    }
   ],
   "source": [
    "df1.head()"
   ]
  },
  {
   "cell_type": "code",
   "execution_count": 101,
   "id": "warming-response",
   "metadata": {},
   "outputs": [
    {
     "data": {
      "text/plain": [
       "<AxesSubplot:>"
      ]
     },
     "execution_count": 101,
     "metadata": {},
     "output_type": "execute_result"
    },
    {
     "data": {
      "image/png": "[encoded data removed]",
      "text/plain": [
       "<Figure size 1440x720 with 2 Axes>"
      ]
     },
     "metadata": {
      "needs_background": "light"
     },
     "output_type": "display_data"
    }
   ],
   "source": [
    "plt.figure(figsize=(20,10))\n",
    "sns.heatmap(df1.corr(method='spearman'),annot=True)"
   ]
  },
  {
   "cell_type": "code",
   "execution_count": 102,
   "id": "weird-ethernet",
   "metadata": {},
   "outputs": [
    {
     "data": {
      "text/plain": [
       "Completed Jobs    0\n",
       "Total Leads       0\n",
       "tech_count        0\n",
       "bookedjob         0\n",
       "TMAX              0\n",
       "Lead Calls        0\n",
       "Total Jobs        0\n",
       "Avg Install       0\n",
       "Avg Sales         0\n",
       "Income_y          0\n",
       "dtype: int64"
      ]
     },
     "execution_count": 102,
     "metadata": {},
     "output_type": "execute_result"
    }
   ],
   "source": [
    "train.isnull().sum()"
   ]
  },
  {
   "cell_type": "code",
   "execution_count": 103,
   "id": "intense-partnership",
   "metadata": {},
   "outputs": [],
   "source": [
    "train=df1[0:300]\n",
    "test=df1[300:]"
   ]
  },
  {
   "cell_type": "code",
   "execution_count": 104,
   "id": "small-sacrifice",
   "metadata": {},
   "outputs": [],
   "source": [
    "y=train['Income_y']\n",
    "X=train.drop(['Income_y'],axis=1)"
   ]
  },
  {
   "cell_type": "code",
   "execution_count": 105,
   "id": "printable-immunology",
   "metadata": {},
   "outputs": [],
   "source": [
    "from sklearn.ensemble import ExtraTreesRegressor\n",
    "reg= ExtraTreesRegressor()\n"
   ]
  },
  {
   "cell_type": "code",
   "execution_count": null,
   "id": "sensitive-release",
   "metadata": {},
   "outputs": [],
   "source": []
  },
  {
   "cell_type": "code",
   "execution_count": null,
   "id": "exclusive-ballot",
   "metadata": {},
   "outputs": [],
   "source": []
  },
  {
   "cell_type": "code",
   "execution_count": null,
   "id": "mature-audit",
   "metadata": {},
   "outputs": [],
   "source": []
  },
  {
   "cell_type": "code",
   "execution_count": 107,
   "id": "designed-princess",
   "metadata": {},
   "outputs": [],
   "source": [
    "reg= ExtraTreesRegressor()\n"
   ]
  },
  {
   "cell_type": "code",
   "execution_count": null,
   "id": "individual-reviewer",
   "metadata": {},
   "outputs": [],
   "source": []
  },
  {
   "cell_type": "code",
   "execution_count": 16,
   "id": "competitive-apartment",
   "metadata": {},
   "outputs": [],
   "source": []
  },
  {
   "cell_type": "code",
   "execution_count": null,
   "id": "cardiovascular-profession",
   "metadata": {},
   "outputs": [],
   "source": []
  },
  {
   "cell_type": "code",
   "execution_count": 108,
   "id": "described-sentence",
   "metadata": {},
   "outputs": [
    {
     "data": {
      "text/plain": [
       "ExtraTreesRegressor()"
      ]
     },
     "execution_count": 108,
     "metadata": {},
     "output_type": "execute_result"
    }
   ],
   "source": [
    "reg.fit(X,y)"
   ]
  },
  {
   "cell_type": "code",
   "execution_count": 109,
   "id": "third-handbook",
   "metadata": {},
   "outputs": [
    {
     "data": {
      "image/png": "[encoded data removed]",
      "text/plain": [
       "<Figure size 432x288 with 1 Axes>"
      ]
     },
     "metadata": {
      "needs_background": "light"
     },
     "output_type": "display_data"
    }
   ],
   "source": [
    "feat_importances = pd.Series(reg.feature_importances_, index=X.columns)\n",
    "feat_importances.nlargest(10).plot(kind='barh')\n",
    "plt.show()"
   ]
  },
  {
   "cell_type": "code",
   "execution_count": 20,
   "id": "front-admission",
   "metadata": {},
   "outputs": [],
   "source": []
  },
  {
   "cell_type": "code",
   "execution_count": null,
   "id": "three-holiday",
   "metadata": {},
   "outputs": [],
   "source": []
  },
  {
   "cell_type": "code",
   "execution_count": 110,
   "id": "accurate-juice",
   "metadata": {},
   "outputs": [
    {
     "data": {
      "text/html": [
       "<div>\n",
       "<style scoped>\n",
       "    .dataframe tbody tr th:only-of-type {\n",
       "        vertical-align: middle;\n",
       "    }\n",
       "\n",
       "    .dataframe tbody tr th {\n",
       "        vertical-align: top;\n",
       "    }\n",
       "\n",
       "    .dataframe thead th {\n",
       "        text-align: right;\n",
       "    }\n",
       "</style>\n",
       "<table border=\"1\" class=\"dataframe\">\n",
       "  <thead>\n",
       "    <tr style=\"text-align: right;\">\n",
       "      <th></th>\n",
       "      <th>Completed Jobs</th>\n",
       "      <th>Total Leads</th>\n",
       "      <th>tech_count</th>\n",
       "      <th>Income_y</th>\n",
       "      <th>bookedjob</th>\n",
       "      <th>Total Jobs</th>\n",
       "      <th>Lead Calls</th>\n",
       "      <th>TMAX</th>\n",
       "      <th>Avg Install</th>\n",
       "    </tr>\n",
       "  </thead>\n",
       "  <tbody>\n",
       "    <tr>\n",
       "      <th>0</th>\n",
       "      <td>57</td>\n",
       "      <td>10</td>\n",
       "      <td>59</td>\n",
       "      <td>23933.54</td>\n",
       "      <td>49</td>\n",
       "      <td>101</td>\n",
       "      <td>60</td>\n",
       "      <td>65</td>\n",
       "      <td>3224.412750</td>\n",
       "    </tr>\n",
       "    <tr>\n",
       "      <th>1</th>\n",
       "      <td>77</td>\n",
       "      <td>9</td>\n",
       "      <td>40</td>\n",
       "      <td>65232.03</td>\n",
       "      <td>56</td>\n",
       "      <td>89</td>\n",
       "      <td>64</td>\n",
       "      <td>71</td>\n",
       "      <td>965.365854</td>\n",
       "    </tr>\n",
       "    <tr>\n",
       "      <th>2</th>\n",
       "      <td>55</td>\n",
       "      <td>3</td>\n",
       "      <td>21</td>\n",
       "      <td>26195.32</td>\n",
       "      <td>30</td>\n",
       "      <td>31</td>\n",
       "      <td>58</td>\n",
       "      <td>69</td>\n",
       "      <td>1377.666667</td>\n",
       "    </tr>\n",
       "    <tr>\n",
       "      <th>3</th>\n",
       "      <td>6</td>\n",
       "      <td>2</td>\n",
       "      <td>9</td>\n",
       "      <td>264.00</td>\n",
       "      <td>11</td>\n",
       "      <td>15</td>\n",
       "      <td>32</td>\n",
       "      <td>69</td>\n",
       "      <td>406.250000</td>\n",
       "    </tr>\n",
       "    <tr>\n",
       "      <th>4</th>\n",
       "      <td>73</td>\n",
       "      <td>8</td>\n",
       "      <td>60</td>\n",
       "      <td>48506.16</td>\n",
       "      <td>54</td>\n",
       "      <td>91</td>\n",
       "      <td>62</td>\n",
       "      <td>77</td>\n",
       "      <td>1646.943488</td>\n",
       "    </tr>\n",
       "  </tbody>\n",
       "</table>\n",
       "</div>"
      ],
      "text/plain": [
       "   Completed Jobs  Total Leads  tech_count  Income_y  bookedjob  Total Jobs   \\\n",
       "0              57           10          59  23933.54         49          101   \n",
       "1              77            9          40  65232.03         56           89   \n",
       "2              55            3          21  26195.32         30           31   \n",
       "3               6            2           9    264.00         11           15   \n",
       "4              73            8          60  48506.16         54           91   \n",
       "\n",
       "   Lead Calls  TMAX  Avg Install  \n",
       "0          60    65  3224.412750  \n",
       "1          64    71   965.365854  \n",
       "2          58    69  1377.666667  \n",
       "3          32    69   406.250000  \n",
       "4          62    77  1646.943488  "
      ]
     },
     "execution_count": 110,
     "metadata": {},
     "output_type": "execute_result"
    }
   ],
   "source": [
    "train.head()"
   ]
  },
  {
   "cell_type": "code",
   "execution_count": 111,
   "id": "introductory-knowing",
   "metadata": {},
   "outputs": [
    {
     "data": {
      "text/html": [
       "<div>\n",
       "<style scoped>\n",
       "    .dataframe tbody tr th:only-of-type {\n",
       "        vertical-align: middle;\n",
       "    }\n",
       "\n",
       "    .dataframe tbody tr th {\n",
       "        vertical-align: top;\n",
       "    }\n",
       "\n",
       "    .dataframe thead th {\n",
       "        text-align: right;\n",
       "    }\n",
       "</style>\n",
       "<table border=\"1\" class=\"dataframe\">\n",
       "  <thead>\n",
       "    <tr style=\"text-align: right;\">\n",
       "      <th></th>\n",
       "      <th>Completed Jobs</th>\n",
       "      <th>Total Leads</th>\n",
       "      <th>tech_count</th>\n",
       "      <th>Income_y</th>\n",
       "      <th>bookedjob</th>\n",
       "      <th>Total Jobs</th>\n",
       "      <th>Lead Calls</th>\n",
       "      <th>TMAX</th>\n",
       "      <th>Avg Install</th>\n",
       "    </tr>\n",
       "  </thead>\n",
       "  <tbody>\n",
       "    <tr>\n",
       "      <th>300</th>\n",
       "      <td>6</td>\n",
       "      <td>4</td>\n",
       "      <td>12</td>\n",
       "      <td>176.00</td>\n",
       "      <td>17</td>\n",
       "      <td>33</td>\n",
       "      <td>30</td>\n",
       "      <td>68</td>\n",
       "      <td>0.000000</td>\n",
       "    </tr>\n",
       "    <tr>\n",
       "      <th>301</th>\n",
       "      <td>111</td>\n",
       "      <td>32</td>\n",
       "      <td>39</td>\n",
       "      <td>114534.21</td>\n",
       "      <td>53</td>\n",
       "      <td>114</td>\n",
       "      <td>67</td>\n",
       "      <td>63</td>\n",
       "      <td>2062.083333</td>\n",
       "    </tr>\n",
       "    <tr>\n",
       "      <th>302</th>\n",
       "      <td>131</td>\n",
       "      <td>40</td>\n",
       "      <td>61</td>\n",
       "      <td>127412.10</td>\n",
       "      <td>59</td>\n",
       "      <td>140</td>\n",
       "      <td>74</td>\n",
       "      <td>72</td>\n",
       "      <td>1688.327612</td>\n",
       "    </tr>\n",
       "    <tr>\n",
       "      <th>303</th>\n",
       "      <td>131</td>\n",
       "      <td>40</td>\n",
       "      <td>61</td>\n",
       "      <td>127412.10</td>\n",
       "      <td>59</td>\n",
       "      <td>140</td>\n",
       "      <td>74</td>\n",
       "      <td>72</td>\n",
       "      <td>1688.327612</td>\n",
       "    </tr>\n",
       "    <tr>\n",
       "      <th>304</th>\n",
       "      <td>131</td>\n",
       "      <td>40</td>\n",
       "      <td>61</td>\n",
       "      <td>127412.10</td>\n",
       "      <td>59</td>\n",
       "      <td>140</td>\n",
       "      <td>74</td>\n",
       "      <td>72</td>\n",
       "      <td>1688.327612</td>\n",
       "    </tr>\n",
       "  </tbody>\n",
       "</table>\n",
       "</div>"
      ],
      "text/plain": [
       "     Completed Jobs  Total Leads  tech_count   Income_y  bookedjob  \\\n",
       "300               6            4          12     176.00         17   \n",
       "301             111           32          39  114534.21         53   \n",
       "302             131           40          61  127412.10         59   \n",
       "303             131           40          61  127412.10         59   \n",
       "304             131           40          61  127412.10         59   \n",
       "\n",
       "     Total Jobs   Lead Calls  TMAX  Avg Install  \n",
       "300           33          30    68     0.000000  \n",
       "301          114          67    63  2062.083333  \n",
       "302          140          74    72  1688.327612  \n",
       "303          140          74    72  1688.327612  \n",
       "304          140          74    72  1688.327612  "
      ]
     },
     "execution_count": 111,
     "metadata": {},
     "output_type": "execute_result"
    }
   ],
   "source": [
    "test.head()"
   ]
  },
  {
   "cell_type": "code",
   "execution_count": 112,
   "id": "collective-scheme",
   "metadata": {},
   "outputs": [],
   "source": [
    "#test.drop_duplicates(subset =\"Income_y\",keep ='first', inplace = True)"
   ]
  },
  {
   "cell_type": "code",
   "execution_count": 113,
   "id": "insured-serbia",
   "metadata": {},
   "outputs": [
    {
     "data": {
      "text/html": [
       "<div>\n",
       "<style scoped>\n",
       "    .dataframe tbody tr th:only-of-type {\n",
       "        vertical-align: middle;\n",
       "    }\n",
       "\n",
       "    .dataframe tbody tr th {\n",
       "        vertical-align: top;\n",
       "    }\n",
       "\n",
       "    .dataframe thead th {\n",
       "        text-align: right;\n",
       "    }\n",
       "</style>\n",
       "<table border=\"1\" class=\"dataframe\">\n",
       "  <thead>\n",
       "    <tr style=\"text-align: right;\">\n",
       "      <th></th>\n",
       "      <th>Completed Jobs</th>\n",
       "      <th>Total Leads</th>\n",
       "      <th>tech_count</th>\n",
       "      <th>Income_y</th>\n",
       "      <th>bookedjob</th>\n",
       "      <th>Total Jobs</th>\n",
       "      <th>Lead Calls</th>\n",
       "      <th>TMAX</th>\n",
       "      <th>Avg Install</th>\n",
       "    </tr>\n",
       "  </thead>\n",
       "  <tbody>\n",
       "    <tr>\n",
       "      <th>300</th>\n",
       "      <td>6</td>\n",
       "      <td>4</td>\n",
       "      <td>12</td>\n",
       "      <td>176.00</td>\n",
       "      <td>17</td>\n",
       "      <td>33</td>\n",
       "      <td>30</td>\n",
       "      <td>68</td>\n",
       "      <td>0.000000</td>\n",
       "    </tr>\n",
       "    <tr>\n",
       "      <th>301</th>\n",
       "      <td>111</td>\n",
       "      <td>32</td>\n",
       "      <td>39</td>\n",
       "      <td>114534.21</td>\n",
       "      <td>53</td>\n",
       "      <td>114</td>\n",
       "      <td>67</td>\n",
       "      <td>63</td>\n",
       "      <td>2062.083333</td>\n",
       "    </tr>\n",
       "    <tr>\n",
       "      <th>302</th>\n",
       "      <td>131</td>\n",
       "      <td>40</td>\n",
       "      <td>61</td>\n",
       "      <td>127412.10</td>\n",
       "      <td>59</td>\n",
       "      <td>140</td>\n",
       "      <td>74</td>\n",
       "      <td>72</td>\n",
       "      <td>1688.327612</td>\n",
       "    </tr>\n",
       "    <tr>\n",
       "      <th>303</th>\n",
       "      <td>131</td>\n",
       "      <td>40</td>\n",
       "      <td>61</td>\n",
       "      <td>127412.10</td>\n",
       "      <td>59</td>\n",
       "      <td>140</td>\n",
       "      <td>74</td>\n",
       "      <td>72</td>\n",
       "      <td>1688.327612</td>\n",
       "    </tr>\n",
       "    <tr>\n",
       "      <th>304</th>\n",
       "      <td>131</td>\n",
       "      <td>40</td>\n",
       "      <td>61</td>\n",
       "      <td>127412.10</td>\n",
       "      <td>59</td>\n",
       "      <td>140</td>\n",
       "      <td>74</td>\n",
       "      <td>72</td>\n",
       "      <td>1688.327612</td>\n",
       "    </tr>\n",
       "  </tbody>\n",
       "</table>\n",
       "</div>"
      ],
      "text/plain": [
       "     Completed Jobs  Total Leads  tech_count   Income_y  bookedjob  \\\n",
       "300               6            4          12     176.00         17   \n",
       "301             111           32          39  114534.21         53   \n",
       "302             131           40          61  127412.10         59   \n",
       "303             131           40          61  127412.10         59   \n",
       "304             131           40          61  127412.10         59   \n",
       "\n",
       "     Total Jobs   Lead Calls  TMAX  Avg Install  \n",
       "300           33          30    68     0.000000  \n",
       "301          114          67    63  2062.083333  \n",
       "302          140          74    72  1688.327612  \n",
       "303          140          74    72  1688.327612  \n",
       "304          140          74    72  1688.327612  "
      ]
     },
     "execution_count": 113,
     "metadata": {},
     "output_type": "execute_result"
    }
   ],
   "source": [
    "test.head()"
   ]
  },
  {
   "cell_type": "code",
   "execution_count": 114,
   "id": "consistent-failure",
   "metadata": {},
   "outputs": [
    {
     "data": {
      "text/plain": [
       "(300, 9)"
      ]
     },
     "execution_count": 114,
     "metadata": {},
     "output_type": "execute_result"
    }
   ],
   "source": [
    "train.shape"
   ]
  },
  {
   "cell_type": "code",
   "execution_count": 115,
   "id": "elect-today",
   "metadata": {},
   "outputs": [
    {
     "data": {
      "text/plain": [
       "(50, 9)"
      ]
     },
     "execution_count": 115,
     "metadata": {},
     "output_type": "execute_result"
    }
   ],
   "source": [
    "test.shape"
   ]
  },
  {
   "cell_type": "code",
   "execution_count": null,
   "id": "fresh-beijing",
   "metadata": {},
   "outputs": [],
   "source": []
  },
  {
   "cell_type": "code",
   "execution_count": null,
   "id": "overall-small",
   "metadata": {},
   "outputs": [],
   "source": []
  },
  {
   "cell_type": "code",
   "execution_count": null,
   "id": "driven-copying",
   "metadata": {},
   "outputs": [],
   "source": []
  },
  {
   "cell_type": "code",
   "execution_count": null,
   "id": "qualified-polymer",
   "metadata": {},
   "outputs": [],
   "source": []
  },
  {
   "cell_type": "code",
   "execution_count": 116,
   "id": "auburn-motivation",
   "metadata": {},
   "outputs": [],
   "source": [
    "y_=test['Income_y']\n",
    "X_=test.drop(['Income_y'],axis=1)"
   ]
  },
  {
   "cell_type": "code",
   "execution_count": 117,
   "id": "israeli-spelling",
   "metadata": {},
   "outputs": [],
   "source": [
    "from sklearn.model_selection import train_test_split\n",
    "X_train, X_test, y_train, y_test = train_test_split(X,y, test_size=0.2, random_state=42)"
   ]
  },
  {
   "cell_type": "code",
   "execution_count": null,
   "id": "blocked-undergraduate",
   "metadata": {},
   "outputs": [],
   "source": []
  },
  {
   "cell_type": "code",
   "execution_count": null,
   "id": "willing-plastic",
   "metadata": {},
   "outputs": [],
   "source": []
  },
  {
   "cell_type": "code",
   "execution_count": null,
   "id": "governing-toronto",
   "metadata": {},
   "outputs": [],
   "source": []
  },
  {
   "cell_type": "code",
   "execution_count": 79,
   "id": "broad-words",
   "metadata": {},
   "outputs": [],
   "source": []
  },
  {
   "cell_type": "code",
   "execution_count": null,
   "id": "freelance-burning",
   "metadata": {},
   "outputs": [],
   "source": []
  },
  {
   "cell_type": "code",
   "execution_count": null,
   "id": "tropical-stretch",
   "metadata": {},
   "outputs": [],
   "source": []
  },
  {
   "cell_type": "code",
   "execution_count": 119,
   "id": "different-yacht",
   "metadata": {},
   "outputs": [
    {
     "data": {
      "text/plain": [
       "SVR()"
      ]
     },
     "execution_count": 119,
     "metadata": {},
     "output_type": "execute_result"
    }
   ],
   "source": [
    "from sklearn.svm import SVR\n",
    "regressor = SVR(kernel = 'rbf')\n",
    "regressor.fit(X_train, y_train)"
   ]
  },
  {
   "cell_type": "code",
   "execution_count": 120,
   "id": "difficult-athens",
   "metadata": {},
   "outputs": [
    {
     "data": {
      "text/plain": [
       "-0.0001483897927698763"
      ]
     },
     "execution_count": 120,
     "metadata": {},
     "output_type": "execute_result"
    }
   ],
   "source": [
    "regressor.score(X_train,y_train)"
   ]
  },
  {
   "cell_type": "code",
   "execution_count": 121,
   "id": "infrared-providence",
   "metadata": {},
   "outputs": [
    {
     "data": {
      "text/plain": [
       "-0.03054236589637349"
      ]
     },
     "execution_count": 121,
     "metadata": {},
     "output_type": "execute_result"
    }
   ],
   "source": [
    "regressor.score(X_test,y_test)"
   ]
  },
  {
   "cell_type": "code",
   "execution_count": null,
   "id": "choice-jones",
   "metadata": {},
   "outputs": [],
   "source": []
  },
  {
   "cell_type": "code",
   "execution_count": 148,
   "id": "genetic-apple",
   "metadata": {},
   "outputs": [
    {
     "data": {
      "text/plain": [
       "300       176.00\n",
       "301    114534.21\n",
       "302    127412.10\n",
       "303    127412.10\n",
       "304    127412.10\n",
       "305    127412.10\n",
       "306     73107.94\n",
       "307    100335.70\n",
       "308     82920.44\n",
       "309     36992.00\n",
       "310       326.00\n",
       "311     86287.17\n",
       "312     79380.38\n",
       "313    104509.01\n",
       "314     96828.96\n",
       "315    108327.11\n",
       "316     99625.26\n",
       "317     76878.35\n",
       "318     69089.17\n",
       "319    128210.29\n",
       "320    177410.42\n",
       "321     68424.71\n",
       "322    130406.40\n",
       "323     41651.85\n",
       "324       102.95\n",
       "325    121328.92\n",
       "326     94156.55\n",
       "327     93428.49\n",
       "328     73106.96\n",
       "329     62484.03\n",
       "330     50088.00\n",
       "331     45289.92\n",
       "332     95437.44\n",
       "333    100674.86\n",
       "334     55735.08\n",
       "335     86421.80\n",
       "336     86421.80\n",
       "337     86421.80\n",
       "338     86421.80\n",
       "339     41343.95\n",
       "340     15788.00\n",
       "341    128985.55\n",
       "342     93402.16\n",
       "343    176747.02\n",
       "344     32502.40\n",
       "345     55111.85\n",
       "346    133042.85\n",
       "347     88538.89\n",
       "348     66133.39\n",
       "349     67090.81\n",
       "Name: Income_y, dtype: float64"
      ]
     },
     "execution_count": 148,
     "metadata": {},
     "output_type": "execute_result"
    }
   ],
   "source": [
    "y_"
   ]
  },
  {
   "cell_type": "code",
   "execution_count": 123,
   "id": "minute-contributor",
   "metadata": {},
   "outputs": [
    {
     "data": {
      "text/plain": [
       "Completed Jobs    0\n",
       "Total Leads       0\n",
       "tech_count        0\n",
       "bookedjob         0\n",
       "Total Jobs        0\n",
       "Lead Calls        0\n",
       "TMAX              0\n",
       "Avg Install       1\n",
       "dtype: int64"
      ]
     },
     "execution_count": 123,
     "metadata": {},
     "output_type": "execute_result"
    }
   ],
   "source": [
    "X_.isnull().sum()"
   ]
  },
  {
   "cell_type": "code",
   "execution_count": 124,
   "id": "cooked-bargain",
   "metadata": {},
   "outputs": [],
   "source": [
    "X_['Avg Install']=X_['Avg Install'].fillna(2298.813953488)"
   ]
  },
  {
   "cell_type": "code",
   "execution_count": null,
   "id": "adverse-mambo",
   "metadata": {},
   "outputs": [],
   "source": []
  },
  {
   "cell_type": "code",
   "execution_count": 127,
   "id": "finite-section",
   "metadata": {},
   "outputs": [],
   "source": [
    "y_=test['Income_y']"
   ]
  },
  {
   "cell_type": "code",
   "execution_count": 129,
   "id": "white-beads",
   "metadata": {
    "scrolled": true
   },
   "outputs": [
    {
     "data": {
      "text/plain": [
       "-0.11411185867533513"
      ]
     },
     "execution_count": 129,
     "metadata": {},
     "output_type": "execute_result"
    }
   ],
   "source": [
    "regressor.score(X_,y_)"
   ]
  },
  {
   "cell_type": "markdown",
   "id": "exact-rating",
   "metadata": {},
   "source": []
  },
  {
   "cell_type": "code",
   "execution_count": 130,
   "id": "spectacular-chicken",
   "metadata": {},
   "outputs": [],
   "source": [
    "from sklearn.model_selection import GridSearchCV"
   ]
  },
  {
   "cell_type": "code",
   "execution_count": 131,
   "id": "ethical-draft",
   "metadata": {},
   "outputs": [
    {
     "name": "stdout",
     "output_type": "stream",
     "text": [
      "Tuning hyper-parameters\n"
     ]
    },
    {
     "data": {
      "text/plain": [
       "GridSearchCV(cv=5, estimator=SVR(epsilon=0.01),\n",
       "             param_grid=[{'C': [1, 10, 100, 1000, 10000],\n",
       "                          'gamma': [0.0001, 0.001, 0.01, 0.1, 0.2, 0.5, 0.6,\n",
       "                                    0.9],\n",
       "                          'kernel': ['rbf']}])"
      ]
     },
     "execution_count": 131,
     "metadata": {},
     "output_type": "execute_result"
    }
   ],
   "source": [
    "parameters = [{'kernel': ['rbf'], 'gamma': [1e-4, 1e-3, 0.01, 0.1, 0.2, 0.5, 0.6, 0.9],'C': [1, 10, 100, 1000, 10000]}]\n",
    "print(\"Tuning hyper-parameters\")\n",
    "svr = GridSearchCV(SVR(epsilon = 0.01), parameters, cv = 5)\n",
    "svr.fit(X, y)"
   ]
  },
  {
   "cell_type": "code",
   "execution_count": 132,
   "id": "false-replica",
   "metadata": {},
   "outputs": [
    {
     "name": "stdout",
     "output_type": "stream",
     "text": [
      "Grid scores on training set:\n",
      "-0.899 (+/-2.309) for {'C': 1, 'gamma': 0.0001, 'kernel': 'rbf'}\n",
      "-0.899 (+/-2.309) for {'C': 1, 'gamma': 0.001, 'kernel': 'rbf'}\n",
      "-0.899 (+/-2.309) for {'C': 1, 'gamma': 0.01, 'kernel': 'rbf'}\n",
      "-0.899 (+/-2.309) for {'C': 1, 'gamma': 0.1, 'kernel': 'rbf'}\n",
      "-0.899 (+/-2.309) for {'C': 1, 'gamma': 0.2, 'kernel': 'rbf'}\n",
      "-0.899 (+/-2.309) for {'C': 1, 'gamma': 0.5, 'kernel': 'rbf'}\n",
      "-0.899 (+/-2.309) for {'C': 1, 'gamma': 0.6, 'kernel': 'rbf'}\n",
      "-0.899 (+/-2.309) for {'C': 1, 'gamma': 0.9, 'kernel': 'rbf'}\n",
      "-0.898 (+/-2.307) for {'C': 10, 'gamma': 0.0001, 'kernel': 'rbf'}\n",
      "-0.899 (+/-2.308) for {'C': 10, 'gamma': 0.001, 'kernel': 'rbf'}\n",
      "-0.899 (+/-2.309) for {'C': 10, 'gamma': 0.01, 'kernel': 'rbf'}\n",
      "-0.899 (+/-2.309) for {'C': 10, 'gamma': 0.1, 'kernel': 'rbf'}\n",
      "-0.899 (+/-2.309) for {'C': 10, 'gamma': 0.2, 'kernel': 'rbf'}\n",
      "-0.899 (+/-2.309) for {'C': 10, 'gamma': 0.5, 'kernel': 'rbf'}\n",
      "-0.899 (+/-2.309) for {'C': 10, 'gamma': 0.6, 'kernel': 'rbf'}\n",
      "-0.899 (+/-2.309) for {'C': 10, 'gamma': 0.9, 'kernel': 'rbf'}\n",
      "-0.883 (+/-2.291) for {'C': 100, 'gamma': 0.0001, 'kernel': 'rbf'}\n",
      "-0.896 (+/-2.305) for {'C': 100, 'gamma': 0.001, 'kernel': 'rbf'}\n",
      "-0.899 (+/-2.309) for {'C': 100, 'gamma': 0.01, 'kernel': 'rbf'}\n",
      "-0.899 (+/-2.309) for {'C': 100, 'gamma': 0.1, 'kernel': 'rbf'}\n",
      "-0.899 (+/-2.309) for {'C': 100, 'gamma': 0.2, 'kernel': 'rbf'}\n",
      "-0.899 (+/-2.309) for {'C': 100, 'gamma': 0.5, 'kernel': 'rbf'}\n",
      "-0.899 (+/-2.309) for {'C': 100, 'gamma': 0.6, 'kernel': 'rbf'}\n",
      "-0.899 (+/-2.309) for {'C': 100, 'gamma': 0.9, 'kernel': 'rbf'}\n",
      "-0.750 (+/-2.098) for {'C': 1000, 'gamma': 0.0001, 'kernel': 'rbf'}\n",
      "-0.862 (+/-2.250) for {'C': 1000, 'gamma': 0.001, 'kernel': 'rbf'}\n",
      "-0.893 (+/-2.293) for {'C': 1000, 'gamma': 0.01, 'kernel': 'rbf'}\n",
      "-0.895 (+/-2.292) for {'C': 1000, 'gamma': 0.1, 'kernel': 'rbf'}\n",
      "-0.895 (+/-2.292) for {'C': 1000, 'gamma': 0.2, 'kernel': 'rbf'}\n",
      "-0.895 (+/-2.292) for {'C': 1000, 'gamma': 0.5, 'kernel': 'rbf'}\n",
      "-0.895 (+/-2.292) for {'C': 1000, 'gamma': 0.6, 'kernel': 'rbf'}\n",
      "-0.895 (+/-2.292) for {'C': 1000, 'gamma': 0.9, 'kernel': 'rbf'}\n",
      "-0.183 (+/-1.278) for {'C': 10000, 'gamma': 0.0001, 'kernel': 'rbf'}\n",
      "-0.670 (+/-2.050) for {'C': 10000, 'gamma': 0.001, 'kernel': 'rbf'}\n",
      "-0.921 (+/-2.398) for {'C': 10000, 'gamma': 0.01, 'kernel': 'rbf'}\n",
      "-0.935 (+/-2.389) for {'C': 10000, 'gamma': 0.1, 'kernel': 'rbf'}\n",
      "-0.935 (+/-2.389) for {'C': 10000, 'gamma': 0.2, 'kernel': 'rbf'}\n",
      "-0.935 (+/-2.389) for {'C': 10000, 'gamma': 0.5, 'kernel': 'rbf'}\n",
      "-0.935 (+/-2.389) for {'C': 10000, 'gamma': 0.6, 'kernel': 'rbf'}\n",
      "-0.935 (+/-2.389) for {'C': 10000, 'gamma': 0.9, 'kernel': 'rbf'}\n"
     ]
    }
   ],
   "source": [
    "print(\"Grid scores on training set:\")\n",
    "means = svr.cv_results_['mean_test_score']\n",
    "stds = svr.cv_results_['std_test_score']\n",
    "for mean, std, params in zip(means, stds, svr.cv_results_['params']):\n",
    "    print(\"%0.3f (+/-%0.03f) for %r\"% (mean, std * 2, params))"
   ]
  },
  {
   "cell_type": "code",
   "execution_count": 133,
   "id": "lined-minister",
   "metadata": {},
   "outputs": [],
   "source": [
    "tuned_svm = SVR(C=10000,gamma=0.9,kernel='rbf')"
   ]
  },
  {
   "cell_type": "code",
   "execution_count": 134,
   "id": "broad-supervision",
   "metadata": {},
   "outputs": [
    {
     "data": {
      "text/plain": [
       "SVR(C=10000, gamma=0.9)"
      ]
     },
     "execution_count": 134,
     "metadata": {},
     "output_type": "execute_result"
    }
   ],
   "source": [
    "tuned_svm.fit(X_train,y_train)"
   ]
  },
  {
   "cell_type": "code",
   "execution_count": 135,
   "id": "dried-century",
   "metadata": {},
   "outputs": [
    {
     "data": {
      "text/plain": [
       "0.22203950353490376"
      ]
     },
     "execution_count": 135,
     "metadata": {},
     "output_type": "execute_result"
    }
   ],
   "source": [
    "tuned_svm.score(X_train,y_train)"
   ]
  },
  {
   "cell_type": "code",
   "execution_count": 137,
   "id": "harmful-reliance",
   "metadata": {},
   "outputs": [
    {
     "data": {
      "text/plain": [
       "-0.020861616605779343"
      ]
     },
     "execution_count": 137,
     "metadata": {},
     "output_type": "execute_result"
    }
   ],
   "source": [
    "tuned_svm.score(X_test,y_test)"
   ]
  },
  {
   "cell_type": "code",
   "execution_count": 138,
   "id": "liked-bedroom",
   "metadata": {},
   "outputs": [
    {
     "data": {
      "text/plain": [
       "-0.10211323304460351"
      ]
     },
     "execution_count": 138,
     "metadata": {},
     "output_type": "execute_result"
    }
   ],
   "source": [
    "tuned_svm.score(X_,y_)"
   ]
  },
  {
   "cell_type": "code",
   "execution_count": 494,
   "id": "royal-database",
   "metadata": {},
   "outputs": [
    {
     "name": "stdout",
     "output_type": "stream",
     "text": [
      "RMSE: 31264.167605431492\n",
      "MAE: 24372.559223004737\n"
     ]
    }
   ],
   "source": [
    "# RMSE and MAE\n",
    "print('RMSE:',np.sqrt(metrics.mean_squared_error(y_,y_pre_2)))\n",
    "print('MAE:',metrics.mean_absolute_error(y_,y_pre_2))"
   ]
  },
  {
   "cell_type": "code",
   "execution_count": null,
   "id": "therapeutic-defeat",
   "metadata": {},
   "outputs": [],
   "source": []
  },
  {
   "cell_type": "code",
   "execution_count": 147,
   "id": "chinese-multimedia",
   "metadata": {},
   "outputs": [
    {
     "data": {
      "text/plain": [
       "203    230792.70\n",
       "266    108748.26\n",
       "152     66762.95\n",
       "9       82829.20\n",
       "233      1177.00\n",
       "226        88.00\n",
       "196     99848.00\n",
       "109    174312.82\n",
       "5       15559.70\n",
       "175    146926.60\n",
       "237     82783.43\n",
       "57     101549.87\n",
       "218    163633.73\n",
       "45      57492.01\n",
       "182    114291.01\n",
       "221    122055.15\n",
       "289     65586.82\n",
       "211    224599.52\n",
       "148    117944.52\n",
       "165    169570.29\n",
       "78      58625.09\n",
       "113    161085.18\n",
       "249     21892.41\n",
       "250     78196.40\n",
       "104    189499.97\n",
       "42       4160.38\n",
       "281     65246.20\n",
       "295    140165.21\n",
       "157    128854.58\n",
       "238    107946.73\n",
       "17      47084.97\n",
       "164    119772.30\n",
       "33      53270.20\n",
       "24      43624.52\n",
       "215    153349.31\n",
       "119     94827.11\n",
       "7        6106.40\n",
       "90      89839.02\n",
       "46      33484.65\n",
       "73      64872.84\n",
       "93      56046.66\n",
       "76      31645.96\n",
       "286      1001.00\n",
       "60      24049.75\n",
       "77      24089.00\n",
       "63        505.40\n",
       "234     98740.35\n",
       "229    129130.84\n",
       "111    129523.98\n",
       "231    147099.97\n",
       "180     78401.04\n",
       "144      2925.69\n",
       "239      2014.00\n",
       "75        314.00\n",
       "297     83864.72\n",
       "278    115265.51\n",
       "97      47022.53\n",
       "92      65573.29\n",
       "192    294546.63\n",
       "25      57214.11\n",
       "Name: Income_y, dtype: float64"
      ]
     },
     "execution_count": 147,
     "metadata": {},
     "output_type": "execute_result"
    }
   ],
   "source": [
    "y_test"
   ]
  },
  {
   "cell_type": "code",
   "execution_count": null,
   "id": "little-gardening",
   "metadata": {},
   "outputs": [],
   "source": []
  }
 ],
 "metadata": {
  "kernelspec": {
   "display_name": "Python 3",
   "language": "python",
   "name": "python3"
  },
  "language_info": {
   "codemirror_mode": {
    "name": "ipython",
    "version": 3
   },
   "file_extension": ".py",
   "mimetype": "text/x-python",
   "name": "python",
   "nbconvert_exporter": "python",
   "pygments_lexer": "ipython3",
   "version": "3.7.3"
  }
 },
 "nbformat": 4,
 "nbformat_minor": 5
}
