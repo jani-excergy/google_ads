{
  "nbformat": 4,
  "nbformat_minor": 5,
  "metadata": {
    "colab": {
      "name": "ann_feat_tuning (1).ipynb",
      "provenance": [],
      "collapsed_sections": []
    },
    "kernelspec": {
      "display_name": "Python 3",
      "language": "python",
      "name": "python3"
    },
    "language_info": {
      "codemirror_mode": {
        "name": "ipython",
        "version": 3
      },
      "file_extension": ".py",
      "mimetype": "text/x-python",
      "name": "python",
      "nbconvert_exporter": "python",
      "pygments_lexer": "ipython3",
      "version": "3.7.3"
    }
  },
  "cells": [
    {
      "cell_type": "code",
      "metadata": {
        "id": "hearing-offset"
      },
      "source": [
        "import pandas as pd\n",
        "import numpy as np\n",
        "import matplotlib.pyplot as plt\n",
        "import seaborn as sns"
      ],
      "id": "hearing-offset",
      "execution_count": null,
      "outputs": []
    },
    {
      "cell_type": "code",
      "metadata": {
        "id": "pGsWvzo3qL88"
      },
      "source": [
        ""
      ],
      "id": "pGsWvzo3qL88",
      "execution_count": null,
      "outputs": []
    },
    {
      "cell_type": "code",
      "metadata": {
        "id": "unsigned-footwear"
      },
      "source": [
        "df=pd.read_excel('/content/combine_19_20_21_sale.xlsx')"
      ],
      "id": "unsigned-footwear",
      "execution_count": null,
      "outputs": []
    },
    {
      "cell_type": "code",
      "metadata": {
        "colab": {
          "base_uri": "https://localhost:8080/",
          "height": 204
        },
        "id": "sized-pioneer",
        "outputId": "29dbf87c-52ec-4452-ffec-d69aa0fbf48e"
      },
      "source": [
        "df.head()"
      ],
      "id": "sized-pioneer",
      "execution_count": null,
      "outputs": [
        {
          "output_type": "execute_result",
          "data": {
            "text/html": [
              "<div>\n",
              "<style scoped>\n",
              "    .dataframe tbody tr th:only-of-type {\n",
              "        vertical-align: middle;\n",
              "    }\n",
              "\n",
              "    .dataframe tbody tr th {\n",
              "        vertical-align: top;\n",
              "    }\n",
              "\n",
              "    .dataframe thead th {\n",
              "        text-align: right;\n",
              "    }\n",
              "</style>\n",
              "<table border=\"1\" class=\"dataframe\">\n",
              "  <thead>\n",
              "    <tr style=\"text-align: right;\">\n",
              "      <th></th>\n",
              "      <th>Unnamed: 0</th>\n",
              "      <th>Created Date</th>\n",
              "      <th>TMAX</th>\n",
              "      <th>Completed_Jobs</th>\n",
              "      <th>tech_count</th>\n",
              "      <th>Avg_Sales</th>\n",
              "      <th>Zip_income</th>\n",
              "      <th>Income</th>\n",
              "    </tr>\n",
              "  </thead>\n",
              "  <tbody>\n",
              "    <tr>\n",
              "      <th>0</th>\n",
              "      <td>0</td>\n",
              "      <td>2019-01-03</td>\n",
              "      <td>68</td>\n",
              "      <td>90</td>\n",
              "      <td>42</td>\n",
              "      <td>6583.000000</td>\n",
              "      <td>100885.000000</td>\n",
              "      <td>100885.0</td>\n",
              "    </tr>\n",
              "    <tr>\n",
              "      <th>1</th>\n",
              "      <td>1</td>\n",
              "      <td>2019-01-04</td>\n",
              "      <td>69</td>\n",
              "      <td>85</td>\n",
              "      <td>46</td>\n",
              "      <td>6542.500000</td>\n",
              "      <td>112823.177778</td>\n",
              "      <td>25694.2</td>\n",
              "    </tr>\n",
              "    <tr>\n",
              "      <th>2</th>\n",
              "      <td>2</td>\n",
              "      <td>2019-01-05</td>\n",
              "      <td>53</td>\n",
              "      <td>82</td>\n",
              "      <td>22</td>\n",
              "      <td>11057.800000</td>\n",
              "      <td>92705.000000</td>\n",
              "      <td>92705.0</td>\n",
              "    </tr>\n",
              "    <tr>\n",
              "      <th>3</th>\n",
              "      <td>3</td>\n",
              "      <td>2019-01-06</td>\n",
              "      <td>58</td>\n",
              "      <td>16</td>\n",
              "      <td>12</td>\n",
              "      <td>5815.000000</td>\n",
              "      <td>41483.776667</td>\n",
              "      <td>14062.0</td>\n",
              "    </tr>\n",
              "    <tr>\n",
              "      <th>4</th>\n",
              "      <td>4</td>\n",
              "      <td>2019-01-07</td>\n",
              "      <td>60</td>\n",
              "      <td>89</td>\n",
              "      <td>63</td>\n",
              "      <td>7918.583333</td>\n",
              "      <td>108119.473333</td>\n",
              "      <td>109814.0</td>\n",
              "    </tr>\n",
              "  </tbody>\n",
              "</table>\n",
              "</div>"
            ],
            "text/plain": [
              "   Unnamed: 0 Created Date  TMAX  ...     Avg_Sales     Zip_income    Income\n",
              "0           0   2019-01-03    68  ...   6583.000000  100885.000000  100885.0\n",
              "1           1   2019-01-04    69  ...   6542.500000  112823.177778   25694.2\n",
              "2           2   2019-01-05    53  ...  11057.800000   92705.000000   92705.0\n",
              "3           3   2019-01-06    58  ...   5815.000000   41483.776667   14062.0\n",
              "4           4   2019-01-07    60  ...   7918.583333  108119.473333  109814.0\n",
              "\n",
              "[5 rows x 8 columns]"
            ]
          },
          "metadata": {
            "tags": []
          },
          "execution_count": 3
        }
      ]
    },
    {
      "cell_type": "code",
      "metadata": {
        "colab": {
          "base_uri": "https://localhost:8080/"
        },
        "id": "FCGrTjIvcw9t",
        "outputId": "2649ff7b-0345-42db-91f5-919675f2ba73"
      },
      "source": [
        "df.columns"
      ],
      "id": "FCGrTjIvcw9t",
      "execution_count": null,
      "outputs": [
        {
          "output_type": "execute_result",
          "data": {
            "text/plain": [
              "Index(['Unnamed: 0', 'Created Date', 'TMAX', 'Completed_Jobs', 'tech_count',\n",
              "       'Avg_Sales', 'Zip_income', 'Income'],\n",
              "      dtype='object')"
            ]
          },
          "metadata": {
            "tags": []
          },
          "execution_count": 4
        }
      ]
    },
    {
      "cell_type": "code",
      "metadata": {
        "id": "negative-rendering"
      },
      "source": [
        "df1=df[['Created Date','Completed_Jobs','TMAX','tech_count','Avg_Sales','Zip_income','Income']]"
      ],
      "id": "negative-rendering",
      "execution_count": null,
      "outputs": []
    },
    {
      "cell_type": "code",
      "metadata": {
        "id": "retired-madagascar"
      },
      "source": [
        "df1=df1.drop_duplicates(ignore_index=True)"
      ],
      "id": "retired-madagascar",
      "execution_count": null,
      "outputs": []
    },
    {
      "cell_type": "code",
      "metadata": {
        "id": "KPwAh4JNh8pT",
        "colab": {
          "base_uri": "https://localhost:8080/"
        },
        "outputId": "64844f75-4c1d-467c-d35d-f3f974d192b1"
      },
      "source": [
        "df1.shape"
      ],
      "id": "KPwAh4JNh8pT",
      "execution_count": null,
      "outputs": [
        {
          "output_type": "execute_result",
          "data": {
            "text/plain": [
              "(726, 7)"
            ]
          },
          "metadata": {
            "tags": []
          },
          "execution_count": 11
        }
      ]
    },
    {
      "cell_type": "code",
      "metadata": {
        "id": "3sPNJ3KmiAK1"
      },
      "source": [
        "df1['year'] = df1['Created Date'].dt.year\n",
        "df1['month'] = df1['Created Date'].dt.month\n",
        "df1['day'] = df1['Created Date'].dt.day\n",
        "\n",
        "\n",
        "df1['weekday'] = df1['Created Date'].dt.dayofweek\n",
        "\n",
        "df1['quarter'] = df1['Created Date'].dt.quarter"
      ],
      "id": "3sPNJ3KmiAK1",
      "execution_count": null,
      "outputs": []
    },
    {
      "cell_type": "code",
      "metadata": {
        "id": "4Z7pIJPuiDAK"
      },
      "source": [
        "df1=df1.drop(['Created Date'],axis=1)"
      ],
      "id": "4Z7pIJPuiDAK",
      "execution_count": null,
      "outputs": []
    },
    {
      "cell_type": "code",
      "metadata": {
        "id": "KYC5DaubiKlH"
      },
      "source": [
        "def encode(data, col, max_val):\n",
        "    data[col + '_sin'] = np.sin(2 * np.pi * data[col]/max_val)\n",
        "    data[col + '_cos'] = np.cos(2 * np.pi * data[col]/max_val)\n",
        "    return data"
      ],
      "id": "KYC5DaubiKlH",
      "execution_count": null,
      "outputs": []
    },
    {
      "cell_type": "code",
      "metadata": {
        "colab": {
          "base_uri": "https://localhost:8080/",
          "height": 439
        },
        "id": "6Mm8pKlQiNKK",
        "outputId": "de83f353-e6e4-47f8-9baa-031bb929398d"
      },
      "source": [
        "encode(df1,'month',12)\n",
        "encode(df1,'day',365)\n",
        "encode(df1,'weekday',7)\n",
        "encode(df1,'quarter',4)"
      ],
      "id": "6Mm8pKlQiNKK",
      "execution_count": null,
      "outputs": [
        {
          "output_type": "execute_result",
          "data": {
            "text/html": [
              "<div>\n",
              "<style scoped>\n",
              "    .dataframe tbody tr th:only-of-type {\n",
              "        vertical-align: middle;\n",
              "    }\n",
              "\n",
              "    .dataframe tbody tr th {\n",
              "        vertical-align: top;\n",
              "    }\n",
              "\n",
              "    .dataframe thead th {\n",
              "        text-align: right;\n",
              "    }\n",
              "</style>\n",
              "<table border=\"1\" class=\"dataframe\">\n",
              "  <thead>\n",
              "    <tr style=\"text-align: right;\">\n",
              "      <th></th>\n",
              "      <th>Completed_Jobs</th>\n",
              "      <th>TMAX</th>\n",
              "      <th>tech_count</th>\n",
              "      <th>Avg_Sales</th>\n",
              "      <th>Zip_income</th>\n",
              "      <th>Income</th>\n",
              "      <th>year</th>\n",
              "      <th>month</th>\n",
              "      <th>day</th>\n",
              "      <th>weekday</th>\n",
              "      <th>quarter</th>\n",
              "      <th>month_sin</th>\n",
              "      <th>month_cos</th>\n",
              "      <th>day_sin</th>\n",
              "      <th>day_cos</th>\n",
              "      <th>weekday_sin</th>\n",
              "      <th>weekday_cos</th>\n",
              "      <th>quarter_sin</th>\n",
              "      <th>quarter_cos</th>\n",
              "    </tr>\n",
              "  </thead>\n",
              "  <tbody>\n",
              "    <tr>\n",
              "      <th>0</th>\n",
              "      <td>90</td>\n",
              "      <td>68</td>\n",
              "      <td>42</td>\n",
              "      <td>6583.000000</td>\n",
              "      <td>100885.000000</td>\n",
              "      <td>100885.00</td>\n",
              "      <td>2019</td>\n",
              "      <td>1</td>\n",
              "      <td>3</td>\n",
              "      <td>3</td>\n",
              "      <td>1</td>\n",
              "      <td>0.500000</td>\n",
              "      <td>0.866025</td>\n",
              "      <td>0.051620</td>\n",
              "      <td>0.998667</td>\n",
              "      <td>0.433884</td>\n",
              "      <td>-0.900969</td>\n",
              "      <td>1.000000e+00</td>\n",
              "      <td>6.123234e-17</td>\n",
              "    </tr>\n",
              "    <tr>\n",
              "      <th>1</th>\n",
              "      <td>85</td>\n",
              "      <td>69</td>\n",
              "      <td>46</td>\n",
              "      <td>6542.500000</td>\n",
              "      <td>112823.177778</td>\n",
              "      <td>25694.20</td>\n",
              "      <td>2019</td>\n",
              "      <td>1</td>\n",
              "      <td>4</td>\n",
              "      <td>4</td>\n",
              "      <td>1</td>\n",
              "      <td>0.500000</td>\n",
              "      <td>0.866025</td>\n",
              "      <td>0.068802</td>\n",
              "      <td>0.997630</td>\n",
              "      <td>-0.433884</td>\n",
              "      <td>-0.900969</td>\n",
              "      <td>1.000000e+00</td>\n",
              "      <td>6.123234e-17</td>\n",
              "    </tr>\n",
              "    <tr>\n",
              "      <th>2</th>\n",
              "      <td>82</td>\n",
              "      <td>53</td>\n",
              "      <td>22</td>\n",
              "      <td>11057.800000</td>\n",
              "      <td>92705.000000</td>\n",
              "      <td>92705.00</td>\n",
              "      <td>2019</td>\n",
              "      <td>1</td>\n",
              "      <td>5</td>\n",
              "      <td>5</td>\n",
              "      <td>1</td>\n",
              "      <td>0.500000</td>\n",
              "      <td>0.866025</td>\n",
              "      <td>0.085965</td>\n",
              "      <td>0.996298</td>\n",
              "      <td>-0.974928</td>\n",
              "      <td>-0.222521</td>\n",
              "      <td>1.000000e+00</td>\n",
              "      <td>6.123234e-17</td>\n",
              "    </tr>\n",
              "    <tr>\n",
              "      <th>3</th>\n",
              "      <td>16</td>\n",
              "      <td>58</td>\n",
              "      <td>12</td>\n",
              "      <td>5815.000000</td>\n",
              "      <td>41483.776667</td>\n",
              "      <td>14062.00</td>\n",
              "      <td>2019</td>\n",
              "      <td>1</td>\n",
              "      <td>6</td>\n",
              "      <td>6</td>\n",
              "      <td>1</td>\n",
              "      <td>0.500000</td>\n",
              "      <td>0.866025</td>\n",
              "      <td>0.103102</td>\n",
              "      <td>0.994671</td>\n",
              "      <td>-0.781831</td>\n",
              "      <td>0.623490</td>\n",
              "      <td>1.000000e+00</td>\n",
              "      <td>6.123234e-17</td>\n",
              "    </tr>\n",
              "    <tr>\n",
              "      <th>4</th>\n",
              "      <td>89</td>\n",
              "      <td>60</td>\n",
              "      <td>63</td>\n",
              "      <td>7918.583333</td>\n",
              "      <td>108119.473333</td>\n",
              "      <td>109814.00</td>\n",
              "      <td>2019</td>\n",
              "      <td>1</td>\n",
              "      <td>7</td>\n",
              "      <td>0</td>\n",
              "      <td>1</td>\n",
              "      <td>0.500000</td>\n",
              "      <td>0.866025</td>\n",
              "      <td>0.120208</td>\n",
              "      <td>0.992749</td>\n",
              "      <td>0.000000</td>\n",
              "      <td>1.000000</td>\n",
              "      <td>1.000000e+00</td>\n",
              "      <td>6.123234e-17</td>\n",
              "    </tr>\n",
              "    <tr>\n",
              "      <th>...</th>\n",
              "      <td>...</td>\n",
              "      <td>...</td>\n",
              "      <td>...</td>\n",
              "      <td>...</td>\n",
              "      <td>...</td>\n",
              "      <td>...</td>\n",
              "      <td>...</td>\n",
              "      <td>...</td>\n",
              "      <td>...</td>\n",
              "      <td>...</td>\n",
              "      <td>...</td>\n",
              "      <td>...</td>\n",
              "      <td>...</td>\n",
              "      <td>...</td>\n",
              "      <td>...</td>\n",
              "      <td>...</td>\n",
              "      <td>...</td>\n",
              "      <td>...</td>\n",
              "      <td>...</td>\n",
              "    </tr>\n",
              "    <tr>\n",
              "      <th>721</th>\n",
              "      <td>222</td>\n",
              "      <td>81</td>\n",
              "      <td>126</td>\n",
              "      <td>3494.939333</td>\n",
              "      <td>210099.110000</td>\n",
              "      <td>210099.11</td>\n",
              "      <td>2021</td>\n",
              "      <td>4</td>\n",
              "      <td>30</td>\n",
              "      <td>4</td>\n",
              "      <td>2</td>\n",
              "      <td>0.866025</td>\n",
              "      <td>-0.500000</td>\n",
              "      <td>0.493776</td>\n",
              "      <td>0.869589</td>\n",
              "      <td>-0.433884</td>\n",
              "      <td>-0.900969</td>\n",
              "      <td>1.224647e-16</td>\n",
              "      <td>-1.000000e+00</td>\n",
              "    </tr>\n",
              "    <tr>\n",
              "      <th>722</th>\n",
              "      <td>168</td>\n",
              "      <td>68</td>\n",
              "      <td>75</td>\n",
              "      <td>4079.521639</td>\n",
              "      <td>119775.950000</td>\n",
              "      <td>119775.95</td>\n",
              "      <td>2021</td>\n",
              "      <td>5</td>\n",
              "      <td>1</td>\n",
              "      <td>5</td>\n",
              "      <td>2</td>\n",
              "      <td>0.500000</td>\n",
              "      <td>-0.866025</td>\n",
              "      <td>0.017213</td>\n",
              "      <td>0.999852</td>\n",
              "      <td>-0.974928</td>\n",
              "      <td>-0.222521</td>\n",
              "      <td>1.224647e-16</td>\n",
              "      <td>-1.000000e+00</td>\n",
              "    </tr>\n",
              "    <tr>\n",
              "      <th>723</th>\n",
              "      <td>202</td>\n",
              "      <td>69</td>\n",
              "      <td>124</td>\n",
              "      <td>3481.447857</td>\n",
              "      <td>230699.430000</td>\n",
              "      <td>230699.43</td>\n",
              "      <td>2021</td>\n",
              "      <td>5</td>\n",
              "      <td>5</td>\n",
              "      <td>2</td>\n",
              "      <td>2</td>\n",
              "      <td>0.500000</td>\n",
              "      <td>-0.866025</td>\n",
              "      <td>0.085965</td>\n",
              "      <td>0.996298</td>\n",
              "      <td>0.974928</td>\n",
              "      <td>-0.222521</td>\n",
              "      <td>1.224647e-16</td>\n",
              "      <td>-1.000000e+00</td>\n",
              "    </tr>\n",
              "    <tr>\n",
              "      <th>724</th>\n",
              "      <td>109</td>\n",
              "      <td>68</td>\n",
              "      <td>75</td>\n",
              "      <td>4314.042857</td>\n",
              "      <td>112431.950000</td>\n",
              "      <td>112431.95</td>\n",
              "      <td>2021</td>\n",
              "      <td>5</td>\n",
              "      <td>8</td>\n",
              "      <td>5</td>\n",
              "      <td>2</td>\n",
              "      <td>0.500000</td>\n",
              "      <td>-0.866025</td>\n",
              "      <td>0.137279</td>\n",
              "      <td>0.990532</td>\n",
              "      <td>-0.974928</td>\n",
              "      <td>-0.222521</td>\n",
              "      <td>1.224647e-16</td>\n",
              "      <td>-1.000000e+00</td>\n",
              "    </tr>\n",
              "    <tr>\n",
              "      <th>725</th>\n",
              "      <td>177</td>\n",
              "      <td>63</td>\n",
              "      <td>114</td>\n",
              "      <td>3539.839216</td>\n",
              "      <td>199708.630000</td>\n",
              "      <td>199708.63</td>\n",
              "      <td>2021</td>\n",
              "      <td>5</td>\n",
              "      <td>13</td>\n",
              "      <td>3</td>\n",
              "      <td>2</td>\n",
              "      <td>0.500000</td>\n",
              "      <td>-0.866025</td>\n",
              "      <td>0.221922</td>\n",
              "      <td>0.975065</td>\n",
              "      <td>0.433884</td>\n",
              "      <td>-0.900969</td>\n",
              "      <td>1.224647e-16</td>\n",
              "      <td>-1.000000e+00</td>\n",
              "    </tr>\n",
              "  </tbody>\n",
              "</table>\n",
              "<p>726 rows × 19 columns</p>\n",
              "</div>"
            ],
            "text/plain": [
              "     Completed_Jobs  TMAX  tech_count  ...  weekday_cos   quarter_sin   quarter_cos\n",
              "0                90    68          42  ...    -0.900969  1.000000e+00  6.123234e-17\n",
              "1                85    69          46  ...    -0.900969  1.000000e+00  6.123234e-17\n",
              "2                82    53          22  ...    -0.222521  1.000000e+00  6.123234e-17\n",
              "3                16    58          12  ...     0.623490  1.000000e+00  6.123234e-17\n",
              "4                89    60          63  ...     1.000000  1.000000e+00  6.123234e-17\n",
              "..              ...   ...         ...  ...          ...           ...           ...\n",
              "721             222    81         126  ...    -0.900969  1.224647e-16 -1.000000e+00\n",
              "722             168    68          75  ...    -0.222521  1.224647e-16 -1.000000e+00\n",
              "723             202    69         124  ...    -0.222521  1.224647e-16 -1.000000e+00\n",
              "724             109    68          75  ...    -0.222521  1.224647e-16 -1.000000e+00\n",
              "725             177    63         114  ...    -0.900969  1.224647e-16 -1.000000e+00\n",
              "\n",
              "[726 rows x 19 columns]"
            ]
          },
          "metadata": {
            "tags": []
          },
          "execution_count": 15
        }
      ]
    },
    {
      "cell_type": "code",
      "metadata": {
        "id": "JRRV6B7CiYT8"
      },
      "source": [
        "df1['year'] = df1['year'].map({2019: 0, 2020: 1,2021:2})"
      ],
      "id": "JRRV6B7CiYT8",
      "execution_count": null,
      "outputs": []
    },
    {
      "cell_type": "code",
      "metadata": {
        "id": "lA5mXoBxiaHf"
      },
      "source": [
        ""
      ],
      "id": "lA5mXoBxiaHf",
      "execution_count": null,
      "outputs": []
    },
    {
      "cell_type": "code",
      "metadata": {
        "id": "Uk9_U27BCVNP"
      },
      "source": [
        "df1=df1.drop_duplicates(ignore_index=True)"
      ],
      "id": "Uk9_U27BCVNP",
      "execution_count": null,
      "outputs": []
    },
    {
      "cell_type": "code",
      "metadata": {
        "colab": {
          "base_uri": "https://localhost:8080/"
        },
        "id": "NRWn5IVuCaWr",
        "outputId": "7eaf59bb-427b-4e70-fe5d-73b85990e839"
      },
      "source": [
        "df1.shape"
      ],
      "id": "NRWn5IVuCaWr",
      "execution_count": null,
      "outputs": [
        {
          "output_type": "execute_result",
          "data": {
            "text/plain": [
              "(726, 19)"
            ]
          },
          "metadata": {
            "tags": []
          },
          "execution_count": 18
        }
      ]
    },
    {
      "cell_type": "code",
      "metadata": {
        "colab": {
          "base_uri": "https://localhost:8080/",
          "height": 309
        },
        "id": "processed-needle",
        "outputId": "a7886026-4151-494a-b0af-3343dd0c8343"
      },
      "source": [
        "df1.head()"
      ],
      "id": "processed-needle",
      "execution_count": null,
      "outputs": [
        {
          "output_type": "execute_result",
          "data": {
            "text/html": [
              "<div>\n",
              "<style scoped>\n",
              "    .dataframe tbody tr th:only-of-type {\n",
              "        vertical-align: middle;\n",
              "    }\n",
              "\n",
              "    .dataframe tbody tr th {\n",
              "        vertical-align: top;\n",
              "    }\n",
              "\n",
              "    .dataframe thead th {\n",
              "        text-align: right;\n",
              "    }\n",
              "</style>\n",
              "<table border=\"1\" class=\"dataframe\">\n",
              "  <thead>\n",
              "    <tr style=\"text-align: right;\">\n",
              "      <th></th>\n",
              "      <th>Completed_Jobs</th>\n",
              "      <th>TMAX</th>\n",
              "      <th>tech_count</th>\n",
              "      <th>Avg_Sales</th>\n",
              "      <th>Zip_income</th>\n",
              "      <th>Income</th>\n",
              "      <th>year</th>\n",
              "      <th>month</th>\n",
              "      <th>day</th>\n",
              "      <th>weekday</th>\n",
              "      <th>quarter</th>\n",
              "      <th>month_sin</th>\n",
              "      <th>month_cos</th>\n",
              "      <th>day_sin</th>\n",
              "      <th>day_cos</th>\n",
              "      <th>weekday_sin</th>\n",
              "      <th>weekday_cos</th>\n",
              "      <th>quarter_sin</th>\n",
              "      <th>quarter_cos</th>\n",
              "    </tr>\n",
              "  </thead>\n",
              "  <tbody>\n",
              "    <tr>\n",
              "      <th>0</th>\n",
              "      <td>90</td>\n",
              "      <td>68</td>\n",
              "      <td>42</td>\n",
              "      <td>6583.000000</td>\n",
              "      <td>100885.000000</td>\n",
              "      <td>100885.0</td>\n",
              "      <td>0</td>\n",
              "      <td>1</td>\n",
              "      <td>3</td>\n",
              "      <td>3</td>\n",
              "      <td>1</td>\n",
              "      <td>0.5</td>\n",
              "      <td>0.866025</td>\n",
              "      <td>0.051620</td>\n",
              "      <td>0.998667</td>\n",
              "      <td>0.433884</td>\n",
              "      <td>-0.900969</td>\n",
              "      <td>1.0</td>\n",
              "      <td>6.123234e-17</td>\n",
              "    </tr>\n",
              "    <tr>\n",
              "      <th>1</th>\n",
              "      <td>85</td>\n",
              "      <td>69</td>\n",
              "      <td>46</td>\n",
              "      <td>6542.500000</td>\n",
              "      <td>112823.177778</td>\n",
              "      <td>25694.2</td>\n",
              "      <td>0</td>\n",
              "      <td>1</td>\n",
              "      <td>4</td>\n",
              "      <td>4</td>\n",
              "      <td>1</td>\n",
              "      <td>0.5</td>\n",
              "      <td>0.866025</td>\n",
              "      <td>0.068802</td>\n",
              "      <td>0.997630</td>\n",
              "      <td>-0.433884</td>\n",
              "      <td>-0.900969</td>\n",
              "      <td>1.0</td>\n",
              "      <td>6.123234e-17</td>\n",
              "    </tr>\n",
              "    <tr>\n",
              "      <th>2</th>\n",
              "      <td>82</td>\n",
              "      <td>53</td>\n",
              "      <td>22</td>\n",
              "      <td>11057.800000</td>\n",
              "      <td>92705.000000</td>\n",
              "      <td>92705.0</td>\n",
              "      <td>0</td>\n",
              "      <td>1</td>\n",
              "      <td>5</td>\n",
              "      <td>5</td>\n",
              "      <td>1</td>\n",
              "      <td>0.5</td>\n",
              "      <td>0.866025</td>\n",
              "      <td>0.085965</td>\n",
              "      <td>0.996298</td>\n",
              "      <td>-0.974928</td>\n",
              "      <td>-0.222521</td>\n",
              "      <td>1.0</td>\n",
              "      <td>6.123234e-17</td>\n",
              "    </tr>\n",
              "    <tr>\n",
              "      <th>3</th>\n",
              "      <td>16</td>\n",
              "      <td>58</td>\n",
              "      <td>12</td>\n",
              "      <td>5815.000000</td>\n",
              "      <td>41483.776667</td>\n",
              "      <td>14062.0</td>\n",
              "      <td>0</td>\n",
              "      <td>1</td>\n",
              "      <td>6</td>\n",
              "      <td>6</td>\n",
              "      <td>1</td>\n",
              "      <td>0.5</td>\n",
              "      <td>0.866025</td>\n",
              "      <td>0.103102</td>\n",
              "      <td>0.994671</td>\n",
              "      <td>-0.781831</td>\n",
              "      <td>0.623490</td>\n",
              "      <td>1.0</td>\n",
              "      <td>6.123234e-17</td>\n",
              "    </tr>\n",
              "    <tr>\n",
              "      <th>4</th>\n",
              "      <td>89</td>\n",
              "      <td>60</td>\n",
              "      <td>63</td>\n",
              "      <td>7918.583333</td>\n",
              "      <td>108119.473333</td>\n",
              "      <td>109814.0</td>\n",
              "      <td>0</td>\n",
              "      <td>1</td>\n",
              "      <td>7</td>\n",
              "      <td>0</td>\n",
              "      <td>1</td>\n",
              "      <td>0.5</td>\n",
              "      <td>0.866025</td>\n",
              "      <td>0.120208</td>\n",
              "      <td>0.992749</td>\n",
              "      <td>0.000000</td>\n",
              "      <td>1.000000</td>\n",
              "      <td>1.0</td>\n",
              "      <td>6.123234e-17</td>\n",
              "    </tr>\n",
              "  </tbody>\n",
              "</table>\n",
              "</div>"
            ],
            "text/plain": [
              "   Completed_Jobs  TMAX  tech_count  ...  weekday_cos  quarter_sin   quarter_cos\n",
              "0              90    68          42  ...    -0.900969          1.0  6.123234e-17\n",
              "1              85    69          46  ...    -0.900969          1.0  6.123234e-17\n",
              "2              82    53          22  ...    -0.222521          1.0  6.123234e-17\n",
              "3              16    58          12  ...     0.623490          1.0  6.123234e-17\n",
              "4              89    60          63  ...     1.000000          1.0  6.123234e-17\n",
              "\n",
              "[5 rows x 19 columns]"
            ]
          },
          "metadata": {
            "tags": []
          },
          "execution_count": 19
        }
      ]
    },
    {
      "cell_type": "code",
      "metadata": {
        "id": "royal-designation"
      },
      "source": [
        ""
      ],
      "id": "royal-designation",
      "execution_count": null,
      "outputs": []
    },
    {
      "cell_type": "code",
      "metadata": {
        "id": "renewable-beaver"
      },
      "source": [
        ""
      ],
      "id": "renewable-beaver",
      "execution_count": null,
      "outputs": []
    },
    {
      "cell_type": "code",
      "metadata": {
        "id": "PC41CO_6h0qs"
      },
      "source": [
        ""
      ],
      "id": "PC41CO_6h0qs",
      "execution_count": null,
      "outputs": []
    },
    {
      "cell_type": "code",
      "metadata": {
        "colab": {
          "base_uri": "https://localhost:8080/",
          "height": 322
        },
        "id": "studied-grant",
        "outputId": "37fd5154-97dd-4cb5-bbd3-cc25e44732c6"
      },
      "source": [
        "df1.head()"
      ],
      "id": "studied-grant",
      "execution_count": null,
      "outputs": [
        {
          "output_type": "execute_result",
          "data": {
            "text/html": [
              "<div>\n",
              "<style scoped>\n",
              "    .dataframe tbody tr th:only-of-type {\n",
              "        vertical-align: middle;\n",
              "    }\n",
              "\n",
              "    .dataframe tbody tr th {\n",
              "        vertical-align: top;\n",
              "    }\n",
              "\n",
              "    .dataframe thead th {\n",
              "        text-align: right;\n",
              "    }\n",
              "</style>\n",
              "<table border=\"1\" class=\"dataframe\">\n",
              "  <thead>\n",
              "    <tr style=\"text-align: right;\">\n",
              "      <th></th>\n",
              "      <th>Completed Jobs</th>\n",
              "      <th>TMAX</th>\n",
              "      <th>tech_count</th>\n",
              "      <th>Avg Sales</th>\n",
              "      <th>Income_y</th>\n",
              "      <th>Zip_income</th>\n",
              "      <th>year</th>\n",
              "      <th>month</th>\n",
              "      <th>day</th>\n",
              "      <th>weekday</th>\n",
              "      <th>quarter</th>\n",
              "      <th>month_sin</th>\n",
              "      <th>month_cos</th>\n",
              "      <th>day_sin</th>\n",
              "      <th>day_cos</th>\n",
              "      <th>weekday_sin</th>\n",
              "      <th>weekday_cos</th>\n",
              "      <th>quarter_sin</th>\n",
              "      <th>quarter_cos</th>\n",
              "    </tr>\n",
              "  </thead>\n",
              "  <tbody>\n",
              "    <tr>\n",
              "      <th>0</th>\n",
              "      <td>57</td>\n",
              "      <td>65</td>\n",
              "      <td>59</td>\n",
              "      <td>3617.444828</td>\n",
              "      <td>23933.54</td>\n",
              "      <td>23933.540</td>\n",
              "      <td>0</td>\n",
              "      <td>1</td>\n",
              "      <td>2</td>\n",
              "      <td>3</td>\n",
              "      <td>1</td>\n",
              "      <td>0.5</td>\n",
              "      <td>0.866025</td>\n",
              "      <td>0.034422</td>\n",
              "      <td>0.999407</td>\n",
              "      <td>0.433884</td>\n",
              "      <td>-0.900969</td>\n",
              "      <td>1.0</td>\n",
              "      <td>6.123234e-17</td>\n",
              "    </tr>\n",
              "    <tr>\n",
              "      <th>1</th>\n",
              "      <td>77</td>\n",
              "      <td>71</td>\n",
              "      <td>40</td>\n",
              "      <td>1781.345385</td>\n",
              "      <td>65232.03</td>\n",
              "      <td>74498.870</td>\n",
              "      <td>0</td>\n",
              "      <td>1</td>\n",
              "      <td>3</td>\n",
              "      <td>4</td>\n",
              "      <td>1</td>\n",
              "      <td>0.5</td>\n",
              "      <td>0.866025</td>\n",
              "      <td>0.051620</td>\n",
              "      <td>0.998667</td>\n",
              "      <td>-0.433884</td>\n",
              "      <td>-0.900969</td>\n",
              "      <td>1.0</td>\n",
              "      <td>6.123234e-17</td>\n",
              "    </tr>\n",
              "    <tr>\n",
              "      <th>2</th>\n",
              "      <td>55</td>\n",
              "      <td>69</td>\n",
              "      <td>21</td>\n",
              "      <td>459.248750</td>\n",
              "      <td>26195.32</td>\n",
              "      <td>110329.465</td>\n",
              "      <td>0</td>\n",
              "      <td>1</td>\n",
              "      <td>4</td>\n",
              "      <td>5</td>\n",
              "      <td>1</td>\n",
              "      <td>0.5</td>\n",
              "      <td>0.866025</td>\n",
              "      <td>0.068802</td>\n",
              "      <td>0.997630</td>\n",
              "      <td>-0.974928</td>\n",
              "      <td>-0.222521</td>\n",
              "      <td>1.0</td>\n",
              "      <td>6.123234e-17</td>\n",
              "    </tr>\n",
              "    <tr>\n",
              "      <th>3</th>\n",
              "      <td>6</td>\n",
              "      <td>69</td>\n",
              "      <td>9</td>\n",
              "      <td>846.000000</td>\n",
              "      <td>264.00</td>\n",
              "      <td>32925.410</td>\n",
              "      <td>0</td>\n",
              "      <td>1</td>\n",
              "      <td>5</td>\n",
              "      <td>6</td>\n",
              "      <td>1</td>\n",
              "      <td>0.5</td>\n",
              "      <td>0.866025</td>\n",
              "      <td>0.085965</td>\n",
              "      <td>0.996298</td>\n",
              "      <td>-0.781831</td>\n",
              "      <td>0.623490</td>\n",
              "      <td>1.0</td>\n",
              "      <td>6.123234e-17</td>\n",
              "    </tr>\n",
              "    <tr>\n",
              "      <th>4</th>\n",
              "      <td>73</td>\n",
              "      <td>77</td>\n",
              "      <td>60</td>\n",
              "      <td>1820.060789</td>\n",
              "      <td>48506.16</td>\n",
              "      <td>83225.340</td>\n",
              "      <td>0</td>\n",
              "      <td>1</td>\n",
              "      <td>6</td>\n",
              "      <td>0</td>\n",
              "      <td>1</td>\n",
              "      <td>0.5</td>\n",
              "      <td>0.866025</td>\n",
              "      <td>0.103102</td>\n",
              "      <td>0.994671</td>\n",
              "      <td>0.000000</td>\n",
              "      <td>1.000000</td>\n",
              "      <td>1.0</td>\n",
              "      <td>6.123234e-17</td>\n",
              "    </tr>\n",
              "  </tbody>\n",
              "</table>\n",
              "</div>"
            ],
            "text/plain": [
              "   Completed Jobs  TMAX  tech_count  ...  weekday_cos  quarter_sin   quarter_cos\n",
              "0              57    65          59  ...    -0.900969          1.0  6.123234e-17\n",
              "1              77    71          40  ...    -0.900969          1.0  6.123234e-17\n",
              "2              55    69          21  ...    -0.222521          1.0  6.123234e-17\n",
              "3               6    69           9  ...     0.623490          1.0  6.123234e-17\n",
              "4              73    77          60  ...     1.000000          1.0  6.123234e-17\n",
              "\n",
              "[5 rows x 19 columns]"
            ]
          },
          "metadata": {
            "tags": []
          },
          "execution_count": 99
        }
      ]
    },
    {
      "cell_type": "code",
      "metadata": {
        "id": "bWx84n6yg3Or"
      },
      "source": [
        ""
      ],
      "id": "bWx84n6yg3Or",
      "execution_count": null,
      "outputs": []
    },
    {
      "cell_type": "code",
      "metadata": {
        "id": "soviet-language"
      },
      "source": [
        "df1['f1']=np.abs(df1['Completed_Jobs'])*np.abs(df1['Zip_income'])\n",
        "df1['f2']=np.sqrt(df1['Completed_Jobs']**3)*np.abs(df1['Avg_Sales'])\n",
        "df1['f3']=np.abs(np.sqrt(df1['Completed_Jobs']) - np.sqrt(df1['tech_count']))\n",
        "df1['f4']=np.log(np.sqrt(df1['Completed_Jobs'])*df1['TMAX']**3)"
      ],
      "id": "soviet-language",
      "execution_count": null,
      "outputs": []
    },
    {
      "cell_type": "code",
      "metadata": {
        "id": "Nfmdz80k7rD8",
        "colab": {
          "base_uri": "https://localhost:8080/"
        },
        "outputId": "162a6219-bbe1-4dde-afc5-19bc0e6de95d"
      },
      "source": [
        "df1.columns"
      ],
      "id": "Nfmdz80k7rD8",
      "execution_count": null,
      "outputs": [
        {
          "output_type": "execute_result",
          "data": {
            "text/plain": [
              "Index(['Completed_Jobs', 'TMAX', 'tech_count', 'Avg_Sales', 'Zip_income',\n",
              "       'Income', 'year', 'month', 'day', 'weekday', 'quarter', 'month_sin',\n",
              "       'month_cos', 'day_sin', 'day_cos', 'weekday_sin', 'weekday_cos',\n",
              "       'quarter_sin', 'quarter_cos', 'f1', 'f2', 'f3', 'f4'],\n",
              "      dtype='object')"
            ]
          },
          "metadata": {
            "tags": []
          },
          "execution_count": 21
        }
      ]
    },
    {
      "cell_type": "code",
      "metadata": {
        "id": "PczCtZbB78Lf"
      },
      "source": [
        "df2=df1[['Completed_Jobs', 'TMAX', 'tech_count', 'Avg_Sales', 'Zip_income',\n",
        "       'Income']]"
      ],
      "id": "PczCtZbB78Lf",
      "execution_count": null,
      "outputs": []
    },
    {
      "cell_type": "code",
      "metadata": {
        "colab": {
          "base_uri": "https://localhost:8080/",
          "height": 1000
        },
        "id": "sunset-greek",
        "outputId": "db05b9e9-c372-4220-9e24-c5ca4ad79a49"
      },
      "source": [
        "for i in df2.columns:\n",
        "    sns.scatterplot(df2[i],df2['Income'])\n",
        "    plt.show()"
      ],
      "id": "sunset-greek",
      "execution_count": null,
      "outputs": [
        {
          "output_type": "stream",
          "text": [
            "/usr/local/lib/python3.7/dist-packages/seaborn/_decorators.py:43: FutureWarning: Pass the following variables as keyword args: x, y. From version 0.12, the only valid positional argument will be `data`, and passing other arguments without an explicit keyword will result in an error or misinterpretation.\n",
            "  FutureWarning\n"
          ],
          "name": "stderr"
        },
        {
          "output_type": "display_data",
          "data": {
            "image/png": "[encoded data removed]",
            "text/plain": [
              "<Figure size 432x288 with 1 Axes>"
            ]
          },
          "metadata": {
            "tags": [],
            "needs_background": "light"
          }
        },
        {
          "output_type": "stream",
          "text": [
            "/usr/local/lib/python3.7/dist-packages/seaborn/_decorators.py:43: FutureWarning: Pass the following variables as keyword args: x, y. From version 0.12, the only valid positional argument will be `data`, and passing other arguments without an explicit keyword will result in an error or misinterpretation.\n",
            "  FutureWarning\n"
          ],
          "name": "stderr"
        },
        {
          "output_type": "display_data",
          "data": {
            "image/png": "[encoded data removed]",
            "text/plain": [
              "<Figure size 432x288 with 1 Axes>"
            ]
          },
          "metadata": {
            "tags": [],
            "needs_background": "light"
          }
        },
        {
          "output_type": "stream",
          "text": [
            "/usr/local/lib/python3.7/dist-packages/seaborn/_decorators.py:43: FutureWarning: Pass the following variables as keyword args: x, y. From version 0.12, the only valid positional argument will be `data`, and passing other arguments without an explicit keyword will result in an error or misinterpretation.\n",
            "  FutureWarning\n"
          ],
          "name": "stderr"
        },
        {
          "output_type": "display_data",
          "data": {
            "image/png": "[encoded data removed]",
            "text/plain": [
              "<Figure size 432x288 with 1 Axes>"
            ]
          },
          "metadata": {
            "tags": [],
            "needs_background": "light"
          }
        },
        {
          "output_type": "stream",
          "text": [
            "/usr/local/lib/python3.7/dist-packages/seaborn/_decorators.py:43: FutureWarning: Pass the following variables as keyword args: x, y. From version 0.12, the only valid positional argument will be `data`, and passing other arguments without an explicit keyword will result in an error or misinterpretation.\n",
            "  FutureWarning\n"
          ],
          "name": "stderr"
        },
        {
          "output_type": "display_data",
          "data": {
            "image/png": "[encoded data removed]",
            "text/plain": [
              "<Figure size 432x288 with 1 Axes>"
            ]
          },
          "metadata": {
            "tags": [],
            "needs_background": "light"
          }
        },
        {
          "output_type": "stream",
          "text": [
            "/usr/local/lib/python3.7/dist-packages/seaborn/_decorators.py:43: FutureWarning: Pass the following variables as keyword args: x, y. From version 0.12, the only valid positional argument will be `data`, and passing other arguments without an explicit keyword will result in an error or misinterpretation.\n",
            "  FutureWarning\n"
          ],
          "name": "stderr"
        },
        {
          "output_type": "display_data",
          "data": {
            "image/png": "[encoded data removed]",
            "text/plain": [
              "<Figure size 432x288 with 1 Axes>"
            ]
          },
          "metadata": {
            "tags": [],
            "needs_background": "light"
          }
        },
        {
          "output_type": "stream",
          "text": [
            "/usr/local/lib/python3.7/dist-packages/seaborn/_decorators.py:43: FutureWarning: Pass the following variables as keyword args: x, y. From version 0.12, the only valid positional argument will be `data`, and passing other arguments without an explicit keyword will result in an error or misinterpretation.\n",
            "  FutureWarning\n"
          ],
          "name": "stderr"
        },
        {
          "output_type": "display_data",
          "data": {
            "image/png": "[encoded data removed]",
            "text/plain": [
              "<Figure size 432x288 with 1 Axes>"
            ]
          },
          "metadata": {
            "tags": [],
            "needs_background": "light"
          }
        }
      ]
    },
    {
      "cell_type": "code",
      "metadata": {
        "colab": {
          "base_uri": "https://localhost:8080/",
          "height": 790
        },
        "id": "olympic-white",
        "outputId": "d31fd795-1e1a-49c2-84a9-9000e50cc324"
      },
      "source": [
        "plt.figure(figsize=(25,15))\n",
        "sns.heatmap(df1.corr(method='spearman'),annot=True)"
      ],
      "id": "olympic-white",
      "execution_count": null,
      "outputs": [
        {
          "output_type": "execute_result",
          "data": {
            "text/plain": [
              "<matplotlib.axes._subplots.AxesSubplot at 0x7fc11bc52950>"
            ]
          },
          "metadata": {
            "tags": []
          },
          "execution_count": 81
        },
        {
          "output_type": "display_data",
          "data": {
            "image/png": "[encoded data removed]",
            "text/plain": [
              "<Figure size 1800x1080 with 2 Axes>"
            ]
          },
          "metadata": {
            "tags": [],
            "needs_background": "light"
          }
        }
      ]
    },
    {
      "cell_type": "code",
      "metadata": {
        "id": "removed-company"
      },
      "source": [
        ""
      ],
      "id": "removed-company",
      "execution_count": null,
      "outputs": []
    },
    {
      "cell_type": "code",
      "metadata": {
        "colab": {
          "base_uri": "https://localhost:8080/"
        },
        "id": "59GLVdgRXVdu",
        "outputId": "0d5172bb-a5d5-476a-a807-3f7c017c922a"
      },
      "source": [
        "df1.columns"
      ],
      "id": "59GLVdgRXVdu",
      "execution_count": null,
      "outputs": [
        {
          "output_type": "execute_result",
          "data": {
            "text/plain": [
              "Index(['Completed_Jobs', 'TMAX', 'tech_count', 'Avg_Sales', 'Zip_income',\n",
              "       'Income', 'year', 'month', 'day', 'weekday', 'quarter', 'month_sin',\n",
              "       'month_cos', 'day_sin', 'day_cos', 'weekday_sin', 'weekday_cos',\n",
              "       'quarter_sin', 'quarter_cos', 'f1', 'f2', 'f3', 'f4'],\n",
              "      dtype='object')"
            ]
          },
          "metadata": {
            "tags": []
          },
          "execution_count": 82
        }
      ]
    },
    {
      "cell_type": "code",
      "metadata": {
        "id": "uOqm2TcBXXyR",
        "colab": {
          "base_uri": "https://localhost:8080/",
          "height": 407
        },
        "outputId": "34d1f616-e2c4-41f4-b648-fdd07b99f056"
      },
      "source": [
        "df2"
      ],
      "id": "uOqm2TcBXXyR",
      "execution_count": null,
      "outputs": [
        {
          "output_type": "execute_result",
          "data": {
            "text/html": [
              "<div>\n",
              "<style scoped>\n",
              "    .dataframe tbody tr th:only-of-type {\n",
              "        vertical-align: middle;\n",
              "    }\n",
              "\n",
              "    .dataframe tbody tr th {\n",
              "        vertical-align: top;\n",
              "    }\n",
              "\n",
              "    .dataframe thead th {\n",
              "        text-align: right;\n",
              "    }\n",
              "</style>\n",
              "<table border=\"1\" class=\"dataframe\">\n",
              "  <thead>\n",
              "    <tr style=\"text-align: right;\">\n",
              "      <th></th>\n",
              "      <th>Completed_Jobs</th>\n",
              "      <th>TMAX</th>\n",
              "      <th>tech_count</th>\n",
              "      <th>Avg_Sales</th>\n",
              "      <th>Zip_income</th>\n",
              "      <th>Income</th>\n",
              "    </tr>\n",
              "  </thead>\n",
              "  <tbody>\n",
              "    <tr>\n",
              "      <th>0</th>\n",
              "      <td>90</td>\n",
              "      <td>68</td>\n",
              "      <td>42</td>\n",
              "      <td>6583.000000</td>\n",
              "      <td>100885.000000</td>\n",
              "      <td>100885.00</td>\n",
              "    </tr>\n",
              "    <tr>\n",
              "      <th>1</th>\n",
              "      <td>85</td>\n",
              "      <td>69</td>\n",
              "      <td>46</td>\n",
              "      <td>6542.500000</td>\n",
              "      <td>112823.177778</td>\n",
              "      <td>25694.20</td>\n",
              "    </tr>\n",
              "    <tr>\n",
              "      <th>2</th>\n",
              "      <td>82</td>\n",
              "      <td>53</td>\n",
              "      <td>22</td>\n",
              "      <td>11057.800000</td>\n",
              "      <td>92705.000000</td>\n",
              "      <td>92705.00</td>\n",
              "    </tr>\n",
              "    <tr>\n",
              "      <th>3</th>\n",
              "      <td>16</td>\n",
              "      <td>58</td>\n",
              "      <td>12</td>\n",
              "      <td>5815.000000</td>\n",
              "      <td>41483.776667</td>\n",
              "      <td>14062.00</td>\n",
              "    </tr>\n",
              "    <tr>\n",
              "      <th>4</th>\n",
              "      <td>89</td>\n",
              "      <td>60</td>\n",
              "      <td>63</td>\n",
              "      <td>7918.583333</td>\n",
              "      <td>108119.473333</td>\n",
              "      <td>109814.00</td>\n",
              "    </tr>\n",
              "    <tr>\n",
              "      <th>...</th>\n",
              "      <td>...</td>\n",
              "      <td>...</td>\n",
              "      <td>...</td>\n",
              "      <td>...</td>\n",
              "      <td>...</td>\n",
              "      <td>...</td>\n",
              "    </tr>\n",
              "    <tr>\n",
              "      <th>721</th>\n",
              "      <td>222</td>\n",
              "      <td>81</td>\n",
              "      <td>126</td>\n",
              "      <td>3494.939333</td>\n",
              "      <td>210099.110000</td>\n",
              "      <td>210099.11</td>\n",
              "    </tr>\n",
              "    <tr>\n",
              "      <th>722</th>\n",
              "      <td>168</td>\n",
              "      <td>68</td>\n",
              "      <td>75</td>\n",
              "      <td>4079.521639</td>\n",
              "      <td>119775.950000</td>\n",
              "      <td>119775.95</td>\n",
              "    </tr>\n",
              "    <tr>\n",
              "      <th>723</th>\n",
              "      <td>202</td>\n",
              "      <td>69</td>\n",
              "      <td>124</td>\n",
              "      <td>3481.447857</td>\n",
              "      <td>230699.430000</td>\n",
              "      <td>230699.43</td>\n",
              "    </tr>\n",
              "    <tr>\n",
              "      <th>724</th>\n",
              "      <td>109</td>\n",
              "      <td>68</td>\n",
              "      <td>75</td>\n",
              "      <td>4314.042857</td>\n",
              "      <td>112431.950000</td>\n",
              "      <td>112431.95</td>\n",
              "    </tr>\n",
              "    <tr>\n",
              "      <th>725</th>\n",
              "      <td>177</td>\n",
              "      <td>63</td>\n",
              "      <td>114</td>\n",
              "      <td>3539.839216</td>\n",
              "      <td>199708.630000</td>\n",
              "      <td>199708.63</td>\n",
              "    </tr>\n",
              "  </tbody>\n",
              "</table>\n",
              "<p>726 rows × 6 columns</p>\n",
              "</div>"
            ],
            "text/plain": [
              "     Completed_Jobs  TMAX  tech_count     Avg_Sales     Zip_income     Income\n",
              "0                90    68          42   6583.000000  100885.000000  100885.00\n",
              "1                85    69          46   6542.500000  112823.177778   25694.20\n",
              "2                82    53          22  11057.800000   92705.000000   92705.00\n",
              "3                16    58          12   5815.000000   41483.776667   14062.00\n",
              "4                89    60          63   7918.583333  108119.473333  109814.00\n",
              "..              ...   ...         ...           ...            ...        ...\n",
              "721             222    81         126   3494.939333  210099.110000  210099.11\n",
              "722             168    68          75   4079.521639  119775.950000  119775.95\n",
              "723             202    69         124   3481.447857  230699.430000  230699.43\n",
              "724             109    68          75   4314.042857  112431.950000  112431.95\n",
              "725             177    63         114   3539.839216  199708.630000  199708.63\n",
              "\n",
              "[726 rows x 6 columns]"
            ]
          },
          "metadata": {
            "tags": []
          },
          "execution_count": 83
        }
      ]
    },
    {
      "cell_type": "code",
      "metadata": {
        "id": "lightweight-mozambique"
      },
      "source": [
        "train=df2[0:650]\n",
        "test=df2[650:]"
      ],
      "id": "lightweight-mozambique",
      "execution_count": null,
      "outputs": []
    },
    {
      "cell_type": "code",
      "metadata": {
        "id": "asian-sword"
      },
      "source": [
        "y=train['Income']\n",
        "X=train.drop(['Income'],axis=1)"
      ],
      "id": "asian-sword",
      "execution_count": null,
      "outputs": []
    },
    {
      "cell_type": "code",
      "metadata": {
        "colab": {
          "base_uri": "https://localhost:8080/",
          "height": 198
        },
        "id": "bound-tourist",
        "outputId": "14ae3f0e-20f1-4780-ffb2-a5c5c1650e31"
      },
      "source": [
        "X.head()"
      ],
      "id": "bound-tourist",
      "execution_count": null,
      "outputs": [
        {
          "output_type": "execute_result",
          "data": {
            "text/html": [
              "<div>\n",
              "<style scoped>\n",
              "    .dataframe tbody tr th:only-of-type {\n",
              "        vertical-align: middle;\n",
              "    }\n",
              "\n",
              "    .dataframe tbody tr th {\n",
              "        vertical-align: top;\n",
              "    }\n",
              "\n",
              "    .dataframe thead th {\n",
              "        text-align: right;\n",
              "    }\n",
              "</style>\n",
              "<table border=\"1\" class=\"dataframe\">\n",
              "  <thead>\n",
              "    <tr style=\"text-align: right;\">\n",
              "      <th></th>\n",
              "      <th>Completed_Jobs</th>\n",
              "      <th>TMAX</th>\n",
              "      <th>tech_count</th>\n",
              "      <th>Avg_Sales</th>\n",
              "      <th>Zip_income</th>\n",
              "    </tr>\n",
              "  </thead>\n",
              "  <tbody>\n",
              "    <tr>\n",
              "      <th>0</th>\n",
              "      <td>90</td>\n",
              "      <td>68</td>\n",
              "      <td>42</td>\n",
              "      <td>6583.000000</td>\n",
              "      <td>100885.000000</td>\n",
              "    </tr>\n",
              "    <tr>\n",
              "      <th>1</th>\n",
              "      <td>85</td>\n",
              "      <td>69</td>\n",
              "      <td>46</td>\n",
              "      <td>6542.500000</td>\n",
              "      <td>112823.177778</td>\n",
              "    </tr>\n",
              "    <tr>\n",
              "      <th>2</th>\n",
              "      <td>82</td>\n",
              "      <td>53</td>\n",
              "      <td>22</td>\n",
              "      <td>11057.800000</td>\n",
              "      <td>92705.000000</td>\n",
              "    </tr>\n",
              "    <tr>\n",
              "      <th>3</th>\n",
              "      <td>16</td>\n",
              "      <td>58</td>\n",
              "      <td>12</td>\n",
              "      <td>5815.000000</td>\n",
              "      <td>41483.776667</td>\n",
              "    </tr>\n",
              "    <tr>\n",
              "      <th>4</th>\n",
              "      <td>89</td>\n",
              "      <td>60</td>\n",
              "      <td>63</td>\n",
              "      <td>7918.583333</td>\n",
              "      <td>108119.473333</td>\n",
              "    </tr>\n",
              "  </tbody>\n",
              "</table>\n",
              "</div>"
            ],
            "text/plain": [
              "   Completed_Jobs  TMAX  tech_count     Avg_Sales     Zip_income\n",
              "0              90    68          42   6583.000000  100885.000000\n",
              "1              85    69          46   6542.500000  112823.177778\n",
              "2              82    53          22  11057.800000   92705.000000\n",
              "3              16    58          12   5815.000000   41483.776667\n",
              "4              89    60          63   7918.583333  108119.473333"
            ]
          },
          "metadata": {
            "tags": []
          },
          "execution_count": 87
        }
      ]
    },
    {
      "cell_type": "code",
      "metadata": {
        "id": "resident-excellence"
      },
      "source": [
        "from sklearn.preprocessing import StandardScaler,MinMaxScaler\n",
        "\n",
        "\n"
      ],
      "id": "resident-excellence",
      "execution_count": null,
      "outputs": []
    },
    {
      "cell_type": "code",
      "metadata": {
        "id": "intensive-hindu"
      },
      "source": [
        "scaler=MinMaxScaler()"
      ],
      "id": "intensive-hindu",
      "execution_count": null,
      "outputs": []
    },
    {
      "cell_type": "code",
      "metadata": {
        "id": "continued-headset"
      },
      "source": [
        ""
      ],
      "id": "continued-headset",
      "execution_count": null,
      "outputs": []
    },
    {
      "cell_type": "code",
      "metadata": {
        "id": "meaning-casting"
      },
      "source": [
        ""
      ],
      "id": "meaning-casting",
      "execution_count": null,
      "outputs": []
    },
    {
      "cell_type": "code",
      "metadata": {
        "id": "decimal-tattoo"
      },
      "source": [
        ""
      ],
      "id": "decimal-tattoo",
      "execution_count": null,
      "outputs": []
    },
    {
      "cell_type": "code",
      "metadata": {
        "id": "extensive-glucose"
      },
      "source": [
        "X=scaler.fit_transform(X)"
      ],
      "id": "extensive-glucose",
      "execution_count": null,
      "outputs": []
    },
    {
      "cell_type": "code",
      "metadata": {
        "colab": {
          "base_uri": "https://localhost:8080/"
        },
        "id": "engaged-allen",
        "outputId": "f432f181-2710-4193-948d-985ef7a4a1f7"
      },
      "source": [
        "X"
      ],
      "id": "engaged-allen",
      "execution_count": null,
      "outputs": [
        {
          "output_type": "execute_result",
          "data": {
            "text/plain": [
              "array([[0.42180095, 0.26865672, 0.33606557, 0.27164821, 0.36038977],\n",
              "       [0.39810427, 0.28358209, 0.36885246, 0.26995433, 0.40307355],\n",
              "       [0.38388626, 0.04477612, 0.17213115, 0.45880316, 0.33114298],\n",
              "       ...,\n",
              "       [0.59241706, 0.32835821, 0.77868852, 0.23992344, 0.433485  ],\n",
              "       [0.49763033, 0.43283582, 0.53278689, 0.10275816, 0.54079485],\n",
              "       [1.        , 0.47761194, 1.        , 0.197509  , 0.54079485]])"
            ]
          },
          "metadata": {
            "tags": []
          },
          "execution_count": 91
        }
      ]
    },
    {
      "cell_type": "code",
      "metadata": {
        "id": "virgin-array"
      },
      "source": [
        "\n",
        "y=y.values\n",
        "y=y.reshape(-1,1)"
      ],
      "id": "virgin-array",
      "execution_count": null,
      "outputs": []
    },
    {
      "cell_type": "code",
      "metadata": {
        "id": "HDAFJrPweHaQ"
      },
      "source": [
        "\n",
        "y=scaler.fit_transform(y)"
      ],
      "id": "HDAFJrPweHaQ",
      "execution_count": null,
      "outputs": []
    },
    {
      "cell_type": "code",
      "metadata": {
        "id": "q3axj7uGeKfV"
      },
      "source": [
        "from sklearn.model_selection import train_test_split\n",
        "X_train, X_test, y_train, y_test = train_test_split(X, y, test_size=0.2, random_state=42)"
      ],
      "id": "q3axj7uGeKfV",
      "execution_count": null,
      "outputs": []
    },
    {
      "cell_type": "code",
      "metadata": {
        "id": "Hc5qRA5zeuef"
      },
      "source": [
        "from keras.layers import Dense, Activation,Dropout,BatchNormalization\n",
        "from keras.models import Sequential\n"
      ],
      "id": "Hc5qRA5zeuef",
      "execution_count": null,
      "outputs": []
    },
    {
      "cell_type": "code",
      "metadata": {
        "id": "hp1885WHfFOK"
      },
      "source": [
        "model = Sequential()\n",
        "model.add(Dense(32, activation = 'relu', input_dim =5))\n",
        "model.add(Dense(1,activation='linear'))\n",
        "model.compile(optimizer='adam', loss='MeanSquaredError', metrics = ['MeanSquaredError'])\n"
      ],
      "id": "hp1885WHfFOK",
      "execution_count": null,
      "outputs": []
    },
    {
      "cell_type": "code",
      "metadata": {
        "colab": {
          "base_uri": "https://localhost:8080/"
        },
        "id": "1XRBkeKhfL6g",
        "outputId": "54ed7951-be6e-44aa-bd4a-af87fc02805f"
      },
      "source": [
        "history=model.fit(X_train, y_train, batch_size = 32, epochs = 100,validation_data=(X_test,y_test))\n"
      ],
      "id": "1XRBkeKhfL6g",
      "execution_count": null,
      "outputs": [
        {
          "output_type": "stream",
          "text": [
            "Epoch 1/100\n",
            "17/17 [==============================] - 1s 15ms/step - loss: 0.0182 - mean_squared_error: 0.0182 - val_loss: 0.0143 - val_mean_squared_error: 0.0143\n",
            "Epoch 2/100\n",
            "17/17 [==============================] - 0s 3ms/step - loss: 0.0147 - mean_squared_error: 0.0147 - val_loss: 0.0110 - val_mean_squared_error: 0.0110\n",
            "Epoch 3/100\n",
            "17/17 [==============================] - 0s 3ms/step - loss: 0.0139 - mean_squared_error: 0.0139 - val_loss: 0.0094 - val_mean_squared_error: 0.0094\n",
            "Epoch 4/100\n",
            "17/17 [==============================] - 0s 3ms/step - loss: 0.0111 - mean_squared_error: 0.0111 - val_loss: 0.0087 - val_mean_squared_error: 0.0087\n",
            "Epoch 5/100\n",
            "17/17 [==============================] - 0s 3ms/step - loss: 0.0115 - mean_squared_error: 0.0115 - val_loss: 0.0081 - val_mean_squared_error: 0.0081\n",
            "Epoch 6/100\n",
            "17/17 [==============================] - 0s 3ms/step - loss: 0.0087 - mean_squared_error: 0.0087 - val_loss: 0.0073 - val_mean_squared_error: 0.0073\n",
            "Epoch 7/100\n",
            "17/17 [==============================] - 0s 2ms/step - loss: 0.0079 - mean_squared_error: 0.0079 - val_loss: 0.0069 - val_mean_squared_error: 0.0069\n",
            "Epoch 8/100\n",
            "17/17 [==============================] - 0s 2ms/step - loss: 0.0098 - mean_squared_error: 0.0098 - val_loss: 0.0070 - val_mean_squared_error: 0.0070\n",
            "Epoch 9/100\n",
            "17/17 [==============================] - 0s 3ms/step - loss: 0.0079 - mean_squared_error: 0.0079 - val_loss: 0.0068 - val_mean_squared_error: 0.0068\n",
            "Epoch 10/100\n",
            "17/17 [==============================] - 0s 2ms/step - loss: 0.0072 - mean_squared_error: 0.0072 - val_loss: 0.0067 - val_mean_squared_error: 0.0067\n",
            "Epoch 11/100\n",
            "17/17 [==============================] - 0s 3ms/step - loss: 0.0077 - mean_squared_error: 0.0077 - val_loss: 0.0069 - val_mean_squared_error: 0.0069\n",
            "Epoch 12/100\n",
            "17/17 [==============================] - 0s 2ms/step - loss: 0.0090 - mean_squared_error: 0.0090 - val_loss: 0.0066 - val_mean_squared_error: 0.0066\n",
            "Epoch 13/100\n",
            "17/17 [==============================] - 0s 3ms/step - loss: 0.0074 - mean_squared_error: 0.0074 - val_loss: 0.0067 - val_mean_squared_error: 0.0067\n",
            "Epoch 14/100\n",
            "17/17 [==============================] - 0s 3ms/step - loss: 0.0073 - mean_squared_error: 0.0073 - val_loss: 0.0066 - val_mean_squared_error: 0.0066\n",
            "Epoch 15/100\n",
            "17/17 [==============================] - 0s 4ms/step - loss: 0.0079 - mean_squared_error: 0.0079 - val_loss: 0.0066 - val_mean_squared_error: 0.0066\n",
            "Epoch 16/100\n",
            "17/17 [==============================] - 0s 2ms/step - loss: 0.0077 - mean_squared_error: 0.0077 - val_loss: 0.0065 - val_mean_squared_error: 0.0065\n",
            "Epoch 17/100\n",
            "17/17 [==============================] - 0s 3ms/step - loss: 0.0077 - mean_squared_error: 0.0077 - val_loss: 0.0066 - val_mean_squared_error: 0.0066\n",
            "Epoch 18/100\n",
            "17/17 [==============================] - 0s 2ms/step - loss: 0.0089 - mean_squared_error: 0.0089 - val_loss: 0.0065 - val_mean_squared_error: 0.0065\n",
            "Epoch 19/100\n",
            "17/17 [==============================] - 0s 2ms/step - loss: 0.0082 - mean_squared_error: 0.0082 - val_loss: 0.0065 - val_mean_squared_error: 0.0065\n",
            "Epoch 20/100\n",
            "17/17 [==============================] - 0s 3ms/step - loss: 0.0069 - mean_squared_error: 0.0069 - val_loss: 0.0064 - val_mean_squared_error: 0.0064\n",
            "Epoch 21/100\n",
            "17/17 [==============================] - 0s 3ms/step - loss: 0.0081 - mean_squared_error: 0.0081 - val_loss: 0.0065 - val_mean_squared_error: 0.0065\n",
            "Epoch 22/100\n",
            "17/17 [==============================] - 0s 2ms/step - loss: 0.0062 - mean_squared_error: 0.0062 - val_loss: 0.0065 - val_mean_squared_error: 0.0065\n",
            "Epoch 23/100\n",
            "17/17 [==============================] - 0s 2ms/step - loss: 0.0076 - mean_squared_error: 0.0076 - val_loss: 0.0064 - val_mean_squared_error: 0.0064\n",
            "Epoch 24/100\n",
            "17/17 [==============================] - 0s 3ms/step - loss: 0.0061 - mean_squared_error: 0.0061 - val_loss: 0.0064 - val_mean_squared_error: 0.0064\n",
            "Epoch 25/100\n",
            "17/17 [==============================] - 0s 3ms/step - loss: 0.0077 - mean_squared_error: 0.0077 - val_loss: 0.0067 - val_mean_squared_error: 0.0067\n",
            "Epoch 26/100\n",
            "17/17 [==============================] - 0s 3ms/step - loss: 0.0063 - mean_squared_error: 0.0063 - val_loss: 0.0063 - val_mean_squared_error: 0.0063\n",
            "Epoch 27/100\n",
            "17/17 [==============================] - 0s 4ms/step - loss: 0.0076 - mean_squared_error: 0.0076 - val_loss: 0.0065 - val_mean_squared_error: 0.0065\n",
            "Epoch 28/100\n",
            "17/17 [==============================] - 0s 3ms/step - loss: 0.0065 - mean_squared_error: 0.0065 - val_loss: 0.0064 - val_mean_squared_error: 0.0064\n",
            "Epoch 29/100\n",
            "17/17 [==============================] - 0s 2ms/step - loss: 0.0089 - mean_squared_error: 0.0089 - val_loss: 0.0067 - val_mean_squared_error: 0.0067\n",
            "Epoch 30/100\n",
            "17/17 [==============================] - 0s 3ms/step - loss: 0.0064 - mean_squared_error: 0.0064 - val_loss: 0.0065 - val_mean_squared_error: 0.0065\n",
            "Epoch 31/100\n",
            "17/17 [==============================] - 0s 2ms/step - loss: 0.0066 - mean_squared_error: 0.0066 - val_loss: 0.0063 - val_mean_squared_error: 0.0063\n",
            "Epoch 32/100\n",
            "17/17 [==============================] - 0s 2ms/step - loss: 0.0062 - mean_squared_error: 0.0062 - val_loss: 0.0064 - val_mean_squared_error: 0.0064\n",
            "Epoch 33/100\n",
            "17/17 [==============================] - 0s 3ms/step - loss: 0.0061 - mean_squared_error: 0.0061 - val_loss: 0.0064 - val_mean_squared_error: 0.0064\n",
            "Epoch 34/100\n",
            "17/17 [==============================] - 0s 3ms/step - loss: 0.0078 - mean_squared_error: 0.0078 - val_loss: 0.0063 - val_mean_squared_error: 0.0063\n",
            "Epoch 35/100\n",
            "17/17 [==============================] - 0s 3ms/step - loss: 0.0067 - mean_squared_error: 0.0067 - val_loss: 0.0064 - val_mean_squared_error: 0.0064\n",
            "Epoch 36/100\n",
            "17/17 [==============================] - 0s 3ms/step - loss: 0.0074 - mean_squared_error: 0.0074 - val_loss: 0.0063 - val_mean_squared_error: 0.0063\n",
            "Epoch 37/100\n",
            "17/17 [==============================] - 0s 3ms/step - loss: 0.0072 - mean_squared_error: 0.0072 - val_loss: 0.0063 - val_mean_squared_error: 0.0063\n",
            "Epoch 38/100\n",
            "17/17 [==============================] - 0s 3ms/step - loss: 0.0092 - mean_squared_error: 0.0092 - val_loss: 0.0063 - val_mean_squared_error: 0.0063\n",
            "Epoch 39/100\n",
            "17/17 [==============================] - 0s 2ms/step - loss: 0.0061 - mean_squared_error: 0.0061 - val_loss: 0.0063 - val_mean_squared_error: 0.0063\n",
            "Epoch 40/100\n",
            "17/17 [==============================] - 0s 3ms/step - loss: 0.0081 - mean_squared_error: 0.0081 - val_loss: 0.0065 - val_mean_squared_error: 0.0065\n",
            "Epoch 41/100\n",
            "17/17 [==============================] - 0s 3ms/step - loss: 0.0069 - mean_squared_error: 0.0069 - val_loss: 0.0063 - val_mean_squared_error: 0.0063\n",
            "Epoch 42/100\n",
            "17/17 [==============================] - 0s 3ms/step - loss: 0.0065 - mean_squared_error: 0.0065 - val_loss: 0.0063 - val_mean_squared_error: 0.0063\n",
            "Epoch 43/100\n",
            "17/17 [==============================] - 0s 3ms/step - loss: 0.0078 - mean_squared_error: 0.0078 - val_loss: 0.0067 - val_mean_squared_error: 0.0067\n",
            "Epoch 44/100\n",
            "17/17 [==============================] - 0s 4ms/step - loss: 0.0085 - mean_squared_error: 0.0085 - val_loss: 0.0063 - val_mean_squared_error: 0.0063\n",
            "Epoch 45/100\n",
            "17/17 [==============================] - 0s 3ms/step - loss: 0.0074 - mean_squared_error: 0.0074 - val_loss: 0.0063 - val_mean_squared_error: 0.0063\n",
            "Epoch 46/100\n",
            "17/17 [==============================] - 0s 3ms/step - loss: 0.0068 - mean_squared_error: 0.0068 - val_loss: 0.0072 - val_mean_squared_error: 0.0072\n",
            "Epoch 47/100\n",
            "17/17 [==============================] - 0s 3ms/step - loss: 0.0073 - mean_squared_error: 0.0073 - val_loss: 0.0065 - val_mean_squared_error: 0.0065\n",
            "Epoch 48/100\n",
            "17/17 [==============================] - 0s 3ms/step - loss: 0.0070 - mean_squared_error: 0.0070 - val_loss: 0.0064 - val_mean_squared_error: 0.0064\n",
            "Epoch 49/100\n",
            "17/17 [==============================] - 0s 3ms/step - loss: 0.0092 - mean_squared_error: 0.0092 - val_loss: 0.0067 - val_mean_squared_error: 0.0067\n",
            "Epoch 50/100\n",
            "17/17 [==============================] - 0s 2ms/step - loss: 0.0071 - mean_squared_error: 0.0071 - val_loss: 0.0062 - val_mean_squared_error: 0.0062\n",
            "Epoch 51/100\n",
            "17/17 [==============================] - 0s 2ms/step - loss: 0.0083 - mean_squared_error: 0.0083 - val_loss: 0.0063 - val_mean_squared_error: 0.0063\n",
            "Epoch 52/100\n",
            "17/17 [==============================] - 0s 2ms/step - loss: 0.0069 - mean_squared_error: 0.0069 - val_loss: 0.0065 - val_mean_squared_error: 0.0065\n",
            "Epoch 53/100\n",
            "17/17 [==============================] - 0s 3ms/step - loss: 0.0061 - mean_squared_error: 0.0061 - val_loss: 0.0062 - val_mean_squared_error: 0.0062\n",
            "Epoch 54/100\n",
            "17/17 [==============================] - 0s 3ms/step - loss: 0.0083 - mean_squared_error: 0.0083 - val_loss: 0.0064 - val_mean_squared_error: 0.0064\n",
            "Epoch 55/100\n",
            "17/17 [==============================] - 0s 4ms/step - loss: 0.0069 - mean_squared_error: 0.0069 - val_loss: 0.0063 - val_mean_squared_error: 0.0063\n",
            "Epoch 56/100\n",
            "17/17 [==============================] - 0s 2ms/step - loss: 0.0087 - mean_squared_error: 0.0087 - val_loss: 0.0065 - val_mean_squared_error: 0.0065\n",
            "Epoch 57/100\n",
            "17/17 [==============================] - 0s 2ms/step - loss: 0.0066 - mean_squared_error: 0.0066 - val_loss: 0.0062 - val_mean_squared_error: 0.0062\n",
            "Epoch 58/100\n",
            "17/17 [==============================] - 0s 2ms/step - loss: 0.0077 - mean_squared_error: 0.0077 - val_loss: 0.0062 - val_mean_squared_error: 0.0062\n",
            "Epoch 59/100\n",
            "17/17 [==============================] - 0s 2ms/step - loss: 0.0060 - mean_squared_error: 0.0060 - val_loss: 0.0062 - val_mean_squared_error: 0.0062\n",
            "Epoch 60/100\n",
            "17/17 [==============================] - 0s 3ms/step - loss: 0.0074 - mean_squared_error: 0.0074 - val_loss: 0.0062 - val_mean_squared_error: 0.0062\n",
            "Epoch 61/100\n",
            "17/17 [==============================] - 0s 3ms/step - loss: 0.0063 - mean_squared_error: 0.0063 - val_loss: 0.0062 - val_mean_squared_error: 0.0062\n",
            "Epoch 62/100\n",
            "17/17 [==============================] - 0s 3ms/step - loss: 0.0057 - mean_squared_error: 0.0057 - val_loss: 0.0062 - val_mean_squared_error: 0.0062\n",
            "Epoch 63/100\n",
            "17/17 [==============================] - 0s 3ms/step - loss: 0.0074 - mean_squared_error: 0.0074 - val_loss: 0.0063 - val_mean_squared_error: 0.0063\n",
            "Epoch 64/100\n",
            "17/17 [==============================] - 0s 3ms/step - loss: 0.0066 - mean_squared_error: 0.0066 - val_loss: 0.0063 - val_mean_squared_error: 0.0063\n",
            "Epoch 65/100\n",
            "17/17 [==============================] - 0s 3ms/step - loss: 0.0075 - mean_squared_error: 0.0075 - val_loss: 0.0062 - val_mean_squared_error: 0.0062\n",
            "Epoch 66/100\n",
            "17/17 [==============================] - 0s 3ms/step - loss: 0.0067 - mean_squared_error: 0.0067 - val_loss: 0.0065 - val_mean_squared_error: 0.0065\n",
            "Epoch 67/100\n",
            "17/17 [==============================] - 0s 4ms/step - loss: 0.0095 - mean_squared_error: 0.0095 - val_loss: 0.0062 - val_mean_squared_error: 0.0062\n",
            "Epoch 68/100\n",
            "17/17 [==============================] - 0s 3ms/step - loss: 0.0057 - mean_squared_error: 0.0057 - val_loss: 0.0062 - val_mean_squared_error: 0.0062\n",
            "Epoch 69/100\n",
            "17/17 [==============================] - 0s 2ms/step - loss: 0.0078 - mean_squared_error: 0.0078 - val_loss: 0.0065 - val_mean_squared_error: 0.0065\n",
            "Epoch 70/100\n",
            "17/17 [==============================] - 0s 3ms/step - loss: 0.0058 - mean_squared_error: 0.0058 - val_loss: 0.0062 - val_mean_squared_error: 0.0062\n",
            "Epoch 71/100\n",
            "17/17 [==============================] - 0s 3ms/step - loss: 0.0067 - mean_squared_error: 0.0067 - val_loss: 0.0062 - val_mean_squared_error: 0.0062\n",
            "Epoch 72/100\n",
            "17/17 [==============================] - 0s 2ms/step - loss: 0.0069 - mean_squared_error: 0.0069 - val_loss: 0.0065 - val_mean_squared_error: 0.0065\n",
            "Epoch 73/100\n",
            "17/17 [==============================] - 0s 4ms/step - loss: 0.0091 - mean_squared_error: 0.0091 - val_loss: 0.0062 - val_mean_squared_error: 0.0062\n",
            "Epoch 74/100\n",
            "17/17 [==============================] - 0s 3ms/step - loss: 0.0076 - mean_squared_error: 0.0076 - val_loss: 0.0062 - val_mean_squared_error: 0.0062\n",
            "Epoch 75/100\n",
            "17/17 [==============================] - 0s 3ms/step - loss: 0.0065 - mean_squared_error: 0.0065 - val_loss: 0.0062 - val_mean_squared_error: 0.0062\n",
            "Epoch 76/100\n",
            "17/17 [==============================] - 0s 3ms/step - loss: 0.0072 - mean_squared_error: 0.0072 - val_loss: 0.0063 - val_mean_squared_error: 0.0063\n",
            "Epoch 77/100\n",
            "17/17 [==============================] - 0s 3ms/step - loss: 0.0065 - mean_squared_error: 0.0065 - val_loss: 0.0062 - val_mean_squared_error: 0.0062\n",
            "Epoch 78/100\n",
            "17/17 [==============================] - 0s 3ms/step - loss: 0.0070 - mean_squared_error: 0.0070 - val_loss: 0.0064 - val_mean_squared_error: 0.0064\n",
            "Epoch 79/100\n",
            "17/17 [==============================] - 0s 3ms/step - loss: 0.0070 - mean_squared_error: 0.0070 - val_loss: 0.0062 - val_mean_squared_error: 0.0062\n",
            "Epoch 80/100\n",
            "17/17 [==============================] - 0s 2ms/step - loss: 0.0067 - mean_squared_error: 0.0067 - val_loss: 0.0062 - val_mean_squared_error: 0.0062\n",
            "Epoch 81/100\n",
            "17/17 [==============================] - 0s 3ms/step - loss: 0.0061 - mean_squared_error: 0.0061 - val_loss: 0.0063 - val_mean_squared_error: 0.0063\n",
            "Epoch 82/100\n",
            "17/17 [==============================] - 0s 3ms/step - loss: 0.0058 - mean_squared_error: 0.0058 - val_loss: 0.0061 - val_mean_squared_error: 0.0061\n",
            "Epoch 83/100\n",
            "17/17 [==============================] - 0s 3ms/step - loss: 0.0065 - mean_squared_error: 0.0065 - val_loss: 0.0062 - val_mean_squared_error: 0.0062\n",
            "Epoch 84/100\n",
            "17/17 [==============================] - 0s 3ms/step - loss: 0.0076 - mean_squared_error: 0.0076 - val_loss: 0.0063 - val_mean_squared_error: 0.0063\n",
            "Epoch 85/100\n",
            "17/17 [==============================] - 0s 3ms/step - loss: 0.0079 - mean_squared_error: 0.0079 - val_loss: 0.0063 - val_mean_squared_error: 0.0063\n",
            "Epoch 86/100\n",
            "17/17 [==============================] - 0s 3ms/step - loss: 0.0063 - mean_squared_error: 0.0063 - val_loss: 0.0062 - val_mean_squared_error: 0.0062\n",
            "Epoch 87/100\n",
            "17/17 [==============================] - 0s 3ms/step - loss: 0.0060 - mean_squared_error: 0.0060 - val_loss: 0.0062 - val_mean_squared_error: 0.0062\n",
            "Epoch 88/100\n",
            "17/17 [==============================] - 0s 3ms/step - loss: 0.0078 - mean_squared_error: 0.0078 - val_loss: 0.0063 - val_mean_squared_error: 0.0063\n",
            "Epoch 89/100\n",
            "17/17 [==============================] - 0s 3ms/step - loss: 0.0079 - mean_squared_error: 0.0079 - val_loss: 0.0063 - val_mean_squared_error: 0.0063\n",
            "Epoch 90/100\n",
            "17/17 [==============================] - 0s 3ms/step - loss: 0.0074 - mean_squared_error: 0.0074 - val_loss: 0.0062 - val_mean_squared_error: 0.0062\n",
            "Epoch 91/100\n",
            "17/17 [==============================] - 0s 3ms/step - loss: 0.0085 - mean_squared_error: 0.0085 - val_loss: 0.0061 - val_mean_squared_error: 0.0061\n",
            "Epoch 92/100\n",
            "17/17 [==============================] - 0s 2ms/step - loss: 0.0073 - mean_squared_error: 0.0073 - val_loss: 0.0062 - val_mean_squared_error: 0.0062\n",
            "Epoch 93/100\n",
            "17/17 [==============================] - 0s 3ms/step - loss: 0.0063 - mean_squared_error: 0.0063 - val_loss: 0.0061 - val_mean_squared_error: 0.0061\n",
            "Epoch 94/100\n",
            "17/17 [==============================] - 0s 3ms/step - loss: 0.0066 - mean_squared_error: 0.0066 - val_loss: 0.0061 - val_mean_squared_error: 0.0061\n",
            "Epoch 95/100\n",
            "17/17 [==============================] - 0s 3ms/step - loss: 0.0093 - mean_squared_error: 0.0093 - val_loss: 0.0062 - val_mean_squared_error: 0.0062\n",
            "Epoch 96/100\n",
            "17/17 [==============================] - 0s 3ms/step - loss: 0.0061 - mean_squared_error: 0.0061 - val_loss: 0.0062 - val_mean_squared_error: 0.0062\n",
            "Epoch 97/100\n",
            "17/17 [==============================] - 0s 4ms/step - loss: 0.0063 - mean_squared_error: 0.0063 - val_loss: 0.0061 - val_mean_squared_error: 0.0061\n",
            "Epoch 98/100\n",
            "17/17 [==============================] - 0s 3ms/step - loss: 0.0075 - mean_squared_error: 0.0075 - val_loss: 0.0062 - val_mean_squared_error: 0.0062\n",
            "Epoch 99/100\n",
            "17/17 [==============================] - 0s 3ms/step - loss: 0.0074 - mean_squared_error: 0.0074 - val_loss: 0.0061 - val_mean_squared_error: 0.0061\n",
            "Epoch 100/100\n",
            "17/17 [==============================] - 0s 3ms/step - loss: 0.0059 - mean_squared_error: 0.0059 - val_loss: 0.0062 - val_mean_squared_error: 0.0062\n"
          ],
          "name": "stdout"
        }
      ]
    },
    {
      "cell_type": "code",
      "metadata": {
        "colab": {
          "base_uri": "https://localhost:8080/",
          "height": 295
        },
        "id": "XXfInAT_nMlk",
        "outputId": "69ab407a-4a79-4c35-8663-eac7a5b7c4ec"
      },
      "source": [
        "# Accuracy plot \n",
        "plt.plot(history.history['loss'])\n",
        "plt.plot(history.history['val_loss'])\n",
        "plt.title('Model_accuracy')\n",
        "plt.ylabel('accuracy')\n",
        "plt.xlabel('epoch')\n",
        "plt.legend(['train','test'],loc='upper left')\n",
        "plt.show()"
      ],
      "id": "XXfInAT_nMlk",
      "execution_count": null,
      "outputs": [
        {
          "output_type": "display_data",
          "data": {
            "image/png": "[encoded data removed]",
            "text/plain": [
              "<Figure size 432x288 with 1 Axes>"
            ]
          },
          "metadata": {
            "tags": [],
            "needs_background": "light"
          }
        }
      ]
    },
    {
      "cell_type": "code",
      "metadata": {
        "colab": {
          "base_uri": "https://localhost:8080/",
          "height": 295
        },
        "id": "QYm7yjm1m06n",
        "outputId": "f55c6fe0-60ab-4d42-dfb8-30d940ee6955"
      },
      "source": [
        "# Accuracy plot \n",
        "plt.plot(history.history['mean_squared_error'])\n",
        "plt.plot(history.history['val_mean_squared_error'])\n",
        "plt.title('Model_Performance')\n",
        "plt.ylabel('score')\n",
        "plt.xlabel('epoch')\n",
        "plt.legend(['train','test'],loc='upper left')\n",
        "plt.show()"
      ],
      "id": "QYm7yjm1m06n",
      "execution_count": null,
      "outputs": [
        {
          "output_type": "display_data",
          "data": {
            "image/png": "[encoded data removed]",
            "text/plain": [
              "<Figure size 432x288 with 1 Axes>"
            ]
          },
          "metadata": {
            "tags": [],
            "needs_background": "light"
          }
        }
      ]
    },
    {
      "cell_type": "code",
      "metadata": {
        "id": "BFpPcEpMy-V9"
      },
      "source": [
        "\n",
        "y_=test['Income']\n",
        "X_=test.drop(['Income'],axis=1)"
      ],
      "id": "BFpPcEpMy-V9",
      "execution_count": null,
      "outputs": []
    },
    {
      "cell_type": "code",
      "metadata": {
        "colab": {
          "base_uri": "https://localhost:8080/"
        },
        "id": "9DQUfODS5sQz",
        "outputId": "915d1531-a089-425a-a0dd-a5df13a8a22c"
      },
      "source": [
        "X_.isnull().sum()"
      ],
      "id": "9DQUfODS5sQz",
      "execution_count": null,
      "outputs": [
        {
          "output_type": "execute_result",
          "data": {
            "text/plain": [
              "Completed_Jobs    0\n",
              "TMAX              0\n",
              "tech_count        0\n",
              "Avg_Sales         0\n",
              "Zip_income        0\n",
              "dtype: int64"
            ]
          },
          "metadata": {
            "tags": []
          },
          "execution_count": 103
        }
      ]
    },
    {
      "cell_type": "code",
      "metadata": {
        "id": "JEUzojAXzQhh"
      },
      "source": [
        "\n",
        "\n",
        "X_=scaler.fit_transform(X_)\n"
      ],
      "id": "JEUzojAXzQhh",
      "execution_count": null,
      "outputs": []
    },
    {
      "cell_type": "code",
      "metadata": {
        "id": "NXR-k9p8fS0h"
      },
      "source": [
        "y_pred_1 = model.predict(X_test)"
      ],
      "id": "NXR-k9p8fS0h",
      "execution_count": null,
      "outputs": []
    },
    {
      "cell_type": "code",
      "metadata": {
        "colab": {
          "base_uri": "https://localhost:8080/",
          "height": 281
        },
        "id": "AZZ5W6rqzZnz",
        "outputId": "82e6840b-6578-4dd1-fe76-697776430945"
      },
      "source": [
        "plt.plot(y_test, color = 'red', label = 'Real data')\n",
        "plt.plot(y_pred_1, color = 'blue', label = 'Predicted data')\n",
        "plt.title('Prediction')\n",
        "plt.legend()\n",
        "plt.show()"
      ],
      "id": "AZZ5W6rqzZnz",
      "execution_count": null,
      "outputs": [
        {
          "output_type": "display_data",
          "data": {
            "image/png": "[encoded data removed]",
            "text/plain": [
              "<Figure size 432x288 with 1 Axes>"
            ]
          },
          "metadata": {
            "tags": [],
            "needs_background": "light"
          }
        }
      ]
    },
    {
      "cell_type": "code",
      "metadata": {
        "id": "ozDRewAUziGE"
      },
      "source": [
        "y_pred_2=model.predict(X_)"
      ],
      "id": "ozDRewAUziGE",
      "execution_count": null,
      "outputs": []
    },
    {
      "cell_type": "code",
      "metadata": {
        "id": "sx_frcXJ0Yz4"
      },
      "source": [
        "y_=y_.values\n",
        "y_=y_.reshape(-1,1)"
      ],
      "id": "sx_frcXJ0Yz4",
      "execution_count": null,
      "outputs": []
    },
    {
      "cell_type": "code",
      "metadata": {
        "id": "CVzOhuYH0PqP"
      },
      "source": [
        "y_=scaler.fit_transform(y_)"
      ],
      "id": "CVzOhuYH0PqP",
      "execution_count": null,
      "outputs": []
    },
    {
      "cell_type": "code",
      "metadata": {
        "colab": {
          "base_uri": "https://localhost:8080/",
          "height": 281
        },
        "id": "4MBrERtS0VwR",
        "outputId": "8384ed72-7cb8-4917-8052-c99b8cd31c77"
      },
      "source": [
        "plt.plot(y_, color = 'red', label = 'Real data')\n",
        "plt.plot(y_pred_2, color = 'blue', label = 'Predicted data')\n",
        "plt.title('Prediction')\n",
        "plt.legend()\n",
        "plt.show()"
      ],
      "id": "4MBrERtS0VwR",
      "execution_count": null,
      "outputs": [
        {
          "output_type": "display_data",
          "data": {
            "image/png": "[encoded data removed]",
            "text/plain": [
              "<Figure size 432x288 with 1 Axes>"
            ]
          },
          "metadata": {
            "tags": [],
            "needs_background": "light"
          }
        }
      ]
    },
    {
      "cell_type": "code",
      "metadata": {
        "id": "qo_FkxTp0uvX"
      },
      "source": [
        "y_pred_2=scaler.inverse_transform(y_pred_2)"
      ],
      "id": "qo_FkxTp0uvX",
      "execution_count": null,
      "outputs": []
    },
    {
      "cell_type": "code",
      "metadata": {
        "colab": {
          "base_uri": "https://localhost:8080/"
        },
        "id": "cNRvlJgN0_0i",
        "outputId": "e140f828-ba35-4e8d-e72a-8d7c820bd78b"
      },
      "source": [
        "y_pred_2"
      ],
      "id": "cNRvlJgN0_0i",
      "execution_count": null,
      "outputs": [
        {
          "output_type": "execute_result",
          "data": {
            "text/plain": [
              "array([[ 30149.275 ],\n",
              "       [ 46930.234 ],\n",
              "       [ 68568.93  ],\n",
              "       [ 37487.195 ],\n",
              "       [ 71533.32  ],\n",
              "       [ 87239.28  ],\n",
              "       [  6784.1465],\n",
              "       [ 80707.18  ],\n",
              "       [100805.99  ],\n",
              "       [ 47739.87  ],\n",
              "       [110881.34  ],\n",
              "       [ 87911.42  ],\n",
              "       [ 96887.05  ],\n",
              "       [135065.84  ],\n",
              "       [ 49586.434 ],\n",
              "       [ 82425.73  ],\n",
              "       [ 50545.133 ],\n",
              "       [107116.625 ],\n",
              "       [104379.91  ],\n",
              "       [ 48844.02  ],\n",
              "       [ 62355.953 ],\n",
              "       [ 24059.84  ],\n",
              "       [100236.68  ],\n",
              "       [ 35718.293 ],\n",
              "       [ 56789.773 ],\n",
              "       [ 71742.1   ],\n",
              "       [ 72169.74  ],\n",
              "       [ 87331.56  ],\n",
              "       [ -4648.645 ],\n",
              "       [ 63616.418 ],\n",
              "       [ 79194.69  ],\n",
              "       [ 58198.73  ],\n",
              "       [ -8911.945 ],\n",
              "       [ 92438.68  ],\n",
              "       [101626.33  ],\n",
              "       [134590.62  ],\n",
              "       [ 82990.85  ],\n",
              "       [112487.65  ],\n",
              "       [113524.11  ],\n",
              "       [ 91219.89  ],\n",
              "       [ 91146.36  ],\n",
              "       [ 89093.55  ],\n",
              "       [109308.555 ],\n",
              "       [ 56053.145 ],\n",
              "       [ -3304.9397],\n",
              "       [ 58982.785 ],\n",
              "       [104659.1   ],\n",
              "       [ 98626.52  ],\n",
              "       [ 98325.98  ],\n",
              "       [ 19880.623 ],\n",
              "       [ 79984.68  ],\n",
              "       [120727.15  ],\n",
              "       [135584.81  ],\n",
              "       [ 76902.766 ],\n",
              "       [116431.96  ],\n",
              "       [ 53972.516 ],\n",
              "       [  4332.9595],\n",
              "       [128470.27  ],\n",
              "       [103125.375 ],\n",
              "       [145346.47  ],\n",
              "       [116418.5   ],\n",
              "       [ 42576.42  ],\n",
              "       [  5524.423 ],\n",
              "       [121511.96  ],\n",
              "       [107489.54  ],\n",
              "       [126455.42  ],\n",
              "       [130822.41  ],\n",
              "       [113077.15  ],\n",
              "       [115788.47  ],\n",
              "       [ 67741.68  ],\n",
              "       [101005.89  ],\n",
              "       [162890.38  ],\n",
              "       [106352.89  ],\n",
              "       [162466.98  ],\n",
              "       [ 71875.9   ],\n",
              "       [136512.28  ]], dtype=float32)"
            ]
          },
          "metadata": {
            "tags": []
          },
          "execution_count": 112
        }
      ]
    },
    {
      "cell_type": "code",
      "metadata": {
        "id": "0jowXirr1BXm"
      },
      "source": [
        "y_=scaler.inverse_transform(y_)"
      ],
      "id": "0jowXirr1BXm",
      "execution_count": null,
      "outputs": []
    },
    {
      "cell_type": "code",
      "metadata": {
        "colab": {
          "base_uri": "https://localhost:8080/"
        },
        "id": "YHneIUIk1J0j",
        "outputId": "f53dbdff-707b-4e36-b537-8151194e3cd8"
      },
      "source": [
        "y_"
      ],
      "id": "YHneIUIk1J0j",
      "execution_count": null,
      "outputs": [
        {
          "output_type": "execute_result",
          "data": {
            "text/plain": [
              "array([[ 62484.03],\n",
              "       [ 45289.92],\n",
              "       [ 95437.44],\n",
              "       [ 55735.08],\n",
              "       [ 86421.8 ],\n",
              "       [169704.71],\n",
              "       [ 15788.  ],\n",
              "       [ 93402.16],\n",
              "       [176747.02],\n",
              "       [ 32502.4 ],\n",
              "       [184596.28],\n",
              "       [134536.85],\n",
              "       [ 88538.89],\n",
              "       [229287.8 ],\n",
              "       [ 66133.39],\n",
              "       [130104.24],\n",
              "       [ 33965.63],\n",
              "       [150308.59],\n",
              "       [209836.47],\n",
              "       [ 41631.57],\n",
              "       [100081.2 ],\n",
              "       [ 53637.35],\n",
              "       [177199.56],\n",
              "       [ 28791.98],\n",
              "       [ 56282.45],\n",
              "       [ 72449.57],\n",
              "       [123026.81],\n",
              "       [125056.66],\n",
              "       [ 11276.  ],\n",
              "       [ 80566.49],\n",
              "       [120399.05],\n",
              "       [ 78081.9 ],\n",
              "       [  1154.  ],\n",
              "       [148213.68],\n",
              "       [ 99126.1 ],\n",
              "       [223445.37],\n",
              "       [119595.03],\n",
              "       [ 98708.05],\n",
              "       [189796.22],\n",
              "       [116284.92],\n",
              "       [129378.3 ],\n",
              "       [199174.66],\n",
              "       [107821.05],\n",
              "       [116983.  ],\n",
              "       [ 52330.2 ],\n",
              "       [ 45401.14],\n",
              "       [146179.99],\n",
              "       [144461.57],\n",
              "       [150804.58],\n",
              "       [ 33183.75],\n",
              "       [111854.06],\n",
              "       [170855.38],\n",
              "       [214339.31],\n",
              "       [100522.57],\n",
              "       [169657.57],\n",
              "       [106669.07],\n",
              "       [   825.  ],\n",
              "       [175095.83],\n",
              "       [114572.65],\n",
              "       [176344.04],\n",
              "       [148931.99],\n",
              "       [113512.26],\n",
              "       [  2500.  ],\n",
              "       [154596.71],\n",
              "       [238517.38],\n",
              "       [148232.92],\n",
              "       [206313.64],\n",
              "       [141749.03],\n",
              "       [187263.35],\n",
              "       [106125.24],\n",
              "       [136381.72],\n",
              "       [210099.11],\n",
              "       [119775.95],\n",
              "       [230699.43],\n",
              "       [112431.95],\n",
              "       [199708.63]])"
            ]
          },
          "metadata": {
            "tags": []
          },
          "execution_count": 114
        }
      ]
    },
    {
      "cell_type": "code",
      "metadata": {
        "colab": {
          "base_uri": "https://localhost:8080/",
          "height": 281
        },
        "id": "jEmsDycZ1Ko8",
        "outputId": "725e508d-56d3-4a0a-fd37-e0cec7631a6e"
      },
      "source": [
        "plt.plot(y_, color = 'red', label = 'Real data')\n",
        "plt.plot(y_pred_2, color = 'blue', label = 'Predicted data')\n",
        "plt.title('Prediction')\n",
        "plt.legend()\n",
        "plt.show()"
      ],
      "id": "jEmsDycZ1Ko8",
      "execution_count": null,
      "outputs": [
        {
          "output_type": "display_data",
          "data": {
            "image/png": "[encoded data removed]",
            "text/plain": [
              "<Figure size 432x288 with 1 Axes>"
            ]
          },
          "metadata": {
            "tags": [],
            "needs_background": "light"
          }
        }
      ]
    },
    {
      "cell_type": "code",
      "metadata": {
        "id": "R6hPx5t41S9f"
      },
      "source": [
        "from sklearn.metrics import mean_squared_error"
      ],
      "id": "R6hPx5t41S9f",
      "execution_count": null,
      "outputs": []
    },
    {
      "cell_type": "code",
      "metadata": {
        "id": "Xp4azxoJ_kO5"
      },
      "source": [
        "from sklearn.metrics import mean_absolute_error"
      ],
      "id": "Xp4azxoJ_kO5",
      "execution_count": null,
      "outputs": []
    },
    {
      "cell_type": "code",
      "metadata": {
        "colab": {
          "base_uri": "https://localhost:8080/"
        },
        "id": "75BMhlTy_ruF",
        "outputId": "62e7a6eb-bfaa-40c3-fe3f-fe1f423b5128"
      },
      "source": [
        "mean_absolute_error(y_,y_pred_2)"
      ],
      "id": "75BMhlTy_ruF",
      "execution_count": null,
      "outputs": [
        {
          "output_type": "execute_result",
          "data": {
            "text/plain": [
              "39251.34598799857"
            ]
          },
          "metadata": {
            "tags": []
          },
          "execution_count": 118
        }
      ]
    },
    {
      "cell_type": "code",
      "metadata": {
        "colab": {
          "base_uri": "https://localhost:8080/"
        },
        "id": "JWoxcOdX19AZ",
        "outputId": "7d81c96c-012a-4c1e-f204-21a92413e954"
      },
      "source": [
        "np.sqrt(mean_squared_error(y_,y_pred_2))"
      ],
      "id": "JWoxcOdX19AZ",
      "execution_count": null,
      "outputs": [
        {
          "output_type": "execute_result",
          "data": {
            "text/plain": [
              "48691.379052882214"
            ]
          },
          "metadata": {
            "tags": []
          },
          "execution_count": 119
        }
      ]
    },
    {
      "cell_type": "code",
      "metadata": {
        "colab": {
          "base_uri": "https://localhost:8080/"
        },
        "id": "UFrEtJSG1_xg",
        "outputId": "18561e84-a029-4f74-a97a-c1d629598202"
      },
      "source": [
        "np.sqrt(mean_squared_error(y_test,y_pred_1))"
      ],
      "id": "UFrEtJSG1_xg",
      "execution_count": null,
      "outputs": [
        {
          "output_type": "execute_result",
          "data": {
            "text/plain": [
              "0.07340617245899281"
            ]
          },
          "metadata": {
            "tags": []
          },
          "execution_count": 61
        }
      ]
    },
    {
      "cell_type": "code",
      "metadata": {
        "id": "YLy1ddX9HqWO"
      },
      "source": [
        "from keras.models import load_model"
      ],
      "id": "YLy1ddX9HqWO",
      "execution_count": null,
      "outputs": []
    },
    {
      "cell_type": "code",
      "metadata": {
        "id": "v6dcgmW_IAS1"
      },
      "source": [
        "\n",
        "model.save('forecast_2.h5')"
      ],
      "id": "v6dcgmW_IAS1",
      "execution_count": null,
      "outputs": []
    },
    {
      "cell_type": "code",
      "metadata": {
        "id": "q40Nh2fXIW50"
      },
      "source": [
        "loading_1=load_model('forecast_2.h5')"
      ],
      "id": "q40Nh2fXIW50",
      "execution_count": null,
      "outputs": []
    },
    {
      "cell_type": "code",
      "metadata": {
        "colab": {
          "base_uri": "https://localhost:8080/"
        },
        "id": "eV_m9qxoDs4x",
        "outputId": "4cc4c129-c308-46d1-96b5-200d54da9d25"
      },
      "source": [
        "X_"
      ],
      "id": "eV_m9qxoDs4x",
      "execution_count": null,
      "outputs": [
        {
          "output_type": "execute_result",
          "data": {
            "text/plain": [
              "array([[0.52241812, 0.68859809, 0.79102319, 0.67214285],\n",
              "       [0.52642138, 0.67349766, 0.65554292, 0.83360014],\n",
              "       [0.67513297, 0.67349766, 0.65554292, 0.83360014],\n",
              "       [0.45630525, 0.58687169, 0.59062548, 0.8288121 ],\n",
              "       [0.4567308 , 0.75608042, 0.42007018, 0.69813427],\n",
              "       [0.39492514, 0.77286356, 0.87307248, 0.7108141 ],\n",
              "       [0.07941123, 0.17411476, 0.55667537, 0.68248803],\n",
              "       [0.        , 0.        , 0.28203263, 0.17393212],\n",
              "       [0.32611525, 0.33029152, 0.55609603, 0.95268991],\n",
              "       [0.33222062, 0.53204327, 0.54478914, 0.83271632],\n",
              "       [0.21392247, 0.3080608 , 0.37439677, 0.64453168],\n",
              "       [0.39246045, 0.96990221, 0.25411496, 0.50026381],\n",
              "       [0.67920757, 0.61357573, 0.7005986 , 0.66230563],\n",
              "       [0.4829689 , 0.66266605, 0.64466888, 0.7735046 ],\n",
              "       [0.33120827, 0.63033454, 0.66675513, 0.6941767 ],\n",
              "       [0.31134686, 0.39077976, 0.45830615, 0.59791859],\n",
              "       [0.74230113, 0.85040239, 0.51060264, 0.6596549 ],\n",
              "       [1.        , 0.61362657, 1.        , 0.81285275],\n",
              "       [0.35144627, 0.35230876, 0.42454956, 0.76767721],\n",
              "       [0.63748601, 0.58335427, 0.64948778, 0.83277425],\n",
              "       [0.062248  , 0.15116572, 0.44422198, 0.68987735],\n",
              "       [0.02318081, 0.00674242, 0.04274377, 0.40589655],\n",
              "       [0.6284717 , 0.73258651, 0.32986619, 0.82710157],\n",
              "       [0.44474492, 0.45579839, 0.6018088 , 0.81184687],\n",
              "       [0.64418989, 0.26936417, 0.72495959, 0.83913989],\n",
              "       [0.45694974, 0.22671153, 0.85379561, 1.        ],\n",
              "       [0.12493462, 0.14273356, 0.53563456, 0.86700322],\n",
              "       [0.01438942, 0.00368649, 0.17623313, 0.41728999],\n",
              "       [0.21881533, 0.38699282, 0.50882442, 0.92171362],\n",
              "       [0.48044786, 0.48512175, 0.61594   , 0.81184687],\n",
              "       [0.48571314, 0.61571488, 0.51236333, 0.80071256],\n",
              "       [0.20759595, 0.34711444, 0.30171062, 0.82693139],\n",
              "       [0.37908769, 0.47689015, 0.41740686, 0.56848864],\n",
              "       [0.49197173, 0.47689015, 0.41740686, 0.68265543],\n",
              "       [0.07363128, 0.08155402, 0.56009731, 0.38170108],\n",
              "       [0.01468342, 0.00694429, 0.12743328, 0.        ],\n",
              "       [0.82016379, 1.        , 0.77304533, 0.51617891],\n",
              "       [0.49793805, 0.91404707, 0.61161885, 0.63505825],\n",
              "       [0.60776264, 0.48684928, 0.53719036, 0.70232676],\n",
              "       [0.04112142, 0.15544443, 0.49817451, 0.45687425],\n",
              "       [0.0462717 , 0.00254049, 0.        , 0.40621443],\n",
              "       [0.6969122 , 0.38912627, 0.71624789, 0.84779231],\n",
              "       [0.61978718, 0.64781259, 0.54293519, 0.80906391],\n",
              "       [0.29724454, 0.415307  , 0.36298704, 0.72769212],\n",
              "       [0.25017035, 0.59841874, 0.39976689, 0.70064452]])"
            ]
          },
          "metadata": {
            "tags": []
          },
          "execution_count": 166
        }
      ]
    },
    {
      "cell_type": "code",
      "metadata": {
        "colab": {
          "base_uri": "https://localhost:8080/"
        },
        "id": "jH-badROIoFY",
        "outputId": "cc282e2e-4fa7-4692-9f9f-35d4b948dda9"
      },
      "source": [
        "\n",
        "p=loading_1.predict([[0.25017035, 0.59841874, 0.39976689, 0.70064452]])\n"
      ],
      "id": "jH-badROIoFY",
      "execution_count": null,
      "outputs": [
        {
          "output_type": "stream",
          "text": [
            "WARNING:tensorflow:5 out of the last 14 calls to <function Model.make_predict_function.<locals>.predict_function at 0x7f48ef5df320> triggered tf.function retracing. Tracing is expensive and the excessive number of tracings could be due to (1) creating @tf.function repeatedly in a loop, (2) passing tensors with different shapes, (3) passing Python objects instead of tensors. For (1), please define your @tf.function outside of the loop. For (2), @tf.function has experimental_relax_shapes=True option that relaxes argument shapes that can avoid unnecessary retracing. For (3), please refer to https://www.tensorflow.org/guide/function#controlling_retracing and https://www.tensorflow.org/api_docs/python/tf/function for  more details.\n"
          ],
          "name": "stdout"
        }
      ]
    },
    {
      "cell_type": "code",
      "metadata": {
        "colab": {
          "base_uri": "https://localhost:8080/"
        },
        "id": "9VEWi56Jbe4s",
        "outputId": "f441a2e1-582b-4536-ae61-c61ce103f2f6"
      },
      "source": [
        "scaler.inverse_transform(p)"
      ],
      "id": "9VEWi56Jbe4s",
      "execution_count": null,
      "outputs": [
        {
          "output_type": "execute_result",
          "data": {
            "text/plain": [
              "array([[74893.22]], dtype=float32)"
            ]
          },
          "metadata": {
            "tags": []
          },
          "execution_count": 168
        }
      ]
    },
    {
      "cell_type": "code",
      "metadata": {
        "id": "9gMqPeHCf5Us"
      },
      "source": [
        ""
      ],
      "id": "9gMqPeHCf5Us",
      "execution_count": null,
      "outputs": []
    },
    {
      "cell_type": "code",
      "metadata": {
        "colab": {
          "base_uri": "https://localhost:8080/",
          "height": 198
        },
        "id": "SLLOWRgmb8i-",
        "outputId": "63749102-fdd0-4fcf-aea4-eb0500a0a242"
      },
      "source": [
        "df1[340:]"
      ],
      "id": "SLLOWRgmb8i-",
      "execution_count": null,
      "outputs": [
        {
          "output_type": "execute_result",
          "data": {
            "text/html": [
              "<div>\n",
              "<style scoped>\n",
              "    .dataframe tbody tr th:only-of-type {\n",
              "        vertical-align: middle;\n",
              "    }\n",
              "\n",
              "    .dataframe tbody tr th {\n",
              "        vertical-align: top;\n",
              "    }\n",
              "\n",
              "    .dataframe thead th {\n",
              "        text-align: right;\n",
              "    }\n",
              "</style>\n",
              "<table border=\"1\" class=\"dataframe\">\n",
              "  <thead>\n",
              "    <tr style=\"text-align: right;\">\n",
              "      <th></th>\n",
              "      <th>f1</th>\n",
              "      <th>f2</th>\n",
              "      <th>f3</th>\n",
              "      <th>f4</th>\n",
              "      <th>Income_y</th>\n",
              "    </tr>\n",
              "  </thead>\n",
              "  <tbody>\n",
              "    <tr>\n",
              "      <th>340</th>\n",
              "      <td>1.156209e+06</td>\n",
              "      <td>7.217802e+03</td>\n",
              "      <td>0.464102</td>\n",
              "      <td>13.987939</td>\n",
              "      <td>55111.85</td>\n",
              "    </tr>\n",
              "    <tr>\n",
              "      <th>341</th>\n",
              "      <td>1.694864e+07</td>\n",
              "      <td>1.055942e+06</td>\n",
              "      <td>3.928932</td>\n",
              "      <td>15.310091</td>\n",
              "      <td>133042.85</td>\n",
              "    </tr>\n",
              "    <tr>\n",
              "      <th>342</th>\n",
              "      <td>1.507665e+07</td>\n",
              "      <td>1.757703e+06</td>\n",
              "      <td>3.090537</td>\n",
              "      <td>15.194132</td>\n",
              "      <td>88538.89</td>\n",
              "    </tr>\n",
              "    <tr>\n",
              "      <th>343</th>\n",
              "      <td>7.247855e+06</td>\n",
              "      <td>1.126965e+06</td>\n",
              "      <td>2.220042</td>\n",
              "      <td>14.950492</td>\n",
              "      <td>66133.39</td>\n",
              "    </tr>\n",
              "    <tr>\n",
              "      <th>344</th>\n",
              "      <td>6.105264e+06</td>\n",
              "      <td>1.623708e+06</td>\n",
              "      <td>2.397964</td>\n",
              "      <td>14.869508</td>\n",
              "      <td>67090.81</td>\n",
              "    </tr>\n",
              "  </tbody>\n",
              "</table>\n",
              "</div>"
            ],
            "text/plain": [
              "               f1            f2        f3         f4   Income_y\n",
              "340  1.156209e+06  7.217802e+03  0.464102  13.987939   55111.85\n",
              "341  1.694864e+07  1.055942e+06  3.928932  15.310091  133042.85\n",
              "342  1.507665e+07  1.757703e+06  3.090537  15.194132   88538.89\n",
              "343  7.247855e+06  1.126965e+06  2.220042  14.950492   66133.39\n",
              "344  6.105264e+06  1.623708e+06  2.397964  14.869508   67090.81"
            ]
          },
          "metadata": {
            "tags": []
          },
          "execution_count": 58
        }
      ]
    },
    {
      "cell_type": "code",
      "metadata": {
        "colab": {
          "base_uri": "https://localhost:8080/"
        },
        "id": "owu2HAFpOcRn",
        "outputId": "2bd25390-15fb-4240-b246-40eaecbe95ba"
      },
      "source": [
        "X_[11:20]"
      ],
      "id": "owu2HAFpOcRn",
      "execution_count": null,
      "outputs": [
        {
          "output_type": "execute_result",
          "data": {
            "text/plain": [
              "array([[0.68181818, 0.57142857, 0.89189189, 0.26351954],\n",
              "       [0.65584416, 0.54545455, 0.64864865, 0.49953046],\n",
              "       [0.31818182, 0.20779221, 0.51351351, 0.89144246],\n",
              "       [0.64285714, 0.80519481, 0.08108108, 1.        ],\n",
              "       [0.81818182, 0.62337662, 0.27027027, 0.40262763],\n",
              "       [0.75974026, 0.5974026 , 0.48648649, 0.50006332],\n",
              "       [0.67532468, 0.46753247, 0.37837838, 0.57610091],\n",
              "       [0.37662338, 0.23376623, 0.37837838, 0.88138651],\n",
              "       [0.80519481, 0.79220779, 0.27027027, 0.60106925]])"
            ]
          },
          "metadata": {
            "tags": []
          },
          "execution_count": 352
        }
      ]
    },
    {
      "cell_type": "code",
      "metadata": {
        "id": "Z8PJd-4bI6Cy"
      },
      "source": [
        ""
      ],
      "id": "Z8PJd-4bI6Cy",
      "execution_count": null,
      "outputs": []
    },
    {
      "cell_type": "code",
      "metadata": {
        "id": "-L3IqNEeKDpr"
      },
      "source": [
        ""
      ],
      "id": "-L3IqNEeKDpr",
      "execution_count": null,
      "outputs": []
    },
    {
      "cell_type": "code",
      "metadata": {
        "id": "BvF1XFL8JHeM"
      },
      "source": [
        ""
      ],
      "id": "BvF1XFL8JHeM",
      "execution_count": null,
      "outputs": []
    },
    {
      "cell_type": "code",
      "metadata": {
        "colab": {
          "base_uri": "https://localhost:8080/"
        },
        "id": "rLLod_fVJA1k",
        "outputId": "37bf1622-5d3c-4300-a6dd-7d6080c0d7bb"
      },
      "source": [
        "!pip install -U keras-tuner\n"
      ],
      "id": "rLLod_fVJA1k",
      "execution_count": null,
      "outputs": [
        {
          "output_type": "stream",
          "text": [
            "Collecting keras-tuner\n",
            "\u001b[?25l  Downloading https://files.pythonhosted.org/packages/20/ec/1ef246787174b1e2bb591c95f29d3c1310070cad877824f907faba3dade9/keras-tuner-1.0.2.tar.gz (62kB)\n",
            "\r\u001b[K     |█████▏                          | 10kB 15.6MB/s eta 0:00:01\r\u001b[K     |██████████▍                     | 20kB 20.5MB/s eta 0:00:01\r\u001b[K     |███████████████▋                | 30kB 15.4MB/s eta 0:00:01\r\u001b[K     |████████████████████▉           | 40kB 13.7MB/s eta 0:00:01\r\u001b[K     |██████████████████████████      | 51kB 7.9MB/s eta 0:00:01\r\u001b[K     |███████████████████████████████▎| 61kB 9.1MB/s eta 0:00:01\r\u001b[K     |████████████████████████████████| 71kB 5.4MB/s \n",
            "\u001b[?25hRequirement already satisfied, skipping upgrade: packaging in /usr/local/lib/python3.7/dist-packages (from keras-tuner) (20.9)\n",
            "Requirement already satisfied, skipping upgrade: future in /usr/local/lib/python3.7/dist-packages (from keras-tuner) (0.16.0)\n",
            "Requirement already satisfied, skipping upgrade: numpy in /usr/local/lib/python3.7/dist-packages (from keras-tuner) (1.19.5)\n",
            "Requirement already satisfied, skipping upgrade: tabulate in /usr/local/lib/python3.7/dist-packages (from keras-tuner) (0.8.9)\n",
            "Collecting terminaltables\n",
            "  Downloading https://files.pythonhosted.org/packages/9b/c4/4a21174f32f8a7e1104798c445dacdc1d4df86f2f26722767034e4de4bff/terminaltables-3.1.0.tar.gz\n",
            "Collecting colorama\n",
            "  Downloading https://files.pythonhosted.org/packages/44/98/5b86278fbbf250d239ae0ecb724f8572af1c91f4a11edf4d36a206189440/colorama-0.4.4-py2.py3-none-any.whl\n",
            "Requirement already satisfied, skipping upgrade: tqdm in /usr/local/lib/python3.7/dist-packages (from keras-tuner) (4.41.1)\n",
            "Requirement already satisfied, skipping upgrade: requests in /usr/local/lib/python3.7/dist-packages (from keras-tuner) (2.23.0)\n",
            "Requirement already satisfied, skipping upgrade: scipy in /usr/local/lib/python3.7/dist-packages (from keras-tuner) (1.4.1)\n",
            "Requirement already satisfied, skipping upgrade: scikit-learn in /usr/local/lib/python3.7/dist-packages (from keras-tuner) (0.22.2.post1)\n",
            "Requirement already satisfied, skipping upgrade: pyparsing>=2.0.2 in /usr/local/lib/python3.7/dist-packages (from packaging->keras-tuner) (2.4.7)\n",
            "Requirement already satisfied, skipping upgrade: idna<3,>=2.5 in /usr/local/lib/python3.7/dist-packages (from requests->keras-tuner) (2.10)\n",
            "Requirement already satisfied, skipping upgrade: certifi>=2017.4.17 in /usr/local/lib/python3.7/dist-packages (from requests->keras-tuner) (2020.12.5)\n",
            "Requirement already satisfied, skipping upgrade: urllib3!=1.25.0,!=1.25.1,<1.26,>=1.21.1 in /usr/local/lib/python3.7/dist-packages (from requests->keras-tuner) (1.24.3)\n",
            "Requirement already satisfied, skipping upgrade: chardet<4,>=3.0.2 in /usr/local/lib/python3.7/dist-packages (from requests->keras-tuner) (3.0.4)\n",
            "Requirement already satisfied, skipping upgrade: joblib>=0.11 in /usr/local/lib/python3.7/dist-packages (from scikit-learn->keras-tuner) (1.0.1)\n",
            "Building wheels for collected packages: keras-tuner, terminaltables\n",
            "  Building wheel for keras-tuner (setup.py) ... \u001b[?25l\u001b[?25hdone\n",
            "  Created wheel for keras-tuner: filename=keras_tuner-1.0.2-cp37-none-any.whl size=78938 sha256=256fa61f94b8d776d42ce5d00ac31a17f9eb68b8196b4d4d5e44b61cc6741237\n",
            "  Stored in directory: /root/.cache/pip/wheels/bb/a1/8a/7c3de0efb3707a1701b36ebbfdbc4e67aedf6d4943a1f463d6\n",
            "  Building wheel for terminaltables (setup.py) ... \u001b[?25l\u001b[?25hdone\n",
            "  Created wheel for terminaltables: filename=terminaltables-3.1.0-cp37-none-any.whl size=15356 sha256=afba95d20d08ce133eb2fb7ad34d6c194fcec70a8ce5e965e004d9c2173e9336\n",
            "  Stored in directory: /root/.cache/pip/wheels/30/6b/50/6c75775b681fb36cdfac7f19799888ef9d8813aff9e379663e\n",
            "Successfully built keras-tuner terminaltables\n",
            "Installing collected packages: terminaltables, colorama, keras-tuner\n",
            "Successfully installed colorama-0.4.4 keras-tuner-1.0.2 terminaltables-3.1.0\n"
          ],
          "name": "stdout"
        }
      ]
    },
    {
      "cell_type": "code",
      "metadata": {
        "id": "74WekOBPJkIb"
      },
      "source": [
        "from kerastuner.tuners import RandomSearch\n"
      ],
      "id": "74WekOBPJkIb",
      "execution_count": null,
      "outputs": []
    },
    {
      "cell_type": "code",
      "metadata": {
        "id": "_z3T2ZwCKzP3"
      },
      "source": [
        "def build_model(hp):\n",
        "    model = keras.Sequential()\n",
        "    for i in range(hp.Int('num_layers', 2, 30)):\n",
        "        model.add(Dense(units=hp.Int('units_' + str(i),\n",
        "                                            min_value=7,\n",
        "                                            max_value=512,\n",
        "                                            step=4),\n",
        "                               activation='relu'))\n",
        "    model.add(Dense(1, activation='linear'))\n",
        "    model.compile(\n",
        "        optimizer=keras.optimizers.Adam(\n",
        "            hp.Choice('learning_rate', [1e-2, 1e-3, 1e-4])),\n",
        "        loss='MeanSquaredError',\n",
        "        metrics=['MeanSquaredError'])\n",
        "    return model"
      ],
      "id": "_z3T2ZwCKzP3",
      "execution_count": null,
      "outputs": []
    },
    {
      "cell_type": "code",
      "metadata": {
        "id": "-lmwQo5AqNjo"
      },
      "source": [
        "from tensorflow import keras\n",
        "from kerastuner import HyperModel\n",
        "import kerastuner as kt\n",
        "import tensorflow as tf"
      ],
      "id": "-lmwQo5AqNjo",
      "execution_count": null,
      "outputs": []
    },
    {
      "cell_type": "code",
      "metadata": {
        "id": "jMfIfos74Juc"
      },
      "source": [
        ""
      ],
      "id": "jMfIfos74Juc",
      "execution_count": null,
      "outputs": []
    },
    {
      "cell_type": "code",
      "metadata": {
        "id": "L2ZtaYajmq6d"
      },
      "source": [
        ""
      ],
      "id": "L2ZtaYajmq6d",
      "execution_count": null,
      "outputs": []
    },
    {
      "cell_type": "code",
      "metadata": {
        "id": "QxWGPL6xmLDk"
      },
      "source": [
        ""
      ],
      "id": "QxWGPL6xmLDk",
      "execution_count": null,
      "outputs": []
    },
    {
      "cell_type": "code",
      "metadata": {
        "id": "Aq7-DzHQmmdG"
      },
      "source": [
        ""
      ],
      "id": "Aq7-DzHQmmdG",
      "execution_count": null,
      "outputs": []
    },
    {
      "cell_type": "code",
      "metadata": {
        "id": "urICEKeMn0TC"
      },
      "source": [
        ""
      ],
      "id": "urICEKeMn0TC",
      "execution_count": null,
      "outputs": []
    },
    {
      "cell_type": "code",
      "metadata": {
        "id": "nXdexZS4nnFN"
      },
      "source": [
        ""
      ],
      "id": "nXdexZS4nnFN",
      "execution_count": null,
      "outputs": []
    },
    {
      "cell_type": "code",
      "metadata": {
        "id": "L-CQvBvEnozI"
      },
      "source": [
        ""
      ],
      "id": "L-CQvBvEnozI",
      "execution_count": null,
      "outputs": []
    },
    {
      "cell_type": "code",
      "metadata": {
        "id": "_to87NdPJdfB"
      },
      "source": [
        "tuner = RandomSearch(build_model,objective='val_loss',max_trials=10,executions_per_trial=3)\n"
      ],
      "id": "_to87NdPJdfB",
      "execution_count": null,
      "outputs": []
    },
    {
      "cell_type": "code",
      "metadata": {
        "id": "T8c0pd0QoDHW"
      },
      "source": [
        ""
      ],
      "id": "T8c0pd0QoDHW",
      "execution_count": null,
      "outputs": []
    },
    {
      "cell_type": "code",
      "metadata": {
        "id": "PA54QKvkokBc"
      },
      "source": [
        ""
      ],
      "id": "PA54QKvkokBc",
      "execution_count": null,
      "outputs": []
    },
    {
      "cell_type": "code",
      "metadata": {
        "colab": {
          "base_uri": "https://localhost:8080/"
        },
        "id": "NQgwo9wxj3lW",
        "outputId": "34e6aa59-176d-4fcf-f2af-972428e1e6b9"
      },
      "source": [
        "X_train"
      ],
      "id": "NQgwo9wxj3lW",
      "execution_count": null,
      "outputs": [
        {
          "output_type": "execute_result",
          "data": {
            "text/plain": [
              "array([[0.35545024, 0.40298507, 0.31967213, 0.16401915, 0.21877819],\n",
              "       [0.27488152, 0.13432836, 0.24590164, 0.29776742, 0.192638  ],\n",
              "       [0.39810427, 0.37313433, 0.35245902, 0.20338195, 0.10929284],\n",
              "       ...,\n",
              "       [0.37914692, 0.26865672, 0.24590164, 0.12731527, 0.19976769],\n",
              "       [0.04739336, 0.32835821, 0.1147541 , 0.18570219, 0.01014588],\n",
              "       [0.37914692, 0.26865672, 0.42622951, 0.4178604 , 0.50988777]])"
            ]
          },
          "metadata": {
            "tags": []
          },
          "execution_count": 124
        }
      ]
    },
    {
      "cell_type": "code",
      "metadata": {
        "colab": {
          "base_uri": "https://localhost:8080/"
        },
        "id": "z2lxkNCSLEPY",
        "outputId": "efa8ea54-d3c8-4244-a5b3-f3a000d7dfa3"
      },
      "source": [
        "tuner.search(X_train,y_train,epochs=100,validation_data= (X_test,y_test))\n"
      ],
      "id": "z2lxkNCSLEPY",
      "execution_count": null,
      "outputs": [
        {
          "output_type": "stream",
          "text": [
            "Trial 10 Complete [00h 02m 37s]\n",
            "val_loss: 0.018238934377829235\n",
            "\n",
            "Best val_loss So Far: 0.006086306801686685\n",
            "Total elapsed time: 00h 18m 19s\n",
            "INFO:tensorflow:Oracle triggered exit\n"
          ],
          "name": "stdout"
        }
      ]
    },
    {
      "cell_type": "code",
      "metadata": {
        "colab": {
          "base_uri": "https://localhost:8080/"
        },
        "id": "HLHDevawIfGW",
        "outputId": "20bba982-777e-4bad-d432-e670831208d2"
      },
      "source": [
        "tuner.results_summary()"
      ],
      "id": "HLHDevawIfGW",
      "execution_count": null,
      "outputs": [
        {
          "output_type": "stream",
          "text": [
            "Results summary\n",
            "Results in ./untitled_project\n",
            "Showing 10 best trials\n",
            "Objective(name='val_loss', direction='min')\n",
            "Trial summary\n",
            "Hyperparameters:\n",
            "num_layers: 7\n",
            "units_0: 475\n",
            "units_1: 91\n",
            "learning_rate: 0.01\n",
            "units_2: 7\n",
            "units_3: 7\n",
            "units_4: 7\n",
            "units_5: 7\n",
            "units_6: 7\n",
            "Score: 0.006086306801686685\n",
            "Trial summary\n",
            "Hyperparameters:\n",
            "num_layers: 9\n",
            "units_0: 43\n",
            "units_1: 235\n",
            "learning_rate: 0.0001\n",
            "units_2: 487\n",
            "units_3: 239\n",
            "units_4: 215\n",
            "units_5: 215\n",
            "units_6: 467\n",
            "units_7: 7\n",
            "units_8: 7\n",
            "Score: 0.0061008501797914505\n",
            "Trial summary\n",
            "Hyperparameters:\n",
            "num_layers: 7\n",
            "units_0: 187\n",
            "units_1: 483\n",
            "learning_rate: 0.01\n",
            "units_2: 435\n",
            "units_3: 159\n",
            "units_4: 431\n",
            "units_5: 259\n",
            "units_6: 359\n",
            "units_7: 223\n",
            "units_8: 59\n",
            "units_9: 135\n",
            "units_10: 15\n",
            "units_11: 431\n",
            "units_12: 275\n",
            "units_13: 255\n",
            "units_14: 459\n",
            "units_15: 487\n",
            "units_16: 163\n",
            "units_17: 231\n",
            "units_18: 343\n",
            "units_19: 111\n",
            "units_20: 235\n",
            "units_21: 199\n",
            "units_22: 319\n",
            "units_23: 415\n",
            "units_24: 339\n",
            "units_25: 243\n",
            "units_26: 363\n",
            "units_27: 271\n",
            "units_28: 183\n",
            "Score: 0.006141531902054946\n",
            "Trial summary\n",
            "Hyperparameters:\n",
            "num_layers: 12\n",
            "units_0: 175\n",
            "units_1: 427\n",
            "learning_rate: 0.001\n",
            "units_2: 199\n",
            "units_3: 475\n",
            "units_4: 399\n",
            "units_5: 231\n",
            "units_6: 191\n",
            "units_7: 31\n",
            "units_8: 459\n",
            "units_9: 467\n",
            "units_10: 491\n",
            "units_11: 247\n",
            "units_12: 395\n",
            "units_13: 327\n",
            "units_14: 319\n",
            "units_15: 383\n",
            "units_16: 47\n",
            "units_17: 323\n",
            "units_18: 327\n",
            "units_19: 399\n",
            "units_20: 19\n",
            "units_21: 335\n",
            "units_22: 111\n",
            "units_23: 75\n",
            "units_24: 87\n",
            "units_25: 23\n",
            "units_26: 151\n",
            "units_27: 251\n",
            "units_28: 287\n",
            "Score: 0.006143439716349046\n",
            "Trial summary\n",
            "Hyperparameters:\n",
            "num_layers: 12\n",
            "units_0: 343\n",
            "units_1: 159\n",
            "learning_rate: 0.001\n",
            "units_2: 359\n",
            "units_3: 303\n",
            "units_4: 23\n",
            "units_5: 15\n",
            "units_6: 95\n",
            "units_7: 123\n",
            "units_8: 439\n",
            "units_9: 339\n",
            "units_10: 59\n",
            "units_11: 83\n",
            "units_12: 347\n",
            "units_13: 55\n",
            "units_14: 467\n",
            "units_15: 303\n",
            "units_16: 435\n",
            "units_17: 355\n",
            "units_18: 387\n",
            "units_19: 299\n",
            "units_20: 175\n",
            "units_21: 383\n",
            "units_22: 19\n",
            "units_23: 159\n",
            "units_24: 143\n",
            "units_25: 163\n",
            "units_26: 147\n",
            "units_27: 343\n",
            "units_28: 431\n",
            "Score: 0.006161138104895751\n",
            "Trial summary\n",
            "Hyperparameters:\n",
            "num_layers: 18\n",
            "units_0: 295\n",
            "units_1: 239\n",
            "learning_rate: 0.0001\n",
            "units_2: 467\n",
            "units_3: 243\n",
            "units_4: 271\n",
            "units_5: 291\n",
            "units_6: 27\n",
            "units_7: 471\n",
            "units_8: 407\n",
            "units_9: 279\n",
            "units_10: 11\n",
            "units_11: 455\n",
            "units_12: 475\n",
            "units_13: 351\n",
            "units_14: 423\n",
            "units_15: 291\n",
            "units_16: 491\n",
            "units_17: 399\n",
            "units_18: 267\n",
            "units_19: 355\n",
            "units_20: 439\n",
            "units_21: 115\n",
            "units_22: 51\n",
            "units_23: 459\n",
            "units_24: 375\n",
            "units_25: 211\n",
            "units_26: 503\n",
            "units_27: 51\n",
            "units_28: 27\n",
            "Score: 0.006221650168299675\n",
            "Trial summary\n",
            "Hyperparameters:\n",
            "num_layers: 29\n",
            "units_0: 247\n",
            "units_1: 475\n",
            "learning_rate: 0.0001\n",
            "units_2: 103\n",
            "units_3: 271\n",
            "units_4: 231\n",
            "units_5: 383\n",
            "units_6: 31\n",
            "units_7: 391\n",
            "units_8: 387\n",
            "units_9: 7\n",
            "units_10: 7\n",
            "units_11: 7\n",
            "units_12: 7\n",
            "units_13: 7\n",
            "units_14: 7\n",
            "units_15: 7\n",
            "units_16: 7\n",
            "units_17: 7\n",
            "units_18: 7\n",
            "units_19: 7\n",
            "units_20: 7\n",
            "units_21: 7\n",
            "units_22: 7\n",
            "units_23: 7\n",
            "units_24: 7\n",
            "units_25: 7\n",
            "units_26: 7\n",
            "units_27: 7\n",
            "units_28: 7\n",
            "Score: 0.014249259140342474\n",
            "Trial summary\n",
            "Hyperparameters:\n",
            "num_layers: 26\n",
            "units_0: 311\n",
            "units_1: 119\n",
            "learning_rate: 0.001\n",
            "units_2: 199\n",
            "units_3: 143\n",
            "units_4: 111\n",
            "units_5: 495\n",
            "units_6: 191\n",
            "units_7: 235\n",
            "units_8: 183\n",
            "units_9: 71\n",
            "units_10: 495\n",
            "units_11: 19\n",
            "units_12: 367\n",
            "units_13: 431\n",
            "units_14: 467\n",
            "units_15: 451\n",
            "units_16: 499\n",
            "units_17: 319\n",
            "units_18: 435\n",
            "units_19: 163\n",
            "units_20: 35\n",
            "units_21: 299\n",
            "units_22: 135\n",
            "units_23: 107\n",
            "units_24: 39\n",
            "units_25: 335\n",
            "units_26: 291\n",
            "units_27: 219\n",
            "units_28: 343\n",
            "Score: 0.017819097886482876\n",
            "Trial summary\n",
            "Hyperparameters:\n",
            "num_layers: 27\n",
            "units_0: 255\n",
            "units_1: 343\n",
            "learning_rate: 0.001\n",
            "units_2: 299\n",
            "units_3: 387\n",
            "units_4: 103\n",
            "units_5: 91\n",
            "units_6: 223\n",
            "units_7: 171\n",
            "units_8: 95\n",
            "units_9: 235\n",
            "units_10: 511\n",
            "units_11: 315\n",
            "units_12: 379\n",
            "units_13: 299\n",
            "units_14: 287\n",
            "units_15: 179\n",
            "units_16: 315\n",
            "units_17: 27\n",
            "units_18: 351\n",
            "units_19: 335\n",
            "units_20: 475\n",
            "units_21: 303\n",
            "units_22: 159\n",
            "units_23: 375\n",
            "units_24: 75\n",
            "units_25: 435\n",
            "units_26: 171\n",
            "units_27: 383\n",
            "units_28: 251\n",
            "Score: 0.018238934377829235\n",
            "Trial summary\n",
            "Hyperparameters:\n",
            "num_layers: 17\n",
            "units_0: 35\n",
            "units_1: 51\n",
            "learning_rate: 0.01\n",
            "units_2: 39\n",
            "units_3: 275\n",
            "units_4: 495\n",
            "units_5: 499\n",
            "units_6: 383\n",
            "units_7: 503\n",
            "units_8: 111\n",
            "units_9: 147\n",
            "units_10: 15\n",
            "units_11: 363\n",
            "units_12: 471\n",
            "units_13: 219\n",
            "units_14: 91\n",
            "units_15: 455\n",
            "units_16: 347\n",
            "units_17: 415\n",
            "units_18: 63\n",
            "units_19: 235\n",
            "units_20: 207\n",
            "units_21: 395\n",
            "units_22: 31\n",
            "units_23: 267\n",
            "units_24: 243\n",
            "units_25: 451\n",
            "units_26: 443\n",
            "units_27: 179\n",
            "units_28: 63\n",
            "Score: 0.018240247542659443\n"
          ],
          "name": "stdout"
        }
      ]
    },
    {
      "cell_type": "code",
      "metadata": {
        "id": "roqS6m3yti3s"
      },
      "source": [
        "from keras.optimizers import Adam"
      ],
      "id": "roqS6m3yti3s",
      "execution_count": null,
      "outputs": []
    },
    {
      "cell_type": "code",
      "metadata": {
        "id": "cFQtLkztLqCf"
      },
      "source": [
        "num_layers: 7\n",
        "units_0: 475\n",
        "units_1: 91\n",
        "learning_rate: 0.01\n",
        "units_2: 7\n",
        "units_3: 7\n",
        "units_4: 7\n",
        "units_5: 7\n",
        "units_6: 7"
      ],
      "id": "cFQtLkztLqCf",
      "execution_count": null,
      "outputs": []
    },
    {
      "cell_type": "code",
      "metadata": {
        "id": "nvglpp4JDEsF",
        "colab": {
          "base_uri": "https://localhost:8080/"
        },
        "outputId": "2d6e699b-3ccd-4df1-8bd3-c8155fe92020"
      },
      "source": [
        "model = Sequential()\n",
        "model.add(Dense(475, activation = 'relu', input_dim =5))\n",
        "model.add(Dense(91, activation = 'relu'))\n",
        "model.add(Dense(7, activation = 'relu'))\n",
        "model.add(Dense(7, activation = 'relu'))\n",
        "model.add(Dense(7, activation = 'relu'))\n",
        "model.add(Dense(7, activation = 'relu'))\n",
        "model.add(Dense(7, activation = 'relu'))\n",
        "\n",
        "\n",
        "\n",
        "model.add(Dense(1,activation = 'linear'))\n",
        "model.compile(optimizer=Adam(lr=0.01), loss='MeanSquaredError', metrics = ['MeanSquaredError'])\n"
      ],
      "id": "nvglpp4JDEsF",
      "execution_count": null,
      "outputs": [
        {
          "output_type": "stream",
          "text": [
            "/usr/local/lib/python3.7/dist-packages/tensorflow/python/keras/optimizer_v2/optimizer_v2.py:375: UserWarning: The `lr` argument is deprecated, use `learning_rate` instead.\n",
            "  \"The `lr` argument is deprecated, use `learning_rate` instead.\")\n"
          ],
          "name": "stderr"
        }
      ]
    },
    {
      "cell_type": "code",
      "metadata": {
        "colab": {
          "base_uri": "https://localhost:8080/"
        },
        "id": "IijwqesKGZTX",
        "outputId": "6f35fed9-aa49-43fb-a632-4cf99533ddca"
      },
      "source": [
        "hist=model.fit(X_train,y_train,epochs=100,validation_data=(X_test,y_test))"
      ],
      "id": "IijwqesKGZTX",
      "execution_count": null,
      "outputs": [
        {
          "output_type": "stream",
          "text": [
            "Epoch 1/100\n",
            "17/17 [==============================] - 1s 24ms/step - loss: 0.0483 - mean_squared_error: 0.0483 - val_loss: 0.0069 - val_mean_squared_error: 0.0069\n",
            "Epoch 2/100\n",
            "17/17 [==============================] - 0s 4ms/step - loss: 0.0082 - mean_squared_error: 0.0082 - val_loss: 0.0068 - val_mean_squared_error: 0.0068\n",
            "Epoch 3/100\n",
            "17/17 [==============================] - 0s 3ms/step - loss: 0.0081 - mean_squared_error: 0.0081 - val_loss: 0.0076 - val_mean_squared_error: 0.0076\n",
            "Epoch 4/100\n",
            "17/17 [==============================] - 0s 4ms/step - loss: 0.0078 - mean_squared_error: 0.0078 - val_loss: 0.0065 - val_mean_squared_error: 0.0065\n",
            "Epoch 5/100\n",
            "17/17 [==============================] - 0s 4ms/step - loss: 0.0077 - mean_squared_error: 0.0077 - val_loss: 0.0081 - val_mean_squared_error: 0.0081\n",
            "Epoch 6/100\n",
            "17/17 [==============================] - 0s 5ms/step - loss: 0.0079 - mean_squared_error: 0.0079 - val_loss: 0.0063 - val_mean_squared_error: 0.0063\n",
            "Epoch 7/100\n",
            "17/17 [==============================] - 0s 4ms/step - loss: 0.0075 - mean_squared_error: 0.0075 - val_loss: 0.0062 - val_mean_squared_error: 0.0062\n",
            "Epoch 8/100\n",
            "17/17 [==============================] - 0s 3ms/step - loss: 0.0065 - mean_squared_error: 0.0065 - val_loss: 0.0066 - val_mean_squared_error: 0.0066\n",
            "Epoch 9/100\n",
            "17/17 [==============================] - 0s 4ms/step - loss: 0.0055 - mean_squared_error: 0.0055 - val_loss: 0.0091 - val_mean_squared_error: 0.0091\n",
            "Epoch 10/100\n",
            "17/17 [==============================] - 0s 4ms/step - loss: 0.0097 - mean_squared_error: 0.0097 - val_loss: 0.0094 - val_mean_squared_error: 0.0094\n",
            "Epoch 11/100\n",
            "17/17 [==============================] - 0s 5ms/step - loss: 0.0090 - mean_squared_error: 0.0090 - val_loss: 0.0062 - val_mean_squared_error: 0.0062\n",
            "Epoch 12/100\n",
            "17/17 [==============================] - 0s 4ms/step - loss: 0.0063 - mean_squared_error: 0.0063 - val_loss: 0.0063 - val_mean_squared_error: 0.0063\n",
            "Epoch 13/100\n",
            "17/17 [==============================] - 0s 4ms/step - loss: 0.0075 - mean_squared_error: 0.0075 - val_loss: 0.0076 - val_mean_squared_error: 0.0076\n",
            "Epoch 14/100\n",
            "17/17 [==============================] - 0s 4ms/step - loss: 0.0071 - mean_squared_error: 0.0071 - val_loss: 0.0064 - val_mean_squared_error: 0.0064\n",
            "Epoch 15/100\n",
            "17/17 [==============================] - 0s 3ms/step - loss: 0.0075 - mean_squared_error: 0.0075 - val_loss: 0.0061 - val_mean_squared_error: 0.0061\n",
            "Epoch 16/100\n",
            "17/17 [==============================] - 0s 4ms/step - loss: 0.0085 - mean_squared_error: 0.0085 - val_loss: 0.0067 - val_mean_squared_error: 0.0067\n",
            "Epoch 17/100\n",
            "17/17 [==============================] - 0s 4ms/step - loss: 0.0075 - mean_squared_error: 0.0075 - val_loss: 0.0061 - val_mean_squared_error: 0.0061\n",
            "Epoch 18/100\n",
            "17/17 [==============================] - 0s 3ms/step - loss: 0.0086 - mean_squared_error: 0.0086 - val_loss: 0.0082 - val_mean_squared_error: 0.0082\n",
            "Epoch 19/100\n",
            "17/17 [==============================] - 0s 5ms/step - loss: 0.0073 - mean_squared_error: 0.0073 - val_loss: 0.0063 - val_mean_squared_error: 0.0063\n",
            "Epoch 20/100\n",
            "17/17 [==============================] - 0s 3ms/step - loss: 0.0081 - mean_squared_error: 0.0081 - val_loss: 0.0063 - val_mean_squared_error: 0.0063\n",
            "Epoch 21/100\n",
            "17/17 [==============================] - 0s 4ms/step - loss: 0.0063 - mean_squared_error: 0.0063 - val_loss: 0.0062 - val_mean_squared_error: 0.0062\n",
            "Epoch 22/100\n",
            "17/17 [==============================] - 0s 3ms/step - loss: 0.0084 - mean_squared_error: 0.0084 - val_loss: 0.0061 - val_mean_squared_error: 0.0061\n",
            "Epoch 23/100\n",
            "17/17 [==============================] - 0s 4ms/step - loss: 0.0076 - mean_squared_error: 0.0076 - val_loss: 0.0077 - val_mean_squared_error: 0.0077\n",
            "Epoch 24/100\n",
            "17/17 [==============================] - 0s 4ms/step - loss: 0.0091 - mean_squared_error: 0.0091 - val_loss: 0.0062 - val_mean_squared_error: 0.0062\n",
            "Epoch 25/100\n",
            "17/17 [==============================] - 0s 3ms/step - loss: 0.0069 - mean_squared_error: 0.0069 - val_loss: 0.0066 - val_mean_squared_error: 0.0066\n",
            "Epoch 26/100\n",
            "17/17 [==============================] - 0s 3ms/step - loss: 0.0072 - mean_squared_error: 0.0072 - val_loss: 0.0063 - val_mean_squared_error: 0.0063\n",
            "Epoch 27/100\n",
            "17/17 [==============================] - 0s 3ms/step - loss: 0.0081 - mean_squared_error: 0.0081 - val_loss: 0.0083 - val_mean_squared_error: 0.0083\n",
            "Epoch 28/100\n",
            "17/17 [==============================] - 0s 4ms/step - loss: 0.0103 - mean_squared_error: 0.0103 - val_loss: 0.0062 - val_mean_squared_error: 0.0062\n",
            "Epoch 29/100\n",
            "17/17 [==============================] - 0s 4ms/step - loss: 0.0066 - mean_squared_error: 0.0066 - val_loss: 0.0062 - val_mean_squared_error: 0.0062\n",
            "Epoch 30/100\n",
            "17/17 [==============================] - 0s 4ms/step - loss: 0.0080 - mean_squared_error: 0.0080 - val_loss: 0.0065 - val_mean_squared_error: 0.0065\n",
            "Epoch 31/100\n",
            "17/17 [==============================] - 0s 5ms/step - loss: 0.0060 - mean_squared_error: 0.0060 - val_loss: 0.0068 - val_mean_squared_error: 0.0068\n",
            "Epoch 32/100\n",
            "17/17 [==============================] - 0s 3ms/step - loss: 0.0063 - mean_squared_error: 0.0063 - val_loss: 0.0071 - val_mean_squared_error: 0.0071\n",
            "Epoch 33/100\n",
            "17/17 [==============================] - 0s 5ms/step - loss: 0.0087 - mean_squared_error: 0.0087 - val_loss: 0.0063 - val_mean_squared_error: 0.0063\n",
            "Epoch 34/100\n",
            "17/17 [==============================] - 0s 3ms/step - loss: 0.0064 - mean_squared_error: 0.0064 - val_loss: 0.0062 - val_mean_squared_error: 0.0062\n",
            "Epoch 35/100\n",
            "17/17 [==============================] - 0s 3ms/step - loss: 0.0069 - mean_squared_error: 0.0069 - val_loss: 0.0069 - val_mean_squared_error: 0.0069\n",
            "Epoch 36/100\n",
            "17/17 [==============================] - 0s 4ms/step - loss: 0.0088 - mean_squared_error: 0.0088 - val_loss: 0.0065 - val_mean_squared_error: 0.0065\n",
            "Epoch 37/100\n",
            "17/17 [==============================] - 0s 5ms/step - loss: 0.0068 - mean_squared_error: 0.0068 - val_loss: 0.0061 - val_mean_squared_error: 0.0061\n",
            "Epoch 38/100\n",
            "17/17 [==============================] - 0s 4ms/step - loss: 0.0078 - mean_squared_error: 0.0078 - val_loss: 0.0062 - val_mean_squared_error: 0.0062\n",
            "Epoch 39/100\n",
            "17/17 [==============================] - 0s 4ms/step - loss: 0.0059 - mean_squared_error: 0.0059 - val_loss: 0.0089 - val_mean_squared_error: 0.0089\n",
            "Epoch 40/100\n",
            "17/17 [==============================] - 0s 3ms/step - loss: 0.0103 - mean_squared_error: 0.0103 - val_loss: 0.0062 - val_mean_squared_error: 0.0062\n",
            "Epoch 41/100\n",
            "17/17 [==============================] - 0s 3ms/step - loss: 0.0061 - mean_squared_error: 0.0061 - val_loss: 0.0062 - val_mean_squared_error: 0.0062\n",
            "Epoch 42/100\n",
            "17/17 [==============================] - 0s 3ms/step - loss: 0.0069 - mean_squared_error: 0.0069 - val_loss: 0.0066 - val_mean_squared_error: 0.0066\n",
            "Epoch 43/100\n",
            "17/17 [==============================] - 0s 3ms/step - loss: 0.0079 - mean_squared_error: 0.0079 - val_loss: 0.0062 - val_mean_squared_error: 0.0062\n",
            "Epoch 44/100\n",
            "17/17 [==============================] - 0s 4ms/step - loss: 0.0066 - mean_squared_error: 0.0066 - val_loss: 0.0065 - val_mean_squared_error: 0.0065\n",
            "Epoch 45/100\n",
            "17/17 [==============================] - 0s 4ms/step - loss: 0.0080 - mean_squared_error: 0.0080 - val_loss: 0.0066 - val_mean_squared_error: 0.0066\n",
            "Epoch 46/100\n",
            "17/17 [==============================] - 0s 3ms/step - loss: 0.0065 - mean_squared_error: 0.0065 - val_loss: 0.0070 - val_mean_squared_error: 0.0070\n",
            "Epoch 47/100\n",
            "17/17 [==============================] - 0s 5ms/step - loss: 0.0074 - mean_squared_error: 0.0074 - val_loss: 0.0062 - val_mean_squared_error: 0.0062\n",
            "Epoch 48/100\n",
            "17/17 [==============================] - 0s 5ms/step - loss: 0.0075 - mean_squared_error: 0.0075 - val_loss: 0.0078 - val_mean_squared_error: 0.0078\n",
            "Epoch 49/100\n",
            "17/17 [==============================] - 0s 5ms/step - loss: 0.0078 - mean_squared_error: 0.0078 - val_loss: 0.0083 - val_mean_squared_error: 0.0083\n",
            "Epoch 50/100\n",
            "17/17 [==============================] - 0s 4ms/step - loss: 0.0073 - mean_squared_error: 0.0073 - val_loss: 0.0063 - val_mean_squared_error: 0.0063\n",
            "Epoch 51/100\n",
            "17/17 [==============================] - 0s 5ms/step - loss: 0.0064 - mean_squared_error: 0.0064 - val_loss: 0.0062 - val_mean_squared_error: 0.0062\n",
            "Epoch 52/100\n",
            "17/17 [==============================] - 0s 4ms/step - loss: 0.0069 - mean_squared_error: 0.0069 - val_loss: 0.0079 - val_mean_squared_error: 0.0079\n",
            "Epoch 53/100\n",
            "17/17 [==============================] - 0s 3ms/step - loss: 0.0071 - mean_squared_error: 0.0071 - val_loss: 0.0063 - val_mean_squared_error: 0.0063\n",
            "Epoch 54/100\n",
            "17/17 [==============================] - 0s 4ms/step - loss: 0.0081 - mean_squared_error: 0.0081 - val_loss: 0.0066 - val_mean_squared_error: 0.0066\n",
            "Epoch 55/100\n",
            "17/17 [==============================] - 0s 4ms/step - loss: 0.0069 - mean_squared_error: 0.0069 - val_loss: 0.0085 - val_mean_squared_error: 0.0085\n",
            "Epoch 56/100\n",
            "17/17 [==============================] - 0s 5ms/step - loss: 0.0074 - mean_squared_error: 0.0074 - val_loss: 0.0067 - val_mean_squared_error: 0.0067\n",
            "Epoch 57/100\n",
            "17/17 [==============================] - 0s 3ms/step - loss: 0.0098 - mean_squared_error: 0.0098 - val_loss: 0.0069 - val_mean_squared_error: 0.0069\n",
            "Epoch 58/100\n",
            "17/17 [==============================] - 0s 3ms/step - loss: 0.0065 - mean_squared_error: 0.0065 - val_loss: 0.0066 - val_mean_squared_error: 0.0066\n",
            "Epoch 59/100\n",
            "17/17 [==============================] - 0s 3ms/step - loss: 0.0066 - mean_squared_error: 0.0066 - val_loss: 0.0094 - val_mean_squared_error: 0.0094\n",
            "Epoch 60/100\n",
            "17/17 [==============================] - 0s 3ms/step - loss: 0.0085 - mean_squared_error: 0.0085 - val_loss: 0.0067 - val_mean_squared_error: 0.0067\n",
            "Epoch 61/100\n",
            "17/17 [==============================] - 0s 4ms/step - loss: 0.0073 - mean_squared_error: 0.0073 - val_loss: 0.0075 - val_mean_squared_error: 0.0075\n",
            "Epoch 62/100\n",
            "17/17 [==============================] - 0s 3ms/step - loss: 0.0073 - mean_squared_error: 0.0073 - val_loss: 0.0063 - val_mean_squared_error: 0.0063\n",
            "Epoch 63/100\n",
            "17/17 [==============================] - 0s 4ms/step - loss: 0.0057 - mean_squared_error: 0.0057 - val_loss: 0.0063 - val_mean_squared_error: 0.0063\n",
            "Epoch 64/100\n",
            "17/17 [==============================] - 0s 4ms/step - loss: 0.0060 - mean_squared_error: 0.0060 - val_loss: 0.0062 - val_mean_squared_error: 0.0062\n",
            "Epoch 65/100\n",
            "17/17 [==============================] - 0s 3ms/step - loss: 0.0079 - mean_squared_error: 0.0079 - val_loss: 0.0066 - val_mean_squared_error: 0.0066\n",
            "Epoch 66/100\n",
            "17/17 [==============================] - 0s 3ms/step - loss: 0.0077 - mean_squared_error: 0.0077 - val_loss: 0.0070 - val_mean_squared_error: 0.0070\n",
            "Epoch 67/100\n",
            "17/17 [==============================] - 0s 4ms/step - loss: 0.0086 - mean_squared_error: 0.0086 - val_loss: 0.0067 - val_mean_squared_error: 0.0067\n",
            "Epoch 68/100\n",
            "17/17 [==============================] - 0s 3ms/step - loss: 0.0070 - mean_squared_error: 0.0070 - val_loss: 0.0065 - val_mean_squared_error: 0.0065\n",
            "Epoch 69/100\n",
            "17/17 [==============================] - 0s 4ms/step - loss: 0.0074 - mean_squared_error: 0.0074 - val_loss: 0.0063 - val_mean_squared_error: 0.0063\n",
            "Epoch 70/100\n",
            "17/17 [==============================] - 0s 5ms/step - loss: 0.0060 - mean_squared_error: 0.0060 - val_loss: 0.0075 - val_mean_squared_error: 0.0075\n",
            "Epoch 71/100\n",
            "17/17 [==============================] - 0s 4ms/step - loss: 0.0082 - mean_squared_error: 0.0082 - val_loss: 0.0061 - val_mean_squared_error: 0.0061\n",
            "Epoch 72/100\n",
            "17/17 [==============================] - 0s 3ms/step - loss: 0.0072 - mean_squared_error: 0.0072 - val_loss: 0.0063 - val_mean_squared_error: 0.0063\n",
            "Epoch 73/100\n",
            "17/17 [==============================] - 0s 3ms/step - loss: 0.0072 - mean_squared_error: 0.0072 - val_loss: 0.0064 - val_mean_squared_error: 0.0064\n",
            "Epoch 74/100\n",
            "17/17 [==============================] - 0s 5ms/step - loss: 0.0072 - mean_squared_error: 0.0072 - val_loss: 0.0067 - val_mean_squared_error: 0.0067\n",
            "Epoch 75/100\n",
            "17/17 [==============================] - 0s 3ms/step - loss: 0.0071 - mean_squared_error: 0.0071 - val_loss: 0.0065 - val_mean_squared_error: 0.0065\n",
            "Epoch 76/100\n",
            "17/17 [==============================] - 0s 5ms/step - loss: 0.0065 - mean_squared_error: 0.0065 - val_loss: 0.0068 - val_mean_squared_error: 0.0068\n",
            "Epoch 77/100\n",
            "17/17 [==============================] - 0s 3ms/step - loss: 0.0072 - mean_squared_error: 0.0072 - val_loss: 0.0075 - val_mean_squared_error: 0.0075\n",
            "Epoch 78/100\n",
            "17/17 [==============================] - 0s 4ms/step - loss: 0.0098 - mean_squared_error: 0.0098 - val_loss: 0.0062 - val_mean_squared_error: 0.0062\n",
            "Epoch 79/100\n",
            "17/17 [==============================] - 0s 3ms/step - loss: 0.0064 - mean_squared_error: 0.0064 - val_loss: 0.0062 - val_mean_squared_error: 0.0062\n",
            "Epoch 80/100\n",
            "17/17 [==============================] - 0s 3ms/step - loss: 0.0066 - mean_squared_error: 0.0066 - val_loss: 0.0066 - val_mean_squared_error: 0.0066\n",
            "Epoch 81/100\n",
            "17/17 [==============================] - 0s 5ms/step - loss: 0.0064 - mean_squared_error: 0.0064 - val_loss: 0.0072 - val_mean_squared_error: 0.0072\n",
            "Epoch 82/100\n",
            "17/17 [==============================] - 0s 4ms/step - loss: 0.0064 - mean_squared_error: 0.0064 - val_loss: 0.0063 - val_mean_squared_error: 0.0063\n",
            "Epoch 83/100\n",
            "17/17 [==============================] - 0s 3ms/step - loss: 0.0062 - mean_squared_error: 0.0062 - val_loss: 0.0065 - val_mean_squared_error: 0.0065\n",
            "Epoch 84/100\n",
            "17/17 [==============================] - 0s 3ms/step - loss: 0.0071 - mean_squared_error: 0.0071 - val_loss: 0.0062 - val_mean_squared_error: 0.0062\n",
            "Epoch 85/100\n",
            "17/17 [==============================] - 0s 4ms/step - loss: 0.0065 - mean_squared_error: 0.0065 - val_loss: 0.0060 - val_mean_squared_error: 0.0060\n",
            "Epoch 86/100\n",
            "17/17 [==============================] - 0s 3ms/step - loss: 0.0063 - mean_squared_error: 0.0063 - val_loss: 0.0061 - val_mean_squared_error: 0.0061\n",
            "Epoch 87/100\n",
            "17/17 [==============================] - 0s 4ms/step - loss: 0.0059 - mean_squared_error: 0.0059 - val_loss: 0.0068 - val_mean_squared_error: 0.0068\n",
            "Epoch 88/100\n",
            "17/17 [==============================] - 0s 3ms/step - loss: 0.0071 - mean_squared_error: 0.0071 - val_loss: 0.0073 - val_mean_squared_error: 0.0073\n",
            "Epoch 89/100\n",
            "17/17 [==============================] - 0s 4ms/step - loss: 0.0059 - mean_squared_error: 0.0059 - val_loss: 0.0062 - val_mean_squared_error: 0.0062\n",
            "Epoch 90/100\n",
            "17/17 [==============================] - 0s 5ms/step - loss: 0.0072 - mean_squared_error: 0.0072 - val_loss: 0.0061 - val_mean_squared_error: 0.0061\n",
            "Epoch 91/100\n",
            "17/17 [==============================] - 0s 3ms/step - loss: 0.0068 - mean_squared_error: 0.0068 - val_loss: 0.0071 - val_mean_squared_error: 0.0071\n",
            "Epoch 92/100\n",
            "17/17 [==============================] - 0s 4ms/step - loss: 0.0068 - mean_squared_error: 0.0068 - val_loss: 0.0071 - val_mean_squared_error: 0.0071\n",
            "Epoch 93/100\n",
            "17/17 [==============================] - 0s 4ms/step - loss: 0.0069 - mean_squared_error: 0.0069 - val_loss: 0.0063 - val_mean_squared_error: 0.0063\n",
            "Epoch 94/100\n",
            "17/17 [==============================] - 0s 3ms/step - loss: 0.0069 - mean_squared_error: 0.0069 - val_loss: 0.0065 - val_mean_squared_error: 0.0065\n",
            "Epoch 95/100\n",
            "17/17 [==============================] - 0s 4ms/step - loss: 0.0068 - mean_squared_error: 0.0068 - val_loss: 0.0074 - val_mean_squared_error: 0.0074\n",
            "Epoch 96/100\n",
            "17/17 [==============================] - 0s 4ms/step - loss: 0.0066 - mean_squared_error: 0.0066 - val_loss: 0.0061 - val_mean_squared_error: 0.0061\n",
            "Epoch 97/100\n",
            "17/17 [==============================] - 0s 4ms/step - loss: 0.0064 - mean_squared_error: 0.0064 - val_loss: 0.0061 - val_mean_squared_error: 0.0061\n",
            "Epoch 98/100\n",
            "17/17 [==============================] - 0s 4ms/step - loss: 0.0079 - mean_squared_error: 0.0079 - val_loss: 0.0077 - val_mean_squared_error: 0.0077\n",
            "Epoch 99/100\n",
            "17/17 [==============================] - 0s 4ms/step - loss: 0.0077 - mean_squared_error: 0.0077 - val_loss: 0.0068 - val_mean_squared_error: 0.0068\n",
            "Epoch 100/100\n",
            "17/17 [==============================] - 0s 3ms/step - loss: 0.0061 - mean_squared_error: 0.0061 - val_loss: 0.0063 - val_mean_squared_error: 0.0063\n"
          ],
          "name": "stdout"
        }
      ]
    },
    {
      "cell_type": "code",
      "metadata": {
        "id": "bVU1kBHR6U3n"
      },
      "source": [
        "y_pr=model.predict(X_)"
      ],
      "id": "bVU1kBHR6U3n",
      "execution_count": null,
      "outputs": []
    },
    {
      "cell_type": "code",
      "metadata": {
        "id": "D_YUU1BhNkq5",
        "colab": {
          "base_uri": "https://localhost:8080/"
        },
        "outputId": "5bd4bef1-30ad-4211-8ddf-3d2dd6380ac6"
      },
      "source": [
        ""
      ],
      "id": "D_YUU1BhNkq5",
      "execution_count": null,
      "outputs": [
        {
          "output_type": "stream",
          "text": [
            "WARNING:tensorflow:5 out of the last 13 calls to <function Model.make_predict_function.<locals>.predict_function at 0x7f4bca0f27a0> triggered tf.function retracing. Tracing is expensive and the excessive number of tracings could be due to (1) creating @tf.function repeatedly in a loop, (2) passing tensors with different shapes, (3) passing Python objects instead of tensors. For (1), please define your @tf.function outside of the loop. For (2), @tf.function has experimental_relax_shapes=True option that relaxes argument shapes that can avoid unnecessary retracing. For (3), please refer to https://www.tensorflow.org/guide/function#controlling_retracing and https://www.tensorflow.org/api_docs/python/tf/function for  more details.\n"
          ],
          "name": "stdout"
        }
      ]
    },
    {
      "cell_type": "code",
      "metadata": {
        "id": "vr-s528r_jIB"
      },
      "source": [
        ""
      ],
      "id": "vr-s528r_jIB",
      "execution_count": null,
      "outputs": []
    },
    {
      "cell_type": "code",
      "metadata": {
        "id": "BPBblZyR6eIp"
      },
      "source": [
        "y_pr=scaler.inverse_transform(y_pr)"
      ],
      "id": "BPBblZyR6eIp",
      "execution_count": null,
      "outputs": []
    },
    {
      "cell_type": "code",
      "metadata": {
        "id": "PR4Eng_Ao_5g"
      },
      "source": [
        ""
      ],
      "id": "PR4Eng_Ao_5g",
      "execution_count": null,
      "outputs": []
    },
    {
      "cell_type": "code",
      "metadata": {
        "colab": {
          "base_uri": "https://localhost:8080/"
        },
        "id": "lPy9i6DipEQD",
        "outputId": "37ff2a43-8609-44e2-9bfe-28f8703a422a"
      },
      "source": [
        "y_pr"
      ],
      "id": "lPy9i6DipEQD",
      "execution_count": null,
      "outputs": [
        {
          "output_type": "execute_result",
          "data": {
            "text/plain": [
              "array([[ 52432.473  ],\n",
              "       [ 51431.367  ],\n",
              "       [ 45505.137  ],\n",
              "       [ 82611.42   ],\n",
              "       [ 87497.27   ],\n",
              "       [103438.516  ],\n",
              "       [ 69145.734  ],\n",
              "       [ 42115.88   ],\n",
              "       [ 96868.75   ],\n",
              "       [121285.586  ],\n",
              "       [ 54218.734  ],\n",
              "       [ 72125.1    ],\n",
              "       [ 29330.639  ],\n",
              "       [  3684.0059 ],\n",
              "       [ 79607.49   ],\n",
              "       [ 69299.73   ],\n",
              "       [ 71886.76   ],\n",
              "       [ 67170.38   ],\n",
              "       [ 36755.492  ],\n",
              "       [  5924.9404 ],\n",
              "       [ 52910.035  ],\n",
              "       [ 64654.527  ],\n",
              "       [ 76410.38   ],\n",
              "       [ 47703.008  ],\n",
              "       [ 57907.42   ],\n",
              "       [ 68765.68   ],\n",
              "       [ 23063.178  ],\n",
              "       [  -910.99536],\n",
              "       [105730.7    ],\n",
              "       [ 86836.2    ],\n",
              "       [ 86876.6    ],\n",
              "       [ 34721.97   ],\n",
              "       [  3791.4402 ],\n",
              "       [ 88036.97   ],\n",
              "       [ 92628.63   ],\n",
              "       [ 58164.855  ],\n",
              "       [ 51604.17   ],\n",
              "       [ 33367.727  ],\n",
              "       [ 87730.45   ],\n",
              "       [ 85112.3    ],\n",
              "       [ 83455.08   ],\n",
              "       [114125.82   ],\n",
              "       [117514.59   ],\n",
              "       [ 46255.91   ],\n",
              "       [ 57907.168  ],\n",
              "       [ 25747.     ],\n",
              "       [ 57617.324  ],\n",
              "       [ 76919.95   ],\n",
              "       [ 72322.95   ],\n",
              "       [137594.73   ],\n",
              "       [ 24527.242  ],\n",
              "       [ 44365.477  ],\n",
              "       [ 61903.297  ],\n",
              "       [ 36259.223  ],\n",
              "       [ 61558.297  ],\n",
              "       [ 84056.03   ],\n",
              "       [  2204.1265 ],\n",
              "       [ 77758.07   ],\n",
              "       [ 99238.21   ],\n",
              "       [ 38193.023  ],\n",
              "       [108947.44   ],\n",
              "       [ 79352.79   ],\n",
              "       [ 90236.32   ],\n",
              "       [134255.86   ],\n",
              "       [ 49482.492  ],\n",
              "       [ 72627.26   ],\n",
              "       [ 51288.02   ],\n",
              "       [109778.47   ],\n",
              "       [114886.555  ],\n",
              "       [ 49865.832  ],\n",
              "       [ 49609.754  ],\n",
              "       [ 24310.65   ],\n",
              "       [114354.25   ],\n",
              "       [ 30243.938  ],\n",
              "       [ 55912.645  ],\n",
              "       [ 68858.92   ],\n",
              "       [ 59691.934  ],\n",
              "       [ 82205.15   ],\n",
              "       [  7475.444  ],\n",
              "       [ 60143.44   ],\n",
              "       [ 73826.234  ],\n",
              "       [ 52901.086  ],\n",
              "       [  8852.145  ],\n",
              "       [ 77410.305  ],\n",
              "       [ 80412.914  ],\n",
              "       [147177.34   ],\n",
              "       [ 66981.34   ],\n",
              "       [110855.26   ],\n",
              "       [106638.79   ],\n",
              "       [ 81048.125  ],\n",
              "       [ 72530.664  ],\n",
              "       [ 71715.4    ],\n",
              "       [ 99598.805  ],\n",
              "       [ 43997.473  ],\n",
              "       [ 14481.826  ],\n",
              "       [ 59441.047  ],\n",
              "       [111416.56   ],\n",
              "       [ 88483.5    ],\n",
              "       [ 86511.8    ],\n",
              "       [ 28877.545  ],\n",
              "       [ 66912.484  ],\n",
              "       [110272.88   ],\n",
              "       [142290.02   ],\n",
              "       [ 68096.375  ],\n",
              "       [116740.     ],\n",
              "       [ 47473.914  ],\n",
              "       [ 10780.224  ],\n",
              "       [114224.12   ],\n",
              "       [ 98237.35   ],\n",
              "       [166474.53   ],\n",
              "       [125342.73   ],\n",
              "       [ 32495.492  ],\n",
              "       [ 28792.943  ],\n",
              "       [146393.02   ],\n",
              "       [118292.64   ],\n",
              "       [126607.33   ],\n",
              "       [136698.42   ],\n",
              "       [122234.71   ],\n",
              "       [122538.805  ],\n",
              "       [ 80038.58   ],\n",
              "       [107448.44   ],\n",
              "       [159858.27   ],\n",
              "       [119636.84   ],\n",
              "       [145236.19   ],\n",
              "       [ 73682.33   ],\n",
              "       [127238.555  ]], dtype=float32)"
            ]
          },
          "metadata": {
            "tags": []
          },
          "execution_count": 76
        }
      ]
    },
    {
      "cell_type": "code",
      "metadata": {
        "colab": {
          "base_uri": "https://localhost:8080/"
        },
        "id": "qVnmV1V5QByS",
        "outputId": "d3156d10-466d-47de-faa3-f0a5cf8d7949"
      },
      "source": [
        "y_"
      ],
      "id": "qVnmV1V5QByS",
      "execution_count": null,
      "outputs": [
        {
          "output_type": "execute_result",
          "data": {
            "text/plain": [
              "array([[ 62484.03],\n",
              "       [ 45289.92],\n",
              "       [ 95437.44],\n",
              "       [ 55735.08],\n",
              "       [ 86421.8 ],\n",
              "       [169704.71],\n",
              "       [ 15788.  ],\n",
              "       [ 93402.16],\n",
              "       [176747.02],\n",
              "       [ 32502.4 ],\n",
              "       [184596.28],\n",
              "       [134536.85],\n",
              "       [ 88538.89],\n",
              "       [229287.8 ],\n",
              "       [ 66133.39],\n",
              "       [130104.24],\n",
              "       [ 33965.63],\n",
              "       [150308.59],\n",
              "       [209836.47],\n",
              "       [ 41631.57],\n",
              "       [100081.2 ],\n",
              "       [ 53637.35],\n",
              "       [177199.56],\n",
              "       [ 28791.98],\n",
              "       [ 56282.45],\n",
              "       [ 72449.57],\n",
              "       [123026.81],\n",
              "       [125056.66],\n",
              "       [ 11276.  ],\n",
              "       [ 80566.49],\n",
              "       [120399.05],\n",
              "       [ 78081.9 ],\n",
              "       [  1154.  ],\n",
              "       [148213.68],\n",
              "       [ 99126.1 ],\n",
              "       [223445.37],\n",
              "       [119595.03],\n",
              "       [ 98708.05],\n",
              "       [189796.22],\n",
              "       [116284.92],\n",
              "       [129378.3 ],\n",
              "       [199174.66],\n",
              "       [107821.05],\n",
              "       [116983.  ],\n",
              "       [ 52330.2 ],\n",
              "       [ 45401.14],\n",
              "       [146179.99],\n",
              "       [144461.57],\n",
              "       [150804.58],\n",
              "       [ 33183.75],\n",
              "       [111854.06],\n",
              "       [170855.38],\n",
              "       [214339.31],\n",
              "       [100522.57],\n",
              "       [169657.57],\n",
              "       [106669.07],\n",
              "       [   825.  ],\n",
              "       [175095.83],\n",
              "       [114572.65],\n",
              "       [176344.04],\n",
              "       [148931.99],\n",
              "       [113512.26],\n",
              "       [  2500.  ],\n",
              "       [154596.71],\n",
              "       [238517.38],\n",
              "       [148232.92],\n",
              "       [206313.64],\n",
              "       [141749.03],\n",
              "       [187263.35],\n",
              "       [106125.24],\n",
              "       [136381.72],\n",
              "       [210099.11],\n",
              "       [119775.95],\n",
              "       [230699.43],\n",
              "       [112431.95],\n",
              "       [199708.63]])"
            ]
          },
          "metadata": {
            "tags": []
          },
          "execution_count": 139
        }
      ]
    },
    {
      "cell_type": "code",
      "metadata": {
        "colab": {
          "base_uri": "https://localhost:8080/"
        },
        "id": "vzsbP0FX6fPj",
        "outputId": "9391bdfd-0a7b-4a3c-b596-3bcfb167fdde"
      },
      "source": [
        " y_"
      ],
      "id": "vzsbP0FX6fPj",
      "execution_count": null,
      "outputs": [
        {
          "output_type": "execute_result",
          "data": {
            "text/plain": [
              "array([[1.1453421e+05],\n",
              "       [1.2741210e+05],\n",
              "       [1.2741210e+05],\n",
              "       [7.3107940e+04],\n",
              "       [1.0033570e+05],\n",
              "       [8.2920440e+04],\n",
              "       [3.6992000e+04],\n",
              "       [3.2600000e+02],\n",
              "       [8.6287170e+04],\n",
              "       [7.9380380e+04],\n",
              "       [1.0450901e+05],\n",
              "       [9.6828960e+04],\n",
              "       [1.0832711e+05],\n",
              "       [9.9625260e+04],\n",
              "       [7.6878350e+04],\n",
              "       [6.9089170e+04],\n",
              "       [1.2821029e+05],\n",
              "       [1.7741042e+05],\n",
              "       [6.8424710e+04],\n",
              "       [1.3040640e+05],\n",
              "       [4.1651850e+04],\n",
              "       [1.0295000e+02],\n",
              "       [1.2132892e+05],\n",
              "       [9.4156550e+04],\n",
              "       [9.3428490e+04],\n",
              "       [7.3106960e+04],\n",
              "       [6.2484030e+04],\n",
              "       [5.0088000e+04],\n",
              "       [4.5289920e+04],\n",
              "       [9.5437440e+04],\n",
              "       [1.0067486e+05],\n",
              "       [5.5735080e+04],\n",
              "       [8.6421800e+04],\n",
              "       [8.6421800e+04],\n",
              "       [4.1343950e+04],\n",
              "       [1.5788000e+04],\n",
              "       [1.2898555e+05],\n",
              "       [9.3402160e+04],\n",
              "       [1.7674702e+05],\n",
              "       [3.2502400e+04],\n",
              "       [5.5111850e+04],\n",
              "       [1.3304285e+05],\n",
              "       [8.8538890e+04],\n",
              "       [6.6133390e+04],\n",
              "       [6.7090810e+04]])"
            ]
          },
          "metadata": {
            "tags": []
          },
          "execution_count": 187
        }
      ]
    },
    {
      "cell_type": "code",
      "metadata": {
        "id": "-1zBoy1IO0xe"
      },
      "source": [
        "\n"
      ],
      "id": "-1zBoy1IO0xe",
      "execution_count": null,
      "outputs": []
    },
    {
      "cell_type": "code",
      "metadata": {
        "id": "QvtPGVI7O35v"
      },
      "source": [
        ""
      ],
      "id": "QvtPGVI7O35v",
      "execution_count": null,
      "outputs": []
    },
    {
      "cell_type": "code",
      "metadata": {
        "colab": {
          "base_uri": "https://localhost:8080/"
        },
        "id": "wWhPLscnNEQE",
        "outputId": "608109a6-87cd-414b-d154-835a10d84932"
      },
      "source": [
        "np.sqrt(mean_squared_error(y_,y_pr))"
      ],
      "id": "wWhPLscnNEQE",
      "execution_count": null,
      "outputs": [
        {
          "output_type": "execute_result",
          "data": {
            "text/plain": [
              "46269.56388243844"
            ]
          },
          "metadata": {
            "tags": []
          },
          "execution_count": 78
        }
      ]
    },
    {
      "cell_type": "code",
      "metadata": {
        "id": "sIEBmLUUM6X6",
        "colab": {
          "base_uri": "https://localhost:8080/",
          "height": 265
        },
        "outputId": "e098d994-6864-4817-f8f6-827ec636b4bb"
      },
      "source": [
        "plt.plot(y_pr)\n",
        "plt.show()"
      ],
      "id": "sIEBmLUUM6X6",
      "execution_count": null,
      "outputs": [
        {
          "output_type": "display_data",
          "data": {
            "image/png": "[encoded data removed]",
            "text/plain": [
              "<Figure size 432x288 with 1 Axes>"
            ]
          },
          "metadata": {
            "tags": [],
            "needs_background": "light"
          }
        }
      ]
    },
    {
      "cell_type": "code",
      "metadata": {
        "id": "btf1ksYpJfoD"
      },
      "source": [
        "y"
      ],
      "id": "btf1ksYpJfoD",
      "execution_count": null,
      "outputs": []
    },
    {
      "cell_type": "code",
      "metadata": {
        "id": "8Xnuqz1a6lWB"
      },
      "source": [
        "model.save('forecast_nueral_fs.h5')"
      ],
      "id": "8Xnuqz1a6lWB",
      "execution_count": null,
      "outputs": []
    },
    {
      "cell_type": "code",
      "metadata": {
        "id": "-qHqKktjlWWM"
      },
      "source": [
        "loading_3=load_model('forecast_nueral_fs.h5')"
      ],
      "id": "-qHqKktjlWWM",
      "execution_count": null,
      "outputs": []
    },
    {
      "cell_type": "code",
      "metadata": {
        "id": "9of6eP8IlWRL"
      },
      "source": [
        "pr=loading_3.predict([[0.25017035, 0.59841874, 0.39976689, 0.70064452]])"
      ],
      "id": "9of6eP8IlWRL",
      "execution_count": null,
      "outputs": []
    },
    {
      "cell_type": "code",
      "metadata": {
        "colab": {
          "base_uri": "https://localhost:8080/"
        },
        "id": "peI15ctEtv9A",
        "outputId": "001251a1-d9ec-4303-9fc6-a0af659afe61"
      },
      "source": [
        "scaler.inverse_transform(pr)"
      ],
      "id": "peI15ctEtv9A",
      "execution_count": null,
      "outputs": [
        {
          "output_type": "execute_result",
          "data": {
            "text/plain": [
              "array([[69674.79]], dtype=float32)"
            ]
          },
          "metadata": {
            "tags": []
          },
          "execution_count": 73
        }
      ]
    },
    {
      "cell_type": "code",
      "metadata": {
        "colab": {
          "base_uri": "https://localhost:8080/"
        },
        "id": "lgcGjGsI6mV6",
        "outputId": "6b76091c-e6d6-41f2-b01f-6dea50576d0a"
      },
      "source": [
        "X_[40:50]"
      ],
      "id": "lgcGjGsI6mV6",
      "execution_count": null,
      "outputs": [
        {
          "output_type": "execute_result",
          "data": {
            "text/plain": [
              "array([[0.01468342, 0.00694429, 0.12743328, 0.        ],\n",
              "       [0.82016379, 1.        , 0.77304533, 0.51617891],\n",
              "       [0.49793805, 0.91404707, 0.61161885, 0.63505825],\n",
              "       [0.60776264, 0.48684928, 0.53719036, 0.70232676],\n",
              "       [0.04112142, 0.15544443, 0.49817451, 0.45687425],\n",
              "       [0.0462717 , 0.00254049, 0.        , 0.40621443],\n",
              "       [0.6969122 , 0.38912627, 0.71624789, 0.84779231],\n",
              "       [0.61978718, 0.64781259, 0.54293519, 0.80906391],\n",
              "       [0.29724454, 0.415307  , 0.36298704, 0.72769212],\n",
              "       [0.25017035, 0.59841874, 0.39976689, 0.70064452]])"
            ]
          },
          "metadata": {
            "tags": []
          },
          "execution_count": 70
        }
      ]
    },
    {
      "cell_type": "code",
      "metadata": {
        "colab": {
          "base_uri": "https://localhost:8080/"
        },
        "id": "PRsp2Pz1lTjv",
        "outputId": "1b0a0fb9-00e4-4a39-eeab-d3872f35e604"
      },
      "source": [
        "y_[40:50]"
      ],
      "id": "PRsp2Pz1lTjv",
      "execution_count": null,
      "outputs": [
        {
          "output_type": "execute_result",
          "data": {
            "text/plain": [
              "array([[ 15788.  ],\n",
              "       [128985.55],\n",
              "       [ 93402.16],\n",
              "       [176747.02],\n",
              "       [ 32502.4 ],\n",
              "       [ 55111.85],\n",
              "       [133042.85],\n",
              "       [ 88538.89],\n",
              "       [ 66133.39],\n",
              "       [ 67090.81]])"
            ]
          },
          "metadata": {
            "tags": []
          },
          "execution_count": 71
        }
      ]
    },
    {
      "cell_type": "code",
      "metadata": {
        "id": "_aowqm-WtOTG"
      },
      "source": [
        ""
      ],
      "id": "_aowqm-WtOTG",
      "execution_count": null,
      "outputs": []
    },
    {
      "cell_type": "code",
      "metadata": {
        "id": "pcIMfKIJtXNC"
      },
      "source": [
        ""
      ],
      "id": "pcIMfKIJtXNC",
      "execution_count": null,
      "outputs": []
    }
  ]
}