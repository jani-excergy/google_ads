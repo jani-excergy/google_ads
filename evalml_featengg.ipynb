{
 "cells": [
  {
   "cell_type": "code",
   "execution_count": 1,
   "metadata": {
    "id": "xRkHi5cDXMaM"
   },
   "outputs": [],
   "source": [
    "import pandas as pd\n",
    "import numpy as np\n",
    "import matplotlib.pyplot as plt\n",
    "import seaborn as sns"
   ]
  },
  {
   "cell_type": "code",
   "execution_count": 2,
   "metadata": {
    "colab": {
     "base_uri": "https://localhost:8080/"
    },
    "id": "XQv7vFZ7fZon",
    "outputId": "915dc200-beb7-4a46-9204-6c64e04ee11b"
   },
   "outputs": [
    {
     "name": "stdout",
     "output_type": "stream",
     "text": [
      "Requirement already satisfied: evalml in /usr/local/lib/python3.7/dist-packages (0.23.0)\n",
      "Requirement already satisfied: nlp-primitives>=1.1.0 in /usr/local/lib/python3.7/dist-packages (from evalml) (1.1.0)\n",
      "Requirement already satisfied: lightgbm<3.1.0,>=2.3.1 in /usr/local/lib/python3.7/dist-packages (from evalml) (3.0.0)\n",
      "Requirement already satisfied: sktime>=0.5.3; python_version < \"3.9\" in /usr/local/lib/python3.7/dist-packages (from evalml) (0.6.0)\n",
      "Requirement already satisfied: category-encoders>=2.0.0 in /usr/local/lib/python3.7/dist-packages (from evalml) (2.2.2)\n",
      "Requirement already satisfied: pandas>=1.1.0 in /usr/local/lib/python3.7/dist-packages (from evalml) (1.1.5)\n",
      "Requirement already satisfied: shap>=0.35.0 in /usr/local/lib/python3.7/dist-packages (from evalml) (0.39.0)\n",
      "Requirement already satisfied: numpy>=1.19.1 in /usr/local/lib/python3.7/dist-packages (from evalml) (1.19.5)\n",
      "Requirement already satisfied: scipy>=1.2.1 in /usr/local/lib/python3.7/dist-packages (from evalml) (1.4.1)\n",
      "Requirement already satisfied: networkx>=2.5 in /usr/local/lib/python3.7/dist-packages (from evalml) (2.5.1)\n",
      "Requirement already satisfied: imbalanced-learn>=0.7.0 in /usr/local/lib/python3.7/dist-packages (from evalml) (0.8.0)\n",
      "Requirement already satisfied: pyzmq<22.0.0 in /usr/local/lib/python3.7/dist-packages (from evalml) (21.0.2)\n",
      "Requirement already satisfied: matplotlib>=3.3.3 in /usr/local/lib/python3.7/dist-packages (from evalml) (3.4.1)\n",
      "Requirement already satisfied: ipywidgets>=7.5 in /usr/local/lib/python3.7/dist-packages (from evalml) (7.6.3)\n",
      "Requirement already satisfied: dask>=2.12.0 in /usr/local/lib/python3.7/dist-packages (from evalml) (2.12.0)\n",
      "Requirement already satisfied: featuretools>=0.20.0 in /usr/local/lib/python3.7/dist-packages (from evalml) (0.24.0)\n",
      "Requirement already satisfied: seaborn>=0.11.1 in /usr/local/lib/python3.7/dist-packages (from evalml) (0.11.1)\n",
      "Requirement already satisfied: plotly>=4.14.0 in /usr/local/lib/python3.7/dist-packages (from evalml) (4.14.3)\n",
      "Requirement already satisfied: colorama in /usr/local/lib/python3.7/dist-packages (from evalml) (0.4.4)\n",
      "Requirement already satisfied: click>=7.0.0 in /usr/local/lib/python3.7/dist-packages (from evalml) (7.1.2)\n",
      "Requirement already satisfied: cloudpickle>=0.2.2 in /usr/local/lib/python3.7/dist-packages (from evalml) (1.3.0)\n",
      "Requirement already satisfied: woodwork==0.0.11 in /usr/local/lib/python3.7/dist-packages (from evalml) (0.0.11)\n",
      "Requirement already satisfied: graphviz>=0.13 in /usr/local/lib/python3.7/dist-packages (from evalml) (0.16)\n",
      "Requirement already satisfied: kaleido>=0.1.0 in /usr/local/lib/python3.7/dist-packages (from evalml) (0.2.1)\n",
      "Requirement already satisfied: xgboost<1.3.0,>=0.82 in /usr/local/lib/python3.7/dist-packages (from evalml) (0.90)\n",
      "Requirement already satisfied: psutil>=5.6.3 in /usr/local/lib/python3.7/dist-packages (from evalml) (5.8.0)\n",
      "Requirement already satisfied: requirements-parser>=0.2.0 in /usr/local/lib/python3.7/dist-packages (from evalml) (0.2.0)\n",
      "Requirement already satisfied: catboost>=0.20 in /usr/local/lib/python3.7/dist-packages (from evalml) (0.25.1)\n",
      "Requirement already satisfied: statsmodels>=0.12.2 in /usr/local/lib/python3.7/dist-packages (from evalml) (0.12.2)\n",
      "Requirement already satisfied: texttable>=1.6.2 in /usr/local/lib/python3.7/dist-packages (from evalml) (1.6.3)\n",
      "Requirement already satisfied: scikit-learn>=0.23.1 in /usr/local/lib/python3.7/dist-packages (from evalml) (0.24.2)\n",
      "Requirement already satisfied: scikit-optimize>=0.8.1 in /usr/local/lib/python3.7/dist-packages (from evalml) (0.8.1)\n",
      "Requirement already satisfied: nltk>=3.4.5 in /usr/local/lib/python3.7/dist-packages (from nlp-primitives>=1.1.0->evalml) (3.6.2)\n",
      "Requirement already satisfied: numba>=0.50 in /usr/local/lib/python3.7/dist-packages (from sktime>=0.5.3; python_version < \"3.9\"->evalml) (0.51.2)\n",
      "Requirement already satisfied: wheel in /usr/local/lib/python3.7/dist-packages (from sktime>=0.5.3; python_version < \"3.9\"->evalml) (0.36.2)\n",
      "Requirement already satisfied: patsy>=0.5.1 in /usr/local/lib/python3.7/dist-packages (from category-encoders>=2.0.0->evalml) (0.5.1)\n",
      "Requirement already satisfied: python-dateutil>=2.7.3 in /usr/local/lib/python3.7/dist-packages (from pandas>=1.1.0->evalml) (2.8.1)\n",
      "Requirement already satisfied: pytz>=2017.2 in /usr/local/lib/python3.7/dist-packages (from pandas>=1.1.0->evalml) (2018.9)\n",
      "Requirement already satisfied: tqdm>4.25.0 in /usr/local/lib/python3.7/dist-packages (from shap>=0.35.0->evalml) (4.41.1)\n",
      "Requirement already satisfied: slicer==0.0.7 in /usr/local/lib/python3.7/dist-packages (from shap>=0.35.0->evalml) (0.0.7)\n",
      "Requirement already satisfied: decorator<5,>=4.3 in /usr/local/lib/python3.7/dist-packages (from networkx>=2.5->evalml) (4.4.2)\n",
      "Requirement already satisfied: joblib>=0.11 in /usr/local/lib/python3.7/dist-packages (from imbalanced-learn>=0.7.0->evalml) (1.0.1)\n",
      "Requirement already satisfied: pillow>=6.2.0 in /usr/local/lib/python3.7/dist-packages (from matplotlib>=3.3.3->evalml) (7.1.2)\n",
      "Requirement already satisfied: kiwisolver>=1.0.1 in /usr/local/lib/python3.7/dist-packages (from matplotlib>=3.3.3->evalml) (1.3.1)\n",
      "Requirement already satisfied: pyparsing>=2.2.1 in /usr/local/lib/python3.7/dist-packages (from matplotlib>=3.3.3->evalml) (2.4.7)\n",
      "Requirement already satisfied: cycler>=0.10 in /usr/local/lib/python3.7/dist-packages (from matplotlib>=3.3.3->evalml) (0.10.0)\n",
      "Requirement already satisfied: ipython>=4.0.0; python_version >= \"3.3\" in /usr/local/lib/python3.7/dist-packages (from ipywidgets>=7.5->evalml) (5.5.0)\n",
      "Requirement already satisfied: jupyterlab-widgets>=1.0.0; python_version >= \"3.6\" in /usr/local/lib/python3.7/dist-packages (from ipywidgets>=7.5->evalml) (1.0.0)\n",
      "Requirement already satisfied: traitlets>=4.3.1 in /usr/local/lib/python3.7/dist-packages (from ipywidgets>=7.5->evalml) (5.0.5)\n",
      "Requirement already satisfied: nbformat>=4.2.0 in /usr/local/lib/python3.7/dist-packages (from ipywidgets>=7.5->evalml) (5.1.3)\n",
      "Requirement already satisfied: ipykernel>=4.5.1 in /usr/local/lib/python3.7/dist-packages (from ipywidgets>=7.5->evalml) (4.10.1)\n",
      "Requirement already satisfied: widgetsnbextension~=3.5.0 in /usr/local/lib/python3.7/dist-packages (from ipywidgets>=7.5->evalml) (3.5.1)\n",
      "Requirement already satisfied: pyyaml>=3.12 in /usr/local/lib/python3.7/dist-packages (from featuretools>=0.20.0->evalml) (3.13)\n",
      "Requirement already satisfied: distributed>=2.12.0 in /usr/local/lib/python3.7/dist-packages (from featuretools>=0.20.0->evalml) (2021.4.1)\n",
      "Requirement already satisfied: six in /usr/local/lib/python3.7/dist-packages (from plotly>=4.14.0->evalml) (1.15.0)\n",
      "Requirement already satisfied: retrying>=1.3.3 in /usr/local/lib/python3.7/dist-packages (from plotly>=4.14.0->evalml) (1.3.3)\n",
      "Requirement already satisfied: threadpoolctl>=2.0.0 in /usr/local/lib/python3.7/dist-packages (from scikit-learn>=0.23.1->evalml) (2.1.0)\n",
      "Requirement already satisfied: pyaml>=16.9 in /usr/local/lib/python3.7/dist-packages (from scikit-optimize>=0.8.1->evalml) (20.4.0)\n",
      "Requirement already satisfied: regex in /usr/local/lib/python3.7/dist-packages (from nltk>=3.4.5->nlp-primitives>=1.1.0->evalml) (2019.12.20)\n",
      "Requirement already satisfied: setuptools in /usr/local/lib/python3.7/dist-packages (from numba>=0.50->sktime>=0.5.3; python_version < \"3.9\"->evalml) (56.0.0)\n",
      "Requirement already satisfied: llvmlite<0.35,>=0.34.0.dev0 in /usr/local/lib/python3.7/dist-packages (from numba>=0.50->sktime>=0.5.3; python_version < \"3.9\"->evalml) (0.34.0)\n",
      "Requirement already satisfied: pygments in /usr/local/lib/python3.7/dist-packages (from ipython>=4.0.0; python_version >= \"3.3\"->ipywidgets>=7.5->evalml) (2.6.1)\n",
      "Requirement already satisfied: pexpect; sys_platform != \"win32\" in /usr/local/lib/python3.7/dist-packages (from ipython>=4.0.0; python_version >= \"3.3\"->ipywidgets>=7.5->evalml) (4.8.0)\n",
      "Requirement already satisfied: pickleshare in /usr/local/lib/python3.7/dist-packages (from ipython>=4.0.0; python_version >= \"3.3\"->ipywidgets>=7.5->evalml) (0.7.5)\n",
      "Requirement already satisfied: prompt-toolkit<2.0.0,>=1.0.4 in /usr/local/lib/python3.7/dist-packages (from ipython>=4.0.0; python_version >= \"3.3\"->ipywidgets>=7.5->evalml) (1.0.18)\n",
      "Requirement already satisfied: simplegeneric>0.8 in /usr/local/lib/python3.7/dist-packages (from ipython>=4.0.0; python_version >= \"3.3\"->ipywidgets>=7.5->evalml) (0.8.1)\n",
      "Requirement already satisfied: ipython-genutils in /usr/local/lib/python3.7/dist-packages (from traitlets>=4.3.1->ipywidgets>=7.5->evalml) (0.2.0)\n",
      "Requirement already satisfied: jupyter-core in /usr/local/lib/python3.7/dist-packages (from nbformat>=4.2.0->ipywidgets>=7.5->evalml) (4.7.1)\n",
      "Requirement already satisfied: jsonschema!=2.5.0,>=2.4 in /usr/local/lib/python3.7/dist-packages (from nbformat>=4.2.0->ipywidgets>=7.5->evalml) (2.6.0)\n",
      "Requirement already satisfied: tornado>=4.0 in /usr/local/lib/python3.7/dist-packages (from ipykernel>=4.5.1->ipywidgets>=7.5->evalml) (5.1.1)\n",
      "Requirement already satisfied: jupyter-client in /usr/local/lib/python3.7/dist-packages (from ipykernel>=4.5.1->ipywidgets>=7.5->evalml) (5.3.5)\n",
      "Requirement already satisfied: notebook>=4.4.1 in /usr/local/lib/python3.7/dist-packages (from widgetsnbextension~=3.5.0->ipywidgets>=7.5->evalml) (5.3.1)\n",
      "Requirement already satisfied: msgpack>=0.6.0 in /usr/local/lib/python3.7/dist-packages (from distributed>=2.12.0->featuretools>=0.20.0->evalml) (1.0.2)\n",
      "Requirement already satisfied: tblib>=1.6.0 in /usr/local/lib/python3.7/dist-packages (from distributed>=2.12.0->featuretools>=0.20.0->evalml) (1.7.0)\n",
      "Requirement already satisfied: toolz>=0.8.2 in /usr/local/lib/python3.7/dist-packages (from distributed>=2.12.0->featuretools>=0.20.0->evalml) (0.11.1)\n",
      "Requirement already satisfied: zict>=0.1.3 in /usr/local/lib/python3.7/dist-packages (from distributed>=2.12.0->featuretools>=0.20.0->evalml) (2.0.0)\n",
      "Requirement already satisfied: sortedcontainers!=2.0.0,!=2.0.1 in /usr/local/lib/python3.7/dist-packages (from distributed>=2.12.0->featuretools>=0.20.0->evalml) (2.3.0)\n",
      "Requirement already satisfied: ptyprocess>=0.5 in /usr/local/lib/python3.7/dist-packages (from pexpect; sys_platform != \"win32\"->ipython>=4.0.0; python_version >= \"3.3\"->ipywidgets>=7.5->evalml) (0.7.0)\n",
      "Requirement already satisfied: wcwidth in /usr/local/lib/python3.7/dist-packages (from prompt-toolkit<2.0.0,>=1.0.4->ipython>=4.0.0; python_version >= \"3.3\"->ipywidgets>=7.5->evalml) (0.2.5)\n",
      "Requirement already satisfied: Send2Trash in /usr/local/lib/python3.7/dist-packages (from notebook>=4.4.1->widgetsnbextension~=3.5.0->ipywidgets>=7.5->evalml) (1.5.0)\n",
      "Requirement already satisfied: jinja2 in /usr/local/lib/python3.7/dist-packages (from notebook>=4.4.1->widgetsnbextension~=3.5.0->ipywidgets>=7.5->evalml) (2.11.3)\n",
      "Requirement already satisfied: terminado>=0.8.1 in /usr/local/lib/python3.7/dist-packages (from notebook>=4.4.1->widgetsnbextension~=3.5.0->ipywidgets>=7.5->evalml) (0.9.4)\n",
      "Requirement already satisfied: nbconvert in /usr/local/lib/python3.7/dist-packages (from notebook>=4.4.1->widgetsnbextension~=3.5.0->ipywidgets>=7.5->evalml) (5.6.1)\n",
      "Requirement already satisfied: heapdict in /usr/local/lib/python3.7/dist-packages (from zict>=0.1.3->distributed>=2.12.0->featuretools>=0.20.0->evalml) (1.0.1)\n",
      "Requirement already satisfied: MarkupSafe>=0.23 in /usr/local/lib/python3.7/dist-packages (from jinja2->notebook>=4.4.1->widgetsnbextension~=3.5.0->ipywidgets>=7.5->evalml) (1.1.1)\n",
      "Requirement already satisfied: pandocfilters>=1.4.1 in /usr/local/lib/python3.7/dist-packages (from nbconvert->notebook>=4.4.1->widgetsnbextension~=3.5.0->ipywidgets>=7.5->evalml) (1.4.3)\n",
      "Requirement already satisfied: mistune<2,>=0.8.1 in /usr/local/lib/python3.7/dist-packages (from nbconvert->notebook>=4.4.1->widgetsnbextension~=3.5.0->ipywidgets>=7.5->evalml) (0.8.4)\n",
      "Requirement already satisfied: testpath in /usr/local/lib/python3.7/dist-packages (from nbconvert->notebook>=4.4.1->widgetsnbextension~=3.5.0->ipywidgets>=7.5->evalml) (0.4.4)\n",
      "Requirement already satisfied: entrypoints>=0.2.2 in /usr/local/lib/python3.7/dist-packages (from nbconvert->notebook>=4.4.1->widgetsnbextension~=3.5.0->ipywidgets>=7.5->evalml) (0.3)\n",
      "Requirement already satisfied: defusedxml in /usr/local/lib/python3.7/dist-packages (from nbconvert->notebook>=4.4.1->widgetsnbextension~=3.5.0->ipywidgets>=7.5->evalml) (0.7.1)\n",
      "Requirement already satisfied: bleach in /usr/local/lib/python3.7/dist-packages (from nbconvert->notebook>=4.4.1->widgetsnbextension~=3.5.0->ipywidgets>=7.5->evalml) (3.3.0)\n",
      "Requirement already satisfied: webencodings in /usr/local/lib/python3.7/dist-packages (from bleach->nbconvert->notebook>=4.4.1->widgetsnbextension~=3.5.0->ipywidgets>=7.5->evalml) (0.5.1)\n",
      "Requirement already satisfied: packaging in /usr/local/lib/python3.7/dist-packages (from bleach->nbconvert->notebook>=4.4.1->widgetsnbextension~=3.5.0->ipywidgets>=7.5->evalml) (20.9)\n"
     ]
    }
   ],
   "source": [
    "!pip install evalml\n"
   ]
  },
  {
   "cell_type": "code",
   "execution_count": 3,
   "metadata": {
    "id": "4fD5ObnrZvw8"
   },
   "outputs": [],
   "source": [
    "df=pd.read_excel('final_feat.xlsx')"
   ]
  },
  {
   "cell_type": "code",
   "execution_count": 28,
   "metadata": {
    "id": "lLgaIitRZ2FA"
   },
   "outputs": [],
   "source": [
    "df1=df[['Completed Jobs','TMAX','Avg Sales','tech_count','Income_y']]"
   ]
  },
  {
   "cell_type": "code",
   "execution_count": 29,
   "metadata": {
    "id": "7bbud0wzbSIm"
   },
   "outputs": [],
   "source": [
    "df1=df1.drop_duplicates(ignore_index=True)"
   ]
  },
  {
   "cell_type": "code",
   "execution_count": 45,
   "metadata": {
    "id": "uXq97ysahxCy"
   },
   "outputs": [],
   "source": [
    "\n",
    "df1['f1']=np.sqrt(df1['Completed Jobs']**3)*np.abs(df1['Avg Sales'])\n",
    "df1['f2']=np.abs(np.sqrt(df1['Completed Jobs']) - np.sqrt(df1['tech_count']))\n",
    "df1['f3']=np.log(np.sqrt(df1['Completed Jobs'])*df1['TMAX']**3)"
   ]
  },
  {
   "cell_type": "code",
   "execution_count": 53,
   "metadata": {
    "colab": {
     "base_uri": "https://localhost:8080/"
    },
    "id": "jmArwoN-ifrf",
    "outputId": "137d7fcc-9a84-466c-bb8e-6deb59ecf966"
   },
   "outputs": [
    {
     "data": {
      "text/plain": [
       "Index(['Completed Jobs', 'TMAX', 'Avg Sales', 'tech_count', 'Income_y', 'f1',\n",
       "       'f2', 'f3'],\n",
       "      dtype='object')"
      ]
     },
     "execution_count": 53,
     "metadata": {
      "tags": []
     },
     "output_type": "execute_result"
    }
   ],
   "source": [
    "df1.columns"
   ]
  },
  {
   "cell_type": "code",
   "execution_count": 54,
   "metadata": {
    "id": "U32F9sYOh4f3"
   },
   "outputs": [],
   "source": [
    "df2=df1[['Income_y', 'f1',\n",
    "       'f2', 'f3']]"
   ]
  },
  {
   "cell_type": "code",
   "execution_count": 55,
   "metadata": {
    "id": "Z95Yxne9jj5I"
   },
   "outputs": [],
   "source": [
    "train=df2[0:300]\n",
    "test=df2[300:]"
   ]
  },
  {
   "cell_type": "code",
   "execution_count": 56,
   "metadata": {
    "id": "mNPGI0F6jn9n"
   },
   "outputs": [],
   "source": [
    "y=train['Income_y']\n",
    "X=train.drop(['Income_y'],axis=1)"
   ]
  },
  {
   "cell_type": "code",
   "execution_count": 57,
   "metadata": {
    "colab": {
     "base_uri": "https://localhost:8080/"
    },
    "id": "C4ZGPcrckIsC",
    "outputId": "fdc49764-3c8a-4062-be0a-c0fa781b790d"
   },
   "outputs": [
    {
     "name": "stdout",
     "output_type": "stream",
     "text": [
      "Requirement already satisfied: fsspec in /usr/local/lib/python3.7/dist-packages (2021.4.0)\n"
     ]
    }
   ],
   "source": [
    "!pip install fsspec"
   ]
  },
  {
   "cell_type": "code",
   "execution_count": 16,
   "metadata": {
    "colab": {
     "base_uri": "https://localhost:8080/"
    },
    "id": "sql3rxhfk1ou",
    "outputId": "142d94da-5a56-4976-ea38-57ae74db8c59"
   },
   "outputs": [
    {
     "name": "stdout",
     "output_type": "stream",
     "text": [
      "Requirement already up-to-date: dask in /usr/local/lib/python3.7/dist-packages (2021.4.1)\n",
      "Requirement already up-to-date: distributed in /usr/local/lib/python3.7/dist-packages (2021.4.1)\n",
      "Requirement already satisfied, skipping upgrade: pyyaml in /usr/local/lib/python3.7/dist-packages (from dask) (3.13)\n",
      "Requirement already satisfied, skipping upgrade: toolz>=0.8.2 in /usr/local/lib/python3.7/dist-packages (from dask) (0.11.1)\n",
      "Requirement already satisfied, skipping upgrade: partd>=0.3.10 in /usr/local/lib/python3.7/dist-packages (from dask) (1.2.0)\n",
      "Requirement already satisfied, skipping upgrade: fsspec>=0.6.0 in /usr/local/lib/python3.7/dist-packages (from dask) (2021.4.0)\n",
      "Requirement already satisfied, skipping upgrade: cloudpickle>=1.1.1 in /usr/local/lib/python3.7/dist-packages (from dask) (1.3.0)\n",
      "Requirement already satisfied, skipping upgrade: sortedcontainers!=2.0.0,!=2.0.1 in /usr/local/lib/python3.7/dist-packages (from distributed) (2.3.0)\n",
      "Requirement already satisfied, skipping upgrade: zict>=0.1.3 in /usr/local/lib/python3.7/dist-packages (from distributed) (2.0.0)\n",
      "Requirement already satisfied, skipping upgrade: click>=6.6 in /usr/local/lib/python3.7/dist-packages (from distributed) (7.1.2)\n",
      "Requirement already satisfied, skipping upgrade: tblib>=1.6.0 in /usr/local/lib/python3.7/dist-packages (from distributed) (1.7.0)\n",
      "Requirement already satisfied, skipping upgrade: psutil>=5.0 in /usr/local/lib/python3.7/dist-packages (from distributed) (5.8.0)\n",
      "Requirement already satisfied, skipping upgrade: setuptools in /usr/local/lib/python3.7/dist-packages (from distributed) (56.0.0)\n",
      "Requirement already satisfied, skipping upgrade: tornado>=5; python_version < \"3.8\" in /usr/local/lib/python3.7/dist-packages (from distributed) (5.1.1)\n",
      "Requirement already satisfied, skipping upgrade: msgpack>=0.6.0 in /usr/local/lib/python3.7/dist-packages (from distributed) (1.0.2)\n",
      "Requirement already satisfied, skipping upgrade: locket in /usr/local/lib/python3.7/dist-packages (from partd>=0.3.10->dask) (0.2.1)\n",
      "Requirement already satisfied, skipping upgrade: heapdict in /usr/local/lib/python3.7/dist-packages (from zict>=0.1.3->distributed) (1.0.1)\n"
     ]
    }
   ],
   "source": [
    "!pip install dask distributed --upgrade"
   ]
  },
  {
   "cell_type": "code",
   "execution_count": 17,
   "metadata": {
    "id": "xgSpuvOmiSSN"
   },
   "outputs": [],
   "source": [
    "import evalml\n"
   ]
  },
  {
   "cell_type": "code",
   "execution_count": 58,
   "metadata": {
    "colab": {
     "base_uri": "https://localhost:8080/",
     "height": 407
    },
    "id": "Cj0NXO2jacFZ",
    "outputId": "00b68b78-1c8f-46eb-a8a0-40ff46a56bfd"
   },
   "outputs": [
    {
     "data": {
      "text/html": [
       "<div>\n",
       "<style scoped>\n",
       "    .dataframe tbody tr th:only-of-type {\n",
       "        vertical-align: middle;\n",
       "    }\n",
       "\n",
       "    .dataframe tbody tr th {\n",
       "        vertical-align: top;\n",
       "    }\n",
       "\n",
       "    .dataframe thead th {\n",
       "        text-align: right;\n",
       "    }\n",
       "</style>\n",
       "<table border=\"1\" class=\"dataframe\">\n",
       "  <thead>\n",
       "    <tr style=\"text-align: right;\">\n",
       "      <th></th>\n",
       "      <th>f1</th>\n",
       "      <th>f2</th>\n",
       "      <th>f3</th>\n",
       "    </tr>\n",
       "  </thead>\n",
       "  <tbody>\n",
       "    <tr>\n",
       "      <th>0</th>\n",
       "      <td>1.556733e+06</td>\n",
       "      <td>0.131311</td>\n",
       "      <td>14.544687</td>\n",
       "    </tr>\n",
       "    <tr>\n",
       "      <th>1</th>\n",
       "      <td>1.203606e+06</td>\n",
       "      <td>2.450409</td>\n",
       "      <td>14.959942</td>\n",
       "    </tr>\n",
       "    <tr>\n",
       "      <th>2</th>\n",
       "      <td>1.873234e+05</td>\n",
       "      <td>2.833623</td>\n",
       "      <td>14.705986</td>\n",
       "    </tr>\n",
       "    <tr>\n",
       "      <th>3</th>\n",
       "      <td>1.243361e+04</td>\n",
       "      <td>0.550510</td>\n",
       "      <td>13.598199</td>\n",
       "    </tr>\n",
       "    <tr>\n",
       "      <th>4</th>\n",
       "      <td>1.135194e+06</td>\n",
       "      <td>0.798037</td>\n",
       "      <td>15.176646</td>\n",
       "    </tr>\n",
       "    <tr>\n",
       "      <th>...</th>\n",
       "      <td>...</td>\n",
       "      <td>...</td>\n",
       "      <td>...</td>\n",
       "    </tr>\n",
       "    <tr>\n",
       "      <th>295</th>\n",
       "      <td>1.446820e+06</td>\n",
       "      <td>3.710831</td>\n",
       "      <td>15.328614</td>\n",
       "    </tr>\n",
       "    <tr>\n",
       "      <th>296</th>\n",
       "      <td>2.203351e+06</td>\n",
       "      <td>2.723805</td>\n",
       "      <td>14.895628</td>\n",
       "    </tr>\n",
       "    <tr>\n",
       "      <th>297</th>\n",
       "      <td>1.580055e+06</td>\n",
       "      <td>4.609796</td>\n",
       "      <td>14.638705</td>\n",
       "    </tr>\n",
       "    <tr>\n",
       "      <th>298</th>\n",
       "      <td>5.043050e+05</td>\n",
       "      <td>2.947962</td>\n",
       "      <td>14.032067</td>\n",
       "    </tr>\n",
       "    <tr>\n",
       "      <th>299</th>\n",
       "      <td>2.752002e+04</td>\n",
       "      <td>1.014612</td>\n",
       "      <td>13.554403</td>\n",
       "    </tr>\n",
       "  </tbody>\n",
       "</table>\n",
       "<p>300 rows × 3 columns</p>\n",
       "</div>"
      ],
      "text/plain": [
       "               f1        f2         f3\n",
       "0    1.556733e+06  0.131311  14.544687\n",
       "1    1.203606e+06  2.450409  14.959942\n",
       "2    1.873234e+05  2.833623  14.705986\n",
       "3    1.243361e+04  0.550510  13.598199\n",
       "4    1.135194e+06  0.798037  15.176646\n",
       "..            ...       ...        ...\n",
       "295  1.446820e+06  3.710831  15.328614\n",
       "296  2.203351e+06  2.723805  14.895628\n",
       "297  1.580055e+06  4.609796  14.638705\n",
       "298  5.043050e+05  2.947962  14.032067\n",
       "299  2.752002e+04  1.014612  13.554403\n",
       "\n",
       "[300 rows x 3 columns]"
      ]
     },
     "execution_count": 58,
     "metadata": {
      "tags": []
     },
     "output_type": "execute_result"
    }
   ],
   "source": [
    "X"
   ]
  },
  {
   "cell_type": "code",
   "execution_count": 59,
   "metadata": {
    "id": "dt6ZDL4LmEto"
   },
   "outputs": [],
   "source": [
    "X_train, X_test, y_train, y_test = evalml.preprocessing.split_data(X, y, problem_type='regression')\n"
   ]
  },
  {
   "cell_type": "code",
   "execution_count": 60,
   "metadata": {
    "colab": {
     "base_uri": "https://localhost:8080/",
     "height": 1000,
     "referenced_widgets": [
      "134babfa5f00415194b0c01c88637806"
     ]
    },
    "id": "zoLAY7F_mP8i",
    "outputId": "5b31c742-ec47-46bd-fa1f-637c7a766404"
   },
   "outputs": [
    {
     "name": "stdout",
     "output_type": "stream",
     "text": [
      "Using default limit of max_batches=1.\n",
      "\n",
      "Generating pipelines to search over...\n",
      "\n",
      "*****************************\n",
      "* Beginning pipeline search *\n",
      "*****************************\n",
      "\n",
      "Optimizing for R2. \n",
      "Greater score is better.\n",
      "\n",
      "Using SequentialEngine to train and score pipelines.\n",
      "Searching up to 1 batches for a total of 9 pipelines. \n",
      "Allowed model families: random_forest, catboost, lightgbm, xgboost, extra_trees, decision_tree, linear_model\n",
      "\n"
     ]
    },
    {
     "data": {
      "application/vnd.jupyter.widget-view+json": {
       "model_id": "134babfa5f00415194b0c01c88637806",
       "version_major": 2,
       "version_minor": 0
      },
      "text/plain": [
       "FigureWidget({\n",
       "    'data': [{'mode': 'lines+markers',\n",
       "              'name': 'Best Score',\n",
       "              'type'…"
      ]
     },
     "metadata": {
      "tags": []
     },
     "output_type": "display_data"
    },
    {
     "name": "stdout",
     "output_type": "stream",
     "text": [
      "Evaluating Baseline Pipeline: Mean Baseline Regression Pipeline\n",
      "Mean Baseline Regression Pipeline:\n",
      "\tStarting cross validation\n",
      "\tFinished cross validation - mean R2: -0.017\n",
      "\tHigh coefficient of variation (cv >= 0.2) within cross validation scores.\n",
      "\tMean Baseline Regression Pipeline may not perform as estimated on unseen data.\n",
      "\n",
      "*****************************\n",
      "* Evaluating Batch Number 1 *\n",
      "*****************************\n",
      "\n",
      "Decision Tree Regressor w/ Imputer:\n",
      "\tStarting cross validation\n",
      "\tFinished cross validation - mean R2: 0.509\n",
      "[19:42:44] WARNING: /workspace/src/objective/regression_obj.cu:152: reg:linear is now deprecated in favor of reg:squarederror.\n",
      "[19:42:44] WARNING: /workspace/src/objective/regression_obj.cu:152: reg:linear is now deprecated in favor of reg:squarederror.\n",
      "[19:42:44] WARNING: /workspace/src/objective/regression_obj.cu:152: reg:linear is now deprecated in favor of reg:squarederror.\n",
      "XGBoost Regressor w/ Imputer:\n",
      "\tStarting cross validation\n",
      "\tFinished cross validation - mean R2: 0.545\n",
      "Random Forest Regressor w/ Imputer:\n",
      "\tStarting cross validation\n",
      "\tFinished cross validation - mean R2: 0.657\n",
      "Linear Regressor w/ Imputer + Standard Scaler:\n",
      "\tStarting cross validation\n",
      "\tFinished cross validation - mean R2: 0.661\n",
      "Extra Trees Regressor w/ Imputer:\n",
      "\tStarting cross validation\n",
      "\tFinished cross validation - mean R2: 0.662\n",
      "LightGBM Regressor w/ Imputer:\n",
      "\tStarting cross validation\n",
      "\tFinished cross validation - mean R2: 0.653\n",
      "CatBoost Regressor w/ Imputer:\n",
      "\tStarting cross validation\n",
      "\tFinished cross validation - mean R2: 0.236\n",
      "Elastic Net Regressor w/ Imputer + Standard Scaler:\n",
      "\tStarting cross validation\n",
      "\tFinished cross validation - mean R2: 0.659\n",
      "\n",
      "Search finished after 00:04            \n",
      "Best pipeline: Extra Trees Regressor w/ Imputer\n",
      "Best pipeline R2: 0.661622\n"
     ]
    }
   ],
   "source": [
    "\n",
    "from evalml.automl import AutoMLSearch\n",
    "automl = AutoMLSearch(X_train=X_train, y_train=y_train, problem_type='regression')\n",
    "automl.search()"
   ]
  },
  {
   "cell_type": "code",
   "execution_count": 61,
   "metadata": {
    "colab": {
     "base_uri": "https://localhost:8080/",
     "height": 684
    },
    "id": "RNo88uj4mXIx",
    "outputId": "8f5a70b0-dd9f-4395-9b75-c64a09ac90a3"
   },
   "outputs": [
    {
     "data": {
      "text/html": [
       "<div>\n",
       "<style scoped>\n",
       "    .dataframe tbody tr th:only-of-type {\n",
       "        vertical-align: middle;\n",
       "    }\n",
       "\n",
       "    .dataframe tbody tr th {\n",
       "        vertical-align: top;\n",
       "    }\n",
       "\n",
       "    .dataframe thead th {\n",
       "        text-align: right;\n",
       "    }\n",
       "</style>\n",
       "<table border=\"1\" class=\"dataframe\">\n",
       "  <thead>\n",
       "    <tr style=\"text-align: right;\">\n",
       "      <th></th>\n",
       "      <th>id</th>\n",
       "      <th>pipeline_name</th>\n",
       "      <th>mean_cv_score</th>\n",
       "      <th>standard_deviation_cv_score</th>\n",
       "      <th>validation_score</th>\n",
       "      <th>percent_better_than_baseline</th>\n",
       "      <th>high_variance_cv</th>\n",
       "      <th>parameters</th>\n",
       "    </tr>\n",
       "  </thead>\n",
       "  <tbody>\n",
       "    <tr>\n",
       "      <th>0</th>\n",
       "      <td>5</td>\n",
       "      <td>Extra Trees Regressor w/ Imputer</td>\n",
       "      <td>0.661622</td>\n",
       "      <td>0.050655</td>\n",
       "      <td>0.627533</td>\n",
       "      <td>4039.221800</td>\n",
       "      <td>False</td>\n",
       "      <td>{'Imputer': {'categorical_impute_strategy': 'm...</td>\n",
       "    </tr>\n",
       "    <tr>\n",
       "      <th>1</th>\n",
       "      <td>4</td>\n",
       "      <td>Linear Regressor w/ Imputer + Standard Scaler</td>\n",
       "      <td>0.660635</td>\n",
       "      <td>0.085277</td>\n",
       "      <td>0.618821</td>\n",
       "      <td>4033.346129</td>\n",
       "      <td>False</td>\n",
       "      <td>{'Imputer': {'categorical_impute_strategy': 'm...</td>\n",
       "    </tr>\n",
       "    <tr>\n",
       "      <th>2</th>\n",
       "      <td>8</td>\n",
       "      <td>Elastic Net Regressor w/ Imputer + Standard Sc...</td>\n",
       "      <td>0.658905</td>\n",
       "      <td>0.065904</td>\n",
       "      <td>0.616914</td>\n",
       "      <td>4023.048173</td>\n",
       "      <td>False</td>\n",
       "      <td>{'Imputer': {'categorical_impute_strategy': 'm...</td>\n",
       "    </tr>\n",
       "    <tr>\n",
       "      <th>3</th>\n",
       "      <td>3</td>\n",
       "      <td>Random Forest Regressor w/ Imputer</td>\n",
       "      <td>0.656945</td>\n",
       "      <td>0.041997</td>\n",
       "      <td>0.641447</td>\n",
       "      <td>4011.380280</td>\n",
       "      <td>False</td>\n",
       "      <td>{'Imputer': {'categorical_impute_strategy': 'm...</td>\n",
       "    </tr>\n",
       "    <tr>\n",
       "      <th>4</th>\n",
       "      <td>6</td>\n",
       "      <td>LightGBM Regressor w/ Imputer</td>\n",
       "      <td>0.652779</td>\n",
       "      <td>0.031083</td>\n",
       "      <td>0.637179</td>\n",
       "      <td>3986.572395</td>\n",
       "      <td>False</td>\n",
       "      <td>{'Imputer': {'categorical_impute_strategy': 'm...</td>\n",
       "    </tr>\n",
       "    <tr>\n",
       "      <th>5</th>\n",
       "      <td>2</td>\n",
       "      <td>XGBoost Regressor w/ Imputer</td>\n",
       "      <td>0.545340</td>\n",
       "      <td>0.012163</td>\n",
       "      <td>0.553978</td>\n",
       "      <td>3346.892899</td>\n",
       "      <td>False</td>\n",
       "      <td>{'Imputer': {'categorical_impute_strategy': 'm...</td>\n",
       "    </tr>\n",
       "    <tr>\n",
       "      <th>6</th>\n",
       "      <td>1</td>\n",
       "      <td>Decision Tree Regressor w/ Imputer</td>\n",
       "      <td>0.508509</td>\n",
       "      <td>0.072174</td>\n",
       "      <td>0.441946</td>\n",
       "      <td>3127.608461</td>\n",
       "      <td>False</td>\n",
       "      <td>{'Imputer': {'categorical_impute_strategy': 'm...</td>\n",
       "    </tr>\n",
       "    <tr>\n",
       "      <th>7</th>\n",
       "      <td>7</td>\n",
       "      <td>CatBoost Regressor w/ Imputer</td>\n",
       "      <td>0.236377</td>\n",
       "      <td>0.004594</td>\n",
       "      <td>0.241195</td>\n",
       "      <td>1507.361933</td>\n",
       "      <td>False</td>\n",
       "      <td>{'Imputer': {'categorical_impute_strategy': 'm...</td>\n",
       "    </tr>\n",
       "    <tr>\n",
       "      <th>8</th>\n",
       "      <td>0</td>\n",
       "      <td>Mean Baseline Regression Pipeline</td>\n",
       "      <td>-0.016796</td>\n",
       "      <td>0.014729</td>\n",
       "      <td>-0.000863</td>\n",
       "      <td>0.000000</td>\n",
       "      <td>True</td>\n",
       "      <td>{'Baseline Regressor': {'strategy': 'mean'}}</td>\n",
       "    </tr>\n",
       "  </tbody>\n",
       "</table>\n",
       "</div>"
      ],
      "text/plain": [
       "   id  ...                                         parameters\n",
       "0   5  ...  {'Imputer': {'categorical_impute_strategy': 'm...\n",
       "1   4  ...  {'Imputer': {'categorical_impute_strategy': 'm...\n",
       "2   8  ...  {'Imputer': {'categorical_impute_strategy': 'm...\n",
       "3   3  ...  {'Imputer': {'categorical_impute_strategy': 'm...\n",
       "4   6  ...  {'Imputer': {'categorical_impute_strategy': 'm...\n",
       "5   2  ...  {'Imputer': {'categorical_impute_strategy': 'm...\n",
       "6   1  ...  {'Imputer': {'categorical_impute_strategy': 'm...\n",
       "7   7  ...  {'Imputer': {'categorical_impute_strategy': 'm...\n",
       "8   0  ...       {'Baseline Regressor': {'strategy': 'mean'}}\n",
       "\n",
       "[9 rows x 8 columns]"
      ]
     },
     "execution_count": 61,
     "metadata": {
      "tags": []
     },
     "output_type": "execute_result"
    }
   ],
   "source": [
    "automl.rankings\n"
   ]
  },
  {
   "cell_type": "code",
   "execution_count": 62,
   "metadata": {
    "colab": {
     "base_uri": "https://localhost:8080/"
    },
    "id": "eyQPuUE-moFY",
    "outputId": "061c2275-6e39-4fb0-97ae-28b2b2b536c7"
   },
   "outputs": [
    {
     "data": {
      "text/plain": [
       "GeneratedPipeline(parameters={'Imputer':{'categorical_impute_strategy': 'most_frequent', 'numeric_impute_strategy': 'mean', 'categorical_fill_value': None, 'numeric_fill_value': None}, 'Extra Trees Regressor':{'n_estimators': 100, 'max_features': 'auto', 'max_depth': 6, 'min_samples_split': 2, 'min_weight_fraction_leaf': 0.0, 'n_jobs': -1},})"
      ]
     },
     "execution_count": 62,
     "metadata": {
      "tags": []
     },
     "output_type": "execute_result"
    }
   ],
   "source": [
    "automl.best_pipeline\n"
   ]
  },
  {
   "cell_type": "code",
   "execution_count": 63,
   "metadata": {
    "colab": {
     "base_uri": "https://localhost:8080/"
    },
    "id": "X1XFLeD3n0D3",
    "outputId": "f2705170-d734-47a0-c2c8-143acf2bae5e"
   },
   "outputs": [
    {
     "name": "stdout",
     "output_type": "stream",
     "text": [
      "\n",
      "************************************\n",
      "* Extra Trees Regressor w/ Imputer *\n",
      "************************************\n",
      "\n",
      "Problem Type: regression\n",
      "Model Family: Extra Trees\n",
      "\n",
      "Pipeline Steps\n",
      "==============\n",
      "1. Imputer\n",
      "\t * categorical_impute_strategy : most_frequent\n",
      "\t * numeric_impute_strategy : mean\n",
      "\t * categorical_fill_value : None\n",
      "\t * numeric_fill_value : None\n",
      "2. Extra Trees Regressor\n",
      "\t * n_estimators : 100\n",
      "\t * max_features : auto\n",
      "\t * max_depth : 6\n",
      "\t * min_samples_split : 2\n",
      "\t * min_weight_fraction_leaf : 0.0\n",
      "\t * n_jobs : -1\n",
      "\n",
      "Training\n",
      "========\n",
      "Training for regression problems.\n",
      "Total training time (including CV): 0.8 seconds\n",
      "\n",
      "Cross Validation\n",
      "----------------\n",
      "               R2  ExpVariance   MaxError  MedianAE            MSE       MAE  Root Mean Squared Error # Training # Validation\n",
      "0           0.628        0.629 190227.404 22200.182 1812457537.029 29411.788                42572.967        160           80\n",
      "1           0.720        0.723 106532.830 17084.288 1246609720.634 26327.764                35307.361        160           80\n",
      "2           0.638        0.645 101451.291 30782.702 1571916749.368 32251.274                39647.405        160           80\n",
      "mean        0.662        0.666 132737.175 23355.724 1543661335.677 29330.275                39175.911          -            -\n",
      "std         0.051        0.050  49852.787  6921.928  283980129.819  2962.596                 3655.679          -            -\n",
      "coef of var 0.077        0.075      0.376     0.296          0.184     0.101                    0.093          -            -\n"
     ]
    }
   ],
   "source": [
    "automl.describe_pipeline(automl.rankings.iloc[0][\"id\"])\n"
   ]
  },
  {
   "cell_type": "code",
   "execution_count": 63,
   "metadata": {
    "id": "YDlbMjxSn3U1"
   },
   "outputs": [],
   "source": []
  },
  {
   "cell_type": "code",
   "execution_count": 64,
   "metadata": {
    "id": "M5QM1nuVo3Aa"
   },
   "outputs": [],
   "source": [
    "y_=test['Income_y']\n",
    "X_=test.drop(['Income_y'],axis=1)"
   ]
  },
  {
   "cell_type": "code",
   "execution_count": 65,
   "metadata": {
    "id": "cjov9KgJpNG9"
   },
   "outputs": [],
   "source": [
    "best_pipeline=automl.best_pipeline\n"
   ]
  },
  {
   "cell_type": "code",
   "execution_count": 66,
   "metadata": {
    "colab": {
     "base_uri": "https://localhost:8080/",
     "height": 1000
    },
    "id": "aGPrAUlabHrK",
    "outputId": "ac0c65ea-fd4e-4523-f0c0-58e4b9819c32"
   },
   "outputs": [
    {
     "data": {
      "text/html": [
       "<div>\n",
       "<style scoped>\n",
       "    .dataframe tbody tr th:only-of-type {\n",
       "        vertical-align: middle;\n",
       "    }\n",
       "\n",
       "    .dataframe tbody tr th {\n",
       "        vertical-align: top;\n",
       "    }\n",
       "\n",
       "    .dataframe thead th {\n",
       "        text-align: right;\n",
       "    }\n",
       "</style>\n",
       "<table border=\"1\" class=\"dataframe\">\n",
       "  <thead>\n",
       "    <tr style=\"text-align: right;\">\n",
       "      <th></th>\n",
       "      <th>f1</th>\n",
       "      <th>f2</th>\n",
       "      <th>f3</th>\n",
       "    </tr>\n",
       "  </thead>\n",
       "  <tbody>\n",
       "    <tr>\n",
       "      <th>300</th>\n",
       "      <td>1.868345e+06</td>\n",
       "      <td>4.290656</td>\n",
       "      <td>14.784169</td>\n",
       "    </tr>\n",
       "    <tr>\n",
       "      <th>301</th>\n",
       "      <td>1.827381e+06</td>\n",
       "      <td>3.635273</td>\n",
       "      <td>15.267597</td>\n",
       "    </tr>\n",
       "    <tr>\n",
       "      <th>302</th>\n",
       "      <td>1.592383e+06</td>\n",
       "      <td>3.321237</td>\n",
       "      <td>15.253261</td>\n",
       "    </tr>\n",
       "    <tr>\n",
       "      <th>303</th>\n",
       "      <td>2.051410e+06</td>\n",
       "      <td>2.496180</td>\n",
       "      <td>14.861992</td>\n",
       "    </tr>\n",
       "    <tr>\n",
       "      <th>304</th>\n",
       "      <td>2.096939e+06</td>\n",
       "      <td>4.687567</td>\n",
       "      <td>14.899957</td>\n",
       "    </tr>\n",
       "    <tr>\n",
       "      <th>305</th>\n",
       "      <td>4.726621e+05</td>\n",
       "      <td>3.157004</td>\n",
       "      <td>14.815144</td>\n",
       "    </tr>\n",
       "    <tr>\n",
       "      <th>306</th>\n",
       "      <td>3.260000e+02</td>\n",
       "      <td>1.828427</td>\n",
       "      <td>13.292450</td>\n",
       "    </tr>\n",
       "    <tr>\n",
       "      <th>307</th>\n",
       "      <td>8.963362e+05</td>\n",
       "      <td>3.154202</td>\n",
       "      <td>15.624170</td>\n",
       "    </tr>\n",
       "    <tr>\n",
       "      <th>308</th>\n",
       "      <td>1.443645e+06</td>\n",
       "      <td>3.099505</td>\n",
       "      <td>15.264951</td>\n",
       "    </tr>\n",
       "    <tr>\n",
       "      <th>309</th>\n",
       "      <td>8.360290e+05</td>\n",
       "      <td>2.275236</td>\n",
       "      <td>14.701497</td>\n",
       "    </tr>\n",
       "    <tr>\n",
       "      <th>310</th>\n",
       "      <td>2.631463e+06</td>\n",
       "      <td>1.693376</td>\n",
       "      <td>14.269537</td>\n",
       "    </tr>\n",
       "    <tr>\n",
       "      <th>311</th>\n",
       "      <td>1.664826e+06</td>\n",
       "      <td>3.853229</td>\n",
       "      <td>14.754715</td>\n",
       "    </tr>\n",
       "    <tr>\n",
       "      <th>312</th>\n",
       "      <td>1.797997e+06</td>\n",
       "      <td>3.582671</td>\n",
       "      <td>15.087662</td>\n",
       "    </tr>\n",
       "    <tr>\n",
       "      <th>313</th>\n",
       "      <td>1.710289e+06</td>\n",
       "      <td>3.689512</td>\n",
       "      <td>14.850142</td>\n",
       "    </tr>\n",
       "    <tr>\n",
       "      <th>314</th>\n",
       "      <td>1.060428e+06</td>\n",
       "      <td>2.681146</td>\n",
       "      <td>14.561931</td>\n",
       "    </tr>\n",
       "    <tr>\n",
       "      <th>315</th>\n",
       "      <td>2.307286e+06</td>\n",
       "      <td>2.934129</td>\n",
       "      <td>14.746778</td>\n",
       "    </tr>\n",
       "    <tr>\n",
       "      <th>316</th>\n",
       "      <td>1.664964e+06</td>\n",
       "      <td>5.301576</td>\n",
       "      <td>15.205476</td>\n",
       "    </tr>\n",
       "    <tr>\n",
       "      <th>317</th>\n",
       "      <td>9.560642e+05</td>\n",
       "      <td>2.517849</td>\n",
       "      <td>15.070214</td>\n",
       "    </tr>\n",
       "    <tr>\n",
       "      <th>318</th>\n",
       "      <td>1.582841e+06</td>\n",
       "      <td>3.605982</td>\n",
       "      <td>15.265124</td>\n",
       "    </tr>\n",
       "    <tr>\n",
       "      <th>319</th>\n",
       "      <td>4.104062e+05</td>\n",
       "      <td>2.613014</td>\n",
       "      <td>14.837269</td>\n",
       "    </tr>\n",
       "    <tr>\n",
       "      <th>320</th>\n",
       "      <td>1.861674e+04</td>\n",
       "      <td>0.670873</td>\n",
       "      <td>13.986987</td>\n",
       "    </tr>\n",
       "    <tr>\n",
       "      <th>321</th>\n",
       "      <td>1.987676e+06</td>\n",
       "      <td>2.059821</td>\n",
       "      <td>15.248139</td>\n",
       "    </tr>\n",
       "    <tr>\n",
       "      <th>322</th>\n",
       "      <td>1.236809e+06</td>\n",
       "      <td>3.375336</td>\n",
       "      <td>15.202464</td>\n",
       "    </tr>\n",
       "    <tr>\n",
       "      <th>323</th>\n",
       "      <td>7.310533e+05</td>\n",
       "      <td>3.971075</td>\n",
       "      <td>15.284184</td>\n",
       "    </tr>\n",
       "    <tr>\n",
       "      <th>324</th>\n",
       "      <td>6.153458e+05</td>\n",
       "      <td>4.594316</td>\n",
       "      <td>15.765824</td>\n",
       "    </tr>\n",
       "    <tr>\n",
       "      <th>325</th>\n",
       "      <td>3.875316e+05</td>\n",
       "      <td>3.055220</td>\n",
       "      <td>15.367611</td>\n",
       "    </tr>\n",
       "    <tr>\n",
       "      <th>326</th>\n",
       "      <td>1.032667e+04</td>\n",
       "      <td>1.316625</td>\n",
       "      <td>14.021101</td>\n",
       "    </tr>\n",
       "    <tr>\n",
       "      <th>327</th>\n",
       "      <td>1.050155e+06</td>\n",
       "      <td>2.925527</td>\n",
       "      <td>15.531422</td>\n",
       "    </tr>\n",
       "    <tr>\n",
       "      <th>328</th>\n",
       "      <td>1.316357e+06</td>\n",
       "      <td>3.443695</td>\n",
       "      <td>15.202464</td>\n",
       "    </tr>\n",
       "    <tr>\n",
       "      <th>329</th>\n",
       "      <td>1.670629e+06</td>\n",
       "      <td>2.942646</td>\n",
       "      <td>15.169127</td>\n",
       "    </tr>\n",
       "    <tr>\n",
       "      <th>330</th>\n",
       "      <td>9.419731e+05</td>\n",
       "      <td>1.923619</td>\n",
       "      <td>15.247630</td>\n",
       "    </tr>\n",
       "    <tr>\n",
       "      <th>331</th>\n",
       "      <td>1.294027e+06</td>\n",
       "      <td>2.483296</td>\n",
       "      <td>14.473813</td>\n",
       "    </tr>\n",
       "    <tr>\n",
       "      <th>332</th>\n",
       "      <td>1.294027e+06</td>\n",
       "      <td>2.483296</td>\n",
       "      <td>14.815646</td>\n",
       "    </tr>\n",
       "    <tr>\n",
       "      <th>333</th>\n",
       "      <td>2.215646e+05</td>\n",
       "      <td>3.173558</td>\n",
       "      <td>13.914542</td>\n",
       "    </tr>\n",
       "    <tr>\n",
       "      <th>334</th>\n",
       "      <td>1.916438e+04</td>\n",
       "      <td>1.080557</td>\n",
       "      <td>12.771671</td>\n",
       "    </tr>\n",
       "    <tr>\n",
       "      <th>335</th>\n",
       "      <td>2.713112e+06</td>\n",
       "      <td>4.203688</td>\n",
       "      <td>14.317189</td>\n",
       "    </tr>\n",
       "    <tr>\n",
       "      <th>336</th>\n",
       "      <td>2.479940e+06</td>\n",
       "      <td>3.422792</td>\n",
       "      <td>14.673132</td>\n",
       "    </tr>\n",
       "    <tr>\n",
       "      <th>337</th>\n",
       "      <td>1.321044e+06</td>\n",
       "      <td>3.062746</td>\n",
       "      <td>14.874545</td>\n",
       "    </tr>\n",
       "    <tr>\n",
       "      <th>338</th>\n",
       "      <td>4.220134e+05</td>\n",
       "      <td>2.874008</td>\n",
       "      <td>14.139622</td>\n",
       "    </tr>\n",
       "    <tr>\n",
       "      <th>339</th>\n",
       "      <td>7.217802e+03</td>\n",
       "      <td>0.464102</td>\n",
       "      <td>13.987939</td>\n",
       "    </tr>\n",
       "    <tr>\n",
       "      <th>340</th>\n",
       "      <td>1.055942e+06</td>\n",
       "      <td>3.928932</td>\n",
       "      <td>15.310091</td>\n",
       "    </tr>\n",
       "    <tr>\n",
       "      <th>341</th>\n",
       "      <td>1.757703e+06</td>\n",
       "      <td>3.090537</td>\n",
       "      <td>15.194132</td>\n",
       "    </tr>\n",
       "    <tr>\n",
       "      <th>342</th>\n",
       "      <td>1.126965e+06</td>\n",
       "      <td>2.220042</td>\n",
       "      <td>14.950492</td>\n",
       "    </tr>\n",
       "    <tr>\n",
       "      <th>343</th>\n",
       "      <td>1.623708e+06</td>\n",
       "      <td>2.397964</td>\n",
       "      <td>14.869508</td>\n",
       "    </tr>\n",
       "  </tbody>\n",
       "</table>\n",
       "</div>"
      ],
      "text/plain": [
       "               f1        f2         f3\n",
       "300  1.868345e+06  4.290656  14.784169\n",
       "301  1.827381e+06  3.635273  15.267597\n",
       "302  1.592383e+06  3.321237  15.253261\n",
       "303  2.051410e+06  2.496180  14.861992\n",
       "304  2.096939e+06  4.687567  14.899957\n",
       "305  4.726621e+05  3.157004  14.815144\n",
       "306  3.260000e+02  1.828427  13.292450\n",
       "307  8.963362e+05  3.154202  15.624170\n",
       "308  1.443645e+06  3.099505  15.264951\n",
       "309  8.360290e+05  2.275236  14.701497\n",
       "310  2.631463e+06  1.693376  14.269537\n",
       "311  1.664826e+06  3.853229  14.754715\n",
       "312  1.797997e+06  3.582671  15.087662\n",
       "313  1.710289e+06  3.689512  14.850142\n",
       "314  1.060428e+06  2.681146  14.561931\n",
       "315  2.307286e+06  2.934129  14.746778\n",
       "316  1.664964e+06  5.301576  15.205476\n",
       "317  9.560642e+05  2.517849  15.070214\n",
       "318  1.582841e+06  3.605982  15.265124\n",
       "319  4.104062e+05  2.613014  14.837269\n",
       "320  1.861674e+04  0.670873  13.986987\n",
       "321  1.987676e+06  2.059821  15.248139\n",
       "322  1.236809e+06  3.375336  15.202464\n",
       "323  7.310533e+05  3.971075  15.284184\n",
       "324  6.153458e+05  4.594316  15.765824\n",
       "325  3.875316e+05  3.055220  15.367611\n",
       "326  1.032667e+04  1.316625  14.021101\n",
       "327  1.050155e+06  2.925527  15.531422\n",
       "328  1.316357e+06  3.443695  15.202464\n",
       "329  1.670629e+06  2.942646  15.169127\n",
       "330  9.419731e+05  1.923619  15.247630\n",
       "331  1.294027e+06  2.483296  14.473813\n",
       "332  1.294027e+06  2.483296  14.815646\n",
       "333  2.215646e+05  3.173558  13.914542\n",
       "334  1.916438e+04  1.080557  12.771671\n",
       "335  2.713112e+06  4.203688  14.317189\n",
       "336  2.479940e+06  3.422792  14.673132\n",
       "337  1.321044e+06  3.062746  14.874545\n",
       "338  4.220134e+05  2.874008  14.139622\n",
       "339  7.217802e+03  0.464102  13.987939\n",
       "340  1.055942e+06  3.928932  15.310091\n",
       "341  1.757703e+06  3.090537  15.194132\n",
       "342  1.126965e+06  2.220042  14.950492\n",
       "343  1.623708e+06  2.397964  14.869508"
      ]
     },
     "execution_count": 66,
     "metadata": {
      "tags": []
     },
     "output_type": "execute_result"
    }
   ],
   "source": [
    "X_"
   ]
  },
  {
   "cell_type": "code",
   "execution_count": 67,
   "metadata": {
    "colab": {
     "base_uri": "https://localhost:8080/"
    },
    "id": "ewePF5puo9QP",
    "outputId": "c8897815-c48e-416b-fdae-741dd3024ead"
   },
   "outputs": [
    {
     "data": {
      "text/plain": [
       "OrderedDict([('MSE', 894093581.646812), ('MAE', 23485.941838602)])"
      ]
     },
     "execution_count": 67,
     "metadata": {
      "tags": []
     },
     "output_type": "execute_result"
    }
   ],
   "source": [
    "best_pipeline.score(X_, y_, objectives=[\"mse\",\"mae\"])\n"
   ]
  },
  {
   "cell_type": "code",
   "execution_count": 69,
   "metadata": {
    "colab": {
     "base_uri": "https://localhost:8080/"
    },
    "id": "D--7LXddpyJd",
    "outputId": "f058fd7f-4dc2-4709-8197-d3324bf3e5aa"
   },
   "outputs": [
    {
     "data": {
      "text/plain": [
       "29901.397653735385"
      ]
     },
     "execution_count": 69,
     "metadata": {
      "tags": []
     },
     "output_type": "execute_result"
    }
   ],
   "source": [
    "np.sqrt(894093581.646812)"
   ]
  },
  {
   "cell_type": "code",
   "execution_count": 44,
   "metadata": {
    "id": "o5e6LTOQpJcX"
   },
   "outputs": [],
   "source": []
  },
  {
   "cell_type": "code",
   "execution_count": null,
   "metadata": {
    "id": "n87U0hFtpSfM"
   },
   "outputs": [],
   "source": []
  }
 ],
 "metadata": {
  "accelerator": "GPU",
  "colab": {
   "name": "evalml_featengg.ipynb",
   "provenance": []
  },
  "kernelspec": {
   "display_name": "Python 3",
   "language": "python",
   "name": "python3"
  },
  "language_info": {
   "codemirror_mode": {
    "name": "ipython",
    "version": 3
   },
   "file_extension": ".py",
   "mimetype": "text/x-python",
   "name": "python",
   "nbconvert_exporter": "python",
   "pygments_lexer": "ipython3",
   "version": "3.7.3"
  },
  "widgets": {
   "application/vnd.jupyter.widget-state+json": {
    "134babfa5f00415194b0c01c88637806": {
     "model_module": "plotlywidget",
     "model_name": "FigureModel",
     "state": {
      "_config": {
       "plotlyServerURL": "https://plot.ly"
      },
      "_data": [
       {
        "mode": "lines+markers",
        "name": "Best Score",
        "type": "scatter",
        "uid": "7941738b-2805-4f20-81f3-dd5998e92315",
        "x": [],
        "y": []
       },
       {
        "marker": {
         "color": "gray"
        },
        "mode": "markers",
        "name": "Iter score",
        "type": "scatter",
        "uid": "dd31890b-4220-47d0-9437-b9d4e232695e",
        "x": [],
        "y": []
       }
      ],
      "_dom_classes": [],
      "_js2py_layoutDelta": {},
      "_js2py_pointsCallback": {},
      "_js2py_relayout": {},
      "_js2py_restyle": {},
      "_js2py_traceDeltas": {},
      "_js2py_update": {},
      "_last_layout_edit_id": 37,
      "_last_trace_edit_id": 37,
      "_layout": {
       "title": {
        "text": "Pipeline Search: Iteration vs. R2<br><sub>Gray marker indicates the score at current iteration</sub>"
       },
       "xaxis": {
        "rangemode": "tozero",
        "title": {
         "text": "Iteration"
        }
       },
       "yaxis": {
        "title": {
         "text": "Score"
        }
       }
      },
      "_model_module": "plotlywidget",
      "_model_module_version": "^4.14.3",
      "_model_name": "FigureModel",
      "_py2js_addTraces": {},
      "_py2js_animate": {},
      "_py2js_deleteTraces": {},
      "_py2js_moveTraces": {},
      "_py2js_relayout": null,
      "_py2js_removeLayoutProps": {},
      "_py2js_removeTraceProps": {},
      "_py2js_restyle": null,
      "_py2js_update": null,
      "_view_count": 0,
      "_view_module": "plotlywidget",
      "_view_module_version": "^4.14.3",
      "_view_name": "FigureView"
     }
    }
   }
  }
 },
 "nbformat": 4,
 "nbformat_minor": 1
}
