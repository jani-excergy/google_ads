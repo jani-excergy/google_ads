{
 "cells": [
  {
   "cell_type": "code",
   "execution_count": 1,
   "id": "better-healthcare",
   "metadata": {},
   "outputs": [],
   "source": [
    "import pandas as pd\n",
    "import numpy as np\n",
    "import matplotlib.pyplot as plt\n",
    "import seaborn as sns"
   ]
  },
  {
   "cell_type": "code",
   "execution_count": 2,
   "id": "republican-clerk",
   "metadata": {},
   "outputs": [],
   "source": [
    "df=pd.read_excel('final_feat.xlsx')"
   ]
  },
  {
   "cell_type": "code",
   "execution_count": 3,
   "id": "returning-mountain",
   "metadata": {},
   "outputs": [],
   "source": [
    "df1=df[['Completed Jobs','TMAX','Avg Sales','tech_count','Income_y']]"
   ]
  },
  {
   "cell_type": "code",
   "execution_count": 4,
   "id": "subtle-ethernet",
   "metadata": {},
   "outputs": [
    {
     "data": {
      "text/html": [
       "<div>\n",
       "<style scoped>\n",
       "    .dataframe tbody tr th:only-of-type {\n",
       "        vertical-align: middle;\n",
       "    }\n",
       "\n",
       "    .dataframe tbody tr th {\n",
       "        vertical-align: top;\n",
       "    }\n",
       "\n",
       "    .dataframe thead th {\n",
       "        text-align: right;\n",
       "    }\n",
       "</style>\n",
       "<table border=\"1\" class=\"dataframe\">\n",
       "  <thead>\n",
       "    <tr style=\"text-align: right;\">\n",
       "      <th></th>\n",
       "      <th>Completed Jobs</th>\n",
       "      <th>TMAX</th>\n",
       "      <th>Avg Sales</th>\n",
       "      <th>tech_count</th>\n",
       "      <th>Income_y</th>\n",
       "    </tr>\n",
       "  </thead>\n",
       "  <tbody>\n",
       "    <tr>\n",
       "      <th>0</th>\n",
       "      <td>57</td>\n",
       "      <td>65</td>\n",
       "      <td>3617.444828</td>\n",
       "      <td>59</td>\n",
       "      <td>23933.54</td>\n",
       "    </tr>\n",
       "    <tr>\n",
       "      <th>1</th>\n",
       "      <td>77</td>\n",
       "      <td>71</td>\n",
       "      <td>1781.345385</td>\n",
       "      <td>40</td>\n",
       "      <td>65232.03</td>\n",
       "    </tr>\n",
       "    <tr>\n",
       "      <th>2</th>\n",
       "      <td>55</td>\n",
       "      <td>69</td>\n",
       "      <td>459.248750</td>\n",
       "      <td>21</td>\n",
       "      <td>26195.32</td>\n",
       "    </tr>\n",
       "    <tr>\n",
       "      <th>3</th>\n",
       "      <td>6</td>\n",
       "      <td>69</td>\n",
       "      <td>846.000000</td>\n",
       "      <td>9</td>\n",
       "      <td>264.00</td>\n",
       "    </tr>\n",
       "    <tr>\n",
       "      <th>4</th>\n",
       "      <td>73</td>\n",
       "      <td>77</td>\n",
       "      <td>1820.060789</td>\n",
       "      <td>60</td>\n",
       "      <td>48506.16</td>\n",
       "    </tr>\n",
       "  </tbody>\n",
       "</table>\n",
       "</div>"
      ],
      "text/plain": [
       "   Completed Jobs  TMAX    Avg Sales  tech_count  Income_y\n",
       "0              57    65  3617.444828          59  23933.54\n",
       "1              77    71  1781.345385          40  65232.03\n",
       "2              55    69   459.248750          21  26195.32\n",
       "3               6    69   846.000000           9    264.00\n",
       "4              73    77  1820.060789          60  48506.16"
      ]
     },
     "execution_count": 4,
     "metadata": {},
     "output_type": "execute_result"
    }
   ],
   "source": [
    "df1.head()"
   ]
  },
  {
   "cell_type": "code",
   "execution_count": 5,
   "id": "detected-engineering",
   "metadata": {},
   "outputs": [],
   "source": [
    "df1=df1.drop_duplicates(ignore_index=True)"
   ]
  },
  {
   "cell_type": "code",
   "execution_count": 6,
   "id": "impaired-motor",
   "metadata": {},
   "outputs": [],
   "source": [
    "train=df1[0:300]\n",
    "test=df1[300:]"
   ]
  },
  {
   "cell_type": "code",
   "execution_count": 9,
   "id": "identified-occupation",
   "metadata": {},
   "outputs": [],
   "source": [
    "y=train['Income_y']\n",
    "X=train.drop(['Income_y'],axis=1)"
   ]
  },
  {
   "cell_type": "code",
   "execution_count": 11,
   "id": "committed-positive",
   "metadata": {},
   "outputs": [],
   "source": [
    "y_=test['Income_y']\n",
    "X_=test.drop(['Income_y'],axis=1)"
   ]
  },
  {
   "cell_type": "code",
   "execution_count": 13,
   "id": "pressed-thought",
   "metadata": {},
   "outputs": [],
   "source": [
    "from sklearn.model_selection import train_test_split\n",
    "X_train, X_test, y_train, y_test = train_test_split(X, y, test_size=0.3, random_state=42)"
   ]
  },
  {
   "cell_type": "code",
   "execution_count": 14,
   "id": "military-hurricane",
   "metadata": {},
   "outputs": [],
   "source": [
    "from sklearn.ensemble import RandomForestRegressor\n"
   ]
  },
  {
   "cell_type": "code",
   "execution_count": 15,
   "id": "pleasant-sampling",
   "metadata": {},
   "outputs": [],
   "source": [
    "# intializing the randomeforest regressor\n",
    "\n",
    "random_forest_reg=RandomForestRegressor()"
   ]
  },
  {
   "cell_type": "code",
   "execution_count": 16,
   "id": "private-solomon",
   "metadata": {},
   "outputs": [
    {
     "data": {
      "text/plain": [
       "RandomForestRegressor()"
      ]
     },
     "execution_count": 16,
     "metadata": {},
     "output_type": "execute_result"
    }
   ],
   "source": [
    "# fit the X_train and y_train values to the model\n",
    "random_forest_reg.fit(X_train,y_train)"
   ]
  },
  {
   "cell_type": "code",
   "execution_count": 17,
   "id": "accessible-butterfly",
   "metadata": {},
   "outputs": [
    {
     "data": {
      "text/plain": [
       "0.94438767898346"
      ]
     },
     "execution_count": 17,
     "metadata": {},
     "output_type": "execute_result"
    }
   ],
   "source": [
    "# training data set score\n",
    "random_forest_reg.score(X_train,y_train)"
   ]
  },
  {
   "cell_type": "code",
   "execution_count": 18,
   "id": "responsible-overhead",
   "metadata": {},
   "outputs": [
    {
     "data": {
      "text/plain": [
       "0.7435621821235848"
      ]
     },
     "execution_count": 18,
     "metadata": {},
     "output_type": "execute_result"
    }
   ],
   "source": [
    "# test data set score\n",
    "random_forest_reg.score(X_test,y_test)"
   ]
  },
  {
   "cell_type": "code",
   "execution_count": 19,
   "id": "sixth-cycling",
   "metadata": {},
   "outputs": [
    {
     "data": {
      "text/plain": [
       "0.41751960245469477"
      ]
     },
     "execution_count": 19,
     "metadata": {},
     "output_type": "execute_result"
    }
   ],
   "source": [
    "# test data set score\n",
    "random_forest_reg.score(X_,y_)"
   ]
  },
  {
   "cell_type": "code",
   "execution_count": 20,
   "id": "white-spelling",
   "metadata": {},
   "outputs": [],
   "source": [
    "y_pred_1=random_forest_reg.predict(X_)"
   ]
  },
  {
   "cell_type": "code",
   "execution_count": 21,
   "id": "sunset-drill",
   "metadata": {},
   "outputs": [],
   "source": [
    "from sklearn import metrics"
   ]
  },
  {
   "cell_type": "code",
   "execution_count": 22,
   "id": "controversial-genealogy",
   "metadata": {},
   "outputs": [
    {
     "name": "stdout",
     "output_type": "stream",
     "text": [
      "RMSE: 29505.515190008333\n",
      "MAE: 22736.210620454538\n"
     ]
    }
   ],
   "source": [
    "# RMSE and MAE\n",
    "print('RMSE:',np.sqrt(metrics.mean_squared_error(y_,y_pred_1)))\n",
    "print('MAE:',metrics.mean_absolute_error(y_,y_pred_1))"
   ]
  },
  {
   "cell_type": "code",
   "execution_count": 23,
   "id": "aboriginal-screen",
   "metadata": {},
   "outputs": [],
   "source": [
    "comp=pd.DataFrame({'Actual':y_,'Predicted':y_pred_1})"
   ]
  },
  {
   "cell_type": "code",
   "execution_count": 24,
   "id": "miniature-reform",
   "metadata": {},
   "outputs": [
    {
     "data": {
      "text/plain": [
       "<AxesSubplot:>"
      ]
     },
     "execution_count": 24,
     "metadata": {},
     "output_type": "execute_result"
    },
    {
     "data": {
      "image/png": "[encoded data removed]",
      "text/plain": [
       "<Figure size 432x288 with 1 Axes>"
      ]
     },
     "metadata": {
      "needs_background": "light"
     },
     "output_type": "display_data"
    }
   ],
   "source": [
    "comp.plot()"
   ]
  },
  {
   "cell_type": "code",
   "execution_count": 25,
   "id": "discrete-allowance",
   "metadata": {},
   "outputs": [],
   "source": [
    "comp['Error']=comp['Actual']-comp['Predicted']"
   ]
  },
  {
   "cell_type": "code",
   "execution_count": 26,
   "id": "national-fitness",
   "metadata": {},
   "outputs": [
    {
     "data": {
      "text/html": [
       "<div>\n",
       "<style scoped>\n",
       "    .dataframe tbody tr th:only-of-type {\n",
       "        vertical-align: middle;\n",
       "    }\n",
       "\n",
       "    .dataframe tbody tr th {\n",
       "        vertical-align: top;\n",
       "    }\n",
       "\n",
       "    .dataframe thead th {\n",
       "        text-align: right;\n",
       "    }\n",
       "</style>\n",
       "<table border=\"1\" class=\"dataframe\">\n",
       "  <thead>\n",
       "    <tr style=\"text-align: right;\">\n",
       "      <th></th>\n",
       "      <th>Actual</th>\n",
       "      <th>Predicted</th>\n",
       "      <th>Error</th>\n",
       "    </tr>\n",
       "  </thead>\n",
       "  <tbody>\n",
       "    <tr>\n",
       "      <th>300</th>\n",
       "      <td>114534.21</td>\n",
       "      <td>115990.4961</td>\n",
       "      <td>-1456.2861</td>\n",
       "    </tr>\n",
       "    <tr>\n",
       "      <th>301</th>\n",
       "      <td>127412.10</td>\n",
       "      <td>128819.5529</td>\n",
       "      <td>-1407.4529</td>\n",
       "    </tr>\n",
       "    <tr>\n",
       "      <th>302</th>\n",
       "      <td>73107.94</td>\n",
       "      <td>111123.8081</td>\n",
       "      <td>-38015.8681</td>\n",
       "    </tr>\n",
       "    <tr>\n",
       "      <th>303</th>\n",
       "      <td>100335.70</td>\n",
       "      <td>101809.0142</td>\n",
       "      <td>-1473.3142</td>\n",
       "    </tr>\n",
       "    <tr>\n",
       "      <th>304</th>\n",
       "      <td>82920.44</td>\n",
       "      <td>116674.5105</td>\n",
       "      <td>-33754.0705</td>\n",
       "    </tr>\n",
       "    <tr>\n",
       "      <th>305</th>\n",
       "      <td>36992.00</td>\n",
       "      <td>56830.5079</td>\n",
       "      <td>-19838.5079</td>\n",
       "    </tr>\n",
       "    <tr>\n",
       "      <th>306</th>\n",
       "      <td>326.00</td>\n",
       "      <td>3902.1646</td>\n",
       "      <td>-3576.1646</td>\n",
       "    </tr>\n",
       "    <tr>\n",
       "      <th>307</th>\n",
       "      <td>86287.17</td>\n",
       "      <td>98328.6808</td>\n",
       "      <td>-12041.5108</td>\n",
       "    </tr>\n",
       "    <tr>\n",
       "      <th>308</th>\n",
       "      <td>79380.38</td>\n",
       "      <td>110917.6661</td>\n",
       "      <td>-31537.2861</td>\n",
       "    </tr>\n",
       "    <tr>\n",
       "      <th>309</th>\n",
       "      <td>104509.01</td>\n",
       "      <td>65792.7844</td>\n",
       "      <td>38716.2256</td>\n",
       "    </tr>\n",
       "    <tr>\n",
       "      <th>310</th>\n",
       "      <td>96828.96</td>\n",
       "      <td>104738.6235</td>\n",
       "      <td>-7909.6635</td>\n",
       "    </tr>\n",
       "    <tr>\n",
       "      <th>311</th>\n",
       "      <td>108327.11</td>\n",
       "      <td>98098.4743</td>\n",
       "      <td>10228.6357</td>\n",
       "    </tr>\n",
       "    <tr>\n",
       "      <th>312</th>\n",
       "      <td>99625.26</td>\n",
       "      <td>98607.9289</td>\n",
       "      <td>1017.3311</td>\n",
       "    </tr>\n",
       "    <tr>\n",
       "      <th>313</th>\n",
       "      <td>76878.35</td>\n",
       "      <td>126561.8359</td>\n",
       "      <td>-49683.4859</td>\n",
       "    </tr>\n",
       "    <tr>\n",
       "      <th>314</th>\n",
       "      <td>69089.17</td>\n",
       "      <td>57174.7622</td>\n",
       "      <td>11914.4078</td>\n",
       "    </tr>\n",
       "    <tr>\n",
       "      <th>315</th>\n",
       "      <td>128210.29</td>\n",
       "      <td>95926.5255</td>\n",
       "      <td>32283.7645</td>\n",
       "    </tr>\n",
       "    <tr>\n",
       "      <th>316</th>\n",
       "      <td>177410.42</td>\n",
       "      <td>142871.7701</td>\n",
       "      <td>34538.6499</td>\n",
       "    </tr>\n",
       "    <tr>\n",
       "      <th>317</th>\n",
       "      <td>68424.71</td>\n",
       "      <td>99069.5126</td>\n",
       "      <td>-30644.8026</td>\n",
       "    </tr>\n",
       "    <tr>\n",
       "      <th>318</th>\n",
       "      <td>130406.40</td>\n",
       "      <td>120519.1444</td>\n",
       "      <td>9887.2556</td>\n",
       "    </tr>\n",
       "    <tr>\n",
       "      <th>319</th>\n",
       "      <td>41651.85</td>\n",
       "      <td>61005.4977</td>\n",
       "      <td>-19353.6477</td>\n",
       "    </tr>\n",
       "    <tr>\n",
       "      <th>320</th>\n",
       "      <td>102.95</td>\n",
       "      <td>11222.2883</td>\n",
       "      <td>-11119.3383</td>\n",
       "    </tr>\n",
       "    <tr>\n",
       "      <th>321</th>\n",
       "      <td>121328.92</td>\n",
       "      <td>116506.8414</td>\n",
       "      <td>4822.0786</td>\n",
       "    </tr>\n",
       "    <tr>\n",
       "      <th>322</th>\n",
       "      <td>94156.55</td>\n",
       "      <td>98157.8608</td>\n",
       "      <td>-4001.3108</td>\n",
       "    </tr>\n",
       "    <tr>\n",
       "      <th>323</th>\n",
       "      <td>93428.49</td>\n",
       "      <td>107585.0840</td>\n",
       "      <td>-14156.5940</td>\n",
       "    </tr>\n",
       "    <tr>\n",
       "      <th>324</th>\n",
       "      <td>73106.96</td>\n",
       "      <td>129693.0114</td>\n",
       "      <td>-56586.0514</td>\n",
       "    </tr>\n",
       "    <tr>\n",
       "      <th>325</th>\n",
       "      <td>62484.03</td>\n",
       "      <td>72951.8752</td>\n",
       "      <td>-10467.8452</td>\n",
       "    </tr>\n",
       "    <tr>\n",
       "      <th>326</th>\n",
       "      <td>50088.00</td>\n",
       "      <td>2716.5291</td>\n",
       "      <td>47371.4709</td>\n",
       "    </tr>\n",
       "    <tr>\n",
       "      <th>327</th>\n",
       "      <td>45289.92</td>\n",
       "      <td>102545.3750</td>\n",
       "      <td>-57255.4550</td>\n",
       "    </tr>\n",
       "    <tr>\n",
       "      <th>328</th>\n",
       "      <td>95437.44</td>\n",
       "      <td>96199.2629</td>\n",
       "      <td>-761.8229</td>\n",
       "    </tr>\n",
       "    <tr>\n",
       "      <th>329</th>\n",
       "      <td>100674.86</td>\n",
       "      <td>116118.6728</td>\n",
       "      <td>-15443.8128</td>\n",
       "    </tr>\n",
       "    <tr>\n",
       "      <th>330</th>\n",
       "      <td>55735.08</td>\n",
       "      <td>109143.5305</td>\n",
       "      <td>-53408.4505</td>\n",
       "    </tr>\n",
       "    <tr>\n",
       "      <th>331</th>\n",
       "      <td>86421.80</td>\n",
       "      <td>88810.8418</td>\n",
       "      <td>-2389.0418</td>\n",
       "    </tr>\n",
       "    <tr>\n",
       "      <th>332</th>\n",
       "      <td>86421.80</td>\n",
       "      <td>93925.7926</td>\n",
       "      <td>-7503.9926</td>\n",
       "    </tr>\n",
       "    <tr>\n",
       "      <th>333</th>\n",
       "      <td>41343.95</td>\n",
       "      <td>44823.4390</td>\n",
       "      <td>-3479.4890</td>\n",
       "    </tr>\n",
       "    <tr>\n",
       "      <th>334</th>\n",
       "      <td>15788.00</td>\n",
       "      <td>1689.8542</td>\n",
       "      <td>14098.1458</td>\n",
       "    </tr>\n",
       "    <tr>\n",
       "      <th>335</th>\n",
       "      <td>128985.55</td>\n",
       "      <td>150941.5427</td>\n",
       "      <td>-21955.9927</td>\n",
       "    </tr>\n",
       "    <tr>\n",
       "      <th>336</th>\n",
       "      <td>93402.16</td>\n",
       "      <td>99745.4738</td>\n",
       "      <td>-6343.3138</td>\n",
       "    </tr>\n",
       "    <tr>\n",
       "      <th>337</th>\n",
       "      <td>176747.02</td>\n",
       "      <td>98824.8501</td>\n",
       "      <td>77922.1699</td>\n",
       "    </tr>\n",
       "    <tr>\n",
       "      <th>338</th>\n",
       "      <td>32502.40</td>\n",
       "      <td>55424.2427</td>\n",
       "      <td>-22921.8427</td>\n",
       "    </tr>\n",
       "    <tr>\n",
       "      <th>339</th>\n",
       "      <td>55111.85</td>\n",
       "      <td>11908.4037</td>\n",
       "      <td>43203.4463</td>\n",
       "    </tr>\n",
       "    <tr>\n",
       "      <th>340</th>\n",
       "      <td>133042.85</td>\n",
       "      <td>102992.4615</td>\n",
       "      <td>30050.3885</td>\n",
       "    </tr>\n",
       "    <tr>\n",
       "      <th>341</th>\n",
       "      <td>88538.89</td>\n",
       "      <td>125424.4371</td>\n",
       "      <td>-36885.5471</td>\n",
       "    </tr>\n",
       "    <tr>\n",
       "      <th>342</th>\n",
       "      <td>66133.39</td>\n",
       "      <td>95377.2008</td>\n",
       "      <td>-29243.8108</td>\n",
       "    </tr>\n",
       "    <tr>\n",
       "      <th>343</th>\n",
       "      <td>67090.81</td>\n",
       "      <td>106814.3348</td>\n",
       "      <td>-39723.5248</td>\n",
       "    </tr>\n",
       "  </tbody>\n",
       "</table>\n",
       "</div>"
      ],
      "text/plain": [
       "        Actual    Predicted       Error\n",
       "300  114534.21  115990.4961  -1456.2861\n",
       "301  127412.10  128819.5529  -1407.4529\n",
       "302   73107.94  111123.8081 -38015.8681\n",
       "303  100335.70  101809.0142  -1473.3142\n",
       "304   82920.44  116674.5105 -33754.0705\n",
       "305   36992.00   56830.5079 -19838.5079\n",
       "306     326.00    3902.1646  -3576.1646\n",
       "307   86287.17   98328.6808 -12041.5108\n",
       "308   79380.38  110917.6661 -31537.2861\n",
       "309  104509.01   65792.7844  38716.2256\n",
       "310   96828.96  104738.6235  -7909.6635\n",
       "311  108327.11   98098.4743  10228.6357\n",
       "312   99625.26   98607.9289   1017.3311\n",
       "313   76878.35  126561.8359 -49683.4859\n",
       "314   69089.17   57174.7622  11914.4078\n",
       "315  128210.29   95926.5255  32283.7645\n",
       "316  177410.42  142871.7701  34538.6499\n",
       "317   68424.71   99069.5126 -30644.8026\n",
       "318  130406.40  120519.1444   9887.2556\n",
       "319   41651.85   61005.4977 -19353.6477\n",
       "320     102.95   11222.2883 -11119.3383\n",
       "321  121328.92  116506.8414   4822.0786\n",
       "322   94156.55   98157.8608  -4001.3108\n",
       "323   93428.49  107585.0840 -14156.5940\n",
       "324   73106.96  129693.0114 -56586.0514\n",
       "325   62484.03   72951.8752 -10467.8452\n",
       "326   50088.00    2716.5291  47371.4709\n",
       "327   45289.92  102545.3750 -57255.4550\n",
       "328   95437.44   96199.2629   -761.8229\n",
       "329  100674.86  116118.6728 -15443.8128\n",
       "330   55735.08  109143.5305 -53408.4505\n",
       "331   86421.80   88810.8418  -2389.0418\n",
       "332   86421.80   93925.7926  -7503.9926\n",
       "333   41343.95   44823.4390  -3479.4890\n",
       "334   15788.00    1689.8542  14098.1458\n",
       "335  128985.55  150941.5427 -21955.9927\n",
       "336   93402.16   99745.4738  -6343.3138\n",
       "337  176747.02   98824.8501  77922.1699\n",
       "338   32502.40   55424.2427 -22921.8427\n",
       "339   55111.85   11908.4037  43203.4463\n",
       "340  133042.85  102992.4615  30050.3885\n",
       "341   88538.89  125424.4371 -36885.5471\n",
       "342   66133.39   95377.2008 -29243.8108\n",
       "343   67090.81  106814.3348 -39723.5248"
      ]
     },
     "execution_count": 26,
     "metadata": {},
     "output_type": "execute_result"
    }
   ],
   "source": [
    "comp"
   ]
  },
  {
   "cell_type": "markdown",
   "id": "fourth-banks",
   "metadata": {},
   "source": [
    "# Hyperparamter Optimization"
   ]
  },
  {
   "cell_type": "code",
   "execution_count": 42,
   "id": "conventional-summit",
   "metadata": {},
   "outputs": [],
   "source": [
    "from sklearn.model_selection import RandomizedSearchCV\n",
    "# Number of trees in random forest\n",
    "n_estimators = [int(x) for x in np.linspace(start = 200, stop = 2000, num = 10)]\n",
    "# Number of features to consider at every split\n",
    "max_features = ['auto', 'sqrt','log2']\n",
    "# Maximum number of levels in tree\n",
    "max_depth = [int(x) for x in np.linspace(10, 110, num = 11)]\n",
    "max_depth.append(None)\n",
    "# Minimum number of samples required to split a node\n",
    "min_samples_split = [2, 5, 10,15,20]\n",
    "# Minimum number of samples required at each leaf node\n",
    "min_samples_leaf = [1, 2, 4,5,10,15]\n",
    "# Method of selecting samples for training each tree\n",
    "bootstrap = [True, False]\n",
    "# Create the random grid\n",
    "random_grid = {'n_estimators': n_estimators,\n",
    "               'max_features': max_features,\n",
    "               'max_depth': max_depth,\n",
    "               'min_samples_split': min_samples_split,\n",
    "               'min_samples_leaf': min_samples_leaf,\n",
    "               'bootstrap': bootstrap}"
   ]
  },
  {
   "cell_type": "code",
   "execution_count": 43,
   "id": "ceramic-spank",
   "metadata": {},
   "outputs": [
    {
     "name": "stderr",
     "output_type": "stream",
     "text": [
      "[Parallel(n_jobs=-1)]: Using backend LokyBackend with 4 concurrent workers.\n"
     ]
    },
    {
     "name": "stdout",
     "output_type": "stream",
     "text": [
      "Fitting 5 folds for each of 100 candidates, totalling 500 fits\n"
     ]
    },
    {
     "name": "stderr",
     "output_type": "stream",
     "text": [
      "[Parallel(n_jobs=-1)]: Done  33 tasks      | elapsed:   22.1s\n",
      "[Parallel(n_jobs=-1)]: Done 154 tasks      | elapsed:  2.1min\n",
      "[Parallel(n_jobs=-1)]: Done 357 tasks      | elapsed:  5.2min\n",
      "[Parallel(n_jobs=-1)]: Done 500 out of 500 | elapsed:  7.4min finished\n"
     ]
    },
    {
     "data": {
      "text/plain": [
       "RandomizedSearchCV(cv=5, estimator=RandomForestRegressor(), n_iter=100,\n",
       "                   n_jobs=-1,\n",
       "                   param_distributions={'bootstrap': [True, False],\n",
       "                                        'max_depth': [10, 20, 30, 40, 50, 60,\n",
       "                                                      70, 80, 90, 100, 110,\n",
       "                                                      None],\n",
       "                                        'max_features': ['auto', 'sqrt',\n",
       "                                                         'log2'],\n",
       "                                        'min_samples_leaf': [1, 2, 4, 5, 10,\n",
       "                                                             15],\n",
       "                                        'min_samples_split': [2, 5, 10, 15, 20],\n",
       "                                        'n_estimators': [200, 400, 600, 800,\n",
       "                                                         1000, 1200, 1400, 1600,\n",
       "                                                         1800, 2000]},\n",
       "                   random_state=42, verbose=2)"
      ]
     },
     "execution_count": 43,
     "metadata": {},
     "output_type": "execute_result"
    }
   ],
   "source": [
    "# Use the random grid to search for best hyperparameters\n",
    "# First create the base model to tune\n",
    "rf = RandomForestRegressor()\n",
    "# Random search of parameters, using 3 fold cross validation, \n",
    "# search across 100 different combinations, and use all available cores\n",
    "rf_random = RandomizedSearchCV(estimator = rf, param_distributions = random_grid, n_iter = 100, cv = 5, verbose=2, random_state=42,n_jobs=-1)\n",
    "# Fit the random search model\n",
    "rf_random.fit(X,y)"
   ]
  },
  {
   "cell_type": "code",
   "execution_count": 44,
   "id": "unsigned-hometown",
   "metadata": {},
   "outputs": [
    {
     "data": {
      "text/plain": [
       "{'n_estimators': 1600,\n",
       " 'min_samples_split': 10,\n",
       " 'min_samples_leaf': 4,\n",
       " 'max_features': 'log2',\n",
       " 'max_depth': None,\n",
       " 'bootstrap': True}"
      ]
     },
     "execution_count": 44,
     "metadata": {},
     "output_type": "execute_result"
    }
   ],
   "source": [
    "rf_random.best_params_\n",
    "\n"
   ]
  },
  {
   "cell_type": "code",
   "execution_count": 45,
   "id": "widespread-locking",
   "metadata": {},
   "outputs": [
    {
     "data": {
      "text/plain": [
       "0.5209453371205239"
      ]
     },
     "execution_count": 45,
     "metadata": {},
     "output_type": "execute_result"
    }
   ],
   "source": [
    "rf_random.best_score_\n"
   ]
  },
  {
   "cell_type": "code",
   "execution_count": 56,
   "id": "endless-davis",
   "metadata": {},
   "outputs": [],
   "source": [
    "tuned_model = RandomForestRegressor(n_estimators=1600,min_samples_split=10,min_samples_leaf=4,max_features='log2',max_depth=None,bootstrap=True)\n"
   ]
  },
  {
   "cell_type": "code",
   "execution_count": 57,
   "id": "legislative-creator",
   "metadata": {},
   "outputs": [
    {
     "data": {
      "text/plain": [
       "RandomForestRegressor(max_features='log2', min_samples_leaf=4,\n",
       "                      min_samples_split=10, n_estimators=1600)"
      ]
     },
     "execution_count": 57,
     "metadata": {},
     "output_type": "execute_result"
    }
   ],
   "source": [
    "tuned_model.fit(X_train,y_train)"
   ]
  },
  {
   "cell_type": "code",
   "execution_count": 58,
   "id": "original-study",
   "metadata": {},
   "outputs": [
    {
     "data": {
      "text/plain": [
       "0.8010971889902752"
      ]
     },
     "execution_count": 58,
     "metadata": {},
     "output_type": "execute_result"
    }
   ],
   "source": [
    "tuned_model.score(X_train,y_train)"
   ]
  },
  {
   "cell_type": "code",
   "execution_count": 59,
   "id": "fitting-organic",
   "metadata": {},
   "outputs": [
    {
     "data": {
      "text/plain": [
       "0.7331987336632989"
      ]
     },
     "execution_count": 59,
     "metadata": {},
     "output_type": "execute_result"
    }
   ],
   "source": [
    "tuned_model.score(X_test,y_test)"
   ]
  },
  {
   "cell_type": "code",
   "execution_count": 60,
   "id": "accepted-combine",
   "metadata": {},
   "outputs": [
    {
     "data": {
      "text/plain": [
       "0.425760484398345"
      ]
     },
     "execution_count": 60,
     "metadata": {},
     "output_type": "execute_result"
    }
   ],
   "source": [
    "tuned_model.score(X_,y_)"
   ]
  },
  {
   "cell_type": "code",
   "execution_count": 61,
   "id": "respiratory-organizer",
   "metadata": {},
   "outputs": [],
   "source": [
    "y_pred_2=tuned_model.predict(X_)"
   ]
  },
  {
   "cell_type": "code",
   "execution_count": 62,
   "id": "viral-dover",
   "metadata": {},
   "outputs": [],
   "source": [
    "comp_1=pd.DataFrame({'Actual':y_,'Predicted':y_pred_2})"
   ]
  },
  {
   "cell_type": "code",
   "execution_count": 63,
   "id": "incoming-prefix",
   "metadata": {},
   "outputs": [
    {
     "data": {
      "text/plain": [
       "<AxesSubplot:>"
      ]
     },
     "execution_count": 63,
     "metadata": {},
     "output_type": "execute_result"
    },
    {
     "data": {
      "image/png": "[encoded data removed]",
      "text/plain": [
       "<Figure size 432x288 with 1 Axes>"
      ]
     },
     "metadata": {
      "needs_background": "light"
     },
     "output_type": "display_data"
    }
   ],
   "source": [
    "comp_1.plot()"
   ]
  },
  {
   "cell_type": "code",
   "execution_count": 64,
   "id": "saved-madagascar",
   "metadata": {},
   "outputs": [],
   "source": [
    "comp_1['Error']=comp_1['Actual']-comp_1['Predicted']"
   ]
  },
  {
   "cell_type": "code",
   "execution_count": 66,
   "id": "strange-series",
   "metadata": {},
   "outputs": [
    {
     "data": {
      "text/html": [
       "<div>\n",
       "<style scoped>\n",
       "    .dataframe tbody tr th:only-of-type {\n",
       "        vertical-align: middle;\n",
       "    }\n",
       "\n",
       "    .dataframe tbody tr th {\n",
       "        vertical-align: top;\n",
       "    }\n",
       "\n",
       "    .dataframe thead th {\n",
       "        text-align: right;\n",
       "    }\n",
       "</style>\n",
       "<table border=\"1\" class=\"dataframe\">\n",
       "  <thead>\n",
       "    <tr style=\"text-align: right;\">\n",
       "      <th></th>\n",
       "      <th>Actual</th>\n",
       "      <th>Predicted</th>\n",
       "      <th>Error</th>\n",
       "    </tr>\n",
       "  </thead>\n",
       "  <tbody>\n",
       "    <tr>\n",
       "      <th>300</th>\n",
       "      <td>114534.21</td>\n",
       "      <td>112475.426773</td>\n",
       "      <td>2058.783227</td>\n",
       "    </tr>\n",
       "    <tr>\n",
       "      <th>301</th>\n",
       "      <td>127412.10</td>\n",
       "      <td>126993.830324</td>\n",
       "      <td>418.269676</td>\n",
       "    </tr>\n",
       "    <tr>\n",
       "      <th>302</th>\n",
       "      <td>73107.94</td>\n",
       "      <td>108179.037214</td>\n",
       "      <td>-35071.097214</td>\n",
       "    </tr>\n",
       "    <tr>\n",
       "      <th>303</th>\n",
       "      <td>100335.70</td>\n",
       "      <td>118303.473452</td>\n",
       "      <td>-17967.773452</td>\n",
       "    </tr>\n",
       "    <tr>\n",
       "      <th>304</th>\n",
       "      <td>82920.44</td>\n",
       "      <td>101051.512474</td>\n",
       "      <td>-18131.072474</td>\n",
       "    </tr>\n",
       "    <tr>\n",
       "      <th>305</th>\n",
       "      <td>36992.00</td>\n",
       "      <td>52358.731432</td>\n",
       "      <td>-15366.731432</td>\n",
       "    </tr>\n",
       "    <tr>\n",
       "      <th>306</th>\n",
       "      <td>326.00</td>\n",
       "      <td>5729.353434</td>\n",
       "      <td>-5403.353434</td>\n",
       "    </tr>\n",
       "    <tr>\n",
       "      <th>307</th>\n",
       "      <td>86287.17</td>\n",
       "      <td>109776.270189</td>\n",
       "      <td>-23489.100189</td>\n",
       "    </tr>\n",
       "    <tr>\n",
       "      <th>308</th>\n",
       "      <td>79380.38</td>\n",
       "      <td>109552.615428</td>\n",
       "      <td>-30172.235428</td>\n",
       "    </tr>\n",
       "    <tr>\n",
       "      <th>309</th>\n",
       "      <td>104509.01</td>\n",
       "      <td>54477.556643</td>\n",
       "      <td>50031.453357</td>\n",
       "    </tr>\n",
       "    <tr>\n",
       "      <th>310</th>\n",
       "      <td>96828.96</td>\n",
       "      <td>111882.841351</td>\n",
       "      <td>-15053.881351</td>\n",
       "    </tr>\n",
       "    <tr>\n",
       "      <th>311</th>\n",
       "      <td>108327.11</td>\n",
       "      <td>106701.704158</td>\n",
       "      <td>1625.405842</td>\n",
       "    </tr>\n",
       "    <tr>\n",
       "      <th>312</th>\n",
       "      <td>99625.26</td>\n",
       "      <td>103434.582256</td>\n",
       "      <td>-3809.322256</td>\n",
       "    </tr>\n",
       "    <tr>\n",
       "      <th>313</th>\n",
       "      <td>76878.35</td>\n",
       "      <td>117126.362861</td>\n",
       "      <td>-40248.012861</td>\n",
       "    </tr>\n",
       "    <tr>\n",
       "      <th>314</th>\n",
       "      <td>69089.17</td>\n",
       "      <td>49250.787521</td>\n",
       "      <td>19838.382479</td>\n",
       "    </tr>\n",
       "    <tr>\n",
       "      <th>315</th>\n",
       "      <td>128210.29</td>\n",
       "      <td>113456.174934</td>\n",
       "      <td>14754.115066</td>\n",
       "    </tr>\n",
       "    <tr>\n",
       "      <th>316</th>\n",
       "      <td>177410.42</td>\n",
       "      <td>121716.191779</td>\n",
       "      <td>55694.228221</td>\n",
       "    </tr>\n",
       "    <tr>\n",
       "      <th>317</th>\n",
       "      <td>68424.71</td>\n",
       "      <td>100513.844236</td>\n",
       "      <td>-32089.134236</td>\n",
       "    </tr>\n",
       "    <tr>\n",
       "      <th>318</th>\n",
       "      <td>130406.40</td>\n",
       "      <td>114245.418422</td>\n",
       "      <td>16160.981578</td>\n",
       "    </tr>\n",
       "    <tr>\n",
       "      <th>319</th>\n",
       "      <td>41651.85</td>\n",
       "      <td>53240.406565</td>\n",
       "      <td>-11588.556565</td>\n",
       "    </tr>\n",
       "    <tr>\n",
       "      <th>320</th>\n",
       "      <td>102.95</td>\n",
       "      <td>7418.053830</td>\n",
       "      <td>-7315.103830</td>\n",
       "    </tr>\n",
       "    <tr>\n",
       "      <th>321</th>\n",
       "      <td>121328.92</td>\n",
       "      <td>125194.567086</td>\n",
       "      <td>-3865.647086</td>\n",
       "    </tr>\n",
       "    <tr>\n",
       "      <th>322</th>\n",
       "      <td>94156.55</td>\n",
       "      <td>105987.844408</td>\n",
       "      <td>-11831.294408</td>\n",
       "    </tr>\n",
       "    <tr>\n",
       "      <th>323</th>\n",
       "      <td>93428.49</td>\n",
       "      <td>110715.822074</td>\n",
       "      <td>-17287.332074</td>\n",
       "    </tr>\n",
       "    <tr>\n",
       "      <th>324</th>\n",
       "      <td>73106.96</td>\n",
       "      <td>108976.082899</td>\n",
       "      <td>-35869.122899</td>\n",
       "    </tr>\n",
       "    <tr>\n",
       "      <th>325</th>\n",
       "      <td>62484.03</td>\n",
       "      <td>46392.178629</td>\n",
       "      <td>16091.851371</td>\n",
       "    </tr>\n",
       "    <tr>\n",
       "      <th>326</th>\n",
       "      <td>50088.00</td>\n",
       "      <td>5938.350554</td>\n",
       "      <td>44149.649446</td>\n",
       "    </tr>\n",
       "    <tr>\n",
       "      <th>327</th>\n",
       "      <td>45289.92</td>\n",
       "      <td>113412.131751</td>\n",
       "      <td>-68122.211751</td>\n",
       "    </tr>\n",
       "    <tr>\n",
       "      <th>328</th>\n",
       "      <td>95437.44</td>\n",
       "      <td>103484.808531</td>\n",
       "      <td>-8047.368531</td>\n",
       "    </tr>\n",
       "    <tr>\n",
       "      <th>329</th>\n",
       "      <td>100674.86</td>\n",
       "      <td>117657.661189</td>\n",
       "      <td>-16982.801189</td>\n",
       "    </tr>\n",
       "    <tr>\n",
       "      <th>330</th>\n",
       "      <td>55735.08</td>\n",
       "      <td>108111.568644</td>\n",
       "      <td>-52376.488644</td>\n",
       "    </tr>\n",
       "    <tr>\n",
       "      <th>331</th>\n",
       "      <td>86421.80</td>\n",
       "      <td>94560.769434</td>\n",
       "      <td>-8138.969434</td>\n",
       "    </tr>\n",
       "    <tr>\n",
       "      <th>332</th>\n",
       "      <td>86421.80</td>\n",
       "      <td>98630.414492</td>\n",
       "      <td>-12208.614492</td>\n",
       "    </tr>\n",
       "    <tr>\n",
       "      <th>333</th>\n",
       "      <td>41343.95</td>\n",
       "      <td>46535.325429</td>\n",
       "      <td>-5191.375429</td>\n",
       "    </tr>\n",
       "    <tr>\n",
       "      <th>334</th>\n",
       "      <td>15788.00</td>\n",
       "      <td>8505.561192</td>\n",
       "      <td>7282.438808</td>\n",
       "    </tr>\n",
       "    <tr>\n",
       "      <th>335</th>\n",
       "      <td>128985.55</td>\n",
       "      <td>137943.219344</td>\n",
       "      <td>-8957.669344</td>\n",
       "    </tr>\n",
       "    <tr>\n",
       "      <th>336</th>\n",
       "      <td>93402.16</td>\n",
       "      <td>116495.156804</td>\n",
       "      <td>-23092.996804</td>\n",
       "    </tr>\n",
       "    <tr>\n",
       "      <th>337</th>\n",
       "      <td>176747.02</td>\n",
       "      <td>108535.516622</td>\n",
       "      <td>68211.503378</td>\n",
       "    </tr>\n",
       "    <tr>\n",
       "      <th>338</th>\n",
       "      <td>32502.40</td>\n",
       "      <td>50809.209453</td>\n",
       "      <td>-18306.809453</td>\n",
       "    </tr>\n",
       "    <tr>\n",
       "      <th>339</th>\n",
       "      <td>55111.85</td>\n",
       "      <td>8272.249035</td>\n",
       "      <td>46839.600965</td>\n",
       "    </tr>\n",
       "    <tr>\n",
       "      <th>340</th>\n",
       "      <td>133042.85</td>\n",
       "      <td>106546.992128</td>\n",
       "      <td>26495.857872</td>\n",
       "    </tr>\n",
       "    <tr>\n",
       "      <th>341</th>\n",
       "      <td>88538.89</td>\n",
       "      <td>120744.851567</td>\n",
       "      <td>-32205.961567</td>\n",
       "    </tr>\n",
       "    <tr>\n",
       "      <th>342</th>\n",
       "      <td>66133.39</td>\n",
       "      <td>101484.130039</td>\n",
       "      <td>-35350.740039</td>\n",
       "    </tr>\n",
       "    <tr>\n",
       "      <th>343</th>\n",
       "      <td>67090.81</td>\n",
       "      <td>109823.911011</td>\n",
       "      <td>-42733.101011</td>\n",
       "    </tr>\n",
       "  </tbody>\n",
       "</table>\n",
       "</div>"
      ],
      "text/plain": [
       "        Actual      Predicted         Error\n",
       "300  114534.21  112475.426773   2058.783227\n",
       "301  127412.10  126993.830324    418.269676\n",
       "302   73107.94  108179.037214 -35071.097214\n",
       "303  100335.70  118303.473452 -17967.773452\n",
       "304   82920.44  101051.512474 -18131.072474\n",
       "305   36992.00   52358.731432 -15366.731432\n",
       "306     326.00    5729.353434  -5403.353434\n",
       "307   86287.17  109776.270189 -23489.100189\n",
       "308   79380.38  109552.615428 -30172.235428\n",
       "309  104509.01   54477.556643  50031.453357\n",
       "310   96828.96  111882.841351 -15053.881351\n",
       "311  108327.11  106701.704158   1625.405842\n",
       "312   99625.26  103434.582256  -3809.322256\n",
       "313   76878.35  117126.362861 -40248.012861\n",
       "314   69089.17   49250.787521  19838.382479\n",
       "315  128210.29  113456.174934  14754.115066\n",
       "316  177410.42  121716.191779  55694.228221\n",
       "317   68424.71  100513.844236 -32089.134236\n",
       "318  130406.40  114245.418422  16160.981578\n",
       "319   41651.85   53240.406565 -11588.556565\n",
       "320     102.95    7418.053830  -7315.103830\n",
       "321  121328.92  125194.567086  -3865.647086\n",
       "322   94156.55  105987.844408 -11831.294408\n",
       "323   93428.49  110715.822074 -17287.332074\n",
       "324   73106.96  108976.082899 -35869.122899\n",
       "325   62484.03   46392.178629  16091.851371\n",
       "326   50088.00    5938.350554  44149.649446\n",
       "327   45289.92  113412.131751 -68122.211751\n",
       "328   95437.44  103484.808531  -8047.368531\n",
       "329  100674.86  117657.661189 -16982.801189\n",
       "330   55735.08  108111.568644 -52376.488644\n",
       "331   86421.80   94560.769434  -8138.969434\n",
       "332   86421.80   98630.414492 -12208.614492\n",
       "333   41343.95   46535.325429  -5191.375429\n",
       "334   15788.00    8505.561192   7282.438808\n",
       "335  128985.55  137943.219344  -8957.669344\n",
       "336   93402.16  116495.156804 -23092.996804\n",
       "337  176747.02  108535.516622  68211.503378\n",
       "338   32502.40   50809.209453 -18306.809453\n",
       "339   55111.85    8272.249035  46839.600965\n",
       "340  133042.85  106546.992128  26495.857872\n",
       "341   88538.89  120744.851567 -32205.961567\n",
       "342   66133.39  101484.130039 -35350.740039\n",
       "343   67090.81  109823.911011 -42733.101011"
      ]
     },
     "execution_count": 66,
     "metadata": {},
     "output_type": "execute_result"
    }
   ],
   "source": [
    "comp_1"
   ]
  },
  {
   "cell_type": "code",
   "execution_count": 67,
   "id": "greenhouse-perfume",
   "metadata": {},
   "outputs": [
    {
     "name": "stdout",
     "output_type": "stream",
     "text": [
      "RMSE: 29296.050950584457\n",
      "MAE: 23316.50909461636\n"
     ]
    }
   ],
   "source": [
    "# RMSE and MAE\n",
    "print('RMSE:',np.sqrt(metrics.mean_squared_error(y_,y_pred_2)))\n",
    "print('MAE:',metrics.mean_absolute_error(y_,y_pred_2))"
   ]
  },
  {
   "cell_type": "code",
   "execution_count": null,
   "id": "satisfactory-ethics",
   "metadata": {},
   "outputs": [],
   "source": []
  },
  {
   "cell_type": "code",
   "execution_count": null,
   "id": "reflected-flexibility",
   "metadata": {},
   "outputs": [],
   "source": []
  },
  {
   "cell_type": "code",
   "execution_count": null,
   "id": "everyday-renaissance",
   "metadata": {},
   "outputs": [],
   "source": []
  },
  {
   "cell_type": "code",
   "execution_count": null,
   "id": "committed-phoenix",
   "metadata": {},
   "outputs": [],
   "source": []
  }
 ],
 "metadata": {
  "kernelspec": {
   "display_name": "Python 3",
   "language": "python",
   "name": "python3"
  },
  "language_info": {
   "codemirror_mode": {
    "name": "ipython",
    "version": 3
   },
   "file_extension": ".py",
   "mimetype": "text/x-python",
   "name": "python",
   "nbconvert_exporter": "python",
   "pygments_lexer": "ipython3",
   "version": "3.7.3"
  }
 },
 "nbformat": 4,
 "nbformat_minor": 5
}
