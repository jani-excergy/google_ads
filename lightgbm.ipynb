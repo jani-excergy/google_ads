{
  "nbformat": 4,
  "nbformat_minor": 0,
  "metadata": {
    "colab": {
      "name": "lightgbm.ipynb",
      "provenance": []
    },
    "kernelspec": {
      "name": "python3",
      "display_name": "Python 3"
    },
    "language_info": {
      "name": "python"
    }
  },
  "cells": [
    {
      "cell_type": "code",
      "metadata": {
        "id": "qfaQOUzP2uaW"
      },
      "source": [
        "import lightgbm as lgb"
      ],
      "execution_count": 1,
      "outputs": []
    },
    {
      "cell_type": "code",
      "metadata": {
        "id": "DlsQv7Ko2xhO"
      },
      "source": [
        "import pandas as pd \n",
        "import seaborn as sns\n",
        "import matplotlib.pyplot as plt\n",
        "import numpy as np"
      ],
      "execution_count": 2,
      "outputs": []
    },
    {
      "cell_type": "code",
      "metadata": {
        "id": "-7xz6nNx3OXU"
      },
      "source": [
        "df=pd.read_excel('/content/combine_19_20_21_sale.xlsx')"
      ],
      "execution_count": 4,
      "outputs": []
    },
    {
      "cell_type": "code",
      "metadata": {
        "colab": {
          "base_uri": "https://localhost:8080/",
          "height": 204
        },
        "id": "qhWR8D_l3S45",
        "outputId": "31d2407f-4dcd-4716-b28e-bdf16a7cd658"
      },
      "source": [
        "df.head()"
      ],
      "execution_count": 5,
      "outputs": [
        {
          "output_type": "execute_result",
          "data": {
            "text/html": [
              "<div>\n",
              "<style scoped>\n",
              "    .dataframe tbody tr th:only-of-type {\n",
              "        vertical-align: middle;\n",
              "    }\n",
              "\n",
              "    .dataframe tbody tr th {\n",
              "        vertical-align: top;\n",
              "    }\n",
              "\n",
              "    .dataframe thead th {\n",
              "        text-align: right;\n",
              "    }\n",
              "</style>\n",
              "<table border=\"1\" class=\"dataframe\">\n",
              "  <thead>\n",
              "    <tr style=\"text-align: right;\">\n",
              "      <th></th>\n",
              "      <th>Unnamed: 0</th>\n",
              "      <th>Created Date</th>\n",
              "      <th>TMAX</th>\n",
              "      <th>Completed_Jobs</th>\n",
              "      <th>tech_count</th>\n",
              "      <th>Avg_Sales</th>\n",
              "      <th>Zip_income</th>\n",
              "      <th>Income</th>\n",
              "    </tr>\n",
              "  </thead>\n",
              "  <tbody>\n",
              "    <tr>\n",
              "      <th>0</th>\n",
              "      <td>0</td>\n",
              "      <td>2019-01-03</td>\n",
              "      <td>68</td>\n",
              "      <td>90</td>\n",
              "      <td>42</td>\n",
              "      <td>6583.000000</td>\n",
              "      <td>100885.000000</td>\n",
              "      <td>100885.0</td>\n",
              "    </tr>\n",
              "    <tr>\n",
              "      <th>1</th>\n",
              "      <td>1</td>\n",
              "      <td>2019-01-04</td>\n",
              "      <td>69</td>\n",
              "      <td>85</td>\n",
              "      <td>46</td>\n",
              "      <td>6542.500000</td>\n",
              "      <td>112823.177778</td>\n",
              "      <td>25694.2</td>\n",
              "    </tr>\n",
              "    <tr>\n",
              "      <th>2</th>\n",
              "      <td>2</td>\n",
              "      <td>2019-01-05</td>\n",
              "      <td>53</td>\n",
              "      <td>82</td>\n",
              "      <td>22</td>\n",
              "      <td>11057.800000</td>\n",
              "      <td>92705.000000</td>\n",
              "      <td>92705.0</td>\n",
              "    </tr>\n",
              "    <tr>\n",
              "      <th>3</th>\n",
              "      <td>3</td>\n",
              "      <td>2019-01-06</td>\n",
              "      <td>58</td>\n",
              "      <td>16</td>\n",
              "      <td>12</td>\n",
              "      <td>5815.000000</td>\n",
              "      <td>41483.776667</td>\n",
              "      <td>14062.0</td>\n",
              "    </tr>\n",
              "    <tr>\n",
              "      <th>4</th>\n",
              "      <td>4</td>\n",
              "      <td>2019-01-07</td>\n",
              "      <td>60</td>\n",
              "      <td>89</td>\n",
              "      <td>63</td>\n",
              "      <td>7918.583333</td>\n",
              "      <td>108119.473333</td>\n",
              "      <td>109814.0</td>\n",
              "    </tr>\n",
              "  </tbody>\n",
              "</table>\n",
              "</div>"
            ],
            "text/plain": [
              "   Unnamed: 0 Created Date  TMAX  ...     Avg_Sales     Zip_income    Income\n",
              "0           0   2019-01-03    68  ...   6583.000000  100885.000000  100885.0\n",
              "1           1   2019-01-04    69  ...   6542.500000  112823.177778   25694.2\n",
              "2           2   2019-01-05    53  ...  11057.800000   92705.000000   92705.0\n",
              "3           3   2019-01-06    58  ...   5815.000000   41483.776667   14062.0\n",
              "4           4   2019-01-07    60  ...   7918.583333  108119.473333  109814.0\n",
              "\n",
              "[5 rows x 8 columns]"
            ]
          },
          "metadata": {
            "tags": []
          },
          "execution_count": 5
        }
      ]
    },
    {
      "cell_type": "code",
      "metadata": {
        "id": "602mUExs3Vue"
      },
      "source": [
        "df=df.drop(['Unnamed: 0'],axis=1)"
      ],
      "execution_count": 6,
      "outputs": []
    },
    {
      "cell_type": "code",
      "metadata": {
        "id": "0_PQ69eZ3DXj"
      },
      "source": [
        "df['year'] = df['Created Date'].dt.year\n",
        "df['month'] = df['Created Date'].dt.month\n",
        "df['day'] = df['Created Date'].dt.month\n",
        "\n",
        "\n",
        "df['weekday'] = df['Created Date'].dt.dayofweek\n",
        "\n",
        "df['quarter'] = df['Created Date'].dt.quarter"
      ],
      "execution_count": 7,
      "outputs": []
    },
    {
      "cell_type": "code",
      "metadata": {
        "id": "sPmKguyA3ME7"
      },
      "source": [
        "df=df.drop(['Created Date'],axis=1)"
      ],
      "execution_count": 8,
      "outputs": []
    },
    {
      "cell_type": "code",
      "metadata": {
        "id": "Q_j8LYRD3aVD"
      },
      "source": [
        "def encode(data, col, max_val):\n",
        "    data[col + '_sin'] = np.sin(2 * np.pi * data[col]/max_val)\n",
        "    data[col + '_cos'] = np.cos(2 * np.pi * data[col]/max_val)\n",
        "    return data"
      ],
      "execution_count": 9,
      "outputs": []
    },
    {
      "cell_type": "code",
      "metadata": {
        "colab": {
          "base_uri": "https://localhost:8080/",
          "height": 439
        },
        "id": "Cb-q3h2h3baV",
        "outputId": "1ec34386-fe1c-4298-956b-486e8eeeaf70"
      },
      "source": [
        "encode(df,'month',12)\n",
        "encode(df,'day',365)\n",
        "encode(df,'weekday',7)\n",
        "encode(df,'quarter',4)"
      ],
      "execution_count": 10,
      "outputs": [
        {
          "output_type": "execute_result",
          "data": {
            "text/html": [
              "<div>\n",
              "<style scoped>\n",
              "    .dataframe tbody tr th:only-of-type {\n",
              "        vertical-align: middle;\n",
              "    }\n",
              "\n",
              "    .dataframe tbody tr th {\n",
              "        vertical-align: top;\n",
              "    }\n",
              "\n",
              "    .dataframe thead th {\n",
              "        text-align: right;\n",
              "    }\n",
              "</style>\n",
              "<table border=\"1\" class=\"dataframe\">\n",
              "  <thead>\n",
              "    <tr style=\"text-align: right;\">\n",
              "      <th></th>\n",
              "      <th>TMAX</th>\n",
              "      <th>Completed_Jobs</th>\n",
              "      <th>tech_count</th>\n",
              "      <th>Avg_Sales</th>\n",
              "      <th>Zip_income</th>\n",
              "      <th>Income</th>\n",
              "      <th>year</th>\n",
              "      <th>month</th>\n",
              "      <th>day</th>\n",
              "      <th>weekday</th>\n",
              "      <th>quarter</th>\n",
              "      <th>month_sin</th>\n",
              "      <th>month_cos</th>\n",
              "      <th>day_sin</th>\n",
              "      <th>day_cos</th>\n",
              "      <th>weekday_sin</th>\n",
              "      <th>weekday_cos</th>\n",
              "      <th>quarter_sin</th>\n",
              "      <th>quarter_cos</th>\n",
              "    </tr>\n",
              "  </thead>\n",
              "  <tbody>\n",
              "    <tr>\n",
              "      <th>0</th>\n",
              "      <td>68</td>\n",
              "      <td>90</td>\n",
              "      <td>42</td>\n",
              "      <td>6583.000000</td>\n",
              "      <td>100885.000000</td>\n",
              "      <td>100885.00</td>\n",
              "      <td>2019</td>\n",
              "      <td>1</td>\n",
              "      <td>1</td>\n",
              "      <td>3</td>\n",
              "      <td>1</td>\n",
              "      <td>0.500000</td>\n",
              "      <td>0.866025</td>\n",
              "      <td>0.017213</td>\n",
              "      <td>0.999852</td>\n",
              "      <td>0.433884</td>\n",
              "      <td>-0.900969</td>\n",
              "      <td>1.000000e+00</td>\n",
              "      <td>6.123234e-17</td>\n",
              "    </tr>\n",
              "    <tr>\n",
              "      <th>1</th>\n",
              "      <td>69</td>\n",
              "      <td>85</td>\n",
              "      <td>46</td>\n",
              "      <td>6542.500000</td>\n",
              "      <td>112823.177778</td>\n",
              "      <td>25694.20</td>\n",
              "      <td>2019</td>\n",
              "      <td>1</td>\n",
              "      <td>1</td>\n",
              "      <td>4</td>\n",
              "      <td>1</td>\n",
              "      <td>0.500000</td>\n",
              "      <td>0.866025</td>\n",
              "      <td>0.017213</td>\n",
              "      <td>0.999852</td>\n",
              "      <td>-0.433884</td>\n",
              "      <td>-0.900969</td>\n",
              "      <td>1.000000e+00</td>\n",
              "      <td>6.123234e-17</td>\n",
              "    </tr>\n",
              "    <tr>\n",
              "      <th>2</th>\n",
              "      <td>53</td>\n",
              "      <td>82</td>\n",
              "      <td>22</td>\n",
              "      <td>11057.800000</td>\n",
              "      <td>92705.000000</td>\n",
              "      <td>92705.00</td>\n",
              "      <td>2019</td>\n",
              "      <td>1</td>\n",
              "      <td>1</td>\n",
              "      <td>5</td>\n",
              "      <td>1</td>\n",
              "      <td>0.500000</td>\n",
              "      <td>0.866025</td>\n",
              "      <td>0.017213</td>\n",
              "      <td>0.999852</td>\n",
              "      <td>-0.974928</td>\n",
              "      <td>-0.222521</td>\n",
              "      <td>1.000000e+00</td>\n",
              "      <td>6.123234e-17</td>\n",
              "    </tr>\n",
              "    <tr>\n",
              "      <th>3</th>\n",
              "      <td>58</td>\n",
              "      <td>16</td>\n",
              "      <td>12</td>\n",
              "      <td>5815.000000</td>\n",
              "      <td>41483.776667</td>\n",
              "      <td>14062.00</td>\n",
              "      <td>2019</td>\n",
              "      <td>1</td>\n",
              "      <td>1</td>\n",
              "      <td>6</td>\n",
              "      <td>1</td>\n",
              "      <td>0.500000</td>\n",
              "      <td>0.866025</td>\n",
              "      <td>0.017213</td>\n",
              "      <td>0.999852</td>\n",
              "      <td>-0.781831</td>\n",
              "      <td>0.623490</td>\n",
              "      <td>1.000000e+00</td>\n",
              "      <td>6.123234e-17</td>\n",
              "    </tr>\n",
              "    <tr>\n",
              "      <th>4</th>\n",
              "      <td>60</td>\n",
              "      <td>89</td>\n",
              "      <td>63</td>\n",
              "      <td>7918.583333</td>\n",
              "      <td>108119.473333</td>\n",
              "      <td>109814.00</td>\n",
              "      <td>2019</td>\n",
              "      <td>1</td>\n",
              "      <td>1</td>\n",
              "      <td>0</td>\n",
              "      <td>1</td>\n",
              "      <td>0.500000</td>\n",
              "      <td>0.866025</td>\n",
              "      <td>0.017213</td>\n",
              "      <td>0.999852</td>\n",
              "      <td>0.000000</td>\n",
              "      <td>1.000000</td>\n",
              "      <td>1.000000e+00</td>\n",
              "      <td>6.123234e-17</td>\n",
              "    </tr>\n",
              "    <tr>\n",
              "      <th>...</th>\n",
              "      <td>...</td>\n",
              "      <td>...</td>\n",
              "      <td>...</td>\n",
              "      <td>...</td>\n",
              "      <td>...</td>\n",
              "      <td>...</td>\n",
              "      <td>...</td>\n",
              "      <td>...</td>\n",
              "      <td>...</td>\n",
              "      <td>...</td>\n",
              "      <td>...</td>\n",
              "      <td>...</td>\n",
              "      <td>...</td>\n",
              "      <td>...</td>\n",
              "      <td>...</td>\n",
              "      <td>...</td>\n",
              "      <td>...</td>\n",
              "      <td>...</td>\n",
              "      <td>...</td>\n",
              "    </tr>\n",
              "    <tr>\n",
              "      <th>721</th>\n",
              "      <td>81</td>\n",
              "      <td>222</td>\n",
              "      <td>126</td>\n",
              "      <td>3494.939333</td>\n",
              "      <td>210099.110000</td>\n",
              "      <td>210099.11</td>\n",
              "      <td>2021</td>\n",
              "      <td>4</td>\n",
              "      <td>4</td>\n",
              "      <td>4</td>\n",
              "      <td>2</td>\n",
              "      <td>0.866025</td>\n",
              "      <td>-0.500000</td>\n",
              "      <td>0.068802</td>\n",
              "      <td>0.997630</td>\n",
              "      <td>-0.433884</td>\n",
              "      <td>-0.900969</td>\n",
              "      <td>1.224647e-16</td>\n",
              "      <td>-1.000000e+00</td>\n",
              "    </tr>\n",
              "    <tr>\n",
              "      <th>722</th>\n",
              "      <td>68</td>\n",
              "      <td>168</td>\n",
              "      <td>75</td>\n",
              "      <td>4079.521639</td>\n",
              "      <td>119775.950000</td>\n",
              "      <td>119775.95</td>\n",
              "      <td>2021</td>\n",
              "      <td>5</td>\n",
              "      <td>5</td>\n",
              "      <td>5</td>\n",
              "      <td>2</td>\n",
              "      <td>0.500000</td>\n",
              "      <td>-0.866025</td>\n",
              "      <td>0.085965</td>\n",
              "      <td>0.996298</td>\n",
              "      <td>-0.974928</td>\n",
              "      <td>-0.222521</td>\n",
              "      <td>1.224647e-16</td>\n",
              "      <td>-1.000000e+00</td>\n",
              "    </tr>\n",
              "    <tr>\n",
              "      <th>723</th>\n",
              "      <td>69</td>\n",
              "      <td>202</td>\n",
              "      <td>124</td>\n",
              "      <td>3481.447857</td>\n",
              "      <td>230699.430000</td>\n",
              "      <td>230699.43</td>\n",
              "      <td>2021</td>\n",
              "      <td>5</td>\n",
              "      <td>5</td>\n",
              "      <td>2</td>\n",
              "      <td>2</td>\n",
              "      <td>0.500000</td>\n",
              "      <td>-0.866025</td>\n",
              "      <td>0.085965</td>\n",
              "      <td>0.996298</td>\n",
              "      <td>0.974928</td>\n",
              "      <td>-0.222521</td>\n",
              "      <td>1.224647e-16</td>\n",
              "      <td>-1.000000e+00</td>\n",
              "    </tr>\n",
              "    <tr>\n",
              "      <th>724</th>\n",
              "      <td>68</td>\n",
              "      <td>109</td>\n",
              "      <td>75</td>\n",
              "      <td>4314.042857</td>\n",
              "      <td>112431.950000</td>\n",
              "      <td>112431.95</td>\n",
              "      <td>2021</td>\n",
              "      <td>5</td>\n",
              "      <td>5</td>\n",
              "      <td>5</td>\n",
              "      <td>2</td>\n",
              "      <td>0.500000</td>\n",
              "      <td>-0.866025</td>\n",
              "      <td>0.085965</td>\n",
              "      <td>0.996298</td>\n",
              "      <td>-0.974928</td>\n",
              "      <td>-0.222521</td>\n",
              "      <td>1.224647e-16</td>\n",
              "      <td>-1.000000e+00</td>\n",
              "    </tr>\n",
              "    <tr>\n",
              "      <th>725</th>\n",
              "      <td>63</td>\n",
              "      <td>177</td>\n",
              "      <td>114</td>\n",
              "      <td>3539.839216</td>\n",
              "      <td>199708.630000</td>\n",
              "      <td>199708.63</td>\n",
              "      <td>2021</td>\n",
              "      <td>5</td>\n",
              "      <td>5</td>\n",
              "      <td>3</td>\n",
              "      <td>2</td>\n",
              "      <td>0.500000</td>\n",
              "      <td>-0.866025</td>\n",
              "      <td>0.085965</td>\n",
              "      <td>0.996298</td>\n",
              "      <td>0.433884</td>\n",
              "      <td>-0.900969</td>\n",
              "      <td>1.224647e-16</td>\n",
              "      <td>-1.000000e+00</td>\n",
              "    </tr>\n",
              "  </tbody>\n",
              "</table>\n",
              "<p>726 rows × 19 columns</p>\n",
              "</div>"
            ],
            "text/plain": [
              "     TMAX  Completed_Jobs  tech_count  ...  weekday_cos   quarter_sin   quarter_cos\n",
              "0      68              90          42  ...    -0.900969  1.000000e+00  6.123234e-17\n",
              "1      69              85          46  ...    -0.900969  1.000000e+00  6.123234e-17\n",
              "2      53              82          22  ...    -0.222521  1.000000e+00  6.123234e-17\n",
              "3      58              16          12  ...     0.623490  1.000000e+00  6.123234e-17\n",
              "4      60              89          63  ...     1.000000  1.000000e+00  6.123234e-17\n",
              "..    ...             ...         ...  ...          ...           ...           ...\n",
              "721    81             222         126  ...    -0.900969  1.224647e-16 -1.000000e+00\n",
              "722    68             168          75  ...    -0.222521  1.224647e-16 -1.000000e+00\n",
              "723    69             202         124  ...    -0.222521  1.224647e-16 -1.000000e+00\n",
              "724    68             109          75  ...    -0.222521  1.224647e-16 -1.000000e+00\n",
              "725    63             177         114  ...    -0.900969  1.224647e-16 -1.000000e+00\n",
              "\n",
              "[726 rows x 19 columns]"
            ]
          },
          "metadata": {
            "tags": []
          },
          "execution_count": 10
        }
      ]
    },
    {
      "cell_type": "code",
      "metadata": {
        "id": "hJ3fkPxW3cks"
      },
      "source": [
        "df=df.drop(['month', 'day', 'weekday', 'quarter'],axis=1)"
      ],
      "execution_count": 11,
      "outputs": []
    },
    {
      "cell_type": "code",
      "metadata": {
        "id": "0o_lQNrf3ftq"
      },
      "source": [
        "df['year'] = df['year'].map({2019: 0, 2020: 1,2021:2})"
      ],
      "execution_count": 12,
      "outputs": []
    },
    {
      "cell_type": "code",
      "metadata": {
        "id": "qOuzbmqx3hUg"
      },
      "source": [
        "df['f1']=np.abs(df['Completed_Jobs'])*np.abs(df['Zip_income'])\n",
        "df['f2']=np.sqrt(df['Completed_Jobs']**3)*np.abs(df['Avg_Sales'])\n",
        "df['f3']=np.abs(np.sqrt(df['Completed_Jobs']) - np.sqrt(df['tech_count']))\n",
        "df['f4']=np.log(np.sqrt(df['Completed_Jobs'])*df['TMAX']**3)"
      ],
      "execution_count": 13,
      "outputs": []
    },
    {
      "cell_type": "code",
      "metadata": {
        "id": "Ypg2WUUi3ieg"
      },
      "source": [
        "df1=df[['f1', 'f2','f3', 'f4','year',  'month_cos',  'quarter_sin','Income']]"
      ],
      "execution_count": 14,
      "outputs": []
    },
    {
      "cell_type": "code",
      "metadata": {
        "id": "2vEtnR6k3j7j"
      },
      "source": [
        "df1=df1.drop_duplicates(ignore_index=True)"
      ],
      "execution_count": 15,
      "outputs": []
    },
    {
      "cell_type": "code",
      "metadata": {
        "id": "6Rm6fHzP3lHz"
      },
      "source": [
        "train=df1[0:600]\n",
        "test=df1[600:]"
      ],
      "execution_count": 16,
      "outputs": []
    },
    {
      "cell_type": "code",
      "metadata": {
        "id": "xd-m0xGq3m7m"
      },
      "source": [
        "\n",
        "y=train['Income']\n",
        "X=train.drop(['Income'],axis=1)"
      ],
      "execution_count": 17,
      "outputs": []
    },
    {
      "cell_type": "code",
      "metadata": {
        "id": "1eFlIQcK3qPL"
      },
      "source": [
        "y_=test['Income']\n",
        "X_=test.drop(['Income'],axis=1)"
      ],
      "execution_count": 18,
      "outputs": []
    },
    {
      "cell_type": "code",
      "metadata": {
        "id": "_DplpIRx3tJ0"
      },
      "source": [
        "model = lgb.LGBMRegressor()\n"
      ],
      "execution_count": 19,
      "outputs": []
    },
    {
      "cell_type": "code",
      "metadata": {
        "colab": {
          "base_uri": "https://localhost:8080/"
        },
        "id": "-MtUk2Vl33Q0",
        "outputId": "1e973feb-f332-4426-d112-0ee33882df4c"
      },
      "source": [
        "model.fit(X,y)"
      ],
      "execution_count": 20,
      "outputs": [
        {
          "output_type": "execute_result",
          "data": {
            "text/plain": [
              "LGBMRegressor(boosting_type='gbdt', class_weight=None, colsample_bytree=1.0,\n",
              "              importance_type='split', learning_rate=0.1, max_depth=-1,\n",
              "              min_child_samples=20, min_child_weight=0.001, min_split_gain=0.0,\n",
              "              n_estimators=100, n_jobs=-1, num_leaves=31, objective=None,\n",
              "              random_state=None, reg_alpha=0.0, reg_lambda=0.0, silent=True,\n",
              "              subsample=1.0, subsample_for_bin=200000, subsample_freq=0)"
            ]
          },
          "metadata": {
            "tags": []
          },
          "execution_count": 20
        }
      ]
    },
    {
      "cell_type": "code",
      "metadata": {
        "colab": {
          "base_uri": "https://localhost:8080/"
        },
        "id": "nHtszL4435Pv",
        "outputId": "7b63e625-b048-48fe-8041-90f5c992a509"
      },
      "source": [
        "model.score(X,y)"
      ],
      "execution_count": 21,
      "outputs": [
        {
          "output_type": "execute_result",
          "data": {
            "text/plain": [
              "0.9231209905204307"
            ]
          },
          "metadata": {
            "tags": []
          },
          "execution_count": 21
        }
      ]
    },
    {
      "cell_type": "code",
      "metadata": {
        "colab": {
          "base_uri": "https://localhost:8080/"
        },
        "id": "hBdMB8_Q365X",
        "outputId": "b9ef6ee7-e4de-4524-d386-42513fcee47c"
      },
      "source": [
        "model.score(X_,y_)"
      ],
      "execution_count": 22,
      "outputs": [
        {
          "output_type": "execute_result",
          "data": {
            "text/plain": [
              "0.5617285525117262"
            ]
          },
          "metadata": {
            "tags": []
          },
          "execution_count": 22
        }
      ]
    },
    {
      "cell_type": "code",
      "metadata": {
        "id": "OWk2Vu_z39hT"
      },
      "source": [
        "y_pred=model.predict(X_)"
      ],
      "execution_count": 23,
      "outputs": []
    },
    {
      "cell_type": "code",
      "metadata": {
        "id": "nR06WhmS4BZJ"
      },
      "source": [
        "comp=pd.DataFrame({'Actual':y_,'Predicted':y_pred})"
      ],
      "execution_count": 24,
      "outputs": []
    },
    {
      "cell_type": "code",
      "metadata": {
        "colab": {
          "base_uri": "https://localhost:8080/",
          "height": 286
        },
        "id": "iCVg4Kip4IaX",
        "outputId": "909e0433-0376-4724-a5b8-eb4ad00c444d"
      },
      "source": [
        "comp.plot()"
      ],
      "execution_count": 25,
      "outputs": [
        {
          "output_type": "execute_result",
          "data": {
            "text/plain": [
              "<matplotlib.axes._subplots.AxesSubplot at 0x7f8920afe4d0>"
            ]
          },
          "metadata": {
            "tags": []
          },
          "execution_count": 25
        },
        {
          "output_type": "display_data",
          "data": {
            "image/png": "[encoded data removed]",
            "text/plain": [
              "<Figure size 432x288 with 1 Axes>"
            ]
          },
          "metadata": {
            "tags": [],
            "needs_background": "light"
          }
        }
      ]
    },
    {
      "cell_type": "markdown",
      "metadata": {
        "id": "YsNriZqL4NEA"
      },
      "source": [
        "# Hyperparamter tuning"
      ]
    },
    {
      "cell_type": "code",
      "metadata": {
        "id": "waNkdPeO4JYK"
      },
      "source": [
        "model_1= lgb.LGBMRegressor(boosting_type='gbdt',learning_rate= 0.1,n_estimators = 20,max_depth = 0,num_leaves = 31,min_child_samples =20,n_jobs =-1,bagging_freq =0,bagging_fraction =0.9)"
      ],
      "execution_count": 26,
      "outputs": []
    },
    {
      "cell_type": "code",
      "metadata": {
        "colab": {
          "base_uri": "https://localhost:8080/"
        },
        "id": "dBT8o76o4shZ",
        "outputId": "74cb592c-647a-4617-d300-723893c94ee2"
      },
      "source": [
        "model_1.fit(X,y)"
      ],
      "execution_count": 27,
      "outputs": [
        {
          "output_type": "execute_result",
          "data": {
            "text/plain": [
              "LGBMRegressor(bagging_fraction=0.9, bagging_freq=0, boosting_type='gbdt',\n",
              "              class_weight=None, colsample_bytree=1.0, importance_type='split',\n",
              "              learning_rate=0.1, max_depth=0, min_child_samples=20,\n",
              "              min_child_weight=0.001, min_split_gain=0.0, n_estimators=20,\n",
              "              n_jobs=-1, num_leaves=31, objective=None, random_state=None,\n",
              "              reg_alpha=0.0, reg_lambda=0.0, silent=True, subsample=1.0,\n",
              "              subsample_for_bin=200000, subsample_freq=0)"
            ]
          },
          "metadata": {
            "tags": []
          },
          "execution_count": 27
        }
      ]
    },
    {
      "cell_type": "code",
      "metadata": {
        "colab": {
          "base_uri": "https://localhost:8080/"
        },
        "id": "sOHC_mbz4vjn",
        "outputId": "90944d9e-c05d-44b4-c7db-2c01d0c39dc3"
      },
      "source": [
        "model_1.score(X,y)"
      ],
      "execution_count": 28,
      "outputs": [
        {
          "output_type": "execute_result",
          "data": {
            "text/plain": [
              "0.7768769705951076"
            ]
          },
          "metadata": {
            "tags": []
          },
          "execution_count": 28
        }
      ]
    },
    {
      "cell_type": "code",
      "metadata": {
        "colab": {
          "base_uri": "https://localhost:8080/"
        },
        "id": "eDl8nMzI4ynI",
        "outputId": "f8f18fb2-2d2d-4968-9d6d-147586dd071a"
      },
      "source": [
        "model_1.score(X_,y_)"
      ],
      "execution_count": 29,
      "outputs": [
        {
          "output_type": "execute_result",
          "data": {
            "text/plain": [
              "0.6877635372963065"
            ]
          },
          "metadata": {
            "tags": []
          },
          "execution_count": 29
        }
      ]
    },
    {
      "cell_type": "code",
      "metadata": {
        "id": "SUr3Kbjt41bK"
      },
      "source": [
        "y_pred_1=model_1.predict(X_)"
      ],
      "execution_count": 30,
      "outputs": []
    },
    {
      "cell_type": "code",
      "metadata": {
        "id": "5g_gFBc445WY"
      },
      "source": [
        "comp_1=pd.DataFrame({'Actual':y_,'Predicted':y_pred_1})"
      ],
      "execution_count": 31,
      "outputs": []
    },
    {
      "cell_type": "code",
      "metadata": {
        "colab": {
          "base_uri": "https://localhost:8080/",
          "height": 286
        },
        "id": "3aCJJoeE495I",
        "outputId": "bfc6e23e-b98d-4a54-c7f2-36e9f7dcf68f"
      },
      "source": [
        "comp_1.plot()"
      ],
      "execution_count": 32,
      "outputs": [
        {
          "output_type": "execute_result",
          "data": {
            "text/plain": [
              "<matplotlib.axes._subplots.AxesSubplot at 0x7f89203106d0>"
            ]
          },
          "metadata": {
            "tags": []
          },
          "execution_count": 32
        },
        {
          "output_type": "display_data",
          "data": {
            "image/png": "[encoded data removed]",
            "text/plain": [
              "<Figure size 432x288 with 1 Axes>"
            ]
          },
          "metadata": {
            "tags": [],
            "needs_background": "light"
          }
        }
      ]
    },
    {
      "cell_type": "code",
      "metadata": {
        "id": "iZvEshIB4_Vj"
      },
      "source": [
        "from sklearn import metrics"
      ],
      "execution_count": 33,
      "outputs": []
    },
    {
      "cell_type": "code",
      "metadata": {
        "colab": {
          "base_uri": "https://localhost:8080/"
        },
        "id": "SG0IHkp15DAC",
        "outputId": "f4212916-b88f-458f-f225-3383b1ef4f9d"
      },
      "source": [
        "np.sqrt(metrics.mean_squared_error(y_,y_pred_1))"
      ],
      "execution_count": 34,
      "outputs": [
        {
          "output_type": "execute_result",
          "data": {
            "text/plain": [
              "31704.31590472695"
            ]
          },
          "metadata": {
            "tags": []
          },
          "execution_count": 34
        }
      ]
    },
    {
      "cell_type": "code",
      "metadata": {
        "id": "tnWxHPwV5INy"
      },
      "source": [
        ""
      ],
      "execution_count": null,
      "outputs": []
    }
  ]
}