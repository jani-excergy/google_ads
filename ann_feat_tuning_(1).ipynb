{
  "nbformat": 4,
  "nbformat_minor": 5,
  "metadata": {
    "colab": {
      "name": "ann_feat_tuning (1).ipynb",
      "provenance": [],
      "collapsed_sections": []
    },
    "kernelspec": {
      "display_name": "Python 3",
      "language": "python",
      "name": "python3"
    },
    "language_info": {
      "codemirror_mode": {
        "name": "ipython",
        "version": 3
      },
      "file_extension": ".py",
      "mimetype": "text/x-python",
      "name": "python",
      "nbconvert_exporter": "python",
      "pygments_lexer": "ipython3",
      "version": "3.7.3"
    }
  },
  "cells": [
    {
      "cell_type": "code",
      "metadata": {
        "id": "hearing-offset"
      },
      "source": [
        "import pandas as pd\n",
        "import numpy as np\n",
        "import matplotlib.pyplot as plt\n",
        "import seaborn as sns"
      ],
      "id": "hearing-offset",
      "execution_count": 110,
      "outputs": []
    },
    {
      "cell_type": "code",
      "metadata": {
        "id": "pGsWvzo3qL88"
      },
      "source": [
        ""
      ],
      "id": "pGsWvzo3qL88",
      "execution_count": 110,
      "outputs": []
    },
    {
      "cell_type": "code",
      "metadata": {
        "id": "unsigned-footwear"
      },
      "source": [
        "df=pd.read_excel('final_feat.xlsx')"
      ],
      "id": "unsigned-footwear",
      "execution_count": 112,
      "outputs": []
    },
    {
      "cell_type": "code",
      "metadata": {
        "colab": {
          "base_uri": "https://localhost:8080/",
          "height": 356
        },
        "id": "sized-pioneer",
        "outputId": "c7205218-762c-4687-c344-91c0ab12ed9f"
      },
      "source": [
        "df.head()"
      ],
      "id": "sized-pioneer",
      "execution_count": 113,
      "outputs": [
        {
          "output_type": "execute_result",
          "data": {
            "text/html": [
              "<div>\n",
              "<style scoped>\n",
              "    .dataframe tbody tr th:only-of-type {\n",
              "        vertical-align: middle;\n",
              "    }\n",
              "\n",
              "    .dataframe tbody tr th {\n",
              "        vertical-align: top;\n",
              "    }\n",
              "\n",
              "    .dataframe thead th {\n",
              "        text-align: right;\n",
              "    }\n",
              "</style>\n",
              "<table border=\"1\" class=\"dataframe\">\n",
              "  <thead>\n",
              "    <tr style=\"text-align: right;\">\n",
              "      <th></th>\n",
              "      <th>Day of week</th>\n",
              "      <th>Cost</th>\n",
              "      <th>Impressions</th>\n",
              "      <th>Clicks</th>\n",
              "      <th>CTR</th>\n",
              "      <th>Avg. CPC</th>\n",
              "      <th>Conversions</th>\n",
              "      <th>Conv. rate</th>\n",
              "      <th>Cost / conv.</th>\n",
              "      <th>Search Impr. share</th>\n",
              "      <th>Search Lost IS (rank)</th>\n",
              "      <th>Search Lost IS (budget)</th>\n",
              "      <th>Created Date</th>\n",
              "      <th>Location Zip_x</th>\n",
              "      <th>Income_x</th>\n",
              "      <th>Year Month</th>\n",
              "      <th>Completed Jobs</th>\n",
              "      <th>Income_y</th>\n",
              "      <th>Lead Calls</th>\n",
              "      <th>Canceled Jobs_x</th>\n",
              "      <th>Future Scheduled Jobs</th>\n",
              "      <th>Location Zip_y</th>\n",
              "      <th>tech_count</th>\n",
              "      <th>Avg_job_per_day</th>\n",
              "      <th>county_name</th>\n",
              "      <th>TMAX</th>\n",
              "      <th>TMIN</th>\n",
              "      <th>Total Leads</th>\n",
              "      <th>Total Jobs</th>\n",
              "      <th>Avg Service</th>\n",
              "      <th>Avg Install</th>\n",
              "      <th>Canceled Jobs_y</th>\n",
              "      <th>Turn over %</th>\n",
              "      <th>Canceled %</th>\n",
              "      <th>Avg Sales</th>\n",
              "      <th>bookedjob</th>\n",
              "      <th>totalcalls</th>\n",
              "      <th>Booking rate</th>\n",
              "    </tr>\n",
              "  </thead>\n",
              "  <tbody>\n",
              "    <tr>\n",
              "      <th>0</th>\n",
              "      <td>Thursday</td>\n",
              "      <td>3181.56</td>\n",
              "      <td>13361</td>\n",
              "      <td>156</td>\n",
              "      <td>0.0117</td>\n",
              "      <td>20.39</td>\n",
              "      <td>26.77</td>\n",
              "      <td>0.0486</td>\n",
              "      <td>118.86</td>\n",
              "      <td>0.5337</td>\n",
              "      <td>0.2676</td>\n",
              "      <td>0.1987</td>\n",
              "      <td>2020-01-02</td>\n",
              "      <td>90049</td>\n",
              "      <td>137581.58</td>\n",
              "      <td>2020 January</td>\n",
              "      <td>57</td>\n",
              "      <td>23933.54</td>\n",
              "      <td>60</td>\n",
              "      <td>8.0</td>\n",
              "      <td>63</td>\n",
              "      <td>90049</td>\n",
              "      <td>59</td>\n",
              "      <td>1</td>\n",
              "      <td>Los Angeles</td>\n",
              "      <td>65</td>\n",
              "      <td>51</td>\n",
              "      <td>10</td>\n",
              "      <td>101</td>\n",
              "      <td>143.417833</td>\n",
              "      <td>3224.412750</td>\n",
              "      <td>8</td>\n",
              "      <td>9.900990</td>\n",
              "      <td>7.920792</td>\n",
              "      <td>3617.444828</td>\n",
              "      <td>49</td>\n",
              "      <td>155</td>\n",
              "      <td>31.612903</td>\n",
              "    </tr>\n",
              "    <tr>\n",
              "      <th>1</th>\n",
              "      <td>Friday</td>\n",
              "      <td>2684.67</td>\n",
              "      <td>16841</td>\n",
              "      <td>160</td>\n",
              "      <td>0.0095</td>\n",
              "      <td>16.78</td>\n",
              "      <td>21.00</td>\n",
              "      <td>0.0299</td>\n",
              "      <td>127.84</td>\n",
              "      <td>0.5477</td>\n",
              "      <td>0.3122</td>\n",
              "      <td>0.1401</td>\n",
              "      <td>2020-01-03</td>\n",
              "      <td>92262</td>\n",
              "      <td>43204.73</td>\n",
              "      <td>2020 January</td>\n",
              "      <td>77</td>\n",
              "      <td>65232.03</td>\n",
              "      <td>64</td>\n",
              "      <td>7.0</td>\n",
              "      <td>81</td>\n",
              "      <td>92262</td>\n",
              "      <td>40</td>\n",
              "      <td>2</td>\n",
              "      <td>Riverside</td>\n",
              "      <td>71</td>\n",
              "      <td>44</td>\n",
              "      <td>9</td>\n",
              "      <td>89</td>\n",
              "      <td>75.515208</td>\n",
              "      <td>965.365854</td>\n",
              "      <td>7</td>\n",
              "      <td>10.112360</td>\n",
              "      <td>7.865169</td>\n",
              "      <td>1781.345385</td>\n",
              "      <td>56</td>\n",
              "      <td>176</td>\n",
              "      <td>31.818182</td>\n",
              "    </tr>\n",
              "    <tr>\n",
              "      <th>2</th>\n",
              "      <td>Saturday</td>\n",
              "      <td>1338.36</td>\n",
              "      <td>30788</td>\n",
              "      <td>142</td>\n",
              "      <td>0.0046</td>\n",
              "      <td>9.43</td>\n",
              "      <td>11.00</td>\n",
              "      <td>0.0186</td>\n",
              "      <td>121.67</td>\n",
              "      <td>0.5297</td>\n",
              "      <td>0.3158</td>\n",
              "      <td>0.1545</td>\n",
              "      <td>2020-01-04</td>\n",
              "      <td>92606</td>\n",
              "      <td>14709.40</td>\n",
              "      <td>2020 January</td>\n",
              "      <td>55</td>\n",
              "      <td>26195.32</td>\n",
              "      <td>58</td>\n",
              "      <td>4.0</td>\n",
              "      <td>61</td>\n",
              "      <td>92606</td>\n",
              "      <td>21</td>\n",
              "      <td>3</td>\n",
              "      <td>Orange</td>\n",
              "      <td>69</td>\n",
              "      <td>56</td>\n",
              "      <td>3</td>\n",
              "      <td>31</td>\n",
              "      <td>110.019048</td>\n",
              "      <td>1377.666667</td>\n",
              "      <td>4</td>\n",
              "      <td>9.677419</td>\n",
              "      <td>12.903226</td>\n",
              "      <td>459.248750</td>\n",
              "      <td>30</td>\n",
              "      <td>92</td>\n",
              "      <td>32.608696</td>\n",
              "    </tr>\n",
              "    <tr>\n",
              "      <th>3</th>\n",
              "      <td>Sunday</td>\n",
              "      <td>1192.31</td>\n",
              "      <td>12865</td>\n",
              "      <td>108</td>\n",
              "      <td>0.0084</td>\n",
              "      <td>11.04</td>\n",
              "      <td>5.00</td>\n",
              "      <td>0.0130</td>\n",
              "      <td>238.46</td>\n",
              "      <td>0.5741</td>\n",
              "      <td>0.3349</td>\n",
              "      <td>0.0910</td>\n",
              "      <td>2020-01-05</td>\n",
              "      <td>90638</td>\n",
              "      <td>3725.40</td>\n",
              "      <td>2020 January</td>\n",
              "      <td>6</td>\n",
              "      <td>264.00</td>\n",
              "      <td>32</td>\n",
              "      <td>1.0</td>\n",
              "      <td>6</td>\n",
              "      <td>90638</td>\n",
              "      <td>9</td>\n",
              "      <td>1</td>\n",
              "      <td>Los Angeles</td>\n",
              "      <td>69</td>\n",
              "      <td>52</td>\n",
              "      <td>2</td>\n",
              "      <td>15</td>\n",
              "      <td>67.914286</td>\n",
              "      <td>406.250000</td>\n",
              "      <td>1</td>\n",
              "      <td>13.333333</td>\n",
              "      <td>6.666667</td>\n",
              "      <td>846.000000</td>\n",
              "      <td>11</td>\n",
              "      <td>52</td>\n",
              "      <td>21.153846</td>\n",
              "    </tr>\n",
              "    <tr>\n",
              "      <th>4</th>\n",
              "      <td>Monday</td>\n",
              "      <td>2383.17</td>\n",
              "      <td>49514</td>\n",
              "      <td>188</td>\n",
              "      <td>0.0038</td>\n",
              "      <td>12.68</td>\n",
              "      <td>22.00</td>\n",
              "      <td>0.0566</td>\n",
              "      <td>108.33</td>\n",
              "      <td>0.6027</td>\n",
              "      <td>0.3596</td>\n",
              "      <td>0.0377</td>\n",
              "      <td>2020-01-06</td>\n",
              "      <td>90045</td>\n",
              "      <td>74598.75</td>\n",
              "      <td>2020 January</td>\n",
              "      <td>73</td>\n",
              "      <td>48506.16</td>\n",
              "      <td>62</td>\n",
              "      <td>5.0</td>\n",
              "      <td>82</td>\n",
              "      <td>90045</td>\n",
              "      <td>60</td>\n",
              "      <td>2</td>\n",
              "      <td>Los Angeles</td>\n",
              "      <td>77</td>\n",
              "      <td>60</td>\n",
              "      <td>8</td>\n",
              "      <td>91</td>\n",
              "      <td>78.753750</td>\n",
              "      <td>1646.943488</td>\n",
              "      <td>5</td>\n",
              "      <td>8.791209</td>\n",
              "      <td>5.494505</td>\n",
              "      <td>1820.060789</td>\n",
              "      <td>54</td>\n",
              "      <td>159</td>\n",
              "      <td>33.962264</td>\n",
              "    </tr>\n",
              "  </tbody>\n",
              "</table>\n",
              "</div>"
            ],
            "text/plain": [
              "  Day of week     Cost  Impressions  ...  bookedjob  totalcalls  Booking rate\n",
              "0    Thursday  3181.56        13361  ...         49         155     31.612903\n",
              "1      Friday  2684.67        16841  ...         56         176     31.818182\n",
              "2    Saturday  1338.36        30788  ...         30          92     32.608696\n",
              "3      Sunday  1192.31        12865  ...         11          52     21.153846\n",
              "4      Monday  2383.17        49514  ...         54         159     33.962264\n",
              "\n",
              "[5 rows x 38 columns]"
            ]
          },
          "metadata": {
            "tags": []
          },
          "execution_count": 113
        }
      ]
    },
    {
      "cell_type": "code",
      "metadata": {
        "colab": {
          "base_uri": "https://localhost:8080/"
        },
        "id": "SW6LHHZo_z95",
        "outputId": "e53330ec-c5d1-44bf-ba09-bb6881d62f56"
      },
      "source": [
        "df.columns"
      ],
      "id": "SW6LHHZo_z95",
      "execution_count": 114,
      "outputs": [
        {
          "output_type": "execute_result",
          "data": {
            "text/plain": [
              "Index(['Day of week', 'Cost', 'Impressions', 'Clicks', 'CTR', 'Avg. CPC',\n",
              "       'Conversions', 'Conv. rate', 'Cost / conv.', 'Search Impr. share',\n",
              "       'Search Lost IS (rank)', 'Search Lost IS (budget)', 'Created Date',\n",
              "       'Location Zip_x', 'Income_x', 'Year Month', 'Completed Jobs',\n",
              "       'Income_y', 'Lead Calls', 'Canceled Jobs_x', 'Future Scheduled Jobs',\n",
              "       'Location Zip_y', 'tech_count', 'Avg_job_per_day', 'county_name',\n",
              "       'TMAX', 'TMIN', 'Total Leads', 'Total Jobs ', 'Avg Service',\n",
              "       'Avg Install', 'Canceled Jobs_y', 'Turn over %', 'Canceled %',\n",
              "       'Avg Sales', 'bookedjob', 'totalcalls', 'Booking rate'],\n",
              "      dtype='object')"
            ]
          },
          "metadata": {
            "tags": []
          },
          "execution_count": 114
        }
      ]
    },
    {
      "cell_type": "code",
      "metadata": {
        "id": "bxNhpJ0HXcJt"
      },
      "source": [
        ""
      ],
      "id": "bxNhpJ0HXcJt",
      "execution_count": 114,
      "outputs": []
    },
    {
      "cell_type": "code",
      "metadata": {
        "colab": {
          "base_uri": "https://localhost:8080/"
        },
        "id": "Qbbv7aIvX2fS",
        "outputId": "0003f476-0934-4add-b0ad-f3b988ec6bc5"
      },
      "source": [
        "df.shape"
      ],
      "id": "Qbbv7aIvX2fS",
      "execution_count": 115,
      "outputs": [
        {
          "output_type": "execute_result",
          "data": {
            "text/plain": [
              "(350, 38)"
            ]
          },
          "metadata": {
            "tags": []
          },
          "execution_count": 115
        }
      ]
    },
    {
      "cell_type": "code",
      "metadata": {
        "id": "negative-rendering"
      },
      "source": [
        "df1=df[['Completed Jobs','tech_count','TMAX','Avg Sales','Income_y']]\n",
        "    "
      ],
      "id": "negative-rendering",
      "execution_count": 116,
      "outputs": []
    },
    {
      "cell_type": "code",
      "metadata": {
        "id": "FMFoEr_iYF0z"
      },
      "source": [
        "df1=df1.drop_duplicates(ignore_index=True)"
      ],
      "id": "FMFoEr_iYF0z",
      "execution_count": 117,
      "outputs": []
    },
    {
      "cell_type": "code",
      "metadata": {
        "colab": {
          "base_uri": "https://localhost:8080/"
        },
        "id": "aKJKZGLjYIfj",
        "outputId": "eb8d9f0a-1a9c-4106-abfa-23b89e03a20e"
      },
      "source": [
        "df1.shape"
      ],
      "id": "aKJKZGLjYIfj",
      "execution_count": 118,
      "outputs": [
        {
          "output_type": "execute_result",
          "data": {
            "text/plain": [
              "(344, 5)"
            ]
          },
          "metadata": {
            "tags": []
          },
          "execution_count": 118
        }
      ]
    },
    {
      "cell_type": "code",
      "metadata": {
        "id": "retired-madagascar"
      },
      "source": [
        "#Mean_encoded_subject =df1.groupby(['Location Zip_y'])['Income_y'].mean().to_dict() \n",
        "  \n",
        "#df1['Zip_income'] = df1['Location Zip_y'].map(Mean_encoded_subject) \n",
        "\n",
        "\n",
        "#df1=df1.drop(['Location Zip_y'],axis=1)\n",
        "  \n"
      ],
      "id": "retired-madagascar",
      "execution_count": 119,
      "outputs": []
    },
    {
      "cell_type": "code",
      "metadata": {
        "colab": {
          "base_uri": "https://localhost:8080/",
          "height": 198
        },
        "id": "processed-needle",
        "outputId": "ae9af3b4-2b12-4816-da71-89d2eb301fd3"
      },
      "source": [
        "df1.head()"
      ],
      "id": "processed-needle",
      "execution_count": 120,
      "outputs": [
        {
          "output_type": "execute_result",
          "data": {
            "text/html": [
              "<div>\n",
              "<style scoped>\n",
              "    .dataframe tbody tr th:only-of-type {\n",
              "        vertical-align: middle;\n",
              "    }\n",
              "\n",
              "    .dataframe tbody tr th {\n",
              "        vertical-align: top;\n",
              "    }\n",
              "\n",
              "    .dataframe thead th {\n",
              "        text-align: right;\n",
              "    }\n",
              "</style>\n",
              "<table border=\"1\" class=\"dataframe\">\n",
              "  <thead>\n",
              "    <tr style=\"text-align: right;\">\n",
              "      <th></th>\n",
              "      <th>Completed Jobs</th>\n",
              "      <th>tech_count</th>\n",
              "      <th>TMAX</th>\n",
              "      <th>Avg Sales</th>\n",
              "      <th>Income_y</th>\n",
              "    </tr>\n",
              "  </thead>\n",
              "  <tbody>\n",
              "    <tr>\n",
              "      <th>0</th>\n",
              "      <td>57</td>\n",
              "      <td>59</td>\n",
              "      <td>65</td>\n",
              "      <td>3617.444828</td>\n",
              "      <td>23933.54</td>\n",
              "    </tr>\n",
              "    <tr>\n",
              "      <th>1</th>\n",
              "      <td>77</td>\n",
              "      <td>40</td>\n",
              "      <td>71</td>\n",
              "      <td>1781.345385</td>\n",
              "      <td>65232.03</td>\n",
              "    </tr>\n",
              "    <tr>\n",
              "      <th>2</th>\n",
              "      <td>55</td>\n",
              "      <td>21</td>\n",
              "      <td>69</td>\n",
              "      <td>459.248750</td>\n",
              "      <td>26195.32</td>\n",
              "    </tr>\n",
              "    <tr>\n",
              "      <th>3</th>\n",
              "      <td>6</td>\n",
              "      <td>9</td>\n",
              "      <td>69</td>\n",
              "      <td>846.000000</td>\n",
              "      <td>264.00</td>\n",
              "    </tr>\n",
              "    <tr>\n",
              "      <th>4</th>\n",
              "      <td>73</td>\n",
              "      <td>60</td>\n",
              "      <td>77</td>\n",
              "      <td>1820.060789</td>\n",
              "      <td>48506.16</td>\n",
              "    </tr>\n",
              "  </tbody>\n",
              "</table>\n",
              "</div>"
            ],
            "text/plain": [
              "   Completed Jobs  tech_count  TMAX    Avg Sales  Income_y\n",
              "0              57          59    65  3617.444828  23933.54\n",
              "1              77          40    71  1781.345385  65232.03\n",
              "2              55          21    69   459.248750  26195.32\n",
              "3               6           9    69   846.000000    264.00\n",
              "4              73          60    77  1820.060789  48506.16"
            ]
          },
          "metadata": {
            "tags": []
          },
          "execution_count": 120
        }
      ]
    },
    {
      "cell_type": "code",
      "metadata": {
        "id": "royal-designation"
      },
      "source": [
        ""
      ],
      "id": "royal-designation",
      "execution_count": 120,
      "outputs": []
    },
    {
      "cell_type": "code",
      "metadata": {
        "id": "renewable-beaver",
        "colab": {
          "base_uri": "https://localhost:8080/",
          "height": 355
        },
        "outputId": "707b843a-e70b-48de-b806-98b0758e3edb"
      },
      "source": [
        "sns.heatmap(df1.corr(method='spearman'),annot=True)"
      ],
      "id": "renewable-beaver",
      "execution_count": 121,
      "outputs": [
        {
          "output_type": "execute_result",
          "data": {
            "text/plain": [
              "<matplotlib.axes._subplots.AxesSubplot at 0x7fed78a4ac10>"
            ]
          },
          "metadata": {
            "tags": []
          },
          "execution_count": 121
        },
        {
          "output_type": "display_data",
          "data": {
            "image/png": "[encoded data removed]",
            "text/plain": [
              "<Figure size 432x288 with 2 Axes>"
            ]
          },
          "metadata": {
            "tags": [],
            "needs_background": "light"
          }
        }
      ]
    },
    {
      "cell_type": "code",
      "metadata": {
        "colab": {
          "base_uri": "https://localhost:8080/"
        },
        "id": "PC41CO_6h0qs",
        "outputId": "386d39ca-4c44-4bc1-8d7a-49f4cb6586b3"
      },
      "source": [
        "76**3*1.7543"
      ],
      "id": "PC41CO_6h0qs",
      "execution_count": 122,
      "outputs": [
        {
          "output_type": "execute_result",
          "data": {
            "text/plain": [
              "770095.5967999999"
            ]
          },
          "metadata": {
            "tags": []
          },
          "execution_count": 122
        }
      ]
    },
    {
      "cell_type": "code",
      "metadata": {
        "colab": {
          "base_uri": "https://localhost:8080/",
          "height": 198
        },
        "id": "studied-grant",
        "outputId": "84be63b0-8cb5-41a1-cc47-716cd84a8f3f"
      },
      "source": [
        "df1.head()"
      ],
      "id": "studied-grant",
      "execution_count": 123,
      "outputs": [
        {
          "output_type": "execute_result",
          "data": {
            "text/html": [
              "<div>\n",
              "<style scoped>\n",
              "    .dataframe tbody tr th:only-of-type {\n",
              "        vertical-align: middle;\n",
              "    }\n",
              "\n",
              "    .dataframe tbody tr th {\n",
              "        vertical-align: top;\n",
              "    }\n",
              "\n",
              "    .dataframe thead th {\n",
              "        text-align: right;\n",
              "    }\n",
              "</style>\n",
              "<table border=\"1\" class=\"dataframe\">\n",
              "  <thead>\n",
              "    <tr style=\"text-align: right;\">\n",
              "      <th></th>\n",
              "      <th>Completed Jobs</th>\n",
              "      <th>tech_count</th>\n",
              "      <th>TMAX</th>\n",
              "      <th>Avg Sales</th>\n",
              "      <th>Income_y</th>\n",
              "    </tr>\n",
              "  </thead>\n",
              "  <tbody>\n",
              "    <tr>\n",
              "      <th>0</th>\n",
              "      <td>57</td>\n",
              "      <td>59</td>\n",
              "      <td>65</td>\n",
              "      <td>3617.444828</td>\n",
              "      <td>23933.54</td>\n",
              "    </tr>\n",
              "    <tr>\n",
              "      <th>1</th>\n",
              "      <td>77</td>\n",
              "      <td>40</td>\n",
              "      <td>71</td>\n",
              "      <td>1781.345385</td>\n",
              "      <td>65232.03</td>\n",
              "    </tr>\n",
              "    <tr>\n",
              "      <th>2</th>\n",
              "      <td>55</td>\n",
              "      <td>21</td>\n",
              "      <td>69</td>\n",
              "      <td>459.248750</td>\n",
              "      <td>26195.32</td>\n",
              "    </tr>\n",
              "    <tr>\n",
              "      <th>3</th>\n",
              "      <td>6</td>\n",
              "      <td>9</td>\n",
              "      <td>69</td>\n",
              "      <td>846.000000</td>\n",
              "      <td>264.00</td>\n",
              "    </tr>\n",
              "    <tr>\n",
              "      <th>4</th>\n",
              "      <td>73</td>\n",
              "      <td>60</td>\n",
              "      <td>77</td>\n",
              "      <td>1820.060789</td>\n",
              "      <td>48506.16</td>\n",
              "    </tr>\n",
              "  </tbody>\n",
              "</table>\n",
              "</div>"
            ],
            "text/plain": [
              "   Completed Jobs  tech_count  TMAX    Avg Sales  Income_y\n",
              "0              57          59    65  3617.444828  23933.54\n",
              "1              77          40    71  1781.345385  65232.03\n",
              "2              55          21    69   459.248750  26195.32\n",
              "3               6           9    69   846.000000    264.00\n",
              "4              73          60    77  1820.060789  48506.16"
            ]
          },
          "metadata": {
            "tags": []
          },
          "execution_count": 123
        }
      ]
    },
    {
      "cell_type": "code",
      "metadata": {
        "id": "bWx84n6yg3Or"
      },
      "source": [
        ""
      ],
      "id": "bWx84n6yg3Or",
      "execution_count": 123,
      "outputs": []
    },
    {
      "cell_type": "code",
      "metadata": {
        "id": "soviet-language"
      },
      "source": [
        "\n",
        "#df1['f1']=np.sqrt(df1['Completed Jobs']**3)*np.abs(df1['Avg Sales'])\n",
        "#df1['f2']=np.abs(np.sqrt(df1['Completed Jobs']) - np.sqrt(df1['tech_count']))\n",
        "#df1['f3']=np.log(np.sqrt(df1['Completed Jobs'])*df1['TMAX']**3)"
      ],
      "id": "soviet-language",
      "execution_count": 124,
      "outputs": []
    },
    {
      "cell_type": "code",
      "metadata": {
        "id": "Nfmdz80k7rD8"
      },
      "source": [
        ""
      ],
      "id": "Nfmdz80k7rD8",
      "execution_count": 124,
      "outputs": []
    },
    {
      "cell_type": "code",
      "metadata": {
        "colab": {
          "base_uri": "https://localhost:8080/"
        },
        "id": "textile-reducing",
        "outputId": "f69ade01-c140-4c30-a5b2-0ebf7bcdb8bc"
      },
      "source": [
        "df1.columns"
      ],
      "id": "textile-reducing",
      "execution_count": 125,
      "outputs": [
        {
          "output_type": "execute_result",
          "data": {
            "text/plain": [
              "Index(['Completed Jobs', 'tech_count', 'TMAX', 'Avg Sales', 'Income_y'], dtype='object')"
            ]
          },
          "metadata": {
            "tags": []
          },
          "execution_count": 125
        }
      ]
    },
    {
      "cell_type": "code",
      "metadata": {
        "id": "PczCtZbB78Lf"
      },
      "source": [
        "#df1=df1[['f1','f2', 'f3','Income_y']]"
      ],
      "id": "PczCtZbB78Lf",
      "execution_count": 126,
      "outputs": []
    },
    {
      "cell_type": "code",
      "metadata": {
        "colab": {
          "base_uri": "https://localhost:8080/",
          "height": 1000
        },
        "id": "sunset-greek",
        "outputId": "0ca6bf91-8d31-477f-b298-92bb1dd1b3f2"
      },
      "source": [
        "for i in df1.columns:\n",
        "    sns.scatterplot(df1[i],df1['Income_y'])\n",
        "    plt.show()"
      ],
      "id": "sunset-greek",
      "execution_count": 127,
      "outputs": [
        {
          "output_type": "stream",
          "text": [
            "/usr/local/lib/python3.7/dist-packages/seaborn/_decorators.py:43: FutureWarning: Pass the following variables as keyword args: x, y. From version 0.12, the only valid positional argument will be `data`, and passing other arguments without an explicit keyword will result in an error or misinterpretation.\n",
            "  FutureWarning\n"
          ],
          "name": "stderr"
        },
        {
          "output_type": "display_data",
          "data": {
            "image/png": "[encoded data removed]",
            "text/plain": [
              "<Figure size 432x288 with 1 Axes>"
            ]
          },
          "metadata": {
            "tags": [],
            "needs_background": "light"
          }
        },
        {
          "output_type": "stream",
          "text": [
            "/usr/local/lib/python3.7/dist-packages/seaborn/_decorators.py:43: FutureWarning: Pass the following variables as keyword args: x, y. From version 0.12, the only valid positional argument will be `data`, and passing other arguments without an explicit keyword will result in an error or misinterpretation.\n",
            "  FutureWarning\n"
          ],
          "name": "stderr"
        },
        {
          "output_type": "display_data",
          "data": {
            "image/png": "[encoded data removed]",
            "text/plain": [
              "<Figure size 432x288 with 1 Axes>"
            ]
          },
          "metadata": {
            "tags": [],
            "needs_background": "light"
          }
        },
        {
          "output_type": "stream",
          "text": [
            "/usr/local/lib/python3.7/dist-packages/seaborn/_decorators.py:43: FutureWarning: Pass the following variables as keyword args: x, y. From version 0.12, the only valid positional argument will be `data`, and passing other arguments without an explicit keyword will result in an error or misinterpretation.\n",
            "  FutureWarning\n"
          ],
          "name": "stderr"
        },
        {
          "output_type": "display_data",
          "data": {
            "image/png": "[encoded data removed]",
            "text/plain": [
              "<Figure size 432x288 with 1 Axes>"
            ]
          },
          "metadata": {
            "tags": [],
            "needs_background": "light"
          }
        },
        {
          "output_type": "stream",
          "text": [
            "/usr/local/lib/python3.7/dist-packages/seaborn/_decorators.py:43: FutureWarning: Pass the following variables as keyword args: x, y. From version 0.12, the only valid positional argument will be `data`, and passing other arguments without an explicit keyword will result in an error or misinterpretation.\n",
            "  FutureWarning\n"
          ],
          "name": "stderr"
        },
        {
          "output_type": "display_data",
          "data": {
            "image/png": "[encoded data removed]",
            "text/plain": [
              "<Figure size 432x288 with 1 Axes>"
            ]
          },
          "metadata": {
            "tags": [],
            "needs_background": "light"
          }
        },
        {
          "output_type": "stream",
          "text": [
            "/usr/local/lib/python3.7/dist-packages/seaborn/_decorators.py:43: FutureWarning: Pass the following variables as keyword args: x, y. From version 0.12, the only valid positional argument will be `data`, and passing other arguments without an explicit keyword will result in an error or misinterpretation.\n",
            "  FutureWarning\n"
          ],
          "name": "stderr"
        },
        {
          "output_type": "display_data",
          "data": {
            "image/png": "[encoded data removed]",
            "text/plain": [
              "<Figure size 432x288 with 1 Axes>"
            ]
          },
          "metadata": {
            "tags": [],
            "needs_background": "light"
          }
        }
      ]
    },
    {
      "cell_type": "code",
      "metadata": {
        "colab": {
          "base_uri": "https://localhost:8080/",
          "height": 355
        },
        "id": "olympic-white",
        "outputId": "032e7468-1a28-4aa0-ffba-eba538b32c82"
      },
      "source": [
        "sns.heatmap(df1.corr(method='spearman'),annot=True)"
      ],
      "id": "olympic-white",
      "execution_count": 128,
      "outputs": [
        {
          "output_type": "execute_result",
          "data": {
            "text/plain": [
              "<matplotlib.axes._subplots.AxesSubplot at 0x7fed78afa910>"
            ]
          },
          "metadata": {
            "tags": []
          },
          "execution_count": 128
        },
        {
          "output_type": "display_data",
          "data": {
            "image/png": "[encoded data removed]",
            "text/plain": [
              "<Figure size 432x288 with 2 Axes>"
            ]
          },
          "metadata": {
            "tags": [],
            "needs_background": "light"
          }
        }
      ]
    },
    {
      "cell_type": "code",
      "metadata": {
        "id": "removed-company"
      },
      "source": [
        ""
      ],
      "id": "removed-company",
      "execution_count": 128,
      "outputs": []
    },
    {
      "cell_type": "code",
      "metadata": {
        "id": "lightweight-mozambique"
      },
      "source": [
        "train=df1[0:300]\n",
        "test=df1[300:]"
      ],
      "id": "lightweight-mozambique",
      "execution_count": 129,
      "outputs": []
    },
    {
      "cell_type": "code",
      "metadata": {
        "id": "asian-sword"
      },
      "source": [
        "y=train['Income_y']\n",
        "X=train.drop(['Income_y'],axis=1)"
      ],
      "id": "asian-sword",
      "execution_count": 130,
      "outputs": []
    },
    {
      "cell_type": "code",
      "metadata": {
        "colab": {
          "base_uri": "https://localhost:8080/",
          "height": 198
        },
        "id": "bound-tourist",
        "outputId": "69026335-4609-49d3-828e-6c991113b21a"
      },
      "source": [
        "X.head()"
      ],
      "id": "bound-tourist",
      "execution_count": 131,
      "outputs": [
        {
          "output_type": "execute_result",
          "data": {
            "text/html": [
              "<div>\n",
              "<style scoped>\n",
              "    .dataframe tbody tr th:only-of-type {\n",
              "        vertical-align: middle;\n",
              "    }\n",
              "\n",
              "    .dataframe tbody tr th {\n",
              "        vertical-align: top;\n",
              "    }\n",
              "\n",
              "    .dataframe thead th {\n",
              "        text-align: right;\n",
              "    }\n",
              "</style>\n",
              "<table border=\"1\" class=\"dataframe\">\n",
              "  <thead>\n",
              "    <tr style=\"text-align: right;\">\n",
              "      <th></th>\n",
              "      <th>Completed Jobs</th>\n",
              "      <th>tech_count</th>\n",
              "      <th>TMAX</th>\n",
              "      <th>Avg Sales</th>\n",
              "    </tr>\n",
              "  </thead>\n",
              "  <tbody>\n",
              "    <tr>\n",
              "      <th>0</th>\n",
              "      <td>57</td>\n",
              "      <td>59</td>\n",
              "      <td>65</td>\n",
              "      <td>3617.444828</td>\n",
              "    </tr>\n",
              "    <tr>\n",
              "      <th>1</th>\n",
              "      <td>77</td>\n",
              "      <td>40</td>\n",
              "      <td>71</td>\n",
              "      <td>1781.345385</td>\n",
              "    </tr>\n",
              "    <tr>\n",
              "      <th>2</th>\n",
              "      <td>55</td>\n",
              "      <td>21</td>\n",
              "      <td>69</td>\n",
              "      <td>459.248750</td>\n",
              "    </tr>\n",
              "    <tr>\n",
              "      <th>3</th>\n",
              "      <td>6</td>\n",
              "      <td>9</td>\n",
              "      <td>69</td>\n",
              "      <td>846.000000</td>\n",
              "    </tr>\n",
              "    <tr>\n",
              "      <th>4</th>\n",
              "      <td>73</td>\n",
              "      <td>60</td>\n",
              "      <td>77</td>\n",
              "      <td>1820.060789</td>\n",
              "    </tr>\n",
              "  </tbody>\n",
              "</table>\n",
              "</div>"
            ],
            "text/plain": [
              "   Completed Jobs  tech_count  TMAX    Avg Sales\n",
              "0              57          59    65  3617.444828\n",
              "1              77          40    71  1781.345385\n",
              "2              55          21    69   459.248750\n",
              "3               6           9    69   846.000000\n",
              "4              73          60    77  1820.060789"
            ]
          },
          "metadata": {
            "tags": []
          },
          "execution_count": 131
        }
      ]
    },
    {
      "cell_type": "code",
      "metadata": {
        "id": "resident-excellence"
      },
      "source": [
        "from sklearn.preprocessing import StandardScaler,MinMaxScaler\n",
        "\n",
        "\n"
      ],
      "id": "resident-excellence",
      "execution_count": 132,
      "outputs": []
    },
    {
      "cell_type": "code",
      "metadata": {
        "id": "intensive-hindu"
      },
      "source": [
        "scaler=MinMaxScaler()"
      ],
      "id": "intensive-hindu",
      "execution_count": 133,
      "outputs": []
    },
    {
      "cell_type": "code",
      "metadata": {
        "id": "continued-headset"
      },
      "source": [
        ""
      ],
      "id": "continued-headset",
      "execution_count": 133,
      "outputs": []
    },
    {
      "cell_type": "code",
      "metadata": {
        "id": "meaning-casting"
      },
      "source": [
        ""
      ],
      "id": "meaning-casting",
      "execution_count": 133,
      "outputs": []
    },
    {
      "cell_type": "code",
      "metadata": {
        "id": "decimal-tattoo"
      },
      "source": [
        ""
      ],
      "id": "decimal-tattoo",
      "execution_count": 133,
      "outputs": []
    },
    {
      "cell_type": "code",
      "metadata": {
        "id": "extensive-glucose"
      },
      "source": [
        "X=scaler.fit_transform(X)"
      ],
      "id": "extensive-glucose",
      "execution_count": 134,
      "outputs": []
    },
    {
      "cell_type": "code",
      "metadata": {
        "colab": {
          "base_uri": "https://localhost:8080/"
        },
        "id": "engaged-allen",
        "outputId": "e8dfdfb7-7e60-46d4-f51b-ccb122db5fc4"
      },
      "source": [
        "X"
      ],
      "id": "engaged-allen",
      "execution_count": 135,
      "outputs": [
        {
          "output_type": "execute_result",
          "data": {
            "text/plain": [
              "array([[0.28282828, 0.65882353, 0.2238806 , 0.28783598],\n",
              "       [0.38383838, 0.43529412, 0.31343284, 0.138097  ],\n",
              "       [0.27272727, 0.21176471, 0.28358209, 0.03027636],\n",
              "       ...,\n",
              "       [0.61616162, 0.45882353, 0.13432836, 0.08728453],\n",
              "       [0.24747475, 0.16470588, 0.08955224, 0.1091494 ],\n",
              "       [0.02525253, 0.10588235, 0.26865672, 0.14553091]])"
            ]
          },
          "metadata": {
            "tags": []
          },
          "execution_count": 135
        }
      ]
    },
    {
      "cell_type": "code",
      "metadata": {
        "id": "virgin-array"
      },
      "source": [
        "\n",
        "y=y.values\n",
        "y=y.reshape(-1,1)"
      ],
      "id": "virgin-array",
      "execution_count": 136,
      "outputs": []
    },
    {
      "cell_type": "code",
      "metadata": {
        "id": "HDAFJrPweHaQ"
      },
      "source": [
        "\n",
        "y=scaler.fit_transform(y)"
      ],
      "id": "HDAFJrPweHaQ",
      "execution_count": 137,
      "outputs": []
    },
    {
      "cell_type": "code",
      "metadata": {
        "id": "q3axj7uGeKfV"
      },
      "source": [
        "from sklearn.model_selection import train_test_split\n",
        "X_train, X_test, y_train, y_test = train_test_split(X, y, test_size=0.2, random_state=42)"
      ],
      "id": "q3axj7uGeKfV",
      "execution_count": 138,
      "outputs": []
    },
    {
      "cell_type": "code",
      "metadata": {
        "id": "Hc5qRA5zeuef"
      },
      "source": [
        "from keras.layers import Dense, Activation,Dropout,BatchNormalization\n",
        "from keras.models import Sequential\n"
      ],
      "id": "Hc5qRA5zeuef",
      "execution_count": 139,
      "outputs": []
    },
    {
      "cell_type": "code",
      "metadata": {
        "id": "hp1885WHfFOK"
      },
      "source": [
        "model = Sequential()\n",
        "model.add(Dense(32, activation = 'relu', input_dim =4))\n",
        "model.add(Dense(1,activation='linear'))\n",
        "model.compile(optimizer='Adam', loss='MeanSquaredError', metrics = ['MeanSquaredError'])\n"
      ],
      "id": "hp1885WHfFOK",
      "execution_count": 140,
      "outputs": []
    },
    {
      "cell_type": "code",
      "metadata": {
        "colab": {
          "base_uri": "https://localhost:8080/"
        },
        "id": "1XRBkeKhfL6g",
        "outputId": "81a7cde3-d3dd-4049-dfc7-c9c161cdcdb9"
      },
      "source": [
        "history=model.fit(X_train, y_train, batch_size = 32, epochs = 100,validation_data=(X_test,y_test))\n"
      ],
      "id": "1XRBkeKhfL6g",
      "execution_count": 141,
      "outputs": [
        {
          "output_type": "stream",
          "text": [
            "Epoch 1/100\n",
            "8/8 [==============================] - 1s 24ms/step - loss: 0.1775 - mean_squared_error: 0.1775 - val_loss: 0.1269 - val_mean_squared_error: 0.1269\n",
            "Epoch 2/100\n",
            "8/8 [==============================] - 0s 6ms/step - loss: 0.1194 - mean_squared_error: 0.1194 - val_loss: 0.0771 - val_mean_squared_error: 0.0771\n",
            "Epoch 3/100\n",
            "8/8 [==============================] - 0s 7ms/step - loss: 0.0740 - mean_squared_error: 0.0740 - val_loss: 0.0484 - val_mean_squared_error: 0.0484\n",
            "Epoch 4/100\n",
            "8/8 [==============================] - 0s 7ms/step - loss: 0.0514 - mean_squared_error: 0.0514 - val_loss: 0.0343 - val_mean_squared_error: 0.0343\n",
            "Epoch 5/100\n",
            "8/8 [==============================] - 0s 6ms/step - loss: 0.0390 - mean_squared_error: 0.0390 - val_loss: 0.0289 - val_mean_squared_error: 0.0289\n",
            "Epoch 6/100\n",
            "8/8 [==============================] - 0s 6ms/step - loss: 0.0311 - mean_squared_error: 0.0311 - val_loss: 0.0269 - val_mean_squared_error: 0.0269\n",
            "Epoch 7/100\n",
            "8/8 [==============================] - 0s 6ms/step - loss: 0.0299 - mean_squared_error: 0.0299 - val_loss: 0.0256 - val_mean_squared_error: 0.0256\n",
            "Epoch 8/100\n",
            "8/8 [==============================] - 0s 8ms/step - loss: 0.0306 - mean_squared_error: 0.0306 - val_loss: 0.0242 - val_mean_squared_error: 0.0242\n",
            "Epoch 9/100\n",
            "8/8 [==============================] - 0s 6ms/step - loss: 0.0251 - mean_squared_error: 0.0251 - val_loss: 0.0229 - val_mean_squared_error: 0.0229\n",
            "Epoch 10/100\n",
            "8/8 [==============================] - 0s 7ms/step - loss: 0.0252 - mean_squared_error: 0.0252 - val_loss: 0.0216 - val_mean_squared_error: 0.0216\n",
            "Epoch 11/100\n",
            "8/8 [==============================] - 0s 6ms/step - loss: 0.0272 - mean_squared_error: 0.0272 - val_loss: 0.0203 - val_mean_squared_error: 0.0203\n",
            "Epoch 12/100\n",
            "8/8 [==============================] - 0s 7ms/step - loss: 0.0236 - mean_squared_error: 0.0236 - val_loss: 0.0193 - val_mean_squared_error: 0.0193\n",
            "Epoch 13/100\n",
            "8/8 [==============================] - 0s 7ms/step - loss: 0.0208 - mean_squared_error: 0.0208 - val_loss: 0.0185 - val_mean_squared_error: 0.0185\n",
            "Epoch 14/100\n",
            "8/8 [==============================] - 0s 6ms/step - loss: 0.0203 - mean_squared_error: 0.0203 - val_loss: 0.0175 - val_mean_squared_error: 0.0175\n",
            "Epoch 15/100\n",
            "8/8 [==============================] - 0s 6ms/step - loss: 0.0225 - mean_squared_error: 0.0225 - val_loss: 0.0169 - val_mean_squared_error: 0.0169\n",
            "Epoch 16/100\n",
            "8/8 [==============================] - 0s 8ms/step - loss: 0.0188 - mean_squared_error: 0.0188 - val_loss: 0.0162 - val_mean_squared_error: 0.0162\n",
            "Epoch 17/100\n",
            "8/8 [==============================] - 0s 8ms/step - loss: 0.0233 - mean_squared_error: 0.0233 - val_loss: 0.0156 - val_mean_squared_error: 0.0156\n",
            "Epoch 18/100\n",
            "8/8 [==============================] - 0s 8ms/step - loss: 0.0205 - mean_squared_error: 0.0205 - val_loss: 0.0152 - val_mean_squared_error: 0.0152\n",
            "Epoch 19/100\n",
            "8/8 [==============================] - 0s 8ms/step - loss: 0.0204 - mean_squared_error: 0.0204 - val_loss: 0.0150 - val_mean_squared_error: 0.0150\n",
            "Epoch 20/100\n",
            "8/8 [==============================] - 0s 8ms/step - loss: 0.0182 - mean_squared_error: 0.0182 - val_loss: 0.0146 - val_mean_squared_error: 0.0146\n",
            "Epoch 21/100\n",
            "8/8 [==============================] - 0s 7ms/step - loss: 0.0203 - mean_squared_error: 0.0203 - val_loss: 0.0144 - val_mean_squared_error: 0.0144\n",
            "Epoch 22/100\n",
            "8/8 [==============================] - 0s 7ms/step - loss: 0.0161 - mean_squared_error: 0.0161 - val_loss: 0.0141 - val_mean_squared_error: 0.0141\n",
            "Epoch 23/100\n",
            "8/8 [==============================] - 0s 7ms/step - loss: 0.0170 - mean_squared_error: 0.0170 - val_loss: 0.0138 - val_mean_squared_error: 0.0138\n",
            "Epoch 24/100\n",
            "8/8 [==============================] - 0s 8ms/step - loss: 0.0178 - mean_squared_error: 0.0178 - val_loss: 0.0136 - val_mean_squared_error: 0.0136\n",
            "Epoch 25/100\n",
            "8/8 [==============================] - 0s 8ms/step - loss: 0.0178 - mean_squared_error: 0.0178 - val_loss: 0.0134 - val_mean_squared_error: 0.0134\n",
            "Epoch 26/100\n",
            "8/8 [==============================] - 0s 6ms/step - loss: 0.0199 - mean_squared_error: 0.0199 - val_loss: 0.0134 - val_mean_squared_error: 0.0134\n",
            "Epoch 27/100\n",
            "8/8 [==============================] - 0s 7ms/step - loss: 0.0177 - mean_squared_error: 0.0177 - val_loss: 0.0134 - val_mean_squared_error: 0.0134\n",
            "Epoch 28/100\n",
            "8/8 [==============================] - 0s 8ms/step - loss: 0.0182 - mean_squared_error: 0.0182 - val_loss: 0.0133 - val_mean_squared_error: 0.0133\n",
            "Epoch 29/100\n",
            "8/8 [==============================] - 0s 8ms/step - loss: 0.0185 - mean_squared_error: 0.0185 - val_loss: 0.0131 - val_mean_squared_error: 0.0131\n",
            "Epoch 30/100\n",
            "8/8 [==============================] - 0s 7ms/step - loss: 0.0183 - mean_squared_error: 0.0183 - val_loss: 0.0130 - val_mean_squared_error: 0.0130\n",
            "Epoch 31/100\n",
            "8/8 [==============================] - 0s 7ms/step - loss: 0.0170 - mean_squared_error: 0.0170 - val_loss: 0.0131 - val_mean_squared_error: 0.0131\n",
            "Epoch 32/100\n",
            "8/8 [==============================] - 0s 7ms/step - loss: 0.0171 - mean_squared_error: 0.0171 - val_loss: 0.0129 - val_mean_squared_error: 0.0129\n",
            "Epoch 33/100\n",
            "8/8 [==============================] - 0s 7ms/step - loss: 0.0173 - mean_squared_error: 0.0173 - val_loss: 0.0128 - val_mean_squared_error: 0.0128\n",
            "Epoch 34/100\n",
            "8/8 [==============================] - 0s 7ms/step - loss: 0.0177 - mean_squared_error: 0.0177 - val_loss: 0.0128 - val_mean_squared_error: 0.0128\n",
            "Epoch 35/100\n",
            "8/8 [==============================] - 0s 8ms/step - loss: 0.0157 - mean_squared_error: 0.0157 - val_loss: 0.0129 - val_mean_squared_error: 0.0129\n",
            "Epoch 36/100\n",
            "8/8 [==============================] - 0s 8ms/step - loss: 0.0166 - mean_squared_error: 0.0166 - val_loss: 0.0127 - val_mean_squared_error: 0.0127\n",
            "Epoch 37/100\n",
            "8/8 [==============================] - 0s 7ms/step - loss: 0.0170 - mean_squared_error: 0.0170 - val_loss: 0.0126 - val_mean_squared_error: 0.0126\n",
            "Epoch 38/100\n",
            "8/8 [==============================] - 0s 7ms/step - loss: 0.0194 - mean_squared_error: 0.0194 - val_loss: 0.0128 - val_mean_squared_error: 0.0128\n",
            "Epoch 39/100\n",
            "8/8 [==============================] - 0s 7ms/step - loss: 0.0178 - mean_squared_error: 0.0178 - val_loss: 0.0127 - val_mean_squared_error: 0.0127\n",
            "Epoch 40/100\n",
            "8/8 [==============================] - 0s 7ms/step - loss: 0.0174 - mean_squared_error: 0.0174 - val_loss: 0.0125 - val_mean_squared_error: 0.0125\n",
            "Epoch 41/100\n",
            "8/8 [==============================] - 0s 6ms/step - loss: 0.0209 - mean_squared_error: 0.0209 - val_loss: 0.0124 - val_mean_squared_error: 0.0124\n",
            "Epoch 42/100\n",
            "8/8 [==============================] - 0s 7ms/step - loss: 0.0167 - mean_squared_error: 0.0167 - val_loss: 0.0123 - val_mean_squared_error: 0.0123\n",
            "Epoch 43/100\n",
            "8/8 [==============================] - 0s 8ms/step - loss: 0.0173 - mean_squared_error: 0.0173 - val_loss: 0.0123 - val_mean_squared_error: 0.0123\n",
            "Epoch 44/100\n",
            "8/8 [==============================] - 0s 9ms/step - loss: 0.0159 - mean_squared_error: 0.0159 - val_loss: 0.0122 - val_mean_squared_error: 0.0122\n",
            "Epoch 45/100\n",
            "8/8 [==============================] - 0s 7ms/step - loss: 0.0164 - mean_squared_error: 0.0164 - val_loss: 0.0123 - val_mean_squared_error: 0.0123\n",
            "Epoch 46/100\n",
            "8/8 [==============================] - 0s 8ms/step - loss: 0.0187 - mean_squared_error: 0.0187 - val_loss: 0.0123 - val_mean_squared_error: 0.0123\n",
            "Epoch 47/100\n",
            "8/8 [==============================] - 0s 6ms/step - loss: 0.0175 - mean_squared_error: 0.0175 - val_loss: 0.0125 - val_mean_squared_error: 0.0125\n",
            "Epoch 48/100\n",
            "8/8 [==============================] - 0s 7ms/step - loss: 0.0139 - mean_squared_error: 0.0139 - val_loss: 0.0121 - val_mean_squared_error: 0.0121\n",
            "Epoch 49/100\n",
            "8/8 [==============================] - 0s 7ms/step - loss: 0.0207 - mean_squared_error: 0.0207 - val_loss: 0.0121 - val_mean_squared_error: 0.0121\n",
            "Epoch 50/100\n",
            "8/8 [==============================] - 0s 7ms/step - loss: 0.0165 - mean_squared_error: 0.0165 - val_loss: 0.0125 - val_mean_squared_error: 0.0125\n",
            "Epoch 51/100\n",
            "8/8 [==============================] - 0s 7ms/step - loss: 0.0173 - mean_squared_error: 0.0173 - val_loss: 0.0121 - val_mean_squared_error: 0.0121\n",
            "Epoch 52/100\n",
            "8/8 [==============================] - 0s 7ms/step - loss: 0.0147 - mean_squared_error: 0.0147 - val_loss: 0.0122 - val_mean_squared_error: 0.0122\n",
            "Epoch 53/100\n",
            "8/8 [==============================] - 0s 7ms/step - loss: 0.0169 - mean_squared_error: 0.0169 - val_loss: 0.0123 - val_mean_squared_error: 0.0123\n",
            "Epoch 54/100\n",
            "8/8 [==============================] - 0s 7ms/step - loss: 0.0166 - mean_squared_error: 0.0166 - val_loss: 0.0123 - val_mean_squared_error: 0.0123\n",
            "Epoch 55/100\n",
            "8/8 [==============================] - 0s 8ms/step - loss: 0.0155 - mean_squared_error: 0.0155 - val_loss: 0.0122 - val_mean_squared_error: 0.0122\n",
            "Epoch 56/100\n",
            "8/8 [==============================] - 0s 8ms/step - loss: 0.0172 - mean_squared_error: 0.0172 - val_loss: 0.0122 - val_mean_squared_error: 0.0122\n",
            "Epoch 57/100\n",
            "8/8 [==============================] - 0s 8ms/step - loss: 0.0160 - mean_squared_error: 0.0160 - val_loss: 0.0121 - val_mean_squared_error: 0.0121\n",
            "Epoch 58/100\n",
            "8/8 [==============================] - 0s 8ms/step - loss: 0.0156 - mean_squared_error: 0.0156 - val_loss: 0.0121 - val_mean_squared_error: 0.0121\n",
            "Epoch 59/100\n",
            "8/8 [==============================] - 0s 7ms/step - loss: 0.0173 - mean_squared_error: 0.0173 - val_loss: 0.0121 - val_mean_squared_error: 0.0121\n",
            "Epoch 60/100\n",
            "8/8 [==============================] - 0s 6ms/step - loss: 0.0166 - mean_squared_error: 0.0166 - val_loss: 0.0121 - val_mean_squared_error: 0.0121\n",
            "Epoch 61/100\n",
            "8/8 [==============================] - 0s 7ms/step - loss: 0.0141 - mean_squared_error: 0.0141 - val_loss: 0.0122 - val_mean_squared_error: 0.0122\n",
            "Epoch 62/100\n",
            "8/8 [==============================] - 0s 8ms/step - loss: 0.0151 - mean_squared_error: 0.0151 - val_loss: 0.0121 - val_mean_squared_error: 0.0121\n",
            "Epoch 63/100\n",
            "8/8 [==============================] - 0s 8ms/step - loss: 0.0143 - mean_squared_error: 0.0143 - val_loss: 0.0120 - val_mean_squared_error: 0.0120\n",
            "Epoch 64/100\n",
            "8/8 [==============================] - 0s 7ms/step - loss: 0.0140 - mean_squared_error: 0.0140 - val_loss: 0.0120 - val_mean_squared_error: 0.0120\n",
            "Epoch 65/100\n",
            "8/8 [==============================] - 0s 7ms/step - loss: 0.0176 - mean_squared_error: 0.0176 - val_loss: 0.0121 - val_mean_squared_error: 0.0121\n",
            "Epoch 66/100\n",
            "8/8 [==============================] - 0s 8ms/step - loss: 0.0169 - mean_squared_error: 0.0169 - val_loss: 0.0121 - val_mean_squared_error: 0.0121\n",
            "Epoch 67/100\n",
            "8/8 [==============================] - 0s 8ms/step - loss: 0.0164 - mean_squared_error: 0.0164 - val_loss: 0.0122 - val_mean_squared_error: 0.0122\n",
            "Epoch 68/100\n",
            "8/8 [==============================] - 0s 7ms/step - loss: 0.0161 - mean_squared_error: 0.0161 - val_loss: 0.0119 - val_mean_squared_error: 0.0119\n",
            "Epoch 69/100\n",
            "8/8 [==============================] - 0s 7ms/step - loss: 0.0176 - mean_squared_error: 0.0176 - val_loss: 0.0121 - val_mean_squared_error: 0.0121\n",
            "Epoch 70/100\n",
            "8/8 [==============================] - 0s 7ms/step - loss: 0.0169 - mean_squared_error: 0.0169 - val_loss: 0.0121 - val_mean_squared_error: 0.0121\n",
            "Epoch 71/100\n",
            "8/8 [==============================] - 0s 8ms/step - loss: 0.0164 - mean_squared_error: 0.0164 - val_loss: 0.0119 - val_mean_squared_error: 0.0119\n",
            "Epoch 72/100\n",
            "8/8 [==============================] - 0s 7ms/step - loss: 0.0161 - mean_squared_error: 0.0161 - val_loss: 0.0122 - val_mean_squared_error: 0.0122\n",
            "Epoch 73/100\n",
            "8/8 [==============================] - 0s 6ms/step - loss: 0.0168 - mean_squared_error: 0.0168 - val_loss: 0.0121 - val_mean_squared_error: 0.0121\n",
            "Epoch 74/100\n",
            "8/8 [==============================] - 0s 7ms/step - loss: 0.0185 - mean_squared_error: 0.0185 - val_loss: 0.0120 - val_mean_squared_error: 0.0120\n",
            "Epoch 75/100\n",
            "8/8 [==============================] - 0s 7ms/step - loss: 0.0176 - mean_squared_error: 0.0176 - val_loss: 0.0121 - val_mean_squared_error: 0.0121\n",
            "Epoch 76/100\n",
            "8/8 [==============================] - 0s 7ms/step - loss: 0.0161 - mean_squared_error: 0.0161 - val_loss: 0.0120 - val_mean_squared_error: 0.0120\n",
            "Epoch 77/100\n",
            "8/8 [==============================] - 0s 7ms/step - loss: 0.0170 - mean_squared_error: 0.0170 - val_loss: 0.0122 - val_mean_squared_error: 0.0122\n",
            "Epoch 78/100\n",
            "8/8 [==============================] - 0s 8ms/step - loss: 0.0184 - mean_squared_error: 0.0184 - val_loss: 0.0120 - val_mean_squared_error: 0.0120\n",
            "Epoch 79/100\n",
            "8/8 [==============================] - 0s 7ms/step - loss: 0.0164 - mean_squared_error: 0.0164 - val_loss: 0.0122 - val_mean_squared_error: 0.0122\n",
            "Epoch 80/100\n",
            "8/8 [==============================] - 0s 8ms/step - loss: 0.0163 - mean_squared_error: 0.0163 - val_loss: 0.0120 - val_mean_squared_error: 0.0120\n",
            "Epoch 81/100\n",
            "8/8 [==============================] - 0s 7ms/step - loss: 0.0151 - mean_squared_error: 0.0151 - val_loss: 0.0121 - val_mean_squared_error: 0.0121\n",
            "Epoch 82/100\n",
            "8/8 [==============================] - 0s 8ms/step - loss: 0.0168 - mean_squared_error: 0.0168 - val_loss: 0.0121 - val_mean_squared_error: 0.0121\n",
            "Epoch 83/100\n",
            "8/8 [==============================] - 0s 7ms/step - loss: 0.0150 - mean_squared_error: 0.0150 - val_loss: 0.0120 - val_mean_squared_error: 0.0120\n",
            "Epoch 84/100\n",
            "8/8 [==============================] - 0s 7ms/step - loss: 0.0173 - mean_squared_error: 0.0173 - val_loss: 0.0119 - val_mean_squared_error: 0.0119\n",
            "Epoch 85/100\n",
            "8/8 [==============================] - 0s 7ms/step - loss: 0.0145 - mean_squared_error: 0.0145 - val_loss: 0.0121 - val_mean_squared_error: 0.0121\n",
            "Epoch 86/100\n",
            "8/8 [==============================] - 0s 9ms/step - loss: 0.0156 - mean_squared_error: 0.0156 - val_loss: 0.0121 - val_mean_squared_error: 0.0121\n",
            "Epoch 87/100\n",
            "8/8 [==============================] - 0s 8ms/step - loss: 0.0178 - mean_squared_error: 0.0178 - val_loss: 0.0119 - val_mean_squared_error: 0.0119\n",
            "Epoch 88/100\n",
            "8/8 [==============================] - 0s 7ms/step - loss: 0.0155 - mean_squared_error: 0.0155 - val_loss: 0.0123 - val_mean_squared_error: 0.0123\n",
            "Epoch 89/100\n",
            "8/8 [==============================] - 0s 7ms/step - loss: 0.0146 - mean_squared_error: 0.0146 - val_loss: 0.0119 - val_mean_squared_error: 0.0119\n",
            "Epoch 90/100\n",
            "8/8 [==============================] - 0s 7ms/step - loss: 0.0143 - mean_squared_error: 0.0143 - val_loss: 0.0120 - val_mean_squared_error: 0.0120\n",
            "Epoch 91/100\n",
            "8/8 [==============================] - 0s 8ms/step - loss: 0.0159 - mean_squared_error: 0.0159 - val_loss: 0.0125 - val_mean_squared_error: 0.0125\n",
            "Epoch 92/100\n",
            "8/8 [==============================] - 0s 8ms/step - loss: 0.0156 - mean_squared_error: 0.0156 - val_loss: 0.0121 - val_mean_squared_error: 0.0121\n",
            "Epoch 93/100\n",
            "8/8 [==============================] - 0s 8ms/step - loss: 0.0158 - mean_squared_error: 0.0158 - val_loss: 0.0120 - val_mean_squared_error: 0.0120\n",
            "Epoch 94/100\n",
            "8/8 [==============================] - 0s 8ms/step - loss: 0.0176 - mean_squared_error: 0.0176 - val_loss: 0.0119 - val_mean_squared_error: 0.0119\n",
            "Epoch 95/100\n",
            "8/8 [==============================] - 0s 7ms/step - loss: 0.0146 - mean_squared_error: 0.0146 - val_loss: 0.0123 - val_mean_squared_error: 0.0123\n",
            "Epoch 96/100\n",
            "8/8 [==============================] - 0s 8ms/step - loss: 0.0159 - mean_squared_error: 0.0159 - val_loss: 0.0120 - val_mean_squared_error: 0.0120\n",
            "Epoch 97/100\n",
            "8/8 [==============================] - 0s 8ms/step - loss: 0.0165 - mean_squared_error: 0.0165 - val_loss: 0.0120 - val_mean_squared_error: 0.0120\n",
            "Epoch 98/100\n",
            "8/8 [==============================] - 0s 7ms/step - loss: 0.0179 - mean_squared_error: 0.0179 - val_loss: 0.0121 - val_mean_squared_error: 0.0121\n",
            "Epoch 99/100\n",
            "8/8 [==============================] - 0s 7ms/step - loss: 0.0170 - mean_squared_error: 0.0170 - val_loss: 0.0123 - val_mean_squared_error: 0.0123\n",
            "Epoch 100/100\n",
            "8/8 [==============================] - 0s 7ms/step - loss: 0.0207 - mean_squared_error: 0.0207 - val_loss: 0.0120 - val_mean_squared_error: 0.0120\n"
          ],
          "name": "stdout"
        }
      ]
    },
    {
      "cell_type": "code",
      "metadata": {
        "colab": {
          "base_uri": "https://localhost:8080/",
          "height": 295
        },
        "id": "XXfInAT_nMlk",
        "outputId": "64238855-48b6-4bdb-b942-be19afe83907"
      },
      "source": [
        "# Accuracy plot \n",
        "plt.plot(history.history['loss'])\n",
        "plt.plot(history.history['val_loss'])\n",
        "plt.title('Model_accuracy')\n",
        "plt.ylabel('accuracy')\n",
        "plt.xlabel('epoch')\n",
        "plt.legend(['train','test'],loc='upper left')\n",
        "plt.show()"
      ],
      "id": "XXfInAT_nMlk",
      "execution_count": 142,
      "outputs": [
        {
          "output_type": "display_data",
          "data": {
            "image/png": "[encoded data removed]",
            "text/plain": [
              "<Figure size 432x288 with 1 Axes>"
            ]
          },
          "metadata": {
            "tags": [],
            "needs_background": "light"
          }
        }
      ]
    },
    {
      "cell_type": "code",
      "metadata": {
        "colab": {
          "base_uri": "https://localhost:8080/",
          "height": 295
        },
        "id": "QYm7yjm1m06n",
        "outputId": "b235cdf4-edb4-4557-c60d-cbc7d882f515"
      },
      "source": [
        "# Accuracy plot \n",
        "plt.plot(history.history['mean_squared_error'])\n",
        "plt.plot(history.history['val_mean_squared_error'])\n",
        "plt.title('Model_Performance')\n",
        "plt.ylabel('score')\n",
        "plt.xlabel('epoch')\n",
        "plt.legend(['train','test'],loc='upper left')\n",
        "plt.show()"
      ],
      "id": "QYm7yjm1m06n",
      "execution_count": 143,
      "outputs": [
        {
          "output_type": "display_data",
          "data": {
            "image/png": "[encoded data removed]",
            "text/plain": [
              "<Figure size 432x288 with 1 Axes>"
            ]
          },
          "metadata": {
            "tags": [],
            "needs_background": "light"
          }
        }
      ]
    },
    {
      "cell_type": "code",
      "metadata": {
        "id": "BFpPcEpMy-V9"
      },
      "source": [
        "y_=test['Income_y']\n",
        "X_=test.drop(['Income_y'],axis=1)"
      ],
      "id": "BFpPcEpMy-V9",
      "execution_count": 144,
      "outputs": []
    },
    {
      "cell_type": "code",
      "metadata": {
        "colab": {
          "base_uri": "https://localhost:8080/"
        },
        "id": "9DQUfODS5sQz",
        "outputId": "dbf07a99-8f50-42ca-a1a1-80832d38b5d4"
      },
      "source": [
        "X_.isnull().sum()"
      ],
      "id": "9DQUfODS5sQz",
      "execution_count": 145,
      "outputs": [
        {
          "output_type": "execute_result",
          "data": {
            "text/plain": [
              "Completed Jobs    0\n",
              "tech_count        0\n",
              "TMAX              0\n",
              "Avg Sales         0\n",
              "dtype: int64"
            ]
          },
          "metadata": {
            "tags": []
          },
          "execution_count": 145
        }
      ]
    },
    {
      "cell_type": "code",
      "metadata": {
        "id": "K09Hlm_p5vPV"
      },
      "source": [
        ""
      ],
      "id": "K09Hlm_p5vPV",
      "execution_count": 145,
      "outputs": []
    },
    {
      "cell_type": "code",
      "metadata": {
        "id": "pMwIjw3_52xS"
      },
      "source": [
        ""
      ],
      "id": "pMwIjw3_52xS",
      "execution_count": 145,
      "outputs": []
    },
    {
      "cell_type": "code",
      "metadata": {
        "id": "JEUzojAXzQhh"
      },
      "source": [
        "\n",
        "\n",
        "X_=scaler.fit_transform(X_)\n"
      ],
      "id": "JEUzojAXzQhh",
      "execution_count": 146,
      "outputs": []
    },
    {
      "cell_type": "code",
      "metadata": {
        "id": "NXR-k9p8fS0h"
      },
      "source": [
        "y_pred_1 = model.predict(X_test)"
      ],
      "id": "NXR-k9p8fS0h",
      "execution_count": 147,
      "outputs": []
    },
    {
      "cell_type": "code",
      "metadata": {
        "colab": {
          "base_uri": "https://localhost:8080/",
          "height": 281
        },
        "id": "AZZ5W6rqzZnz",
        "outputId": "b9cc517d-8c95-4665-cfb7-6d294df46be7"
      },
      "source": [
        "plt.plot(y_test, color = 'red', label = 'Real data')\n",
        "plt.plot(y_pred_1, color = 'blue', label = 'Predicted data')\n",
        "plt.title('Prediction')\n",
        "plt.legend()\n",
        "plt.show()"
      ],
      "id": "AZZ5W6rqzZnz",
      "execution_count": 148,
      "outputs": [
        {
          "output_type": "display_data",
          "data": {
            "image/png": "[encoded data removed]",
            "text/plain": [
              "<Figure size 432x288 with 1 Axes>"
            ]
          },
          "metadata": {
            "tags": [],
            "needs_background": "light"
          }
        }
      ]
    },
    {
      "cell_type": "code",
      "metadata": {
        "id": "ozDRewAUziGE"
      },
      "source": [
        "y_pred_2=model.predict(X_)"
      ],
      "id": "ozDRewAUziGE",
      "execution_count": 149,
      "outputs": []
    },
    {
      "cell_type": "code",
      "metadata": {
        "id": "sx_frcXJ0Yz4"
      },
      "source": [
        "y_=y_.values\n",
        "y_=y_.reshape(-1,1)"
      ],
      "id": "sx_frcXJ0Yz4",
      "execution_count": 150,
      "outputs": []
    },
    {
      "cell_type": "code",
      "metadata": {
        "id": "CVzOhuYH0PqP"
      },
      "source": [
        "y_=scaler.fit_transform(y_)"
      ],
      "id": "CVzOhuYH0PqP",
      "execution_count": 151,
      "outputs": []
    },
    {
      "cell_type": "code",
      "metadata": {
        "colab": {
          "base_uri": "https://localhost:8080/",
          "height": 281
        },
        "id": "4MBrERtS0VwR",
        "outputId": "15c7f992-bdba-411a-8b95-0d2f8b97e350"
      },
      "source": [
        "plt.plot(y_, color = 'red', label = 'Real data')\n",
        "plt.plot(y_pred_2, color = 'blue', label = 'Predicted data')\n",
        "plt.title('Prediction')\n",
        "plt.legend()\n",
        "plt.show()"
      ],
      "id": "4MBrERtS0VwR",
      "execution_count": 152,
      "outputs": [
        {
          "output_type": "display_data",
          "data": {
            "image/png": "[encoded data removed]",
            "text/plain": [
              "<Figure size 432x288 with 1 Axes>"
            ]
          },
          "metadata": {
            "tags": [],
            "needs_background": "light"
          }
        }
      ]
    },
    {
      "cell_type": "code",
      "metadata": {
        "id": "qo_FkxTp0uvX"
      },
      "source": [
        "y_pred_2=scaler.inverse_transform(y_pred_2)"
      ],
      "id": "qo_FkxTp0uvX",
      "execution_count": 153,
      "outputs": []
    },
    {
      "cell_type": "code",
      "metadata": {
        "colab": {
          "base_uri": "https://localhost:8080/"
        },
        "id": "cNRvlJgN0_0i",
        "outputId": "c6300e12-6ae8-4234-c006-b48c045ccbee"
      },
      "source": [
        "y_pred_2"
      ],
      "id": "cNRvlJgN0_0i",
      "execution_count": 154,
      "outputs": [
        {
          "output_type": "execute_result",
          "data": {
            "text/plain": [
              "array([[103194.4   ],\n",
              "       [127745.77  ],\n",
              "       [111619.234 ],\n",
              "       [ 97226.24  ],\n",
              "       [112013.28  ],\n",
              "       [ 57703.5   ],\n",
              "       [ -2972.7078],\n",
              "       [100141.29  ],\n",
              "       [106505.016 ],\n",
              "       [ 54301.984 ],\n",
              "       [ 54000.176 ],\n",
              "       [107884.51  ],\n",
              "       [116179.39  ],\n",
              "       [101545.81  ],\n",
              "       [ 59445.684 ],\n",
              "       [ 97154.58  ],\n",
              "       [131456.55  ],\n",
              "       [ 93763.69  ],\n",
              "       [119763.29  ],\n",
              "       [ 52960.83  ],\n",
              "       [ 10010.507 ],\n",
              "       [115098.74  ],\n",
              "       [112602.68  ],\n",
              "       [102037.47  ],\n",
              "       [101664.53  ],\n",
              "       [ 52947.71  ],\n",
              "       [  7567.564 ],\n",
              "       [105861.555 ],\n",
              "       [113483.93  ],\n",
              "       [113064.484 ],\n",
              "       [ 89165.39  ],\n",
              "       [ 75205.53  ],\n",
              "       [ 89533.8   ],\n",
              "       [ 43529.746 ],\n",
              "       [  2381.535 ],\n",
              "       [ 93078.586 ],\n",
              "       [105072.31  ],\n",
              "       [107192.02  ],\n",
              "       [ 52570.21  ],\n",
              "       [  8029.7944],\n",
              "       [115370.625 ],\n",
              "       [118505.51  ],\n",
              "       [ 96063.625 ],\n",
              "       [ 85107.65  ]], dtype=float32)"
            ]
          },
          "metadata": {
            "tags": []
          },
          "execution_count": 154
        }
      ]
    },
    {
      "cell_type": "code",
      "metadata": {
        "id": "0jowXirr1BXm"
      },
      "source": [
        "y_=scaler.inverse_transform(y_)"
      ],
      "id": "0jowXirr1BXm",
      "execution_count": 155,
      "outputs": []
    },
    {
      "cell_type": "code",
      "metadata": {
        "colab": {
          "base_uri": "https://localhost:8080/"
        },
        "id": "YHneIUIk1J0j",
        "outputId": "cda428a9-9374-4331-f507-ce9aaf267a96"
      },
      "source": [
        "y_"
      ],
      "id": "YHneIUIk1J0j",
      "execution_count": 156,
      "outputs": [
        {
          "output_type": "execute_result",
          "data": {
            "text/plain": [
              "array([[1.1453421e+05],\n",
              "       [1.2741210e+05],\n",
              "       [7.3107940e+04],\n",
              "       [1.0033570e+05],\n",
              "       [8.2920440e+04],\n",
              "       [3.6992000e+04],\n",
              "       [3.2600000e+02],\n",
              "       [8.6287170e+04],\n",
              "       [7.9380380e+04],\n",
              "       [1.0450901e+05],\n",
              "       [9.6828960e+04],\n",
              "       [1.0832711e+05],\n",
              "       [9.9625260e+04],\n",
              "       [7.6878350e+04],\n",
              "       [6.9089170e+04],\n",
              "       [1.2821029e+05],\n",
              "       [1.7741042e+05],\n",
              "       [6.8424710e+04],\n",
              "       [1.3040640e+05],\n",
              "       [4.1651850e+04],\n",
              "       [1.0295000e+02],\n",
              "       [1.2132892e+05],\n",
              "       [9.4156550e+04],\n",
              "       [9.3428490e+04],\n",
              "       [7.3106960e+04],\n",
              "       [6.2484030e+04],\n",
              "       [5.0088000e+04],\n",
              "       [4.5289920e+04],\n",
              "       [9.5437440e+04],\n",
              "       [1.0067486e+05],\n",
              "       [5.5735080e+04],\n",
              "       [8.6421800e+04],\n",
              "       [8.6421800e+04],\n",
              "       [4.1343950e+04],\n",
              "       [1.5788000e+04],\n",
              "       [1.2898555e+05],\n",
              "       [9.3402160e+04],\n",
              "       [1.7674702e+05],\n",
              "       [3.2502400e+04],\n",
              "       [5.5111850e+04],\n",
              "       [1.3304285e+05],\n",
              "       [8.8538890e+04],\n",
              "       [6.6133390e+04],\n",
              "       [6.7090810e+04]])"
            ]
          },
          "metadata": {
            "tags": []
          },
          "execution_count": 156
        }
      ]
    },
    {
      "cell_type": "code",
      "metadata": {
        "colab": {
          "base_uri": "https://localhost:8080/",
          "height": 281
        },
        "id": "jEmsDycZ1Ko8",
        "outputId": "afb94ae9-2ff6-4f4f-c9f2-486dd94c1865"
      },
      "source": [
        "plt.plot(y_, color = 'red', label = 'Real data')\n",
        "plt.plot(y_pred_2, color = 'blue', label = 'Predicted data')\n",
        "plt.title('Prediction')\n",
        "plt.legend()\n",
        "plt.show()"
      ],
      "id": "jEmsDycZ1Ko8",
      "execution_count": 157,
      "outputs": [
        {
          "output_type": "display_data",
          "data": {
            "image/png": "[encoded data removed]",
            "text/plain": [
              "<Figure size 432x288 with 1 Axes>"
            ]
          },
          "metadata": {
            "tags": [],
            "needs_background": "light"
          }
        }
      ]
    },
    {
      "cell_type": "code",
      "metadata": {
        "id": "R6hPx5t41S9f"
      },
      "source": [
        "from sklearn.metrics import mean_squared_error"
      ],
      "id": "R6hPx5t41S9f",
      "execution_count": 158,
      "outputs": []
    },
    {
      "cell_type": "code",
      "metadata": {
        "id": "Xp4azxoJ_kO5"
      },
      "source": [
        "from sklearn.metrics import mean_absolute_error"
      ],
      "id": "Xp4azxoJ_kO5",
      "execution_count": 159,
      "outputs": []
    },
    {
      "cell_type": "code",
      "metadata": {
        "colab": {
          "base_uri": "https://localhost:8080/"
        },
        "id": "75BMhlTy_ruF",
        "outputId": "5c9a0bf0-eb84-4ae9-9bbe-c332a000ddda"
      },
      "source": [
        "mean_absolute_error(y_,y_pred_2)"
      ],
      "id": "75BMhlTy_ruF",
      "execution_count": 160,
      "outputs": [
        {
          "output_type": "execute_result",
          "data": {
            "text/plain": [
              "22137.5871706321"
            ]
          },
          "metadata": {
            "tags": []
          },
          "execution_count": 160
        }
      ]
    },
    {
      "cell_type": "code",
      "metadata": {
        "colab": {
          "base_uri": "https://localhost:8080/"
        },
        "id": "JWoxcOdX19AZ",
        "outputId": "a6ef32dc-9fec-43b4-f6af-151ed883eee1"
      },
      "source": [
        "np.sqrt(mean_squared_error(y_,y_pred_2))"
      ],
      "id": "JWoxcOdX19AZ",
      "execution_count": 161,
      "outputs": [
        {
          "output_type": "execute_result",
          "data": {
            "text/plain": [
              "27506.48571192816"
            ]
          },
          "metadata": {
            "tags": []
          },
          "execution_count": 161
        }
      ]
    },
    {
      "cell_type": "code",
      "metadata": {
        "colab": {
          "base_uri": "https://localhost:8080/"
        },
        "id": "UFrEtJSG1_xg",
        "outputId": "f9110def-2b77-473a-c7ff-7583efc59c70"
      },
      "source": [
        "np.sqrt(mean_squared_error(y_test,y_pred_1))"
      ],
      "id": "UFrEtJSG1_xg",
      "execution_count": 162,
      "outputs": [
        {
          "output_type": "execute_result",
          "data": {
            "text/plain": [
              "0.10934878708808263"
            ]
          },
          "metadata": {
            "tags": []
          },
          "execution_count": 162
        }
      ]
    },
    {
      "cell_type": "code",
      "metadata": {
        "id": "YLy1ddX9HqWO"
      },
      "source": [
        "from keras.models import load_model"
      ],
      "id": "YLy1ddX9HqWO",
      "execution_count": 163,
      "outputs": []
    },
    {
      "cell_type": "code",
      "metadata": {
        "id": "v6dcgmW_IAS1"
      },
      "source": [
        "model.save('forecast_2.h5')"
      ],
      "id": "v6dcgmW_IAS1",
      "execution_count": 164,
      "outputs": []
    },
    {
      "cell_type": "code",
      "metadata": {
        "id": "q40Nh2fXIW50"
      },
      "source": [
        "loading_1=load_model('forecast_2.h5')"
      ],
      "id": "q40Nh2fXIW50",
      "execution_count": 165,
      "outputs": []
    },
    {
      "cell_type": "code",
      "metadata": {
        "colab": {
          "base_uri": "https://localhost:8080/"
        },
        "id": "OKLZhc-iXTbt",
        "outputId": "2402eab4-219c-4b64-8eed-e36bd1f2daeb"
      },
      "source": [
        "X_"
      ],
      "id": "OKLZhc-iXTbt",
      "execution_count": 166,
      "outputs": [
        {
          "output_type": "execute_result",
          "data": {
            "text/plain": [
              "array([[0.71428571, 0.41558442, 0.32432432, 0.57936626],\n",
              "       [0.84415584, 0.7012987 , 0.56756757, 0.42522791],\n",
              "       [0.69480519, 0.55844156, 0.62162162, 0.50660002],\n",
              "       [0.75974026, 0.81818182, 0.35135135, 0.58050005],\n",
              "       [0.74675325, 0.38961039, 0.37837838, 0.61223928],\n",
              "       [0.33766234, 0.12987013, 0.56756757, 0.4277632 ],\n",
              "       [0.        , 0.01298701, 0.89189189, 0.06199236],\n",
              "       [0.68181818, 0.57142857, 0.89189189, 0.26351954],\n",
              "       [0.65584416, 0.54545455, 0.64864865, 0.49953046],\n",
              "       [0.31818182, 0.20779221, 0.51351351, 0.89144246],\n",
              "       [0.64285714, 0.80519481, 0.08108108, 1.        ],\n",
              "       [0.81818182, 0.62337662, 0.27027027, 0.40262763],\n",
              "       [0.75974026, 0.5974026 , 0.48648649, 0.50006332],\n",
              "       [0.67532468, 0.46753247, 0.37837838, 0.57610091],\n",
              "       [0.37662338, 0.23376623, 0.37837838, 0.88138651],\n",
              "       [0.80519481, 0.79220779, 0.27027027, 0.60106925],\n",
              "       [0.88311688, 0.44155844, 0.51351351, 0.35180188],\n",
              "       [0.61688312, 0.5974026 , 0.54054054, 0.34290542],\n",
              "       [0.77272727, 0.61038961, 0.59459459, 0.41926208],\n",
              "       [0.2987013 , 0.14285714, 0.62162162, 0.44757644],\n",
              "       [0.06493506, 0.        , 0.54054054, 0.13697202],\n",
              "       [0.81168831, 1.        , 0.56756757, 0.501147  ],\n",
              "       [0.74025974, 0.61038961, 0.56756757, 0.33739643],\n",
              "       [0.68181818, 0.42857143, 0.64864865, 0.20190018],\n",
              "       [0.73376623, 0.38961039, 0.97297297, 0.13504361],\n",
              "       [0.30519481, 0.1038961 , 1.        , 0.4034807 ],\n",
              "       [0.01948052, 0.05194805, 0.91891892, 0.45454736],\n",
              "       [0.75974026, 0.72727273, 0.78378378, 0.26268814],\n",
              "       [0.74025974, 0.5974026 , 0.56756757, 0.36364048],\n",
              "       [0.75324675, 0.71428571, 0.54054054, 0.46644784],\n",
              "       [0.58441558, 0.66233766, 0.67567568, 0.37084886],\n",
              "       [0.62987013, 0.62337662, 0.18918919, 0.47204574],\n",
              "       [0.62987013, 0.62337662, 0.37837838, 0.47204574],\n",
              "       [0.35064935, 0.14285714, 0.05405405, 0.15036127],\n",
              "       [0.02597403, 0.05194805, 0.08108108, 0.62676473],\n",
              "       [1.        , 0.79220779, 0.        , 0.50138445],\n",
              "       [0.94155844, 0.88311688, 0.18918919, 0.5013077 ],\n",
              "       [0.77922078, 0.72727273, 0.35135135, 0.33317462],\n",
              "       [0.3961039 , 0.23376623, 0.13513514, 0.28106684],\n",
              "       [0.07142857, 0.02597403, 0.51351351, 0.        ],\n",
              "       [0.77922078, 0.55844156, 0.62162162, 0.25213778],\n",
              "       [0.79220779, 0.74025974, 0.54054054, 0.45360208],\n",
              "       [0.68831169, 0.76623377, 0.43243243, 0.34362452],\n",
              "       [0.58441558, 0.57142857, 0.43243243, 0.69037145]])"
            ]
          },
          "metadata": {
            "tags": []
          },
          "execution_count": 166
        }
      ]
    },
    {
      "cell_type": "code",
      "metadata": {
        "id": "jH-badROIoFY"
      },
      "source": [
        "\n",
        "p=loading_1.predict([[0.68831169, 0.76623377, 0.43243243, 0.34362452]])\n"
      ],
      "id": "jH-badROIoFY",
      "execution_count": 167,
      "outputs": []
    },
    {
      "cell_type": "code",
      "metadata": {
        "colab": {
          "base_uri": "https://localhost:8080/"
        },
        "id": "9VEWi56Jbe4s",
        "outputId": "a02e34b8-e097-4e54-cf2d-186ffa60f4ee"
      },
      "source": [
        "scaler.inverse_transform(p)"
      ],
      "id": "9VEWi56Jbe4s",
      "execution_count": 168,
      "outputs": [
        {
          "output_type": "execute_result",
          "data": {
            "text/plain": [
              "array([[96063.64]], dtype=float32)"
            ]
          },
          "metadata": {
            "tags": []
          },
          "execution_count": 168
        }
      ]
    },
    {
      "cell_type": "code",
      "metadata": {
        "id": "9gMqPeHCf5Us"
      },
      "source": [
        ""
      ],
      "id": "9gMqPeHCf5Us",
      "execution_count": 168,
      "outputs": []
    },
    {
      "cell_type": "code",
      "metadata": {
        "id": "SLLOWRgmb8i-"
      },
      "source": [
        "\n"
      ],
      "id": "SLLOWRgmb8i-",
      "execution_count": 169,
      "outputs": []
    },
    {
      "cell_type": "code",
      "metadata": {
        "colab": {
          "base_uri": "https://localhost:8080/"
        },
        "id": "owu2HAFpOcRn",
        "outputId": "a73e89eb-fb6e-44c6-886e-318edc721370"
      },
      "source": [
        "X_[11:20]"
      ],
      "id": "owu2HAFpOcRn",
      "execution_count": 170,
      "outputs": [
        {
          "output_type": "execute_result",
          "data": {
            "text/plain": [
              "array([[0.81818182, 0.62337662, 0.27027027, 0.40262763],\n",
              "       [0.75974026, 0.5974026 , 0.48648649, 0.50006332],\n",
              "       [0.67532468, 0.46753247, 0.37837838, 0.57610091],\n",
              "       [0.37662338, 0.23376623, 0.37837838, 0.88138651],\n",
              "       [0.80519481, 0.79220779, 0.27027027, 0.60106925],\n",
              "       [0.88311688, 0.44155844, 0.51351351, 0.35180188],\n",
              "       [0.61688312, 0.5974026 , 0.54054054, 0.34290542],\n",
              "       [0.77272727, 0.61038961, 0.59459459, 0.41926208],\n",
              "       [0.2987013 , 0.14285714, 0.62162162, 0.44757644]])"
            ]
          },
          "metadata": {
            "tags": []
          },
          "execution_count": 170
        }
      ]
    },
    {
      "cell_type": "code",
      "metadata": {
        "id": "Z8PJd-4bI6Cy"
      },
      "source": [
        ""
      ],
      "id": "Z8PJd-4bI6Cy",
      "execution_count": 170,
      "outputs": []
    },
    {
      "cell_type": "code",
      "metadata": {
        "id": "-L3IqNEeKDpr"
      },
      "source": [
        ""
      ],
      "id": "-L3IqNEeKDpr",
      "execution_count": 170,
      "outputs": []
    },
    {
      "cell_type": "code",
      "metadata": {
        "id": "BvF1XFL8JHeM"
      },
      "source": [
        ""
      ],
      "id": "BvF1XFL8JHeM",
      "execution_count": 170,
      "outputs": []
    },
    {
      "cell_type": "code",
      "metadata": {
        "colab": {
          "base_uri": "https://localhost:8080/"
        },
        "id": "rLLod_fVJA1k",
        "outputId": "7080aa6e-a059-458d-c357-aa1a934dea96"
      },
      "source": [
        "!pip install -U keras-tuner\n"
      ],
      "id": "rLLod_fVJA1k",
      "execution_count": 171,
      "outputs": [
        {
          "output_type": "stream",
          "text": [
            "Collecting keras-tuner\n",
            "\u001b[?25l  Downloading https://files.pythonhosted.org/packages/20/ec/1ef246787174b1e2bb591c95f29d3c1310070cad877824f907faba3dade9/keras-tuner-1.0.2.tar.gz (62kB)\n",
            "\r\u001b[K     |█████▏                          | 10kB 15.3MB/s eta 0:00:01\r\u001b[K     |██████████▍                     | 20kB 11.8MB/s eta 0:00:01\r\u001b[K     |███████████████▋                | 30kB 8.1MB/s eta 0:00:01\r\u001b[K     |████████████████████▉           | 40kB 7.1MB/s eta 0:00:01\r\u001b[K     |██████████████████████████      | 51kB 4.4MB/s eta 0:00:01\r\u001b[K     |███████████████████████████████▎| 61kB 5.0MB/s eta 0:00:01\r\u001b[K     |████████████████████████████████| 71kB 3.5MB/s \n",
            "\u001b[?25hRequirement already satisfied, skipping upgrade: packaging in /usr/local/lib/python3.7/dist-packages (from keras-tuner) (20.9)\n",
            "Requirement already satisfied, skipping upgrade: future in /usr/local/lib/python3.7/dist-packages (from keras-tuner) (0.16.0)\n",
            "Requirement already satisfied, skipping upgrade: numpy in /usr/local/lib/python3.7/dist-packages (from keras-tuner) (1.19.5)\n",
            "Requirement already satisfied, skipping upgrade: tabulate in /usr/local/lib/python3.7/dist-packages (from keras-tuner) (0.8.9)\n",
            "Collecting terminaltables\n",
            "  Downloading https://files.pythonhosted.org/packages/9b/c4/4a21174f32f8a7e1104798c445dacdc1d4df86f2f26722767034e4de4bff/terminaltables-3.1.0.tar.gz\n",
            "Collecting colorama\n",
            "  Downloading https://files.pythonhosted.org/packages/44/98/5b86278fbbf250d239ae0ecb724f8572af1c91f4a11edf4d36a206189440/colorama-0.4.4-py2.py3-none-any.whl\n",
            "Requirement already satisfied, skipping upgrade: tqdm in /usr/local/lib/python3.7/dist-packages (from keras-tuner) (4.41.1)\n",
            "Requirement already satisfied, skipping upgrade: requests in /usr/local/lib/python3.7/dist-packages (from keras-tuner) (2.23.0)\n",
            "Requirement already satisfied, skipping upgrade: scipy in /usr/local/lib/python3.7/dist-packages (from keras-tuner) (1.4.1)\n",
            "Requirement already satisfied, skipping upgrade: scikit-learn in /usr/local/lib/python3.7/dist-packages (from keras-tuner) (0.22.2.post1)\n",
            "Requirement already satisfied, skipping upgrade: pyparsing>=2.0.2 in /usr/local/lib/python3.7/dist-packages (from packaging->keras-tuner) (2.4.7)\n",
            "Requirement already satisfied, skipping upgrade: chardet<4,>=3.0.2 in /usr/local/lib/python3.7/dist-packages (from requests->keras-tuner) (3.0.4)\n",
            "Requirement already satisfied, skipping upgrade: urllib3!=1.25.0,!=1.25.1,<1.26,>=1.21.1 in /usr/local/lib/python3.7/dist-packages (from requests->keras-tuner) (1.24.3)\n",
            "Requirement already satisfied, skipping upgrade: idna<3,>=2.5 in /usr/local/lib/python3.7/dist-packages (from requests->keras-tuner) (2.10)\n",
            "Requirement already satisfied, skipping upgrade: certifi>=2017.4.17 in /usr/local/lib/python3.7/dist-packages (from requests->keras-tuner) (2020.12.5)\n",
            "Requirement already satisfied, skipping upgrade: joblib>=0.11 in /usr/local/lib/python3.7/dist-packages (from scikit-learn->keras-tuner) (1.0.1)\n",
            "Building wheels for collected packages: keras-tuner, terminaltables\n",
            "  Building wheel for keras-tuner (setup.py) ... \u001b[?25l\u001b[?25hdone\n",
            "  Created wheel for keras-tuner: filename=keras_tuner-1.0.2-cp37-none-any.whl size=78938 sha256=b761948f841f978aaaa4ab18eac3cb9635e292e7c334ae8008499b57e41be8d4\n",
            "  Stored in directory: /root/.cache/pip/wheels/bb/a1/8a/7c3de0efb3707a1701b36ebbfdbc4e67aedf6d4943a1f463d6\n",
            "  Building wheel for terminaltables (setup.py) ... \u001b[?25l\u001b[?25hdone\n",
            "  Created wheel for terminaltables: filename=terminaltables-3.1.0-cp37-none-any.whl size=15356 sha256=861d4d7186118288ead881df5153e1e4bce7c8195488f0866a3c3403f9760310\n",
            "  Stored in directory: /root/.cache/pip/wheels/30/6b/50/6c75775b681fb36cdfac7f19799888ef9d8813aff9e379663e\n",
            "Successfully built keras-tuner terminaltables\n",
            "Installing collected packages: terminaltables, colorama, keras-tuner\n",
            "Successfully installed colorama-0.4.4 keras-tuner-1.0.2 terminaltables-3.1.0\n"
          ],
          "name": "stdout"
        }
      ]
    },
    {
      "cell_type": "code",
      "metadata": {
        "id": "74WekOBPJkIb"
      },
      "source": [
        "from kerastuner.tuners import RandomSearch\n"
      ],
      "id": "74WekOBPJkIb",
      "execution_count": 172,
      "outputs": []
    },
    {
      "cell_type": "code",
      "metadata": {
        "id": "_z3T2ZwCKzP3"
      },
      "source": [
        "def build_model(hp):\n",
        "    model = keras.Sequential()\n",
        "    for i in range(hp.Int('num_layers', 2, 40)):\n",
        "        model.add(Dense(units=hp.Int('units_' + str(i),\n",
        "                                            min_value=32,\n",
        "                                            max_value=1024,\n",
        "                                            step=32),\n",
        "                               activation='relu'))\n",
        "    model.add(Dense(1, activation='linear'))\n",
        "    model.compile(\n",
        "        optimizer=keras.optimizers.Adam(\n",
        "            hp.Choice('learning_rate', [1e-2, 1e-3, 1e-4])),\n",
        "        loss='MeanSquaredError',\n",
        "        metrics=['MeanSquaredError'])\n",
        "    return model"
      ],
      "id": "_z3T2ZwCKzP3",
      "execution_count": 173,
      "outputs": []
    },
    {
      "cell_type": "code",
      "metadata": {
        "id": "-lmwQo5AqNjo"
      },
      "source": [
        "from tensorflow import keras\n",
        "from kerastuner import HyperModel\n"
      ],
      "id": "-lmwQo5AqNjo",
      "execution_count": 174,
      "outputs": []
    },
    {
      "cell_type": "code",
      "metadata": {
        "id": "jMfIfos74Juc"
      },
      "source": [
        ""
      ],
      "id": "jMfIfos74Juc",
      "execution_count": 174,
      "outputs": []
    },
    {
      "cell_type": "code",
      "metadata": {
        "id": "_to87NdPJdfB"
      },
      "source": [
        "tuner = RandomSearch(build_model,objective='val_loss',max_trials=10,executions_per_trial=3)\n"
      ],
      "id": "_to87NdPJdfB",
      "execution_count": 176,
      "outputs": []
    },
    {
      "cell_type": "code",
      "metadata": {
        "colab": {
          "base_uri": "https://localhost:8080/"
        },
        "id": "z2lxkNCSLEPY",
        "outputId": "f7374bb3-0e02-4750-8750-f28749e47c7e"
      },
      "source": [
        "tuner.search(X_train,y_train,epochs=100,validation_data= (X_test,y_test))\n"
      ],
      "id": "z2lxkNCSLEPY",
      "execution_count": 177,
      "outputs": [
        {
          "output_type": "stream",
          "text": [
            "Trial 10 Complete [00h 00m 25s]\n",
            "val_loss: 0.010832091172536215\n",
            "\n",
            "Best val_loss So Far: 0.010629584081470966\n",
            "Total elapsed time: 00h 25m 12s\n",
            "INFO:tensorflow:Oracle triggered exit\n"
          ],
          "name": "stdout"
        }
      ]
    },
    {
      "cell_type": "code",
      "metadata": {
        "colab": {
          "base_uri": "https://localhost:8080/"
        },
        "id": "HLHDevawIfGW",
        "outputId": "f9134f35-0cd7-4af6-ae09-4315a50b8303"
      },
      "source": [
        "tuner.results_summary()\n"
      ],
      "id": "HLHDevawIfGW",
      "execution_count": 178,
      "outputs": [
        {
          "output_type": "stream",
          "text": [
            "Results summary\n",
            "Results in ./untitled_project\n",
            "Showing 10 best trials\n",
            "Objective(name='val_loss', direction='min')\n",
            "Trial summary\n",
            "Hyperparameters:\n",
            "num_layers: 8\n",
            "units_0: 416\n",
            "units_1: 832\n",
            "learning_rate: 0.01\n",
            "units_2: 352\n",
            "units_3: 512\n",
            "units_4: 512\n",
            "units_5: 576\n",
            "units_6: 320\n",
            "units_7: 256\n",
            "units_8: 416\n",
            "units_9: 832\n",
            "units_10: 704\n",
            "units_11: 992\n",
            "units_12: 288\n",
            "units_13: 32\n",
            "units_14: 864\n",
            "units_15: 448\n",
            "units_16: 640\n",
            "units_17: 352\n",
            "units_18: 320\n",
            "units_19: 768\n",
            "units_20: 96\n",
            "units_21: 832\n",
            "units_22: 736\n",
            "units_23: 352\n",
            "units_24: 928\n",
            "units_25: 480\n",
            "units_26: 64\n",
            "units_27: 160\n",
            "units_28: 864\n",
            "units_29: 512\n",
            "units_30: 480\n",
            "units_31: 608\n",
            "units_32: 736\n",
            "units_33: 352\n",
            "units_34: 512\n",
            "units_35: 896\n",
            "units_36: 736\n",
            "units_37: 960\n",
            "Score: 0.010629584081470966\n",
            "Trial summary\n",
            "Hyperparameters:\n",
            "num_layers: 3\n",
            "units_0: 576\n",
            "units_1: 96\n",
            "learning_rate: 0.001\n",
            "units_2: 672\n",
            "units_3: 32\n",
            "units_4: 800\n",
            "units_5: 384\n",
            "units_6: 416\n",
            "units_7: 832\n",
            "units_8: 896\n",
            "units_9: 448\n",
            "units_10: 160\n",
            "units_11: 480\n",
            "units_12: 192\n",
            "units_13: 1024\n",
            "units_14: 416\n",
            "units_15: 608\n",
            "units_16: 736\n",
            "units_17: 832\n",
            "units_18: 864\n",
            "units_19: 864\n",
            "units_20: 480\n",
            "units_21: 832\n",
            "units_22: 448\n",
            "units_23: 608\n",
            "units_24: 256\n",
            "units_25: 288\n",
            "units_26: 864\n",
            "units_27: 64\n",
            "units_28: 672\n",
            "units_29: 320\n",
            "units_30: 352\n",
            "units_31: 800\n",
            "units_32: 544\n",
            "units_33: 896\n",
            "units_34: 352\n",
            "units_35: 288\n",
            "units_36: 576\n",
            "units_37: 768\n",
            "Score: 0.010832091172536215\n",
            "Trial summary\n",
            "Hyperparameters:\n",
            "num_layers: 20\n",
            "units_0: 864\n",
            "units_1: 544\n",
            "learning_rate: 0.0001\n",
            "units_2: 992\n",
            "units_3: 864\n",
            "units_4: 352\n",
            "units_5: 992\n",
            "units_6: 864\n",
            "units_7: 480\n",
            "units_8: 800\n",
            "units_9: 896\n",
            "units_10: 512\n",
            "units_11: 224\n",
            "units_12: 512\n",
            "units_13: 992\n",
            "units_14: 320\n",
            "units_15: 960\n",
            "units_16: 736\n",
            "units_17: 576\n",
            "units_18: 256\n",
            "units_19: 288\n",
            "units_20: 640\n",
            "units_21: 128\n",
            "units_22: 704\n",
            "units_23: 864\n",
            "units_24: 928\n",
            "units_25: 640\n",
            "units_26: 608\n",
            "units_27: 256\n",
            "units_28: 608\n",
            "units_29: 672\n",
            "units_30: 192\n",
            "units_31: 352\n",
            "units_32: 256\n",
            "units_33: 192\n",
            "units_34: 160\n",
            "units_35: 32\n",
            "units_36: 1024\n",
            "units_37: 992\n",
            "Score: 0.011001063510775566\n",
            "Trial summary\n",
            "Hyperparameters:\n",
            "num_layers: 21\n",
            "units_0: 416\n",
            "units_1: 448\n",
            "learning_rate: 0.001\n",
            "units_2: 256\n",
            "units_3: 448\n",
            "units_4: 128\n",
            "units_5: 320\n",
            "units_6: 96\n",
            "units_7: 320\n",
            "units_8: 128\n",
            "units_9: 928\n",
            "units_10: 832\n",
            "units_11: 1024\n",
            "units_12: 512\n",
            "units_13: 288\n",
            "units_14: 960\n",
            "units_15: 160\n",
            "units_16: 608\n",
            "units_17: 224\n",
            "units_18: 448\n",
            "units_19: 480\n",
            "units_20: 416\n",
            "units_21: 512\n",
            "units_22: 768\n",
            "units_23: 416\n",
            "units_24: 864\n",
            "units_25: 960\n",
            "units_26: 384\n",
            "units_27: 544\n",
            "units_28: 672\n",
            "units_29: 448\n",
            "units_30: 288\n",
            "units_31: 128\n",
            "units_32: 384\n",
            "units_33: 736\n",
            "units_34: 288\n",
            "units_35: 704\n",
            "units_36: 928\n",
            "units_37: 352\n",
            "Score: 0.014119429824252924\n",
            "Trial summary\n",
            "Hyperparameters:\n",
            "num_layers: 14\n",
            "units_0: 256\n",
            "units_1: 704\n",
            "learning_rate: 0.01\n",
            "units_2: 64\n",
            "units_3: 544\n",
            "units_4: 512\n",
            "units_5: 896\n",
            "units_6: 416\n",
            "units_7: 576\n",
            "units_8: 576\n",
            "units_9: 128\n",
            "units_10: 448\n",
            "units_11: 512\n",
            "units_12: 960\n",
            "units_13: 480\n",
            "units_14: 416\n",
            "units_15: 832\n",
            "units_16: 416\n",
            "units_17: 288\n",
            "units_18: 160\n",
            "units_19: 992\n",
            "units_20: 448\n",
            "units_21: 256\n",
            "units_22: 64\n",
            "units_23: 576\n",
            "units_24: 736\n",
            "units_25: 288\n",
            "units_26: 416\n",
            "units_27: 384\n",
            "units_28: 896\n",
            "units_29: 384\n",
            "units_30: 672\n",
            "units_31: 160\n",
            "units_32: 256\n",
            "units_33: 224\n",
            "units_34: 320\n",
            "units_35: 832\n",
            "units_36: 832\n",
            "units_37: 800\n",
            "Score: 0.019640058279037476\n",
            "Trial summary\n",
            "Hyperparameters:\n",
            "num_layers: 38\n",
            "units_0: 352\n",
            "units_1: 256\n",
            "learning_rate: 0.001\n",
            "units_2: 32\n",
            "units_3: 32\n",
            "units_4: 32\n",
            "units_5: 32\n",
            "units_6: 32\n",
            "units_7: 32\n",
            "units_8: 32\n",
            "units_9: 32\n",
            "units_10: 32\n",
            "units_11: 32\n",
            "units_12: 32\n",
            "units_13: 32\n",
            "units_14: 32\n",
            "units_15: 32\n",
            "units_16: 32\n",
            "units_17: 32\n",
            "units_18: 32\n",
            "units_19: 32\n",
            "units_20: 32\n",
            "units_21: 32\n",
            "units_22: 32\n",
            "units_23: 32\n",
            "units_24: 32\n",
            "units_25: 32\n",
            "units_26: 32\n",
            "units_27: 32\n",
            "units_28: 32\n",
            "units_29: 32\n",
            "units_30: 32\n",
            "units_31: 32\n",
            "units_32: 32\n",
            "units_33: 32\n",
            "units_34: 32\n",
            "units_35: 32\n",
            "units_36: 32\n",
            "units_37: 32\n",
            "Score: 0.02536122500896454\n",
            "Trial summary\n",
            "Hyperparameters:\n",
            "num_layers: 15\n",
            "units_0: 448\n",
            "units_1: 448\n",
            "learning_rate: 0.01\n",
            "units_2: 288\n",
            "units_3: 288\n",
            "units_4: 832\n",
            "units_5: 64\n",
            "units_6: 192\n",
            "units_7: 544\n",
            "units_8: 544\n",
            "units_9: 640\n",
            "units_10: 544\n",
            "units_11: 320\n",
            "units_12: 608\n",
            "units_13: 224\n",
            "units_14: 864\n",
            "units_15: 704\n",
            "units_16: 928\n",
            "units_17: 448\n",
            "units_18: 960\n",
            "units_19: 896\n",
            "units_20: 512\n",
            "units_21: 640\n",
            "units_22: 992\n",
            "units_23: 384\n",
            "units_24: 288\n",
            "units_25: 704\n",
            "units_26: 224\n",
            "units_27: 512\n",
            "units_28: 288\n",
            "units_29: 384\n",
            "units_30: 960\n",
            "units_31: 608\n",
            "units_32: 384\n",
            "units_33: 512\n",
            "units_34: 544\n",
            "units_35: 256\n",
            "units_36: 384\n",
            "units_37: 544\n",
            "Score: 0.03660187032073736\n",
            "Trial summary\n",
            "Hyperparameters:\n",
            "num_layers: 28\n",
            "units_0: 96\n",
            "units_1: 288\n",
            "learning_rate: 0.01\n",
            "units_2: 416\n",
            "units_3: 832\n",
            "units_4: 704\n",
            "units_5: 160\n",
            "units_6: 224\n",
            "units_7: 896\n",
            "units_8: 608\n",
            "units_9: 576\n",
            "units_10: 736\n",
            "units_11: 512\n",
            "units_12: 384\n",
            "units_13: 768\n",
            "units_14: 160\n",
            "units_15: 928\n",
            "units_16: 192\n",
            "units_17: 288\n",
            "units_18: 736\n",
            "units_19: 256\n",
            "units_20: 576\n",
            "units_21: 864\n",
            "units_22: 128\n",
            "units_23: 672\n",
            "units_24: 704\n",
            "units_25: 832\n",
            "units_26: 160\n",
            "units_27: 960\n",
            "units_28: 736\n",
            "units_29: 256\n",
            "units_30: 384\n",
            "units_31: 256\n",
            "units_32: 256\n",
            "units_33: 64\n",
            "units_34: 1024\n",
            "units_35: 960\n",
            "units_36: 96\n",
            "units_37: 768\n",
            "Score: 0.04582958109676838\n",
            "Trial summary\n",
            "Hyperparameters:\n",
            "num_layers: 24\n",
            "units_0: 704\n",
            "units_1: 672\n",
            "learning_rate: 0.01\n",
            "units_2: 704\n",
            "units_3: 736\n",
            "units_4: 480\n",
            "units_5: 960\n",
            "units_6: 448\n",
            "units_7: 800\n",
            "units_8: 640\n",
            "units_9: 96\n",
            "units_10: 960\n",
            "units_11: 736\n",
            "units_12: 96\n",
            "units_13: 192\n",
            "units_14: 704\n",
            "units_15: 832\n",
            "units_16: 800\n",
            "units_17: 128\n",
            "units_18: 544\n",
            "units_19: 96\n",
            "units_20: 960\n",
            "units_21: 864\n",
            "units_22: 992\n",
            "units_23: 832\n",
            "units_24: 448\n",
            "units_25: 768\n",
            "units_26: 832\n",
            "units_27: 928\n",
            "units_28: 384\n",
            "units_29: 672\n",
            "units_30: 256\n",
            "units_31: 768\n",
            "units_32: 992\n",
            "units_33: 448\n",
            "units_34: 64\n",
            "units_35: 896\n",
            "units_36: 896\n",
            "units_37: 640\n",
            "Score: 0.0539064755042394\n",
            "Trial summary\n",
            "Hyperparameters:\n",
            "num_layers: 35\n",
            "units_0: 704\n",
            "units_1: 608\n",
            "learning_rate: 0.001\n",
            "units_2: 192\n",
            "units_3: 160\n",
            "units_4: 320\n",
            "units_5: 960\n",
            "units_6: 832\n",
            "units_7: 704\n",
            "units_8: 192\n",
            "units_9: 64\n",
            "units_10: 736\n",
            "units_11: 896\n",
            "units_12: 992\n",
            "units_13: 256\n",
            "units_14: 640\n",
            "units_15: 288\n",
            "units_16: 288\n",
            "units_17: 256\n",
            "units_18: 352\n",
            "units_19: 832\n",
            "units_20: 576\n",
            "units_21: 896\n",
            "units_22: 96\n",
            "units_23: 672\n",
            "units_24: 896\n",
            "units_25: 608\n",
            "units_26: 128\n",
            "units_27: 928\n",
            "units_28: 288\n",
            "units_29: 832\n",
            "units_30: 736\n",
            "units_31: 128\n",
            "units_32: 576\n",
            "units_33: 32\n",
            "units_34: 96\n",
            "units_35: 128\n",
            "units_36: 608\n",
            "units_37: 384\n",
            "Score: 0.0539066307246685\n"
          ],
          "name": "stdout"
        }
      ]
    },
    {
      "cell_type": "code",
      "metadata": {
        "id": "roqS6m3yti3s"
      },
      "source": [
        "from keras.optimizers import Adam"
      ],
      "id": "roqS6m3yti3s",
      "execution_count": 179,
      "outputs": []
    },
    {
      "cell_type": "code",
      "metadata": {
        "colab": {
          "base_uri": "https://localhost:8080/"
        },
        "id": "0cQUQbw9ag8L",
        "outputId": "981875a7-c853-44f4-d141-1813da088b99"
      },
      "source": [
        "X_\n"
      ],
      "id": "0cQUQbw9ag8L",
      "execution_count": 180,
      "outputs": [
        {
          "output_type": "execute_result",
          "data": {
            "text/plain": [
              "array([[0.71428571, 0.41558442, 0.32432432, 0.57936626],\n",
              "       [0.84415584, 0.7012987 , 0.56756757, 0.42522791],\n",
              "       [0.69480519, 0.55844156, 0.62162162, 0.50660002],\n",
              "       [0.75974026, 0.81818182, 0.35135135, 0.58050005],\n",
              "       [0.74675325, 0.38961039, 0.37837838, 0.61223928],\n",
              "       [0.33766234, 0.12987013, 0.56756757, 0.4277632 ],\n",
              "       [0.        , 0.01298701, 0.89189189, 0.06199236],\n",
              "       [0.68181818, 0.57142857, 0.89189189, 0.26351954],\n",
              "       [0.65584416, 0.54545455, 0.64864865, 0.49953046],\n",
              "       [0.31818182, 0.20779221, 0.51351351, 0.89144246],\n",
              "       [0.64285714, 0.80519481, 0.08108108, 1.        ],\n",
              "       [0.81818182, 0.62337662, 0.27027027, 0.40262763],\n",
              "       [0.75974026, 0.5974026 , 0.48648649, 0.50006332],\n",
              "       [0.67532468, 0.46753247, 0.37837838, 0.57610091],\n",
              "       [0.37662338, 0.23376623, 0.37837838, 0.88138651],\n",
              "       [0.80519481, 0.79220779, 0.27027027, 0.60106925],\n",
              "       [0.88311688, 0.44155844, 0.51351351, 0.35180188],\n",
              "       [0.61688312, 0.5974026 , 0.54054054, 0.34290542],\n",
              "       [0.77272727, 0.61038961, 0.59459459, 0.41926208],\n",
              "       [0.2987013 , 0.14285714, 0.62162162, 0.44757644],\n",
              "       [0.06493506, 0.        , 0.54054054, 0.13697202],\n",
              "       [0.81168831, 1.        , 0.56756757, 0.501147  ],\n",
              "       [0.74025974, 0.61038961, 0.56756757, 0.33739643],\n",
              "       [0.68181818, 0.42857143, 0.64864865, 0.20190018],\n",
              "       [0.73376623, 0.38961039, 0.97297297, 0.13504361],\n",
              "       [0.30519481, 0.1038961 , 1.        , 0.4034807 ],\n",
              "       [0.01948052, 0.05194805, 0.91891892, 0.45454736],\n",
              "       [0.75974026, 0.72727273, 0.78378378, 0.26268814],\n",
              "       [0.74025974, 0.5974026 , 0.56756757, 0.36364048],\n",
              "       [0.75324675, 0.71428571, 0.54054054, 0.46644784],\n",
              "       [0.58441558, 0.66233766, 0.67567568, 0.37084886],\n",
              "       [0.62987013, 0.62337662, 0.18918919, 0.47204574],\n",
              "       [0.62987013, 0.62337662, 0.37837838, 0.47204574],\n",
              "       [0.35064935, 0.14285714, 0.05405405, 0.15036127],\n",
              "       [0.02597403, 0.05194805, 0.08108108, 0.62676473],\n",
              "       [1.        , 0.79220779, 0.        , 0.50138445],\n",
              "       [0.94155844, 0.88311688, 0.18918919, 0.5013077 ],\n",
              "       [0.77922078, 0.72727273, 0.35135135, 0.33317462],\n",
              "       [0.3961039 , 0.23376623, 0.13513514, 0.28106684],\n",
              "       [0.07142857, 0.02597403, 0.51351351, 0.        ],\n",
              "       [0.77922078, 0.55844156, 0.62162162, 0.25213778],\n",
              "       [0.79220779, 0.74025974, 0.54054054, 0.45360208],\n",
              "       [0.68831169, 0.76623377, 0.43243243, 0.34362452],\n",
              "       [0.58441558, 0.57142857, 0.43243243, 0.69037145]])"
            ]
          },
          "metadata": {
            "tags": []
          },
          "execution_count": 180
        }
      ]
    },
    {
      "cell_type": "code",
      "metadata": {
        "id": "cFQtLkztLqCf"
      },
      "source": [
        "num_layers: 8\n",
        "units_0: 416\n",
        "units_1: 832\n",
        "learning_rate: 0.01\n",
        "units_2: 352\n",
        "units_3: 512\n",
        "units_4: 512\n",
        "units_5: 576\n",
        "units_6: 320\n",
        "units_7: 256\n",
        "units_8: 416\n",
        "units_9: 832\n",
        "units_9: 832\n",
        "units_10: 704\n",
        "units_11: 992\n",
        "units_12: 288\n",
        "units_13: 32\n",
        "units_14: 864\n",
        "units_15: 448\n",
        "units_16: 640\n",
        "units_17: 352\n",
        "units_18: 320\n",
        "units_19: 768\n",
        "units_20: 96\n",
        "units_21: 832\n",
        "units_22: 736\n",
        "units_23: 352\n",
        "units_24: 928\n",
        "units_25: 480\n",
        "units_26: 64\n",
        "units_27: 160\n",
        "units_28: 864\n",
        "units_29: 512\n",
        "units_30: 480\n",
        "units_31: 608\n",
        "units_32: 736\n",
        "units_33: 352\n",
        "units_34: 512\n",
        "units_35: 896\n",
        "units_36: 736\n",
        "units_37: 960"
      ],
      "id": "cFQtLkztLqCf",
      "execution_count": null,
      "outputs": []
    },
    {
      "cell_type": "code",
      "metadata": {
        "id": "YcQNsBNTF9nK"
      },
      "source": [
        "model = Sequential()\n",
        "model.add(Dense(416, activation = 'relu', input_dim =4))\n",
        "model.add(Dense(832, activation = 'relu'))\n",
        "model.add(Dense(352, activation = 'relu'))\n",
        "model.add(Dense(512, activation = 'relu'))\n",
        "model.add(Dense(512, activation = 'relu'))\n",
        "model.add(Dense(576, activation = 'relu'))\n",
        "model.add(Dense(320, activation = 'relu'))\n",
        "model.add(Dense(256, activation = 'relu'))\n",
        "model.add(Dense(416, activation = 'relu'))\n",
        "model.add(Dense(832, activation = 'relu'))\n",
        "\n",
        "\n",
        "model.add(Dense(1,activation = 'linear'))\n",
        "model.compile(optimizer=Adam(lr=0.01), loss='MeanSquaredError', metrics = ['MeanSquaredError'])"
      ],
      "id": "YcQNsBNTF9nK",
      "execution_count": 206,
      "outputs": []
    },
    {
      "cell_type": "code",
      "metadata": {
        "id": "nvglpp4JDEsF"
      },
      "source": [
        ""
      ],
      "id": "nvglpp4JDEsF",
      "execution_count": 206,
      "outputs": []
    },
    {
      "cell_type": "code",
      "metadata": {
        "colab": {
          "base_uri": "https://localhost:8080/"
        },
        "id": "IijwqesKGZTX",
        "outputId": "ea87ded5-a959-48b0-a725-036e6d4add5e"
      },
      "source": [
        "hist=model.fit(X_train,y_train,epochs=100,validation_data=(X_test,y_test))"
      ],
      "id": "IijwqesKGZTX",
      "execution_count": 207,
      "outputs": [
        {
          "output_type": "stream",
          "text": [
            "Epoch 1/100\n",
            "8/8 [==============================] - 1s 58ms/step - loss: 103.4149 - mean_squared_error: 103.4149 - val_loss: 0.1090 - val_mean_squared_error: 0.1090\n",
            "Epoch 2/100\n",
            "8/8 [==============================] - 0s 34ms/step - loss: 0.0735 - mean_squared_error: 0.0735 - val_loss: 0.0607 - val_mean_squared_error: 0.0607\n",
            "Epoch 3/100\n",
            "8/8 [==============================] - 0s 33ms/step - loss: 0.0413 - mean_squared_error: 0.0413 - val_loss: 0.0552 - val_mean_squared_error: 0.0552\n",
            "Epoch 4/100\n",
            "8/8 [==============================] - 0s 34ms/step - loss: 0.0448 - mean_squared_error: 0.0448 - val_loss: 0.0176 - val_mean_squared_error: 0.0176\n",
            "Epoch 5/100\n",
            "8/8 [==============================] - 0s 33ms/step - loss: 0.0235 - mean_squared_error: 0.0235 - val_loss: 0.0249 - val_mean_squared_error: 0.0249\n",
            "Epoch 6/100\n",
            "8/8 [==============================] - 0s 34ms/step - loss: 0.0236 - mean_squared_error: 0.0236 - val_loss: 0.0258 - val_mean_squared_error: 0.0258\n",
            "Epoch 7/100\n",
            "8/8 [==============================] - 0s 33ms/step - loss: 0.0282 - mean_squared_error: 0.0282 - val_loss: 0.0161 - val_mean_squared_error: 0.0161\n",
            "Epoch 8/100\n",
            "8/8 [==============================] - 0s 34ms/step - loss: 0.0222 - mean_squared_error: 0.0222 - val_loss: 0.0150 - val_mean_squared_error: 0.0150\n",
            "Epoch 9/100\n",
            "8/8 [==============================] - 0s 35ms/step - loss: 0.0194 - mean_squared_error: 0.0194 - val_loss: 0.0170 - val_mean_squared_error: 0.0170\n",
            "Epoch 10/100\n",
            "8/8 [==============================] - 0s 33ms/step - loss: 0.0163 - mean_squared_error: 0.0163 - val_loss: 0.0139 - val_mean_squared_error: 0.0139\n",
            "Epoch 11/100\n",
            "8/8 [==============================] - 0s 35ms/step - loss: 0.0192 - mean_squared_error: 0.0192 - val_loss: 0.0220 - val_mean_squared_error: 0.0220\n",
            "Epoch 12/100\n",
            "8/8 [==============================] - 0s 33ms/step - loss: 0.0211 - mean_squared_error: 0.0211 - val_loss: 0.0171 - val_mean_squared_error: 0.0171\n",
            "Epoch 13/100\n",
            "8/8 [==============================] - 0s 34ms/step - loss: 0.0193 - mean_squared_error: 0.0193 - val_loss: 0.0153 - val_mean_squared_error: 0.0153\n",
            "Epoch 14/100\n",
            "8/8 [==============================] - 0s 31ms/step - loss: 0.0220 - mean_squared_error: 0.0220 - val_loss: 0.0142 - val_mean_squared_error: 0.0142\n",
            "Epoch 15/100\n",
            "8/8 [==============================] - 0s 34ms/step - loss: 0.0248 - mean_squared_error: 0.0248 - val_loss: 0.0181 - val_mean_squared_error: 0.0181\n",
            "Epoch 16/100\n",
            "8/8 [==============================] - 0s 33ms/step - loss: 0.0199 - mean_squared_error: 0.0199 - val_loss: 0.0119 - val_mean_squared_error: 0.0119\n",
            "Epoch 17/100\n",
            "8/8 [==============================] - 0s 34ms/step - loss: 0.0187 - mean_squared_error: 0.0187 - val_loss: 0.0140 - val_mean_squared_error: 0.0140\n",
            "Epoch 18/100\n",
            "8/8 [==============================] - 0s 34ms/step - loss: 0.0191 - mean_squared_error: 0.0191 - val_loss: 0.0180 - val_mean_squared_error: 0.0180\n",
            "Epoch 19/100\n",
            "8/8 [==============================] - 0s 33ms/step - loss: 0.0255 - mean_squared_error: 0.0255 - val_loss: 0.0286 - val_mean_squared_error: 0.0286\n",
            "Epoch 20/100\n",
            "8/8 [==============================] - 0s 34ms/step - loss: 0.0259 - mean_squared_error: 0.0259 - val_loss: 0.0291 - val_mean_squared_error: 0.0291\n",
            "Epoch 21/100\n",
            "8/8 [==============================] - 0s 34ms/step - loss: 0.0245 - mean_squared_error: 0.0245 - val_loss: 0.0148 - val_mean_squared_error: 0.0148\n",
            "Epoch 22/100\n",
            "8/8 [==============================] - 0s 32ms/step - loss: 0.0181 - mean_squared_error: 0.0181 - val_loss: 0.0134 - val_mean_squared_error: 0.0134\n",
            "Epoch 23/100\n",
            "8/8 [==============================] - 0s 33ms/step - loss: 0.0163 - mean_squared_error: 0.0163 - val_loss: 0.0347 - val_mean_squared_error: 0.0347\n",
            "Epoch 24/100\n",
            "8/8 [==============================] - 0s 34ms/step - loss: 0.0270 - mean_squared_error: 0.0270 - val_loss: 0.0196 - val_mean_squared_error: 0.0196\n",
            "Epoch 25/100\n",
            "8/8 [==============================] - 0s 33ms/step - loss: 0.0224 - mean_squared_error: 0.0224 - val_loss: 0.0142 - val_mean_squared_error: 0.0142\n",
            "Epoch 26/100\n",
            "8/8 [==============================] - 0s 34ms/step - loss: 0.0153 - mean_squared_error: 0.0153 - val_loss: 0.0117 - val_mean_squared_error: 0.0117\n",
            "Epoch 27/100\n",
            "8/8 [==============================] - 0s 32ms/step - loss: 0.0162 - mean_squared_error: 0.0162 - val_loss: 0.0135 - val_mean_squared_error: 0.0135\n",
            "Epoch 28/100\n",
            "8/8 [==============================] - 0s 35ms/step - loss: 0.0162 - mean_squared_error: 0.0162 - val_loss: 0.0199 - val_mean_squared_error: 0.0199\n",
            "Epoch 29/100\n",
            "8/8 [==============================] - 0s 33ms/step - loss: 0.0202 - mean_squared_error: 0.0202 - val_loss: 0.0178 - val_mean_squared_error: 0.0178\n",
            "Epoch 30/100\n",
            "8/8 [==============================] - 0s 33ms/step - loss: 0.0190 - mean_squared_error: 0.0190 - val_loss: 0.0226 - val_mean_squared_error: 0.0226\n",
            "Epoch 31/100\n",
            "8/8 [==============================] - 0s 34ms/step - loss: 0.0262 - mean_squared_error: 0.0262 - val_loss: 0.0135 - val_mean_squared_error: 0.0135\n",
            "Epoch 32/100\n",
            "8/8 [==============================] - 0s 36ms/step - loss: 0.0167 - mean_squared_error: 0.0167 - val_loss: 0.0160 - val_mean_squared_error: 0.0160\n",
            "Epoch 33/100\n",
            "8/8 [==============================] - 0s 34ms/step - loss: 0.0230 - mean_squared_error: 0.0230 - val_loss: 0.0130 - val_mean_squared_error: 0.0130\n",
            "Epoch 34/100\n",
            "8/8 [==============================] - 0s 34ms/step - loss: 0.0170 - mean_squared_error: 0.0170 - val_loss: 0.0137 - val_mean_squared_error: 0.0137\n",
            "Epoch 35/100\n",
            "8/8 [==============================] - 0s 34ms/step - loss: 0.0178 - mean_squared_error: 0.0178 - val_loss: 0.0123 - val_mean_squared_error: 0.0123\n",
            "Epoch 36/100\n",
            "8/8 [==============================] - 0s 37ms/step - loss: 0.0180 - mean_squared_error: 0.0180 - val_loss: 0.0120 - val_mean_squared_error: 0.0120\n",
            "Epoch 37/100\n",
            "8/8 [==============================] - 0s 34ms/step - loss: 0.0158 - mean_squared_error: 0.0158 - val_loss: 0.0123 - val_mean_squared_error: 0.0123\n",
            "Epoch 38/100\n",
            "8/8 [==============================] - 0s 34ms/step - loss: 0.0187 - mean_squared_error: 0.0187 - val_loss: 0.0113 - val_mean_squared_error: 0.0113\n",
            "Epoch 39/100\n",
            "8/8 [==============================] - 0s 36ms/step - loss: 0.0181 - mean_squared_error: 0.0181 - val_loss: 0.0117 - val_mean_squared_error: 0.0117\n",
            "Epoch 40/100\n",
            "8/8 [==============================] - 0s 33ms/step - loss: 0.0145 - mean_squared_error: 0.0145 - val_loss: 0.0111 - val_mean_squared_error: 0.0111\n",
            "Epoch 41/100\n",
            "8/8 [==============================] - 0s 34ms/step - loss: 0.0172 - mean_squared_error: 0.0172 - val_loss: 0.0119 - val_mean_squared_error: 0.0119\n",
            "Epoch 42/100\n",
            "8/8 [==============================] - 0s 34ms/step - loss: 0.0168 - mean_squared_error: 0.0168 - val_loss: 0.0178 - val_mean_squared_error: 0.0178\n",
            "Epoch 43/100\n",
            "8/8 [==============================] - 0s 37ms/step - loss: 0.0151 - mean_squared_error: 0.0151 - val_loss: 0.0125 - val_mean_squared_error: 0.0125\n",
            "Epoch 44/100\n",
            "8/8 [==============================] - 0s 35ms/step - loss: 0.0230 - mean_squared_error: 0.0230 - val_loss: 0.0257 - val_mean_squared_error: 0.0257\n",
            "Epoch 45/100\n",
            "8/8 [==============================] - 0s 33ms/step - loss: 0.0279 - mean_squared_error: 0.0279 - val_loss: 0.0163 - val_mean_squared_error: 0.0163\n",
            "Epoch 46/100\n",
            "8/8 [==============================] - 0s 34ms/step - loss: 0.0194 - mean_squared_error: 0.0194 - val_loss: 0.0165 - val_mean_squared_error: 0.0165\n",
            "Epoch 47/100\n",
            "8/8 [==============================] - 0s 34ms/step - loss: 0.0240 - mean_squared_error: 0.0240 - val_loss: 0.0287 - val_mean_squared_error: 0.0287\n",
            "Epoch 48/100\n",
            "8/8 [==============================] - 0s 34ms/step - loss: 0.0234 - mean_squared_error: 0.0234 - val_loss: 0.1213 - val_mean_squared_error: 0.1213\n",
            "Epoch 49/100\n",
            "8/8 [==============================] - 0s 34ms/step - loss: 0.0371 - mean_squared_error: 0.0371 - val_loss: 0.0214 - val_mean_squared_error: 0.0214\n",
            "Epoch 50/100\n",
            "8/8 [==============================] - 0s 33ms/step - loss: 0.0261 - mean_squared_error: 0.0261 - val_loss: 0.0136 - val_mean_squared_error: 0.0136\n",
            "Epoch 51/100\n",
            "8/8 [==============================] - 0s 34ms/step - loss: 0.0238 - mean_squared_error: 0.0238 - val_loss: 0.0165 - val_mean_squared_error: 0.0165\n",
            "Epoch 52/100\n",
            "8/8 [==============================] - 0s 34ms/step - loss: 0.0177 - mean_squared_error: 0.0177 - val_loss: 0.0365 - val_mean_squared_error: 0.0365\n",
            "Epoch 53/100\n",
            "8/8 [==============================] - 0s 33ms/step - loss: 0.0328 - mean_squared_error: 0.0328 - val_loss: 0.0273 - val_mean_squared_error: 0.0273\n",
            "Epoch 54/100\n",
            "8/8 [==============================] - 0s 35ms/step - loss: 0.0290 - mean_squared_error: 0.0290 - val_loss: 0.0138 - val_mean_squared_error: 0.0138\n",
            "Epoch 55/100\n",
            "8/8 [==============================] - 0s 33ms/step - loss: 0.0179 - mean_squared_error: 0.0179 - val_loss: 0.0143 - val_mean_squared_error: 0.0143\n",
            "Epoch 56/100\n",
            "8/8 [==============================] - 0s 35ms/step - loss: 0.0208 - mean_squared_error: 0.0208 - val_loss: 0.0142 - val_mean_squared_error: 0.0142\n",
            "Epoch 57/100\n",
            "8/8 [==============================] - 0s 32ms/step - loss: 0.0184 - mean_squared_error: 0.0184 - val_loss: 0.0196 - val_mean_squared_error: 0.0196\n",
            "Epoch 58/100\n",
            "8/8 [==============================] - 0s 37ms/step - loss: 0.0175 - mean_squared_error: 0.0175 - val_loss: 0.0122 - val_mean_squared_error: 0.0122\n",
            "Epoch 59/100\n",
            "8/8 [==============================] - 0s 34ms/step - loss: 0.0154 - mean_squared_error: 0.0154 - val_loss: 0.0120 - val_mean_squared_error: 0.0120\n",
            "Epoch 60/100\n",
            "8/8 [==============================] - 0s 32ms/step - loss: 0.0156 - mean_squared_error: 0.0156 - val_loss: 0.0140 - val_mean_squared_error: 0.0140\n",
            "Epoch 61/100\n",
            "8/8 [==============================] - 0s 35ms/step - loss: 0.0163 - mean_squared_error: 0.0163 - val_loss: 0.0164 - val_mean_squared_error: 0.0164\n",
            "Epoch 62/100\n",
            "8/8 [==============================] - 0s 38ms/step - loss: 0.0179 - mean_squared_error: 0.0179 - val_loss: 0.0137 - val_mean_squared_error: 0.0137\n",
            "Epoch 63/100\n",
            "8/8 [==============================] - 0s 35ms/step - loss: 0.0159 - mean_squared_error: 0.0159 - val_loss: 0.0168 - val_mean_squared_error: 0.0168\n",
            "Epoch 64/100\n",
            "8/8 [==============================] - 0s 33ms/step - loss: 0.0201 - mean_squared_error: 0.0201 - val_loss: 0.0148 - val_mean_squared_error: 0.0148\n",
            "Epoch 65/100\n",
            "8/8 [==============================] - 0s 35ms/step - loss: 0.0159 - mean_squared_error: 0.0159 - val_loss: 0.0134 - val_mean_squared_error: 0.0134\n",
            "Epoch 66/100\n",
            "8/8 [==============================] - 0s 34ms/step - loss: 0.0156 - mean_squared_error: 0.0156 - val_loss: 0.0208 - val_mean_squared_error: 0.0208\n",
            "Epoch 67/100\n",
            "8/8 [==============================] - 0s 35ms/step - loss: 0.0268 - mean_squared_error: 0.0268 - val_loss: 0.0136 - val_mean_squared_error: 0.0136\n",
            "Epoch 68/100\n",
            "8/8 [==============================] - 0s 34ms/step - loss: 0.0188 - mean_squared_error: 0.0188 - val_loss: 0.0146 - val_mean_squared_error: 0.0146\n",
            "Epoch 69/100\n",
            "8/8 [==============================] - 0s 34ms/step - loss: 0.0147 - mean_squared_error: 0.0147 - val_loss: 0.0132 - val_mean_squared_error: 0.0132\n",
            "Epoch 70/100\n",
            "8/8 [==============================] - 0s 33ms/step - loss: 0.0163 - mean_squared_error: 0.0163 - val_loss: 0.0156 - val_mean_squared_error: 0.0156\n",
            "Epoch 71/100\n",
            "8/8 [==============================] - 0s 36ms/step - loss: 0.0163 - mean_squared_error: 0.0163 - val_loss: 0.0127 - val_mean_squared_error: 0.0127\n",
            "Epoch 72/100\n",
            "8/8 [==============================] - 0s 34ms/step - loss: 0.0137 - mean_squared_error: 0.0137 - val_loss: 0.0124 - val_mean_squared_error: 0.0124\n",
            "Epoch 73/100\n",
            "8/8 [==============================] - 0s 35ms/step - loss: 0.0170 - mean_squared_error: 0.0170 - val_loss: 0.0133 - val_mean_squared_error: 0.0133\n",
            "Epoch 74/100\n",
            "8/8 [==============================] - 0s 34ms/step - loss: 0.0147 - mean_squared_error: 0.0147 - val_loss: 0.0120 - val_mean_squared_error: 0.0120\n",
            "Epoch 75/100\n",
            "8/8 [==============================] - 0s 34ms/step - loss: 0.0137 - mean_squared_error: 0.0137 - val_loss: 0.0123 - val_mean_squared_error: 0.0123\n",
            "Epoch 76/100\n",
            "8/8 [==============================] - 0s 36ms/step - loss: 0.0138 - mean_squared_error: 0.0138 - val_loss: 0.0188 - val_mean_squared_error: 0.0188\n",
            "Epoch 77/100\n",
            "8/8 [==============================] - 0s 34ms/step - loss: 0.0200 - mean_squared_error: 0.0200 - val_loss: 0.0128 - val_mean_squared_error: 0.0128\n",
            "Epoch 78/100\n",
            "8/8 [==============================] - 0s 34ms/step - loss: 0.0141 - mean_squared_error: 0.0141 - val_loss: 0.0131 - val_mean_squared_error: 0.0131\n",
            "Epoch 79/100\n",
            "8/8 [==============================] - 0s 34ms/step - loss: 0.0155 - mean_squared_error: 0.0155 - val_loss: 0.0121 - val_mean_squared_error: 0.0121\n",
            "Epoch 80/100\n",
            "8/8 [==============================] - 0s 36ms/step - loss: 0.0171 - mean_squared_error: 0.0171 - val_loss: 0.0130 - val_mean_squared_error: 0.0130\n",
            "Epoch 81/100\n",
            "8/8 [==============================] - 0s 34ms/step - loss: 0.0136 - mean_squared_error: 0.0136 - val_loss: 0.0136 - val_mean_squared_error: 0.0136\n",
            "Epoch 82/100\n",
            "8/8 [==============================] - 0s 36ms/step - loss: 0.0137 - mean_squared_error: 0.0137 - val_loss: 0.0148 - val_mean_squared_error: 0.0148\n",
            "Epoch 83/100\n",
            "8/8 [==============================] - 0s 35ms/step - loss: 0.0139 - mean_squared_error: 0.0139 - val_loss: 0.0140 - val_mean_squared_error: 0.0140\n",
            "Epoch 84/100\n",
            "8/8 [==============================] - 0s 36ms/step - loss: 0.0191 - mean_squared_error: 0.0191 - val_loss: 0.0202 - val_mean_squared_error: 0.0202\n",
            "Epoch 85/100\n",
            "8/8 [==============================] - 0s 35ms/step - loss: 0.0204 - mean_squared_error: 0.0204 - val_loss: 0.0124 - val_mean_squared_error: 0.0124\n",
            "Epoch 86/100\n",
            "8/8 [==============================] - 0s 34ms/step - loss: 0.0164 - mean_squared_error: 0.0164 - val_loss: 0.0123 - val_mean_squared_error: 0.0123\n",
            "Epoch 87/100\n",
            "8/8 [==============================] - 0s 35ms/step - loss: 0.0190 - mean_squared_error: 0.0190 - val_loss: 0.0134 - val_mean_squared_error: 0.0134\n",
            "Epoch 88/100\n",
            "8/8 [==============================] - 0s 37ms/step - loss: 0.0159 - mean_squared_error: 0.0159 - val_loss: 0.0129 - val_mean_squared_error: 0.0129\n",
            "Epoch 89/100\n",
            "8/8 [==============================] - 0s 34ms/step - loss: 0.0153 - mean_squared_error: 0.0153 - val_loss: 0.0141 - val_mean_squared_error: 0.0141\n",
            "Epoch 90/100\n",
            "8/8 [==============================] - 0s 34ms/step - loss: 0.0154 - mean_squared_error: 0.0154 - val_loss: 0.0132 - val_mean_squared_error: 0.0132\n",
            "Epoch 91/100\n",
            "8/8 [==============================] - 0s 36ms/step - loss: 0.0178 - mean_squared_error: 0.0178 - val_loss: 0.0334 - val_mean_squared_error: 0.0334\n",
            "Epoch 92/100\n",
            "8/8 [==============================] - 0s 34ms/step - loss: 0.0280 - mean_squared_error: 0.0280 - val_loss: 0.0224 - val_mean_squared_error: 0.0224\n",
            "Epoch 93/100\n",
            "8/8 [==============================] - 0s 35ms/step - loss: 0.0241 - mean_squared_error: 0.0241 - val_loss: 0.0192 - val_mean_squared_error: 0.0192\n",
            "Epoch 94/100\n",
            "8/8 [==============================] - 0s 35ms/step - loss: 0.0183 - mean_squared_error: 0.0183 - val_loss: 0.0254 - val_mean_squared_error: 0.0254\n",
            "Epoch 95/100\n",
            "8/8 [==============================] - 0s 36ms/step - loss: 0.0180 - mean_squared_error: 0.0180 - val_loss: 0.0131 - val_mean_squared_error: 0.0131\n",
            "Epoch 96/100\n",
            "8/8 [==============================] - 0s 33ms/step - loss: 0.0150 - mean_squared_error: 0.0150 - val_loss: 0.0121 - val_mean_squared_error: 0.0121\n",
            "Epoch 97/100\n",
            "8/8 [==============================] - 0s 35ms/step - loss: 0.0165 - mean_squared_error: 0.0165 - val_loss: 0.0119 - val_mean_squared_error: 0.0119\n",
            "Epoch 98/100\n",
            "8/8 [==============================] - 0s 36ms/step - loss: 0.0176 - mean_squared_error: 0.0176 - val_loss: 0.0122 - val_mean_squared_error: 0.0122\n",
            "Epoch 99/100\n",
            "8/8 [==============================] - 0s 33ms/step - loss: 0.0151 - mean_squared_error: 0.0151 - val_loss: 0.0132 - val_mean_squared_error: 0.0132\n",
            "Epoch 100/100\n",
            "8/8 [==============================] - 0s 33ms/step - loss: 0.0172 - mean_squared_error: 0.0172 - val_loss: 0.0182 - val_mean_squared_error: 0.0182\n"
          ],
          "name": "stdout"
        }
      ]
    },
    {
      "cell_type": "code",
      "metadata": {
        "id": "bVU1kBHR6U3n"
      },
      "source": [
        "y_pr=model.predict(X_)"
      ],
      "id": "bVU1kBHR6U3n",
      "execution_count": 208,
      "outputs": []
    },
    {
      "cell_type": "code",
      "metadata": {
        "colab": {
          "base_uri": "https://localhost:8080/"
        },
        "id": "BPBblZyR6eIp",
        "outputId": "1bfed6c6-b501-4d59-d1fc-61b375d9eb9c"
      },
      "source": [
        "scaler.inverse_transform(y_pr)"
      ],
      "id": "BPBblZyR6eIp",
      "execution_count": 209,
      "outputs": [
        {
          "output_type": "execute_result",
          "data": {
            "text/plain": [
              "array([[121818.44  ],\n",
              "       [115334.78  ],\n",
              "       [105046.516 ],\n",
              "       [121537.7   ],\n",
              "       [124408.805 ],\n",
              "       [ 75275.95  ],\n",
              "       [  6509.358 ],\n",
              "       [ 76112.516 ],\n",
              "       [ 98989.38  ],\n",
              "       [ 66100.83  ],\n",
              "       [117451.516 ],\n",
              "       [123075.67  ],\n",
              "       [116614.03  ],\n",
              "       [116212.23  ],\n",
              "       [ 74232.914 ],\n",
              "       [129125.3   ],\n",
              "       [121104.22  ],\n",
              "       [ 90498.36  ],\n",
              "       [109572.16  ],\n",
              "       [ 71492.95  ],\n",
              "       [ 20992.549 ],\n",
              "       [102960.32  ],\n",
              "       [103831.85  ],\n",
              "       [ 87734.06  ],\n",
              "       [ 76579.17  ],\n",
              "       [ 61933.5   ],\n",
              "       [  7510.7603],\n",
              "       [ 79135.98  ],\n",
              "       [105523.164 ],\n",
              "       [108583.22  ],\n",
              "       [ 79085.15  ],\n",
              "       [102494.766 ],\n",
              "       [104764.805 ],\n",
              "       [ 32950.508 ],\n",
              "       [ 14745.116 ],\n",
              "       [147095.78  ],\n",
              "       [137016.    ],\n",
              "       [113845.53  ],\n",
              "       [ 38458.336 ],\n",
              "       [ 18986.922 ],\n",
              "       [101836.375 ],\n",
              "       [111238.38  ],\n",
              "       [ 97880.15  ],\n",
              "       [107651.72  ]], dtype=float32)"
            ]
          },
          "metadata": {
            "tags": []
          },
          "execution_count": 209
        }
      ]
    },
    {
      "cell_type": "code",
      "metadata": {
        "colab": {
          "base_uri": "https://localhost:8080/"
        },
        "id": "vzsbP0FX6fPj",
        "outputId": "56ceff66-f2e6-4573-8752-63ca2783ef0d"
      },
      "source": [
        "y_"
      ],
      "id": "vzsbP0FX6fPj",
      "execution_count": 210,
      "outputs": [
        {
          "output_type": "execute_result",
          "data": {
            "text/plain": [
              "array([[1.1453421e+05],\n",
              "       [1.2741210e+05],\n",
              "       [7.3107940e+04],\n",
              "       [1.0033570e+05],\n",
              "       [8.2920440e+04],\n",
              "       [3.6992000e+04],\n",
              "       [3.2600000e+02],\n",
              "       [8.6287170e+04],\n",
              "       [7.9380380e+04],\n",
              "       [1.0450901e+05],\n",
              "       [9.6828960e+04],\n",
              "       [1.0832711e+05],\n",
              "       [9.9625260e+04],\n",
              "       [7.6878350e+04],\n",
              "       [6.9089170e+04],\n",
              "       [1.2821029e+05],\n",
              "       [1.7741042e+05],\n",
              "       [6.8424710e+04],\n",
              "       [1.3040640e+05],\n",
              "       [4.1651850e+04],\n",
              "       [1.0295000e+02],\n",
              "       [1.2132892e+05],\n",
              "       [9.4156550e+04],\n",
              "       [9.3428490e+04],\n",
              "       [7.3106960e+04],\n",
              "       [6.2484030e+04],\n",
              "       [5.0088000e+04],\n",
              "       [4.5289920e+04],\n",
              "       [9.5437440e+04],\n",
              "       [1.0067486e+05],\n",
              "       [5.5735080e+04],\n",
              "       [8.6421800e+04],\n",
              "       [8.6421800e+04],\n",
              "       [4.1343950e+04],\n",
              "       [1.5788000e+04],\n",
              "       [1.2898555e+05],\n",
              "       [9.3402160e+04],\n",
              "       [1.7674702e+05],\n",
              "       [3.2502400e+04],\n",
              "       [5.5111850e+04],\n",
              "       [1.3304285e+05],\n",
              "       [8.8538890e+04],\n",
              "       [6.6133390e+04],\n",
              "       [6.7090810e+04]])"
            ]
          },
          "metadata": {
            "tags": []
          },
          "execution_count": 210
        }
      ]
    },
    {
      "cell_type": "code",
      "metadata": {
        "id": "8Xnuqz1a6lWB"
      },
      "source": [
        "model.save('forecast_nueral_fs.h5')"
      ],
      "id": "8Xnuqz1a6lWB",
      "execution_count": 211,
      "outputs": []
    },
    {
      "cell_type": "code",
      "metadata": {
        "id": "-qHqKktjlWWM"
      },
      "source": [
        "loading_3=load_model('forecast_nueral_fs.h5')"
      ],
      "id": "-qHqKktjlWWM",
      "execution_count": 212,
      "outputs": []
    },
    {
      "cell_type": "code",
      "metadata": {
        "id": "9of6eP8IlWRL"
      },
      "source": [
        ""
      ],
      "id": "9of6eP8IlWRL",
      "execution_count": 191,
      "outputs": []
    },
    {
      "cell_type": "code",
      "metadata": {
        "id": "peI15ctEtv9A"
      },
      "source": [
        ""
      ],
      "id": "peI15ctEtv9A",
      "execution_count": 192,
      "outputs": []
    },
    {
      "cell_type": "code",
      "metadata": {
        "id": "_aowqm-WtOTG"
      },
      "source": [
        ""
      ],
      "id": "_aowqm-WtOTG",
      "execution_count": null,
      "outputs": []
    },
    {
      "cell_type": "code",
      "metadata": {
        "id": "pcIMfKIJtXNC"
      },
      "source": [
        ""
      ],
      "id": "pcIMfKIJtXNC",
      "execution_count": null,
      "outputs": []
    }
  ]
}