{
 "cells": [
  {
   "cell_type": "code",
   "execution_count": 1,
   "metadata": {
    "id": "xRkHi5cDXMaM"
   },
   "outputs": [],
   "source": [
    "import pandas as pd\n",
    "import numpy as np\n",
    "import matplotlib.pyplot as plt\n",
    "import seaborn as sns"
   ]
  },
  {
   "cell_type": "code",
   "execution_count": 2,
   "metadata": {
    "colab": {
     "base_uri": "https://localhost:8080/"
    },
    "id": "XQv7vFZ7fZon",
    "outputId": "915dc200-beb7-4a46-9204-6c64e04ee11b"
   },
   "outputs": [
    {
     "name": "stdout",
     "output_type": "stream",
     "text": [
      "Requirement already satisfied: evalml in /usr/local/lib/python3.7/dist-packages (0.23.0)\n",
      "Requirement already satisfied: nlp-primitives>=1.1.0 in /usr/local/lib/python3.7/dist-packages (from evalml) (1.1.0)\n",
      "Requirement already satisfied: lightgbm<3.1.0,>=2.3.1 in /usr/local/lib/python3.7/dist-packages (from evalml) (3.0.0)\n",
      "Requirement already satisfied: sktime>=0.5.3; python_version < \"3.9\" in /usr/local/lib/python3.7/dist-packages (from evalml) (0.6.0)\n",
      "Requirement already satisfied: category-encoders>=2.0.0 in /usr/local/lib/python3.7/dist-packages (from evalml) (2.2.2)\n",
      "Requirement already satisfied: pandas>=1.1.0 in /usr/local/lib/python3.7/dist-packages (from evalml) (1.1.5)\n",
      "Requirement already satisfied: shap>=0.35.0 in /usr/local/lib/python3.7/dist-packages (from evalml) (0.39.0)\n",
      "Requirement already satisfied: numpy>=1.19.1 in /usr/local/lib/python3.7/dist-packages (from evalml) (1.19.5)\n",
      "Requirement already satisfied: scipy>=1.2.1 in /usr/local/lib/python3.7/dist-packages (from evalml) (1.4.1)\n",
      "Requirement already satisfied: networkx>=2.5 in /usr/local/lib/python3.7/dist-packages (from evalml) (2.5.1)\n",
      "Requirement already satisfied: imbalanced-learn>=0.7.0 in /usr/local/lib/python3.7/dist-packages (from evalml) (0.8.0)\n",
      "Requirement already satisfied: pyzmq<22.0.0 in /usr/local/lib/python3.7/dist-packages (from evalml) (21.0.2)\n",
      "Requirement already satisfied: matplotlib>=3.3.3 in /usr/local/lib/python3.7/dist-packages (from evalml) (3.4.1)\n",
      "Requirement already satisfied: ipywidgets>=7.5 in /usr/local/lib/python3.7/dist-packages (from evalml) (7.6.3)\n",
      "Requirement already satisfied: dask>=2.12.0 in /usr/local/lib/python3.7/dist-packages (from evalml) (2.12.0)\n",
      "Requirement already satisfied: featuretools>=0.20.0 in /usr/local/lib/python3.7/dist-packages (from evalml) (0.24.0)\n",
      "Requirement already satisfied: seaborn>=0.11.1 in /usr/local/lib/python3.7/dist-packages (from evalml) (0.11.1)\n",
      "Requirement already satisfied: plotly>=4.14.0 in /usr/local/lib/python3.7/dist-packages (from evalml) (4.14.3)\n",
      "Requirement already satisfied: colorama in /usr/local/lib/python3.7/dist-packages (from evalml) (0.4.4)\n",
      "Requirement already satisfied: click>=7.0.0 in /usr/local/lib/python3.7/dist-packages (from evalml) (7.1.2)\n",
      "Requirement already satisfied: cloudpickle>=0.2.2 in /usr/local/lib/python3.7/dist-packages (from evalml) (1.3.0)\n",
      "Requirement already satisfied: woodwork==0.0.11 in /usr/local/lib/python3.7/dist-packages (from evalml) (0.0.11)\n",
      "Requirement already satisfied: graphviz>=0.13 in /usr/local/lib/python3.7/dist-packages (from evalml) (0.16)\n",
      "Requirement already satisfied: kaleido>=0.1.0 in /usr/local/lib/python3.7/dist-packages (from evalml) (0.2.1)\n",
      "Requirement already satisfied: xgboost<1.3.0,>=0.82 in /usr/local/lib/python3.7/dist-packages (from evalml) (0.90)\n",
      "Requirement already satisfied: psutil>=5.6.3 in /usr/local/lib/python3.7/dist-packages (from evalml) (5.8.0)\n",
      "Requirement already satisfied: requirements-parser>=0.2.0 in /usr/local/lib/python3.7/dist-packages (from evalml) (0.2.0)\n",
      "Requirement already satisfied: catboost>=0.20 in /usr/local/lib/python3.7/dist-packages (from evalml) (0.25.1)\n",
      "Requirement already satisfied: statsmodels>=0.12.2 in /usr/local/lib/python3.7/dist-packages (from evalml) (0.12.2)\n",
      "Requirement already satisfied: texttable>=1.6.2 in /usr/local/lib/python3.7/dist-packages (from evalml) (1.6.3)\n",
      "Requirement already satisfied: scikit-learn>=0.23.1 in /usr/local/lib/python3.7/dist-packages (from evalml) (0.24.2)\n",
      "Requirement already satisfied: scikit-optimize>=0.8.1 in /usr/local/lib/python3.7/dist-packages (from evalml) (0.8.1)\n",
      "Requirement already satisfied: nltk>=3.4.5 in /usr/local/lib/python3.7/dist-packages (from nlp-primitives>=1.1.0->evalml) (3.6.2)\n",
      "Requirement already satisfied: numba>=0.50 in /usr/local/lib/python3.7/dist-packages (from sktime>=0.5.3; python_version < \"3.9\"->evalml) (0.51.2)\n",
      "Requirement already satisfied: wheel in /usr/local/lib/python3.7/dist-packages (from sktime>=0.5.3; python_version < \"3.9\"->evalml) (0.36.2)\n",
      "Requirement already satisfied: patsy>=0.5.1 in /usr/local/lib/python3.7/dist-packages (from category-encoders>=2.0.0->evalml) (0.5.1)\n",
      "Requirement already satisfied: python-dateutil>=2.7.3 in /usr/local/lib/python3.7/dist-packages (from pandas>=1.1.0->evalml) (2.8.1)\n",
      "Requirement already satisfied: pytz>=2017.2 in /usr/local/lib/python3.7/dist-packages (from pandas>=1.1.0->evalml) (2018.9)\n",
      "Requirement already satisfied: tqdm>4.25.0 in /usr/local/lib/python3.7/dist-packages (from shap>=0.35.0->evalml) (4.41.1)\n",
      "Requirement already satisfied: slicer==0.0.7 in /usr/local/lib/python3.7/dist-packages (from shap>=0.35.0->evalml) (0.0.7)\n",
      "Requirement already satisfied: decorator<5,>=4.3 in /usr/local/lib/python3.7/dist-packages (from networkx>=2.5->evalml) (4.4.2)\n",
      "Requirement already satisfied: joblib>=0.11 in /usr/local/lib/python3.7/dist-packages (from imbalanced-learn>=0.7.0->evalml) (1.0.1)\n",
      "Requirement already satisfied: pillow>=6.2.0 in /usr/local/lib/python3.7/dist-packages (from matplotlib>=3.3.3->evalml) (7.1.2)\n",
      "Requirement already satisfied: kiwisolver>=1.0.1 in /usr/local/lib/python3.7/dist-packages (from matplotlib>=3.3.3->evalml) (1.3.1)\n",
      "Requirement already satisfied: pyparsing>=2.2.1 in /usr/local/lib/python3.7/dist-packages (from matplotlib>=3.3.3->evalml) (2.4.7)\n",
      "Requirement already satisfied: cycler>=0.10 in /usr/local/lib/python3.7/dist-packages (from matplotlib>=3.3.3->evalml) (0.10.0)\n",
      "Requirement already satisfied: ipython>=4.0.0; python_version >= \"3.3\" in /usr/local/lib/python3.7/dist-packages (from ipywidgets>=7.5->evalml) (5.5.0)\n",
      "Requirement already satisfied: jupyterlab-widgets>=1.0.0; python_version >= \"3.6\" in /usr/local/lib/python3.7/dist-packages (from ipywidgets>=7.5->evalml) (1.0.0)\n",
      "Requirement already satisfied: traitlets>=4.3.1 in /usr/local/lib/python3.7/dist-packages (from ipywidgets>=7.5->evalml) (5.0.5)\n",
      "Requirement already satisfied: nbformat>=4.2.0 in /usr/local/lib/python3.7/dist-packages (from ipywidgets>=7.5->evalml) (5.1.3)\n",
      "Requirement already satisfied: ipykernel>=4.5.1 in /usr/local/lib/python3.7/dist-packages (from ipywidgets>=7.5->evalml) (4.10.1)\n",
      "Requirement already satisfied: widgetsnbextension~=3.5.0 in /usr/local/lib/python3.7/dist-packages (from ipywidgets>=7.5->evalml) (3.5.1)\n",
      "Requirement already satisfied: pyyaml>=3.12 in /usr/local/lib/python3.7/dist-packages (from featuretools>=0.20.0->evalml) (3.13)\n",
      "Requirement already satisfied: distributed>=2.12.0 in /usr/local/lib/python3.7/dist-packages (from featuretools>=0.20.0->evalml) (2021.4.1)\n",
      "Requirement already satisfied: six in /usr/local/lib/python3.7/dist-packages (from plotly>=4.14.0->evalml) (1.15.0)\n",
      "Requirement already satisfied: retrying>=1.3.3 in /usr/local/lib/python3.7/dist-packages (from plotly>=4.14.0->evalml) (1.3.3)\n",
      "Requirement already satisfied: threadpoolctl>=2.0.0 in /usr/local/lib/python3.7/dist-packages (from scikit-learn>=0.23.1->evalml) (2.1.0)\n",
      "Requirement already satisfied: pyaml>=16.9 in /usr/local/lib/python3.7/dist-packages (from scikit-optimize>=0.8.1->evalml) (20.4.0)\n",
      "Requirement already satisfied: regex in /usr/local/lib/python3.7/dist-packages (from nltk>=3.4.5->nlp-primitives>=1.1.0->evalml) (2019.12.20)\n",
      "Requirement already satisfied: setuptools in /usr/local/lib/python3.7/dist-packages (from numba>=0.50->sktime>=0.5.3; python_version < \"3.9\"->evalml) (56.0.0)\n",
      "Requirement already satisfied: llvmlite<0.35,>=0.34.0.dev0 in /usr/local/lib/python3.7/dist-packages (from numba>=0.50->sktime>=0.5.3; python_version < \"3.9\"->evalml) (0.34.0)\n",
      "Requirement already satisfied: pygments in /usr/local/lib/python3.7/dist-packages (from ipython>=4.0.0; python_version >= \"3.3\"->ipywidgets>=7.5->evalml) (2.6.1)\n",
      "Requirement already satisfied: pexpect; sys_platform != \"win32\" in /usr/local/lib/python3.7/dist-packages (from ipython>=4.0.0; python_version >= \"3.3\"->ipywidgets>=7.5->evalml) (4.8.0)\n",
      "Requirement already satisfied: pickleshare in /usr/local/lib/python3.7/dist-packages (from ipython>=4.0.0; python_version >= \"3.3\"->ipywidgets>=7.5->evalml) (0.7.5)\n",
      "Requirement already satisfied: prompt-toolkit<2.0.0,>=1.0.4 in /usr/local/lib/python3.7/dist-packages (from ipython>=4.0.0; python_version >= \"3.3\"->ipywidgets>=7.5->evalml) (1.0.18)\n",
      "Requirement already satisfied: simplegeneric>0.8 in /usr/local/lib/python3.7/dist-packages (from ipython>=4.0.0; python_version >= \"3.3\"->ipywidgets>=7.5->evalml) (0.8.1)\n",
      "Requirement already satisfied: ipython-genutils in /usr/local/lib/python3.7/dist-packages (from traitlets>=4.3.1->ipywidgets>=7.5->evalml) (0.2.0)\n",
      "Requirement already satisfied: jupyter-core in /usr/local/lib/python3.7/dist-packages (from nbformat>=4.2.0->ipywidgets>=7.5->evalml) (4.7.1)\n",
      "Requirement already satisfied: jsonschema!=2.5.0,>=2.4 in /usr/local/lib/python3.7/dist-packages (from nbformat>=4.2.0->ipywidgets>=7.5->evalml) (2.6.0)\n",
      "Requirement already satisfied: tornado>=4.0 in /usr/local/lib/python3.7/dist-packages (from ipykernel>=4.5.1->ipywidgets>=7.5->evalml) (5.1.1)\n",
      "Requirement already satisfied: jupyter-client in /usr/local/lib/python3.7/dist-packages (from ipykernel>=4.5.1->ipywidgets>=7.5->evalml) (5.3.5)\n",
      "Requirement already satisfied: notebook>=4.4.1 in /usr/local/lib/python3.7/dist-packages (from widgetsnbextension~=3.5.0->ipywidgets>=7.5->evalml) (5.3.1)\n",
      "Requirement already satisfied: msgpack>=0.6.0 in /usr/local/lib/python3.7/dist-packages (from distributed>=2.12.0->featuretools>=0.20.0->evalml) (1.0.2)\n",
      "Requirement already satisfied: tblib>=1.6.0 in /usr/local/lib/python3.7/dist-packages (from distributed>=2.12.0->featuretools>=0.20.0->evalml) (1.7.0)\n",
      "Requirement already satisfied: toolz>=0.8.2 in /usr/local/lib/python3.7/dist-packages (from distributed>=2.12.0->featuretools>=0.20.0->evalml) (0.11.1)\n",
      "Requirement already satisfied: zict>=0.1.3 in /usr/local/lib/python3.7/dist-packages (from distributed>=2.12.0->featuretools>=0.20.0->evalml) (2.0.0)\n",
      "Requirement already satisfied: sortedcontainers!=2.0.0,!=2.0.1 in /usr/local/lib/python3.7/dist-packages (from distributed>=2.12.0->featuretools>=0.20.0->evalml) (2.3.0)\n",
      "Requirement already satisfied: ptyprocess>=0.5 in /usr/local/lib/python3.7/dist-packages (from pexpect; sys_platform != \"win32\"->ipython>=4.0.0; python_version >= \"3.3\"->ipywidgets>=7.5->evalml) (0.7.0)\n",
      "Requirement already satisfied: wcwidth in /usr/local/lib/python3.7/dist-packages (from prompt-toolkit<2.0.0,>=1.0.4->ipython>=4.0.0; python_version >= \"3.3\"->ipywidgets>=7.5->evalml) (0.2.5)\n",
      "Requirement already satisfied: Send2Trash in /usr/local/lib/python3.7/dist-packages (from notebook>=4.4.1->widgetsnbextension~=3.5.0->ipywidgets>=7.5->evalml) (1.5.0)\n",
      "Requirement already satisfied: jinja2 in /usr/local/lib/python3.7/dist-packages (from notebook>=4.4.1->widgetsnbextension~=3.5.0->ipywidgets>=7.5->evalml) (2.11.3)\n",
      "Requirement already satisfied: terminado>=0.8.1 in /usr/local/lib/python3.7/dist-packages (from notebook>=4.4.1->widgetsnbextension~=3.5.0->ipywidgets>=7.5->evalml) (0.9.4)\n",
      "Requirement already satisfied: nbconvert in /usr/local/lib/python3.7/dist-packages (from notebook>=4.4.1->widgetsnbextension~=3.5.0->ipywidgets>=7.5->evalml) (5.6.1)\n",
      "Requirement already satisfied: heapdict in /usr/local/lib/python3.7/dist-packages (from zict>=0.1.3->distributed>=2.12.0->featuretools>=0.20.0->evalml) (1.0.1)\n",
      "Requirement already satisfied: MarkupSafe>=0.23 in /usr/local/lib/python3.7/dist-packages (from jinja2->notebook>=4.4.1->widgetsnbextension~=3.5.0->ipywidgets>=7.5->evalml) (1.1.1)\n",
      "Requirement already satisfied: pandocfilters>=1.4.1 in /usr/local/lib/python3.7/dist-packages (from nbconvert->notebook>=4.4.1->widgetsnbextension~=3.5.0->ipywidgets>=7.5->evalml) (1.4.3)\n",
      "Requirement already satisfied: mistune<2,>=0.8.1 in /usr/local/lib/python3.7/dist-packages (from nbconvert->notebook>=4.4.1->widgetsnbextension~=3.5.0->ipywidgets>=7.5->evalml) (0.8.4)\n",
      "Requirement already satisfied: testpath in /usr/local/lib/python3.7/dist-packages (from nbconvert->notebook>=4.4.1->widgetsnbextension~=3.5.0->ipywidgets>=7.5->evalml) (0.4.4)\n",
      "Requirement already satisfied: entrypoints>=0.2.2 in /usr/local/lib/python3.7/dist-packages (from nbconvert->notebook>=4.4.1->widgetsnbextension~=3.5.0->ipywidgets>=7.5->evalml) (0.3)\n",
      "Requirement already satisfied: defusedxml in /usr/local/lib/python3.7/dist-packages (from nbconvert->notebook>=4.4.1->widgetsnbextension~=3.5.0->ipywidgets>=7.5->evalml) (0.7.1)\n",
      "Requirement already satisfied: bleach in /usr/local/lib/python3.7/dist-packages (from nbconvert->notebook>=4.4.1->widgetsnbextension~=3.5.0->ipywidgets>=7.5->evalml) (3.3.0)\n",
      "Requirement already satisfied: webencodings in /usr/local/lib/python3.7/dist-packages (from bleach->nbconvert->notebook>=4.4.1->widgetsnbextension~=3.5.0->ipywidgets>=7.5->evalml) (0.5.1)\n",
      "Requirement already satisfied: packaging in /usr/local/lib/python3.7/dist-packages (from bleach->nbconvert->notebook>=4.4.1->widgetsnbextension~=3.5.0->ipywidgets>=7.5->evalml) (20.9)\n"
     ]
    }
   ],
   "source": [
    "!pip install evalml\n"
   ]
  },
  {
   "cell_type": "code",
   "execution_count": 3,
   "metadata": {
    "id": "4fD5ObnrZvw8"
   },
   "outputs": [],
   "source": [
    "df=pd.read_excel('final_feat.xlsx')"
   ]
  },
  {
   "cell_type": "code",
   "execution_count": 28,
   "metadata": {
    "id": "lLgaIitRZ2FA"
   },
   "outputs": [],
   "source": [
    "df1=df[['Completed Jobs','TMAX','Avg Sales','tech_count','Income_y']]"
   ]
  },
  {
   "cell_type": "code",
   "execution_count": 29,
   "metadata": {
    "id": "7bbud0wzbSIm"
   },
   "outputs": [],
   "source": [
    "df1=df1.drop_duplicates(ignore_index=True)"
   ]
  },
  {
   "cell_type": "code",
   "execution_count": 30,
   "metadata": {
    "id": "Z95Yxne9jj5I"
   },
   "outputs": [],
   "source": [
    "train=df1[0:300]\n",
    "test=df1[300:]"
   ]
  },
  {
   "cell_type": "code",
   "execution_count": 31,
   "metadata": {
    "id": "mNPGI0F6jn9n"
   },
   "outputs": [],
   "source": [
    "y=train['Income_y']\n",
    "X=train.drop(['Income_y'],axis=1)"
   ]
  },
  {
   "cell_type": "code",
   "execution_count": 32,
   "metadata": {
    "colab": {
     "base_uri": "https://localhost:8080/"
    },
    "id": "C4ZGPcrckIsC",
    "outputId": "3bcd2106-8177-471f-cf36-4e10601a83d9"
   },
   "outputs": [
    {
     "name": "stdout",
     "output_type": "stream",
     "text": [
      "Requirement already satisfied: fsspec in /usr/local/lib/python3.7/dist-packages (2021.4.0)\n"
     ]
    }
   ],
   "source": [
    "!pip install fsspec"
   ]
  },
  {
   "cell_type": "code",
   "execution_count": 16,
   "metadata": {
    "colab": {
     "base_uri": "https://localhost:8080/"
    },
    "id": "sql3rxhfk1ou",
    "outputId": "142d94da-5a56-4976-ea38-57ae74db8c59"
   },
   "outputs": [
    {
     "name": "stdout",
     "output_type": "stream",
     "text": [
      "Requirement already up-to-date: dask in /usr/local/lib/python3.7/dist-packages (2021.4.1)\n",
      "Requirement already up-to-date: distributed in /usr/local/lib/python3.7/dist-packages (2021.4.1)\n",
      "Requirement already satisfied, skipping upgrade: pyyaml in /usr/local/lib/python3.7/dist-packages (from dask) (3.13)\n",
      "Requirement already satisfied, skipping upgrade: toolz>=0.8.2 in /usr/local/lib/python3.7/dist-packages (from dask) (0.11.1)\n",
      "Requirement already satisfied, skipping upgrade: partd>=0.3.10 in /usr/local/lib/python3.7/dist-packages (from dask) (1.2.0)\n",
      "Requirement already satisfied, skipping upgrade: fsspec>=0.6.0 in /usr/local/lib/python3.7/dist-packages (from dask) (2021.4.0)\n",
      "Requirement already satisfied, skipping upgrade: cloudpickle>=1.1.1 in /usr/local/lib/python3.7/dist-packages (from dask) (1.3.0)\n",
      "Requirement already satisfied, skipping upgrade: sortedcontainers!=2.0.0,!=2.0.1 in /usr/local/lib/python3.7/dist-packages (from distributed) (2.3.0)\n",
      "Requirement already satisfied, skipping upgrade: zict>=0.1.3 in /usr/local/lib/python3.7/dist-packages (from distributed) (2.0.0)\n",
      "Requirement already satisfied, skipping upgrade: click>=6.6 in /usr/local/lib/python3.7/dist-packages (from distributed) (7.1.2)\n",
      "Requirement already satisfied, skipping upgrade: tblib>=1.6.0 in /usr/local/lib/python3.7/dist-packages (from distributed) (1.7.0)\n",
      "Requirement already satisfied, skipping upgrade: psutil>=5.0 in /usr/local/lib/python3.7/dist-packages (from distributed) (5.8.0)\n",
      "Requirement already satisfied, skipping upgrade: setuptools in /usr/local/lib/python3.7/dist-packages (from distributed) (56.0.0)\n",
      "Requirement already satisfied, skipping upgrade: tornado>=5; python_version < \"3.8\" in /usr/local/lib/python3.7/dist-packages (from distributed) (5.1.1)\n",
      "Requirement already satisfied, skipping upgrade: msgpack>=0.6.0 in /usr/local/lib/python3.7/dist-packages (from distributed) (1.0.2)\n",
      "Requirement already satisfied, skipping upgrade: locket in /usr/local/lib/python3.7/dist-packages (from partd>=0.3.10->dask) (0.2.1)\n",
      "Requirement already satisfied, skipping upgrade: heapdict in /usr/local/lib/python3.7/dist-packages (from zict>=0.1.3->distributed) (1.0.1)\n"
     ]
    }
   ],
   "source": [
    "!pip install dask distributed --upgrade"
   ]
  },
  {
   "cell_type": "code",
   "execution_count": 17,
   "metadata": {
    "id": "xgSpuvOmiSSN"
   },
   "outputs": [],
   "source": [
    "import evalml\n"
   ]
  },
  {
   "cell_type": "code",
   "execution_count": 33,
   "metadata": {
    "colab": {
     "base_uri": "https://localhost:8080/",
     "height": 407
    },
    "id": "Cj0NXO2jacFZ",
    "outputId": "9b81f679-ac3b-4cbc-c7f5-33dc40e33181"
   },
   "outputs": [
    {
     "data": {
      "text/html": [
       "<div>\n",
       "<style scoped>\n",
       "    .dataframe tbody tr th:only-of-type {\n",
       "        vertical-align: middle;\n",
       "    }\n",
       "\n",
       "    .dataframe tbody tr th {\n",
       "        vertical-align: top;\n",
       "    }\n",
       "\n",
       "    .dataframe thead th {\n",
       "        text-align: right;\n",
       "    }\n",
       "</style>\n",
       "<table border=\"1\" class=\"dataframe\">\n",
       "  <thead>\n",
       "    <tr style=\"text-align: right;\">\n",
       "      <th></th>\n",
       "      <th>Completed Jobs</th>\n",
       "      <th>TMAX</th>\n",
       "      <th>Avg Sales</th>\n",
       "      <th>tech_count</th>\n",
       "    </tr>\n",
       "  </thead>\n",
       "  <tbody>\n",
       "    <tr>\n",
       "      <th>0</th>\n",
       "      <td>57</td>\n",
       "      <td>65</td>\n",
       "      <td>3617.444828</td>\n",
       "      <td>59</td>\n",
       "    </tr>\n",
       "    <tr>\n",
       "      <th>1</th>\n",
       "      <td>77</td>\n",
       "      <td>71</td>\n",
       "      <td>1781.345385</td>\n",
       "      <td>40</td>\n",
       "    </tr>\n",
       "    <tr>\n",
       "      <th>2</th>\n",
       "      <td>55</td>\n",
       "      <td>69</td>\n",
       "      <td>459.248750</td>\n",
       "      <td>21</td>\n",
       "    </tr>\n",
       "    <tr>\n",
       "      <th>3</th>\n",
       "      <td>6</td>\n",
       "      <td>69</td>\n",
       "      <td>846.000000</td>\n",
       "      <td>9</td>\n",
       "    </tr>\n",
       "    <tr>\n",
       "      <th>4</th>\n",
       "      <td>73</td>\n",
       "      <td>77</td>\n",
       "      <td>1820.060789</td>\n",
       "      <td>60</td>\n",
       "    </tr>\n",
       "    <tr>\n",
       "      <th>...</th>\n",
       "      <td>...</td>\n",
       "      <td>...</td>\n",
       "      <td>...</td>\n",
       "      <td>...</td>\n",
       "    </tr>\n",
       "    <tr>\n",
       "      <th>295</th>\n",
       "      <td>107</td>\n",
       "      <td>76</td>\n",
       "      <td>1307.190408</td>\n",
       "      <td>44</td>\n",
       "    </tr>\n",
       "    <tr>\n",
       "      <th>296</th>\n",
       "      <td>115</td>\n",
       "      <td>65</td>\n",
       "      <td>1786.639271</td>\n",
       "      <td>64</td>\n",
       "    </tr>\n",
       "    <tr>\n",
       "      <th>297</th>\n",
       "      <td>123</td>\n",
       "      <td>59</td>\n",
       "      <td>1158.282857</td>\n",
       "      <td>42</td>\n",
       "    </tr>\n",
       "    <tr>\n",
       "      <th>298</th>\n",
       "      <td>50</td>\n",
       "      <td>56</td>\n",
       "      <td>1426.390000</td>\n",
       "      <td>17</td>\n",
       "    </tr>\n",
       "    <tr>\n",
       "      <th>299</th>\n",
       "      <td>6</td>\n",
       "      <td>68</td>\n",
       "      <td>1872.500000</td>\n",
       "      <td>12</td>\n",
       "    </tr>\n",
       "  </tbody>\n",
       "</table>\n",
       "<p>300 rows × 4 columns</p>\n",
       "</div>"
      ],
      "text/plain": [
       "     Completed Jobs  TMAX    Avg Sales  tech_count\n",
       "0                57    65  3617.444828          59\n",
       "1                77    71  1781.345385          40\n",
       "2                55    69   459.248750          21\n",
       "3                 6    69   846.000000           9\n",
       "4                73    77  1820.060789          60\n",
       "..              ...   ...          ...         ...\n",
       "295             107    76  1307.190408          44\n",
       "296             115    65  1786.639271          64\n",
       "297             123    59  1158.282857          42\n",
       "298              50    56  1426.390000          17\n",
       "299               6    68  1872.500000          12\n",
       "\n",
       "[300 rows x 4 columns]"
      ]
     },
     "execution_count": 33,
     "metadata": {
      "tags": []
     },
     "output_type": "execute_result"
    }
   ],
   "source": [
    "X"
   ]
  },
  {
   "cell_type": "code",
   "execution_count": 34,
   "metadata": {
    "id": "dt6ZDL4LmEto"
   },
   "outputs": [],
   "source": [
    "X_train, X_test, y_train, y_test = evalml.preprocessing.split_data(X, y, problem_type='regression')\n"
   ]
  },
  {
   "cell_type": "code",
   "execution_count": 35,
   "metadata": {
    "colab": {
     "base_uri": "https://localhost:8080/",
     "height": 1000,
     "referenced_widgets": [
      "c492af9219404eb9b25957fc4bcb165d"
     ]
    },
    "id": "zoLAY7F_mP8i",
    "outputId": "c351ba1b-46c0-446c-8aad-1bc9df973706"
   },
   "outputs": [
    {
     "name": "stdout",
     "output_type": "stream",
     "text": [
      "Using default limit of max_batches=1.\n",
      "\n",
      "Generating pipelines to search over...\n",
      "\n",
      "*****************************\n",
      "* Beginning pipeline search *\n",
      "*****************************\n",
      "\n",
      "Optimizing for R2. \n",
      "Greater score is better.\n",
      "\n",
      "Using SequentialEngine to train and score pipelines.\n",
      "Searching up to 1 batches for a total of 9 pipelines. \n",
      "Allowed model families: random_forest, catboost, lightgbm, xgboost, extra_trees, decision_tree, linear_model\n",
      "\n"
     ]
    },
    {
     "data": {
      "application/vnd.jupyter.widget-view+json": {
       "model_id": "c492af9219404eb9b25957fc4bcb165d",
       "version_major": 2,
       "version_minor": 0
      },
      "text/plain": [
       "FigureWidget({\n",
       "    'data': [{'mode': 'lines+markers',\n",
       "              'name': 'Best Score',\n",
       "              'type'…"
      ]
     },
     "metadata": {
      "tags": []
     },
     "output_type": "display_data"
    },
    {
     "name": "stdout",
     "output_type": "stream",
     "text": [
      "Evaluating Baseline Pipeline: Mean Baseline Regression Pipeline\n",
      "Mean Baseline Regression Pipeline:\n",
      "\tStarting cross validation\n",
      "\tFinished cross validation - mean R2: -0.017\n",
      "\tHigh coefficient of variation (cv >= 0.2) within cross validation scores.\n",
      "\tMean Baseline Regression Pipeline may not perform as estimated on unseen data.\n",
      "\n",
      "*****************************\n",
      "* Evaluating Batch Number 1 *\n",
      "*****************************\n",
      "\n",
      "Decision Tree Regressor w/ Imputer:\n",
      "\tStarting cross validation\n",
      "\tFinished cross validation - mean R2: 0.441\n",
      "[19:11:13] WARNING: /workspace/src/objective/regression_obj.cu:152: reg:linear is now deprecated in favor of reg:squarederror.\n",
      "[19:11:13] WARNING: /workspace/src/objective/regression_obj.cu:152: reg:linear is now deprecated in favor of reg:squarederror.\n",
      "[19:11:13] WARNING: /workspace/src/objective/regression_obj.cu:152: reg:linear is now deprecated in favor of reg:squarederror.\n",
      "XGBoost Regressor w/ Imputer:\n",
      "\tStarting cross validation\n",
      "\tFinished cross validation - mean R2: 0.567\n",
      "Random Forest Regressor w/ Imputer:\n",
      "\tStarting cross validation\n",
      "\tFinished cross validation - mean R2: 0.637\n",
      "Linear Regressor w/ Imputer + Standard Scaler:\n",
      "\tStarting cross validation\n",
      "\tFinished cross validation - mean R2: 0.664\n",
      "Extra Trees Regressor w/ Imputer:\n",
      "\tStarting cross validation\n",
      "\tFinished cross validation - mean R2: 0.658\n",
      "LightGBM Regressor w/ Imputer:\n",
      "\tStarting cross validation\n",
      "\tFinished cross validation - mean R2: 0.623\n",
      "CatBoost Regressor w/ Imputer:\n",
      "\tStarting cross validation\n",
      "\tFinished cross validation - mean R2: 0.217\n",
      "Elastic Net Regressor w/ Imputer + Standard Scaler:\n",
      "\tStarting cross validation\n",
      "\tFinished cross validation - mean R2: 0.622\n",
      "\n",
      "Search finished after 00:04            \n",
      "Best pipeline: Linear Regressor w/ Imputer + Standard Scaler\n",
      "Best pipeline R2: 0.663863\n"
     ]
    }
   ],
   "source": [
    "\n",
    "from evalml.automl import AutoMLSearch\n",
    "automl = AutoMLSearch(X_train=X_train, y_train=y_train, problem_type='regression')\n",
    "automl.search()"
   ]
  },
  {
   "cell_type": "code",
   "execution_count": 36,
   "metadata": {
    "colab": {
     "base_uri": "https://localhost:8080/",
     "height": 684
    },
    "id": "RNo88uj4mXIx",
    "outputId": "bd062461-408b-4721-9e31-e0e70c904e0d"
   },
   "outputs": [
    {
     "data": {
      "text/html": [
       "<div>\n",
       "<style scoped>\n",
       "    .dataframe tbody tr th:only-of-type {\n",
       "        vertical-align: middle;\n",
       "    }\n",
       "\n",
       "    .dataframe tbody tr th {\n",
       "        vertical-align: top;\n",
       "    }\n",
       "\n",
       "    .dataframe thead th {\n",
       "        text-align: right;\n",
       "    }\n",
       "</style>\n",
       "<table border=\"1\" class=\"dataframe\">\n",
       "  <thead>\n",
       "    <tr style=\"text-align: right;\">\n",
       "      <th></th>\n",
       "      <th>id</th>\n",
       "      <th>pipeline_name</th>\n",
       "      <th>mean_cv_score</th>\n",
       "      <th>standard_deviation_cv_score</th>\n",
       "      <th>validation_score</th>\n",
       "      <th>percent_better_than_baseline</th>\n",
       "      <th>high_variance_cv</th>\n",
       "      <th>parameters</th>\n",
       "    </tr>\n",
       "  </thead>\n",
       "  <tbody>\n",
       "    <tr>\n",
       "      <th>0</th>\n",
       "      <td>4</td>\n",
       "      <td>Linear Regressor w/ Imputer + Standard Scaler</td>\n",
       "      <td>0.663863</td>\n",
       "      <td>0.061259</td>\n",
       "      <td>0.633428</td>\n",
       "      <td>4052.566182</td>\n",
       "      <td>False</td>\n",
       "      <td>{'Imputer': {'categorical_impute_strategy': 'm...</td>\n",
       "    </tr>\n",
       "    <tr>\n",
       "      <th>1</th>\n",
       "      <td>5</td>\n",
       "      <td>Extra Trees Regressor w/ Imputer</td>\n",
       "      <td>0.657997</td>\n",
       "      <td>0.036921</td>\n",
       "      <td>0.641725</td>\n",
       "      <td>4017.642142</td>\n",
       "      <td>False</td>\n",
       "      <td>{'Imputer': {'categorical_impute_strategy': 'm...</td>\n",
       "    </tr>\n",
       "    <tr>\n",
       "      <th>2</th>\n",
       "      <td>3</td>\n",
       "      <td>Random Forest Regressor w/ Imputer</td>\n",
       "      <td>0.637262</td>\n",
       "      <td>0.036590</td>\n",
       "      <td>0.636642</td>\n",
       "      <td>3894.190251</td>\n",
       "      <td>False</td>\n",
       "      <td>{'Imputer': {'categorical_impute_strategy': 'm...</td>\n",
       "    </tr>\n",
       "    <tr>\n",
       "      <th>3</th>\n",
       "      <td>6</td>\n",
       "      <td>LightGBM Regressor w/ Imputer</td>\n",
       "      <td>0.623272</td>\n",
       "      <td>0.042180</td>\n",
       "      <td>0.621738</td>\n",
       "      <td>3810.890805</td>\n",
       "      <td>False</td>\n",
       "      <td>{'Imputer': {'categorical_impute_strategy': 'm...</td>\n",
       "    </tr>\n",
       "    <tr>\n",
       "      <th>4</th>\n",
       "      <td>8</td>\n",
       "      <td>Elastic Net Regressor w/ Imputer + Standard Sc...</td>\n",
       "      <td>0.621663</td>\n",
       "      <td>0.013701</td>\n",
       "      <td>0.608461</td>\n",
       "      <td>3801.311680</td>\n",
       "      <td>False</td>\n",
       "      <td>{'Imputer': {'categorical_impute_strategy': 'm...</td>\n",
       "    </tr>\n",
       "    <tr>\n",
       "      <th>5</th>\n",
       "      <td>2</td>\n",
       "      <td>XGBoost Regressor w/ Imputer</td>\n",
       "      <td>0.567271</td>\n",
       "      <td>0.022810</td>\n",
       "      <td>0.549876</td>\n",
       "      <td>3477.466488</td>\n",
       "      <td>False</td>\n",
       "      <td>{'Imputer': {'categorical_impute_strategy': 'm...</td>\n",
       "    </tr>\n",
       "    <tr>\n",
       "      <th>6</th>\n",
       "      <td>1</td>\n",
       "      <td>Decision Tree Regressor w/ Imputer</td>\n",
       "      <td>0.441214</td>\n",
       "      <td>0.014637</td>\n",
       "      <td>0.458064</td>\n",
       "      <td>2726.940164</td>\n",
       "      <td>False</td>\n",
       "      <td>{'Imputer': {'categorical_impute_strategy': 'm...</td>\n",
       "    </tr>\n",
       "    <tr>\n",
       "      <th>7</th>\n",
       "      <td>7</td>\n",
       "      <td>CatBoost Regressor w/ Imputer</td>\n",
       "      <td>0.217113</td>\n",
       "      <td>0.009739</td>\n",
       "      <td>0.226510</td>\n",
       "      <td>1392.664848</td>\n",
       "      <td>False</td>\n",
       "      <td>{'Imputer': {'categorical_impute_strategy': 'm...</td>\n",
       "    </tr>\n",
       "    <tr>\n",
       "      <th>8</th>\n",
       "      <td>0</td>\n",
       "      <td>Mean Baseline Regression Pipeline</td>\n",
       "      <td>-0.016796</td>\n",
       "      <td>0.014729</td>\n",
       "      <td>-0.000863</td>\n",
       "      <td>0.000000</td>\n",
       "      <td>True</td>\n",
       "      <td>{'Baseline Regressor': {'strategy': 'mean'}}</td>\n",
       "    </tr>\n",
       "  </tbody>\n",
       "</table>\n",
       "</div>"
      ],
      "text/plain": [
       "   id  ...                                         parameters\n",
       "0   4  ...  {'Imputer': {'categorical_impute_strategy': 'm...\n",
       "1   5  ...  {'Imputer': {'categorical_impute_strategy': 'm...\n",
       "2   3  ...  {'Imputer': {'categorical_impute_strategy': 'm...\n",
       "3   6  ...  {'Imputer': {'categorical_impute_strategy': 'm...\n",
       "4   8  ...  {'Imputer': {'categorical_impute_strategy': 'm...\n",
       "5   2  ...  {'Imputer': {'categorical_impute_strategy': 'm...\n",
       "6   1  ...  {'Imputer': {'categorical_impute_strategy': 'm...\n",
       "7   7  ...  {'Imputer': {'categorical_impute_strategy': 'm...\n",
       "8   0  ...       {'Baseline Regressor': {'strategy': 'mean'}}\n",
       "\n",
       "[9 rows x 8 columns]"
      ]
     },
     "execution_count": 36,
     "metadata": {
      "tags": []
     },
     "output_type": "execute_result"
    }
   ],
   "source": [
    "automl.rankings\n"
   ]
  },
  {
   "cell_type": "code",
   "execution_count": 37,
   "metadata": {
    "colab": {
     "base_uri": "https://localhost:8080/"
    },
    "id": "eyQPuUE-moFY",
    "outputId": "1747619d-e865-402a-97b2-80a641b21ff7"
   },
   "outputs": [
    {
     "data": {
      "text/plain": [
       "GeneratedPipeline(parameters={'Imputer':{'categorical_impute_strategy': 'most_frequent', 'numeric_impute_strategy': 'mean', 'categorical_fill_value': None, 'numeric_fill_value': None}, 'Linear Regressor':{'fit_intercept': True, 'normalize': False, 'n_jobs': -1},})"
      ]
     },
     "execution_count": 37,
     "metadata": {
      "tags": []
     },
     "output_type": "execute_result"
    }
   ],
   "source": [
    "automl.best_pipeline\n"
   ]
  },
  {
   "cell_type": "code",
   "execution_count": 38,
   "metadata": {
    "colab": {
     "base_uri": "https://localhost:8080/"
    },
    "id": "X1XFLeD3n0D3",
    "outputId": "92dd636e-ee11-470b-b303-c38f5e37b90d"
   },
   "outputs": [
    {
     "name": "stdout",
     "output_type": "stream",
     "text": [
      "\n",
      "*************************************************\n",
      "* Linear Regressor w/ Imputer + Standard Scaler *\n",
      "*************************************************\n",
      "\n",
      "Problem Type: regression\n",
      "Model Family: Linear\n",
      "\n",
      "Pipeline Steps\n",
      "==============\n",
      "1. Imputer\n",
      "\t * categorical_impute_strategy : most_frequent\n",
      "\t * numeric_impute_strategy : mean\n",
      "\t * categorical_fill_value : None\n",
      "\t * numeric_fill_value : None\n",
      "2. Standard Scaler\n",
      "3. Linear Regressor\n",
      "\t * fit_intercept : True\n",
      "\t * normalize : False\n",
      "\t * n_jobs : -1\n",
      "\n",
      "Training\n",
      "========\n",
      "Training for regression problems.\n",
      "Total training time (including CV): 0.3 seconds\n",
      "\n",
      "Cross Validation\n",
      "----------------\n",
      "               R2  ExpVariance   MaxError  MedianAE            MSE       MAE  Root Mean Squared Error # Training # Validation\n",
      "0           0.633        0.638 185151.356 19428.797 1783771549.505 28478.597                42234.720        160           80\n",
      "1           0.734        0.735 130725.651 20738.938 1181868467.299 25480.174                34378.314        160           80\n",
      "2           0.624        0.637 112623.486 30780.950 1631418623.008 32497.566                40390.823        160           80\n",
      "mean        0.664        0.670 142833.498 23649.562 1532352879.937 28818.779                39001.286          -            -\n",
      "std         0.061        0.057  37749.476  6210.607  312941442.094  3521.043                 4108.393          -            -\n",
      "coef of var 0.092        0.085      0.264     0.263          0.204     0.122                    0.105          -            -\n"
     ]
    }
   ],
   "source": [
    "automl.describe_pipeline(automl.rankings.iloc[0][\"id\"])\n"
   ]
  },
  {
   "cell_type": "code",
   "execution_count": 38,
   "metadata": {
    "id": "YDlbMjxSn3U1"
   },
   "outputs": [],
   "source": []
  },
  {
   "cell_type": "code",
   "execution_count": 39,
   "metadata": {
    "id": "M5QM1nuVo3Aa"
   },
   "outputs": [],
   "source": [
    "y_=test['Income_y']\n",
    "X_=test.drop(['Income_y'],axis=1)"
   ]
  },
  {
   "cell_type": "code",
   "execution_count": 40,
   "metadata": {
    "id": "cjov9KgJpNG9"
   },
   "outputs": [],
   "source": [
    "best_pipeline=automl.best_pipeline\n"
   ]
  },
  {
   "cell_type": "code",
   "execution_count": 41,
   "metadata": {
    "colab": {
     "base_uri": "https://localhost:8080/",
     "height": 1000
    },
    "id": "aGPrAUlabHrK",
    "outputId": "fd5c5be9-4ac5-4922-c31a-25a3026a3933"
   },
   "outputs": [
    {
     "data": {
      "text/html": [
       "<div>\n",
       "<style scoped>\n",
       "    .dataframe tbody tr th:only-of-type {\n",
       "        vertical-align: middle;\n",
       "    }\n",
       "\n",
       "    .dataframe tbody tr th {\n",
       "        vertical-align: top;\n",
       "    }\n",
       "\n",
       "    .dataframe thead th {\n",
       "        text-align: right;\n",
       "    }\n",
       "</style>\n",
       "<table border=\"1\" class=\"dataframe\">\n",
       "  <thead>\n",
       "    <tr style=\"text-align: right;\">\n",
       "      <th></th>\n",
       "      <th>Completed Jobs</th>\n",
       "      <th>TMAX</th>\n",
       "      <th>Avg Sales</th>\n",
       "      <th>tech_count</th>\n",
       "    </tr>\n",
       "  </thead>\n",
       "  <tbody>\n",
       "    <tr>\n",
       "      <th>300</th>\n",
       "      <td>111</td>\n",
       "      <td>63</td>\n",
       "      <td>1597.616912</td>\n",
       "      <td>39</td>\n",
       "    </tr>\n",
       "    <tr>\n",
       "      <th>301</th>\n",
       "      <td>131</td>\n",
       "      <td>72</td>\n",
       "      <td>1218.771111</td>\n",
       "      <td>61</td>\n",
       "    </tr>\n",
       "    <tr>\n",
       "      <th>302</th>\n",
       "      <td>108</td>\n",
       "      <td>74</td>\n",
       "      <td>1418.769895</td>\n",
       "      <td>50</td>\n",
       "    </tr>\n",
       "    <tr>\n",
       "      <th>303</th>\n",
       "      <td>118</td>\n",
       "      <td>64</td>\n",
       "      <td>1600.403596</td>\n",
       "      <td>70</td>\n",
       "    </tr>\n",
       "    <tr>\n",
       "      <th>304</th>\n",
       "      <td>116</td>\n",
       "      <td>65</td>\n",
       "      <td>1678.413214</td>\n",
       "      <td>37</td>\n",
       "    </tr>\n",
       "    <tr>\n",
       "      <th>305</th>\n",
       "      <td>53</td>\n",
       "      <td>72</td>\n",
       "      <td>1225.002424</td>\n",
       "      <td>17</td>\n",
       "    </tr>\n",
       "    <tr>\n",
       "      <th>306</th>\n",
       "      <td>1</td>\n",
       "      <td>84</td>\n",
       "      <td>326.000000</td>\n",
       "      <td>8</td>\n",
       "    </tr>\n",
       "    <tr>\n",
       "      <th>307</th>\n",
       "      <td>106</td>\n",
       "      <td>84</td>\n",
       "      <td>821.319479</td>\n",
       "      <td>51</td>\n",
       "    </tr>\n",
       "    <tr>\n",
       "      <th>308</th>\n",
       "      <td>102</td>\n",
       "      <td>75</td>\n",
       "      <td>1401.394130</td>\n",
       "      <td>49</td>\n",
       "    </tr>\n",
       "    <tr>\n",
       "      <th>309</th>\n",
       "      <td>50</td>\n",
       "      <td>70</td>\n",
       "      <td>2364.647059</td>\n",
       "      <td>23</td>\n",
       "    </tr>\n",
       "    <tr>\n",
       "      <th>310</th>\n",
       "      <td>100</td>\n",
       "      <td>54</td>\n",
       "      <td>2631.463014</td>\n",
       "      <td>69</td>\n",
       "    </tr>\n",
       "    <tr>\n",
       "      <th>311</th>\n",
       "      <td>127</td>\n",
       "      <td>61</td>\n",
       "      <td>1163.223478</td>\n",
       "      <td>55</td>\n",
       "    </tr>\n",
       "    <tr>\n",
       "      <th>312</th>\n",
       "      <td>118</td>\n",
       "      <td>69</td>\n",
       "      <td>1402.703810</td>\n",
       "      <td>53</td>\n",
       "    </tr>\n",
       "    <tr>\n",
       "      <th>313</th>\n",
       "      <td>105</td>\n",
       "      <td>65</td>\n",
       "      <td>1589.591250</td>\n",
       "      <td>43</td>\n",
       "    </tr>\n",
       "    <tr>\n",
       "      <th>314</th>\n",
       "      <td>59</td>\n",
       "      <td>65</td>\n",
       "      <td>2339.931250</td>\n",
       "      <td>25</td>\n",
       "    </tr>\n",
       "    <tr>\n",
       "      <th>315</th>\n",
       "      <td>125</td>\n",
       "      <td>61</td>\n",
       "      <td>1650.959186</td>\n",
       "      <td>68</td>\n",
       "    </tr>\n",
       "    <tr>\n",
       "      <th>316</th>\n",
       "      <td>137</td>\n",
       "      <td>70</td>\n",
       "      <td>1038.302424</td>\n",
       "      <td>41</td>\n",
       "    </tr>\n",
       "    <tr>\n",
       "      <th>317</th>\n",
       "      <td>96</td>\n",
       "      <td>71</td>\n",
       "      <td>1016.436441</td>\n",
       "      <td>53</td>\n",
       "    </tr>\n",
       "    <tr>\n",
       "      <th>318</th>\n",
       "      <td>120</td>\n",
       "      <td>73</td>\n",
       "      <td>1204.108118</td>\n",
       "      <td>54</td>\n",
       "    </tr>\n",
       "    <tr>\n",
       "      <th>319</th>\n",
       "      <td>47</td>\n",
       "      <td>74</td>\n",
       "      <td>1273.700000</td>\n",
       "      <td>18</td>\n",
       "    </tr>\n",
       "    <tr>\n",
       "      <th>320</th>\n",
       "      <td>11</td>\n",
       "      <td>71</td>\n",
       "      <td>510.287222</td>\n",
       "      <td>7</td>\n",
       "    </tr>\n",
       "    <tr>\n",
       "      <th>321</th>\n",
       "      <td>126</td>\n",
       "      <td>72</td>\n",
       "      <td>1405.367315</td>\n",
       "      <td>84</td>\n",
       "    </tr>\n",
       "    <tr>\n",
       "      <th>322</th>\n",
       "      <td>115</td>\n",
       "      <td>72</td>\n",
       "      <td>1002.896296</td>\n",
       "      <td>54</td>\n",
       "    </tr>\n",
       "    <tr>\n",
       "      <th>323</th>\n",
       "      <td>106</td>\n",
       "      <td>75</td>\n",
       "      <td>669.869579</td>\n",
       "      <td>40</td>\n",
       "    </tr>\n",
       "    <tr>\n",
       "      <th>324</th>\n",
       "      <td>114</td>\n",
       "      <td>87</td>\n",
       "      <td>505.547528</td>\n",
       "      <td>37</td>\n",
       "    </tr>\n",
       "    <tr>\n",
       "      <th>325</th>\n",
       "      <td>48</td>\n",
       "      <td>88</td>\n",
       "      <td>1165.320167</td>\n",
       "      <td>15</td>\n",
       "    </tr>\n",
       "    <tr>\n",
       "      <th>326</th>\n",
       "      <td>4</td>\n",
       "      <td>85</td>\n",
       "      <td>1290.833333</td>\n",
       "      <td>11</td>\n",
       "    </tr>\n",
       "    <tr>\n",
       "      <th>327</th>\n",
       "      <td>118</td>\n",
       "      <td>80</td>\n",
       "      <td>819.276034</td>\n",
       "      <td>63</td>\n",
       "    </tr>\n",
       "    <tr>\n",
       "      <th>328</th>\n",
       "      <td>115</td>\n",
       "      <td>72</td>\n",
       "      <td>1067.399688</td>\n",
       "      <td>53</td>\n",
       "    </tr>\n",
       "    <tr>\n",
       "      <th>329</th>\n",
       "      <td>117</td>\n",
       "      <td>71</td>\n",
       "      <td>1320.082673</td>\n",
       "      <td>62</td>\n",
       "    </tr>\n",
       "    <tr>\n",
       "      <th>330</th>\n",
       "      <td>91</td>\n",
       "      <td>76</td>\n",
       "      <td>1085.116667</td>\n",
       "      <td>58</td>\n",
       "    </tr>\n",
       "    <tr>\n",
       "      <th>331</th>\n",
       "      <td>98</td>\n",
       "      <td>58</td>\n",
       "      <td>1333.841364</td>\n",
       "      <td>55</td>\n",
       "    </tr>\n",
       "    <tr>\n",
       "      <th>332</th>\n",
       "      <td>98</td>\n",
       "      <td>65</td>\n",
       "      <td>1333.841364</td>\n",
       "      <td>55</td>\n",
       "    </tr>\n",
       "    <tr>\n",
       "      <th>333</th>\n",
       "      <td>55</td>\n",
       "      <td>53</td>\n",
       "      <td>543.195714</td>\n",
       "      <td>18</td>\n",
       "    </tr>\n",
       "    <tr>\n",
       "      <th>334</th>\n",
       "      <td>5</td>\n",
       "      <td>54</td>\n",
       "      <td>1714.114286</td>\n",
       "      <td>11</td>\n",
       "    </tr>\n",
       "    <tr>\n",
       "      <th>335</th>\n",
       "      <td>155</td>\n",
       "      <td>51</td>\n",
       "      <td>1405.950909</td>\n",
       "      <td>68</td>\n",
       "    </tr>\n",
       "    <tr>\n",
       "      <th>336</th>\n",
       "      <td>146</td>\n",
       "      <td>58</td>\n",
       "      <td>1405.762286</td>\n",
       "      <td>75</td>\n",
       "    </tr>\n",
       "    <tr>\n",
       "      <th>337</th>\n",
       "      <td>121</td>\n",
       "      <td>64</td>\n",
       "      <td>992.519799</td>\n",
       "      <td>63</td>\n",
       "    </tr>\n",
       "    <tr>\n",
       "      <th>338</th>\n",
       "      <td>62</td>\n",
       "      <td>56</td>\n",
       "      <td>864.447761</td>\n",
       "      <td>25</td>\n",
       "    </tr>\n",
       "    <tr>\n",
       "      <th>339</th>\n",
       "      <td>12</td>\n",
       "      <td>70</td>\n",
       "      <td>173.633333</td>\n",
       "      <td>9</td>\n",
       "    </tr>\n",
       "    <tr>\n",
       "      <th>340</th>\n",
       "      <td>121</td>\n",
       "      <td>74</td>\n",
       "      <td>793.345047</td>\n",
       "      <td>50</td>\n",
       "    </tr>\n",
       "    <tr>\n",
       "      <th>341</th>\n",
       "      <td>123</td>\n",
       "      <td>71</td>\n",
       "      <td>1288.510000</td>\n",
       "      <td>64</td>\n",
       "    </tr>\n",
       "    <tr>\n",
       "      <th>342</th>\n",
       "      <td>107</td>\n",
       "      <td>67</td>\n",
       "      <td>1018.203878</td>\n",
       "      <td>66</td>\n",
       "    </tr>\n",
       "    <tr>\n",
       "      <th>343</th>\n",
       "      <td>91</td>\n",
       "      <td>67</td>\n",
       "      <td>1870.448780</td>\n",
       "      <td>51</td>\n",
       "    </tr>\n",
       "  </tbody>\n",
       "</table>\n",
       "</div>"
      ],
      "text/plain": [
       "     Completed Jobs  TMAX    Avg Sales  tech_count\n",
       "300             111    63  1597.616912          39\n",
       "301             131    72  1218.771111          61\n",
       "302             108    74  1418.769895          50\n",
       "303             118    64  1600.403596          70\n",
       "304             116    65  1678.413214          37\n",
       "305              53    72  1225.002424          17\n",
       "306               1    84   326.000000           8\n",
       "307             106    84   821.319479          51\n",
       "308             102    75  1401.394130          49\n",
       "309              50    70  2364.647059          23\n",
       "310             100    54  2631.463014          69\n",
       "311             127    61  1163.223478          55\n",
       "312             118    69  1402.703810          53\n",
       "313             105    65  1589.591250          43\n",
       "314              59    65  2339.931250          25\n",
       "315             125    61  1650.959186          68\n",
       "316             137    70  1038.302424          41\n",
       "317              96    71  1016.436441          53\n",
       "318             120    73  1204.108118          54\n",
       "319              47    74  1273.700000          18\n",
       "320              11    71   510.287222           7\n",
       "321             126    72  1405.367315          84\n",
       "322             115    72  1002.896296          54\n",
       "323             106    75   669.869579          40\n",
       "324             114    87   505.547528          37\n",
       "325              48    88  1165.320167          15\n",
       "326               4    85  1290.833333          11\n",
       "327             118    80   819.276034          63\n",
       "328             115    72  1067.399688          53\n",
       "329             117    71  1320.082673          62\n",
       "330              91    76  1085.116667          58\n",
       "331              98    58  1333.841364          55\n",
       "332              98    65  1333.841364          55\n",
       "333              55    53   543.195714          18\n",
       "334               5    54  1714.114286          11\n",
       "335             155    51  1405.950909          68\n",
       "336             146    58  1405.762286          75\n",
       "337             121    64   992.519799          63\n",
       "338              62    56   864.447761          25\n",
       "339              12    70   173.633333           9\n",
       "340             121    74   793.345047          50\n",
       "341             123    71  1288.510000          64\n",
       "342             107    67  1018.203878          66\n",
       "343              91    67  1870.448780          51"
      ]
     },
     "execution_count": 41,
     "metadata": {
      "tags": []
     },
     "output_type": "execute_result"
    }
   ],
   "source": [
    "X_"
   ]
  },
  {
   "cell_type": "code",
   "execution_count": 42,
   "metadata": {
    "colab": {
     "base_uri": "https://localhost:8080/"
    },
    "id": "ewePF5puo9QP",
    "outputId": "25e07b95-1b4a-4c26-d3a5-68d753160a73"
   },
   "outputs": [
    {
     "data": {
      "text/plain": [
       "OrderedDict([('MSE', 901624885.4967856), ('MAE', 24584.344765247464)])"
      ]
     },
     "execution_count": 42,
     "metadata": {
      "tags": []
     },
     "output_type": "execute_result"
    }
   ],
   "source": [
    "best_pipeline.score(X_, y_, objectives=[\"mse\",\"mae\"])\n"
   ]
  },
  {
   "cell_type": "code",
   "execution_count": 44,
   "metadata": {
    "colab": {
     "base_uri": "https://localhost:8080/"
    },
    "id": "D--7LXddpyJd",
    "outputId": "0f7262fe-6070-427a-a93b-bf12d8401b81"
   },
   "outputs": [
    {
     "data": {
      "text/plain": [
       "30027.06921257527"
      ]
     },
     "execution_count": 44,
     "metadata": {
      "tags": []
     },
     "output_type": "execute_result"
    }
   ],
   "source": [
    "np.sqrt(901624885.4967856)"
   ]
  },
  {
   "cell_type": "code",
   "execution_count": 44,
   "metadata": {
    "id": "o5e6LTOQpJcX"
   },
   "outputs": [],
   "source": []
  },
  {
   "cell_type": "code",
   "execution_count": null,
   "metadata": {
    "id": "n87U0hFtpSfM"
   },
   "outputs": [],
   "source": []
  }
 ],
 "metadata": {
  "accelerator": "GPU",
  "colab": {
   "name": "evalml.ipynb",
   "provenance": []
  },
  "kernelspec": {
   "display_name": "Python 3",
   "language": "python",
   "name": "python3"
  },
  "language_info": {
   "codemirror_mode": {
    "name": "ipython",
    "version": 3
   },
   "file_extension": ".py",
   "mimetype": "text/x-python",
   "name": "python",
   "nbconvert_exporter": "python",
   "pygments_lexer": "ipython3",
   "version": "3.7.3"
  },
  "widgets": {
   "application/vnd.jupyter.widget-state+json": {
    "c492af9219404eb9b25957fc4bcb165d": {
     "model_module": "plotlywidget",
     "model_name": "FigureModel",
     "state": {
      "_config": {
       "plotlyServerURL": "https://plot.ly"
      },
      "_data": [
       {
        "mode": "lines+markers",
        "name": "Best Score",
        "type": "scatter",
        "uid": "efbb7da5-621b-4bc0-bb39-a38943cd8f98",
        "x": [],
        "y": []
       },
       {
        "marker": {
         "color": "gray"
        },
        "mode": "markers",
        "name": "Iter score",
        "type": "scatter",
        "uid": "a42b2737-90ba-4f38-bb89-b25248de8ee3",
        "x": [],
        "y": []
       }
      ],
      "_dom_classes": [],
      "_js2py_layoutDelta": {},
      "_js2py_pointsCallback": {},
      "_js2py_relayout": {},
      "_js2py_restyle": {},
      "_js2py_traceDeltas": {},
      "_js2py_update": {},
      "_last_layout_edit_id": 37,
      "_last_trace_edit_id": 37,
      "_layout": {
       "title": {
        "text": "Pipeline Search: Iteration vs. R2<br><sub>Gray marker indicates the score at current iteration</sub>"
       },
       "xaxis": {
        "rangemode": "tozero",
        "title": {
         "text": "Iteration"
        }
       },
       "yaxis": {
        "title": {
         "text": "Score"
        }
       }
      },
      "_model_module": "plotlywidget",
      "_model_module_version": "^4.14.3",
      "_model_name": "FigureModel",
      "_py2js_addTraces": {},
      "_py2js_animate": {},
      "_py2js_deleteTraces": {},
      "_py2js_moveTraces": {},
      "_py2js_relayout": null,
      "_py2js_removeLayoutProps": {},
      "_py2js_removeTraceProps": {},
      "_py2js_restyle": null,
      "_py2js_update": null,
      "_view_count": 0,
      "_view_module": "plotlywidget",
      "_view_module_version": "^4.14.3",
      "_view_name": "FigureView"
     }
    }
   }
  }
 },
 "nbformat": 4,
 "nbformat_minor": 1
}
