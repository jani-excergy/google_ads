{
 "cells": [
  {
   "cell_type": "code",
   "execution_count": 1,
   "id": "better-healthcare",
   "metadata": {},
   "outputs": [],
   "source": [
    "import pandas as pd\n",
    "import numpy as np\n",
    "import matplotlib.pyplot as plt\n",
    "import seaborn as sns"
   ]
  },
  {
   "cell_type": "code",
   "execution_count": 2,
   "id": "republican-clerk",
   "metadata": {},
   "outputs": [],
   "source": [
    "df=pd.read_excel('final_feat.xlsx')"
   ]
  },
  {
   "cell_type": "code",
   "execution_count": 3,
   "id": "returning-mountain",
   "metadata": {},
   "outputs": [],
   "source": [
    "df1=df[['Completed Jobs','TMAX','Avg Sales','tech_count','Income_y']]"
   ]
  },
  {
   "cell_type": "code",
   "execution_count": 4,
   "id": "subtle-ethernet",
   "metadata": {},
   "outputs": [
    {
     "data": {
      "text/html": [
       "<div>\n",
       "<style scoped>\n",
       "    .dataframe tbody tr th:only-of-type {\n",
       "        vertical-align: middle;\n",
       "    }\n",
       "\n",
       "    .dataframe tbody tr th {\n",
       "        vertical-align: top;\n",
       "    }\n",
       "\n",
       "    .dataframe thead th {\n",
       "        text-align: right;\n",
       "    }\n",
       "</style>\n",
       "<table border=\"1\" class=\"dataframe\">\n",
       "  <thead>\n",
       "    <tr style=\"text-align: right;\">\n",
       "      <th></th>\n",
       "      <th>Completed Jobs</th>\n",
       "      <th>TMAX</th>\n",
       "      <th>Avg Sales</th>\n",
       "      <th>tech_count</th>\n",
       "      <th>Income_y</th>\n",
       "    </tr>\n",
       "  </thead>\n",
       "  <tbody>\n",
       "    <tr>\n",
       "      <th>0</th>\n",
       "      <td>57</td>\n",
       "      <td>65</td>\n",
       "      <td>3617.444828</td>\n",
       "      <td>59</td>\n",
       "      <td>23933.54</td>\n",
       "    </tr>\n",
       "    <tr>\n",
       "      <th>1</th>\n",
       "      <td>77</td>\n",
       "      <td>71</td>\n",
       "      <td>1781.345385</td>\n",
       "      <td>40</td>\n",
       "      <td>65232.03</td>\n",
       "    </tr>\n",
       "    <tr>\n",
       "      <th>2</th>\n",
       "      <td>55</td>\n",
       "      <td>69</td>\n",
       "      <td>459.248750</td>\n",
       "      <td>21</td>\n",
       "      <td>26195.32</td>\n",
       "    </tr>\n",
       "    <tr>\n",
       "      <th>3</th>\n",
       "      <td>6</td>\n",
       "      <td>69</td>\n",
       "      <td>846.000000</td>\n",
       "      <td>9</td>\n",
       "      <td>264.00</td>\n",
       "    </tr>\n",
       "    <tr>\n",
       "      <th>4</th>\n",
       "      <td>73</td>\n",
       "      <td>77</td>\n",
       "      <td>1820.060789</td>\n",
       "      <td>60</td>\n",
       "      <td>48506.16</td>\n",
       "    </tr>\n",
       "  </tbody>\n",
       "</table>\n",
       "</div>"
      ],
      "text/plain": [
       "   Completed Jobs  TMAX    Avg Sales  tech_count  Income_y\n",
       "0              57    65  3617.444828          59  23933.54\n",
       "1              77    71  1781.345385          40  65232.03\n",
       "2              55    69   459.248750          21  26195.32\n",
       "3               6    69   846.000000           9    264.00\n",
       "4              73    77  1820.060789          60  48506.16"
      ]
     },
     "execution_count": 4,
     "metadata": {},
     "output_type": "execute_result"
    }
   ],
   "source": [
    "df1.head()"
   ]
  },
  {
   "cell_type": "code",
   "execution_count": 5,
   "id": "detected-engineering",
   "metadata": {},
   "outputs": [],
   "source": [
    "df1=df1.drop_duplicates(ignore_index=True)"
   ]
  },
  {
   "cell_type": "code",
   "execution_count": 6,
   "id": "impaired-motor",
   "metadata": {},
   "outputs": [],
   "source": [
    "train=df1[0:300]\n",
    "test=df1[300:]"
   ]
  },
  {
   "cell_type": "code",
   "execution_count": 7,
   "id": "identified-occupation",
   "metadata": {},
   "outputs": [],
   "source": [
    "y=train['Income_y']\n",
    "X=train.drop(['Income_y'],axis=1)"
   ]
  },
  {
   "cell_type": "code",
   "execution_count": 8,
   "id": "committed-positive",
   "metadata": {},
   "outputs": [],
   "source": [
    "y_=test['Income_y']\n",
    "X_=test.drop(['Income_y'],axis=1)"
   ]
  },
  {
   "cell_type": "code",
   "execution_count": 9,
   "id": "pressed-thought",
   "metadata": {},
   "outputs": [],
   "source": [
    "from sklearn.model_selection import train_test_split\n",
    "X_train, X_test, y_train, y_test = train_test_split(X, y, test_size=0.3, random_state=42)"
   ]
  },
  {
   "cell_type": "code",
   "execution_count": 10,
   "id": "military-hurricane",
   "metadata": {},
   "outputs": [],
   "source": [
    "from sklearn.neighbors import KNeighborsRegressor"
   ]
  },
  {
   "cell_type": "code",
   "execution_count": 24,
   "id": "pleasant-sampling",
   "metadata": {},
   "outputs": [
    {
     "data": {
      "text/plain": [
       "KNeighborsRegressor()"
      ]
     },
     "execution_count": 24,
     "metadata": {},
     "output_type": "execute_result"
    }
   ],
   "source": [
    "# applying KNN algoritham with K=1(worst case)\n",
    "reg_model=KNeighborsRegressor()\n",
    "reg_model.fit(X_train,y_train)"
   ]
  },
  {
   "cell_type": "code",
   "execution_count": 25,
   "id": "private-solomon",
   "metadata": {},
   "outputs": [
    {
     "data": {
      "text/plain": [
       "0.6308435327551665"
      ]
     },
     "execution_count": 25,
     "metadata": {},
     "output_type": "execute_result"
    }
   ],
   "source": [
    "# Model score on test data set \n",
    "# regression metric is r2_score\n",
    "reg_model.score(X_train,y_train)"
   ]
  },
  {
   "cell_type": "code",
   "execution_count": 26,
   "id": "accessible-butterfly",
   "metadata": {},
   "outputs": [
    {
     "data": {
      "text/plain": [
       "0.5704254532502663"
      ]
     },
     "execution_count": 26,
     "metadata": {},
     "output_type": "execute_result"
    }
   ],
   "source": [
    "# Model performance score on test data set\n",
    "reg_model.score(X_test,y_test)"
   ]
  },
  {
   "cell_type": "code",
   "execution_count": 27,
   "id": "responsible-overhead",
   "metadata": {},
   "outputs": [
    {
     "data": {
      "text/plain": [
       "0.23894635767768535"
      ]
     },
     "execution_count": 27,
     "metadata": {},
     "output_type": "execute_result"
    }
   ],
   "source": [
    "reg_model.score(X_,y_)"
   ]
  },
  {
   "cell_type": "markdown",
   "id": "neural-signal",
   "metadata": {},
   "source": [
    " # Hyperparameter tuning"
   ]
  },
  {
   "cell_type": "code",
   "execution_count": 28,
   "id": "white-spelling",
   "metadata": {},
   "outputs": [],
   "source": [
    "from sklearn.model_selection import cross_val_score"
   ]
  },
  {
   "cell_type": "code",
   "execution_count": 29,
   "id": "sunset-drill",
   "metadata": {},
   "outputs": [],
   "source": [
    "# for hyper parameter (k) tuning we take k value in the range 1 to 100\n",
    "\n",
    "accuracy = []\n",
    "\n",
    "\n",
    "for i in range(1,50):\n",
    "    \n",
    "    reg_model = KNeighborsRegressor(n_neighbors=i,weights='distance',algorithm='kd_tree')\n",
    "    score=cross_val_score(reg_model,X,y,cv=10,)\n",
    "    accuracy.append(score.mean())"
   ]
  },
  {
   "cell_type": "code",
   "execution_count": 30,
   "id": "controversial-genealogy",
   "metadata": {},
   "outputs": [
    {
     "data": {
      "text/plain": [
       "Text(0, 0.5, 'Accuracy')"
      ]
     },
     "execution_count": 30,
     "metadata": {},
     "output_type": "execute_result"
    },
    {
     "data": {
      "image/png": "[encoded data removed]",
      "text/plain": [
       "<Figure size 1440x720 with 1 Axes>"
      ]
     },
     "metadata": {
      "needs_background": "light"
     },
     "output_type": "display_data"
    }
   ],
   "source": [
    "plt.figure(figsize=(20,10))\n",
    "plt.plot(range(1,50),accuracy,color='red', linestyle='dashed', marker='o',\n",
    "         markerfacecolor='blue', markersize=10)\n",
    "plt.title('Accuracy vs. K_Value')\n",
    "plt.xlabel('K_value')\n",
    "plt.ylabel('Accuracy')"
   ]
  },
  {
   "cell_type": "code",
   "execution_count": 72,
   "id": "foreign-peoples",
   "metadata": {},
   "outputs": [],
   "source": [
    "#Now we can apply KNN with k=17 to check performance\n",
    "\n",
    "tuned_reg_model= KNeighborsRegressor(n_neighbors=6)"
   ]
  },
  {
   "cell_type": "code",
   "execution_count": 73,
   "id": "historic-maine",
   "metadata": {},
   "outputs": [
    {
     "data": {
      "text/plain": [
       "KNeighborsRegressor(n_neighbors=6)"
      ]
     },
     "execution_count": 73,
     "metadata": {},
     "output_type": "execute_result"
    }
   ],
   "source": [
    "tuned_reg_model.fit(X_train,y_train)"
   ]
  },
  {
   "cell_type": "code",
   "execution_count": 74,
   "id": "welsh-military",
   "metadata": {},
   "outputs": [
    {
     "data": {
      "text/plain": [
       "0.5877295226970689"
      ]
     },
     "execution_count": 74,
     "metadata": {},
     "output_type": "execute_result"
    }
   ],
   "source": [
    "# performance of model on train dataset\n",
    "tuned_reg_model.score(X_train,y_train)"
   ]
  },
  {
   "cell_type": "code",
   "execution_count": 75,
   "id": "aerial-render",
   "metadata": {},
   "outputs": [
    {
     "data": {
      "text/plain": [
       "0.5465204522291446"
      ]
     },
     "execution_count": 75,
     "metadata": {},
     "output_type": "execute_result"
    }
   ],
   "source": [
    "# performance of model on test dataset\n",
    "tuned_reg_model.score(X_test,y_test)"
   ]
  },
  {
   "cell_type": "code",
   "execution_count": 76,
   "id": "fluid-better",
   "metadata": {},
   "outputs": [
    {
     "data": {
      "text/plain": [
       "0.2400197540193595"
      ]
     },
     "execution_count": 76,
     "metadata": {},
     "output_type": "execute_result"
    }
   ],
   "source": [
    "tuned_reg_model.score(X_,y_)"
   ]
  },
  {
   "cell_type": "code",
   "execution_count": 77,
   "id": "scenic-fiction",
   "metadata": {},
   "outputs": [],
   "source": [
    "# prediction \n",
    "\n",
    "y_pred=tuned_reg_model.predict(X_)"
   ]
  },
  {
   "cell_type": "code",
   "execution_count": 78,
   "id": "aboriginal-screen",
   "metadata": {
    "scrolled": true
   },
   "outputs": [],
   "source": [
    "comp=pd.DataFrame({'Actual':y_,'Predicted':y_pred})"
   ]
  },
  {
   "cell_type": "code",
   "execution_count": 79,
   "id": "miniature-reform",
   "metadata": {},
   "outputs": [
    {
     "data": {
      "text/plain": [
       "<AxesSubplot:>"
      ]
     },
     "execution_count": 79,
     "metadata": {},
     "output_type": "execute_result"
    },
    {
     "data": {
      "image/png": "[encoded data removed]",
      "text/plain": [
       "<Figure size 432x288 with 1 Axes>"
      ]
     },
     "metadata": {
      "needs_background": "light"
     },
     "output_type": "display_data"
    }
   ],
   "source": [
    "comp.plot()"
   ]
  },
  {
   "cell_type": "code",
   "execution_count": 80,
   "id": "discrete-allowance",
   "metadata": {},
   "outputs": [],
   "source": [
    "comp['Error']=comp['Actual']-comp['Predicted']"
   ]
  },
  {
   "cell_type": "code",
   "execution_count": 81,
   "id": "national-fitness",
   "metadata": {},
   "outputs": [
    {
     "data": {
      "text/html": [
       "<div>\n",
       "<style scoped>\n",
       "    .dataframe tbody tr th:only-of-type {\n",
       "        vertical-align: middle;\n",
       "    }\n",
       "\n",
       "    .dataframe tbody tr th {\n",
       "        vertical-align: top;\n",
       "    }\n",
       "\n",
       "    .dataframe thead th {\n",
       "        text-align: right;\n",
       "    }\n",
       "</style>\n",
       "<table border=\"1\" class=\"dataframe\">\n",
       "  <thead>\n",
       "    <tr style=\"text-align: right;\">\n",
       "      <th></th>\n",
       "      <th>Actual</th>\n",
       "      <th>Predicted</th>\n",
       "      <th>Error</th>\n",
       "    </tr>\n",
       "  </thead>\n",
       "  <tbody>\n",
       "    <tr>\n",
       "      <th>300</th>\n",
       "      <td>114534.21</td>\n",
       "      <td>110813.795000</td>\n",
       "      <td>3720.415000</td>\n",
       "    </tr>\n",
       "    <tr>\n",
       "      <th>301</th>\n",
       "      <td>127412.10</td>\n",
       "      <td>117553.163333</td>\n",
       "      <td>9858.936667</td>\n",
       "    </tr>\n",
       "    <tr>\n",
       "      <th>302</th>\n",
       "      <td>73107.94</td>\n",
       "      <td>90201.230000</td>\n",
       "      <td>-17093.290000</td>\n",
       "    </tr>\n",
       "    <tr>\n",
       "      <th>303</th>\n",
       "      <td>100335.70</td>\n",
       "      <td>157712.511667</td>\n",
       "      <td>-57376.811667</td>\n",
       "    </tr>\n",
       "    <tr>\n",
       "      <th>304</th>\n",
       "      <td>82920.44</td>\n",
       "      <td>144853.936667</td>\n",
       "      <td>-61933.496667</td>\n",
       "    </tr>\n",
       "    <tr>\n",
       "      <th>305</th>\n",
       "      <td>36992.00</td>\n",
       "      <td>60297.073333</td>\n",
       "      <td>-23305.073333</td>\n",
       "    </tr>\n",
       "    <tr>\n",
       "      <th>306</th>\n",
       "      <td>326.00</td>\n",
       "      <td>17567.310000</td>\n",
       "      <td>-17241.310000</td>\n",
       "    </tr>\n",
       "    <tr>\n",
       "      <th>307</th>\n",
       "      <td>86287.17</td>\n",
       "      <td>69516.408333</td>\n",
       "      <td>16770.761667</td>\n",
       "    </tr>\n",
       "    <tr>\n",
       "      <th>308</th>\n",
       "      <td>79380.38</td>\n",
       "      <td>80499.018333</td>\n",
       "      <td>-1118.638333</td>\n",
       "    </tr>\n",
       "    <tr>\n",
       "      <th>309</th>\n",
       "      <td>104509.01</td>\n",
       "      <td>83630.176667</td>\n",
       "      <td>20878.833333</td>\n",
       "    </tr>\n",
       "    <tr>\n",
       "      <th>310</th>\n",
       "      <td>96828.96</td>\n",
       "      <td>123333.500000</td>\n",
       "      <td>-26504.540000</td>\n",
       "    </tr>\n",
       "    <tr>\n",
       "      <th>311</th>\n",
       "      <td>108327.11</td>\n",
       "      <td>110058.501667</td>\n",
       "      <td>-1731.391667</td>\n",
       "    </tr>\n",
       "    <tr>\n",
       "      <th>312</th>\n",
       "      <td>99625.26</td>\n",
       "      <td>99672.123333</td>\n",
       "      <td>-46.863333</td>\n",
       "    </tr>\n",
       "    <tr>\n",
       "      <th>313</th>\n",
       "      <td>76878.35</td>\n",
       "      <td>110813.795000</td>\n",
       "      <td>-33935.445000</td>\n",
       "    </tr>\n",
       "    <tr>\n",
       "      <th>314</th>\n",
       "      <td>69089.17</td>\n",
       "      <td>84962.341667</td>\n",
       "      <td>-15873.171667</td>\n",
       "    </tr>\n",
       "    <tr>\n",
       "      <th>315</th>\n",
       "      <td>128210.29</td>\n",
       "      <td>168015.433333</td>\n",
       "      <td>-39805.143333</td>\n",
       "    </tr>\n",
       "    <tr>\n",
       "      <th>316</th>\n",
       "      <td>177410.42</td>\n",
       "      <td>98400.891667</td>\n",
       "      <td>79009.528333</td>\n",
       "    </tr>\n",
       "    <tr>\n",
       "      <th>317</th>\n",
       "      <td>68424.71</td>\n",
       "      <td>90604.258333</td>\n",
       "      <td>-22179.548333</td>\n",
       "    </tr>\n",
       "    <tr>\n",
       "      <th>318</th>\n",
       "      <td>130406.40</td>\n",
       "      <td>117553.163333</td>\n",
       "      <td>12853.236667</td>\n",
       "    </tr>\n",
       "    <tr>\n",
       "      <th>319</th>\n",
       "      <td>41651.85</td>\n",
       "      <td>82523.446667</td>\n",
       "      <td>-40871.596667</td>\n",
       "    </tr>\n",
       "    <tr>\n",
       "      <th>320</th>\n",
       "      <td>102.95</td>\n",
       "      <td>31302.725000</td>\n",
       "      <td>-31199.775000</td>\n",
       "    </tr>\n",
       "    <tr>\n",
       "      <th>321</th>\n",
       "      <td>121328.92</td>\n",
       "      <td>96381.326667</td>\n",
       "      <td>24947.593333</td>\n",
       "    </tr>\n",
       "    <tr>\n",
       "      <th>322</th>\n",
       "      <td>94156.55</td>\n",
       "      <td>90604.258333</td>\n",
       "      <td>3552.291667</td>\n",
       "    </tr>\n",
       "    <tr>\n",
       "      <th>323</th>\n",
       "      <td>93428.49</td>\n",
       "      <td>44298.655000</td>\n",
       "      <td>49129.835000</td>\n",
       "    </tr>\n",
       "    <tr>\n",
       "      <th>324</th>\n",
       "      <td>73106.96</td>\n",
       "      <td>31302.725000</td>\n",
       "      <td>41804.235000</td>\n",
       "    </tr>\n",
       "    <tr>\n",
       "      <th>325</th>\n",
       "      <td>62484.03</td>\n",
       "      <td>55536.071667</td>\n",
       "      <td>6947.958333</td>\n",
       "    </tr>\n",
       "    <tr>\n",
       "      <th>326</th>\n",
       "      <td>50088.00</td>\n",
       "      <td>82523.446667</td>\n",
       "      <td>-32435.446667</td>\n",
       "    </tr>\n",
       "    <tr>\n",
       "      <th>327</th>\n",
       "      <td>45289.92</td>\n",
       "      <td>88591.431667</td>\n",
       "      <td>-43301.511667</td>\n",
       "    </tr>\n",
       "    <tr>\n",
       "      <th>328</th>\n",
       "      <td>95437.44</td>\n",
       "      <td>91613.026667</td>\n",
       "      <td>3824.413333</td>\n",
       "    </tr>\n",
       "    <tr>\n",
       "      <th>329</th>\n",
       "      <td>100674.86</td>\n",
       "      <td>97436.276667</td>\n",
       "      <td>3238.583333</td>\n",
       "    </tr>\n",
       "    <tr>\n",
       "      <th>330</th>\n",
       "      <td>55735.08</td>\n",
       "      <td>91613.026667</td>\n",
       "      <td>-35877.946667</td>\n",
       "    </tr>\n",
       "    <tr>\n",
       "      <th>331</th>\n",
       "      <td>86421.80</td>\n",
       "      <td>93892.821667</td>\n",
       "      <td>-7471.021667</td>\n",
       "    </tr>\n",
       "    <tr>\n",
       "      <th>332</th>\n",
       "      <td>86421.80</td>\n",
       "      <td>93892.821667</td>\n",
       "      <td>-7471.021667</td>\n",
       "    </tr>\n",
       "    <tr>\n",
       "      <th>333</th>\n",
       "      <td>41343.95</td>\n",
       "      <td>35740.143333</td>\n",
       "      <td>5603.806667</td>\n",
       "    </tr>\n",
       "    <tr>\n",
       "      <th>334</th>\n",
       "      <td>15788.00</td>\n",
       "      <td>40250.735000</td>\n",
       "      <td>-24462.735000</td>\n",
       "    </tr>\n",
       "    <tr>\n",
       "      <th>335</th>\n",
       "      <td>128985.55</td>\n",
       "      <td>96381.326667</td>\n",
       "      <td>32604.223333</td>\n",
       "    </tr>\n",
       "    <tr>\n",
       "      <th>336</th>\n",
       "      <td>93402.16</td>\n",
       "      <td>96381.326667</td>\n",
       "      <td>-2979.166667</td>\n",
       "    </tr>\n",
       "    <tr>\n",
       "      <th>337</th>\n",
       "      <td>176747.02</td>\n",
       "      <td>90604.258333</td>\n",
       "      <td>86142.761667</td>\n",
       "    </tr>\n",
       "    <tr>\n",
       "      <th>338</th>\n",
       "      <td>32502.40</td>\n",
       "      <td>64677.818333</td>\n",
       "      <td>-32175.418333</td>\n",
       "    </tr>\n",
       "    <tr>\n",
       "      <th>339</th>\n",
       "      <td>55111.85</td>\n",
       "      <td>17567.310000</td>\n",
       "      <td>37544.540000</td>\n",
       "    </tr>\n",
       "    <tr>\n",
       "      <th>340</th>\n",
       "      <td>133042.85</td>\n",
       "      <td>83113.823333</td>\n",
       "      <td>49929.026667</td>\n",
       "    </tr>\n",
       "    <tr>\n",
       "      <th>341</th>\n",
       "      <td>88538.89</td>\n",
       "      <td>145478.766667</td>\n",
       "      <td>-56939.876667</td>\n",
       "    </tr>\n",
       "    <tr>\n",
       "      <th>342</th>\n",
       "      <td>66133.39</td>\n",
       "      <td>90604.258333</td>\n",
       "      <td>-24470.868333</td>\n",
       "    </tr>\n",
       "    <tr>\n",
       "      <th>343</th>\n",
       "      <td>67090.81</td>\n",
       "      <td>90637.760000</td>\n",
       "      <td>-23546.950000</td>\n",
       "    </tr>\n",
       "  </tbody>\n",
       "</table>\n",
       "</div>"
      ],
      "text/plain": [
       "        Actual      Predicted         Error\n",
       "300  114534.21  110813.795000   3720.415000\n",
       "301  127412.10  117553.163333   9858.936667\n",
       "302   73107.94   90201.230000 -17093.290000\n",
       "303  100335.70  157712.511667 -57376.811667\n",
       "304   82920.44  144853.936667 -61933.496667\n",
       "305   36992.00   60297.073333 -23305.073333\n",
       "306     326.00   17567.310000 -17241.310000\n",
       "307   86287.17   69516.408333  16770.761667\n",
       "308   79380.38   80499.018333  -1118.638333\n",
       "309  104509.01   83630.176667  20878.833333\n",
       "310   96828.96  123333.500000 -26504.540000\n",
       "311  108327.11  110058.501667  -1731.391667\n",
       "312   99625.26   99672.123333    -46.863333\n",
       "313   76878.35  110813.795000 -33935.445000\n",
       "314   69089.17   84962.341667 -15873.171667\n",
       "315  128210.29  168015.433333 -39805.143333\n",
       "316  177410.42   98400.891667  79009.528333\n",
       "317   68424.71   90604.258333 -22179.548333\n",
       "318  130406.40  117553.163333  12853.236667\n",
       "319   41651.85   82523.446667 -40871.596667\n",
       "320     102.95   31302.725000 -31199.775000\n",
       "321  121328.92   96381.326667  24947.593333\n",
       "322   94156.55   90604.258333   3552.291667\n",
       "323   93428.49   44298.655000  49129.835000\n",
       "324   73106.96   31302.725000  41804.235000\n",
       "325   62484.03   55536.071667   6947.958333\n",
       "326   50088.00   82523.446667 -32435.446667\n",
       "327   45289.92   88591.431667 -43301.511667\n",
       "328   95437.44   91613.026667   3824.413333\n",
       "329  100674.86   97436.276667   3238.583333\n",
       "330   55735.08   91613.026667 -35877.946667\n",
       "331   86421.80   93892.821667  -7471.021667\n",
       "332   86421.80   93892.821667  -7471.021667\n",
       "333   41343.95   35740.143333   5603.806667\n",
       "334   15788.00   40250.735000 -24462.735000\n",
       "335  128985.55   96381.326667  32604.223333\n",
       "336   93402.16   96381.326667  -2979.166667\n",
       "337  176747.02   90604.258333  86142.761667\n",
       "338   32502.40   64677.818333 -32175.418333\n",
       "339   55111.85   17567.310000  37544.540000\n",
       "340  133042.85   83113.823333  49929.026667\n",
       "341   88538.89  145478.766667 -56939.876667\n",
       "342   66133.39   90604.258333 -24470.868333\n",
       "343   67090.81   90637.760000 -23546.950000"
      ]
     },
     "execution_count": 81,
     "metadata": {},
     "output_type": "execute_result"
    }
   ],
   "source": [
    "comp"
   ]
  },
  {
   "cell_type": "code",
   "execution_count": 82,
   "id": "twelve-awareness",
   "metadata": {},
   "outputs": [
    {
     "data": {
      "text/html": [
       "<div>\n",
       "<style scoped>\n",
       "    .dataframe tbody tr th:only-of-type {\n",
       "        vertical-align: middle;\n",
       "    }\n",
       "\n",
       "    .dataframe tbody tr th {\n",
       "        vertical-align: top;\n",
       "    }\n",
       "\n",
       "    .dataframe thead th {\n",
       "        text-align: right;\n",
       "    }\n",
       "</style>\n",
       "<table border=\"1\" class=\"dataframe\">\n",
       "  <thead>\n",
       "    <tr style=\"text-align: right;\">\n",
       "      <th></th>\n",
       "      <th>Completed Jobs</th>\n",
       "      <th>TMAX</th>\n",
       "      <th>Avg Sales</th>\n",
       "      <th>tech_count</th>\n",
       "    </tr>\n",
       "  </thead>\n",
       "  <tbody>\n",
       "    <tr>\n",
       "      <th>300</th>\n",
       "      <td>111</td>\n",
       "      <td>63</td>\n",
       "      <td>1597.616912</td>\n",
       "      <td>39</td>\n",
       "    </tr>\n",
       "    <tr>\n",
       "      <th>301</th>\n",
       "      <td>131</td>\n",
       "      <td>72</td>\n",
       "      <td>1218.771111</td>\n",
       "      <td>61</td>\n",
       "    </tr>\n",
       "    <tr>\n",
       "      <th>302</th>\n",
       "      <td>108</td>\n",
       "      <td>74</td>\n",
       "      <td>1418.769895</td>\n",
       "      <td>50</td>\n",
       "    </tr>\n",
       "    <tr>\n",
       "      <th>303</th>\n",
       "      <td>118</td>\n",
       "      <td>64</td>\n",
       "      <td>1600.403596</td>\n",
       "      <td>70</td>\n",
       "    </tr>\n",
       "    <tr>\n",
       "      <th>304</th>\n",
       "      <td>116</td>\n",
       "      <td>65</td>\n",
       "      <td>1678.413214</td>\n",
       "      <td>37</td>\n",
       "    </tr>\n",
       "    <tr>\n",
       "      <th>305</th>\n",
       "      <td>53</td>\n",
       "      <td>72</td>\n",
       "      <td>1225.002424</td>\n",
       "      <td>17</td>\n",
       "    </tr>\n",
       "    <tr>\n",
       "      <th>306</th>\n",
       "      <td>1</td>\n",
       "      <td>84</td>\n",
       "      <td>326.000000</td>\n",
       "      <td>8</td>\n",
       "    </tr>\n",
       "    <tr>\n",
       "      <th>307</th>\n",
       "      <td>106</td>\n",
       "      <td>84</td>\n",
       "      <td>821.319479</td>\n",
       "      <td>51</td>\n",
       "    </tr>\n",
       "    <tr>\n",
       "      <th>308</th>\n",
       "      <td>102</td>\n",
       "      <td>75</td>\n",
       "      <td>1401.394130</td>\n",
       "      <td>49</td>\n",
       "    </tr>\n",
       "    <tr>\n",
       "      <th>309</th>\n",
       "      <td>50</td>\n",
       "      <td>70</td>\n",
       "      <td>2364.647059</td>\n",
       "      <td>23</td>\n",
       "    </tr>\n",
       "    <tr>\n",
       "      <th>310</th>\n",
       "      <td>100</td>\n",
       "      <td>54</td>\n",
       "      <td>2631.463014</td>\n",
       "      <td>69</td>\n",
       "    </tr>\n",
       "    <tr>\n",
       "      <th>311</th>\n",
       "      <td>127</td>\n",
       "      <td>61</td>\n",
       "      <td>1163.223478</td>\n",
       "      <td>55</td>\n",
       "    </tr>\n",
       "    <tr>\n",
       "      <th>312</th>\n",
       "      <td>118</td>\n",
       "      <td>69</td>\n",
       "      <td>1402.703810</td>\n",
       "      <td>53</td>\n",
       "    </tr>\n",
       "    <tr>\n",
       "      <th>313</th>\n",
       "      <td>105</td>\n",
       "      <td>65</td>\n",
       "      <td>1589.591250</td>\n",
       "      <td>43</td>\n",
       "    </tr>\n",
       "    <tr>\n",
       "      <th>314</th>\n",
       "      <td>59</td>\n",
       "      <td>65</td>\n",
       "      <td>2339.931250</td>\n",
       "      <td>25</td>\n",
       "    </tr>\n",
       "    <tr>\n",
       "      <th>315</th>\n",
       "      <td>125</td>\n",
       "      <td>61</td>\n",
       "      <td>1650.959186</td>\n",
       "      <td>68</td>\n",
       "    </tr>\n",
       "    <tr>\n",
       "      <th>316</th>\n",
       "      <td>137</td>\n",
       "      <td>70</td>\n",
       "      <td>1038.302424</td>\n",
       "      <td>41</td>\n",
       "    </tr>\n",
       "    <tr>\n",
       "      <th>317</th>\n",
       "      <td>96</td>\n",
       "      <td>71</td>\n",
       "      <td>1016.436441</td>\n",
       "      <td>53</td>\n",
       "    </tr>\n",
       "    <tr>\n",
       "      <th>318</th>\n",
       "      <td>120</td>\n",
       "      <td>73</td>\n",
       "      <td>1204.108118</td>\n",
       "      <td>54</td>\n",
       "    </tr>\n",
       "    <tr>\n",
       "      <th>319</th>\n",
       "      <td>47</td>\n",
       "      <td>74</td>\n",
       "      <td>1273.700000</td>\n",
       "      <td>18</td>\n",
       "    </tr>\n",
       "    <tr>\n",
       "      <th>320</th>\n",
       "      <td>11</td>\n",
       "      <td>71</td>\n",
       "      <td>510.287222</td>\n",
       "      <td>7</td>\n",
       "    </tr>\n",
       "    <tr>\n",
       "      <th>321</th>\n",
       "      <td>126</td>\n",
       "      <td>72</td>\n",
       "      <td>1405.367315</td>\n",
       "      <td>84</td>\n",
       "    </tr>\n",
       "    <tr>\n",
       "      <th>322</th>\n",
       "      <td>115</td>\n",
       "      <td>72</td>\n",
       "      <td>1002.896296</td>\n",
       "      <td>54</td>\n",
       "    </tr>\n",
       "    <tr>\n",
       "      <th>323</th>\n",
       "      <td>106</td>\n",
       "      <td>75</td>\n",
       "      <td>669.869579</td>\n",
       "      <td>40</td>\n",
       "    </tr>\n",
       "    <tr>\n",
       "      <th>324</th>\n",
       "      <td>114</td>\n",
       "      <td>87</td>\n",
       "      <td>505.547528</td>\n",
       "      <td>37</td>\n",
       "    </tr>\n",
       "    <tr>\n",
       "      <th>325</th>\n",
       "      <td>48</td>\n",
       "      <td>88</td>\n",
       "      <td>1165.320167</td>\n",
       "      <td>15</td>\n",
       "    </tr>\n",
       "    <tr>\n",
       "      <th>326</th>\n",
       "      <td>4</td>\n",
       "      <td>85</td>\n",
       "      <td>1290.833333</td>\n",
       "      <td>11</td>\n",
       "    </tr>\n",
       "    <tr>\n",
       "      <th>327</th>\n",
       "      <td>118</td>\n",
       "      <td>80</td>\n",
       "      <td>819.276034</td>\n",
       "      <td>63</td>\n",
       "    </tr>\n",
       "    <tr>\n",
       "      <th>328</th>\n",
       "      <td>115</td>\n",
       "      <td>72</td>\n",
       "      <td>1067.399688</td>\n",
       "      <td>53</td>\n",
       "    </tr>\n",
       "    <tr>\n",
       "      <th>329</th>\n",
       "      <td>117</td>\n",
       "      <td>71</td>\n",
       "      <td>1320.082673</td>\n",
       "      <td>62</td>\n",
       "    </tr>\n",
       "    <tr>\n",
       "      <th>330</th>\n",
       "      <td>91</td>\n",
       "      <td>76</td>\n",
       "      <td>1085.116667</td>\n",
       "      <td>58</td>\n",
       "    </tr>\n",
       "    <tr>\n",
       "      <th>331</th>\n",
       "      <td>98</td>\n",
       "      <td>58</td>\n",
       "      <td>1333.841364</td>\n",
       "      <td>55</td>\n",
       "    </tr>\n",
       "    <tr>\n",
       "      <th>332</th>\n",
       "      <td>98</td>\n",
       "      <td>65</td>\n",
       "      <td>1333.841364</td>\n",
       "      <td>55</td>\n",
       "    </tr>\n",
       "    <tr>\n",
       "      <th>333</th>\n",
       "      <td>55</td>\n",
       "      <td>53</td>\n",
       "      <td>543.195714</td>\n",
       "      <td>18</td>\n",
       "    </tr>\n",
       "    <tr>\n",
       "      <th>334</th>\n",
       "      <td>5</td>\n",
       "      <td>54</td>\n",
       "      <td>1714.114286</td>\n",
       "      <td>11</td>\n",
       "    </tr>\n",
       "    <tr>\n",
       "      <th>335</th>\n",
       "      <td>155</td>\n",
       "      <td>51</td>\n",
       "      <td>1405.950909</td>\n",
       "      <td>68</td>\n",
       "    </tr>\n",
       "    <tr>\n",
       "      <th>336</th>\n",
       "      <td>146</td>\n",
       "      <td>58</td>\n",
       "      <td>1405.762286</td>\n",
       "      <td>75</td>\n",
       "    </tr>\n",
       "    <tr>\n",
       "      <th>337</th>\n",
       "      <td>121</td>\n",
       "      <td>64</td>\n",
       "      <td>992.519799</td>\n",
       "      <td>63</td>\n",
       "    </tr>\n",
       "    <tr>\n",
       "      <th>338</th>\n",
       "      <td>62</td>\n",
       "      <td>56</td>\n",
       "      <td>864.447761</td>\n",
       "      <td>25</td>\n",
       "    </tr>\n",
       "    <tr>\n",
       "      <th>339</th>\n",
       "      <td>12</td>\n",
       "      <td>70</td>\n",
       "      <td>173.633333</td>\n",
       "      <td>9</td>\n",
       "    </tr>\n",
       "    <tr>\n",
       "      <th>340</th>\n",
       "      <td>121</td>\n",
       "      <td>74</td>\n",
       "      <td>793.345047</td>\n",
       "      <td>50</td>\n",
       "    </tr>\n",
       "    <tr>\n",
       "      <th>341</th>\n",
       "      <td>123</td>\n",
       "      <td>71</td>\n",
       "      <td>1288.510000</td>\n",
       "      <td>64</td>\n",
       "    </tr>\n",
       "    <tr>\n",
       "      <th>342</th>\n",
       "      <td>107</td>\n",
       "      <td>67</td>\n",
       "      <td>1018.203878</td>\n",
       "      <td>66</td>\n",
       "    </tr>\n",
       "    <tr>\n",
       "      <th>343</th>\n",
       "      <td>91</td>\n",
       "      <td>67</td>\n",
       "      <td>1870.448780</td>\n",
       "      <td>51</td>\n",
       "    </tr>\n",
       "  </tbody>\n",
       "</table>\n",
       "</div>"
      ],
      "text/plain": [
       "     Completed Jobs  TMAX    Avg Sales  tech_count\n",
       "300             111    63  1597.616912          39\n",
       "301             131    72  1218.771111          61\n",
       "302             108    74  1418.769895          50\n",
       "303             118    64  1600.403596          70\n",
       "304             116    65  1678.413214          37\n",
       "305              53    72  1225.002424          17\n",
       "306               1    84   326.000000           8\n",
       "307             106    84   821.319479          51\n",
       "308             102    75  1401.394130          49\n",
       "309              50    70  2364.647059          23\n",
       "310             100    54  2631.463014          69\n",
       "311             127    61  1163.223478          55\n",
       "312             118    69  1402.703810          53\n",
       "313             105    65  1589.591250          43\n",
       "314              59    65  2339.931250          25\n",
       "315             125    61  1650.959186          68\n",
       "316             137    70  1038.302424          41\n",
       "317              96    71  1016.436441          53\n",
       "318             120    73  1204.108118          54\n",
       "319              47    74  1273.700000          18\n",
       "320              11    71   510.287222           7\n",
       "321             126    72  1405.367315          84\n",
       "322             115    72  1002.896296          54\n",
       "323             106    75   669.869579          40\n",
       "324             114    87   505.547528          37\n",
       "325              48    88  1165.320167          15\n",
       "326               4    85  1290.833333          11\n",
       "327             118    80   819.276034          63\n",
       "328             115    72  1067.399688          53\n",
       "329             117    71  1320.082673          62\n",
       "330              91    76  1085.116667          58\n",
       "331              98    58  1333.841364          55\n",
       "332              98    65  1333.841364          55\n",
       "333              55    53   543.195714          18\n",
       "334               5    54  1714.114286          11\n",
       "335             155    51  1405.950909          68\n",
       "336             146    58  1405.762286          75\n",
       "337             121    64   992.519799          63\n",
       "338              62    56   864.447761          25\n",
       "339              12    70   173.633333           9\n",
       "340             121    74   793.345047          50\n",
       "341             123    71  1288.510000          64\n",
       "342             107    67  1018.203878          66\n",
       "343              91    67  1870.448780          51"
      ]
     },
     "execution_count": 82,
     "metadata": {},
     "output_type": "execute_result"
    }
   ],
   "source": [
    "X_"
   ]
  },
  {
   "cell_type": "code",
   "execution_count": 83,
   "id": "pressed-intranet",
   "metadata": {},
   "outputs": [
    {
     "data": {
      "text/plain": [
       "33702.62257596809"
      ]
     },
     "execution_count": 83,
     "metadata": {},
     "output_type": "execute_result"
    }
   ],
   "source": [
    "from sklearn import metrics\n",
    "\n",
    "np.sqrt(metrics.mean_squared_error(y_,y_pred))"
   ]
  },
  {
   "cell_type": "code",
   "execution_count": null,
   "id": "fifty-range",
   "metadata": {},
   "outputs": [],
   "source": []
  }
 ],
 "metadata": {
  "kernelspec": {
   "display_name": "Python 3",
   "language": "python",
   "name": "python3"
  },
  "language_info": {
   "codemirror_mode": {
    "name": "ipython",
    "version": 3
   },
   "file_extension": ".py",
   "mimetype": "text/x-python",
   "name": "python",
   "nbconvert_exporter": "python",
   "pygments_lexer": "ipython3",
   "version": "3.7.3"
  }
 },
 "nbformat": 4,
 "nbformat_minor": 5
}
