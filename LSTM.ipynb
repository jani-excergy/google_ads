{
 "cells": [
  {
   "cell_type": "code",
   "execution_count": 2,
   "metadata": {},
   "outputs": [
    {
     "name": "stdout",
     "output_type": "stream",
     "text": [
      "Collecting keras\n",
      "  Downloading https://files.pythonhosted.org/packages/44/e1/dc0757b20b56c980b5553c1b5c4c32d378c7055ab7bfa92006801ad359ab/Keras-2.4.3-py2.py3-none-any.whl\n",
      "Requirement already satisfied: numpy>=1.9.1 in c:\\users\\vksva\\anaconda3\\lib\\site-packages (from keras) (1.16.4)\n",
      "Requirement already satisfied: pyyaml in c:\\users\\vksva\\anaconda3\\lib\\site-packages (from keras) (5.1.1)\n",
      "Requirement already satisfied: h5py in c:\\users\\vksva\\anaconda3\\lib\\site-packages (from keras) (2.10.0)\n",
      "Requirement already satisfied: scipy>=0.14 in c:\\users\\vksva\\anaconda3\\lib\\site-packages (from keras) (1.5.2)\n",
      "Requirement already satisfied: six in c:\\users\\vksva\\anaconda3\\lib\\site-packages (from h5py->keras) (1.12.0)\n",
      "Installing collected packages: keras\n",
      "Successfully installed keras-2.4.3\n"
     ]
    }
   ],
   "source": [
    "!pip install keras\n"
   ]
  },
  {
   "cell_type": "code",
   "execution_count": 1,
   "metadata": {
    "id": "4bbviWq0ZFGs"
   },
   "outputs": [
    {
     "ename": "ModuleNotFoundError",
     "evalue": "No module named 'keras'",
     "output_type": "error",
     "traceback": [
      "\u001b[1;31m---------------------------------------------------------------------------\u001b[0m",
      "\u001b[1;31mModuleNotFoundError\u001b[0m                       Traceback (most recent call last)",
      "\u001b[1;32m<ipython-input-1-e03fdc39745b>\u001b[0m in \u001b[0;36m<module>\u001b[1;34m\u001b[0m\n\u001b[0;32m      2\u001b[0m \u001b[1;32mimport\u001b[0m \u001b[0mpandas\u001b[0m \u001b[1;32mas\u001b[0m \u001b[0mpd\u001b[0m\u001b[1;33m\u001b[0m\u001b[1;33m\u001b[0m\u001b[0m\n\u001b[0;32m      3\u001b[0m \u001b[1;32mfrom\u001b[0m \u001b[0msklearn\u001b[0m\u001b[1;33m.\u001b[0m\u001b[0mpreprocessing\u001b[0m \u001b[1;32mimport\u001b[0m \u001b[0mMinMaxScaler\u001b[0m\u001b[1;33m,\u001b[0m \u001b[0mStandardScaler\u001b[0m\u001b[1;33m\u001b[0m\u001b[1;33m\u001b[0m\u001b[0m\n\u001b[1;32m----> 4\u001b[1;33m \u001b[1;32mfrom\u001b[0m \u001b[0mkeras\u001b[0m\u001b[1;33m.\u001b[0m\u001b[0mpreprocessing\u001b[0m\u001b[1;33m.\u001b[0m\u001b[0msequence\u001b[0m \u001b[1;32mimport\u001b[0m \u001b[0mTimeseriesGenerator\u001b[0m\u001b[1;33m\u001b[0m\u001b[1;33m\u001b[0m\u001b[0m\n\u001b[0m\u001b[0;32m      5\u001b[0m \u001b[1;32mfrom\u001b[0m \u001b[0msklearn\u001b[0m\u001b[1;33m.\u001b[0m\u001b[0mmodel_selection\u001b[0m \u001b[1;32mimport\u001b[0m \u001b[0mtrain_test_split\u001b[0m\u001b[1;33m\u001b[0m\u001b[1;33m\u001b[0m\u001b[0m\n\u001b[0;32m      6\u001b[0m \u001b[1;32mimport\u001b[0m \u001b[0mmatplotlib\u001b[0m\u001b[1;33m.\u001b[0m\u001b[0mpyplot\u001b[0m \u001b[1;32mas\u001b[0m \u001b[0mplt\u001b[0m\u001b[1;33m\u001b[0m\u001b[1;33m\u001b[0m\u001b[0m\n",
      "\u001b[1;31mModuleNotFoundError\u001b[0m: No module named 'keras'"
     ]
    }
   ],
   "source": [
    "# importing necessary lib\n",
    "import pandas as pd\n",
    "from sklearn.preprocessing import MinMaxScaler, StandardScaler\n",
    "from keras.preprocessing.sequence import TimeseriesGenerator\n",
    "from sklearn.model_selection import train_test_split\n",
    "import matplotlib.pyplot as plt\n",
    "import tensorflow as tf\n",
    "import numpy as np"
   ]
  },
  {
   "cell_type": "code",
   "execution_count": null,
   "metadata": {
    "id": "X9C_Vr0dZ5dx"
   },
   "outputs": [],
   "source": [
    "df=pd.read_excel('final.xlsx')"
   ]
  },
  {
   "cell_type": "code",
   "execution_count": null,
   "metadata": {
    "colab": {
     "base_uri": "https://localhost:8080/",
     "height": 340
    },
    "id": "_oALK4ogZ-5-",
    "outputId": "01bfe458-3464-4af7-bec3-62c6088ea8ad"
   },
   "outputs": [],
   "source": [
    "df.head()"
   ]
  },
  {
   "cell_type": "code",
   "execution_count": null,
   "metadata": {
    "id": "xhX2Up6taAKV"
   },
   "outputs": [],
   "source": [
    "df= df.drop(['Unnamed: 0'],axis=1)"
   ]
  },
  {
   "cell_type": "code",
   "execution_count": null,
   "metadata": {
    "colab": {
     "base_uri": "https://localhost:8080/",
     "height": 323
    },
    "id": "bS-mkHizaJo6",
    "outputId": "0ab3369d-1563-4b29-8832-2be8fba9ace1"
   },
   "outputs": [],
   "source": [
    "df.head()"
   ]
  },
  {
   "cell_type": "code",
   "execution_count": null,
   "metadata": {
    "colab": {
     "base_uri": "https://localhost:8080/"
    },
    "id": "DRzrExdwaLRQ",
    "outputId": "166b915b-b7e3-4864-ee5c-5363051228db"
   },
   "outputs": [
    {
     "data": {
      "text/plain": [
       "Day                         object\n",
       "Day of week                  int64\n",
       "Cost                       float64\n",
       "Impressions                  int64\n",
       "Clicks                       int64\n",
       "CTR                        float64\n",
       "Avg. CPC                   float64\n",
       "Conversions                float64\n",
       "Conv. rate                 float64\n",
       "Cost / conv.               float64\n",
       "Search Impr. share         float64\n",
       "Search Lost IS (rank)      float64\n",
       "Search Lost IS (budget)    float64\n",
       "Zip                          int64\n",
       "Income                     float64\n",
       "lat                        float64\n",
       "lng                        float64\n",
       "dtype: object"
      ]
     },
     "execution_count": 302,
     "metadata": {
      "tags": []
     },
     "output_type": "execute_result"
    }
   ],
   "source": [
    "df.dtypes"
   ]
  },
  {
   "cell_type": "code",
   "execution_count": null,
   "metadata": {
    "colab": {
     "base_uri": "https://localhost:8080/"
    },
    "id": "u7RR5aN4aUPk",
    "outputId": "a84794c1-8468-4614-9344-d3b7a9f80ca8"
   },
   "outputs": [
    {
     "data": {
      "text/plain": [
       "0"
      ]
     },
     "execution_count": 303,
     "metadata": {
      "tags": []
     },
     "output_type": "execute_result"
    }
   ],
   "source": [
    "np.isnan(df['Search Impr. share']).sum()"
   ]
  },
  {
   "cell_type": "code",
   "execution_count": null,
   "metadata": {
    "id": "3RGcxaCKabSJ"
   },
   "outputs": [],
   "source": [
    "df['Day']=pd.to_datetime(df['Day'],infer_datetime_format=True)"
   ]
  },
  {
   "cell_type": "code",
   "execution_count": null,
   "metadata": {
    "colab": {
     "base_uri": "https://localhost:8080/",
     "height": 741
    },
    "id": "eZQsOMe8bYRX",
    "outputId": "d994ec6f-7cf4-458d-f1b0-aa0be86ab81d"
   },
   "outputs": [
    {
     "data": {
      "text/plain": [
       "array([<matplotlib.axes._subplots.AxesSubplot object at 0x7febdc3bc358>,\n",
       "       <matplotlib.axes._subplots.AxesSubplot object at 0x7febe5376c50>,\n",
       "       <matplotlib.axes._subplots.AxesSubplot object at 0x7febdc4686a0>,\n",
       "       <matplotlib.axes._subplots.AxesSubplot object at 0x7febdf48ae48>,\n",
       "       <matplotlib.axes._subplots.AxesSubplot object at 0x7febe1b8fcc0>,\n",
       "       <matplotlib.axes._subplots.AxesSubplot object at 0x7febe5074710>,\n",
       "       <matplotlib.axes._subplots.AxesSubplot object at 0x7febe4ffd828>,\n",
       "       <matplotlib.axes._subplots.AxesSubplot object at 0x7febe1443400>],\n",
       "      dtype=object)"
      ]
     },
     "execution_count": 305,
     "metadata": {
      "tags": []
     },
     "output_type": "execute_result"
    },
    {
     "data": {
      "text/plain": [
       "<Figure size 1440x720 with 0 Axes>"
      ]
     },
     "metadata": {
      "tags": []
     },
     "output_type": "display_data"
    },
    {
     "data": {
      "image/png": "[encoded data removed]",
      "text/plain": [
       "<Figure size 1440x720 with 8 Axes>"
      ]
     },
     "metadata": {
      "needs_background": "light",
      "tags": []
     },
     "output_type": "display_data"
    }
   ],
   "source": [
    "plt.figure(figsize=(20,10))\n",
    "\n",
    "df.set_index('Day')[['Cost','Search Lost IS (budget)','Search Impr. share','Search Lost IS (rank)','Impressions','lat','lng','Income']].plot(subplots=True,figsize=(20,10))"
   ]
  },
  {
   "cell_type": "code",
   "execution_count": null,
   "metadata": {
    "id": "fSWjDT4ccb9R"
   },
   "outputs": [],
   "source": [
    "df_input= df.drop(['Day','Impressions','Conversions','Zip'],axis=1)"
   ]
  },
  {
   "cell_type": "code",
   "execution_count": null,
   "metadata": {
    "colab": {
     "base_uri": "https://localhost:8080/",
     "height": 221
    },
    "id": "yZ-om0-sbtAO",
    "outputId": "db78d64d-49cc-448c-adc1-5159e4e9b3dd"
   },
   "outputs": [
    {
     "data": {
      "text/html": [
       "<div>\n",
       "<style scoped>\n",
       "    .dataframe tbody tr th:only-of-type {\n",
       "        vertical-align: middle;\n",
       "    }\n",
       "\n",
       "    .dataframe tbody tr th {\n",
       "        vertical-align: top;\n",
       "    }\n",
       "\n",
       "    .dataframe thead th {\n",
       "        text-align: right;\n",
       "    }\n",
       "</style>\n",
       "<table border=\"1\" class=\"dataframe\">\n",
       "  <thead>\n",
       "    <tr style=\"text-align: right;\">\n",
       "      <th></th>\n",
       "      <th>Day of week</th>\n",
       "      <th>Cost</th>\n",
       "      <th>Clicks</th>\n",
       "      <th>CTR</th>\n",
       "      <th>Avg. CPC</th>\n",
       "      <th>Conv. rate</th>\n",
       "      <th>Cost / conv.</th>\n",
       "      <th>Search Impr. share</th>\n",
       "      <th>Search Lost IS (rank)</th>\n",
       "      <th>Search Lost IS (budget)</th>\n",
       "      <th>Income</th>\n",
       "      <th>lat</th>\n",
       "      <th>lng</th>\n",
       "    </tr>\n",
       "  </thead>\n",
       "  <tbody>\n",
       "    <tr>\n",
       "      <th>0</th>\n",
       "      <td>2</td>\n",
       "      <td>1298.05</td>\n",
       "      <td>54</td>\n",
       "      <td>0.0012</td>\n",
       "      <td>24.04</td>\n",
       "      <td>0.0540</td>\n",
       "      <td>86.54</td>\n",
       "      <td>0.3500</td>\n",
       "      <td>0.0935</td>\n",
       "      <td>0.5565</td>\n",
       "      <td>104993.5</td>\n",
       "      <td>34.479332</td>\n",
       "      <td>-117.397422</td>\n",
       "    </tr>\n",
       "    <tr>\n",
       "      <th>1</th>\n",
       "      <td>3</td>\n",
       "      <td>1480.26</td>\n",
       "      <td>59</td>\n",
       "      <td>0.0266</td>\n",
       "      <td>25.09</td>\n",
       "      <td>0.1712</td>\n",
       "      <td>146.56</td>\n",
       "      <td>0.5233</td>\n",
       "      <td>0.1120</td>\n",
       "      <td>0.3647</td>\n",
       "      <td>40865.2</td>\n",
       "      <td>33.963074</td>\n",
       "      <td>-118.274809</td>\n",
       "    </tr>\n",
       "    <tr>\n",
       "      <th>2</th>\n",
       "      <td>4</td>\n",
       "      <td>1953.52</td>\n",
       "      <td>110</td>\n",
       "      <td>0.0030</td>\n",
       "      <td>17.76</td>\n",
       "      <td>0.0295</td>\n",
       "      <td>85.93</td>\n",
       "      <td>0.6041</td>\n",
       "      <td>0.2028</td>\n",
       "      <td>0.1931</td>\n",
       "      <td>91188.0</td>\n",
       "      <td>33.711551</td>\n",
       "      <td>-116.236141</td>\n",
       "    </tr>\n",
       "    <tr>\n",
       "      <th>3</th>\n",
       "      <td>5</td>\n",
       "      <td>2507.57</td>\n",
       "      <td>123</td>\n",
       "      <td>0.0068</td>\n",
       "      <td>20.39</td>\n",
       "      <td>0.0127</td>\n",
       "      <td>85.00</td>\n",
       "      <td>0.7161</td>\n",
       "      <td>0.1884</td>\n",
       "      <td>0.0955</td>\n",
       "      <td>55627.0</td>\n",
       "      <td>33.601873</td>\n",
       "      <td>-117.866850</td>\n",
       "    </tr>\n",
       "    <tr>\n",
       "      <th>4</th>\n",
       "      <td>6</td>\n",
       "      <td>1591.91</td>\n",
       "      <td>88</td>\n",
       "      <td>0.0058</td>\n",
       "      <td>18.09</td>\n",
       "      <td>0.0087</td>\n",
       "      <td>96.48</td>\n",
       "      <td>0.7447</td>\n",
       "      <td>0.2129</td>\n",
       "      <td>0.0424</td>\n",
       "      <td>12713.0</td>\n",
       "      <td>33.638018</td>\n",
       "      <td>-117.088880</td>\n",
       "    </tr>\n",
       "  </tbody>\n",
       "</table>\n",
       "</div>"
      ],
      "text/plain": [
       "   Day of week     Cost  Clicks  ...    Income        lat         lng\n",
       "0            2  1298.05      54  ...  104993.5  34.479332 -117.397422\n",
       "1            3  1480.26      59  ...   40865.2  33.963074 -118.274809\n",
       "2            4  1953.52     110  ...   91188.0  33.711551 -116.236141\n",
       "3            5  2507.57     123  ...   55627.0  33.601873 -117.866850\n",
       "4            6  1591.91      88  ...   12713.0  33.638018 -117.088880\n",
       "\n",
       "[5 rows x 13 columns]"
      ]
     },
     "execution_count": 307,
     "metadata": {
      "tags": []
     },
     "output_type": "execute_result"
    }
   ],
   "source": [
    "df_input.head()"
   ]
  },
  {
   "cell_type": "code",
   "execution_count": null,
   "metadata": {
    "id": "0i6fxxHj7SVz"
   },
   "outputs": [],
   "source": [
    "df_input= df_input.drop(['Income'],axis=1)"
   ]
  },
  {
   "cell_type": "code",
   "execution_count": null,
   "metadata": {
    "colab": {
     "base_uri": "https://localhost:8080/",
     "height": 314
    },
    "id": "VIknWbwud2JK",
    "outputId": "d4262c31-0ce7-4c05-ab44-9402e80373ab"
   },
   "outputs": [
    {
     "data": {
      "text/html": [
       "<div>\n",
       "<style scoped>\n",
       "    .dataframe tbody tr th:only-of-type {\n",
       "        vertical-align: middle;\n",
       "    }\n",
       "\n",
       "    .dataframe tbody tr th {\n",
       "        vertical-align: top;\n",
       "    }\n",
       "\n",
       "    .dataframe thead th {\n",
       "        text-align: right;\n",
       "    }\n",
       "</style>\n",
       "<table border=\"1\" class=\"dataframe\">\n",
       "  <thead>\n",
       "    <tr style=\"text-align: right;\">\n",
       "      <th></th>\n",
       "      <th>Day of week</th>\n",
       "      <th>Cost</th>\n",
       "      <th>Clicks</th>\n",
       "      <th>CTR</th>\n",
       "      <th>Avg. CPC</th>\n",
       "      <th>Conv. rate</th>\n",
       "      <th>Cost / conv.</th>\n",
       "      <th>Search Impr. share</th>\n",
       "      <th>Search Lost IS (rank)</th>\n",
       "      <th>Search Lost IS (budget)</th>\n",
       "      <th>lat</th>\n",
       "      <th>lng</th>\n",
       "    </tr>\n",
       "  </thead>\n",
       "  <tbody>\n",
       "    <tr>\n",
       "      <th>count</th>\n",
       "      <td>758.000000</td>\n",
       "      <td>758.000000</td>\n",
       "      <td>758.000000</td>\n",
       "      <td>758.000000</td>\n",
       "      <td>758.000000</td>\n",
       "      <td>758.000000</td>\n",
       "      <td>758.000000</td>\n",
       "      <td>758.000000</td>\n",
       "      <td>758.000000</td>\n",
       "      <td>758.000000</td>\n",
       "      <td>758.000000</td>\n",
       "      <td>758.000000</td>\n",
       "    </tr>\n",
       "    <tr>\n",
       "      <th>mean</th>\n",
       "      <td>2.984169</td>\n",
       "      <td>2515.763654</td>\n",
       "      <td>285.444591</td>\n",
       "      <td>0.016899</td>\n",
       "      <td>12.271794</td>\n",
       "      <td>0.034097</td>\n",
       "      <td>141.187982</td>\n",
       "      <td>0.482545</td>\n",
       "      <td>0.268834</td>\n",
       "      <td>0.247692</td>\n",
       "      <td>33.891226</td>\n",
       "      <td>-117.727634</td>\n",
       "    </tr>\n",
       "    <tr>\n",
       "      <th>std</th>\n",
       "      <td>1.994646</td>\n",
       "      <td>1616.074662</td>\n",
       "      <td>528.731751</td>\n",
       "      <td>0.013119</td>\n",
       "      <td>6.970429</td>\n",
       "      <td>0.044514</td>\n",
       "      <td>114.801211</td>\n",
       "      <td>0.158159</td>\n",
       "      <td>0.094313</td>\n",
       "      <td>0.216787</td>\n",
       "      <td>0.184320</td>\n",
       "      <td>0.573285</td>\n",
       "    </tr>\n",
       "    <tr>\n",
       "      <th>min</th>\n",
       "      <td>0.000000</td>\n",
       "      <td>0.320000</td>\n",
       "      <td>1.000000</td>\n",
       "      <td>0.001000</td>\n",
       "      <td>0.320000</td>\n",
       "      <td>0.000000</td>\n",
       "      <td>0.000000</td>\n",
       "      <td>0.090000</td>\n",
       "      <td>0.014200</td>\n",
       "      <td>0.000000</td>\n",
       "      <td>33.193842</td>\n",
       "      <td>-118.794997</td>\n",
       "    </tr>\n",
       "    <tr>\n",
       "      <th>25%</th>\n",
       "      <td>1.000000</td>\n",
       "      <td>1382.945000</td>\n",
       "      <td>136.250000</td>\n",
       "      <td>0.007725</td>\n",
       "      <td>6.395000</td>\n",
       "      <td>0.004500</td>\n",
       "      <td>98.520000</td>\n",
       "      <td>0.376075</td>\n",
       "      <td>0.206350</td>\n",
       "      <td>0.063475</td>\n",
       "      <td>33.773840</td>\n",
       "      <td>-118.113064</td>\n",
       "    </tr>\n",
       "    <tr>\n",
       "      <th>50%</th>\n",
       "      <td>3.000000</td>\n",
       "      <td>2113.960000</td>\n",
       "      <td>194.000000</td>\n",
       "      <td>0.014400</td>\n",
       "      <td>11.355000</td>\n",
       "      <td>0.015650</td>\n",
       "      <td>123.565000</td>\n",
       "      <td>0.486000</td>\n",
       "      <td>0.280150</td>\n",
       "      <td>0.194650</td>\n",
       "      <td>33.881785</td>\n",
       "      <td>-117.855683</td>\n",
       "    </tr>\n",
       "    <tr>\n",
       "      <th>75%</th>\n",
       "      <td>5.000000</td>\n",
       "      <td>3246.420000</td>\n",
       "      <td>304.750000</td>\n",
       "      <td>0.023675</td>\n",
       "      <td>17.245000</td>\n",
       "      <td>0.043975</td>\n",
       "      <td>161.420000</td>\n",
       "      <td>0.613900</td>\n",
       "      <td>0.334850</td>\n",
       "      <td>0.390100</td>\n",
       "      <td>34.006995</td>\n",
       "      <td>-117.456053</td>\n",
       "    </tr>\n",
       "    <tr>\n",
       "      <th>max</th>\n",
       "      <td>6.000000</td>\n",
       "      <td>10759.230000</td>\n",
       "      <td>10861.000000</td>\n",
       "      <td>0.134700</td>\n",
       "      <td>36.160000</td>\n",
       "      <td>0.280900</td>\n",
       "      <td>2194.290000</td>\n",
       "      <td>0.867900</td>\n",
       "      <td>0.604000</td>\n",
       "      <td>0.863600</td>\n",
       "      <td>35.027036</td>\n",
       "      <td>-116.236141</td>\n",
       "    </tr>\n",
       "  </tbody>\n",
       "</table>\n",
       "</div>"
      ],
      "text/plain": [
       "       Day of week          Cost  ...         lat         lng\n",
       "count   758.000000    758.000000  ...  758.000000  758.000000\n",
       "mean      2.984169   2515.763654  ...   33.891226 -117.727634\n",
       "std       1.994646   1616.074662  ...    0.184320    0.573285\n",
       "min       0.000000      0.320000  ...   33.193842 -118.794997\n",
       "25%       1.000000   1382.945000  ...   33.773840 -118.113064\n",
       "50%       3.000000   2113.960000  ...   33.881785 -117.855683\n",
       "75%       5.000000   3246.420000  ...   34.006995 -117.456053\n",
       "max       6.000000  10759.230000  ...   35.027036 -116.236141\n",
       "\n",
       "[8 rows x 12 columns]"
      ]
     },
     "execution_count": 309,
     "metadata": {
      "tags": []
     },
     "output_type": "execute_result"
    }
   ],
   "source": [
    "df_input.describe()"
   ]
  },
  {
   "cell_type": "code",
   "execution_count": null,
   "metadata": {
    "id": "RFAbARzT7d8R"
   },
   "outputs": [],
   "source": [
    "df_input['Target']=df['Income']"
   ]
  },
  {
   "cell_type": "code",
   "execution_count": null,
   "metadata": {
    "colab": {
     "base_uri": "https://localhost:8080/"
    },
    "id": "DPSwuPNY5eTp",
    "outputId": "0d31441f-2045-4d69-9c44-ae47efd0cd85"
   },
   "outputs": [
    {
     "data": {
      "text/plain": [
       "Day of week                  int64\n",
       "Cost                       float64\n",
       "Clicks                       int64\n",
       "CTR                        float64\n",
       "Avg. CPC                   float64\n",
       "Conv. rate                 float64\n",
       "Cost / conv.               float64\n",
       "Search Impr. share         float64\n",
       "Search Lost IS (rank)      float64\n",
       "Search Lost IS (budget)    float64\n",
       "lat                        float64\n",
       "lng                        float64\n",
       "Target                     float64\n",
       "dtype: object"
      ]
     },
     "execution_count": 311,
     "metadata": {
      "tags": []
     },
     "output_type": "execute_result"
    }
   ],
   "source": [
    "df_input.dtypes"
   ]
  },
  {
   "cell_type": "code",
   "execution_count": null,
   "metadata": {
    "id": "e7DoaoRFeSkK"
   },
   "outputs": [],
   "source": [
    "scaler= MinMaxScaler()\n",
    "data_scaled= scaler.fit_transform(df_input)"
   ]
  },
  {
   "cell_type": "code",
   "execution_count": null,
   "metadata": {
    "id": "iQmiF5Ib5dgs"
   },
   "outputs": [],
   "source": []
  },
  {
   "cell_type": "code",
   "execution_count": null,
   "metadata": {
    "colab": {
     "base_uri": "https://localhost:8080/"
    },
    "id": "eUQfMBDtfAZi",
    "outputId": "35762165-cb06-47fb-ed9b-078e9b0774c0"
   },
   "outputs": [
    {
     "data": {
      "text/plain": [
       "array([[0.33333333, 0.1206191 , 0.00488029, ..., 0.70122966, 0.5461718 ,\n",
       "        0.3058341 ],\n",
       "       [0.5       , 0.13755483, 0.0053407 , ..., 0.41961298, 0.20328928,\n",
       "        0.11903567],\n",
       "       [0.66666667, 0.18154255, 0.01003683, ..., 0.28240819, 1.        ,\n",
       "        0.26562025],\n",
       "       ...,\n",
       "       [0.16666667, 0.24931894, 0.01197053, ..., 0.3982399 , 0.23201931,\n",
       "        0.31734839],\n",
       "       [0.33333333, 0.35138876, 0.01712707, ..., 0.24701423, 0.34309824,\n",
       "        0.44328264],\n",
       "       [0.5       , 0.41444161, 0.01565378, ..., 0.5790331 , 0.14535285,\n",
       "        0.18314013]])"
      ]
     },
     "execution_count": 313,
     "metadata": {
      "tags": []
     },
     "output_type": "execute_result"
    }
   ],
   "source": [
    "data_scaled"
   ]
  },
  {
   "cell_type": "code",
   "execution_count": null,
   "metadata": {
    "id": "oDHaDCtWfCPK"
   },
   "outputs": [],
   "source": [
    "dependent= data_scaled\n",
    "independent=data_scaled[:,-1]"
   ]
  },
  {
   "cell_type": "code",
   "execution_count": null,
   "metadata": {
    "colab": {
     "base_uri": "https://localhost:8080/"
    },
    "id": "x2Jvaklzfae5",
    "outputId": "b75482e4-e74d-4cf4-9dee-5b8abda6cdd6"
   },
   "outputs": [
    {
     "data": {
      "text/plain": [
       "array([3.05834097e-01, 1.19035669e-01, 2.65620249e-01, 1.62035110e-01,\n",
       "       3.70315198e-02, 3.27667634e-01, 2.53384380e-01, 1.56500627e-01,\n",
       "       3.56150853e-01, 1.19821566e-01, 8.61922970e-02, 9.48843488e-02,\n",
       "       2.96860952e-01, 1.38962140e-01, 1.67428959e-01, 2.26115689e-01,\n",
       "       2.06442057e-01, 2.35550527e-01, 1.49285408e-03, 2.50138260e-01,\n",
       "       2.92579009e-01, 3.34084722e-01, 1.28222329e-01, 2.36844868e-01,\n",
       "       1.39838919e-01, 8.68331319e-03, 2.95826877e-01, 1.61016182e-01,\n",
       "       8.99226844e-02, 1.61726344e-01, 1.28859232e-01, 1.29279707e-01,\n",
       "       1.02213170e-02, 3.62223055e-01, 4.16431136e-01, 1.27991046e-01,\n",
       "       1.91139502e-01, 2.89974744e-01, 9.73894308e-02, 6.68507339e-03,\n",
       "       2.68072899e-01, 1.89253408e-01, 1.89253408e-01, 4.52120689e-01,\n",
       "       1.94315713e-01, 1.19786611e-01, 1.21997492e-01, 2.40021807e-03,\n",
       "       2.77130810e-01, 2.52889772e-01, 1.88259823e-01, 4.01238979e-01,\n",
       "       3.59638743e-01, 1.42282830e-01, 2.18670353e-02, 3.73037290e-01,\n",
       "       1.86281973e-01, 4.24106008e-01, 2.82704326e-01, 1.67773495e-01,\n",
       "       1.14610413e-01, 7.61719691e-03, 1.61427861e-01, 3.53455414e-01,\n",
       "       1.84525503e-01, 1.50049458e-01, 1.38187283e-01, 1.82544740e-01,\n",
       "       1.25953191e-03, 2.49109837e-01, 2.89456162e-01, 8.98285982e-02,\n",
       "       1.46784841e-01, 3.35596073e-01, 1.38603855e-01, 1.11928810e-01,\n",
       "       4.12221141e-01, 2.67663755e-01, 2.32738573e-01, 1.25275654e-01,\n",
       "       2.33150746e-01, 1.52844955e-01, 2.75267728e-03, 3.50452665e-01,\n",
       "       3.86086437e-01, 2.03518685e-01, 2.05367639e-01, 4.35899992e-01,\n",
       "       1.75417636e-01, 2.95687059e-02, 3.59675591e-01, 3.46881613e-01,\n",
       "       5.85827837e-01, 1.62457770e-01, 2.98321473e-01, 1.18895268e-01,\n",
       "       8.00169786e-03, 3.98950178e-01, 6.41659268e-01, 2.36532898e-01,\n",
       "       2.10102972e-01, 6.73677420e-02, 9.16597840e-02, 6.57088826e-03,\n",
       "       6.95695780e-01, 3.41319748e-01, 3.78945497e-01, 1.86785320e-01,\n",
       "       1.86785320e-01, 3.43830802e-01, 6.78645639e-02, 2.29978759e-01,\n",
       "       2.26948192e-01, 2.26948192e-01, 2.90710102e-01, 3.90996689e-01,\n",
       "       4.41260867e-01, 2.49727543e-01, 4.63265391e-03, 3.41982546e-01,\n",
       "       1.74383999e-01, 3.40281741e-01, 4.55026730e-01, 2.11348522e-01,\n",
       "       2.03811721e-01, 3.19368822e-03, 2.53609401e-01, 2.20093589e-01,\n",
       "       6.27615662e-01, 2.37402860e-01, 1.52137852e-01, 1.60763344e-01,\n",
       "       3.08232859e-01, 1.35037900e-01, 5.11234360e-01, 2.42363913e-01,\n",
       "       1.23363402e-01, 6.79762730e-02, 1.75297480e-02, 4.36895616e-01,\n",
       "       2.73907672e-01, 8.42361484e-02, 1.48951591e-01, 2.29621930e-01,\n",
       "       1.23331594e-01, 3.17468164e-02, 4.02997575e-01, 1.91510603e-01,\n",
       "       1.71499659e-01, 3.99160343e-01, 9.88554863e-02, 4.29941975e-03,\n",
       "       3.26237990e-01, 2.04502658e-01, 4.94560739e-01, 3.90661124e-01,\n",
       "       2.33448851e-01, 1.15721096e-01, 2.83918999e-02, 6.69540976e-01,\n",
       "       9.95859507e-01, 7.04363946e-01, 5.12725321e-01, 4.67990529e-01,\n",
       "       2.36847926e-01, 4.39175823e-02, 4.52020922e-01, 5.13030621e-01,\n",
       "       4.07277683e-01, 5.91490633e-01, 4.16733056e-01, 2.85137751e-01,\n",
       "       7.22952091e-02, 5.78074462e-01, 3.80836542e-01, 3.91348420e-01,\n",
       "       3.23611003e-01, 3.73507430e-01, 1.12053627e-01, 1.40224585e-01,\n",
       "       6.09659322e-01, 5.12330480e-01, 2.69591095e-01, 4.15377545e-03,\n",
       "       3.97243082e-01, 3.02162987e-01, 1.69821254e-02, 6.24213848e-01,\n",
       "       5.17256170e-01, 3.35704374e-01, 4.12174827e-01, 3.31174166e-01,\n",
       "       5.09845933e-01, 2.10433876e-01, 3.54245389e-01, 7.86528159e-01,\n",
       "       5.19632939e-01, 3.45652957e-01, 3.56077594e-01, 3.57578895e-01,\n",
       "       7.01495773e-03, 3.96545445e-01, 4.57975590e-01, 4.73043366e-01,\n",
       "       6.83141969e-01, 5.11728532e-01, 6.21820621e-01, 1.82201020e-02,\n",
       "       6.45357323e-01, 6.33583583e-01, 4.31546684e-01, 5.94065478e-01,\n",
       "       4.09409041e-01, 1.79126177e-01, 7.85721872e-03, 5.72626492e-01,\n",
       "       2.00882523e-01, 5.36574575e-01, 4.45576745e-01, 6.12997490e-01,\n",
       "       2.16900483e-01, 2.16900483e-01, 1.25399743e-02, 3.99232583e-01,\n",
       "       2.13848070e-01, 1.07500641e-01, 3.07869913e-01, 2.75559016e-01,\n",
       "       1.50466292e-01, 9.94677749e-03, 1.76826017e-01, 2.60885062e-01,\n",
       "       2.10713630e-01, 4.23861616e-01, 4.47746990e-01, 7.54903538e-02,\n",
       "       2.51267003e-02, 3.17425199e-01, 5.29565589e-01, 3.33986266e-01,\n",
       "       3.04693702e-01, 4.86630960e-01, 3.27976400e-01, 5.86946531e-03,\n",
       "       6.77495485e-01, 6.15919843e-01, 4.31888365e-01, 4.65263048e-01,\n",
       "       4.22297688e-01, 4.22077183e-03, 5.21071031e-01, 2.74500474e-01,\n",
       "       2.74500474e-01, 3.62676300e-01, 2.24726243e-01, 2.81987464e-01,\n",
       "       1.92730811e-01, 1.18536983e-02, 2.69366395e-01, 2.87650697e-01,\n",
       "       1.94525732e-01, 2.16834652e-01, 1.26399445e-01, 9.49163906e-02,\n",
       "       3.55372093e-03, 3.55372093e-03, 2.12839337e-01, 1.55957082e-01,\n",
       "       1.35229859e-01, 2.25544764e-01, 2.50119035e-01, 1.44362631e-02,\n",
       "       3.96152497e-03, 2.93222087e-01, 1.12877683e-01, 1.91278446e-01,\n",
       "       8.83201602e-02, 2.04486782e-01, 5.44335378e-02, 5.85781376e-03,\n",
       "       6.11395839e-02, 2.41691910e-01, 3.54739123e-01, 1.25849288e-01,\n",
       "       2.08441462e-01, 8.35901868e-02, 8.10947465e-03, 3.35730153e-01,\n",
       "       2.70895195e-01, 2.50484020e-01, 2.12148838e-01, 1.94305751e-01,\n",
       "       8.56416159e-02, 6.70837648e-03, 3.10750146e-01, 2.56015794e-01,\n",
       "       2.40707063e-01, 2.24275328e-01, 5.15221519e-01, 9.53541973e-02,\n",
       "       4.92248606e-03, 3.46754320e-01, 1.12678441e-01, 1.00010446e-01,\n",
       "       2.86077389e-01, 1.41819332e-01, 1.48758176e-02, 1.25762397e-02,\n",
       "       2.90138360e-01, 4.82357582e-01, 6.00207007e-01, 1.80455473e-01,\n",
       "       8.08704542e-02, 6.68907861e-02, 2.47726391e-03, 1.88798707e-01,\n",
       "       1.72978444e-01, 2.97575279e-01, 5.64111252e-02, 5.80771212e-02,\n",
       "       6.72064264e-02, 1.48833911e-03, 7.15186920e-02, 9.74110735e-02,\n",
       "       5.82763626e-02, 1.01803385e-01, 4.22040334e-01, 1.16120453e-01,\n",
       "       1.08650648e-03, 3.11157862e-01, 2.34297636e-01, 1.92718985e-01,\n",
       "       2.97680084e-01, 7.94922805e-02, 6.53721529e-03, 1.72584039e-01,\n",
       "       3.19386241e-01, 3.97295018e-01, 1.16299392e-01, 1.28558447e-01,\n",
       "       8.00152309e-02, 1.24671521e-03, 1.24671521e-03, 1.24671521e-03,\n",
       "       2.87562583e-01, 3.08113343e-01, 2.60599599e-01, 3.04389422e-01,\n",
       "       8.15987340e-02, 1.33651949e-02, 8.39004383e-02, 1.67570118e-01,\n",
       "       2.17999748e-01, 2.17058769e-01, 9.33981944e-02, 2.39659502e-01,\n",
       "       2.29713103e-01, 1.41769288e-02, 7.21315923e-02, 5.48127664e-01,\n",
       "       1.84535115e-01, 6.58845296e-02, 6.74417584e-03, 1.48827415e-01,\n",
       "       1.08594721e-01, 4.00759459e-01, 1.25850453e-01, 4.28468054e-02,\n",
       "       1.08516655e-02, 2.17297655e-01, 1.74940710e-01, 9.53915988e-02,\n",
       "       1.59560817e-01, 2.03866483e-01, 7.02839196e-02, 3.28264776e-02,\n",
       "       2.34615112e-01, 4.91476692e-02, 1.03972437e-01, 1.78493003e-01,\n",
       "       4.73008703e-02, 5.87393367e-02, 1.40010779e-03, 1.89333920e-01,\n",
       "       8.12225930e-02, 6.84486849e-02, 2.65723365e-01, 1.41826526e-01,\n",
       "       3.46569351e-02, 5.64152324e-02, 1.95195929e-01, 1.29387746e-01,\n",
       "       1.62300183e-01, 5.48758304e-02, 1.25738074e-01, 1.25370614e-01,\n",
       "       8.94256004e-04, 2.18863477e-01, 2.89029862e-01, 2.52384794e-01,\n",
       "       1.18178553e-01, 2.46983605e-01, 7.83679939e-03, 1.25661902e-02,\n",
       "       2.40355420e-01, 2.48509782e-01, 2.42578913e-01, 1.02703059e-01,\n",
       "       1.62495288e-01, 2.57284735e-01, 3.24578810e-02, 2.21796870e-01,\n",
       "       1.10335461e-01, 3.37391285e-01, 1.69936546e-01, 2.34379372e-01,\n",
       "       8.18139089e-02, 2.56333969e-04, 1.80130307e-01, 1.16956306e-01,\n",
       "       1.47767561e-01, 1.81221562e-01, 2.47131259e-01, 3.14183885e-02,\n",
       "       3.66557575e-02, 2.14129513e-01, 1.82765129e-01, 7.00182644e-02,\n",
       "       1.84652476e-01, 2.40948105e-01, 9.63340631e-02, 1.05811837e-01,\n",
       "       1.36609169e-01, 1.55292769e-01, 1.06299570e-01, 4.74453786e-02,\n",
       "       1.80040969e-01, 7.42010813e-02, 1.27399439e-02, 1.52877142e-01,\n",
       "       1.15562315e-01, 2.54099290e-01, 1.87450885e-01, 2.89768074e-02,\n",
       "       5.12054775e-02, 1.33701468e-03, 6.58871221e-02, 6.44644103e-02,\n",
       "       2.15358605e-01, 7.30410244e-02, 9.25150073e-02, 3.57818917e-02,\n",
       "       1.24316149e-02, 7.48291287e-02, 2.28403674e-01, 9.14727767e-02,\n",
       "       1.46949769e-01, 1.65245751e-01, 1.12611882e-01, 1.26695977e-03,\n",
       "       1.74788540e-01, 8.56749684e-02, 2.61203149e-01, 1.02429423e-01,\n",
       "       1.82740341e-01, 2.02946594e-01, 2.28375361e-01, 2.36053990e-01,\n",
       "       1.27683445e-01, 1.77098459e-01, 2.31388887e-01, 8.58602280e-02,\n",
       "       5.52178906e-02, 1.56551835e-01, 2.95291460e-01, 2.86881084e-01,\n",
       "       6.95359429e-01, 5.83680865e-01, 6.89777349e-01, 3.64767782e-01,\n",
       "       5.39566896e-01, 6.74781812e-01, 5.84168045e-01, 4.34149173e-01,\n",
       "       3.65878057e-01, 3.44812240e-01, 6.11098142e-02, 6.90657565e-01,\n",
       "       6.90657565e-01, 5.68244433e-01, 4.91894399e-01, 7.57915986e-01,\n",
       "       5.84041276e-01, 5.63974317e-01, 8.85466313e-01, 4.78859118e-01,\n",
       "       6.15211662e-01, 4.44156858e-01, 2.98137728e-01, 3.85522211e-01,\n",
       "       6.13986851e-03, 6.14896196e-01, 5.11550583e-01, 3.67303624e-01,\n",
       "       4.07230960e-01, 4.12149776e-01, 1.91690445e-01, 3.67152969e-02,\n",
       "       0.00000000e+00, 5.65441713e-01, 3.55242994e-01, 4.75302630e-01,\n",
       "       4.13673244e-01, 4.29516140e-01, 1.18248578e-01, 1.28461943e-01,\n",
       "       4.59520031e-01, 2.77219478e-01, 3.34620169e-01, 2.59761969e-01,\n",
       "       3.08673141e-01, 3.07018185e-03, 5.31664848e-01, 5.93451325e-01,\n",
       "       9.05823191e-01, 6.54080455e-01, 4.03389504e-01, 4.53310632e-01,\n",
       "       5.76461015e-02, 4.81370696e-01, 5.17558120e-01, 2.28491730e-01,\n",
       "       2.46760215e-01, 2.07673043e-01, 1.87250100e-01, 2.03639890e-01,\n",
       "       3.04985311e-01, 3.57951075e-01, 5.06584375e-01, 3.72850021e-01,\n",
       "       3.88630726e-01, 1.97708934e-02, 2.58540480e-01, 7.43627639e-01,\n",
       "       3.65317181e-01, 2.40387869e-01, 1.41222947e-01, 2.75059748e-02,\n",
       "       7.79314513e-01, 7.17254078e-01, 6.02718410e-01, 5.81147732e-01,\n",
       "       5.05846250e-01, 4.89962253e-01, 1.16902009e-01, 6.14126087e-01,\n",
       "       7.85812113e-01, 7.23011252e-01, 3.90824071e-01, 4.46997592e-01,\n",
       "       3.36280310e-01, 1.03290938e-02, 3.00273660e-01, 3.73944479e-01,\n",
       "       5.73500678e-01, 2.71795335e-01, 1.38940002e-01, 1.13949188e-01,\n",
       "       3.33088515e-02, 4.26390438e-01, 5.02540357e-01, 2.77345402e-01,\n",
       "       1.88595504e-01, 5.55139068e-01, 3.65752483e-01, 8.05016829e-02,\n",
       "       8.67727070e-01, 4.83955096e-01, 5.30182684e-01, 3.45008045e-01,\n",
       "       4.67818931e-01, 7.38067057e-02, 1.55666376e-02, 4.36812016e-01,\n",
       "       3.27568829e-01, 4.48536703e-01, 5.58935112e-01, 7.76801246e-01,\n",
       "       5.10565300e-01, 2.25244736e-01, 9.99152729e-01, 7.34869465e-01,\n",
       "       5.20464539e-01, 1.00000000e+00, 4.75367500e-01, 2.39886241e-01,\n",
       "       2.92331414e-02, 6.63890851e-01, 6.99826136e-01, 7.65258236e-01,\n",
       "       5.32523683e-01, 3.50946458e-01, 3.06847752e-01, 1.12970458e-02,\n",
       "       5.29063349e-01, 2.58699086e-01, 4.13760893e-01, 4.29176468e-01,\n",
       "       5.12033977e-01, 2.03532667e-01, 2.90448233e-02, 0.00000000e+00,\n",
       "       5.24602789e-01, 9.60639773e-01, 6.75984047e-01, 3.44371608e-01,\n",
       "       2.74062084e-01, 1.22974765e-02, 3.31831430e-01, 6.00621074e-01,\n",
       "       2.68402609e-01, 1.62654390e-01, 2.59885243e-01, 3.40960910e-01,\n",
       "       8.75016392e-03, 2.54579450e-01, 4.11450770e-01, 2.16710417e-01,\n",
       "       3.31342852e-01, 4.07798594e-01, 2.86076050e-01, 2.16630459e-02,\n",
       "       4.83965902e-01, 4.01182323e-01, 3.25646062e-01, 4.74525618e-01,\n",
       "       4.64798559e-01, 2.17951889e-01, 1.04192185e-01, 6.63212003e-01,\n",
       "       3.44130654e-01, 3.85869369e-01, 2.37277548e-01, 3.43014902e-01,\n",
       "       1.07282757e-01, 1.13036289e-02, 2.93145857e-01, 2.26467799e-01,\n",
       "       5.58930102e-01, 2.24193942e-01, 2.68915626e-01, 1.66973704e-01,\n",
       "       6.39494994e-03, 3.00033609e-01, 1.49128432e-01, 2.57674683e-01,\n",
       "       8.11768025e-02, 2.59889000e-01, 2.89377631e-01, 5.12667937e-04,\n",
       "       5.12667937e-04, 3.89982859e-01, 3.83352606e-01, 1.86935858e-01,\n",
       "       2.53563960e-01, 3.18448554e-01, 2.10200641e-01, 3.15368031e-01,\n",
       "       3.02247956e-01, 1.32723495e-01, 1.20533767e-02, 3.76166662e-01,\n",
       "       3.96120717e-01, 5.97197442e-01, 2.28899534e-01, 2.11498915e-01,\n",
       "       1.51088018e-01, 2.57775847e-03, 3.35002776e-01, 4.65465493e-01,\n",
       "       2.86852101e-01, 2.05152610e-01, 2.22480961e-01, 1.06786692e-01,\n",
       "       6.97269175e-03, 3.82171198e-01, 1.96912929e-01, 1.60449743e-01,\n",
       "       0.00000000e+00, 1.37428622e-01, 1.83944033e-01, 1.82404922e-02,\n",
       "       4.63345408e-01, 1.96869673e-01, 3.46971912e-01, 3.49601083e-01,\n",
       "       2.46733737e-01, 2.22109218e-01, 3.42846683e-03, 6.04745458e-01,\n",
       "       2.27939797e-01, 2.52921290e-01, 4.75934843e-01, 2.25667862e-01,\n",
       "       3.36020335e-02, 9.79090896e-03, 3.21346817e-01, 3.53826224e-01,\n",
       "       3.53826224e-01, 2.65603325e-01, 3.66240741e-01, 3.24476014e-01,\n",
       "       1.26731805e-01, 1.05696982e-02, 2.03010852e-01, 1.85412564e-01,\n",
       "       4.01138193e-02, 0.00000000e+00, 6.25058032e-01, 2.75901426e-01,\n",
       "       3.28495185e-01, 2.99616513e-01, 2.03817722e-01, 8.34661270e-03,\n",
       "       4.81999792e-01, 2.85968972e-01, 2.55087399e-01, 3.46148002e-01,\n",
       "       2.70490070e-01, 4.82359650e-02, 4.82359650e-02, 9.72947620e-03,\n",
       "       4.70094565e-01, 3.03514129e-01, 1.65396610e-01, 2.37133564e-01,\n",
       "       1.30255815e-01, 7.96279044e-02, 6.60059969e-03, 3.65660202e-01,\n",
       "       2.68013826e-01, 3.09682165e-01, 3.59779872e-01, 3.45090334e-01,\n",
       "       3.45090334e-01, 4.53710542e-02, 1.27955800e-02, 3.61147734e-01,\n",
       "       3.42601389e-01, 6.63432480e-01, 5.93425051e-01, 2.19717856e-01,\n",
       "       1.31340137e-01, 1.05988270e-02, 3.08157735e-01, 3.17348386e-01,\n",
       "       4.43282643e-01, 1.83140134e-01])"
      ]
     },
     "execution_count": 315,
     "metadata": {
      "tags": []
     },
     "output_type": "execute_result"
    }
   ],
   "source": [
    "independent"
   ]
  },
  {
   "cell_type": "code",
   "execution_count": null,
   "metadata": {
    "colab": {
     "base_uri": "https://localhost:8080/"
    },
    "id": "0mS9m7E2fbtD",
    "outputId": "76032a16-389d-46c1-d53c-d1ea8e771da1"
   },
   "outputs": [
    {
     "data": {
      "text/plain": [
       "Index(['Day of week', 'Cost', 'Clicks', 'CTR', 'Avg. CPC', 'Conv. rate',\n",
       "       'Cost / conv.', 'Search Impr. share', 'Search Lost IS (rank)',\n",
       "       'Search Lost IS (budget)', 'lat', 'lng', 'Target'],\n",
       "      dtype='object')"
      ]
     },
     "execution_count": 316,
     "metadata": {
      "tags": []
     },
     "output_type": "execute_result"
    }
   ],
   "source": [
    "df_input.columns"
   ]
  },
  {
   "cell_type": "code",
   "execution_count": null,
   "metadata": {
    "colab": {
     "base_uri": "https://localhost:8080/"
    },
    "id": "Q-VcQ8Jzfxx9",
    "outputId": "1133ee96-b1e0-4cef-8678-577f1fdc5d24"
   },
   "outputs": [
    {
     "data": {
      "text/plain": [
       "(array([[[0.33333333, 0.1206191 , 0.00488029, 0.00149589, 0.66183036,\n",
       "          0.19223923, 0.03943873, 0.33423319, 0.13445236, 0.64439555,\n",
       "          0.70122966, 0.5461718 , 0.3058341 ]]]), array([0.11903567]))"
      ]
     },
     "execution_count": 317,
     "metadata": {
      "tags": []
     },
     "output_type": "execute_result"
    }
   ],
   "source": [
    "TimeseriesGenerator(dependent,independent,length=1,sampling_rate=1,batch_size=1)[0]"
   ]
  },
  {
   "cell_type": "code",
   "execution_count": null,
   "metadata": {
    "id": "w1E3XRUGglUL"
   },
   "outputs": [],
   "source": [
    "x_train,x_test,y_train,y_test=train_test_split(dependent,independent,test_size=0.20,random_state=123,shuffle=False)"
   ]
  },
  {
   "cell_type": "code",
   "execution_count": null,
   "metadata": {
    "colab": {
     "base_uri": "https://localhost:8080/"
    },
    "id": "4w6q_ta0h9MJ",
    "outputId": "cdde492b-807f-4a3b-dde5-32450955dd77"
   },
   "outputs": [
    {
     "data": {
      "text/plain": [
       "(606, 13)"
      ]
     },
     "execution_count": 319,
     "metadata": {
      "tags": []
     },
     "output_type": "execute_result"
    }
   ],
   "source": [
    "x_train.shape"
   ]
  },
  {
   "cell_type": "code",
   "execution_count": null,
   "metadata": {
    "colab": {
     "base_uri": "https://localhost:8080/"
    },
    "id": "_YW9_poyiAaO",
    "outputId": "a56ebe95-38d8-4562-d7e1-a2d94dd1c29e"
   },
   "outputs": [
    {
     "data": {
      "text/plain": [
       "(152, 13)"
      ]
     },
     "execution_count": 320,
     "metadata": {
      "tags": []
     },
     "output_type": "execute_result"
    }
   ],
   "source": [
    "x_test.shape"
   ]
  },
  {
   "cell_type": "code",
   "execution_count": null,
   "metadata": {
    "colab": {
     "base_uri": "https://localhost:8080/"
    },
    "id": "yFoaVNPB7-0v",
    "outputId": "bac09932-7cb9-475c-a330-8806bdba84e5"
   },
   "outputs": [
    {
     "data": {
      "text/plain": [
       "(758, 13)"
      ]
     },
     "execution_count": 321,
     "metadata": {
      "tags": []
     },
     "output_type": "execute_result"
    }
   ],
   "source": [
    "df_input.shape"
   ]
  },
  {
   "cell_type": "code",
   "execution_count": null,
   "metadata": {
    "id": "CHNVtdEfiIMb"
   },
   "outputs": [],
   "source": [
    "win_lenght=7\n",
    "batch_size=32\n",
    "num_features=13\n",
    "train_generator= TimeseriesGenerator(x_train,y_train,length=win_lenght,sampling_rate=1,batch_size=batch_size)\n",
    "test_generator= TimeseriesGenerator(x_test,y_test,length=win_lenght,sampling_rate=1,batch_size=batch_size)"
   ]
  },
  {
   "cell_type": "code",
   "execution_count": null,
   "metadata": {
    "colab": {
     "base_uri": "https://localhost:8080/"
    },
    "id": "HzEH3z4VjWu0",
    "outputId": "8e15bd5e-f508-4646-e06e-b8c01e79cffd"
   },
   "outputs": [
    {
     "data": {
      "text/plain": [
       "(array([[[0.33333333, 0.1206191 , 0.00488029, ..., 0.70122966,\n",
       "          0.5461718 , 0.3058341 ],\n",
       "         [0.5       , 0.13755483, 0.0053407 , ..., 0.41961298,\n",
       "          0.20328928, 0.11903567],\n",
       "         [0.66666667, 0.18154255, 0.01003683, ..., 0.28240819,\n",
       "          1.        , 0.26562025],\n",
       "         ...,\n",
       "         [1.        , 0.14793227, 0.00801105, ..., 0.24229623,\n",
       "          0.66674991, 0.03703152],\n",
       "         [0.        , 0.23157922, 0.01243094, ..., 0.5631008 ,\n",
       "          0.16655099, 0.32766763],\n",
       "         [0.16666667, 0.17791115, 0.00847145, ..., 0.3237126 ,\n",
       "          0.31890267, 0.25338438]],\n",
       " \n",
       "        [[0.5       , 0.13755483, 0.0053407 , ..., 0.41961298,\n",
       "          0.20328928, 0.11903567],\n",
       "         [0.66666667, 0.18154255, 0.01003683, ..., 0.28240819,\n",
       "          1.        , 0.26562025],\n",
       "         [0.83333333, 0.23303941, 0.01123389, ..., 0.22257928,\n",
       "          0.36271951, 0.16203511],\n",
       "         ...,\n",
       "         [0.        , 0.23157922, 0.01243094, ..., 0.5631008 ,\n",
       "          0.16655099, 0.32766763],\n",
       "         [0.16666667, 0.17791115, 0.00847145, ..., 0.3237126 ,\n",
       "          0.31890267, 0.25338438],\n",
       "         [0.33333333, 0.15756708, 0.00819521, ..., 0.40530789,\n",
       "          0.32942338, 0.15650063]],\n",
       " \n",
       "        [[0.66666667, 0.18154255, 0.01003683, ..., 0.28240819,\n",
       "          1.        , 0.26562025],\n",
       "         [0.83333333, 0.23303941, 0.01123389, ..., 0.22257928,\n",
       "          0.36271951, 0.16203511],\n",
       "         [1.        , 0.14793227, 0.00801105, ..., 0.24229623,\n",
       "          0.66674991, 0.03703152],\n",
       "         ...,\n",
       "         [0.16666667, 0.17791115, 0.00847145, ..., 0.3237126 ,\n",
       "          0.31890267, 0.25338438],\n",
       "         [0.33333333, 0.15756708, 0.00819521, ..., 0.40530789,\n",
       "          0.32942338, 0.15650063],\n",
       "         [0.5       , 0.12015344, 0.00709024, ..., 0.28771859,\n",
       "          0.29334398, 0.35615085]],\n",
       " \n",
       "        ...,\n",
       " \n",
       "        [[0.5       , 0.18294418, 0.11289134, ..., 0.31087544,\n",
       "          0.96438487, 0.16172634],\n",
       "         [0.66666667, 0.18217459, 0.11924494, ..., 0.35446494,\n",
       "          0.30605474, 0.12885923],\n",
       "         [0.83333333, 0.21927593, 0.11436464, ..., 0.49271763,\n",
       "          0.34701992, 0.12927971],\n",
       "         ...,\n",
       "         [0.        , 0.20900073, 0.09401473, ..., 0.33794187,\n",
       "          0.91053854, 0.36222306],\n",
       "         [0.16666667, 0.23302082, 0.05856354, ..., 0.4737611 ,\n",
       "          0.15371752, 0.41643114],\n",
       "         [0.33333333, 0.3161389 , 0.07127072, ..., 0.74478697,\n",
       "          0.62866023, 0.12799105]],\n",
       " \n",
       "        [[0.66666667, 0.18217459, 0.11924494, ..., 0.35446494,\n",
       "          0.30605474, 0.12885923],\n",
       "         [0.83333333, 0.21927593, 0.11436464, ..., 0.49271763,\n",
       "          0.34701992, 0.12927971],\n",
       "         [1.        , 0.19832678, 0.1145488 , ..., 0.33862919,\n",
       "          0.37943167, 0.01022132],\n",
       "         ...,\n",
       "         [0.16666667, 0.23302082, 0.05856354, ..., 0.4737611 ,\n",
       "          0.15371752, 0.41643114],\n",
       "         [0.33333333, 0.3161389 , 0.07127072, ..., 0.74478697,\n",
       "          0.62866023, 0.12799105],\n",
       "         [0.5       , 0.22061529, 0.06298343, ..., 0.49515654,\n",
       "          0.28901079, 0.1911395 ]],\n",
       " \n",
       "        [[0.83333333, 0.21927593, 0.11436464, ..., 0.49271763,\n",
       "          0.34701992, 0.12927971],\n",
       "         [1.        , 0.19832678, 0.1145488 , ..., 0.33862919,\n",
       "          0.37943167, 0.01022132],\n",
       "         [0.        , 0.20900073, 0.09401473, ..., 0.33794187,\n",
       "          0.91053854, 0.36222306],\n",
       "         ...,\n",
       "         [0.33333333, 0.3161389 , 0.07127072, ..., 0.74478697,\n",
       "          0.62866023, 0.12799105],\n",
       "         [0.5       , 0.22061529, 0.06298343, ..., 0.49515654,\n",
       "          0.28901079, 0.1911395 ],\n",
       "         [0.66666667, 0.19504485, 0.04171271, ..., 0.36793324,\n",
       "          0.27913411, 0.28997474]]]),\n",
       " array([0.15650063, 0.35615085, 0.11982157, 0.0861923 , 0.09488435,\n",
       "        0.29686095, 0.13896214, 0.16742896, 0.22611569, 0.20644206,\n",
       "        0.23555053, 0.00149285, 0.25013826, 0.29257901, 0.33408472,\n",
       "        0.12822233, 0.23684487, 0.13983892, 0.00868331, 0.29582688,\n",
       "        0.16101618, 0.08992268, 0.16172634, 0.12885923, 0.12927971,\n",
       "        0.01022132, 0.36222306, 0.41643114, 0.12799105, 0.1911395 ,\n",
       "        0.28997474, 0.09738943]))"
      ]
     },
     "execution_count": 328,
     "metadata": {
      "tags": []
     },
     "output_type": "execute_result"
    }
   ],
   "source": [
    "train_generator[0]"
   ]
  },
  {
   "cell_type": "code",
   "execution_count": null,
   "metadata": {
    "id": "E0Dg0Cdgy1KI"
   },
   "outputs": [],
   "source": [
    "from keras.layers import LSTM"
   ]
  },
  {
   "cell_type": "code",
   "execution_count": null,
   "metadata": {
    "id": "L1nsk853jZ-a"
   },
   "outputs": [],
   "source": [
    "model=tf.keras.Sequential()\n",
    "model.add(tf.keras.layers.LSTM(128,input_shape=(win_lenght,num_features),return_sequences=True))\n",
    "model.add(tf.keras.layers.LeakyReLU(alpha=0.5))\n",
    "model.add(tf.keras.layers.LSTM(128,return_sequences=True))\n",
    "model.add(tf.keras.layers.LeakyReLU(alpha=0.5))\n",
    "model.add(tf.keras.layers.Dropout(0.3))\n",
    "model.add(tf.keras.layers.LSTM(64,return_sequences=False))\n",
    "model.add(tf.keras.layers.Dropout(0.3))\n",
    "model.add(tf.keras.layers.Dense(1))"
   ]
  },
  {
   "cell_type": "code",
   "execution_count": null,
   "metadata": {
    "id": "bN5uDKUwln1Q"
   },
   "outputs": [],
   "source": []
  },
  {
   "cell_type": "code",
   "execution_count": null,
   "metadata": {
    "colab": {
     "base_uri": "https://localhost:8080/"
    },
    "id": "xHJY_uU7lqRo",
    "outputId": "75f59528-2546-45d6-bf8d-41ac0d24f9b0"
   },
   "outputs": [
    {
     "name": "stderr",
     "output_type": "stream",
     "text": [
      "/usr/local/lib/python3.6/dist-packages/tensorflow/python/keras/engine/training.py:1844: UserWarning: `Model.fit_generator` is deprecated and will be removed in a future version. Please use `Model.fit`, which supports generators.\n",
      "  warnings.warn('`Model.fit_generator` is deprecated and '\n"
     ]
    },
    {
     "name": "stdout",
     "output_type": "stream",
     "text": [
      "Epoch 1/50\n",
      "19/19 [==============================] - 7s 99ms/step - loss: 0.0517 - mean_absolute_error: 0.1840 - val_loss: 0.0525 - val_mean_absolute_error: 0.1855\n",
      "Epoch 2/50\n",
      "19/19 [==============================] - 1s 34ms/step - loss: 0.0363 - mean_absolute_error: 0.1471 - val_loss: 0.0299 - val_mean_absolute_error: 0.1348\n",
      "Epoch 3/50\n",
      "19/19 [==============================] - 1s 35ms/step - loss: 0.0256 - mean_absolute_error: 0.1265 - val_loss: 0.0296 - val_mean_absolute_error: 0.1337\n",
      "Epoch 4/50\n",
      "19/19 [==============================] - 1s 35ms/step - loss: 0.0271 - mean_absolute_error: 0.1223 - val_loss: 0.0295 - val_mean_absolute_error: 0.1325\n",
      "Epoch 5/50\n",
      "19/19 [==============================] - 1s 33ms/step - loss: 0.0267 - mean_absolute_error: 0.1244 - val_loss: 0.0301 - val_mean_absolute_error: 0.1339\n",
      "Epoch 6/50\n",
      "19/19 [==============================] - 1s 32ms/step - loss: 0.0270 - mean_absolute_error: 0.1246 - val_loss: 0.0309 - val_mean_absolute_error: 0.1355\n"
     ]
    }
   ],
   "source": [
    "early_stopping= tf.keras.callbacks.EarlyStopping(monitor='val_loss',patience=2,mode='min')\n",
    "\n",
    "\n",
    "model.compile(loss=tf.losses.MeanSquaredError(),\n",
    "              optimizer=tf.optimizers.Adam(),\n",
    "              metrics=[tf.metrics.MeanAbsoluteError()])\n",
    "\n",
    "history= model.fit_generator(train_generator,epochs=50,validation_data=test_generator,shuffle=False,callbacks=[early_stopping])"
   ]
  },
  {
   "cell_type": "code",
   "execution_count": null,
   "metadata": {
    "colab": {
     "base_uri": "https://localhost:8080/"
    },
    "id": "rD-XsWD4mmgQ",
    "outputId": "38b85c96-162a-4f97-c492-9c417a4a64c4"
   },
   "outputs": [
    {
     "name": "stderr",
     "output_type": "stream",
     "text": [
      "/usr/local/lib/python3.6/dist-packages/tensorflow/python/keras/engine/training.py:1877: UserWarning: `Model.evaluate_generator` is deprecated and will be removed in a future version. Please use `Model.evaluate`, which supports generators.\n",
      "  warnings.warn('`Model.evaluate_generator` is deprecated and '\n"
     ]
    },
    {
     "data": {
      "text/plain": [
       "[0.030864521861076355, 0.13545286655426025]"
      ]
     },
     "execution_count": 332,
     "metadata": {
      "tags": []
     },
     "output_type": "execute_result"
    }
   ],
   "source": [
    "model.evaluate_generator(test_generator,verbose=0)"
   ]
  },
  {
   "cell_type": "code",
   "execution_count": null,
   "metadata": {
    "colab": {
     "base_uri": "https://localhost:8080/"
    },
    "id": "UCqoKtETn0AB",
    "outputId": "602a7857-9446-4965-924d-b429e20d4e9a"
   },
   "outputs": [
    {
     "name": "stderr",
     "output_type": "stream",
     "text": [
      "/usr/local/lib/python3.6/dist-packages/tensorflow/python/keras/engine/training.py:1905: UserWarning: `Model.predict_generator` is deprecated and will be removed in a future version. Please use `Model.predict`, which supports generators.\n",
      "  warnings.warn('`Model.predict_generator` is deprecated and '\n"
     ]
    }
   ],
   "source": [
    "predictions= model.predict_generator(test_generator)"
   ]
  },
  {
   "cell_type": "code",
   "execution_count": null,
   "metadata": {
    "colab": {
     "base_uri": "https://localhost:8080/"
    },
    "id": "kjkxVF9SpSjj",
    "outputId": "912d3e0e-1f38-4857-e3d9-69fe9bea6693"
   },
   "outputs": [
    {
     "data": {
      "text/plain": [
       "(145, 1)"
      ]
     },
     "execution_count": 334,
     "metadata": {
      "tags": []
     },
     "output_type": "execute_result"
    }
   ],
   "source": [
    "predictions.shape"
   ]
  },
  {
   "cell_type": "code",
   "execution_count": null,
   "metadata": {
    "colab": {
     "base_uri": "https://localhost:8080/"
    },
    "id": "BPZic-BLpaEM",
    "outputId": "f1085ebf-ef84-4eec-bc13-f4ab2647ad97"
   },
   "outputs": [
    {
     "data": {
      "text/plain": [
       "array([[0.3907678 ],\n",
       "       [0.3909357 ],\n",
       "       [0.38597634],\n",
       "       [0.38050097],\n",
       "       [0.39785144],\n",
       "       [0.4206437 ],\n",
       "       [0.46932524],\n",
       "       [0.4518873 ],\n",
       "       [0.40778574],\n",
       "       [0.38289636],\n",
       "       [0.3738575 ],\n",
       "       [0.37133113],\n",
       "       [0.39540005],\n",
       "       [0.38292658],\n",
       "       [0.3489558 ],\n",
       "       [0.3281379 ],\n",
       "       [0.31052923],\n",
       "       [0.28858218],\n",
       "       [0.24426968],\n",
       "       [0.24235117],\n",
       "       [0.2237615 ],\n",
       "       [0.19914201],\n",
       "       [0.19094145],\n",
       "       [0.18605822],\n",
       "       [0.18776783],\n",
       "       [0.19197741],\n",
       "       [0.22280087],\n",
       "       [0.21813129],\n",
       "       [0.23138231],\n",
       "       [0.24120282],\n",
       "       [0.20330694],\n",
       "       [0.19269301],\n",
       "       [0.18738756],\n",
       "       [0.19697192],\n",
       "       [0.16805702],\n",
       "       [0.1699593 ],\n",
       "       [0.17405032],\n",
       "       [0.19355097],\n",
       "       [0.2219004 ],\n",
       "       [0.22974688],\n",
       "       [0.26038164],\n",
       "       [0.24249992],\n",
       "       [0.22617097],\n",
       "       [0.18091857],\n",
       "       [0.16922292],\n",
       "       [0.15557733],\n",
       "       [0.16225803],\n",
       "       [0.18872751],\n",
       "       [0.17745063],\n",
       "       [0.17792302],\n",
       "       [0.17555451],\n",
       "       [0.19087633],\n",
       "       [0.20525974],\n",
       "       [0.22086759],\n",
       "       [0.25796106],\n",
       "       [0.3028029 ],\n",
       "       [0.2833724 ],\n",
       "       [0.24787787],\n",
       "       [0.23692206],\n",
       "       [0.21622217],\n",
       "       [0.2061294 ],\n",
       "       [0.23320043],\n",
       "       [0.2404267 ],\n",
       "       [0.26362702],\n",
       "       [0.28632176],\n",
       "       [0.31156865],\n",
       "       [0.2902243 ],\n",
       "       [0.2608094 ],\n",
       "       [0.22343412],\n",
       "       [0.21086001],\n",
       "       [0.20119527],\n",
       "       [0.19338375],\n",
       "       [0.20849693],\n",
       "       [0.17782162],\n",
       "       [0.16591597],\n",
       "       [0.15526484],\n",
       "       [0.15625587],\n",
       "       [0.15212597],\n",
       "       [0.16651636],\n",
       "       [0.19461851],\n",
       "       [0.1798231 ],\n",
       "       [0.18155457],\n",
       "       [0.16852781],\n",
       "       [0.19796436],\n",
       "       [0.2227816 ],\n",
       "       [0.25092152],\n",
       "       [0.27836686],\n",
       "       [0.27198422],\n",
       "       [0.27927417],\n",
       "       [0.25982955],\n",
       "       [0.2490229 ],\n",
       "       [0.24209842],\n",
       "       [0.23965847],\n",
       "       [0.2898065 ],\n",
       "       [0.26920325],\n",
       "       [0.26670426],\n",
       "       [0.2614244 ],\n",
       "       [0.22292708],\n",
       "       [0.20814636],\n",
       "       [0.19177704],\n",
       "       [0.21062516],\n",
       "       [0.20945847],\n",
       "       [0.20777665],\n",
       "       [0.20036595],\n",
       "       [0.18759976],\n",
       "       [0.17160165],\n",
       "       [0.16407046],\n",
       "       [0.18398002],\n",
       "       [0.22224674],\n",
       "       [0.22610909],\n",
       "       [0.24416074],\n",
       "       [0.26608437],\n",
       "       [0.2647508 ],\n",
       "       [0.22962233],\n",
       "       [0.20597368],\n",
       "       [0.18825567],\n",
       "       [0.18244001],\n",
       "       [0.1871412 ],\n",
       "       [0.22257584],\n",
       "       [0.21184754],\n",
       "       [0.2289493 ],\n",
       "       [0.2344785 ],\n",
       "       [0.21829572],\n",
       "       [0.20208329],\n",
       "       [0.19867644],\n",
       "       [0.19663519],\n",
       "       [0.20245785],\n",
       "       [0.17613351],\n",
       "       [0.17480665],\n",
       "       [0.19186997],\n",
       "       [0.20432192],\n",
       "       [0.23021072],\n",
       "       [0.22560403],\n",
       "       [0.22416092],\n",
       "       [0.19435166],\n",
       "       [0.16066793],\n",
       "       [0.1420697 ],\n",
       "       [0.13488895],\n",
       "       [0.14914165],\n",
       "       [0.17324588],\n",
       "       [0.2261591 ],\n",
       "       [0.2867648 ],\n",
       "       [0.29388523],\n",
       "       [0.3009535 ],\n",
       "       [0.23557355]], dtype=float32)"
      ]
     },
     "execution_count": 335,
     "metadata": {
      "tags": []
     },
     "output_type": "execute_result"
    }
   ],
   "source": [
    "predictions"
   ]
  },
  {
   "cell_type": "code",
   "execution_count": null,
   "metadata": {
    "colab": {
     "base_uri": "https://localhost:8080/"
    },
    "id": "JspERfR2pl-3",
    "outputId": "d3adbfd2-33ef-43e3-eccd-c6fbc13c5b24"
   },
   "outputs": [
    {
     "data": {
      "text/plain": [
       "array([4.13760893e-01, 4.29176468e-01, 5.12033977e-01, 2.03532667e-01,\n",
       "       2.90448233e-02, 0.00000000e+00, 5.24602789e-01, 9.60639773e-01,\n",
       "       6.75984047e-01, 3.44371608e-01, 2.74062084e-01, 1.22974765e-02,\n",
       "       3.31831430e-01, 6.00621074e-01, 2.68402609e-01, 1.62654390e-01,\n",
       "       2.59885243e-01, 3.40960910e-01, 8.75016392e-03, 2.54579450e-01,\n",
       "       4.11450770e-01, 2.16710417e-01, 3.31342852e-01, 4.07798594e-01,\n",
       "       2.86076050e-01, 2.16630459e-02, 4.83965902e-01, 4.01182323e-01,\n",
       "       3.25646062e-01, 4.74525618e-01, 4.64798559e-01, 2.17951889e-01,\n",
       "       1.04192185e-01, 6.63212003e-01, 3.44130654e-01, 3.85869369e-01,\n",
       "       2.37277548e-01, 3.43014902e-01, 1.07282757e-01, 1.13036289e-02,\n",
       "       2.93145857e-01, 2.26467799e-01, 5.58930102e-01, 2.24193942e-01,\n",
       "       2.68915626e-01, 1.66973704e-01, 6.39494994e-03, 3.00033609e-01,\n",
       "       1.49128432e-01, 2.57674683e-01, 8.11768025e-02, 2.59889000e-01,\n",
       "       2.89377631e-01, 5.12667937e-04, 5.12667937e-04, 3.89982859e-01,\n",
       "       3.83352606e-01, 1.86935858e-01, 2.53563960e-01, 3.18448554e-01,\n",
       "       2.10200641e-01, 3.15368031e-01, 3.02247956e-01, 1.32723495e-01,\n",
       "       1.20533767e-02, 3.76166662e-01, 3.96120717e-01, 5.97197442e-01,\n",
       "       2.28899534e-01, 2.11498915e-01, 1.51088018e-01, 2.57775847e-03,\n",
       "       3.35002776e-01, 4.65465493e-01, 2.86852101e-01, 2.05152610e-01,\n",
       "       2.22480961e-01, 1.06786692e-01, 6.97269175e-03, 3.82171198e-01,\n",
       "       1.96912929e-01, 1.60449743e-01, 0.00000000e+00, 1.37428622e-01,\n",
       "       1.83944033e-01, 1.82404922e-02, 4.63345408e-01, 1.96869673e-01,\n",
       "       3.46971912e-01, 3.49601083e-01, 2.46733737e-01, 2.22109218e-01,\n",
       "       3.42846683e-03, 6.04745458e-01, 2.27939797e-01, 2.52921290e-01,\n",
       "       4.75934843e-01, 2.25667862e-01, 3.36020335e-02, 9.79090896e-03,\n",
       "       3.21346817e-01, 3.53826224e-01, 3.53826224e-01, 2.65603325e-01,\n",
       "       3.66240741e-01, 3.24476014e-01, 1.26731805e-01, 1.05696982e-02,\n",
       "       2.03010852e-01, 1.85412564e-01, 4.01138193e-02, 0.00000000e+00,\n",
       "       6.25058032e-01, 2.75901426e-01, 3.28495185e-01, 2.99616513e-01,\n",
       "       2.03817722e-01, 8.34661270e-03, 4.81999792e-01, 2.85968972e-01,\n",
       "       2.55087399e-01, 3.46148002e-01, 2.70490070e-01, 4.82359650e-02,\n",
       "       4.82359650e-02, 9.72947620e-03, 4.70094565e-01, 3.03514129e-01,\n",
       "       1.65396610e-01, 2.37133564e-01, 1.30255815e-01, 7.96279044e-02,\n",
       "       6.60059969e-03, 3.65660202e-01, 2.68013826e-01, 3.09682165e-01,\n",
       "       3.59779872e-01, 3.45090334e-01, 3.45090334e-01, 4.53710542e-02,\n",
       "       1.27955800e-02, 3.61147734e-01, 3.42601389e-01, 6.63432480e-01,\n",
       "       5.93425051e-01, 2.19717856e-01, 1.31340137e-01, 1.05988270e-02,\n",
       "       3.08157735e-01, 3.17348386e-01, 4.43282643e-01, 1.83140134e-01])"
      ]
     },
     "execution_count": 336,
     "metadata": {
      "tags": []
     },
     "output_type": "execute_result"
    }
   ],
   "source": [
    "y_test"
   ]
  },
  {
   "cell_type": "code",
   "execution_count": null,
   "metadata": {
    "colab": {
     "base_uri": "https://localhost:8080/"
    },
    "id": "bWGYDdbYprOS",
    "outputId": "45fc7c25-af68-49e4-c76b-b41a9b323c1f"
   },
   "outputs": [
    {
     "data": {
      "text/plain": [
       "array([[0.33333333, 0.25176993, 0.01528545, ..., 0.28832191, 0.34692847,\n",
       "        0.41376089],\n",
       "       [0.5       , 0.24488912, 0.01657459, ..., 0.31087544, 0.96438487,\n",
       "        0.42917647],\n",
       "       [0.66666667, 0.25080794, 0.01666667, ..., 0.35655146, 0.26635145,\n",
       "        0.51203398],\n",
       "       ...,\n",
       "       [0.16666667, 0.24931894, 0.01197053, ..., 0.3982399 , 0.23201931,\n",
       "        0.31734839],\n",
       "       [0.33333333, 0.35138876, 0.01712707, ..., 0.24701423, 0.34309824,\n",
       "        0.44328264],\n",
       "       [0.5       , 0.41444161, 0.01565378, ..., 0.5790331 , 0.14535285,\n",
       "        0.18314013]])"
      ]
     },
     "execution_count": 337,
     "metadata": {
      "tags": []
     },
     "output_type": "execute_result"
    }
   ],
   "source": [
    "x_test"
   ]
  },
  {
   "cell_type": "code",
   "execution_count": null,
   "metadata": {
    "colab": {
     "base_uri": "https://localhost:8080/"
    },
    "id": "A_JuPoQbpvJA",
    "outputId": "b0bc1b23-6d0d-486d-8a6d-529a1750b11f"
   },
   "outputs": [
    {
     "data": {
      "text/plain": [
       "array([[0.33333333, 0.126181  , 0.01224678, ..., 0.80592867, 0.27524692,\n",
       "        0.38524755],\n",
       "       [0.5       , 0.14403039, 0.01178637, ..., 0.77327466, 0.4650097 ,\n",
       "        0.31530379],\n",
       "       [0.66666667, 0.16416161, 0.0121547 , ..., 0.89613247, 0.35866799,\n",
       "        0.39276536],\n",
       "       ...,\n",
       "       [0.16666667, 0.24931894, 0.01197053, ..., 0.39265864, 0.3982399 ,\n",
       "        0.23201931],\n",
       "       [0.33333333, 0.35138876, 0.01712707, ..., 0.29272811, 0.24701423,\n",
       "        0.34309824],\n",
       "       [0.5       , 0.41444161, 0.01565378, ..., 0.16500695, 0.5790331 ,\n",
       "        0.14535285]])"
      ]
     },
     "execution_count": 338,
     "metadata": {
      "tags": []
     },
     "output_type": "execute_result"
    }
   ],
   "source": [
    "x_test[:,:-1][win_lenght:]"
   ]
  },
  {
   "cell_type": "code",
   "execution_count": null,
   "metadata": {
    "id": "Yz9oX1iwqRFQ"
   },
   "outputs": [],
   "source": [
    "df_pred= pd.concat([pd.DataFrame(predictions),pd.DataFrame(x_test[:,:-1][win_lenght:])],axis=1)"
   ]
  },
  {
   "cell_type": "code",
   "execution_count": null,
   "metadata": {
    "id": "EscWdX1drIck"
   },
   "outputs": [],
   "source": [
    "rev_trans= scaler.inverse_transform(df_pred)"
   ]
  },
  {
   "cell_type": "code",
   "execution_count": null,
   "metadata": {
    "colab": {
     "base_uri": "https://localhost:8080/"
    },
    "id": "Ro-__cl4rQsR",
    "outputId": "db26c776-0713-481d-9778-0d1da1b38d5e"
   },
   "outputs": [
    {
     "data": {
      "text/plain": [
       "array([[ 2.34460688e+00,  3.58662333e+03,  1.37132564e+03, ...,\n",
       "         3.46712656e+01, -1.18090680e+02,  1.32256308e+05],\n",
       "       [ 2.34561414e+00,  5.37977500e+03,  1.56517003e+03, ...,\n",
       "         3.46114045e+01, -1.17605104e+02,  1.08244467e+05],\n",
       "       [ 2.31585807e+00,  7.17292667e+03,  1.78379510e+03, ...,\n",
       "         3.48366267e+01, -1.17877217e+02,  1.34837189e+05],\n",
       "       ...,\n",
       "       [ 1.76331139e+00,  1.79347167e+03,  2.70860365e+03, ...,\n",
       "         3.39136615e+01, -1.17775958e+02,  7.96527252e+04],\n",
       "       [ 1.80572104e+00,  3.58662333e+03,  3.81708189e+03, ...,\n",
       "         3.37304694e+01, -1.18162923e+02,  1.17786361e+05],\n",
       "       [ 1.41344127e+00,  5.37977500e+03,  4.50183590e+03, ...,\n",
       "         3.34963317e+01, -1.17313335e+02,  4.98999428e+04]])"
      ]
     },
     "execution_count": 341,
     "metadata": {
      "tags": []
     },
     "output_type": "execute_result"
    }
   ],
   "source": [
    "rev_trans"
   ]
  },
  {
   "cell_type": "code",
   "execution_count": null,
   "metadata": {
    "colab": {
     "base_uri": "https://localhost:8080/",
     "height": 419
    },
    "id": "-B83WSOVrSWh",
    "outputId": "68f58254-40a7-4970-ecb9-2ec3f74fd72c"
   },
   "outputs": [
    {
     "data": {
      "text/html": [
       "<div>\n",
       "<style scoped>\n",
       "    .dataframe tbody tr th:only-of-type {\n",
       "        vertical-align: middle;\n",
       "    }\n",
       "\n",
       "    .dataframe tbody tr th {\n",
       "        vertical-align: top;\n",
       "    }\n",
       "\n",
       "    .dataframe thead th {\n",
       "        text-align: right;\n",
       "    }\n",
       "</style>\n",
       "<table border=\"1\" class=\"dataframe\">\n",
       "  <thead>\n",
       "    <tr style=\"text-align: right;\">\n",
       "      <th></th>\n",
       "      <th>0</th>\n",
       "      <th>0</th>\n",
       "      <th>1</th>\n",
       "      <th>2</th>\n",
       "      <th>3</th>\n",
       "      <th>4</th>\n",
       "      <th>5</th>\n",
       "      <th>6</th>\n",
       "      <th>7</th>\n",
       "      <th>8</th>\n",
       "      <th>9</th>\n",
       "      <th>10</th>\n",
       "      <th>11</th>\n",
       "    </tr>\n",
       "  </thead>\n",
       "  <tbody>\n",
       "    <tr>\n",
       "      <th>0</th>\n",
       "      <td>0.390768</td>\n",
       "      <td>0.333333</td>\n",
       "      <td>0.126181</td>\n",
       "      <td>0.012247</td>\n",
       "      <td>0.084518</td>\n",
       "      <td>0.273717</td>\n",
       "      <td>0.190103</td>\n",
       "      <td>0.039926</td>\n",
       "      <td>0.199897</td>\n",
       "      <td>0.075280</td>\n",
       "      <td>0.805929</td>\n",
       "      <td>0.275247</td>\n",
       "      <td>0.385248</td>\n",
       "    </tr>\n",
       "    <tr>\n",
       "      <th>1</th>\n",
       "      <td>0.390936</td>\n",
       "      <td>0.500000</td>\n",
       "      <td>0.144030</td>\n",
       "      <td>0.011786</td>\n",
       "      <td>0.049364</td>\n",
       "      <td>0.326172</td>\n",
       "      <td>0.221431</td>\n",
       "      <td>0.045277</td>\n",
       "      <td>0.218666</td>\n",
       "      <td>0.098169</td>\n",
       "      <td>0.773275</td>\n",
       "      <td>0.465010</td>\n",
       "      <td>0.315304</td>\n",
       "    </tr>\n",
       "    <tr>\n",
       "      <th>2</th>\n",
       "      <td>0.385976</td>\n",
       "      <td>0.666667</td>\n",
       "      <td>0.164162</td>\n",
       "      <td>0.012155</td>\n",
       "      <td>0.067315</td>\n",
       "      <td>0.361607</td>\n",
       "      <td>0.326807</td>\n",
       "      <td>0.034257</td>\n",
       "      <td>0.076102</td>\n",
       "      <td>0.106307</td>\n",
       "      <td>0.896132</td>\n",
       "      <td>0.358668</td>\n",
       "      <td>0.392765</td>\n",
       "    </tr>\n",
       "    <tr>\n",
       "      <th>3</th>\n",
       "      <td>0.380501</td>\n",
       "      <td>0.833333</td>\n",
       "      <td>0.087326</td>\n",
       "      <td>0.006722</td>\n",
       "      <td>0.076290</td>\n",
       "      <td>0.345424</td>\n",
       "      <td>0.151655</td>\n",
       "      <td>0.071385</td>\n",
       "      <td>0.098727</td>\n",
       "      <td>0.111563</td>\n",
       "      <td>0.872163</td>\n",
       "      <td>0.281416</td>\n",
       "      <td>0.329059</td>\n",
       "    </tr>\n",
       "    <tr>\n",
       "      <th>4</th>\n",
       "      <td>0.397851</td>\n",
       "      <td>1.000000</td>\n",
       "      <td>0.075931</td>\n",
       "      <td>0.006814</td>\n",
       "      <td>0.080778</td>\n",
       "      <td>0.295201</td>\n",
       "      <td>0.116768</td>\n",
       "      <td>0.082765</td>\n",
       "      <td>0.155547</td>\n",
       "      <td>0.126314</td>\n",
       "      <td>0.810908</td>\n",
       "      <td>0.494661</td>\n",
       "      <td>0.383044</td>\n",
       "    </tr>\n",
       "    <tr>\n",
       "      <th>...</th>\n",
       "      <td>...</td>\n",
       "      <td>...</td>\n",
       "      <td>...</td>\n",
       "      <td>...</td>\n",
       "      <td>...</td>\n",
       "      <td>...</td>\n",
       "      <td>...</td>\n",
       "      <td>...</td>\n",
       "      <td>...</td>\n",
       "      <td>...</td>\n",
       "      <td>...</td>\n",
       "      <td>...</td>\n",
       "      <td>...</td>\n",
       "    </tr>\n",
       "    <tr>\n",
       "      <th>140</th>\n",
       "      <td>0.226159</td>\n",
       "      <td>1.000000</td>\n",
       "      <td>0.122170</td>\n",
       "      <td>0.009208</td>\n",
       "      <td>0.182498</td>\n",
       "      <td>0.354353</td>\n",
       "      <td>0.197223</td>\n",
       "      <td>0.106991</td>\n",
       "      <td>0.322664</td>\n",
       "      <td>0.519668</td>\n",
       "      <td>0.391732</td>\n",
       "      <td>0.272098</td>\n",
       "      <td>0.604217</td>\n",
       "    </tr>\n",
       "    <tr>\n",
       "      <th>141</th>\n",
       "      <td>0.286765</td>\n",
       "      <td>0.000000</td>\n",
       "      <td>0.236851</td>\n",
       "      <td>0.013444</td>\n",
       "      <td>0.195961</td>\n",
       "      <td>0.474888</td>\n",
       "      <td>0.613386</td>\n",
       "      <td>0.045545</td>\n",
       "      <td>0.255560</td>\n",
       "      <td>0.434045</td>\n",
       "      <td>0.510653</td>\n",
       "      <td>0.308025</td>\n",
       "      <td>0.168442</td>\n",
       "    </tr>\n",
       "    <tr>\n",
       "      <th>142</th>\n",
       "      <td>0.293885</td>\n",
       "      <td>0.166667</td>\n",
       "      <td>0.249319</td>\n",
       "      <td>0.011971</td>\n",
       "      <td>0.195213</td>\n",
       "      <td>0.562500</td>\n",
       "      <td>0.462086</td>\n",
       "      <td>0.071918</td>\n",
       "      <td>0.245147</td>\n",
       "      <td>0.620549</td>\n",
       "      <td>0.392659</td>\n",
       "      <td>0.398240</td>\n",
       "      <td>0.232019</td>\n",
       "    </tr>\n",
       "    <tr>\n",
       "      <th>143</th>\n",
       "      <td>0.300954</td>\n",
       "      <td>0.333333</td>\n",
       "      <td>0.351389</td>\n",
       "      <td>0.017127</td>\n",
       "      <td>0.222887</td>\n",
       "      <td>0.555246</td>\n",
       "      <td>0.493058</td>\n",
       "      <td>0.066527</td>\n",
       "      <td>0.348374</td>\n",
       "      <td>0.630553</td>\n",
       "      <td>0.292728</td>\n",
       "      <td>0.247014</td>\n",
       "      <td>0.343098</td>\n",
       "    </tr>\n",
       "    <tr>\n",
       "      <th>144</th>\n",
       "      <td>0.235574</td>\n",
       "      <td>0.500000</td>\n",
       "      <td>0.414442</td>\n",
       "      <td>0.015654</td>\n",
       "      <td>0.215408</td>\n",
       "      <td>0.718750</td>\n",
       "      <td>0.166607</td>\n",
       "      <td>0.254027</td>\n",
       "      <td>0.210181</td>\n",
       "      <td>1.000000</td>\n",
       "      <td>0.165007</td>\n",
       "      <td>0.579033</td>\n",
       "      <td>0.145353</td>\n",
       "    </tr>\n",
       "  </tbody>\n",
       "</table>\n",
       "<p>145 rows × 13 columns</p>\n",
       "</div>"
      ],
      "text/plain": [
       "           0         0         1   ...        9         10        11\n",
       "0    0.390768  0.333333  0.126181  ...  0.805929  0.275247  0.385248\n",
       "1    0.390936  0.500000  0.144030  ...  0.773275  0.465010  0.315304\n",
       "2    0.385976  0.666667  0.164162  ...  0.896132  0.358668  0.392765\n",
       "3    0.380501  0.833333  0.087326  ...  0.872163  0.281416  0.329059\n",
       "4    0.397851  1.000000  0.075931  ...  0.810908  0.494661  0.383044\n",
       "..        ...       ...       ...  ...       ...       ...       ...\n",
       "140  0.226159  1.000000  0.122170  ...  0.391732  0.272098  0.604217\n",
       "141  0.286765  0.000000  0.236851  ...  0.510653  0.308025  0.168442\n",
       "142  0.293885  0.166667  0.249319  ...  0.392659  0.398240  0.232019\n",
       "143  0.300954  0.333333  0.351389  ...  0.292728  0.247014  0.343098\n",
       "144  0.235574  0.500000  0.414442  ...  0.165007  0.579033  0.145353\n",
       "\n",
       "[145 rows x 13 columns]"
      ]
     },
     "execution_count": 342,
     "metadata": {
      "tags": []
     },
     "output_type": "execute_result"
    }
   ],
   "source": [
    "df_pred"
   ]
  },
  {
   "cell_type": "code",
   "execution_count": null,
   "metadata": {
    "id": "G-FSTQQ1rZUG"
   },
   "outputs": [],
   "source": [
    "df_final= df_input[predictions.shape[0]*-1:]"
   ]
  },
  {
   "cell_type": "code",
   "execution_count": null,
   "metadata": {
    "colab": {
     "base_uri": "https://localhost:8080/"
    },
    "id": "aBM6uIO6r2iB",
    "outputId": "2ae3e64a-920c-49ad-baf8-b79b45752d5c"
   },
   "outputs": [
    {
     "data": {
      "text/plain": [
       "Day of week                145\n",
       "Cost                       145\n",
       "Clicks                     145\n",
       "CTR                        145\n",
       "Avg. CPC                   145\n",
       "Conv. rate                 145\n",
       "Cost / conv.               145\n",
       "Search Impr. share         145\n",
       "Search Lost IS (rank)      145\n",
       "Search Lost IS (budget)    145\n",
       "lat                        145\n",
       "lng                        145\n",
       "Target                     145\n",
       "dtype: int64"
      ]
     },
     "execution_count": 344,
     "metadata": {
      "tags": []
     },
     "output_type": "execute_result"
    }
   ],
   "source": [
    "df_final.count()"
   ]
  },
  {
   "cell_type": "code",
   "execution_count": null,
   "metadata": {
    "colab": {
     "base_uri": "https://localhost:8080/"
    },
    "id": "LzjoXvBIr4hM",
    "outputId": "d9921098-d1aa-4c7c-a01d-c2e7e9e890d8"
   },
   "outputs": [
    {
     "name": "stderr",
     "output_type": "stream",
     "text": [
      "/usr/local/lib/python3.6/dist-packages/ipykernel_launcher.py:1: SettingWithCopyWarning: \n",
      "A value is trying to be set on a copy of a slice from a DataFrame.\n",
      "Try using .loc[row_indexer,col_indexer] = value instead\n",
      "\n",
      "See the caveats in the documentation: https://pandas.pydata.org/pandas-docs/stable/user_guide/indexing.html#returning-a-view-versus-a-copy\n",
      "  \"\"\"Entry point for launching an IPython kernel.\n"
     ]
    }
   ],
   "source": [
    "df_final['Predict_income']=rev_trans[:,-1]"
   ]
  },
  {
   "cell_type": "code",
   "execution_count": null,
   "metadata": {
    "colab": {
     "base_uri": "https://localhost:8080/",
     "height": 436
    },
    "id": "TZ-ApFSMsH5w",
    "outputId": "3198051f-8565-45f4-93a9-d7c88da23055"
   },
   "outputs": [
    {
     "data": {
      "text/html": [
       "<div>\n",
       "<style scoped>\n",
       "    .dataframe tbody tr th:only-of-type {\n",
       "        vertical-align: middle;\n",
       "    }\n",
       "\n",
       "    .dataframe tbody tr th {\n",
       "        vertical-align: top;\n",
       "    }\n",
       "\n",
       "    .dataframe thead th {\n",
       "        text-align: right;\n",
       "    }\n",
       "</style>\n",
       "<table border=\"1\" class=\"dataframe\">\n",
       "  <thead>\n",
       "    <tr style=\"text-align: right;\">\n",
       "      <th></th>\n",
       "      <th>Day of week</th>\n",
       "      <th>Cost</th>\n",
       "      <th>Clicks</th>\n",
       "      <th>CTR</th>\n",
       "      <th>Avg. CPC</th>\n",
       "      <th>Conv. rate</th>\n",
       "      <th>Cost / conv.</th>\n",
       "      <th>Search Impr. share</th>\n",
       "      <th>Search Lost IS (rank)</th>\n",
       "      <th>Search Lost IS (budget)</th>\n",
       "      <th>lat</th>\n",
       "      <th>lng</th>\n",
       "      <th>Target</th>\n",
       "      <th>Predict_income</th>\n",
       "    </tr>\n",
       "  </thead>\n",
       "  <tbody>\n",
       "    <tr>\n",
       "      <th>613</th>\n",
       "      <td>2</td>\n",
       "      <td>1357.89</td>\n",
       "      <td>134</td>\n",
       "      <td>0.0123</td>\n",
       "      <td>10.13</td>\n",
       "      <td>0.0534</td>\n",
       "      <td>87.61</td>\n",
       "      <td>0.2455</td>\n",
       "      <td>0.0586</td>\n",
       "      <td>0.6960</td>\n",
       "      <td>33.698423</td>\n",
       "      <td>-117.809204</td>\n",
       "      <td>329789.69</td>\n",
       "      <td>132256.307700</td>\n",
       "    </tr>\n",
       "    <tr>\n",
       "      <th>614</th>\n",
       "      <td>3</td>\n",
       "      <td>1549.93</td>\n",
       "      <td>129</td>\n",
       "      <td>0.0076</td>\n",
       "      <td>12.01</td>\n",
       "      <td>0.0622</td>\n",
       "      <td>99.35</td>\n",
       "      <td>0.2601</td>\n",
       "      <td>0.0721</td>\n",
       "      <td>0.6678</td>\n",
       "      <td>34.046295</td>\n",
       "      <td>-117.988180</td>\n",
       "      <td>232066.77</td>\n",
       "      <td>108244.466546</td>\n",
       "    </tr>\n",
       "    <tr>\n",
       "      <th>615</th>\n",
       "      <td>4</td>\n",
       "      <td>1766.52</td>\n",
       "      <td>133</td>\n",
       "      <td>0.0100</td>\n",
       "      <td>13.28</td>\n",
       "      <td>0.0918</td>\n",
       "      <td>75.17</td>\n",
       "      <td>0.1492</td>\n",
       "      <td>0.0769</td>\n",
       "      <td>0.7739</td>\n",
       "      <td>33.851350</td>\n",
       "      <td>-117.789967</td>\n",
       "      <td>118223.51</td>\n",
       "      <td>134837.188870</td>\n",
       "    </tr>\n",
       "    <tr>\n",
       "      <th>616</th>\n",
       "      <td>5</td>\n",
       "      <td>939.85</td>\n",
       "      <td>74</td>\n",
       "      <td>0.0112</td>\n",
       "      <td>12.70</td>\n",
       "      <td>0.0426</td>\n",
       "      <td>156.64</td>\n",
       "      <td>0.1668</td>\n",
       "      <td>0.0800</td>\n",
       "      <td>0.7532</td>\n",
       "      <td>33.709733</td>\n",
       "      <td>-117.952983</td>\n",
       "      <td>94086.10</td>\n",
       "      <td>112966.578858</td>\n",
       "    </tr>\n",
       "    <tr>\n",
       "      <th>617</th>\n",
       "      <td>6</td>\n",
       "      <td>817.26</td>\n",
       "      <td>75</td>\n",
       "      <td>0.0118</td>\n",
       "      <td>10.90</td>\n",
       "      <td>0.0328</td>\n",
       "      <td>181.61</td>\n",
       "      <td>0.2110</td>\n",
       "      <td>0.0887</td>\n",
       "      <td>0.7003</td>\n",
       "      <td>34.100651</td>\n",
       "      <td>-117.814842</td>\n",
       "      <td>4221.75</td>\n",
       "      <td>131499.900358</td>\n",
       "    </tr>\n",
       "    <tr>\n",
       "      <th>...</th>\n",
       "      <td>...</td>\n",
       "      <td>...</td>\n",
       "      <td>...</td>\n",
       "      <td>...</td>\n",
       "      <td>...</td>\n",
       "      <td>...</td>\n",
       "      <td>...</td>\n",
       "      <td>...</td>\n",
       "      <td>...</td>\n",
       "      <td>...</td>\n",
       "      <td>...</td>\n",
       "      <td>...</td>\n",
       "      <td>...</td>\n",
       "      <td>...</td>\n",
       "    </tr>\n",
       "    <tr>\n",
       "      <th>753</th>\n",
       "      <td>6</td>\n",
       "      <td>1314.74</td>\n",
       "      <td>101</td>\n",
       "      <td>0.0254</td>\n",
       "      <td>13.02</td>\n",
       "      <td>0.0554</td>\n",
       "      <td>234.77</td>\n",
       "      <td>0.3410</td>\n",
       "      <td>0.3207</td>\n",
       "      <td>0.3383</td>\n",
       "      <td>33.692651</td>\n",
       "      <td>-117.248892</td>\n",
       "      <td>3638.60</td>\n",
       "      <td>207429.083608</td>\n",
       "    </tr>\n",
       "    <tr>\n",
       "      <th>754</th>\n",
       "      <td>0</td>\n",
       "      <td>2548.58</td>\n",
       "      <td>147</td>\n",
       "      <td>0.0272</td>\n",
       "      <td>17.34</td>\n",
       "      <td>0.1723</td>\n",
       "      <td>99.94</td>\n",
       "      <td>0.2888</td>\n",
       "      <td>0.2702</td>\n",
       "      <td>0.4410</td>\n",
       "      <td>33.758511</td>\n",
       "      <td>-118.363978</td>\n",
       "      <td>105791.21</td>\n",
       "      <td>57826.522900</td>\n",
       "    </tr>\n",
       "    <tr>\n",
       "      <th>755</th>\n",
       "      <td>1</td>\n",
       "      <td>2682.72</td>\n",
       "      <td>131</td>\n",
       "      <td>0.0271</td>\n",
       "      <td>20.48</td>\n",
       "      <td>0.1298</td>\n",
       "      <td>157.81</td>\n",
       "      <td>0.2807</td>\n",
       "      <td>0.3802</td>\n",
       "      <td>0.3391</td>\n",
       "      <td>33.923893</td>\n",
       "      <td>-118.201293</td>\n",
       "      <td>108946.38</td>\n",
       "      <td>79652.725173</td>\n",
       "    </tr>\n",
       "    <tr>\n",
       "      <th>756</th>\n",
       "      <td>2</td>\n",
       "      <td>3780.88</td>\n",
       "      <td>187</td>\n",
       "      <td>0.0308</td>\n",
       "      <td>20.22</td>\n",
       "      <td>0.1385</td>\n",
       "      <td>145.98</td>\n",
       "      <td>0.3610</td>\n",
       "      <td>0.3861</td>\n",
       "      <td>0.2528</td>\n",
       "      <td>33.646667</td>\n",
       "      <td>-117.917058</td>\n",
       "      <td>152179.88</td>\n",
       "      <td>117786.361362</td>\n",
       "    </tr>\n",
       "    <tr>\n",
       "      <th>757</th>\n",
       "      <td>3</td>\n",
       "      <td>4459.26</td>\n",
       "      <td>171</td>\n",
       "      <td>0.0298</td>\n",
       "      <td>26.08</td>\n",
       "      <td>0.0468</td>\n",
       "      <td>557.41</td>\n",
       "      <td>0.2535</td>\n",
       "      <td>0.6040</td>\n",
       "      <td>0.1425</td>\n",
       "      <td>34.255322</td>\n",
       "      <td>-118.423060</td>\n",
       "      <td>62872.40</td>\n",
       "      <td>49899.942805</td>\n",
       "    </tr>\n",
       "  </tbody>\n",
       "</table>\n",
       "<p>145 rows × 14 columns</p>\n",
       "</div>"
      ],
      "text/plain": [
       "     Day of week     Cost  Clicks  ...         lng     Target  Predict_income\n",
       "613            2  1357.89     134  ... -117.809204  329789.69   132256.307700\n",
       "614            3  1549.93     129  ... -117.988180  232066.77   108244.466546\n",
       "615            4  1766.52     133  ... -117.789967  118223.51   134837.188870\n",
       "616            5   939.85      74  ... -117.952983   94086.10   112966.578858\n",
       "617            6   817.26      75  ... -117.814842    4221.75   131499.900358\n",
       "..           ...      ...     ...  ...         ...        ...             ...\n",
       "753            6  1314.74     101  ... -117.248892    3638.60   207429.083608\n",
       "754            0  2548.58     147  ... -118.363978  105791.21    57826.522900\n",
       "755            1  2682.72     131  ... -118.201293  108946.38    79652.725173\n",
       "756            2  3780.88     187  ... -117.917058  152179.88   117786.361362\n",
       "757            3  4459.26     171  ... -118.423060   62872.40    49899.942805\n",
       "\n",
       "[145 rows x 14 columns]"
      ]
     },
     "execution_count": 346,
     "metadata": {
      "tags": []
     },
     "output_type": "execute_result"
    }
   ],
   "source": [
    "df_final"
   ]
  },
  {
   "cell_type": "code",
   "execution_count": null,
   "metadata": {
    "colab": {
     "base_uri": "https://localhost:8080/",
     "height": 284
    },
    "id": "KZdnmfi-sN-L",
    "outputId": "3b12e619-28cb-4de4-a153-3e53e5631673"
   },
   "outputs": [
    {
     "data": {
      "text/plain": [
       "<matplotlib.axes._subplots.AxesSubplot at 0x7febddbdf4a8>"
      ]
     },
     "execution_count": 347,
     "metadata": {
      "tags": []
     },
     "output_type": "execute_result"
    },
    {
     "data": {
      "image/png": "[encoded data removed]",
      "text/plain": [
       "<Figure size 432x288 with 1 Axes>"
      ]
     },
     "metadata": {
      "needs_background": "light",
      "tags": []
     },
     "output_type": "display_data"
    }
   ],
   "source": [
    "df_final[['Target','Predict_income']].plot()"
   ]
  },
  {
   "cell_type": "code",
   "execution_count": null,
   "metadata": {
    "id": "72Bs4Xs8sn57"
   },
   "outputs": [],
   "source": []
  }
 ],
 "metadata": {
  "colab": {
   "collapsed_sections": [],
   "name": "timeseries .ipynb",
   "provenance": []
  },
  "kernelspec": {
   "display_name": "Python 3",
   "language": "python",
   "name": "python3"
  },
  "language_info": {
   "codemirror_mode": {
    "name": "ipython",
    "version": 3
   },
   "file_extension": ".py",
   "mimetype": "text/x-python",
   "name": "python",
   "nbconvert_exporter": "python",
   "pygments_lexer": "ipython3",
   "version": "3.7.3"
  }
 },
 "nbformat": 4,
 "nbformat_minor": 1
}
