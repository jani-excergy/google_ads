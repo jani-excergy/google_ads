{
  "nbformat": 4,
  "nbformat_minor": 5,
  "metadata": {
    "colab": {
      "name": "ann_feat_tuning.ipynb",
      "provenance": [],
      "collapsed_sections": []
    },
    "kernelspec": {
      "display_name": "Python 3",
      "language": "python",
      "name": "python3"
    },
    "language_info": {
      "codemirror_mode": {
        "name": "ipython",
        "version": 3
      },
      "file_extension": ".py",
      "mimetype": "text/x-python",
      "name": "python",
      "nbconvert_exporter": "python",
      "pygments_lexer": "ipython3",
      "version": "3.7.3"
    }
  },
  "cells": [
    {
      "cell_type": "code",
      "metadata": {
        "id": "hearing-offset"
      },
      "source": [
        "import pandas as pd\n",
        "import numpy as np\n",
        "import matplotlib.pyplot as plt\n",
        "import seaborn as sns"
      ],
      "id": "hearing-offset",
      "execution_count": 2,
      "outputs": []
    },
    {
      "cell_type": "code",
      "metadata": {
        "id": "pGsWvzo3qL88"
      },
      "source": [
        ""
      ],
      "id": "pGsWvzo3qL88",
      "execution_count": 2,
      "outputs": []
    },
    {
      "cell_type": "code",
      "metadata": {
        "id": "unsigned-footwear"
      },
      "source": [
        "df=pd.read_excel('final_feat.xlsx')"
      ],
      "id": "unsigned-footwear",
      "execution_count": 5,
      "outputs": []
    },
    {
      "cell_type": "code",
      "metadata": {
        "colab": {
          "base_uri": "https://localhost:8080/",
          "height": 356
        },
        "id": "sized-pioneer",
        "outputId": "55aef9fd-25e6-4eca-87e6-7578d8f50fc0"
      },
      "source": [
        "df.head()"
      ],
      "id": "sized-pioneer",
      "execution_count": 6,
      "outputs": [
        {
          "output_type": "execute_result",
          "data": {
            "text/html": [
              "<div>\n",
              "<style scoped>\n",
              "    .dataframe tbody tr th:only-of-type {\n",
              "        vertical-align: middle;\n",
              "    }\n",
              "\n",
              "    .dataframe tbody tr th {\n",
              "        vertical-align: top;\n",
              "    }\n",
              "\n",
              "    .dataframe thead th {\n",
              "        text-align: right;\n",
              "    }\n",
              "</style>\n",
              "<table border=\"1\" class=\"dataframe\">\n",
              "  <thead>\n",
              "    <tr style=\"text-align: right;\">\n",
              "      <th></th>\n",
              "      <th>Day of week</th>\n",
              "      <th>Cost</th>\n",
              "      <th>Impressions</th>\n",
              "      <th>Clicks</th>\n",
              "      <th>CTR</th>\n",
              "      <th>Avg. CPC</th>\n",
              "      <th>Conversions</th>\n",
              "      <th>Conv. rate</th>\n",
              "      <th>Cost / conv.</th>\n",
              "      <th>Search Impr. share</th>\n",
              "      <th>Search Lost IS (rank)</th>\n",
              "      <th>Search Lost IS (budget)</th>\n",
              "      <th>Created Date</th>\n",
              "      <th>Location Zip_x</th>\n",
              "      <th>Income_x</th>\n",
              "      <th>Year Month</th>\n",
              "      <th>Completed Jobs</th>\n",
              "      <th>Income_y</th>\n",
              "      <th>Lead Calls</th>\n",
              "      <th>Canceled Jobs_x</th>\n",
              "      <th>Future Scheduled Jobs</th>\n",
              "      <th>Location Zip_y</th>\n",
              "      <th>tech_count</th>\n",
              "      <th>Avg_job_per_day</th>\n",
              "      <th>county_name</th>\n",
              "      <th>TMAX</th>\n",
              "      <th>TMIN</th>\n",
              "      <th>Total Leads</th>\n",
              "      <th>Total Jobs</th>\n",
              "      <th>Avg Service</th>\n",
              "      <th>Avg Install</th>\n",
              "      <th>Canceled Jobs_y</th>\n",
              "      <th>Turn over %</th>\n",
              "      <th>Canceled %</th>\n",
              "      <th>Avg Sales</th>\n",
              "      <th>bookedjob</th>\n",
              "      <th>totalcalls</th>\n",
              "      <th>Booking rate</th>\n",
              "    </tr>\n",
              "  </thead>\n",
              "  <tbody>\n",
              "    <tr>\n",
              "      <th>0</th>\n",
              "      <td>Thursday</td>\n",
              "      <td>3181.56</td>\n",
              "      <td>13361</td>\n",
              "      <td>156</td>\n",
              "      <td>0.0117</td>\n",
              "      <td>20.39</td>\n",
              "      <td>26.77</td>\n",
              "      <td>0.0486</td>\n",
              "      <td>118.86</td>\n",
              "      <td>0.5337</td>\n",
              "      <td>0.2676</td>\n",
              "      <td>0.1987</td>\n",
              "      <td>2020-01-02</td>\n",
              "      <td>90049</td>\n",
              "      <td>137581.58</td>\n",
              "      <td>2020 January</td>\n",
              "      <td>57</td>\n",
              "      <td>23933.54</td>\n",
              "      <td>60</td>\n",
              "      <td>8.0</td>\n",
              "      <td>63</td>\n",
              "      <td>90049</td>\n",
              "      <td>59</td>\n",
              "      <td>1</td>\n",
              "      <td>Los Angeles</td>\n",
              "      <td>65</td>\n",
              "      <td>51</td>\n",
              "      <td>10</td>\n",
              "      <td>101</td>\n",
              "      <td>143.417833</td>\n",
              "      <td>3224.412750</td>\n",
              "      <td>8</td>\n",
              "      <td>9.900990</td>\n",
              "      <td>7.920792</td>\n",
              "      <td>3617.444828</td>\n",
              "      <td>49</td>\n",
              "      <td>155</td>\n",
              "      <td>31.612903</td>\n",
              "    </tr>\n",
              "    <tr>\n",
              "      <th>1</th>\n",
              "      <td>Friday</td>\n",
              "      <td>2684.67</td>\n",
              "      <td>16841</td>\n",
              "      <td>160</td>\n",
              "      <td>0.0095</td>\n",
              "      <td>16.78</td>\n",
              "      <td>21.00</td>\n",
              "      <td>0.0299</td>\n",
              "      <td>127.84</td>\n",
              "      <td>0.5477</td>\n",
              "      <td>0.3122</td>\n",
              "      <td>0.1401</td>\n",
              "      <td>2020-01-03</td>\n",
              "      <td>92262</td>\n",
              "      <td>43204.73</td>\n",
              "      <td>2020 January</td>\n",
              "      <td>77</td>\n",
              "      <td>65232.03</td>\n",
              "      <td>64</td>\n",
              "      <td>7.0</td>\n",
              "      <td>81</td>\n",
              "      <td>92262</td>\n",
              "      <td>40</td>\n",
              "      <td>2</td>\n",
              "      <td>Riverside</td>\n",
              "      <td>71</td>\n",
              "      <td>44</td>\n",
              "      <td>9</td>\n",
              "      <td>89</td>\n",
              "      <td>75.515208</td>\n",
              "      <td>965.365854</td>\n",
              "      <td>7</td>\n",
              "      <td>10.112360</td>\n",
              "      <td>7.865169</td>\n",
              "      <td>1781.345385</td>\n",
              "      <td>56</td>\n",
              "      <td>176</td>\n",
              "      <td>31.818182</td>\n",
              "    </tr>\n",
              "    <tr>\n",
              "      <th>2</th>\n",
              "      <td>Saturday</td>\n",
              "      <td>1338.36</td>\n",
              "      <td>30788</td>\n",
              "      <td>142</td>\n",
              "      <td>0.0046</td>\n",
              "      <td>9.43</td>\n",
              "      <td>11.00</td>\n",
              "      <td>0.0186</td>\n",
              "      <td>121.67</td>\n",
              "      <td>0.5297</td>\n",
              "      <td>0.3158</td>\n",
              "      <td>0.1545</td>\n",
              "      <td>2020-01-04</td>\n",
              "      <td>92606</td>\n",
              "      <td>14709.40</td>\n",
              "      <td>2020 January</td>\n",
              "      <td>55</td>\n",
              "      <td>26195.32</td>\n",
              "      <td>58</td>\n",
              "      <td>4.0</td>\n",
              "      <td>61</td>\n",
              "      <td>92606</td>\n",
              "      <td>21</td>\n",
              "      <td>3</td>\n",
              "      <td>Orange</td>\n",
              "      <td>69</td>\n",
              "      <td>56</td>\n",
              "      <td>3</td>\n",
              "      <td>31</td>\n",
              "      <td>110.019048</td>\n",
              "      <td>1377.666667</td>\n",
              "      <td>4</td>\n",
              "      <td>9.677419</td>\n",
              "      <td>12.903226</td>\n",
              "      <td>459.248750</td>\n",
              "      <td>30</td>\n",
              "      <td>92</td>\n",
              "      <td>32.608696</td>\n",
              "    </tr>\n",
              "    <tr>\n",
              "      <th>3</th>\n",
              "      <td>Sunday</td>\n",
              "      <td>1192.31</td>\n",
              "      <td>12865</td>\n",
              "      <td>108</td>\n",
              "      <td>0.0084</td>\n",
              "      <td>11.04</td>\n",
              "      <td>5.00</td>\n",
              "      <td>0.0130</td>\n",
              "      <td>238.46</td>\n",
              "      <td>0.5741</td>\n",
              "      <td>0.3349</td>\n",
              "      <td>0.0910</td>\n",
              "      <td>2020-01-05</td>\n",
              "      <td>90638</td>\n",
              "      <td>3725.40</td>\n",
              "      <td>2020 January</td>\n",
              "      <td>6</td>\n",
              "      <td>264.00</td>\n",
              "      <td>32</td>\n",
              "      <td>1.0</td>\n",
              "      <td>6</td>\n",
              "      <td>90638</td>\n",
              "      <td>9</td>\n",
              "      <td>1</td>\n",
              "      <td>Los Angeles</td>\n",
              "      <td>69</td>\n",
              "      <td>52</td>\n",
              "      <td>2</td>\n",
              "      <td>15</td>\n",
              "      <td>67.914286</td>\n",
              "      <td>406.250000</td>\n",
              "      <td>1</td>\n",
              "      <td>13.333333</td>\n",
              "      <td>6.666667</td>\n",
              "      <td>846.000000</td>\n",
              "      <td>11</td>\n",
              "      <td>52</td>\n",
              "      <td>21.153846</td>\n",
              "    </tr>\n",
              "    <tr>\n",
              "      <th>4</th>\n",
              "      <td>Monday</td>\n",
              "      <td>2383.17</td>\n",
              "      <td>49514</td>\n",
              "      <td>188</td>\n",
              "      <td>0.0038</td>\n",
              "      <td>12.68</td>\n",
              "      <td>22.00</td>\n",
              "      <td>0.0566</td>\n",
              "      <td>108.33</td>\n",
              "      <td>0.6027</td>\n",
              "      <td>0.3596</td>\n",
              "      <td>0.0377</td>\n",
              "      <td>2020-01-06</td>\n",
              "      <td>90045</td>\n",
              "      <td>74598.75</td>\n",
              "      <td>2020 January</td>\n",
              "      <td>73</td>\n",
              "      <td>48506.16</td>\n",
              "      <td>62</td>\n",
              "      <td>5.0</td>\n",
              "      <td>82</td>\n",
              "      <td>90045</td>\n",
              "      <td>60</td>\n",
              "      <td>2</td>\n",
              "      <td>Los Angeles</td>\n",
              "      <td>77</td>\n",
              "      <td>60</td>\n",
              "      <td>8</td>\n",
              "      <td>91</td>\n",
              "      <td>78.753750</td>\n",
              "      <td>1646.943488</td>\n",
              "      <td>5</td>\n",
              "      <td>8.791209</td>\n",
              "      <td>5.494505</td>\n",
              "      <td>1820.060789</td>\n",
              "      <td>54</td>\n",
              "      <td>159</td>\n",
              "      <td>33.962264</td>\n",
              "    </tr>\n",
              "  </tbody>\n",
              "</table>\n",
              "</div>"
            ],
            "text/plain": [
              "  Day of week     Cost  Impressions  ...  bookedjob  totalcalls  Booking rate\n",
              "0    Thursday  3181.56        13361  ...         49         155     31.612903\n",
              "1      Friday  2684.67        16841  ...         56         176     31.818182\n",
              "2    Saturday  1338.36        30788  ...         30          92     32.608696\n",
              "3      Sunday  1192.31        12865  ...         11          52     21.153846\n",
              "4      Monday  2383.17        49514  ...         54         159     33.962264\n",
              "\n",
              "[5 rows x 38 columns]"
            ]
          },
          "metadata": {
            "tags": []
          },
          "execution_count": 6
        }
      ]
    },
    {
      "cell_type": "code",
      "metadata": {
        "id": "negative-rendering"
      },
      "source": [
        "df1=df[['Completed Jobs','tech_count','TMAX','Avg Sales','Location Zip_y','Income_y']]\n",
        "    "
      ],
      "id": "negative-rendering",
      "execution_count": 7,
      "outputs": []
    },
    {
      "cell_type": "code",
      "metadata": {
        "id": "retired-madagascar",
        "colab": {
          "base_uri": "https://localhost:8080/"
        },
        "outputId": "31b42cc2-e3a7-4a6b-ab42-1edb362a9706"
      },
      "source": [
        "Mean_encoded_subject =df1.groupby(['Location Zip_y'])['Income_y'].mean().to_dict() \n",
        "  \n",
        "df1['Zip_income'] = df1['Location Zip_y'].map(Mean_encoded_subject) \n",
        "\n",
        "\n",
        "df1=df1.drop(['Location Zip_y'],axis=1)\n",
        "  \n"
      ],
      "id": "retired-madagascar",
      "execution_count": 8,
      "outputs": [
        {
          "output_type": "stream",
          "text": [
            "/usr/local/lib/python3.7/dist-packages/ipykernel_launcher.py:3: SettingWithCopyWarning: \n",
            "A value is trying to be set on a copy of a slice from a DataFrame.\n",
            "Try using .loc[row_indexer,col_indexer] = value instead\n",
            "\n",
            "See the caveats in the documentation: https://pandas.pydata.org/pandas-docs/stable/user_guide/indexing.html#returning-a-view-versus-a-copy\n",
            "  This is separate from the ipykernel package so we can avoid doing imports until\n"
          ],
          "name": "stderr"
        }
      ]
    },
    {
      "cell_type": "code",
      "metadata": {
        "colab": {
          "base_uri": "https://localhost:8080/",
          "height": 198
        },
        "id": "processed-needle",
        "outputId": "edee2567-8329-4970-e693-e22683452c57"
      },
      "source": [
        "df1.head()"
      ],
      "id": "processed-needle",
      "execution_count": 9,
      "outputs": [
        {
          "output_type": "execute_result",
          "data": {
            "text/html": [
              "<div>\n",
              "<style scoped>\n",
              "    .dataframe tbody tr th:only-of-type {\n",
              "        vertical-align: middle;\n",
              "    }\n",
              "\n",
              "    .dataframe tbody tr th {\n",
              "        vertical-align: top;\n",
              "    }\n",
              "\n",
              "    .dataframe thead th {\n",
              "        text-align: right;\n",
              "    }\n",
              "</style>\n",
              "<table border=\"1\" class=\"dataframe\">\n",
              "  <thead>\n",
              "    <tr style=\"text-align: right;\">\n",
              "      <th></th>\n",
              "      <th>Completed Jobs</th>\n",
              "      <th>tech_count</th>\n",
              "      <th>TMAX</th>\n",
              "      <th>Avg Sales</th>\n",
              "      <th>Income_y</th>\n",
              "      <th>Zip_income</th>\n",
              "    </tr>\n",
              "  </thead>\n",
              "  <tbody>\n",
              "    <tr>\n",
              "      <th>0</th>\n",
              "      <td>57</td>\n",
              "      <td>59</td>\n",
              "      <td>65</td>\n",
              "      <td>3617.444828</td>\n",
              "      <td>23933.54</td>\n",
              "      <td>23933.540</td>\n",
              "    </tr>\n",
              "    <tr>\n",
              "      <th>1</th>\n",
              "      <td>77</td>\n",
              "      <td>40</td>\n",
              "      <td>71</td>\n",
              "      <td>1781.345385</td>\n",
              "      <td>65232.03</td>\n",
              "      <td>74498.870</td>\n",
              "    </tr>\n",
              "    <tr>\n",
              "      <th>2</th>\n",
              "      <td>55</td>\n",
              "      <td>21</td>\n",
              "      <td>69</td>\n",
              "      <td>459.248750</td>\n",
              "      <td>26195.32</td>\n",
              "      <td>110329.465</td>\n",
              "    </tr>\n",
              "    <tr>\n",
              "      <th>3</th>\n",
              "      <td>6</td>\n",
              "      <td>9</td>\n",
              "      <td>69</td>\n",
              "      <td>846.000000</td>\n",
              "      <td>264.00</td>\n",
              "      <td>32925.410</td>\n",
              "    </tr>\n",
              "    <tr>\n",
              "      <th>4</th>\n",
              "      <td>73</td>\n",
              "      <td>60</td>\n",
              "      <td>77</td>\n",
              "      <td>1820.060789</td>\n",
              "      <td>48506.16</td>\n",
              "      <td>83225.340</td>\n",
              "    </tr>\n",
              "  </tbody>\n",
              "</table>\n",
              "</div>"
            ],
            "text/plain": [
              "   Completed Jobs  tech_count  TMAX    Avg Sales  Income_y  Zip_income\n",
              "0              57          59    65  3617.444828  23933.54   23933.540\n",
              "1              77          40    71  1781.345385  65232.03   74498.870\n",
              "2              55          21    69   459.248750  26195.32  110329.465\n",
              "3               6           9    69   846.000000    264.00   32925.410\n",
              "4              73          60    77  1820.060789  48506.16   83225.340"
            ]
          },
          "metadata": {
            "tags": []
          },
          "execution_count": 9
        }
      ]
    },
    {
      "cell_type": "code",
      "metadata": {
        "id": "royal-designation"
      },
      "source": [
        ""
      ],
      "id": "royal-designation",
      "execution_count": 9,
      "outputs": []
    },
    {
      "cell_type": "code",
      "metadata": {
        "id": "renewable-beaver"
      },
      "source": [
        ""
      ],
      "id": "renewable-beaver",
      "execution_count": 9,
      "outputs": []
    },
    {
      "cell_type": "code",
      "metadata": {
        "colab": {
          "base_uri": "https://localhost:8080/"
        },
        "id": "PC41CO_6h0qs",
        "outputId": "61aac3ee-d9ae-4819-89c6-850cb3737ed5"
      },
      "source": [
        "76**3*1.7543"
      ],
      "id": "PC41CO_6h0qs",
      "execution_count": 10,
      "outputs": [
        {
          "output_type": "execute_result",
          "data": {
            "text/plain": [
              "770095.5967999999"
            ]
          },
          "metadata": {
            "tags": []
          },
          "execution_count": 10
        }
      ]
    },
    {
      "cell_type": "code",
      "metadata": {
        "colab": {
          "base_uri": "https://localhost:8080/",
          "height": 198
        },
        "id": "studied-grant",
        "outputId": "d0335bc3-11c5-417f-c129-3255940ddbf4"
      },
      "source": [
        "df1.head()"
      ],
      "id": "studied-grant",
      "execution_count": 11,
      "outputs": [
        {
          "output_type": "execute_result",
          "data": {
            "text/html": [
              "<div>\n",
              "<style scoped>\n",
              "    .dataframe tbody tr th:only-of-type {\n",
              "        vertical-align: middle;\n",
              "    }\n",
              "\n",
              "    .dataframe tbody tr th {\n",
              "        vertical-align: top;\n",
              "    }\n",
              "\n",
              "    .dataframe thead th {\n",
              "        text-align: right;\n",
              "    }\n",
              "</style>\n",
              "<table border=\"1\" class=\"dataframe\">\n",
              "  <thead>\n",
              "    <tr style=\"text-align: right;\">\n",
              "      <th></th>\n",
              "      <th>Completed Jobs</th>\n",
              "      <th>tech_count</th>\n",
              "      <th>TMAX</th>\n",
              "      <th>Avg Sales</th>\n",
              "      <th>Income_y</th>\n",
              "      <th>Zip_income</th>\n",
              "    </tr>\n",
              "  </thead>\n",
              "  <tbody>\n",
              "    <tr>\n",
              "      <th>0</th>\n",
              "      <td>57</td>\n",
              "      <td>59</td>\n",
              "      <td>65</td>\n",
              "      <td>3617.444828</td>\n",
              "      <td>23933.54</td>\n",
              "      <td>23933.540</td>\n",
              "    </tr>\n",
              "    <tr>\n",
              "      <th>1</th>\n",
              "      <td>77</td>\n",
              "      <td>40</td>\n",
              "      <td>71</td>\n",
              "      <td>1781.345385</td>\n",
              "      <td>65232.03</td>\n",
              "      <td>74498.870</td>\n",
              "    </tr>\n",
              "    <tr>\n",
              "      <th>2</th>\n",
              "      <td>55</td>\n",
              "      <td>21</td>\n",
              "      <td>69</td>\n",
              "      <td>459.248750</td>\n",
              "      <td>26195.32</td>\n",
              "      <td>110329.465</td>\n",
              "    </tr>\n",
              "    <tr>\n",
              "      <th>3</th>\n",
              "      <td>6</td>\n",
              "      <td>9</td>\n",
              "      <td>69</td>\n",
              "      <td>846.000000</td>\n",
              "      <td>264.00</td>\n",
              "      <td>32925.410</td>\n",
              "    </tr>\n",
              "    <tr>\n",
              "      <th>4</th>\n",
              "      <td>73</td>\n",
              "      <td>60</td>\n",
              "      <td>77</td>\n",
              "      <td>1820.060789</td>\n",
              "      <td>48506.16</td>\n",
              "      <td>83225.340</td>\n",
              "    </tr>\n",
              "  </tbody>\n",
              "</table>\n",
              "</div>"
            ],
            "text/plain": [
              "   Completed Jobs  tech_count  TMAX    Avg Sales  Income_y  Zip_income\n",
              "0              57          59    65  3617.444828  23933.54   23933.540\n",
              "1              77          40    71  1781.345385  65232.03   74498.870\n",
              "2              55          21    69   459.248750  26195.32  110329.465\n",
              "3               6           9    69   846.000000    264.00   32925.410\n",
              "4              73          60    77  1820.060789  48506.16   83225.340"
            ]
          },
          "metadata": {
            "tags": []
          },
          "execution_count": 11
        }
      ]
    },
    {
      "cell_type": "code",
      "metadata": {
        "id": "bWx84n6yg3Or"
      },
      "source": [
        ""
      ],
      "id": "bWx84n6yg3Or",
      "execution_count": 11,
      "outputs": []
    },
    {
      "cell_type": "code",
      "metadata": {
        "id": "soviet-language"
      },
      "source": [
        "df1['f1']=np.abs(df1['Completed Jobs'])*np.abs(df1['Zip_income'])\n",
        "df1['f2']=np.sqrt(df1['Completed Jobs']**3)*np.abs(df1['Avg Sales'])\n",
        "df1['f3']=np.abs(np.sqrt(df1['Completed Jobs']) - np.sqrt(df1['tech_count']))\n",
        "df1['f4']=np.log(np.sqrt(df1['Completed Jobs'])*df1['TMAX']**3)"
      ],
      "id": "soviet-language",
      "execution_count": 12,
      "outputs": []
    },
    {
      "cell_type": "code",
      "metadata": {
        "id": "Nfmdz80k7rD8"
      },
      "source": [
        ""
      ],
      "id": "Nfmdz80k7rD8",
      "execution_count": 12,
      "outputs": []
    },
    {
      "cell_type": "code",
      "metadata": {
        "colab": {
          "base_uri": "https://localhost:8080/"
        },
        "id": "textile-reducing",
        "outputId": "cb7a9727-67a2-4a42-8bb5-b31ec73fc429"
      },
      "source": [
        "df1.columns"
      ],
      "id": "textile-reducing",
      "execution_count": 13,
      "outputs": [
        {
          "output_type": "execute_result",
          "data": {
            "text/plain": [
              "Index(['Completed Jobs', 'tech_count', 'TMAX', 'Avg Sales', 'Income_y',\n",
              "       'Zip_income', 'f1', 'f2', 'f3', 'f4'],\n",
              "      dtype='object')"
            ]
          },
          "metadata": {
            "tags": []
          },
          "execution_count": 13
        }
      ]
    },
    {
      "cell_type": "code",
      "metadata": {
        "id": "PczCtZbB78Lf"
      },
      "source": [
        "df1=df1[[ 'f1','f2', 'f3', 'f4','Income_y']]"
      ],
      "id": "PczCtZbB78Lf",
      "execution_count": 15,
      "outputs": []
    },
    {
      "cell_type": "code",
      "metadata": {
        "colab": {
          "base_uri": "https://localhost:8080/",
          "height": 1000
        },
        "id": "sunset-greek",
        "outputId": "59acb52e-b3f1-4b5a-e7c8-9ddb607ca1c0"
      },
      "source": [
        "for i in df1.columns:\n",
        "    sns.scatterplot(df1[i],df1['Income_y'])\n",
        "    plt.show()"
      ],
      "id": "sunset-greek",
      "execution_count": 16,
      "outputs": [
        {
          "output_type": "stream",
          "text": [
            "/usr/local/lib/python3.7/dist-packages/seaborn/_decorators.py:43: FutureWarning: Pass the following variables as keyword args: x, y. From version 0.12, the only valid positional argument will be `data`, and passing other arguments without an explicit keyword will result in an error or misinterpretation.\n",
            "  FutureWarning\n"
          ],
          "name": "stderr"
        },
        {
          "output_type": "display_data",
          "data": {
            "image/png": "[encoded data removed]",
            "text/plain": [
              "<Figure size 432x288 with 1 Axes>"
            ]
          },
          "metadata": {
            "tags": [],
            "needs_background": "light"
          }
        },
        {
          "output_type": "stream",
          "text": [
            "/usr/local/lib/python3.7/dist-packages/seaborn/_decorators.py:43: FutureWarning: Pass the following variables as keyword args: x, y. From version 0.12, the only valid positional argument will be `data`, and passing other arguments without an explicit keyword will result in an error or misinterpretation.\n",
            "  FutureWarning\n"
          ],
          "name": "stderr"
        },
        {
          "output_type": "display_data",
          "data": {
            "image/png": "[encoded data removed]",
            "text/plain": [
              "<Figure size 432x288 with 1 Axes>"
            ]
          },
          "metadata": {
            "tags": [],
            "needs_background": "light"
          }
        },
        {
          "output_type": "stream",
          "text": [
            "/usr/local/lib/python3.7/dist-packages/seaborn/_decorators.py:43: FutureWarning: Pass the following variables as keyword args: x, y. From version 0.12, the only valid positional argument will be `data`, and passing other arguments without an explicit keyword will result in an error or misinterpretation.\n",
            "  FutureWarning\n"
          ],
          "name": "stderr"
        },
        {
          "output_type": "display_data",
          "data": {
            "image/png": "[encoded data removed]",
            "text/plain": [
              "<Figure size 432x288 with 1 Axes>"
            ]
          },
          "metadata": {
            "tags": [],
            "needs_background": "light"
          }
        },
        {
          "output_type": "stream",
          "text": [
            "/usr/local/lib/python3.7/dist-packages/seaborn/_decorators.py:43: FutureWarning: Pass the following variables as keyword args: x, y. From version 0.12, the only valid positional argument will be `data`, and passing other arguments without an explicit keyword will result in an error or misinterpretation.\n",
            "  FutureWarning\n"
          ],
          "name": "stderr"
        },
        {
          "output_type": "display_data",
          "data": {
            "image/png": "[encoded data removed]",
            "text/plain": [
              "<Figure size 432x288 with 1 Axes>"
            ]
          },
          "metadata": {
            "tags": [],
            "needs_background": "light"
          }
        },
        {
          "output_type": "stream",
          "text": [
            "/usr/local/lib/python3.7/dist-packages/seaborn/_decorators.py:43: FutureWarning: Pass the following variables as keyword args: x, y. From version 0.12, the only valid positional argument will be `data`, and passing other arguments without an explicit keyword will result in an error or misinterpretation.\n",
            "  FutureWarning\n"
          ],
          "name": "stderr"
        },
        {
          "output_type": "display_data",
          "data": {
            "image/png": "[encoded data removed]",
            "text/plain": [
              "<Figure size 432x288 with 1 Axes>"
            ]
          },
          "metadata": {
            "tags": [],
            "needs_background": "light"
          }
        }
      ]
    },
    {
      "cell_type": "code",
      "metadata": {
        "colab": {
          "base_uri": "https://localhost:8080/",
          "height": 292
        },
        "id": "olympic-white",
        "outputId": "f57770fd-1f77-4cd4-9bc1-94f167a506f8"
      },
      "source": [
        "sns.heatmap(df1.corr(method='spearman'),annot=True)"
      ],
      "id": "olympic-white",
      "execution_count": 17,
      "outputs": [
        {
          "output_type": "execute_result",
          "data": {
            "text/plain": [
              "<matplotlib.axes._subplots.AxesSubplot at 0x7fb44bb82b90>"
            ]
          },
          "metadata": {
            "tags": []
          },
          "execution_count": 17
        },
        {
          "output_type": "display_data",
          "data": {
            "image/png": "[encoded data removed]",
            "text/plain": [
              "<Figure size 432x288 with 2 Axes>"
            ]
          },
          "metadata": {
            "tags": [],
            "needs_background": "light"
          }
        }
      ]
    },
    {
      "cell_type": "code",
      "metadata": {
        "id": "lightweight-mozambique"
      },
      "source": [
        "train=df1[0:300]\n",
        "test=df1[300:]"
      ],
      "id": "lightweight-mozambique",
      "execution_count": 18,
      "outputs": []
    },
    {
      "cell_type": "code",
      "metadata": {
        "id": "asian-sword"
      },
      "source": [
        "y=train['Income_y']\n",
        "X=train.drop(['Income_y'],axis=1)"
      ],
      "id": "asian-sword",
      "execution_count": 19,
      "outputs": []
    },
    {
      "cell_type": "code",
      "metadata": {
        "id": "resident-excellence"
      },
      "source": [
        "from sklearn.preprocessing import StandardScaler,MinMaxScaler\n",
        "scaler = MinMaxScaler()\n"
      ],
      "id": "resident-excellence",
      "execution_count": 20,
      "outputs": []
    },
    {
      "cell_type": "code",
      "metadata": {
        "id": "extensive-glucose"
      },
      "source": [
        "X=scaler.fit_transform(X)"
      ],
      "id": "extensive-glucose",
      "execution_count": 21,
      "outputs": []
    },
    {
      "cell_type": "code",
      "metadata": {
        "id": "virgin-array"
      },
      "source": [
        "\n",
        "y=y.values\n",
        "y=y.reshape(-1,1)"
      ],
      "id": "virgin-array",
      "execution_count": 22,
      "outputs": []
    },
    {
      "cell_type": "code",
      "metadata": {
        "id": "HDAFJrPweHaQ"
      },
      "source": [
        "\n",
        "y=scaler.fit_transform(y)"
      ],
      "id": "HDAFJrPweHaQ",
      "execution_count": 23,
      "outputs": []
    },
    {
      "cell_type": "code",
      "metadata": {
        "id": "q3axj7uGeKfV"
      },
      "source": [
        "from sklearn.model_selection import train_test_split\n",
        "X_train, X_test, y_train, y_test = train_test_split(X, y, test_size=0.2, random_state=42)"
      ],
      "id": "q3axj7uGeKfV",
      "execution_count": 24,
      "outputs": []
    },
    {
      "cell_type": "code",
      "metadata": {
        "id": "Hc5qRA5zeuef"
      },
      "source": [
        "from keras.layers import Dense, Activation,Dropout,BatchNormalization\n",
        "from keras.models import Sequential\n"
      ],
      "id": "Hc5qRA5zeuef",
      "execution_count": 25,
      "outputs": []
    },
    {
      "cell_type": "code",
      "metadata": {
        "id": "hp1885WHfFOK"
      },
      "source": [
        "model = Sequential()\n",
        "model.add(Dense(32, activation = 'relu', input_dim =4))\n",
        "model.add(Dense(1,activation='linear'))\n",
        "model.compile(optimizer='adam', loss='MeanSquaredError', metrics = ['MeanSquaredError'])\n"
      ],
      "id": "hp1885WHfFOK",
      "execution_count": 27,
      "outputs": []
    },
    {
      "cell_type": "code",
      "metadata": {
        "colab": {
          "base_uri": "https://localhost:8080/"
        },
        "id": "1XRBkeKhfL6g",
        "outputId": "2fe8d02a-9aa3-43f7-ebd9-d474a6955379"
      },
      "source": [
        "history=model.fit(X_train, y_train, batch_size = 32, epochs = 100,validation_data=(X_test,y_test))\n"
      ],
      "id": "1XRBkeKhfL6g",
      "execution_count": 28,
      "outputs": [
        {
          "output_type": "stream",
          "text": [
            "Epoch 1/100\n",
            "8/8 [==============================] - 1s 67ms/step - loss: 0.0522 - mean_squared_error: 0.0522 - val_loss: 0.0234 - val_mean_squared_error: 0.0234\n",
            "Epoch 2/100\n",
            "8/8 [==============================] - 0s 7ms/step - loss: 0.0277 - mean_squared_error: 0.0277 - val_loss: 0.0187 - val_mean_squared_error: 0.0187\n",
            "Epoch 3/100\n",
            "8/8 [==============================] - 0s 8ms/step - loss: 0.0180 - mean_squared_error: 0.0180 - val_loss: 0.0209 - val_mean_squared_error: 0.0209\n",
            "Epoch 4/100\n",
            "8/8 [==============================] - 0s 8ms/step - loss: 0.0184 - mean_squared_error: 0.0184 - val_loss: 0.0204 - val_mean_squared_error: 0.0204\n",
            "Epoch 5/100\n",
            "8/8 [==============================] - 0s 8ms/step - loss: 0.0188 - mean_squared_error: 0.0188 - val_loss: 0.0178 - val_mean_squared_error: 0.0178\n",
            "Epoch 6/100\n",
            "8/8 [==============================] - 0s 9ms/step - loss: 0.0156 - mean_squared_error: 0.0156 - val_loss: 0.0167 - val_mean_squared_error: 0.0167\n",
            "Epoch 7/100\n",
            "8/8 [==============================] - 0s 7ms/step - loss: 0.0158 - mean_squared_error: 0.0158 - val_loss: 0.0164 - val_mean_squared_error: 0.0164\n",
            "Epoch 8/100\n",
            "8/8 [==============================] - 0s 7ms/step - loss: 0.0166 - mean_squared_error: 0.0166 - val_loss: 0.0164 - val_mean_squared_error: 0.0164\n",
            "Epoch 9/100\n",
            "8/8 [==============================] - 0s 8ms/step - loss: 0.0154 - mean_squared_error: 0.0154 - val_loss: 0.0164 - val_mean_squared_error: 0.0164\n",
            "Epoch 10/100\n",
            "8/8 [==============================] - 0s 8ms/step - loss: 0.0135 - mean_squared_error: 0.0135 - val_loss: 0.0163 - val_mean_squared_error: 0.0163\n",
            "Epoch 11/100\n",
            "8/8 [==============================] - 0s 7ms/step - loss: 0.0139 - mean_squared_error: 0.0139 - val_loss: 0.0157 - val_mean_squared_error: 0.0157\n",
            "Epoch 12/100\n",
            "8/8 [==============================] - 0s 8ms/step - loss: 0.0154 - mean_squared_error: 0.0154 - val_loss: 0.0155 - val_mean_squared_error: 0.0155\n",
            "Epoch 13/100\n",
            "8/8 [==============================] - 0s 7ms/step - loss: 0.0147 - mean_squared_error: 0.0147 - val_loss: 0.0153 - val_mean_squared_error: 0.0153\n",
            "Epoch 14/100\n",
            "8/8 [==============================] - 0s 8ms/step - loss: 0.0146 - mean_squared_error: 0.0146 - val_loss: 0.0152 - val_mean_squared_error: 0.0152\n",
            "Epoch 15/100\n",
            "8/8 [==============================] - 0s 8ms/step - loss: 0.0160 - mean_squared_error: 0.0160 - val_loss: 0.0152 - val_mean_squared_error: 0.0152\n",
            "Epoch 16/100\n",
            "8/8 [==============================] - 0s 9ms/step - loss: 0.0132 - mean_squared_error: 0.0132 - val_loss: 0.0149 - val_mean_squared_error: 0.0149\n",
            "Epoch 17/100\n",
            "8/8 [==============================] - 0s 9ms/step - loss: 0.0129 - mean_squared_error: 0.0129 - val_loss: 0.0148 - val_mean_squared_error: 0.0148\n",
            "Epoch 18/100\n",
            "8/8 [==============================] - 0s 11ms/step - loss: 0.0142 - mean_squared_error: 0.0142 - val_loss: 0.0146 - val_mean_squared_error: 0.0146\n",
            "Epoch 19/100\n",
            "8/8 [==============================] - 0s 11ms/step - loss: 0.0141 - mean_squared_error: 0.0141 - val_loss: 0.0146 - val_mean_squared_error: 0.0146\n",
            "Epoch 20/100\n",
            "8/8 [==============================] - 0s 10ms/step - loss: 0.0137 - mean_squared_error: 0.0137 - val_loss: 0.0145 - val_mean_squared_error: 0.0145\n",
            "Epoch 21/100\n",
            "8/8 [==============================] - 0s 10ms/step - loss: 0.0128 - mean_squared_error: 0.0128 - val_loss: 0.0142 - val_mean_squared_error: 0.0142\n",
            "Epoch 22/100\n",
            "8/8 [==============================] - 0s 10ms/step - loss: 0.0150 - mean_squared_error: 0.0150 - val_loss: 0.0143 - val_mean_squared_error: 0.0143\n",
            "Epoch 23/100\n",
            "8/8 [==============================] - 0s 10ms/step - loss: 0.0132 - mean_squared_error: 0.0132 - val_loss: 0.0143 - val_mean_squared_error: 0.0143\n",
            "Epoch 24/100\n",
            "8/8 [==============================] - 0s 11ms/step - loss: 0.0137 - mean_squared_error: 0.0137 - val_loss: 0.0138 - val_mean_squared_error: 0.0138\n",
            "Epoch 25/100\n",
            "8/8 [==============================] - 0s 9ms/step - loss: 0.0128 - mean_squared_error: 0.0128 - val_loss: 0.0141 - val_mean_squared_error: 0.0141\n",
            "Epoch 26/100\n",
            "8/8 [==============================] - 0s 10ms/step - loss: 0.0127 - mean_squared_error: 0.0127 - val_loss: 0.0140 - val_mean_squared_error: 0.0140\n",
            "Epoch 27/100\n",
            "8/8 [==============================] - 0s 9ms/step - loss: 0.0141 - mean_squared_error: 0.0141 - val_loss: 0.0138 - val_mean_squared_error: 0.0138\n",
            "Epoch 28/100\n",
            "8/8 [==============================] - 0s 8ms/step - loss: 0.0122 - mean_squared_error: 0.0122 - val_loss: 0.0136 - val_mean_squared_error: 0.0136\n",
            "Epoch 29/100\n",
            "8/8 [==============================] - 0s 8ms/step - loss: 0.0131 - mean_squared_error: 0.0131 - val_loss: 0.0136 - val_mean_squared_error: 0.0136\n",
            "Epoch 30/100\n",
            "8/8 [==============================] - 0s 7ms/step - loss: 0.0111 - mean_squared_error: 0.0111 - val_loss: 0.0137 - val_mean_squared_error: 0.0137\n",
            "Epoch 31/100\n",
            "8/8 [==============================] - 0s 8ms/step - loss: 0.0133 - mean_squared_error: 0.0133 - val_loss: 0.0134 - val_mean_squared_error: 0.0134\n",
            "Epoch 32/100\n",
            "8/8 [==============================] - 0s 8ms/step - loss: 0.0131 - mean_squared_error: 0.0131 - val_loss: 0.0133 - val_mean_squared_error: 0.0133\n",
            "Epoch 33/100\n",
            "8/8 [==============================] - 0s 7ms/step - loss: 0.0138 - mean_squared_error: 0.0138 - val_loss: 0.0135 - val_mean_squared_error: 0.0135\n",
            "Epoch 34/100\n",
            "8/8 [==============================] - 0s 9ms/step - loss: 0.0155 - mean_squared_error: 0.0155 - val_loss: 0.0133 - val_mean_squared_error: 0.0133\n",
            "Epoch 35/100\n",
            "8/8 [==============================] - 0s 7ms/step - loss: 0.0137 - mean_squared_error: 0.0137 - val_loss: 0.0131 - val_mean_squared_error: 0.0131\n",
            "Epoch 36/100\n",
            "8/8 [==============================] - 0s 9ms/step - loss: 0.0134 - mean_squared_error: 0.0134 - val_loss: 0.0131 - val_mean_squared_error: 0.0131\n",
            "Epoch 37/100\n",
            "8/8 [==============================] - 0s 8ms/step - loss: 0.0143 - mean_squared_error: 0.0143 - val_loss: 0.0129 - val_mean_squared_error: 0.0129\n",
            "Epoch 38/100\n",
            "8/8 [==============================] - 0s 9ms/step - loss: 0.0139 - mean_squared_error: 0.0139 - val_loss: 0.0129 - val_mean_squared_error: 0.0129\n",
            "Epoch 39/100\n",
            "8/8 [==============================] - 0s 9ms/step - loss: 0.0135 - mean_squared_error: 0.0135 - val_loss: 0.0128 - val_mean_squared_error: 0.0128\n",
            "Epoch 40/100\n",
            "8/8 [==============================] - 0s 8ms/step - loss: 0.0137 - mean_squared_error: 0.0137 - val_loss: 0.0128 - val_mean_squared_error: 0.0128\n",
            "Epoch 41/100\n",
            "8/8 [==============================] - 0s 8ms/step - loss: 0.0128 - mean_squared_error: 0.0128 - val_loss: 0.0127 - val_mean_squared_error: 0.0127\n",
            "Epoch 42/100\n",
            "8/8 [==============================] - 0s 8ms/step - loss: 0.0120 - mean_squared_error: 0.0120 - val_loss: 0.0126 - val_mean_squared_error: 0.0126\n",
            "Epoch 43/100\n",
            "8/8 [==============================] - 0s 9ms/step - loss: 0.0123 - mean_squared_error: 0.0123 - val_loss: 0.0128 - val_mean_squared_error: 0.0128\n",
            "Epoch 44/100\n",
            "8/8 [==============================] - 0s 7ms/step - loss: 0.0121 - mean_squared_error: 0.0121 - val_loss: 0.0126 - val_mean_squared_error: 0.0126\n",
            "Epoch 45/100\n",
            "8/8 [==============================] - 0s 7ms/step - loss: 0.0118 - mean_squared_error: 0.0118 - val_loss: 0.0125 - val_mean_squared_error: 0.0125\n",
            "Epoch 46/100\n",
            "8/8 [==============================] - 0s 7ms/step - loss: 0.0118 - mean_squared_error: 0.0118 - val_loss: 0.0127 - val_mean_squared_error: 0.0127\n",
            "Epoch 47/100\n",
            "8/8 [==============================] - 0s 9ms/step - loss: 0.0128 - mean_squared_error: 0.0128 - val_loss: 0.0127 - val_mean_squared_error: 0.0127\n",
            "Epoch 48/100\n",
            "8/8 [==============================] - 0s 8ms/step - loss: 0.0119 - mean_squared_error: 0.0119 - val_loss: 0.0125 - val_mean_squared_error: 0.0125\n",
            "Epoch 49/100\n",
            "8/8 [==============================] - 0s 8ms/step - loss: 0.0118 - mean_squared_error: 0.0118 - val_loss: 0.0124 - val_mean_squared_error: 0.0124\n",
            "Epoch 50/100\n",
            "8/8 [==============================] - 0s 8ms/step - loss: 0.0132 - mean_squared_error: 0.0132 - val_loss: 0.0125 - val_mean_squared_error: 0.0125\n",
            "Epoch 51/100\n",
            "8/8 [==============================] - 0s 8ms/step - loss: 0.0137 - mean_squared_error: 0.0137 - val_loss: 0.0123 - val_mean_squared_error: 0.0123\n",
            "Epoch 52/100\n",
            "8/8 [==============================] - 0s 7ms/step - loss: 0.0121 - mean_squared_error: 0.0121 - val_loss: 0.0122 - val_mean_squared_error: 0.0122\n",
            "Epoch 53/100\n",
            "8/8 [==============================] - 0s 7ms/step - loss: 0.0126 - mean_squared_error: 0.0126 - val_loss: 0.0124 - val_mean_squared_error: 0.0124\n",
            "Epoch 54/100\n",
            "8/8 [==============================] - 0s 8ms/step - loss: 0.0122 - mean_squared_error: 0.0122 - val_loss: 0.0123 - val_mean_squared_error: 0.0123\n",
            "Epoch 55/100\n",
            "8/8 [==============================] - 0s 9ms/step - loss: 0.0123 - mean_squared_error: 0.0123 - val_loss: 0.0121 - val_mean_squared_error: 0.0121\n",
            "Epoch 56/100\n",
            "8/8 [==============================] - 0s 7ms/step - loss: 0.0106 - mean_squared_error: 0.0106 - val_loss: 0.0122 - val_mean_squared_error: 0.0122\n",
            "Epoch 57/100\n",
            "8/8 [==============================] - 0s 7ms/step - loss: 0.0114 - mean_squared_error: 0.0114 - val_loss: 0.0126 - val_mean_squared_error: 0.0126\n",
            "Epoch 58/100\n",
            "8/8 [==============================] - 0s 7ms/step - loss: 0.0135 - mean_squared_error: 0.0135 - val_loss: 0.0120 - val_mean_squared_error: 0.0120\n",
            "Epoch 59/100\n",
            "8/8 [==============================] - 0s 8ms/step - loss: 0.0128 - mean_squared_error: 0.0128 - val_loss: 0.0120 - val_mean_squared_error: 0.0120\n",
            "Epoch 60/100\n",
            "8/8 [==============================] - 0s 7ms/step - loss: 0.0124 - mean_squared_error: 0.0124 - val_loss: 0.0121 - val_mean_squared_error: 0.0121\n",
            "Epoch 61/100\n",
            "8/8 [==============================] - 0s 7ms/step - loss: 0.0105 - mean_squared_error: 0.0105 - val_loss: 0.0123 - val_mean_squared_error: 0.0123\n",
            "Epoch 62/100\n",
            "8/8 [==============================] - 0s 7ms/step - loss: 0.0120 - mean_squared_error: 0.0120 - val_loss: 0.0120 - val_mean_squared_error: 0.0120\n",
            "Epoch 63/100\n",
            "8/8 [==============================] - 0s 8ms/step - loss: 0.0116 - mean_squared_error: 0.0116 - val_loss: 0.0119 - val_mean_squared_error: 0.0119\n",
            "Epoch 64/100\n",
            "8/8 [==============================] - 0s 7ms/step - loss: 0.0120 - mean_squared_error: 0.0120 - val_loss: 0.0123 - val_mean_squared_error: 0.0123\n",
            "Epoch 65/100\n",
            "8/8 [==============================] - 0s 8ms/step - loss: 0.0138 - mean_squared_error: 0.0138 - val_loss: 0.0118 - val_mean_squared_error: 0.0118\n",
            "Epoch 66/100\n",
            "8/8 [==============================] - 0s 7ms/step - loss: 0.0137 - mean_squared_error: 0.0137 - val_loss: 0.0118 - val_mean_squared_error: 0.0118\n",
            "Epoch 67/100\n",
            "8/8 [==============================] - 0s 7ms/step - loss: 0.0119 - mean_squared_error: 0.0119 - val_loss: 0.0121 - val_mean_squared_error: 0.0121\n",
            "Epoch 68/100\n",
            "8/8 [==============================] - 0s 7ms/step - loss: 0.0120 - mean_squared_error: 0.0120 - val_loss: 0.0119 - val_mean_squared_error: 0.0119\n",
            "Epoch 69/100\n",
            "8/8 [==============================] - 0s 8ms/step - loss: 0.0102 - mean_squared_error: 0.0102 - val_loss: 0.0118 - val_mean_squared_error: 0.0118\n",
            "Epoch 70/100\n",
            "8/8 [==============================] - 0s 7ms/step - loss: 0.0118 - mean_squared_error: 0.0118 - val_loss: 0.0120 - val_mean_squared_error: 0.0120\n",
            "Epoch 71/100\n",
            "8/8 [==============================] - 0s 9ms/step - loss: 0.0123 - mean_squared_error: 0.0123 - val_loss: 0.0122 - val_mean_squared_error: 0.0122\n",
            "Epoch 72/100\n",
            "8/8 [==============================] - 0s 7ms/step - loss: 0.0123 - mean_squared_error: 0.0123 - val_loss: 0.0118 - val_mean_squared_error: 0.0118\n",
            "Epoch 73/100\n",
            "8/8 [==============================] - 0s 11ms/step - loss: 0.0128 - mean_squared_error: 0.0128 - val_loss: 0.0118 - val_mean_squared_error: 0.0118\n",
            "Epoch 74/100\n",
            "8/8 [==============================] - 0s 9ms/step - loss: 0.0111 - mean_squared_error: 0.0111 - val_loss: 0.0120 - val_mean_squared_error: 0.0120\n",
            "Epoch 75/100\n",
            "8/8 [==============================] - 0s 8ms/step - loss: 0.0114 - mean_squared_error: 0.0114 - val_loss: 0.0118 - val_mean_squared_error: 0.0118\n",
            "Epoch 76/100\n",
            "8/8 [==============================] - 0s 8ms/step - loss: 0.0119 - mean_squared_error: 0.0119 - val_loss: 0.0118 - val_mean_squared_error: 0.0118\n",
            "Epoch 77/100\n",
            "8/8 [==============================] - 0s 8ms/step - loss: 0.0125 - mean_squared_error: 0.0125 - val_loss: 0.0118 - val_mean_squared_error: 0.0118\n",
            "Epoch 78/100\n",
            "8/8 [==============================] - 0s 8ms/step - loss: 0.0105 - mean_squared_error: 0.0105 - val_loss: 0.0117 - val_mean_squared_error: 0.0117\n",
            "Epoch 79/100\n",
            "8/8 [==============================] - 0s 7ms/step - loss: 0.0133 - mean_squared_error: 0.0133 - val_loss: 0.0117 - val_mean_squared_error: 0.0117\n",
            "Epoch 80/100\n",
            "8/8 [==============================] - 0s 7ms/step - loss: 0.0141 - mean_squared_error: 0.0141 - val_loss: 0.0118 - val_mean_squared_error: 0.0118\n",
            "Epoch 81/100\n",
            "8/8 [==============================] - 0s 8ms/step - loss: 0.0122 - mean_squared_error: 0.0122 - val_loss: 0.0118 - val_mean_squared_error: 0.0118\n",
            "Epoch 82/100\n",
            "8/8 [==============================] - 0s 8ms/step - loss: 0.0111 - mean_squared_error: 0.0111 - val_loss: 0.0117 - val_mean_squared_error: 0.0117\n",
            "Epoch 83/100\n",
            "8/8 [==============================] - 0s 8ms/step - loss: 0.0142 - mean_squared_error: 0.0142 - val_loss: 0.0116 - val_mean_squared_error: 0.0116\n",
            "Epoch 84/100\n",
            "8/8 [==============================] - 0s 8ms/step - loss: 0.0126 - mean_squared_error: 0.0126 - val_loss: 0.0119 - val_mean_squared_error: 0.0119\n",
            "Epoch 85/100\n",
            "8/8 [==============================] - 0s 7ms/step - loss: 0.0115 - mean_squared_error: 0.0115 - val_loss: 0.0117 - val_mean_squared_error: 0.0117\n",
            "Epoch 86/100\n",
            "8/8 [==============================] - 0s 8ms/step - loss: 0.0137 - mean_squared_error: 0.0137 - val_loss: 0.0119 - val_mean_squared_error: 0.0119\n",
            "Epoch 87/100\n",
            "8/8 [==============================] - 0s 6ms/step - loss: 0.0116 - mean_squared_error: 0.0116 - val_loss: 0.0117 - val_mean_squared_error: 0.0117\n",
            "Epoch 88/100\n",
            "8/8 [==============================] - 0s 8ms/step - loss: 0.0134 - mean_squared_error: 0.0134 - val_loss: 0.0119 - val_mean_squared_error: 0.0119\n",
            "Epoch 89/100\n",
            "8/8 [==============================] - 0s 9ms/step - loss: 0.0125 - mean_squared_error: 0.0125 - val_loss: 0.0118 - val_mean_squared_error: 0.0118\n",
            "Epoch 90/100\n",
            "8/8 [==============================] - 0s 8ms/step - loss: 0.0117 - mean_squared_error: 0.0117 - val_loss: 0.0117 - val_mean_squared_error: 0.0117\n",
            "Epoch 91/100\n",
            "8/8 [==============================] - 0s 8ms/step - loss: 0.0112 - mean_squared_error: 0.0112 - val_loss: 0.0118 - val_mean_squared_error: 0.0118\n",
            "Epoch 92/100\n",
            "8/8 [==============================] - 0s 7ms/step - loss: 0.0123 - mean_squared_error: 0.0123 - val_loss: 0.0117 - val_mean_squared_error: 0.0117\n",
            "Epoch 93/100\n",
            "8/8 [==============================] - 0s 7ms/step - loss: 0.0112 - mean_squared_error: 0.0112 - val_loss: 0.0116 - val_mean_squared_error: 0.0116\n",
            "Epoch 94/100\n",
            "8/8 [==============================] - 0s 8ms/step - loss: 0.0108 - mean_squared_error: 0.0108 - val_loss: 0.0117 - val_mean_squared_error: 0.0117\n",
            "Epoch 95/100\n",
            "8/8 [==============================] - 0s 8ms/step - loss: 0.0120 - mean_squared_error: 0.0120 - val_loss: 0.0117 - val_mean_squared_error: 0.0117\n",
            "Epoch 96/100\n",
            "8/8 [==============================] - 0s 8ms/step - loss: 0.0129 - mean_squared_error: 0.0129 - val_loss: 0.0116 - val_mean_squared_error: 0.0116\n",
            "Epoch 97/100\n",
            "8/8 [==============================] - 0s 8ms/step - loss: 0.0117 - mean_squared_error: 0.0117 - val_loss: 0.0118 - val_mean_squared_error: 0.0118\n",
            "Epoch 98/100\n",
            "8/8 [==============================] - 0s 9ms/step - loss: 0.0132 - mean_squared_error: 0.0132 - val_loss: 0.0116 - val_mean_squared_error: 0.0116\n",
            "Epoch 99/100\n",
            "8/8 [==============================] - 0s 8ms/step - loss: 0.0123 - mean_squared_error: 0.0123 - val_loss: 0.0116 - val_mean_squared_error: 0.0116\n",
            "Epoch 100/100\n",
            "8/8 [==============================] - 0s 7ms/step - loss: 0.0128 - mean_squared_error: 0.0128 - val_loss: 0.0119 - val_mean_squared_error: 0.0119\n"
          ],
          "name": "stdout"
        }
      ]
    },
    {
      "cell_type": "code",
      "metadata": {
        "colab": {
          "base_uri": "https://localhost:8080/",
          "height": 295
        },
        "id": "XXfInAT_nMlk",
        "outputId": "ff9e7e26-94c4-43be-8cdd-63df60018561"
      },
      "source": [
        "# Accuracy plot \n",
        "plt.plot(history.history['loss'])\n",
        "plt.plot(history.history['val_loss'])\n",
        "plt.title('Model_accuracy')\n",
        "plt.ylabel('accuracy')\n",
        "plt.xlabel('epoch')\n",
        "plt.legend(['train','test'],loc='upper left')\n",
        "plt.show()"
      ],
      "id": "XXfInAT_nMlk",
      "execution_count": 29,
      "outputs": [
        {
          "output_type": "display_data",
          "data": {
            "image/png": "[encoded data removed]",
            "text/plain": [
              "<Figure size 432x288 with 1 Axes>"
            ]
          },
          "metadata": {
            "tags": [],
            "needs_background": "light"
          }
        }
      ]
    },
    {
      "cell_type": "code",
      "metadata": {
        "colab": {
          "base_uri": "https://localhost:8080/",
          "height": 295
        },
        "id": "QYm7yjm1m06n",
        "outputId": "107f0118-79b5-42ea-dc34-4db8f80c4a0a"
      },
      "source": [
        "# Accuracy plot \n",
        "plt.plot(history.history['mean_squared_error'])\n",
        "plt.plot(history.history['val_mean_squared_error'])\n",
        "plt.title('Model_Performance')\n",
        "plt.ylabel('score')\n",
        "plt.xlabel('epoch')\n",
        "plt.legend(['train','test'],loc='upper left')\n",
        "plt.show()"
      ],
      "id": "QYm7yjm1m06n",
      "execution_count": 30,
      "outputs": [
        {
          "output_type": "display_data",
          "data": {
            "image/png": "[encoded data removed]",
            "text/plain": [
              "<Figure size 432x288 with 1 Axes>"
            ]
          },
          "metadata": {
            "tags": [],
            "needs_background": "light"
          }
        }
      ]
    },
    {
      "cell_type": "code",
      "metadata": {
        "id": "BFpPcEpMy-V9"
      },
      "source": [
        "y_=test['Income_y']\n",
        "X_=test.drop(['Income_y'],axis=1)"
      ],
      "id": "BFpPcEpMy-V9",
      "execution_count": 31,
      "outputs": []
    },
    {
      "cell_type": "code",
      "metadata": {
        "colab": {
          "base_uri": "https://localhost:8080/"
        },
        "id": "9DQUfODS5sQz",
        "outputId": "da99728c-84bd-49a5-f5c5-0fbe26f3eaa8"
      },
      "source": [
        "X_.isnull().sum()"
      ],
      "id": "9DQUfODS5sQz",
      "execution_count": 32,
      "outputs": [
        {
          "output_type": "execute_result",
          "data": {
            "text/plain": [
              "f1    0\n",
              "f2    0\n",
              "f3    0\n",
              "f4    0\n",
              "dtype: int64"
            ]
          },
          "metadata": {
            "tags": []
          },
          "execution_count": 32
        }
      ]
    },
    {
      "cell_type": "code",
      "metadata": {
        "id": "K09Hlm_p5vPV",
        "colab": {
          "base_uri": "https://localhost:8080/",
          "height": 595
        },
        "outputId": "9504917d-f595-4dab-8721-b6a00383a480"
      },
      "source": [
        "X_['Avg Install'].median()"
      ],
      "id": "K09Hlm_p5vPV",
      "execution_count": 33,
      "outputs": [
        {
          "output_type": "error",
          "ename": "KeyError",
          "evalue": "ignored",
          "traceback": [
            "\u001b[0;31m---------------------------------------------------------------------------\u001b[0m",
            "\u001b[0;31mKeyError\u001b[0m                                  Traceback (most recent call last)",
            "\u001b[0;32m/usr/local/lib/python3.7/dist-packages/pandas/core/indexes/base.py\u001b[0m in \u001b[0;36mget_loc\u001b[0;34m(self, key, method, tolerance)\u001b[0m\n\u001b[1;32m   2897\u001b[0m             \u001b[0;32mtry\u001b[0m\u001b[0;34m:\u001b[0m\u001b[0;34m\u001b[0m\u001b[0;34m\u001b[0m\u001b[0m\n\u001b[0;32m-> 2898\u001b[0;31m                 \u001b[0;32mreturn\u001b[0m \u001b[0mself\u001b[0m\u001b[0;34m.\u001b[0m\u001b[0m_engine\u001b[0m\u001b[0;34m.\u001b[0m\u001b[0mget_loc\u001b[0m\u001b[0;34m(\u001b[0m\u001b[0mcasted_key\u001b[0m\u001b[0;34m)\u001b[0m\u001b[0;34m\u001b[0m\u001b[0;34m\u001b[0m\u001b[0m\n\u001b[0m\u001b[1;32m   2899\u001b[0m             \u001b[0;32mexcept\u001b[0m \u001b[0mKeyError\u001b[0m \u001b[0;32mas\u001b[0m \u001b[0merr\u001b[0m\u001b[0;34m:\u001b[0m\u001b[0;34m\u001b[0m\u001b[0;34m\u001b[0m\u001b[0m\n",
            "\u001b[0;32mpandas/_libs/index.pyx\u001b[0m in \u001b[0;36mpandas._libs.index.IndexEngine.get_loc\u001b[0;34m()\u001b[0m\n",
            "\u001b[0;32mpandas/_libs/index.pyx\u001b[0m in \u001b[0;36mpandas._libs.index.IndexEngine.get_loc\u001b[0;34m()\u001b[0m\n",
            "\u001b[0;32mpandas/_libs/hashtable_class_helper.pxi\u001b[0m in \u001b[0;36mpandas._libs.hashtable.PyObjectHashTable.get_item\u001b[0;34m()\u001b[0m\n",
            "\u001b[0;32mpandas/_libs/hashtable_class_helper.pxi\u001b[0m in \u001b[0;36mpandas._libs.hashtable.PyObjectHashTable.get_item\u001b[0;34m()\u001b[0m\n",
            "\u001b[0;31mKeyError\u001b[0m: 'Avg Install'",
            "\nThe above exception was the direct cause of the following exception:\n",
            "\u001b[0;31mKeyError\u001b[0m                                  Traceback (most recent call last)",
            "\u001b[0;32m<ipython-input-33-64ff4f8997b6>\u001b[0m in \u001b[0;36m<module>\u001b[0;34m()\u001b[0m\n\u001b[0;32m----> 1\u001b[0;31m \u001b[0mX_\u001b[0m\u001b[0;34m[\u001b[0m\u001b[0;34m'Avg Install'\u001b[0m\u001b[0;34m]\u001b[0m\u001b[0;34m.\u001b[0m\u001b[0mmedian\u001b[0m\u001b[0;34m(\u001b[0m\u001b[0;34m)\u001b[0m\u001b[0;34m\u001b[0m\u001b[0;34m\u001b[0m\u001b[0m\n\u001b[0m",
            "\u001b[0;32m/usr/local/lib/python3.7/dist-packages/pandas/core/frame.py\u001b[0m in \u001b[0;36m__getitem__\u001b[0;34m(self, key)\u001b[0m\n\u001b[1;32m   2904\u001b[0m             \u001b[0;32mif\u001b[0m \u001b[0mself\u001b[0m\u001b[0;34m.\u001b[0m\u001b[0mcolumns\u001b[0m\u001b[0;34m.\u001b[0m\u001b[0mnlevels\u001b[0m \u001b[0;34m>\u001b[0m \u001b[0;36m1\u001b[0m\u001b[0;34m:\u001b[0m\u001b[0;34m\u001b[0m\u001b[0;34m\u001b[0m\u001b[0m\n\u001b[1;32m   2905\u001b[0m                 \u001b[0;32mreturn\u001b[0m \u001b[0mself\u001b[0m\u001b[0;34m.\u001b[0m\u001b[0m_getitem_multilevel\u001b[0m\u001b[0;34m(\u001b[0m\u001b[0mkey\u001b[0m\u001b[0;34m)\u001b[0m\u001b[0;34m\u001b[0m\u001b[0;34m\u001b[0m\u001b[0m\n\u001b[0;32m-> 2906\u001b[0;31m             \u001b[0mindexer\u001b[0m \u001b[0;34m=\u001b[0m \u001b[0mself\u001b[0m\u001b[0;34m.\u001b[0m\u001b[0mcolumns\u001b[0m\u001b[0;34m.\u001b[0m\u001b[0mget_loc\u001b[0m\u001b[0;34m(\u001b[0m\u001b[0mkey\u001b[0m\u001b[0;34m)\u001b[0m\u001b[0;34m\u001b[0m\u001b[0;34m\u001b[0m\u001b[0m\n\u001b[0m\u001b[1;32m   2907\u001b[0m             \u001b[0;32mif\u001b[0m \u001b[0mis_integer\u001b[0m\u001b[0;34m(\u001b[0m\u001b[0mindexer\u001b[0m\u001b[0;34m)\u001b[0m\u001b[0;34m:\u001b[0m\u001b[0;34m\u001b[0m\u001b[0;34m\u001b[0m\u001b[0m\n\u001b[1;32m   2908\u001b[0m                 \u001b[0mindexer\u001b[0m \u001b[0;34m=\u001b[0m \u001b[0;34m[\u001b[0m\u001b[0mindexer\u001b[0m\u001b[0;34m]\u001b[0m\u001b[0;34m\u001b[0m\u001b[0;34m\u001b[0m\u001b[0m\n",
            "\u001b[0;32m/usr/local/lib/python3.7/dist-packages/pandas/core/indexes/base.py\u001b[0m in \u001b[0;36mget_loc\u001b[0;34m(self, key, method, tolerance)\u001b[0m\n\u001b[1;32m   2898\u001b[0m                 \u001b[0;32mreturn\u001b[0m \u001b[0mself\u001b[0m\u001b[0;34m.\u001b[0m\u001b[0m_engine\u001b[0m\u001b[0;34m.\u001b[0m\u001b[0mget_loc\u001b[0m\u001b[0;34m(\u001b[0m\u001b[0mcasted_key\u001b[0m\u001b[0;34m)\u001b[0m\u001b[0;34m\u001b[0m\u001b[0;34m\u001b[0m\u001b[0m\n\u001b[1;32m   2899\u001b[0m             \u001b[0;32mexcept\u001b[0m \u001b[0mKeyError\u001b[0m \u001b[0;32mas\u001b[0m \u001b[0merr\u001b[0m\u001b[0;34m:\u001b[0m\u001b[0;34m\u001b[0m\u001b[0;34m\u001b[0m\u001b[0m\n\u001b[0;32m-> 2900\u001b[0;31m                 \u001b[0;32mraise\u001b[0m \u001b[0mKeyError\u001b[0m\u001b[0;34m(\u001b[0m\u001b[0mkey\u001b[0m\u001b[0;34m)\u001b[0m \u001b[0;32mfrom\u001b[0m \u001b[0merr\u001b[0m\u001b[0;34m\u001b[0m\u001b[0;34m\u001b[0m\u001b[0m\n\u001b[0m\u001b[1;32m   2901\u001b[0m \u001b[0;34m\u001b[0m\u001b[0m\n\u001b[1;32m   2902\u001b[0m         \u001b[0;32mif\u001b[0m \u001b[0mtolerance\u001b[0m \u001b[0;32mis\u001b[0m \u001b[0;32mnot\u001b[0m \u001b[0;32mNone\u001b[0m\u001b[0;34m:\u001b[0m\u001b[0;34m\u001b[0m\u001b[0;34m\u001b[0m\u001b[0m\n",
            "\u001b[0;31mKeyError\u001b[0m: 'Avg Install'"
          ]
        }
      ]
    },
    {
      "cell_type": "code",
      "metadata": {
        "id": "pMwIjw3_52xS",
        "colab": {
          "base_uri": "https://localhost:8080/",
          "height": 595
        },
        "outputId": "fa1e4787-ec81-4074-d948-69d747c0a66a"
      },
      "source": [
        "X_['Avg Install']=X_['Avg Install'].fillna(2298.813953488)"
      ],
      "id": "pMwIjw3_52xS",
      "execution_count": 34,
      "outputs": [
        {
          "output_type": "error",
          "ename": "KeyError",
          "evalue": "ignored",
          "traceback": [
            "\u001b[0;31m---------------------------------------------------------------------------\u001b[0m",
            "\u001b[0;31mKeyError\u001b[0m                                  Traceback (most recent call last)",
            "\u001b[0;32m/usr/local/lib/python3.7/dist-packages/pandas/core/indexes/base.py\u001b[0m in \u001b[0;36mget_loc\u001b[0;34m(self, key, method, tolerance)\u001b[0m\n\u001b[1;32m   2897\u001b[0m             \u001b[0;32mtry\u001b[0m\u001b[0;34m:\u001b[0m\u001b[0;34m\u001b[0m\u001b[0;34m\u001b[0m\u001b[0m\n\u001b[0;32m-> 2898\u001b[0;31m                 \u001b[0;32mreturn\u001b[0m \u001b[0mself\u001b[0m\u001b[0;34m.\u001b[0m\u001b[0m_engine\u001b[0m\u001b[0;34m.\u001b[0m\u001b[0mget_loc\u001b[0m\u001b[0;34m(\u001b[0m\u001b[0mcasted_key\u001b[0m\u001b[0;34m)\u001b[0m\u001b[0;34m\u001b[0m\u001b[0;34m\u001b[0m\u001b[0m\n\u001b[0m\u001b[1;32m   2899\u001b[0m             \u001b[0;32mexcept\u001b[0m \u001b[0mKeyError\u001b[0m \u001b[0;32mas\u001b[0m \u001b[0merr\u001b[0m\u001b[0;34m:\u001b[0m\u001b[0;34m\u001b[0m\u001b[0;34m\u001b[0m\u001b[0m\n",
            "\u001b[0;32mpandas/_libs/index.pyx\u001b[0m in \u001b[0;36mpandas._libs.index.IndexEngine.get_loc\u001b[0;34m()\u001b[0m\n",
            "\u001b[0;32mpandas/_libs/index.pyx\u001b[0m in \u001b[0;36mpandas._libs.index.IndexEngine.get_loc\u001b[0;34m()\u001b[0m\n",
            "\u001b[0;32mpandas/_libs/hashtable_class_helper.pxi\u001b[0m in \u001b[0;36mpandas._libs.hashtable.PyObjectHashTable.get_item\u001b[0;34m()\u001b[0m\n",
            "\u001b[0;32mpandas/_libs/hashtable_class_helper.pxi\u001b[0m in \u001b[0;36mpandas._libs.hashtable.PyObjectHashTable.get_item\u001b[0;34m()\u001b[0m\n",
            "\u001b[0;31mKeyError\u001b[0m: 'Avg Install'",
            "\nThe above exception was the direct cause of the following exception:\n",
            "\u001b[0;31mKeyError\u001b[0m                                  Traceback (most recent call last)",
            "\u001b[0;32m<ipython-input-34-c7edb29537df>\u001b[0m in \u001b[0;36m<module>\u001b[0;34m()\u001b[0m\n\u001b[0;32m----> 1\u001b[0;31m \u001b[0mX_\u001b[0m\u001b[0;34m[\u001b[0m\u001b[0;34m'Avg Install'\u001b[0m\u001b[0;34m]\u001b[0m\u001b[0;34m=\u001b[0m\u001b[0mX_\u001b[0m\u001b[0;34m[\u001b[0m\u001b[0;34m'Avg Install'\u001b[0m\u001b[0;34m]\u001b[0m\u001b[0;34m.\u001b[0m\u001b[0mfillna\u001b[0m\u001b[0;34m(\u001b[0m\u001b[0;36m2298.813953488\u001b[0m\u001b[0;34m)\u001b[0m\u001b[0;34m\u001b[0m\u001b[0;34m\u001b[0m\u001b[0m\n\u001b[0m",
            "\u001b[0;32m/usr/local/lib/python3.7/dist-packages/pandas/core/frame.py\u001b[0m in \u001b[0;36m__getitem__\u001b[0;34m(self, key)\u001b[0m\n\u001b[1;32m   2904\u001b[0m             \u001b[0;32mif\u001b[0m \u001b[0mself\u001b[0m\u001b[0;34m.\u001b[0m\u001b[0mcolumns\u001b[0m\u001b[0;34m.\u001b[0m\u001b[0mnlevels\u001b[0m \u001b[0;34m>\u001b[0m \u001b[0;36m1\u001b[0m\u001b[0;34m:\u001b[0m\u001b[0;34m\u001b[0m\u001b[0;34m\u001b[0m\u001b[0m\n\u001b[1;32m   2905\u001b[0m                 \u001b[0;32mreturn\u001b[0m \u001b[0mself\u001b[0m\u001b[0;34m.\u001b[0m\u001b[0m_getitem_multilevel\u001b[0m\u001b[0;34m(\u001b[0m\u001b[0mkey\u001b[0m\u001b[0;34m)\u001b[0m\u001b[0;34m\u001b[0m\u001b[0;34m\u001b[0m\u001b[0m\n\u001b[0;32m-> 2906\u001b[0;31m             \u001b[0mindexer\u001b[0m \u001b[0;34m=\u001b[0m \u001b[0mself\u001b[0m\u001b[0;34m.\u001b[0m\u001b[0mcolumns\u001b[0m\u001b[0;34m.\u001b[0m\u001b[0mget_loc\u001b[0m\u001b[0;34m(\u001b[0m\u001b[0mkey\u001b[0m\u001b[0;34m)\u001b[0m\u001b[0;34m\u001b[0m\u001b[0;34m\u001b[0m\u001b[0m\n\u001b[0m\u001b[1;32m   2907\u001b[0m             \u001b[0;32mif\u001b[0m \u001b[0mis_integer\u001b[0m\u001b[0;34m(\u001b[0m\u001b[0mindexer\u001b[0m\u001b[0;34m)\u001b[0m\u001b[0;34m:\u001b[0m\u001b[0;34m\u001b[0m\u001b[0;34m\u001b[0m\u001b[0m\n\u001b[1;32m   2908\u001b[0m                 \u001b[0mindexer\u001b[0m \u001b[0;34m=\u001b[0m \u001b[0;34m[\u001b[0m\u001b[0mindexer\u001b[0m\u001b[0;34m]\u001b[0m\u001b[0;34m\u001b[0m\u001b[0;34m\u001b[0m\u001b[0m\n",
            "\u001b[0;32m/usr/local/lib/python3.7/dist-packages/pandas/core/indexes/base.py\u001b[0m in \u001b[0;36mget_loc\u001b[0;34m(self, key, method, tolerance)\u001b[0m\n\u001b[1;32m   2898\u001b[0m                 \u001b[0;32mreturn\u001b[0m \u001b[0mself\u001b[0m\u001b[0;34m.\u001b[0m\u001b[0m_engine\u001b[0m\u001b[0;34m.\u001b[0m\u001b[0mget_loc\u001b[0m\u001b[0;34m(\u001b[0m\u001b[0mcasted_key\u001b[0m\u001b[0;34m)\u001b[0m\u001b[0;34m\u001b[0m\u001b[0;34m\u001b[0m\u001b[0m\n\u001b[1;32m   2899\u001b[0m             \u001b[0;32mexcept\u001b[0m \u001b[0mKeyError\u001b[0m \u001b[0;32mas\u001b[0m \u001b[0merr\u001b[0m\u001b[0;34m:\u001b[0m\u001b[0;34m\u001b[0m\u001b[0;34m\u001b[0m\u001b[0m\n\u001b[0;32m-> 2900\u001b[0;31m                 \u001b[0;32mraise\u001b[0m \u001b[0mKeyError\u001b[0m\u001b[0;34m(\u001b[0m\u001b[0mkey\u001b[0m\u001b[0;34m)\u001b[0m \u001b[0;32mfrom\u001b[0m \u001b[0merr\u001b[0m\u001b[0;34m\u001b[0m\u001b[0;34m\u001b[0m\u001b[0m\n\u001b[0m\u001b[1;32m   2901\u001b[0m \u001b[0;34m\u001b[0m\u001b[0m\n\u001b[1;32m   2902\u001b[0m         \u001b[0;32mif\u001b[0m \u001b[0mtolerance\u001b[0m \u001b[0;32mis\u001b[0m \u001b[0;32mnot\u001b[0m \u001b[0;32mNone\u001b[0m\u001b[0;34m:\u001b[0m\u001b[0;34m\u001b[0m\u001b[0;34m\u001b[0m\u001b[0m\n",
            "\u001b[0;31mKeyError\u001b[0m: 'Avg Install'"
          ]
        }
      ]
    },
    {
      "cell_type": "code",
      "metadata": {
        "id": "JEUzojAXzQhh"
      },
      "source": [
        "\n",
        "\n",
        "X_=scaler.fit_transform(X_)\n"
      ],
      "id": "JEUzojAXzQhh",
      "execution_count": 35,
      "outputs": []
    },
    {
      "cell_type": "code",
      "metadata": {
        "id": "NXR-k9p8fS0h"
      },
      "source": [
        "y_pred_1 = model.predict(X_test)"
      ],
      "id": "NXR-k9p8fS0h",
      "execution_count": 36,
      "outputs": []
    },
    {
      "cell_type": "code",
      "metadata": {
        "colab": {
          "base_uri": "https://localhost:8080/",
          "height": 281
        },
        "id": "AZZ5W6rqzZnz",
        "outputId": "4439b079-c33c-4c47-b40c-bdc839dd6781"
      },
      "source": [
        "plt.plot(y_test, color = 'red', label = 'Real data')\n",
        "plt.plot(y_pred_1, color = 'blue', label = 'Predicted data')\n",
        "plt.title('Prediction')\n",
        "plt.legend()\n",
        "plt.show()"
      ],
      "id": "AZZ5W6rqzZnz",
      "execution_count": 37,
      "outputs": [
        {
          "output_type": "display_data",
          "data": {
            "image/png": "[encoded data removed]",
            "text/plain": [
              "<Figure size 432x288 with 1 Axes>"
            ]
          },
          "metadata": {
            "tags": [],
            "needs_background": "light"
          }
        }
      ]
    },
    {
      "cell_type": "code",
      "metadata": {
        "id": "ozDRewAUziGE"
      },
      "source": [
        "y_pred_2=model.predict(X_)"
      ],
      "id": "ozDRewAUziGE",
      "execution_count": 38,
      "outputs": []
    },
    {
      "cell_type": "code",
      "metadata": {
        "id": "sx_frcXJ0Yz4"
      },
      "source": [
        "y_=y_.values\n",
        "y_=y_.reshape(-1,1)"
      ],
      "id": "sx_frcXJ0Yz4",
      "execution_count": 39,
      "outputs": []
    },
    {
      "cell_type": "code",
      "metadata": {
        "id": "CVzOhuYH0PqP"
      },
      "source": [
        "y_=scaler.fit_transform(y_)"
      ],
      "id": "CVzOhuYH0PqP",
      "execution_count": 40,
      "outputs": []
    },
    {
      "cell_type": "code",
      "metadata": {
        "colab": {
          "base_uri": "https://localhost:8080/",
          "height": 281
        },
        "id": "4MBrERtS0VwR",
        "outputId": "e315f3e7-dcfe-4a4f-f86e-b27da1c55ac3"
      },
      "source": [
        "plt.plot(y_, color = 'red', label = 'Real data')\n",
        "plt.plot(y_pred_2, color = 'blue', label = 'Predicted data')\n",
        "plt.title('Prediction')\n",
        "plt.legend()\n",
        "plt.show()"
      ],
      "id": "4MBrERtS0VwR",
      "execution_count": 41,
      "outputs": [
        {
          "output_type": "display_data",
          "data": {
            "image/png": "[encoded data removed]",
            "text/plain": [
              "<Figure size 432x288 with 1 Axes>"
            ]
          },
          "metadata": {
            "tags": [],
            "needs_background": "light"
          }
        }
      ]
    },
    {
      "cell_type": "code",
      "metadata": {
        "id": "qo_FkxTp0uvX"
      },
      "source": [
        "y_pred_2=scaler.inverse_transform(y_pred_2)"
      ],
      "id": "qo_FkxTp0uvX",
      "execution_count": 42,
      "outputs": []
    },
    {
      "cell_type": "code",
      "metadata": {
        "colab": {
          "base_uri": "https://localhost:8080/"
        },
        "id": "cNRvlJgN0_0i",
        "outputId": "bbb3e846-5342-4074-cbf8-afd81a8e9d67"
      },
      "source": [
        "y_pred_2"
      ],
      "id": "cNRvlJgN0_0i",
      "execution_count": 43,
      "outputs": [
        {
          "output_type": "execute_result",
          "data": {
            "text/plain": [
              "array([[  8118.673  ],\n",
              "       [121969.86   ],\n",
              "       [118834.54   ],\n",
              "       [118834.54   ],\n",
              "       [131299.23   ],\n",
              "       [131299.23   ],\n",
              "       [106657.516  ],\n",
              "       [ 99004.55   ],\n",
              "       [116745.78   ],\n",
              "       [ 45438.543  ],\n",
              "       [  6298.468  ],\n",
              "       [ 86539.414  ],\n",
              "       [ 91071.66   ],\n",
              "       [ 62207.457  ],\n",
              "       [ 89062.12   ],\n",
              "       [128469.14   ],\n",
              "       [113104.625  ],\n",
              "       [ 97250.27   ],\n",
              "       [ 77512.02   ],\n",
              "       [124634.68   ],\n",
              "       [169573.97   ],\n",
              "       [ 81027.1    ],\n",
              "       [125408.72   ],\n",
              "       [ 39450.113  ],\n",
              "       [  8368.026  ],\n",
              "       [109911.336  ],\n",
              "       [101941.14   ],\n",
              "       [115116.13   ],\n",
              "       [102920.42   ],\n",
              "       [ 51309.38   ],\n",
              "       [ 11088.438  ],\n",
              "       [ 74858.695  ],\n",
              "       [106824.6    ],\n",
              "       [105570.58   ],\n",
              "       [ 61811.625  ],\n",
              "       [ 84341.37   ],\n",
              "       [ 84341.37   ],\n",
              "       [ 95557.93   ],\n",
              "       [ 95557.93   ],\n",
              "       [ 30062.479  ],\n",
              "       [  -286.78784],\n",
              "       [144195.77   ],\n",
              "       [112676.53   ],\n",
              "       [112288.695  ],\n",
              "       [ 32985.844  ],\n",
              "       [ 10105.328  ],\n",
              "       [125060.17   ],\n",
              "       [119092.24   ],\n",
              "       [ 74492.164  ],\n",
              "       [ 77534.45   ]], dtype=float32)"
            ]
          },
          "metadata": {
            "tags": []
          },
          "execution_count": 43
        }
      ]
    },
    {
      "cell_type": "code",
      "metadata": {
        "id": "0jowXirr1BXm"
      },
      "source": [
        "y_=scaler.inverse_transform(y_)"
      ],
      "id": "0jowXirr1BXm",
      "execution_count": 44,
      "outputs": []
    },
    {
      "cell_type": "code",
      "metadata": {
        "colab": {
          "base_uri": "https://localhost:8080/"
        },
        "id": "YHneIUIk1J0j",
        "outputId": "810829d1-a323-4dff-8675-d571bcfc6271"
      },
      "source": [
        "y_"
      ],
      "id": "YHneIUIk1J0j",
      "execution_count": 45,
      "outputs": [
        {
          "output_type": "execute_result",
          "data": {
            "text/plain": [
              "array([[1.7600000e+02],\n",
              "       [1.1453421e+05],\n",
              "       [1.2741210e+05],\n",
              "       [1.2741210e+05],\n",
              "       [1.2741210e+05],\n",
              "       [1.2741210e+05],\n",
              "       [7.3107940e+04],\n",
              "       [1.0033570e+05],\n",
              "       [8.2920440e+04],\n",
              "       [3.6992000e+04],\n",
              "       [3.2600000e+02],\n",
              "       [8.6287170e+04],\n",
              "       [7.9380380e+04],\n",
              "       [1.0450901e+05],\n",
              "       [9.6828960e+04],\n",
              "       [1.0832711e+05],\n",
              "       [9.9625260e+04],\n",
              "       [7.6878350e+04],\n",
              "       [6.9089170e+04],\n",
              "       [1.2821029e+05],\n",
              "       [1.7741042e+05],\n",
              "       [6.8424710e+04],\n",
              "       [1.3040640e+05],\n",
              "       [4.1651850e+04],\n",
              "       [1.0295000e+02],\n",
              "       [1.2132892e+05],\n",
              "       [9.4156550e+04],\n",
              "       [9.3428490e+04],\n",
              "       [7.3106960e+04],\n",
              "       [6.2484030e+04],\n",
              "       [5.0088000e+04],\n",
              "       [4.5289920e+04],\n",
              "       [9.5437440e+04],\n",
              "       [1.0067486e+05],\n",
              "       [5.5735080e+04],\n",
              "       [8.6421800e+04],\n",
              "       [8.6421800e+04],\n",
              "       [8.6421800e+04],\n",
              "       [8.6421800e+04],\n",
              "       [4.1343950e+04],\n",
              "       [1.5788000e+04],\n",
              "       [1.2898555e+05],\n",
              "       [9.3402160e+04],\n",
              "       [1.7674702e+05],\n",
              "       [3.2502400e+04],\n",
              "       [5.5111850e+04],\n",
              "       [1.3304285e+05],\n",
              "       [8.8538890e+04],\n",
              "       [6.6133390e+04],\n",
              "       [6.7090810e+04]])"
            ]
          },
          "metadata": {
            "tags": []
          },
          "execution_count": 45
        }
      ]
    },
    {
      "cell_type": "code",
      "metadata": {
        "colab": {
          "base_uri": "https://localhost:8080/",
          "height": 281
        },
        "id": "jEmsDycZ1Ko8",
        "outputId": "6d75c1c0-df04-40f7-9ca1-aa31e7c8100a"
      },
      "source": [
        "plt.plot(y_, color = 'red', label = 'Real data')\n",
        "plt.plot(y_pred_2, color = 'blue', label = 'Predicted data')\n",
        "plt.title('Prediction')\n",
        "plt.legend()\n",
        "plt.show()"
      ],
      "id": "jEmsDycZ1Ko8",
      "execution_count": 46,
      "outputs": [
        {
          "output_type": "display_data",
          "data": {
            "image/png": "[encoded data removed]",
            "text/plain": [
              "<Figure size 432x288 with 1 Axes>"
            ]
          },
          "metadata": {
            "tags": [],
            "needs_background": "light"
          }
        }
      ]
    },
    {
      "cell_type": "code",
      "metadata": {
        "id": "R6hPx5t41S9f"
      },
      "source": [
        "from sklearn.metrics import mean_squared_error"
      ],
      "id": "R6hPx5t41S9f",
      "execution_count": 47,
      "outputs": []
    },
    {
      "cell_type": "code",
      "metadata": {
        "id": "Xp4azxoJ_kO5"
      },
      "source": [
        "from sklearn.metrics import mean_absolute_error"
      ],
      "id": "Xp4azxoJ_kO5",
      "execution_count": 48,
      "outputs": []
    },
    {
      "cell_type": "code",
      "metadata": {
        "colab": {
          "base_uri": "https://localhost:8080/"
        },
        "id": "75BMhlTy_ruF",
        "outputId": "a2cd9fcf-4dad-4d39-c7c1-f411a8e6c3bd"
      },
      "source": [
        "mean_absolute_error(y_,y_pred_2)"
      ],
      "id": "75BMhlTy_ruF",
      "execution_count": 49,
      "outputs": [
        {
          "output_type": "execute_result",
          "data": {
            "text/plain": [
              "14234.124613085938"
            ]
          },
          "metadata": {
            "tags": []
          },
          "execution_count": 49
        }
      ]
    },
    {
      "cell_type": "code",
      "metadata": {
        "colab": {
          "base_uri": "https://localhost:8080/"
        },
        "id": "JWoxcOdX19AZ",
        "outputId": "78b3458d-1bdc-45b4-d57f-a6324a70cb50"
      },
      "source": [
        "np.sqrt(mean_squared_error(y_,y_pred_2))"
      ],
      "id": "JWoxcOdX19AZ",
      "execution_count": 50,
      "outputs": [
        {
          "output_type": "execute_result",
          "data": {
            "text/plain": [
              "19414.998762464922"
            ]
          },
          "metadata": {
            "tags": []
          },
          "execution_count": 50
        }
      ]
    },
    {
      "cell_type": "code",
      "metadata": {
        "colab": {
          "base_uri": "https://localhost:8080/"
        },
        "id": "UFrEtJSG1_xg",
        "outputId": "b1849074-9549-446a-e9e2-ba5d45752bc7"
      },
      "source": [
        "np.sqrt(mean_squared_error(y_test,y_pred_1))"
      ],
      "id": "UFrEtJSG1_xg",
      "execution_count": 51,
      "outputs": [
        {
          "output_type": "execute_result",
          "data": {
            "text/plain": [
              "0.10903267405930146"
            ]
          },
          "metadata": {
            "tags": []
          },
          "execution_count": 51
        }
      ]
    },
    {
      "cell_type": "code",
      "metadata": {
        "id": "YLy1ddX9HqWO"
      },
      "source": [
        "from keras.models import load_model"
      ],
      "id": "YLy1ddX9HqWO",
      "execution_count": 52,
      "outputs": []
    },
    {
      "cell_type": "code",
      "metadata": {
        "id": "v6dcgmW_IAS1"
      },
      "source": [
        "model.save('forecast_2.h5')"
      ],
      "id": "v6dcgmW_IAS1",
      "execution_count": 53,
      "outputs": []
    },
    {
      "cell_type": "code",
      "metadata": {
        "id": "q40Nh2fXIW50"
      },
      "source": [
        "loading_1=load_model('forecast_2.h5')"
      ],
      "id": "q40Nh2fXIW50",
      "execution_count": 54,
      "outputs": []
    },
    {
      "cell_type": "code",
      "metadata": {
        "id": "jH-badROIoFY",
        "colab": {
          "base_uri": "https://localhost:8080/",
          "height": 758
        },
        "outputId": "a17f15eb-e37a-4070-b9d2-a4f7d454bd92"
      },
      "source": [
        "\n",
        "p=loading_1.predict([[0.80519481, 0.67346939, 0.79220779, 0.72727273, 0.57888889,\n",
        "        0.27027027, 0.60106925]])\n"
      ],
      "id": "jH-badROIoFY",
      "execution_count": 349,
      "outputs": [
        {
          "output_type": "error",
          "ename": "ValueError",
          "evalue": "ignored",
          "traceback": [
            "\u001b[0;31m---------------------------------------------------------------------------\u001b[0m",
            "\u001b[0;31mValueError\u001b[0m                                Traceback (most recent call last)",
            "\u001b[0;32m<ipython-input-349-1e050518decd>\u001b[0m in \u001b[0;36m<module>\u001b[0;34m()\u001b[0m\n\u001b[1;32m      1\u001b[0m \u001b[0;34m\u001b[0m\u001b[0m\n\u001b[1;32m      2\u001b[0m p=loading_1.predict([[0.80519481, 0.67346939, 0.79220779, 0.72727273, 0.57888889,\n\u001b[0;32m----> 3\u001b[0;31m         0.27027027, 0.60106925]])\n\u001b[0m",
            "\u001b[0;32m/usr/local/lib/python3.7/dist-packages/tensorflow/python/keras/engine/training.py\u001b[0m in \u001b[0;36mpredict\u001b[0;34m(self, x, batch_size, verbose, steps, callbacks, max_queue_size, workers, use_multiprocessing)\u001b[0m\n\u001b[1;32m   1627\u001b[0m           \u001b[0;32mfor\u001b[0m \u001b[0mstep\u001b[0m \u001b[0;32min\u001b[0m \u001b[0mdata_handler\u001b[0m\u001b[0;34m.\u001b[0m\u001b[0msteps\u001b[0m\u001b[0;34m(\u001b[0m\u001b[0;34m)\u001b[0m\u001b[0;34m:\u001b[0m\u001b[0;34m\u001b[0m\u001b[0;34m\u001b[0m\u001b[0m\n\u001b[1;32m   1628\u001b[0m             \u001b[0mcallbacks\u001b[0m\u001b[0;34m.\u001b[0m\u001b[0mon_predict_batch_begin\u001b[0m\u001b[0;34m(\u001b[0m\u001b[0mstep\u001b[0m\u001b[0;34m)\u001b[0m\u001b[0;34m\u001b[0m\u001b[0;34m\u001b[0m\u001b[0m\n\u001b[0;32m-> 1629\u001b[0;31m             \u001b[0mtmp_batch_outputs\u001b[0m \u001b[0;34m=\u001b[0m \u001b[0mself\u001b[0m\u001b[0;34m.\u001b[0m\u001b[0mpredict_function\u001b[0m\u001b[0;34m(\u001b[0m\u001b[0miterator\u001b[0m\u001b[0;34m)\u001b[0m\u001b[0;34m\u001b[0m\u001b[0;34m\u001b[0m\u001b[0m\n\u001b[0m\u001b[1;32m   1630\u001b[0m             \u001b[0;32mif\u001b[0m \u001b[0mdata_handler\u001b[0m\u001b[0;34m.\u001b[0m\u001b[0mshould_sync\u001b[0m\u001b[0;34m:\u001b[0m\u001b[0;34m\u001b[0m\u001b[0;34m\u001b[0m\u001b[0m\n\u001b[1;32m   1631\u001b[0m               \u001b[0mcontext\u001b[0m\u001b[0;34m.\u001b[0m\u001b[0masync_wait\u001b[0m\u001b[0;34m(\u001b[0m\u001b[0;34m)\u001b[0m\u001b[0;34m\u001b[0m\u001b[0;34m\u001b[0m\u001b[0m\n",
            "\u001b[0;32m/usr/local/lib/python3.7/dist-packages/tensorflow/python/eager/def_function.py\u001b[0m in \u001b[0;36m__call__\u001b[0;34m(self, *args, **kwds)\u001b[0m\n\u001b[1;32m    826\u001b[0m     \u001b[0mtracing_count\u001b[0m \u001b[0;34m=\u001b[0m \u001b[0mself\u001b[0m\u001b[0;34m.\u001b[0m\u001b[0mexperimental_get_tracing_count\u001b[0m\u001b[0;34m(\u001b[0m\u001b[0;34m)\u001b[0m\u001b[0;34m\u001b[0m\u001b[0;34m\u001b[0m\u001b[0m\n\u001b[1;32m    827\u001b[0m     \u001b[0;32mwith\u001b[0m \u001b[0mtrace\u001b[0m\u001b[0;34m.\u001b[0m\u001b[0mTrace\u001b[0m\u001b[0;34m(\u001b[0m\u001b[0mself\u001b[0m\u001b[0;34m.\u001b[0m\u001b[0m_name\u001b[0m\u001b[0;34m)\u001b[0m \u001b[0;32mas\u001b[0m \u001b[0mtm\u001b[0m\u001b[0;34m:\u001b[0m\u001b[0;34m\u001b[0m\u001b[0;34m\u001b[0m\u001b[0m\n\u001b[0;32m--> 828\u001b[0;31m       \u001b[0mresult\u001b[0m \u001b[0;34m=\u001b[0m \u001b[0mself\u001b[0m\u001b[0;34m.\u001b[0m\u001b[0m_call\u001b[0m\u001b[0;34m(\u001b[0m\u001b[0;34m*\u001b[0m\u001b[0margs\u001b[0m\u001b[0;34m,\u001b[0m \u001b[0;34m**\u001b[0m\u001b[0mkwds\u001b[0m\u001b[0;34m)\u001b[0m\u001b[0;34m\u001b[0m\u001b[0;34m\u001b[0m\u001b[0m\n\u001b[0m\u001b[1;32m    829\u001b[0m       \u001b[0mcompiler\u001b[0m \u001b[0;34m=\u001b[0m \u001b[0;34m\"xla\"\u001b[0m \u001b[0;32mif\u001b[0m \u001b[0mself\u001b[0m\u001b[0;34m.\u001b[0m\u001b[0m_experimental_compile\u001b[0m \u001b[0;32melse\u001b[0m \u001b[0;34m\"nonXla\"\u001b[0m\u001b[0;34m\u001b[0m\u001b[0;34m\u001b[0m\u001b[0m\n\u001b[1;32m    830\u001b[0m       \u001b[0mnew_tracing_count\u001b[0m \u001b[0;34m=\u001b[0m \u001b[0mself\u001b[0m\u001b[0;34m.\u001b[0m\u001b[0mexperimental_get_tracing_count\u001b[0m\u001b[0;34m(\u001b[0m\u001b[0;34m)\u001b[0m\u001b[0;34m\u001b[0m\u001b[0;34m\u001b[0m\u001b[0m\n",
            "\u001b[0;32m/usr/local/lib/python3.7/dist-packages/tensorflow/python/eager/def_function.py\u001b[0m in \u001b[0;36m_call\u001b[0;34m(self, *args, **kwds)\u001b[0m\n\u001b[1;32m    869\u001b[0m       \u001b[0;31m# This is the first call of __call__, so we have to initialize.\u001b[0m\u001b[0;34m\u001b[0m\u001b[0;34m\u001b[0m\u001b[0;34m\u001b[0m\u001b[0m\n\u001b[1;32m    870\u001b[0m       \u001b[0minitializers\u001b[0m \u001b[0;34m=\u001b[0m \u001b[0;34m[\u001b[0m\u001b[0;34m]\u001b[0m\u001b[0;34m\u001b[0m\u001b[0;34m\u001b[0m\u001b[0m\n\u001b[0;32m--> 871\u001b[0;31m       \u001b[0mself\u001b[0m\u001b[0;34m.\u001b[0m\u001b[0m_initialize\u001b[0m\u001b[0;34m(\u001b[0m\u001b[0margs\u001b[0m\u001b[0;34m,\u001b[0m \u001b[0mkwds\u001b[0m\u001b[0;34m,\u001b[0m \u001b[0madd_initializers_to\u001b[0m\u001b[0;34m=\u001b[0m\u001b[0minitializers\u001b[0m\u001b[0;34m)\u001b[0m\u001b[0;34m\u001b[0m\u001b[0;34m\u001b[0m\u001b[0m\n\u001b[0m\u001b[1;32m    872\u001b[0m     \u001b[0;32mfinally\u001b[0m\u001b[0;34m:\u001b[0m\u001b[0;34m\u001b[0m\u001b[0;34m\u001b[0m\u001b[0m\n\u001b[1;32m    873\u001b[0m       \u001b[0;31m# At this point we know that the initialization is complete (or less\u001b[0m\u001b[0;34m\u001b[0m\u001b[0;34m\u001b[0m\u001b[0;34m\u001b[0m\u001b[0m\n",
            "\u001b[0;32m/usr/local/lib/python3.7/dist-packages/tensorflow/python/eager/def_function.py\u001b[0m in \u001b[0;36m_initialize\u001b[0;34m(self, args, kwds, add_initializers_to)\u001b[0m\n\u001b[1;32m    724\u001b[0m     self._concrete_stateful_fn = (\n\u001b[1;32m    725\u001b[0m         self._stateful_fn._get_concrete_function_internal_garbage_collected(  # pylint: disable=protected-access\n\u001b[0;32m--> 726\u001b[0;31m             *args, **kwds))\n\u001b[0m\u001b[1;32m    727\u001b[0m \u001b[0;34m\u001b[0m\u001b[0m\n\u001b[1;32m    728\u001b[0m     \u001b[0;32mdef\u001b[0m \u001b[0minvalid_creator_scope\u001b[0m\u001b[0;34m(\u001b[0m\u001b[0;34m*\u001b[0m\u001b[0munused_args\u001b[0m\u001b[0;34m,\u001b[0m \u001b[0;34m**\u001b[0m\u001b[0munused_kwds\u001b[0m\u001b[0;34m)\u001b[0m\u001b[0;34m:\u001b[0m\u001b[0;34m\u001b[0m\u001b[0;34m\u001b[0m\u001b[0m\n",
            "\u001b[0;32m/usr/local/lib/python3.7/dist-packages/tensorflow/python/eager/function.py\u001b[0m in \u001b[0;36m_get_concrete_function_internal_garbage_collected\u001b[0;34m(self, *args, **kwargs)\u001b[0m\n\u001b[1;32m   2967\u001b[0m       \u001b[0margs\u001b[0m\u001b[0;34m,\u001b[0m \u001b[0mkwargs\u001b[0m \u001b[0;34m=\u001b[0m \u001b[0;32mNone\u001b[0m\u001b[0;34m,\u001b[0m \u001b[0;32mNone\u001b[0m\u001b[0;34m\u001b[0m\u001b[0;34m\u001b[0m\u001b[0m\n\u001b[1;32m   2968\u001b[0m     \u001b[0;32mwith\u001b[0m \u001b[0mself\u001b[0m\u001b[0;34m.\u001b[0m\u001b[0m_lock\u001b[0m\u001b[0;34m:\u001b[0m\u001b[0;34m\u001b[0m\u001b[0;34m\u001b[0m\u001b[0m\n\u001b[0;32m-> 2969\u001b[0;31m       \u001b[0mgraph_function\u001b[0m\u001b[0;34m,\u001b[0m \u001b[0m_\u001b[0m \u001b[0;34m=\u001b[0m \u001b[0mself\u001b[0m\u001b[0;34m.\u001b[0m\u001b[0m_maybe_define_function\u001b[0m\u001b[0;34m(\u001b[0m\u001b[0margs\u001b[0m\u001b[0;34m,\u001b[0m \u001b[0mkwargs\u001b[0m\u001b[0;34m)\u001b[0m\u001b[0;34m\u001b[0m\u001b[0;34m\u001b[0m\u001b[0m\n\u001b[0m\u001b[1;32m   2970\u001b[0m     \u001b[0;32mreturn\u001b[0m \u001b[0mgraph_function\u001b[0m\u001b[0;34m\u001b[0m\u001b[0;34m\u001b[0m\u001b[0m\n\u001b[1;32m   2971\u001b[0m \u001b[0;34m\u001b[0m\u001b[0m\n",
            "\u001b[0;32m/usr/local/lib/python3.7/dist-packages/tensorflow/python/eager/function.py\u001b[0m in \u001b[0;36m_maybe_define_function\u001b[0;34m(self, args, kwargs)\u001b[0m\n\u001b[1;32m   3359\u001b[0m \u001b[0;34m\u001b[0m\u001b[0m\n\u001b[1;32m   3360\u001b[0m           \u001b[0mself\u001b[0m\u001b[0;34m.\u001b[0m\u001b[0m_function_cache\u001b[0m\u001b[0;34m.\u001b[0m\u001b[0mmissed\u001b[0m\u001b[0;34m.\u001b[0m\u001b[0madd\u001b[0m\u001b[0;34m(\u001b[0m\u001b[0mcall_context_key\u001b[0m\u001b[0;34m)\u001b[0m\u001b[0;34m\u001b[0m\u001b[0;34m\u001b[0m\u001b[0m\n\u001b[0;32m-> 3361\u001b[0;31m           \u001b[0mgraph_function\u001b[0m \u001b[0;34m=\u001b[0m \u001b[0mself\u001b[0m\u001b[0;34m.\u001b[0m\u001b[0m_create_graph_function\u001b[0m\u001b[0;34m(\u001b[0m\u001b[0margs\u001b[0m\u001b[0;34m,\u001b[0m \u001b[0mkwargs\u001b[0m\u001b[0;34m)\u001b[0m\u001b[0;34m\u001b[0m\u001b[0;34m\u001b[0m\u001b[0m\n\u001b[0m\u001b[1;32m   3362\u001b[0m           \u001b[0mself\u001b[0m\u001b[0;34m.\u001b[0m\u001b[0m_function_cache\u001b[0m\u001b[0;34m.\u001b[0m\u001b[0mprimary\u001b[0m\u001b[0;34m[\u001b[0m\u001b[0mcache_key\u001b[0m\u001b[0;34m]\u001b[0m \u001b[0;34m=\u001b[0m \u001b[0mgraph_function\u001b[0m\u001b[0;34m\u001b[0m\u001b[0;34m\u001b[0m\u001b[0m\n\u001b[1;32m   3363\u001b[0m \u001b[0;34m\u001b[0m\u001b[0m\n",
            "\u001b[0;32m/usr/local/lib/python3.7/dist-packages/tensorflow/python/eager/function.py\u001b[0m in \u001b[0;36m_create_graph_function\u001b[0;34m(self, args, kwargs, override_flat_arg_shapes)\u001b[0m\n\u001b[1;32m   3204\u001b[0m             \u001b[0marg_names\u001b[0m\u001b[0;34m=\u001b[0m\u001b[0marg_names\u001b[0m\u001b[0;34m,\u001b[0m\u001b[0;34m\u001b[0m\u001b[0;34m\u001b[0m\u001b[0m\n\u001b[1;32m   3205\u001b[0m             \u001b[0moverride_flat_arg_shapes\u001b[0m\u001b[0;34m=\u001b[0m\u001b[0moverride_flat_arg_shapes\u001b[0m\u001b[0;34m,\u001b[0m\u001b[0;34m\u001b[0m\u001b[0;34m\u001b[0m\u001b[0m\n\u001b[0;32m-> 3206\u001b[0;31m             capture_by_value=self._capture_by_value),\n\u001b[0m\u001b[1;32m   3207\u001b[0m         \u001b[0mself\u001b[0m\u001b[0;34m.\u001b[0m\u001b[0m_function_attributes\u001b[0m\u001b[0;34m,\u001b[0m\u001b[0;34m\u001b[0m\u001b[0;34m\u001b[0m\u001b[0m\n\u001b[1;32m   3208\u001b[0m         \u001b[0mfunction_spec\u001b[0m\u001b[0;34m=\u001b[0m\u001b[0mself\u001b[0m\u001b[0;34m.\u001b[0m\u001b[0mfunction_spec\u001b[0m\u001b[0;34m,\u001b[0m\u001b[0;34m\u001b[0m\u001b[0;34m\u001b[0m\u001b[0m\n",
            "\u001b[0;32m/usr/local/lib/python3.7/dist-packages/tensorflow/python/framework/func_graph.py\u001b[0m in \u001b[0;36mfunc_graph_from_py_func\u001b[0;34m(name, python_func, args, kwargs, signature, func_graph, autograph, autograph_options, add_control_dependencies, arg_names, op_return_value, collections, capture_by_value, override_flat_arg_shapes)\u001b[0m\n\u001b[1;32m    988\u001b[0m         \u001b[0m_\u001b[0m\u001b[0;34m,\u001b[0m \u001b[0moriginal_func\u001b[0m \u001b[0;34m=\u001b[0m \u001b[0mtf_decorator\u001b[0m\u001b[0;34m.\u001b[0m\u001b[0munwrap\u001b[0m\u001b[0;34m(\u001b[0m\u001b[0mpython_func\u001b[0m\u001b[0;34m)\u001b[0m\u001b[0;34m\u001b[0m\u001b[0;34m\u001b[0m\u001b[0m\n\u001b[1;32m    989\u001b[0m \u001b[0;34m\u001b[0m\u001b[0m\n\u001b[0;32m--> 990\u001b[0;31m       \u001b[0mfunc_outputs\u001b[0m \u001b[0;34m=\u001b[0m \u001b[0mpython_func\u001b[0m\u001b[0;34m(\u001b[0m\u001b[0;34m*\u001b[0m\u001b[0mfunc_args\u001b[0m\u001b[0;34m,\u001b[0m \u001b[0;34m**\u001b[0m\u001b[0mfunc_kwargs\u001b[0m\u001b[0;34m)\u001b[0m\u001b[0;34m\u001b[0m\u001b[0;34m\u001b[0m\u001b[0m\n\u001b[0m\u001b[1;32m    991\u001b[0m \u001b[0;34m\u001b[0m\u001b[0m\n\u001b[1;32m    992\u001b[0m       \u001b[0;31m# invariant: `func_outputs` contains only Tensors, CompositeTensors,\u001b[0m\u001b[0;34m\u001b[0m\u001b[0;34m\u001b[0m\u001b[0;34m\u001b[0m\u001b[0m\n",
            "\u001b[0;32m/usr/local/lib/python3.7/dist-packages/tensorflow/python/eager/def_function.py\u001b[0m in \u001b[0;36mwrapped_fn\u001b[0;34m(*args, **kwds)\u001b[0m\n\u001b[1;32m    632\u001b[0m             \u001b[0mxla_context\u001b[0m\u001b[0;34m.\u001b[0m\u001b[0mExit\u001b[0m\u001b[0;34m(\u001b[0m\u001b[0;34m)\u001b[0m\u001b[0;34m\u001b[0m\u001b[0;34m\u001b[0m\u001b[0m\n\u001b[1;32m    633\u001b[0m         \u001b[0;32melse\u001b[0m\u001b[0;34m:\u001b[0m\u001b[0;34m\u001b[0m\u001b[0;34m\u001b[0m\u001b[0m\n\u001b[0;32m--> 634\u001b[0;31m           \u001b[0mout\u001b[0m \u001b[0;34m=\u001b[0m \u001b[0mweak_wrapped_fn\u001b[0m\u001b[0;34m(\u001b[0m\u001b[0;34m)\u001b[0m\u001b[0;34m.\u001b[0m\u001b[0m__wrapped__\u001b[0m\u001b[0;34m(\u001b[0m\u001b[0;34m*\u001b[0m\u001b[0margs\u001b[0m\u001b[0;34m,\u001b[0m \u001b[0;34m**\u001b[0m\u001b[0mkwds\u001b[0m\u001b[0;34m)\u001b[0m\u001b[0;34m\u001b[0m\u001b[0;34m\u001b[0m\u001b[0m\n\u001b[0m\u001b[1;32m    635\u001b[0m         \u001b[0;32mreturn\u001b[0m \u001b[0mout\u001b[0m\u001b[0;34m\u001b[0m\u001b[0;34m\u001b[0m\u001b[0m\n\u001b[1;32m    636\u001b[0m \u001b[0;34m\u001b[0m\u001b[0m\n",
            "\u001b[0;32m/usr/local/lib/python3.7/dist-packages/tensorflow/python/framework/func_graph.py\u001b[0m in \u001b[0;36mwrapper\u001b[0;34m(*args, **kwargs)\u001b[0m\n\u001b[1;32m    975\u001b[0m           \u001b[0;32mexcept\u001b[0m \u001b[0mException\u001b[0m \u001b[0;32mas\u001b[0m \u001b[0me\u001b[0m\u001b[0;34m:\u001b[0m  \u001b[0;31m# pylint:disable=broad-except\u001b[0m\u001b[0;34m\u001b[0m\u001b[0;34m\u001b[0m\u001b[0m\n\u001b[1;32m    976\u001b[0m             \u001b[0;32mif\u001b[0m \u001b[0mhasattr\u001b[0m\u001b[0;34m(\u001b[0m\u001b[0me\u001b[0m\u001b[0;34m,\u001b[0m \u001b[0;34m\"ag_error_metadata\"\u001b[0m\u001b[0;34m)\u001b[0m\u001b[0;34m:\u001b[0m\u001b[0;34m\u001b[0m\u001b[0;34m\u001b[0m\u001b[0m\n\u001b[0;32m--> 977\u001b[0;31m               \u001b[0;32mraise\u001b[0m \u001b[0me\u001b[0m\u001b[0;34m.\u001b[0m\u001b[0mag_error_metadata\u001b[0m\u001b[0;34m.\u001b[0m\u001b[0mto_exception\u001b[0m\u001b[0;34m(\u001b[0m\u001b[0me\u001b[0m\u001b[0;34m)\u001b[0m\u001b[0;34m\u001b[0m\u001b[0;34m\u001b[0m\u001b[0m\n\u001b[0m\u001b[1;32m    978\u001b[0m             \u001b[0;32melse\u001b[0m\u001b[0;34m:\u001b[0m\u001b[0;34m\u001b[0m\u001b[0;34m\u001b[0m\u001b[0m\n\u001b[1;32m    979\u001b[0m               \u001b[0;32mraise\u001b[0m\u001b[0;34m\u001b[0m\u001b[0;34m\u001b[0m\u001b[0m\n",
            "\u001b[0;31mValueError\u001b[0m: in user code:\n\n    /usr/local/lib/python3.7/dist-packages/tensorflow/python/keras/engine/training.py:1478 predict_function  *\n        return step_function(self, iterator)\n    /usr/local/lib/python3.7/dist-packages/tensorflow/python/keras/engine/training.py:1468 step_function  **\n        outputs = model.distribute_strategy.run(run_step, args=(data,))\n    /usr/local/lib/python3.7/dist-packages/tensorflow/python/distribute/distribute_lib.py:1259 run\n        return self._extended.call_for_each_replica(fn, args=args, kwargs=kwargs)\n    /usr/local/lib/python3.7/dist-packages/tensorflow/python/distribute/distribute_lib.py:2730 call_for_each_replica\n        return self._call_for_each_replica(fn, args, kwargs)\n    /usr/local/lib/python3.7/dist-packages/tensorflow/python/distribute/distribute_lib.py:3417 _call_for_each_replica\n        return fn(*args, **kwargs)\n    /usr/local/lib/python3.7/dist-packages/tensorflow/python/keras/engine/training.py:1461 run_step  **\n        outputs = model.predict_step(data)\n    /usr/local/lib/python3.7/dist-packages/tensorflow/python/keras/engine/training.py:1434 predict_step\n        return self(x, training=False)\n    /usr/local/lib/python3.7/dist-packages/tensorflow/python/keras/engine/base_layer.py:998 __call__\n        input_spec.assert_input_compatibility(self.input_spec, inputs, self.name)\n    /usr/local/lib/python3.7/dist-packages/tensorflow/python/keras/engine/input_spec.py:259 assert_input_compatibility\n        ' but received input with shape ' + display_shape(x.shape))\n\n    ValueError: Input 0 of layer sequential_15 is incompatible with the layer: expected axis -1 of input shape to have value 4 but received input with shape (None, 7)\n"
          ]
        }
      ]
    },
    {
      "cell_type": "code",
      "metadata": {
        "colab": {
          "base_uri": "https://localhost:8080/",
          "height": 171
        },
        "id": "9VEWi56Jbe4s",
        "outputId": "9925e998-6fc9-4ba0-b193-478bbdf53a57"
      },
      "source": [
        "scaler.inverse_transform(p)"
      ],
      "id": "9VEWi56Jbe4s",
      "execution_count": 350,
      "outputs": [
        {
          "output_type": "error",
          "ename": "NameError",
          "evalue": "ignored",
          "traceback": [
            "\u001b[0;31m---------------------------------------------------------------------------\u001b[0m",
            "\u001b[0;31mNameError\u001b[0m                                 Traceback (most recent call last)",
            "\u001b[0;32m<ipython-input-350-fdc17342e3fa>\u001b[0m in \u001b[0;36m<module>\u001b[0;34m()\u001b[0m\n\u001b[0;32m----> 1\u001b[0;31m \u001b[0mscaler\u001b[0m\u001b[0;34m.\u001b[0m\u001b[0minverse_transform\u001b[0m\u001b[0;34m(\u001b[0m\u001b[0mp\u001b[0m\u001b[0;34m)\u001b[0m\u001b[0;34m\u001b[0m\u001b[0;34m\u001b[0m\u001b[0m\n\u001b[0m",
            "\u001b[0;31mNameError\u001b[0m: name 'p' is not defined"
          ]
        }
      ]
    },
    {
      "cell_type": "code",
      "metadata": {
        "id": "9gMqPeHCf5Us"
      },
      "source": [
        ""
      ],
      "id": "9gMqPeHCf5Us",
      "execution_count": 350,
      "outputs": []
    },
    {
      "cell_type": "code",
      "metadata": {
        "colab": {
          "base_uri": "https://localhost:8080/",
          "height": 318
        },
        "id": "SLLOWRgmb8i-",
        "outputId": "83f9c3a8-2a78-4d69-c2c7-f3659d1ee58c"
      },
      "source": [
        "df1[311:320]"
      ],
      "id": "SLLOWRgmb8i-",
      "execution_count": 351,
      "outputs": [
        {
          "output_type": "execute_result",
          "data": {
            "text/html": [
              "<div>\n",
              "<style scoped>\n",
              "    .dataframe tbody tr th:only-of-type {\n",
              "        vertical-align: middle;\n",
              "    }\n",
              "\n",
              "    .dataframe tbody tr th {\n",
              "        vertical-align: top;\n",
              "    }\n",
              "\n",
              "    .dataframe thead th {\n",
              "        text-align: right;\n",
              "    }\n",
              "</style>\n",
              "<table border=\"1\" class=\"dataframe\">\n",
              "  <thead>\n",
              "    <tr style=\"text-align: right;\">\n",
              "      <th></th>\n",
              "      <th>Completed Jobs</th>\n",
              "      <th>tech_count</th>\n",
              "      <th>TMAX</th>\n",
              "      <th>Avg Sales</th>\n",
              "      <th>Income_y</th>\n",
              "    </tr>\n",
              "  </thead>\n",
              "  <tbody>\n",
              "    <tr>\n",
              "      <th>311</th>\n",
              "      <td>106</td>\n",
              "      <td>51</td>\n",
              "      <td>84</td>\n",
              "      <td>821.319479</td>\n",
              "      <td>86287.17</td>\n",
              "    </tr>\n",
              "    <tr>\n",
              "      <th>312</th>\n",
              "      <td>102</td>\n",
              "      <td>49</td>\n",
              "      <td>75</td>\n",
              "      <td>1401.394130</td>\n",
              "      <td>79380.38</td>\n",
              "    </tr>\n",
              "    <tr>\n",
              "      <th>313</th>\n",
              "      <td>50</td>\n",
              "      <td>23</td>\n",
              "      <td>70</td>\n",
              "      <td>2364.647059</td>\n",
              "      <td>104509.01</td>\n",
              "    </tr>\n",
              "    <tr>\n",
              "      <th>314</th>\n",
              "      <td>100</td>\n",
              "      <td>69</td>\n",
              "      <td>54</td>\n",
              "      <td>2631.463014</td>\n",
              "      <td>96828.96</td>\n",
              "    </tr>\n",
              "    <tr>\n",
              "      <th>315</th>\n",
              "      <td>127</td>\n",
              "      <td>55</td>\n",
              "      <td>61</td>\n",
              "      <td>1163.223478</td>\n",
              "      <td>108327.11</td>\n",
              "    </tr>\n",
              "    <tr>\n",
              "      <th>316</th>\n",
              "      <td>118</td>\n",
              "      <td>53</td>\n",
              "      <td>69</td>\n",
              "      <td>1402.703810</td>\n",
              "      <td>99625.26</td>\n",
              "    </tr>\n",
              "    <tr>\n",
              "      <th>317</th>\n",
              "      <td>105</td>\n",
              "      <td>43</td>\n",
              "      <td>65</td>\n",
              "      <td>1589.591250</td>\n",
              "      <td>76878.35</td>\n",
              "    </tr>\n",
              "    <tr>\n",
              "      <th>318</th>\n",
              "      <td>59</td>\n",
              "      <td>25</td>\n",
              "      <td>65</td>\n",
              "      <td>2339.931250</td>\n",
              "      <td>69089.17</td>\n",
              "    </tr>\n",
              "    <tr>\n",
              "      <th>319</th>\n",
              "      <td>125</td>\n",
              "      <td>68</td>\n",
              "      <td>61</td>\n",
              "      <td>1650.959186</td>\n",
              "      <td>128210.29</td>\n",
              "    </tr>\n",
              "  </tbody>\n",
              "</table>\n",
              "</div>"
            ],
            "text/plain": [
              "     Completed Jobs  tech_count  TMAX    Avg Sales   Income_y\n",
              "311             106          51    84   821.319479   86287.17\n",
              "312             102          49    75  1401.394130   79380.38\n",
              "313              50          23    70  2364.647059  104509.01\n",
              "314             100          69    54  2631.463014   96828.96\n",
              "315             127          55    61  1163.223478  108327.11\n",
              "316             118          53    69  1402.703810   99625.26\n",
              "317             105          43    65  1589.591250   76878.35\n",
              "318              59          25    65  2339.931250   69089.17\n",
              "319             125          68    61  1650.959186  128210.29"
            ]
          },
          "metadata": {
            "tags": []
          },
          "execution_count": 351
        }
      ]
    },
    {
      "cell_type": "code",
      "metadata": {
        "colab": {
          "base_uri": "https://localhost:8080/"
        },
        "id": "owu2HAFpOcRn",
        "outputId": "2bd25390-15fb-4240-b246-40eaecbe95ba"
      },
      "source": [
        "X_[11:20]"
      ],
      "id": "owu2HAFpOcRn",
      "execution_count": 352,
      "outputs": [
        {
          "output_type": "execute_result",
          "data": {
            "text/plain": [
              "array([[0.68181818, 0.57142857, 0.89189189, 0.26351954],\n",
              "       [0.65584416, 0.54545455, 0.64864865, 0.49953046],\n",
              "       [0.31818182, 0.20779221, 0.51351351, 0.89144246],\n",
              "       [0.64285714, 0.80519481, 0.08108108, 1.        ],\n",
              "       [0.81818182, 0.62337662, 0.27027027, 0.40262763],\n",
              "       [0.75974026, 0.5974026 , 0.48648649, 0.50006332],\n",
              "       [0.67532468, 0.46753247, 0.37837838, 0.57610091],\n",
              "       [0.37662338, 0.23376623, 0.37837838, 0.88138651],\n",
              "       [0.80519481, 0.79220779, 0.27027027, 0.60106925]])"
            ]
          },
          "metadata": {
            "tags": []
          },
          "execution_count": 352
        }
      ]
    },
    {
      "cell_type": "code",
      "metadata": {
        "id": "Z8PJd-4bI6Cy"
      },
      "source": [
        ""
      ],
      "id": "Z8PJd-4bI6Cy",
      "execution_count": 352,
      "outputs": []
    },
    {
      "cell_type": "code",
      "metadata": {
        "id": "-L3IqNEeKDpr"
      },
      "source": [
        ""
      ],
      "id": "-L3IqNEeKDpr",
      "execution_count": 352,
      "outputs": []
    },
    {
      "cell_type": "code",
      "metadata": {
        "id": "BvF1XFL8JHeM"
      },
      "source": [
        ""
      ],
      "id": "BvF1XFL8JHeM",
      "execution_count": 352,
      "outputs": []
    },
    {
      "cell_type": "code",
      "metadata": {
        "id": "rLLod_fVJA1k",
        "colab": {
          "base_uri": "https://localhost:8080/"
        },
        "outputId": "35e231d1-27e7-4811-cf96-279d2d85c295"
      },
      "source": [
        "!pip install -U keras-tuner\n"
      ],
      "id": "rLLod_fVJA1k",
      "execution_count": 55,
      "outputs": [
        {
          "output_type": "stream",
          "text": [
            "Collecting keras-tuner\n",
            "\u001b[?25l  Downloading https://files.pythonhosted.org/packages/20/ec/1ef246787174b1e2bb591c95f29d3c1310070cad877824f907faba3dade9/keras-tuner-1.0.2.tar.gz (62kB)\n",
            "\r\u001b[K     |█████▏                          | 10kB 11.4MB/s eta 0:00:01\r\u001b[K     |██████████▍                     | 20kB 12.8MB/s eta 0:00:01\r\u001b[K     |███████████████▋                | 30kB 7.6MB/s eta 0:00:01\r\u001b[K     |████████████████████▉           | 40kB 7.3MB/s eta 0:00:01\r\u001b[K     |██████████████████████████      | 51kB 4.6MB/s eta 0:00:01\r\u001b[K     |███████████████████████████████▎| 61kB 5.2MB/s eta 0:00:01\r\u001b[K     |████████████████████████████████| 71kB 3.1MB/s \n",
            "\u001b[?25hRequirement already satisfied, skipping upgrade: packaging in /usr/local/lib/python3.7/dist-packages (from keras-tuner) (20.9)\n",
            "Requirement already satisfied, skipping upgrade: future in /usr/local/lib/python3.7/dist-packages (from keras-tuner) (0.16.0)\n",
            "Requirement already satisfied, skipping upgrade: numpy in /usr/local/lib/python3.7/dist-packages (from keras-tuner) (1.19.5)\n",
            "Requirement already satisfied, skipping upgrade: tabulate in /usr/local/lib/python3.7/dist-packages (from keras-tuner) (0.8.9)\n",
            "Collecting terminaltables\n",
            "  Downloading https://files.pythonhosted.org/packages/9b/c4/4a21174f32f8a7e1104798c445dacdc1d4df86f2f26722767034e4de4bff/terminaltables-3.1.0.tar.gz\n",
            "Collecting colorama\n",
            "  Downloading https://files.pythonhosted.org/packages/44/98/5b86278fbbf250d239ae0ecb724f8572af1c91f4a11edf4d36a206189440/colorama-0.4.4-py2.py3-none-any.whl\n",
            "Requirement already satisfied, skipping upgrade: tqdm in /usr/local/lib/python3.7/dist-packages (from keras-tuner) (4.41.1)\n",
            "Requirement already satisfied, skipping upgrade: requests in /usr/local/lib/python3.7/dist-packages (from keras-tuner) (2.23.0)\n",
            "Requirement already satisfied, skipping upgrade: scipy in /usr/local/lib/python3.7/dist-packages (from keras-tuner) (1.4.1)\n",
            "Requirement already satisfied, skipping upgrade: scikit-learn in /usr/local/lib/python3.7/dist-packages (from keras-tuner) (0.22.2.post1)\n",
            "Requirement already satisfied, skipping upgrade: pyparsing>=2.0.2 in /usr/local/lib/python3.7/dist-packages (from packaging->keras-tuner) (2.4.7)\n",
            "Requirement already satisfied, skipping upgrade: certifi>=2017.4.17 in /usr/local/lib/python3.7/dist-packages (from requests->keras-tuner) (2020.12.5)\n",
            "Requirement already satisfied, skipping upgrade: idna<3,>=2.5 in /usr/local/lib/python3.7/dist-packages (from requests->keras-tuner) (2.10)\n",
            "Requirement already satisfied, skipping upgrade: urllib3!=1.25.0,!=1.25.1,<1.26,>=1.21.1 in /usr/local/lib/python3.7/dist-packages (from requests->keras-tuner) (1.24.3)\n",
            "Requirement already satisfied, skipping upgrade: chardet<4,>=3.0.2 in /usr/local/lib/python3.7/dist-packages (from requests->keras-tuner) (3.0.4)\n",
            "Requirement already satisfied, skipping upgrade: joblib>=0.11 in /usr/local/lib/python3.7/dist-packages (from scikit-learn->keras-tuner) (1.0.1)\n",
            "Building wheels for collected packages: keras-tuner, terminaltables\n",
            "  Building wheel for keras-tuner (setup.py) ... \u001b[?25l\u001b[?25hdone\n",
            "  Created wheel for keras-tuner: filename=keras_tuner-1.0.2-cp37-none-any.whl size=78938 sha256=c425328c42a7ff56d24ca2114f9d4b8fad0919b51f8c0a106890988c19e68b96\n",
            "  Stored in directory: /root/.cache/pip/wheels/bb/a1/8a/7c3de0efb3707a1701b36ebbfdbc4e67aedf6d4943a1f463d6\n",
            "  Building wheel for terminaltables (setup.py) ... \u001b[?25l\u001b[?25hdone\n",
            "  Created wheel for terminaltables: filename=terminaltables-3.1.0-cp37-none-any.whl size=15356 sha256=133f2cb11bd361f1774ecc9ef098ed4cead9914d7b72407ac698dd4a09734f60\n",
            "  Stored in directory: /root/.cache/pip/wheels/30/6b/50/6c75775b681fb36cdfac7f19799888ef9d8813aff9e379663e\n",
            "Successfully built keras-tuner terminaltables\n",
            "Installing collected packages: terminaltables, colorama, keras-tuner\n",
            "Successfully installed colorama-0.4.4 keras-tuner-1.0.2 terminaltables-3.1.0\n"
          ],
          "name": "stdout"
        }
      ]
    },
    {
      "cell_type": "code",
      "metadata": {
        "id": "74WekOBPJkIb"
      },
      "source": [
        "from kerastuner.tuners import RandomSearch\n"
      ],
      "id": "74WekOBPJkIb",
      "execution_count": 56,
      "outputs": []
    },
    {
      "cell_type": "code",
      "metadata": {
        "id": "_z3T2ZwCKzP3"
      },
      "source": [
        "def build_model(hp):\n",
        "    model = keras.Sequential()\n",
        "    for i in range(hp.Int('num_layers', 2, 40)):\n",
        "        model.add(Dense(units=hp.Int('units_' + str(i),\n",
        "                                            min_value=32,\n",
        "                                            max_value=1024,\n",
        "                                            step=32),\n",
        "                               activation='relu'))\n",
        "    model.add(Dense(1, activation='linear'))\n",
        "    model.compile(\n",
        "        optimizer=keras.optimizers.Adam(\n",
        "            hp.Choice('learning_rate', [1e-2, 1e-3, 1e-4])),\n",
        "        loss='MeanSquaredError',\n",
        "        metrics=['MeanSquaredError'])\n",
        "    return model"
      ],
      "id": "_z3T2ZwCKzP3",
      "execution_count": 57,
      "outputs": []
    },
    {
      "cell_type": "code",
      "metadata": {
        "id": "-lmwQo5AqNjo"
      },
      "source": [
        "from tensorflow import keras\n",
        "from kerastuner import HyperModel\n"
      ],
      "id": "-lmwQo5AqNjo",
      "execution_count": 58,
      "outputs": []
    },
    {
      "cell_type": "code",
      "metadata": {
        "id": "jMfIfos74Juc"
      },
      "source": [
        ""
      ],
      "id": "jMfIfos74Juc",
      "execution_count": 58,
      "outputs": []
    },
    {
      "cell_type": "code",
      "metadata": {
        "id": "_to87NdPJdfB"
      },
      "source": [
        "tuner = RandomSearch(build_model,objective='val_loss',max_trials=10,executions_per_trial=3)\n"
      ],
      "id": "_to87NdPJdfB",
      "execution_count": 59,
      "outputs": []
    },
    {
      "cell_type": "code",
      "metadata": {
        "id": "z2lxkNCSLEPY",
        "colab": {
          "base_uri": "https://localhost:8080/"
        },
        "outputId": "56575053-7011-469c-8570-9850f47d07ea"
      },
      "source": [
        "tuner.search(X_train,y_train,epochs=100,validation_data= (X_test,y_test))\n"
      ],
      "id": "z2lxkNCSLEPY",
      "execution_count": 60,
      "outputs": [
        {
          "output_type": "stream",
          "text": [
            "Trial 10 Complete [00h 03m 01s]\n",
            "val_loss: 0.0471628171702226\n",
            "\n",
            "Best val_loss So Far: 0.011414228317638239\n",
            "Total elapsed time: 00h 39m 42s\n",
            "INFO:tensorflow:Oracle triggered exit\n"
          ],
          "name": "stdout"
        }
      ]
    },
    {
      "cell_type": "code",
      "metadata": {
        "id": "HLHDevawIfGW",
        "colab": {
          "base_uri": "https://localhost:8080/"
        },
        "outputId": "920e487c-6978-4793-e4e9-cd463aa0c8f2"
      },
      "source": [
        "tuner.results_summary()"
      ],
      "id": "HLHDevawIfGW",
      "execution_count": 61,
      "outputs": [
        {
          "output_type": "stream",
          "text": [
            "Results summary\n",
            "Results in ./untitled_project\n",
            "Showing 10 best trials\n",
            "Objective(name='val_loss', direction='min')\n",
            "Trial summary\n",
            "Hyperparameters:\n",
            "num_layers: 4\n",
            "units_0: 960\n",
            "units_1: 608\n",
            "learning_rate: 0.0001\n",
            "units_2: 640\n",
            "units_3: 800\n",
            "units_4: 352\n",
            "units_5: 512\n",
            "units_6: 288\n",
            "units_7: 800\n",
            "units_8: 640\n",
            "units_9: 256\n",
            "units_10: 864\n",
            "units_11: 192\n",
            "units_12: 576\n",
            "units_13: 928\n",
            "units_14: 800\n",
            "units_15: 352\n",
            "units_16: 480\n",
            "units_17: 704\n",
            "units_18: 864\n",
            "units_19: 672\n",
            "units_20: 64\n",
            "units_21: 384\n",
            "units_22: 640\n",
            "units_23: 320\n",
            "units_24: 416\n",
            "units_25: 736\n",
            "units_26: 992\n",
            "units_27: 768\n",
            "units_28: 992\n",
            "units_29: 896\n",
            "units_30: 704\n",
            "units_31: 928\n",
            "units_32: 352\n",
            "units_33: 192\n",
            "units_34: 64\n",
            "units_35: 544\n",
            "units_36: 64\n",
            "Score: 0.011414228317638239\n",
            "Trial summary\n",
            "Hyperparameters:\n",
            "num_layers: 35\n",
            "units_0: 800\n",
            "units_1: 320\n",
            "learning_rate: 0.0001\n",
            "units_2: 384\n",
            "units_3: 640\n",
            "units_4: 544\n",
            "units_5: 512\n",
            "units_6: 896\n",
            "units_7: 416\n",
            "units_8: 800\n",
            "units_9: 256\n",
            "units_10: 544\n",
            "units_11: 192\n",
            "units_12: 96\n",
            "units_13: 832\n",
            "units_14: 672\n",
            "units_15: 192\n",
            "units_16: 416\n",
            "units_17: 544\n",
            "units_18: 128\n",
            "units_19: 800\n",
            "units_20: 64\n",
            "units_21: 896\n",
            "units_22: 320\n",
            "units_23: 736\n",
            "units_24: 416\n",
            "units_25: 96\n",
            "units_26: 256\n",
            "units_27: 352\n",
            "units_28: 320\n",
            "units_29: 928\n",
            "units_30: 960\n",
            "units_31: 608\n",
            "units_32: 768\n",
            "units_33: 864\n",
            "units_34: 832\n",
            "units_35: 928\n",
            "units_36: 416\n",
            "Score: 0.011596585934360823\n",
            "Trial summary\n",
            "Hyperparameters:\n",
            "num_layers: 35\n",
            "units_0: 800\n",
            "units_1: 320\n",
            "learning_rate: 0.0001\n",
            "units_2: 320\n",
            "units_3: 864\n",
            "units_4: 288\n",
            "units_5: 64\n",
            "units_6: 736\n",
            "units_7: 288\n",
            "units_8: 128\n",
            "units_9: 320\n",
            "units_10: 288\n",
            "units_11: 384\n",
            "units_12: 960\n",
            "units_13: 512\n",
            "units_14: 576\n",
            "units_15: 256\n",
            "units_16: 672\n",
            "units_17: 768\n",
            "units_18: 608\n",
            "units_19: 96\n",
            "units_20: 288\n",
            "units_21: 800\n",
            "units_22: 928\n",
            "units_23: 640\n",
            "units_24: 128\n",
            "units_25: 64\n",
            "units_26: 736\n",
            "units_27: 448\n",
            "units_28: 832\n",
            "units_29: 448\n",
            "units_30: 512\n",
            "units_31: 448\n",
            "units_32: 544\n",
            "units_33: 544\n",
            "units_34: 768\n",
            "units_35: 480\n",
            "units_36: 224\n",
            "Score: 0.011629127586881319\n",
            "Trial summary\n",
            "Hyperparameters:\n",
            "num_layers: 22\n",
            "units_0: 192\n",
            "units_1: 832\n",
            "learning_rate: 0.0001\n",
            "units_2: 192\n",
            "units_3: 832\n",
            "units_4: 768\n",
            "units_5: 64\n",
            "units_6: 352\n",
            "units_7: 928\n",
            "units_8: 992\n",
            "units_9: 320\n",
            "units_10: 512\n",
            "units_11: 288\n",
            "units_12: 384\n",
            "units_13: 128\n",
            "units_14: 704\n",
            "units_15: 544\n",
            "units_16: 672\n",
            "units_17: 832\n",
            "units_18: 96\n",
            "units_19: 576\n",
            "units_20: 32\n",
            "units_21: 768\n",
            "units_22: 96\n",
            "units_23: 576\n",
            "units_24: 576\n",
            "units_25: 512\n",
            "units_26: 928\n",
            "units_27: 96\n",
            "units_28: 320\n",
            "units_29: 576\n",
            "units_30: 192\n",
            "units_31: 896\n",
            "units_32: 192\n",
            "units_33: 384\n",
            "units_34: 800\n",
            "units_35: 320\n",
            "units_36: 256\n",
            "Score: 0.01165319855014483\n",
            "Trial summary\n",
            "Hyperparameters:\n",
            "num_layers: 22\n",
            "units_0: 64\n",
            "units_1: 160\n",
            "learning_rate: 0.0001\n",
            "units_2: 32\n",
            "units_3: 32\n",
            "units_4: 32\n",
            "units_5: 32\n",
            "units_6: 32\n",
            "units_7: 32\n",
            "units_8: 32\n",
            "units_9: 32\n",
            "units_10: 32\n",
            "units_11: 32\n",
            "units_12: 32\n",
            "units_13: 32\n",
            "units_14: 32\n",
            "units_15: 32\n",
            "units_16: 32\n",
            "units_17: 32\n",
            "units_18: 32\n",
            "units_19: 32\n",
            "units_20: 32\n",
            "units_21: 32\n",
            "Score: 0.011731267906725407\n",
            "Trial summary\n",
            "Hyperparameters:\n",
            "num_layers: 20\n",
            "units_0: 992\n",
            "units_1: 800\n",
            "learning_rate: 0.001\n",
            "units_2: 32\n",
            "units_3: 256\n",
            "units_4: 992\n",
            "units_5: 224\n",
            "units_6: 768\n",
            "units_7: 800\n",
            "units_8: 960\n",
            "units_9: 160\n",
            "units_10: 800\n",
            "units_11: 544\n",
            "units_12: 128\n",
            "units_13: 288\n",
            "units_14: 736\n",
            "units_15: 928\n",
            "units_16: 256\n",
            "units_17: 224\n",
            "units_18: 736\n",
            "units_19: 864\n",
            "units_20: 64\n",
            "units_21: 384\n",
            "units_22: 192\n",
            "units_23: 224\n",
            "units_24: 448\n",
            "units_25: 352\n",
            "units_26: 416\n",
            "units_27: 640\n",
            "units_28: 608\n",
            "units_29: 864\n",
            "units_30: 544\n",
            "units_31: 544\n",
            "units_32: 128\n",
            "units_33: 512\n",
            "units_34: 512\n",
            "units_35: 96\n",
            "units_36: 832\n",
            "Score: 0.011748416349291801\n",
            "Trial summary\n",
            "Hyperparameters:\n",
            "num_layers: 14\n",
            "units_0: 896\n",
            "units_1: 992\n",
            "learning_rate: 0.001\n",
            "units_2: 768\n",
            "units_3: 736\n",
            "units_4: 896\n",
            "units_5: 544\n",
            "units_6: 32\n",
            "units_7: 800\n",
            "units_8: 448\n",
            "units_9: 544\n",
            "units_10: 320\n",
            "units_11: 832\n",
            "units_12: 896\n",
            "units_13: 320\n",
            "units_14: 128\n",
            "units_15: 320\n",
            "units_16: 192\n",
            "units_17: 704\n",
            "units_18: 416\n",
            "units_19: 1024\n",
            "units_20: 224\n",
            "units_21: 512\n",
            "units_22: 288\n",
            "units_23: 160\n",
            "units_24: 160\n",
            "units_25: 864\n",
            "units_26: 64\n",
            "units_27: 192\n",
            "units_28: 544\n",
            "units_29: 256\n",
            "units_30: 736\n",
            "units_31: 736\n",
            "units_32: 64\n",
            "units_33: 672\n",
            "units_34: 352\n",
            "units_35: 1024\n",
            "units_36: 256\n",
            "Score: 0.011817634726564089\n",
            "Trial summary\n",
            "Hyperparameters:\n",
            "num_layers: 36\n",
            "units_0: 224\n",
            "units_1: 992\n",
            "learning_rate: 0.001\n",
            "units_2: 960\n",
            "units_3: 192\n",
            "units_4: 352\n",
            "units_5: 224\n",
            "units_6: 384\n",
            "units_7: 576\n",
            "units_8: 864\n",
            "units_9: 704\n",
            "units_10: 96\n",
            "units_11: 928\n",
            "units_12: 192\n",
            "units_13: 480\n",
            "units_14: 896\n",
            "units_15: 288\n",
            "units_16: 352\n",
            "units_17: 352\n",
            "units_18: 384\n",
            "units_19: 128\n",
            "units_20: 640\n",
            "units_21: 96\n",
            "units_22: 32\n",
            "units_23: 32\n",
            "units_24: 32\n",
            "units_25: 32\n",
            "units_26: 32\n",
            "units_27: 32\n",
            "units_28: 32\n",
            "units_29: 32\n",
            "units_30: 32\n",
            "units_31: 32\n",
            "units_32: 32\n",
            "units_33: 32\n",
            "units_34: 32\n",
            "units_35: 32\n",
            "Score: 0.02351954486221075\n",
            "Trial summary\n",
            "Hyperparameters:\n",
            "num_layers: 28\n",
            "units_0: 512\n",
            "units_1: 128\n",
            "learning_rate: 0.01\n",
            "units_2: 256\n",
            "units_3: 256\n",
            "units_4: 288\n",
            "units_5: 96\n",
            "units_6: 384\n",
            "units_7: 64\n",
            "units_8: 544\n",
            "units_9: 32\n",
            "units_10: 544\n",
            "units_11: 64\n",
            "units_12: 256\n",
            "units_13: 96\n",
            "units_14: 352\n",
            "units_15: 512\n",
            "units_16: 640\n",
            "units_17: 64\n",
            "units_18: 512\n",
            "units_19: 928\n",
            "units_20: 192\n",
            "units_21: 800\n",
            "units_22: 672\n",
            "units_23: 160\n",
            "units_24: 800\n",
            "units_25: 800\n",
            "units_26: 832\n",
            "units_27: 352\n",
            "units_28: 352\n",
            "units_29: 288\n",
            "units_30: 192\n",
            "units_31: 384\n",
            "units_32: 608\n",
            "units_33: 544\n",
            "units_34: 608\n",
            "units_35: 768\n",
            "units_36: 512\n",
            "Score: 0.0471628171702226\n",
            "Trial summary\n",
            "Hyperparameters:\n",
            "num_layers: 37\n",
            "units_0: 224\n",
            "units_1: 576\n",
            "learning_rate: 0.01\n",
            "units_2: 832\n",
            "units_3: 896\n",
            "units_4: 928\n",
            "units_5: 768\n",
            "units_6: 96\n",
            "units_7: 832\n",
            "units_8: 832\n",
            "units_9: 960\n",
            "units_10: 960\n",
            "units_11: 480\n",
            "units_12: 736\n",
            "units_13: 448\n",
            "units_14: 480\n",
            "units_15: 32\n",
            "units_16: 960\n",
            "units_17: 512\n",
            "units_18: 32\n",
            "units_19: 384\n",
            "units_20: 896\n",
            "units_21: 288\n",
            "units_22: 544\n",
            "units_23: 992\n",
            "units_24: 736\n",
            "units_25: 832\n",
            "units_26: 480\n",
            "units_27: 800\n",
            "units_28: 896\n",
            "units_29: 736\n",
            "units_30: 672\n",
            "units_31: 768\n",
            "units_32: 576\n",
            "units_33: 576\n",
            "units_34: 864\n",
            "units_35: 608\n",
            "units_36: 32\n",
            "Score: 0.07958224912484486\n"
          ],
          "name": "stdout"
        }
      ]
    },
    {
      "cell_type": "code",
      "metadata": {
        "id": "roqS6m3yti3s"
      },
      "source": [
        "from keras.optimizers import Adam"
      ],
      "id": "roqS6m3yti3s",
      "execution_count": 62,
      "outputs": []
    },
    {
      "cell_type": "code",
      "metadata": {
        "id": "cFQtLkztLqCf"
      },
      "source": [
        "Hyperparameters:\n",
        "num_layers: 4\n",
        "units_0: 960\n",
        "units_1: 608\n",
        "learning_rate: 0.0001\n",
        "units_2: 640\n",
        "units_3: 800\n",
        "units_4: 352"
      ],
      "id": "cFQtLkztLqCf",
      "execution_count": null,
      "outputs": []
    },
    {
      "cell_type": "code",
      "metadata": {
        "id": "nvglpp4JDEsF"
      },
      "source": [
        "model = Sequential()\n",
        "model.add(Dense(960, activation = 'relu', input_dim =4))\n",
        "model.add(Dense(608, activation = 'relu'))\n",
        "model.add(Dense(640, activation = 'relu'))\n",
        "model.add(Dense(800, activation = 'relu'))\n",
        "model.add(Dense(1,activation = 'linear'))\n",
        "model.compile(optimizer=Adam(lr=0.0001), loss='MeanSquaredError', metrics = ['MeanSquaredError'])\n"
      ],
      "id": "nvglpp4JDEsF",
      "execution_count": 63,
      "outputs": []
    },
    {
      "cell_type": "code",
      "metadata": {
        "id": "IijwqesKGZTX",
        "colab": {
          "base_uri": "https://localhost:8080/"
        },
        "outputId": "dc17ffe0-2963-4239-ef65-0afd88b566ce"
      },
      "source": [
        "hist=model.fit(X_train,y_train,epochs=100,validation_data=(X_test,y_test))"
      ],
      "id": "IijwqesKGZTX",
      "execution_count": 64,
      "outputs": [
        {
          "output_type": "stream",
          "text": [
            "Epoch 1/100\n",
            "8/8 [==============================] - 1s 51ms/step - loss: 0.1254 - mean_squared_error: 0.1254 - val_loss: 0.0316 - val_mean_squared_error: 0.0316\n",
            "Epoch 2/100\n",
            "8/8 [==============================] - 0s 26ms/step - loss: 0.0286 - mean_squared_error: 0.0286 - val_loss: 0.0274 - val_mean_squared_error: 0.0274\n",
            "Epoch 3/100\n",
            "8/8 [==============================] - 0s 28ms/step - loss: 0.0244 - mean_squared_error: 0.0244 - val_loss: 0.0156 - val_mean_squared_error: 0.0156\n",
            "Epoch 4/100\n",
            "8/8 [==============================] - 0s 27ms/step - loss: 0.0161 - mean_squared_error: 0.0161 - val_loss: 0.0144 - val_mean_squared_error: 0.0144\n",
            "Epoch 5/100\n",
            "8/8 [==============================] - 0s 30ms/step - loss: 0.0153 - mean_squared_error: 0.0153 - val_loss: 0.0148 - val_mean_squared_error: 0.0148\n",
            "Epoch 6/100\n",
            "8/8 [==============================] - 0s 26ms/step - loss: 0.0137 - mean_squared_error: 0.0137 - val_loss: 0.0132 - val_mean_squared_error: 0.0132\n",
            "Epoch 7/100\n",
            "8/8 [==============================] - 0s 26ms/step - loss: 0.0123 - mean_squared_error: 0.0123 - val_loss: 0.0130 - val_mean_squared_error: 0.0130\n",
            "Epoch 8/100\n",
            "8/8 [==============================] - 0s 27ms/step - loss: 0.0142 - mean_squared_error: 0.0142 - val_loss: 0.0131 - val_mean_squared_error: 0.0131\n",
            "Epoch 9/100\n",
            "8/8 [==============================] - 0s 28ms/step - loss: 0.0119 - mean_squared_error: 0.0119 - val_loss: 0.0125 - val_mean_squared_error: 0.0125\n",
            "Epoch 10/100\n",
            "8/8 [==============================] - 0s 29ms/step - loss: 0.0125 - mean_squared_error: 0.0125 - val_loss: 0.0127 - val_mean_squared_error: 0.0127\n",
            "Epoch 11/100\n",
            "8/8 [==============================] - 0s 27ms/step - loss: 0.0110 - mean_squared_error: 0.0110 - val_loss: 0.0121 - val_mean_squared_error: 0.0121\n",
            "Epoch 12/100\n",
            "8/8 [==============================] - 0s 29ms/step - loss: 0.0135 - mean_squared_error: 0.0135 - val_loss: 0.0125 - val_mean_squared_error: 0.0125\n",
            "Epoch 13/100\n",
            "8/8 [==============================] - 0s 27ms/step - loss: 0.0134 - mean_squared_error: 0.0134 - val_loss: 0.0119 - val_mean_squared_error: 0.0119\n",
            "Epoch 14/100\n",
            "8/8 [==============================] - 0s 30ms/step - loss: 0.0127 - mean_squared_error: 0.0127 - val_loss: 0.0121 - val_mean_squared_error: 0.0121\n",
            "Epoch 15/100\n",
            "8/8 [==============================] - 0s 28ms/step - loss: 0.0120 - mean_squared_error: 0.0120 - val_loss: 0.0119 - val_mean_squared_error: 0.0119\n",
            "Epoch 16/100\n",
            "8/8 [==============================] - 0s 29ms/step - loss: 0.0122 - mean_squared_error: 0.0122 - val_loss: 0.0119 - val_mean_squared_error: 0.0119\n",
            "Epoch 17/100\n",
            "8/8 [==============================] - 0s 28ms/step - loss: 0.0130 - mean_squared_error: 0.0130 - val_loss: 0.0120 - val_mean_squared_error: 0.0120\n",
            "Epoch 18/100\n",
            "8/8 [==============================] - 0s 30ms/step - loss: 0.0109 - mean_squared_error: 0.0109 - val_loss: 0.0117 - val_mean_squared_error: 0.0117\n",
            "Epoch 19/100\n",
            "8/8 [==============================] - 0s 28ms/step - loss: 0.0122 - mean_squared_error: 0.0122 - val_loss: 0.0119 - val_mean_squared_error: 0.0119\n",
            "Epoch 20/100\n",
            "8/8 [==============================] - 0s 28ms/step - loss: 0.0115 - mean_squared_error: 0.0115 - val_loss: 0.0118 - val_mean_squared_error: 0.0118\n",
            "Epoch 21/100\n",
            "8/8 [==============================] - 0s 28ms/step - loss: 0.0135 - mean_squared_error: 0.0135 - val_loss: 0.0120 - val_mean_squared_error: 0.0120\n",
            "Epoch 22/100\n",
            "8/8 [==============================] - 0s 29ms/step - loss: 0.0124 - mean_squared_error: 0.0124 - val_loss: 0.0116 - val_mean_squared_error: 0.0116\n",
            "Epoch 23/100\n",
            "8/8 [==============================] - 0s 29ms/step - loss: 0.0129 - mean_squared_error: 0.0129 - val_loss: 0.0118 - val_mean_squared_error: 0.0118\n",
            "Epoch 24/100\n",
            "8/8 [==============================] - 0s 27ms/step - loss: 0.0120 - mean_squared_error: 0.0120 - val_loss: 0.0117 - val_mean_squared_error: 0.0117\n",
            "Epoch 25/100\n",
            "8/8 [==============================] - 0s 26ms/step - loss: 0.0116 - mean_squared_error: 0.0116 - val_loss: 0.0117 - val_mean_squared_error: 0.0117\n",
            "Epoch 26/100\n",
            "8/8 [==============================] - 0s 27ms/step - loss: 0.0105 - mean_squared_error: 0.0105 - val_loss: 0.0117 - val_mean_squared_error: 0.0117\n",
            "Epoch 27/100\n",
            "8/8 [==============================] - 0s 26ms/step - loss: 0.0125 - mean_squared_error: 0.0125 - val_loss: 0.0118 - val_mean_squared_error: 0.0118\n",
            "Epoch 28/100\n",
            "8/8 [==============================] - 0s 28ms/step - loss: 0.0141 - mean_squared_error: 0.0141 - val_loss: 0.0117 - val_mean_squared_error: 0.0117\n",
            "Epoch 29/100\n",
            "8/8 [==============================] - 0s 27ms/step - loss: 0.0126 - mean_squared_error: 0.0126 - val_loss: 0.0119 - val_mean_squared_error: 0.0119\n",
            "Epoch 30/100\n",
            "8/8 [==============================] - 0s 29ms/step - loss: 0.0151 - mean_squared_error: 0.0151 - val_loss: 0.0117 - val_mean_squared_error: 0.0117\n",
            "Epoch 31/100\n",
            "8/8 [==============================] - 0s 27ms/step - loss: 0.0114 - mean_squared_error: 0.0114 - val_loss: 0.0119 - val_mean_squared_error: 0.0119\n",
            "Epoch 32/100\n",
            "8/8 [==============================] - 0s 29ms/step - loss: 0.0114 - mean_squared_error: 0.0114 - val_loss: 0.0116 - val_mean_squared_error: 0.0116\n",
            "Epoch 33/100\n",
            "8/8 [==============================] - 0s 27ms/step - loss: 0.0116 - mean_squared_error: 0.0116 - val_loss: 0.0115 - val_mean_squared_error: 0.0115\n",
            "Epoch 34/100\n",
            "8/8 [==============================] - 0s 27ms/step - loss: 0.0113 - mean_squared_error: 0.0113 - val_loss: 0.0118 - val_mean_squared_error: 0.0118\n",
            "Epoch 35/100\n",
            "8/8 [==============================] - 0s 26ms/step - loss: 0.0122 - mean_squared_error: 0.0122 - val_loss: 0.0116 - val_mean_squared_error: 0.0116\n",
            "Epoch 36/100\n",
            "8/8 [==============================] - 0s 29ms/step - loss: 0.0111 - mean_squared_error: 0.0111 - val_loss: 0.0123 - val_mean_squared_error: 0.0123\n",
            "Epoch 37/100\n",
            "8/8 [==============================] - 0s 28ms/step - loss: 0.0124 - mean_squared_error: 0.0124 - val_loss: 0.0116 - val_mean_squared_error: 0.0116\n",
            "Epoch 38/100\n",
            "8/8 [==============================] - 0s 26ms/step - loss: 0.0110 - mean_squared_error: 0.0110 - val_loss: 0.0121 - val_mean_squared_error: 0.0121\n",
            "Epoch 39/100\n",
            "8/8 [==============================] - 0s 26ms/step - loss: 0.0117 - mean_squared_error: 0.0117 - val_loss: 0.0115 - val_mean_squared_error: 0.0115\n",
            "Epoch 40/100\n",
            "8/8 [==============================] - 0s 29ms/step - loss: 0.0112 - mean_squared_error: 0.0112 - val_loss: 0.0124 - val_mean_squared_error: 0.0124\n",
            "Epoch 41/100\n",
            "8/8 [==============================] - 0s 28ms/step - loss: 0.0122 - mean_squared_error: 0.0122 - val_loss: 0.0116 - val_mean_squared_error: 0.0116\n",
            "Epoch 42/100\n",
            "8/8 [==============================] - 0s 31ms/step - loss: 0.0104 - mean_squared_error: 0.0104 - val_loss: 0.0125 - val_mean_squared_error: 0.0125\n",
            "Epoch 43/100\n",
            "8/8 [==============================] - 0s 26ms/step - loss: 0.0129 - mean_squared_error: 0.0129 - val_loss: 0.0115 - val_mean_squared_error: 0.0115\n",
            "Epoch 44/100\n",
            "8/8 [==============================] - 0s 27ms/step - loss: 0.0117 - mean_squared_error: 0.0117 - val_loss: 0.0121 - val_mean_squared_error: 0.0121\n",
            "Epoch 45/100\n",
            "8/8 [==============================] - 0s 28ms/step - loss: 0.0108 - mean_squared_error: 0.0108 - val_loss: 0.0118 - val_mean_squared_error: 0.0118\n",
            "Epoch 46/100\n",
            "8/8 [==============================] - 0s 30ms/step - loss: 0.0116 - mean_squared_error: 0.0116 - val_loss: 0.0124 - val_mean_squared_error: 0.0124\n",
            "Epoch 47/100\n",
            "8/8 [==============================] - 0s 26ms/step - loss: 0.0128 - mean_squared_error: 0.0128 - val_loss: 0.0116 - val_mean_squared_error: 0.0116\n",
            "Epoch 48/100\n",
            "8/8 [==============================] - 0s 27ms/step - loss: 0.0116 - mean_squared_error: 0.0116 - val_loss: 0.0118 - val_mean_squared_error: 0.0118\n",
            "Epoch 49/100\n",
            "8/8 [==============================] - 0s 27ms/step - loss: 0.0115 - mean_squared_error: 0.0115 - val_loss: 0.0116 - val_mean_squared_error: 0.0116\n",
            "Epoch 50/100\n",
            "8/8 [==============================] - 0s 29ms/step - loss: 0.0116 - mean_squared_error: 0.0116 - val_loss: 0.0117 - val_mean_squared_error: 0.0117\n",
            "Epoch 51/100\n",
            "8/8 [==============================] - 0s 26ms/step - loss: 0.0122 - mean_squared_error: 0.0122 - val_loss: 0.0117 - val_mean_squared_error: 0.0117\n",
            "Epoch 52/100\n",
            "8/8 [==============================] - 0s 27ms/step - loss: 0.0125 - mean_squared_error: 0.0125 - val_loss: 0.0117 - val_mean_squared_error: 0.0117\n",
            "Epoch 53/100\n",
            "8/8 [==============================] - 0s 28ms/step - loss: 0.0112 - mean_squared_error: 0.0112 - val_loss: 0.0120 - val_mean_squared_error: 0.0120\n",
            "Epoch 54/100\n",
            "8/8 [==============================] - 0s 28ms/step - loss: 0.0117 - mean_squared_error: 0.0117 - val_loss: 0.0122 - val_mean_squared_error: 0.0122\n",
            "Epoch 55/100\n",
            "8/8 [==============================] - 0s 29ms/step - loss: 0.0109 - mean_squared_error: 0.0109 - val_loss: 0.0119 - val_mean_squared_error: 0.0119\n",
            "Epoch 56/100\n",
            "8/8 [==============================] - 0s 35ms/step - loss: 0.0130 - mean_squared_error: 0.0130 - val_loss: 0.0119 - val_mean_squared_error: 0.0119\n",
            "Epoch 57/100\n",
            "8/8 [==============================] - 0s 36ms/step - loss: 0.0110 - mean_squared_error: 0.0110 - val_loss: 0.0120 - val_mean_squared_error: 0.0120\n",
            "Epoch 58/100\n",
            "8/8 [==============================] - 0s 34ms/step - loss: 0.0130 - mean_squared_error: 0.0130 - val_loss: 0.0119 - val_mean_squared_error: 0.0119\n",
            "Epoch 59/100\n",
            "8/8 [==============================] - 0s 34ms/step - loss: 0.0109 - mean_squared_error: 0.0109 - val_loss: 0.0120 - val_mean_squared_error: 0.0120\n",
            "Epoch 60/100\n",
            "8/8 [==============================] - 0s 27ms/step - loss: 0.0107 - mean_squared_error: 0.0107 - val_loss: 0.0119 - val_mean_squared_error: 0.0119\n",
            "Epoch 61/100\n",
            "8/8 [==============================] - 0s 29ms/step - loss: 0.0112 - mean_squared_error: 0.0112 - val_loss: 0.0118 - val_mean_squared_error: 0.0118\n",
            "Epoch 62/100\n",
            "8/8 [==============================] - 0s 27ms/step - loss: 0.0110 - mean_squared_error: 0.0110 - val_loss: 0.0116 - val_mean_squared_error: 0.0116\n",
            "Epoch 63/100\n",
            "8/8 [==============================] - 0s 29ms/step - loss: 0.0111 - mean_squared_error: 0.0111 - val_loss: 0.0122 - val_mean_squared_error: 0.0122\n",
            "Epoch 64/100\n",
            "8/8 [==============================] - 0s 27ms/step - loss: 0.0111 - mean_squared_error: 0.0111 - val_loss: 0.0119 - val_mean_squared_error: 0.0119\n",
            "Epoch 65/100\n",
            "8/8 [==============================] - 0s 29ms/step - loss: 0.0098 - mean_squared_error: 0.0098 - val_loss: 0.0125 - val_mean_squared_error: 0.0125\n",
            "Epoch 66/100\n",
            "8/8 [==============================] - 0s 29ms/step - loss: 0.0106 - mean_squared_error: 0.0106 - val_loss: 0.0119 - val_mean_squared_error: 0.0119\n",
            "Epoch 67/100\n",
            "8/8 [==============================] - 0s 31ms/step - loss: 0.0127 - mean_squared_error: 0.0127 - val_loss: 0.0121 - val_mean_squared_error: 0.0121\n",
            "Epoch 68/100\n",
            "8/8 [==============================] - 0s 28ms/step - loss: 0.0117 - mean_squared_error: 0.0117 - val_loss: 0.0119 - val_mean_squared_error: 0.0119\n",
            "Epoch 69/100\n",
            "8/8 [==============================] - 0s 36ms/step - loss: 0.0105 - mean_squared_error: 0.0105 - val_loss: 0.0128 - val_mean_squared_error: 0.0128\n",
            "Epoch 70/100\n",
            "8/8 [==============================] - 0s 34ms/step - loss: 0.0115 - mean_squared_error: 0.0115 - val_loss: 0.0119 - val_mean_squared_error: 0.0119\n",
            "Epoch 71/100\n",
            "8/8 [==============================] - 0s 38ms/step - loss: 0.0110 - mean_squared_error: 0.0110 - val_loss: 0.0128 - val_mean_squared_error: 0.0128\n",
            "Epoch 72/100\n",
            "8/8 [==============================] - 0s 31ms/step - loss: 0.0124 - mean_squared_error: 0.0124 - val_loss: 0.0121 - val_mean_squared_error: 0.0121\n",
            "Epoch 73/100\n",
            "8/8 [==============================] - 0s 28ms/step - loss: 0.0113 - mean_squared_error: 0.0113 - val_loss: 0.0121 - val_mean_squared_error: 0.0121\n",
            "Epoch 74/100\n",
            "8/8 [==============================] - 0s 27ms/step - loss: 0.0110 - mean_squared_error: 0.0110 - val_loss: 0.0124 - val_mean_squared_error: 0.0124\n",
            "Epoch 75/100\n",
            "8/8 [==============================] - 0s 29ms/step - loss: 0.0097 - mean_squared_error: 0.0097 - val_loss: 0.0118 - val_mean_squared_error: 0.0118\n",
            "Epoch 76/100\n",
            "8/8 [==============================] - 0s 32ms/step - loss: 0.0110 - mean_squared_error: 0.0110 - val_loss: 0.0123 - val_mean_squared_error: 0.0123\n",
            "Epoch 77/100\n",
            "8/8 [==============================] - 0s 28ms/step - loss: 0.0103 - mean_squared_error: 0.0103 - val_loss: 0.0120 - val_mean_squared_error: 0.0120\n",
            "Epoch 78/100\n",
            "8/8 [==============================] - 0s 27ms/step - loss: 0.0125 - mean_squared_error: 0.0125 - val_loss: 0.0124 - val_mean_squared_error: 0.0124\n",
            "Epoch 79/100\n",
            "8/8 [==============================] - 0s 27ms/step - loss: 0.0110 - mean_squared_error: 0.0110 - val_loss: 0.0119 - val_mean_squared_error: 0.0119\n",
            "Epoch 80/100\n",
            "8/8 [==============================] - 0s 29ms/step - loss: 0.0105 - mean_squared_error: 0.0105 - val_loss: 0.0126 - val_mean_squared_error: 0.0126\n",
            "Epoch 81/100\n",
            "8/8 [==============================] - 0s 33ms/step - loss: 0.0112 - mean_squared_error: 0.0112 - val_loss: 0.0122 - val_mean_squared_error: 0.0122\n",
            "Epoch 82/100\n",
            "8/8 [==============================] - 0s 36ms/step - loss: 0.0117 - mean_squared_error: 0.0117 - val_loss: 0.0120 - val_mean_squared_error: 0.0120\n",
            "Epoch 83/100\n",
            "8/8 [==============================] - 0s 37ms/step - loss: 0.0113 - mean_squared_error: 0.0113 - val_loss: 0.0121 - val_mean_squared_error: 0.0121\n",
            "Epoch 84/100\n",
            "8/8 [==============================] - 0s 38ms/step - loss: 0.0120 - mean_squared_error: 0.0120 - val_loss: 0.0131 - val_mean_squared_error: 0.0131\n",
            "Epoch 85/100\n",
            "8/8 [==============================] - 0s 27ms/step - loss: 0.0115 - mean_squared_error: 0.0115 - val_loss: 0.0122 - val_mean_squared_error: 0.0122\n",
            "Epoch 86/100\n",
            "8/8 [==============================] - 0s 28ms/step - loss: 0.0134 - mean_squared_error: 0.0134 - val_loss: 0.0122 - val_mean_squared_error: 0.0122\n",
            "Epoch 87/100\n",
            "8/8 [==============================] - 0s 27ms/step - loss: 0.0108 - mean_squared_error: 0.0108 - val_loss: 0.0121 - val_mean_squared_error: 0.0121\n",
            "Epoch 88/100\n",
            "8/8 [==============================] - 0s 28ms/step - loss: 0.0111 - mean_squared_error: 0.0111 - val_loss: 0.0126 - val_mean_squared_error: 0.0126\n",
            "Epoch 89/100\n",
            "8/8 [==============================] - 0s 28ms/step - loss: 0.0088 - mean_squared_error: 0.0088 - val_loss: 0.0121 - val_mean_squared_error: 0.0121\n",
            "Epoch 90/100\n",
            "8/8 [==============================] - 0s 25ms/step - loss: 0.0107 - mean_squared_error: 0.0107 - val_loss: 0.0122 - val_mean_squared_error: 0.0122\n",
            "Epoch 91/100\n",
            "8/8 [==============================] - 0s 27ms/step - loss: 0.0104 - mean_squared_error: 0.0104 - val_loss: 0.0120 - val_mean_squared_error: 0.0120\n",
            "Epoch 92/100\n",
            "8/8 [==============================] - 0s 31ms/step - loss: 0.0115 - mean_squared_error: 0.0115 - val_loss: 0.0125 - val_mean_squared_error: 0.0125\n",
            "Epoch 93/100\n",
            "8/8 [==============================] - 0s 28ms/step - loss: 0.0085 - mean_squared_error: 0.0085 - val_loss: 0.0122 - val_mean_squared_error: 0.0122\n",
            "Epoch 94/100\n",
            "8/8 [==============================] - 0s 27ms/step - loss: 0.0117 - mean_squared_error: 0.0117 - val_loss: 0.0123 - val_mean_squared_error: 0.0123\n",
            "Epoch 95/100\n",
            "8/8 [==============================] - 0s 26ms/step - loss: 0.0127 - mean_squared_error: 0.0127 - val_loss: 0.0123 - val_mean_squared_error: 0.0123\n",
            "Epoch 96/100\n",
            "8/8 [==============================] - 0s 27ms/step - loss: 0.0093 - mean_squared_error: 0.0093 - val_loss: 0.0124 - val_mean_squared_error: 0.0124\n",
            "Epoch 97/100\n",
            "8/8 [==============================] - 0s 28ms/step - loss: 0.0119 - mean_squared_error: 0.0119 - val_loss: 0.0143 - val_mean_squared_error: 0.0143\n",
            "Epoch 98/100\n",
            "8/8 [==============================] - 0s 29ms/step - loss: 0.0116 - mean_squared_error: 0.0116 - val_loss: 0.0122 - val_mean_squared_error: 0.0122\n",
            "Epoch 99/100\n",
            "8/8 [==============================] - 0s 28ms/step - loss: 0.0113 - mean_squared_error: 0.0113 - val_loss: 0.0134 - val_mean_squared_error: 0.0134\n",
            "Epoch 100/100\n",
            "8/8 [==============================] - 0s 29ms/step - loss: 0.0109 - mean_squared_error: 0.0109 - val_loss: 0.0122 - val_mean_squared_error: 0.0122\n"
          ],
          "name": "stdout"
        }
      ]
    },
    {
      "cell_type": "code",
      "metadata": {
        "id": "bVU1kBHR6U3n"
      },
      "source": [
        "y_pr=model.predict(X_)"
      ],
      "id": "bVU1kBHR6U3n",
      "execution_count": 65,
      "outputs": []
    },
    {
      "cell_type": "code",
      "metadata": {
        "colab": {
          "base_uri": "https://localhost:8080/"
        },
        "id": "BPBblZyR6eIp",
        "outputId": "12ceaa6c-bfb0-4245-aee6-ecaf02a8ca8c"
      },
      "source": [
        "scaler.inverse_transform(y_pr)"
      ],
      "id": "BPBblZyR6eIp",
      "execution_count": 66,
      "outputs": [
        {
          "output_type": "execute_result",
          "data": {
            "text/plain": [
              "array([[  3346.5747],\n",
              "       [124392.305 ],\n",
              "       [109785.95  ],\n",
              "       [109785.95  ],\n",
              "       [122452.18  ],\n",
              "       [122452.18  ],\n",
              "       [ 95912.9   ],\n",
              "       [ 93608.    ],\n",
              "       [115285.95  ],\n",
              "       [ 41792.688 ],\n",
              "       [  1713.2551],\n",
              "       [ 78793.414 ],\n",
              "       [ 79881.16  ],\n",
              "       [ 58358.008 ],\n",
              "       [ 81561.31  ],\n",
              "       [123488.31  ],\n",
              "       [106794.01  ],\n",
              "       [ 93534.12  ],\n",
              "       [ 72704.05  ],\n",
              "       [121142.625 ],\n",
              "       [163048.36  ],\n",
              "       [ 73072.805 ],\n",
              "       [117489.13  ],\n",
              "       [ 37229.016 ],\n",
              "       [  4566.138 ],\n",
              "       [105464.97  ],\n",
              "       [ 91343.61  ],\n",
              "       [111093.36  ],\n",
              "       [ 88923.27  ],\n",
              "       [ 54399.543 ],\n",
              "       [  4311.4175],\n",
              "       [ 71291.945 ],\n",
              "       [ 96727.33  ],\n",
              "       [ 95682.89  ],\n",
              "       [ 66681.11  ],\n",
              "       [ 80308.55  ],\n",
              "       [ 80308.55  ],\n",
              "       [ 91235.055 ],\n",
              "       [ 91235.055 ],\n",
              "       [ 24205.688 ],\n",
              "       [   278.2425],\n",
              "       [140571.7   ],\n",
              "       [115181.49  ],\n",
              "       [108840.695 ],\n",
              "       [ 25064.285 ],\n",
              "       [  8604.0205],\n",
              "       [121002.6   ],\n",
              "       [111501.73  ],\n",
              "       [ 69455.03  ],\n",
              "       [ 69674.81  ]], dtype=float32)"
            ]
          },
          "metadata": {
            "tags": []
          },
          "execution_count": 66
        }
      ]
    },
    {
      "cell_type": "code",
      "metadata": {
        "id": "vzsbP0FX6fPj",
        "colab": {
          "base_uri": "https://localhost:8080/"
        },
        "outputId": "f6a8d988-5cca-4e39-b174-808970975970"
      },
      "source": [
        "y_"
      ],
      "id": "vzsbP0FX6fPj",
      "execution_count": 67,
      "outputs": [
        {
          "output_type": "execute_result",
          "data": {
            "text/plain": [
              "array([[1.7600000e+02],\n",
              "       [1.1453421e+05],\n",
              "       [1.2741210e+05],\n",
              "       [1.2741210e+05],\n",
              "       [1.2741210e+05],\n",
              "       [1.2741210e+05],\n",
              "       [7.3107940e+04],\n",
              "       [1.0033570e+05],\n",
              "       [8.2920440e+04],\n",
              "       [3.6992000e+04],\n",
              "       [3.2600000e+02],\n",
              "       [8.6287170e+04],\n",
              "       [7.9380380e+04],\n",
              "       [1.0450901e+05],\n",
              "       [9.6828960e+04],\n",
              "       [1.0832711e+05],\n",
              "       [9.9625260e+04],\n",
              "       [7.6878350e+04],\n",
              "       [6.9089170e+04],\n",
              "       [1.2821029e+05],\n",
              "       [1.7741042e+05],\n",
              "       [6.8424710e+04],\n",
              "       [1.3040640e+05],\n",
              "       [4.1651850e+04],\n",
              "       [1.0295000e+02],\n",
              "       [1.2132892e+05],\n",
              "       [9.4156550e+04],\n",
              "       [9.3428490e+04],\n",
              "       [7.3106960e+04],\n",
              "       [6.2484030e+04],\n",
              "       [5.0088000e+04],\n",
              "       [4.5289920e+04],\n",
              "       [9.5437440e+04],\n",
              "       [1.0067486e+05],\n",
              "       [5.5735080e+04],\n",
              "       [8.6421800e+04],\n",
              "       [8.6421800e+04],\n",
              "       [8.6421800e+04],\n",
              "       [8.6421800e+04],\n",
              "       [4.1343950e+04],\n",
              "       [1.5788000e+04],\n",
              "       [1.2898555e+05],\n",
              "       [9.3402160e+04],\n",
              "       [1.7674702e+05],\n",
              "       [3.2502400e+04],\n",
              "       [5.5111850e+04],\n",
              "       [1.3304285e+05],\n",
              "       [8.8538890e+04],\n",
              "       [6.6133390e+04],\n",
              "       [6.7090810e+04]])"
            ]
          },
          "metadata": {
            "tags": []
          },
          "execution_count": 67
        }
      ]
    },
    {
      "cell_type": "code",
      "metadata": {
        "id": "8Xnuqz1a6lWB"
      },
      "source": [
        "model.save('forecast_nueral_fs.h5')"
      ],
      "id": "8Xnuqz1a6lWB",
      "execution_count": 68,
      "outputs": []
    },
    {
      "cell_type": "code",
      "metadata": {
        "id": "-qHqKktjlWWM"
      },
      "source": [
        "loading_3=load_model('forecast_nueral_fs.h5')"
      ],
      "id": "-qHqKktjlWWM",
      "execution_count": 69,
      "outputs": []
    },
    {
      "cell_type": "code",
      "metadata": {
        "id": "9of6eP8IlWRL"
      },
      "source": [
        "pr=loading_3.predict([[0.25017035, 0.59841874, 0.39976689, 0.70064452]])"
      ],
      "id": "9of6eP8IlWRL",
      "execution_count": 72,
      "outputs": []
    },
    {
      "cell_type": "code",
      "metadata": {
        "colab": {
          "base_uri": "https://localhost:8080/"
        },
        "id": "peI15ctEtv9A",
        "outputId": "001251a1-d9ec-4303-9fc6-a0af659afe61"
      },
      "source": [
        "scaler.inverse_transform(pr)"
      ],
      "id": "peI15ctEtv9A",
      "execution_count": 73,
      "outputs": [
        {
          "output_type": "execute_result",
          "data": {
            "text/plain": [
              "array([[69674.79]], dtype=float32)"
            ]
          },
          "metadata": {
            "tags": []
          },
          "execution_count": 73
        }
      ]
    },
    {
      "cell_type": "code",
      "metadata": {
        "id": "lgcGjGsI6mV6",
        "colab": {
          "base_uri": "https://localhost:8080/"
        },
        "outputId": "6b76091c-e6d6-41f2-b01f-6dea50576d0a"
      },
      "source": [
        "X_[40:50]"
      ],
      "id": "lgcGjGsI6mV6",
      "execution_count": 70,
      "outputs": [
        {
          "output_type": "execute_result",
          "data": {
            "text/plain": [
              "array([[0.01468342, 0.00694429, 0.12743328, 0.        ],\n",
              "       [0.82016379, 1.        , 0.77304533, 0.51617891],\n",
              "       [0.49793805, 0.91404707, 0.61161885, 0.63505825],\n",
              "       [0.60776264, 0.48684928, 0.53719036, 0.70232676],\n",
              "       [0.04112142, 0.15544443, 0.49817451, 0.45687425],\n",
              "       [0.0462717 , 0.00254049, 0.        , 0.40621443],\n",
              "       [0.6969122 , 0.38912627, 0.71624789, 0.84779231],\n",
              "       [0.61978718, 0.64781259, 0.54293519, 0.80906391],\n",
              "       [0.29724454, 0.415307  , 0.36298704, 0.72769212],\n",
              "       [0.25017035, 0.59841874, 0.39976689, 0.70064452]])"
            ]
          },
          "metadata": {
            "tags": []
          },
          "execution_count": 70
        }
      ]
    },
    {
      "cell_type": "code",
      "metadata": {
        "colab": {
          "base_uri": "https://localhost:8080/"
        },
        "id": "PRsp2Pz1lTjv",
        "outputId": "1b0a0fb9-00e4-4a39-eeab-d3872f35e604"
      },
      "source": [
        "y_[40:50]"
      ],
      "id": "PRsp2Pz1lTjv",
      "execution_count": 71,
      "outputs": [
        {
          "output_type": "execute_result",
          "data": {
            "text/plain": [
              "array([[ 15788.  ],\n",
              "       [128985.55],\n",
              "       [ 93402.16],\n",
              "       [176747.02],\n",
              "       [ 32502.4 ],\n",
              "       [ 55111.85],\n",
              "       [133042.85],\n",
              "       [ 88538.89],\n",
              "       [ 66133.39],\n",
              "       [ 67090.81]])"
            ]
          },
          "metadata": {
            "tags": []
          },
          "execution_count": 71
        }
      ]
    },
    {
      "cell_type": "code",
      "metadata": {
        "id": "_aowqm-WtOTG"
      },
      "source": [
        ""
      ],
      "id": "_aowqm-WtOTG",
      "execution_count": null,
      "outputs": []
    },
    {
      "cell_type": "code",
      "metadata": {
        "id": "pcIMfKIJtXNC"
      },
      "source": [
        ""
      ],
      "id": "pcIMfKIJtXNC",
      "execution_count": null,
      "outputs": []
    }
  ]
}