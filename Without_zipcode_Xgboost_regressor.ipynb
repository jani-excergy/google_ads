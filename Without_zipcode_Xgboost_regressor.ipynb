{
 "cells": [
  {
   "cell_type": "code",
   "execution_count": 1,
   "id": "better-healthcare",
   "metadata": {},
   "outputs": [],
   "source": [
    "import pandas as pd\n",
    "import numpy as np\n",
    "import matplotlib.pyplot as plt\n",
    "import seaborn as sns"
   ]
  },
  {
   "cell_type": "code",
   "execution_count": 2,
   "id": "republican-clerk",
   "metadata": {},
   "outputs": [],
   "source": [
    "df=pd.read_excel('final_feat.xlsx')"
   ]
  },
  {
   "cell_type": "code",
   "execution_count": 3,
   "id": "returning-mountain",
   "metadata": {},
   "outputs": [],
   "source": [
    "df1=df[['Completed Jobs','TMAX','Avg Sales','tech_count','Income_y']]"
   ]
  },
  {
   "cell_type": "code",
   "execution_count": 4,
   "id": "subtle-ethernet",
   "metadata": {},
   "outputs": [
    {
     "data": {
      "text/html": [
       "<div>\n",
       "<style scoped>\n",
       "    .dataframe tbody tr th:only-of-type {\n",
       "        vertical-align: middle;\n",
       "    }\n",
       "\n",
       "    .dataframe tbody tr th {\n",
       "        vertical-align: top;\n",
       "    }\n",
       "\n",
       "    .dataframe thead th {\n",
       "        text-align: right;\n",
       "    }\n",
       "</style>\n",
       "<table border=\"1\" class=\"dataframe\">\n",
       "  <thead>\n",
       "    <tr style=\"text-align: right;\">\n",
       "      <th></th>\n",
       "      <th>Completed Jobs</th>\n",
       "      <th>TMAX</th>\n",
       "      <th>Avg Sales</th>\n",
       "      <th>tech_count</th>\n",
       "      <th>Income_y</th>\n",
       "    </tr>\n",
       "  </thead>\n",
       "  <tbody>\n",
       "    <tr>\n",
       "      <th>0</th>\n",
       "      <td>57</td>\n",
       "      <td>65</td>\n",
       "      <td>3617.444828</td>\n",
       "      <td>59</td>\n",
       "      <td>23933.54</td>\n",
       "    </tr>\n",
       "    <tr>\n",
       "      <th>1</th>\n",
       "      <td>77</td>\n",
       "      <td>71</td>\n",
       "      <td>1781.345385</td>\n",
       "      <td>40</td>\n",
       "      <td>65232.03</td>\n",
       "    </tr>\n",
       "    <tr>\n",
       "      <th>2</th>\n",
       "      <td>55</td>\n",
       "      <td>69</td>\n",
       "      <td>459.248750</td>\n",
       "      <td>21</td>\n",
       "      <td>26195.32</td>\n",
       "    </tr>\n",
       "    <tr>\n",
       "      <th>3</th>\n",
       "      <td>6</td>\n",
       "      <td>69</td>\n",
       "      <td>846.000000</td>\n",
       "      <td>9</td>\n",
       "      <td>264.00</td>\n",
       "    </tr>\n",
       "    <tr>\n",
       "      <th>4</th>\n",
       "      <td>73</td>\n",
       "      <td>77</td>\n",
       "      <td>1820.060789</td>\n",
       "      <td>60</td>\n",
       "      <td>48506.16</td>\n",
       "    </tr>\n",
       "  </tbody>\n",
       "</table>\n",
       "</div>"
      ],
      "text/plain": [
       "   Completed Jobs  TMAX    Avg Sales  tech_count  Income_y\n",
       "0              57    65  3617.444828          59  23933.54\n",
       "1              77    71  1781.345385          40  65232.03\n",
       "2              55    69   459.248750          21  26195.32\n",
       "3               6    69   846.000000           9    264.00\n",
       "4              73    77  1820.060789          60  48506.16"
      ]
     },
     "execution_count": 4,
     "metadata": {},
     "output_type": "execute_result"
    }
   ],
   "source": [
    "df1.head()"
   ]
  },
  {
   "cell_type": "code",
   "execution_count": 5,
   "id": "detected-engineering",
   "metadata": {},
   "outputs": [],
   "source": [
    "df1=df1.drop_duplicates(ignore_index=True)"
   ]
  },
  {
   "cell_type": "code",
   "execution_count": 6,
   "id": "impaired-motor",
   "metadata": {},
   "outputs": [],
   "source": [
    "train=df1[0:300]\n",
    "test=df1[300:]"
   ]
  },
  {
   "cell_type": "code",
   "execution_count": 7,
   "id": "identified-occupation",
   "metadata": {},
   "outputs": [],
   "source": [
    "y=train['Income_y']\n",
    "X=train.drop(['Income_y'],axis=1)"
   ]
  },
  {
   "cell_type": "code",
   "execution_count": 8,
   "id": "committed-positive",
   "metadata": {},
   "outputs": [],
   "source": [
    "y_=test['Income_y']\n",
    "X_=test.drop(['Income_y'],axis=1)"
   ]
  },
  {
   "cell_type": "code",
   "execution_count": 9,
   "id": "pressed-thought",
   "metadata": {},
   "outputs": [],
   "source": [
    "from sklearn.model_selection import train_test_split\n",
    "X_train, X_test, y_train, y_test = train_test_split(X, y, test_size=0.3, random_state=42)"
   ]
  },
  {
   "cell_type": "code",
   "execution_count": 11,
   "id": "military-hurricane",
   "metadata": {},
   "outputs": [],
   "source": [
    "import xgboost as xgb\n",
    "xgbst_reg=xgb.XGBRegressor()"
   ]
  },
  {
   "cell_type": "code",
   "execution_count": 12,
   "id": "pleasant-sampling",
   "metadata": {},
   "outputs": [
    {
     "data": {
      "text/plain": [
       "XGBRegressor(base_score=0.5, booster='gbtree', colsample_bylevel=1,\n",
       "             colsample_bynode=1, colsample_bytree=1, gamma=0, gpu_id=-1,\n",
       "             importance_type='gain', interaction_constraints='',\n",
       "             learning_rate=0.300000012, max_delta_step=0, max_depth=6,\n",
       "             min_child_weight=1, missing=nan, monotone_constraints='()',\n",
       "             n_estimators=100, n_jobs=0, num_parallel_tree=1, random_state=0,\n",
       "             reg_alpha=0, reg_lambda=1, scale_pos_weight=1, subsample=1,\n",
       "             tree_method='exact', validate_parameters=1, verbosity=None)"
      ]
     },
     "execution_count": 12,
     "metadata": {},
     "output_type": "execute_result"
    }
   ],
   "source": [
    "xgbst_reg.fit(X_train,y_train)"
   ]
  },
  {
   "cell_type": "code",
   "execution_count": 13,
   "id": "private-solomon",
   "metadata": {},
   "outputs": [
    {
     "data": {
      "text/plain": [
       "0.9999986443810006"
      ]
     },
     "execution_count": 13,
     "metadata": {},
     "output_type": "execute_result"
    }
   ],
   "source": [
    "xgbst_reg.score(X_train,y_train)"
   ]
  },
  {
   "cell_type": "code",
   "execution_count": 14,
   "id": "accessible-butterfly",
   "metadata": {},
   "outputs": [
    {
     "data": {
      "text/plain": [
       "0.6212885360356525"
      ]
     },
     "execution_count": 14,
     "metadata": {},
     "output_type": "execute_result"
    }
   ],
   "source": [
    "xgbst_reg.score(X_test,y_test)"
   ]
  },
  {
   "cell_type": "code",
   "execution_count": 15,
   "id": "responsible-overhead",
   "metadata": {},
   "outputs": [
    {
     "data": {
      "text/plain": [
       "0.3280493840907064"
      ]
     },
     "execution_count": 15,
     "metadata": {},
     "output_type": "execute_result"
    }
   ],
   "source": [
    "xgbst_reg.score(X_,y_)"
   ]
  },
  {
   "cell_type": "code",
   "execution_count": null,
   "id": "sixth-cycling",
   "metadata": {},
   "outputs": [],
   "source": []
  },
  {
   "cell_type": "code",
   "execution_count": 16,
   "id": "white-spelling",
   "metadata": {},
   "outputs": [],
   "source": [
    "y_pred_1=xgbst_reg.predict(X_)"
   ]
  },
  {
   "cell_type": "code",
   "execution_count": 17,
   "id": "sunset-drill",
   "metadata": {},
   "outputs": [],
   "source": [
    "from sklearn import metrics"
   ]
  },
  {
   "cell_type": "code",
   "execution_count": 18,
   "id": "controversial-genealogy",
   "metadata": {},
   "outputs": [
    {
     "name": "stdout",
     "output_type": "stream",
     "text": [
      "RMSE: 31690.65555446332\n",
      "MAE: 25420.173406066893\n"
     ]
    }
   ],
   "source": [
    "# RMSE and MAE\n",
    "print('RMSE:',np.sqrt(metrics.mean_squared_error(y_,y_pred_1)))\n",
    "print('MAE:',metrics.mean_absolute_error(y_,y_pred_1))"
   ]
  },
  {
   "cell_type": "code",
   "execution_count": 19,
   "id": "aboriginal-screen",
   "metadata": {},
   "outputs": [],
   "source": [
    "comp=pd.DataFrame({'Actual':y_,'Predicted':y_pred_1})"
   ]
  },
  {
   "cell_type": "code",
   "execution_count": 20,
   "id": "miniature-reform",
   "metadata": {},
   "outputs": [
    {
     "data": {
      "text/plain": [
       "<AxesSubplot:>"
      ]
     },
     "execution_count": 20,
     "metadata": {},
     "output_type": "execute_result"
    },
    {
     "data": {
      "image/png": "[encoded data removed]",
      "text/plain": [
       "<Figure size 432x288 with 1 Axes>"
      ]
     },
     "metadata": {
      "needs_background": "light"
     },
     "output_type": "display_data"
    }
   ],
   "source": [
    "comp.plot()"
   ]
  },
  {
   "cell_type": "code",
   "execution_count": 21,
   "id": "discrete-allowance",
   "metadata": {},
   "outputs": [],
   "source": [
    "comp['Error']=comp['Actual']-comp['Predicted']"
   ]
  },
  {
   "cell_type": "code",
   "execution_count": 22,
   "id": "national-fitness",
   "metadata": {},
   "outputs": [
    {
     "data": {
      "text/html": [
       "<div>\n",
       "<style scoped>\n",
       "    .dataframe tbody tr th:only-of-type {\n",
       "        vertical-align: middle;\n",
       "    }\n",
       "\n",
       "    .dataframe tbody tr th {\n",
       "        vertical-align: top;\n",
       "    }\n",
       "\n",
       "    .dataframe thead th {\n",
       "        text-align: right;\n",
       "    }\n",
       "</style>\n",
       "<table border=\"1\" class=\"dataframe\">\n",
       "  <thead>\n",
       "    <tr style=\"text-align: right;\">\n",
       "      <th></th>\n",
       "      <th>Actual</th>\n",
       "      <th>Predicted</th>\n",
       "      <th>Error</th>\n",
       "    </tr>\n",
       "  </thead>\n",
       "  <tbody>\n",
       "    <tr>\n",
       "      <th>300</th>\n",
       "      <td>114534.21</td>\n",
       "      <td>99699.585938</td>\n",
       "      <td>14834.624063</td>\n",
       "    </tr>\n",
       "    <tr>\n",
       "      <th>301</th>\n",
       "      <td>127412.10</td>\n",
       "      <td>133039.531250</td>\n",
       "      <td>-5627.431250</td>\n",
       "    </tr>\n",
       "    <tr>\n",
       "      <th>302</th>\n",
       "      <td>73107.94</td>\n",
       "      <td>113230.843750</td>\n",
       "      <td>-40122.903750</td>\n",
       "    </tr>\n",
       "    <tr>\n",
       "      <th>303</th>\n",
       "      <td>100335.70</td>\n",
       "      <td>77287.984375</td>\n",
       "      <td>23047.715625</td>\n",
       "    </tr>\n",
       "    <tr>\n",
       "      <th>304</th>\n",
       "      <td>82920.44</td>\n",
       "      <td>45144.585938</td>\n",
       "      <td>37775.854063</td>\n",
       "    </tr>\n",
       "    <tr>\n",
       "      <th>305</th>\n",
       "      <td>36992.00</td>\n",
       "      <td>57243.062500</td>\n",
       "      <td>-20251.062500</td>\n",
       "    </tr>\n",
       "    <tr>\n",
       "      <th>306</th>\n",
       "      <td>326.00</td>\n",
       "      <td>1992.148926</td>\n",
       "      <td>-1666.148926</td>\n",
       "    </tr>\n",
       "    <tr>\n",
       "      <th>307</th>\n",
       "      <td>86287.17</td>\n",
       "      <td>98319.007812</td>\n",
       "      <td>-12031.837813</td>\n",
       "    </tr>\n",
       "    <tr>\n",
       "      <th>308</th>\n",
       "      <td>79380.38</td>\n",
       "      <td>111259.750000</td>\n",
       "      <td>-31879.370000</td>\n",
       "    </tr>\n",
       "    <tr>\n",
       "      <th>309</th>\n",
       "      <td>104509.01</td>\n",
       "      <td>81949.921875</td>\n",
       "      <td>22559.088125</td>\n",
       "    </tr>\n",
       "    <tr>\n",
       "      <th>310</th>\n",
       "      <td>96828.96</td>\n",
       "      <td>37306.597656</td>\n",
       "      <td>59522.362344</td>\n",
       "    </tr>\n",
       "    <tr>\n",
       "      <th>311</th>\n",
       "      <td>108327.11</td>\n",
       "      <td>78722.117188</td>\n",
       "      <td>29604.992813</td>\n",
       "    </tr>\n",
       "    <tr>\n",
       "      <th>312</th>\n",
       "      <td>99625.26</td>\n",
       "      <td>75974.562500</td>\n",
       "      <td>23650.697500</td>\n",
       "    </tr>\n",
       "    <tr>\n",
       "      <th>313</th>\n",
       "      <td>76878.35</td>\n",
       "      <td>105727.539062</td>\n",
       "      <td>-28849.189062</td>\n",
       "    </tr>\n",
       "    <tr>\n",
       "      <th>314</th>\n",
       "      <td>69089.17</td>\n",
       "      <td>64308.339844</td>\n",
       "      <td>4780.830156</td>\n",
       "    </tr>\n",
       "    <tr>\n",
       "      <th>315</th>\n",
       "      <td>128210.29</td>\n",
       "      <td>56006.035156</td>\n",
       "      <td>72204.254844</td>\n",
       "    </tr>\n",
       "    <tr>\n",
       "      <th>316</th>\n",
       "      <td>177410.42</td>\n",
       "      <td>140294.500000</td>\n",
       "      <td>37115.920000</td>\n",
       "    </tr>\n",
       "    <tr>\n",
       "      <th>317</th>\n",
       "      <td>68424.71</td>\n",
       "      <td>85505.953125</td>\n",
       "      <td>-17081.243125</td>\n",
       "    </tr>\n",
       "    <tr>\n",
       "      <th>318</th>\n",
       "      <td>130406.40</td>\n",
       "      <td>103044.125000</td>\n",
       "      <td>27362.275000</td>\n",
       "    </tr>\n",
       "    <tr>\n",
       "      <th>319</th>\n",
       "      <td>41651.85</td>\n",
       "      <td>73242.328125</td>\n",
       "      <td>-31590.478125</td>\n",
       "    </tr>\n",
       "    <tr>\n",
       "      <th>320</th>\n",
       "      <td>102.95</td>\n",
       "      <td>3082.710938</td>\n",
       "      <td>-2979.760938</td>\n",
       "    </tr>\n",
       "    <tr>\n",
       "      <th>321</th>\n",
       "      <td>121328.92</td>\n",
       "      <td>112158.734375</td>\n",
       "      <td>9170.185625</td>\n",
       "    </tr>\n",
       "    <tr>\n",
       "      <th>322</th>\n",
       "      <td>94156.55</td>\n",
       "      <td>90149.031250</td>\n",
       "      <td>4007.518750</td>\n",
       "    </tr>\n",
       "    <tr>\n",
       "      <th>323</th>\n",
       "      <td>93428.49</td>\n",
       "      <td>93036.648438</td>\n",
       "      <td>391.841563</td>\n",
       "    </tr>\n",
       "    <tr>\n",
       "      <th>324</th>\n",
       "      <td>73106.96</td>\n",
       "      <td>90840.695312</td>\n",
       "      <td>-17733.735312</td>\n",
       "    </tr>\n",
       "    <tr>\n",
       "      <th>325</th>\n",
       "      <td>62484.03</td>\n",
       "      <td>68213.500000</td>\n",
       "      <td>-5729.470000</td>\n",
       "    </tr>\n",
       "    <tr>\n",
       "      <th>326</th>\n",
       "      <td>50088.00</td>\n",
       "      <td>15038.370117</td>\n",
       "      <td>35049.629883</td>\n",
       "    </tr>\n",
       "    <tr>\n",
       "      <th>327</th>\n",
       "      <td>45289.92</td>\n",
       "      <td>81982.882812</td>\n",
       "      <td>-36692.962813</td>\n",
       "    </tr>\n",
       "    <tr>\n",
       "      <th>328</th>\n",
       "      <td>95437.44</td>\n",
       "      <td>97412.796875</td>\n",
       "      <td>-1975.356875</td>\n",
       "    </tr>\n",
       "    <tr>\n",
       "      <th>329</th>\n",
       "      <td>100674.86</td>\n",
       "      <td>117579.796875</td>\n",
       "      <td>-16904.936875</td>\n",
       "    </tr>\n",
       "    <tr>\n",
       "      <th>330</th>\n",
       "      <td>55735.08</td>\n",
       "      <td>92761.976562</td>\n",
       "      <td>-37026.896562</td>\n",
       "    </tr>\n",
       "    <tr>\n",
       "      <th>331</th>\n",
       "      <td>86421.80</td>\n",
       "      <td>64507.070312</td>\n",
       "      <td>21914.729688</td>\n",
       "    </tr>\n",
       "    <tr>\n",
       "      <th>332</th>\n",
       "      <td>86421.80</td>\n",
       "      <td>89777.265625</td>\n",
       "      <td>-3355.465625</td>\n",
       "    </tr>\n",
       "    <tr>\n",
       "      <th>333</th>\n",
       "      <td>41343.95</td>\n",
       "      <td>31646.462891</td>\n",
       "      <td>9697.487109</td>\n",
       "    </tr>\n",
       "    <tr>\n",
       "      <th>334</th>\n",
       "      <td>15788.00</td>\n",
       "      <td>-209.159515</td>\n",
       "      <td>15997.159515</td>\n",
       "    </tr>\n",
       "    <tr>\n",
       "      <th>335</th>\n",
       "      <td>128985.55</td>\n",
       "      <td>118229.625000</td>\n",
       "      <td>10755.925000</td>\n",
       "    </tr>\n",
       "    <tr>\n",
       "      <th>336</th>\n",
       "      <td>93402.16</td>\n",
       "      <td>49348.714844</td>\n",
       "      <td>44053.445156</td>\n",
       "    </tr>\n",
       "    <tr>\n",
       "      <th>337</th>\n",
       "      <td>176747.02</td>\n",
       "      <td>92071.148438</td>\n",
       "      <td>84675.871562</td>\n",
       "    </tr>\n",
       "    <tr>\n",
       "      <th>338</th>\n",
       "      <td>32502.40</td>\n",
       "      <td>68719.757812</td>\n",
       "      <td>-36217.357812</td>\n",
       "    </tr>\n",
       "    <tr>\n",
       "      <th>339</th>\n",
       "      <td>55111.85</td>\n",
       "      <td>5352.428223</td>\n",
       "      <td>49759.421777</td>\n",
       "    </tr>\n",
       "    <tr>\n",
       "      <th>340</th>\n",
       "      <td>133042.85</td>\n",
       "      <td>90704.148438</td>\n",
       "      <td>42338.701563</td>\n",
       "    </tr>\n",
       "    <tr>\n",
       "      <th>341</th>\n",
       "      <td>88538.89</td>\n",
       "      <td>135503.046875</td>\n",
       "      <td>-46964.156875</td>\n",
       "    </tr>\n",
       "    <tr>\n",
       "      <th>342</th>\n",
       "      <td>66133.39</td>\n",
       "      <td>57202.199219</td>\n",
       "      <td>8931.190781</td>\n",
       "    </tr>\n",
       "    <tr>\n",
       "      <th>343</th>\n",
       "      <td>67090.81</td>\n",
       "      <td>101696.953125</td>\n",
       "      <td>-34606.143125</td>\n",
       "    </tr>\n",
       "  </tbody>\n",
       "</table>\n",
       "</div>"
      ],
      "text/plain": [
       "        Actual      Predicted         Error\n",
       "300  114534.21   99699.585938  14834.624063\n",
       "301  127412.10  133039.531250  -5627.431250\n",
       "302   73107.94  113230.843750 -40122.903750\n",
       "303  100335.70   77287.984375  23047.715625\n",
       "304   82920.44   45144.585938  37775.854063\n",
       "305   36992.00   57243.062500 -20251.062500\n",
       "306     326.00    1992.148926  -1666.148926\n",
       "307   86287.17   98319.007812 -12031.837813\n",
       "308   79380.38  111259.750000 -31879.370000\n",
       "309  104509.01   81949.921875  22559.088125\n",
       "310   96828.96   37306.597656  59522.362344\n",
       "311  108327.11   78722.117188  29604.992813\n",
       "312   99625.26   75974.562500  23650.697500\n",
       "313   76878.35  105727.539062 -28849.189062\n",
       "314   69089.17   64308.339844   4780.830156\n",
       "315  128210.29   56006.035156  72204.254844\n",
       "316  177410.42  140294.500000  37115.920000\n",
       "317   68424.71   85505.953125 -17081.243125\n",
       "318  130406.40  103044.125000  27362.275000\n",
       "319   41651.85   73242.328125 -31590.478125\n",
       "320     102.95    3082.710938  -2979.760938\n",
       "321  121328.92  112158.734375   9170.185625\n",
       "322   94156.55   90149.031250   4007.518750\n",
       "323   93428.49   93036.648438    391.841563\n",
       "324   73106.96   90840.695312 -17733.735312\n",
       "325   62484.03   68213.500000  -5729.470000\n",
       "326   50088.00   15038.370117  35049.629883\n",
       "327   45289.92   81982.882812 -36692.962813\n",
       "328   95437.44   97412.796875  -1975.356875\n",
       "329  100674.86  117579.796875 -16904.936875\n",
       "330   55735.08   92761.976562 -37026.896562\n",
       "331   86421.80   64507.070312  21914.729688\n",
       "332   86421.80   89777.265625  -3355.465625\n",
       "333   41343.95   31646.462891   9697.487109\n",
       "334   15788.00    -209.159515  15997.159515\n",
       "335  128985.55  118229.625000  10755.925000\n",
       "336   93402.16   49348.714844  44053.445156\n",
       "337  176747.02   92071.148438  84675.871562\n",
       "338   32502.40   68719.757812 -36217.357812\n",
       "339   55111.85    5352.428223  49759.421777\n",
       "340  133042.85   90704.148438  42338.701563\n",
       "341   88538.89  135503.046875 -46964.156875\n",
       "342   66133.39   57202.199219   8931.190781\n",
       "343   67090.81  101696.953125 -34606.143125"
      ]
     },
     "execution_count": 22,
     "metadata": {},
     "output_type": "execute_result"
    }
   ],
   "source": [
    "comp"
   ]
  },
  {
   "cell_type": "markdown",
   "id": "fourth-banks",
   "metadata": {},
   "source": [
    "# Hyperparamter Optimization"
   ]
  },
  {
   "cell_type": "code",
   "execution_count": 41,
   "id": "conventional-summit",
   "metadata": {},
   "outputs": [],
   "source": [
    "# Hyperparameter tuning with RandomizedSearchCV\n",
    "\n",
    "from sklearn.model_selection import RandomizedSearchCV\n"
   ]
  },
  {
   "cell_type": "code",
   "execution_count": 94,
   "id": "ceramic-spank",
   "metadata": {},
   "outputs": [],
   "source": [
    "# Hyparameter ranges \n",
    "\n",
    "from scipy.stats import randint\n",
    "\n",
    "\n",
    "parameters = {'n_estimators': randint(100,1200),\n",
    "               'learning_rate': [0.001,0.002,0.003,0.005,0.01,0.04,0.05,0.1,0.2,0.3],\n",
    "               'max_depth': randint(5,10),\n",
    "               'subsample': [0.5,0.6,0.7,0.8,0.9],\n",
    "               'min_child_weight': randint(1,10)}\n"
   ]
  },
  {
   "cell_type": "code",
   "execution_count": 95,
   "id": "unsigned-hometown",
   "metadata": {},
   "outputs": [],
   "source": [
    "# Model for tuning\n",
    "\n",
    "base_learner=xgb.XGBRegressor()\n"
   ]
  },
  {
   "cell_type": "code",
   "execution_count": 96,
   "id": "widespread-locking",
   "metadata": {},
   "outputs": [],
   "source": [
    "# Tuning \n",
    "\n",
    "# Tuning \n",
    "\n",
    "tuned_model= RandomizedSearchCV(estimator = base_learner, param_distributions = parameters,scoring='neg_root_mean_squared_error', n_iter = 100, cv = 5, verbose=2, random_state=42, n_jobs =-1)"
   ]
  },
  {
   "cell_type": "code",
   "execution_count": null,
   "id": "endless-davis",
   "metadata": {},
   "outputs": [],
   "source": []
  },
  {
   "cell_type": "code",
   "execution_count": 97,
   "id": "legislative-creator",
   "metadata": {},
   "outputs": [
    {
     "name": "stdout",
     "output_type": "stream",
     "text": [
      "Fitting 5 folds for each of 100 candidates, totalling 500 fits\n"
     ]
    },
    {
     "name": "stderr",
     "output_type": "stream",
     "text": [
      "[Parallel(n_jobs=-1)]: Using backend LokyBackend with 4 concurrent workers.\n",
      "[Parallel(n_jobs=-1)]: Done  33 tasks      | elapsed:    4.0s\n",
      "[Parallel(n_jobs=-1)]: Done 154 tasks      | elapsed:   17.3s\n",
      "[Parallel(n_jobs=-1)]: Done 357 tasks      | elapsed:   36.7s\n",
      "[Parallel(n_jobs=-1)]: Done 500 out of 500 | elapsed:   51.8s finished\n"
     ]
    },
    {
     "data": {
      "text/plain": [
       "RandomizedSearchCV(cv=5,\n",
       "                   estimator=XGBRegressor(base_score=None, booster=None,\n",
       "                                          colsample_bylevel=None,\n",
       "                                          colsample_bynode=None,\n",
       "                                          colsample_bytree=None, gamma=None,\n",
       "                                          gpu_id=None, importance_type='gain',\n",
       "                                          interaction_constraints=None,\n",
       "                                          learning_rate=None,\n",
       "                                          max_delta_step=None, max_depth=None,\n",
       "                                          min_child_weight=None, missing=nan,\n",
       "                                          monotone_constraints=None,\n",
       "                                          n_estimators=100, n...\n",
       "                                        'max_depth': <scipy.stats._distn_infrastructure.rv_frozen object at 0x000001DE27EED940>,\n",
       "                                        'min_child_weight': <scipy.stats._distn_infrastructure.rv_frozen object at 0x000001DE27EEDCF8>,\n",
       "                                        'n_estimators': <scipy.stats._distn_infrastructure.rv_frozen object at 0x000001DE27EED908>,\n",
       "                                        'subsample': [0.5, 0.6, 0.7, 0.8, 0.9]},\n",
       "                   random_state=42, scoring='neg_root_mean_squared_error',\n",
       "                   verbose=2)"
      ]
     },
     "execution_count": 97,
     "metadata": {},
     "output_type": "execute_result"
    }
   ],
   "source": [
    "tuned_model.fit(X,y)"
   ]
  },
  {
   "cell_type": "code",
   "execution_count": 98,
   "id": "original-study",
   "metadata": {},
   "outputs": [
    {
     "data": {
      "text/plain": [
       "{'learning_rate': 0.005,\n",
       " 'max_depth': 9,\n",
       " 'min_child_weight': 7,\n",
       " 'n_estimators': 677,\n",
       " 'subsample': 0.6}"
      ]
     },
     "execution_count": 98,
     "metadata": {},
     "output_type": "execute_result"
    }
   ],
   "source": [
    "tuned_model.best_params_"
   ]
  },
  {
   "cell_type": "code",
   "execution_count": 99,
   "id": "fitting-organic",
   "metadata": {},
   "outputs": [
    {
     "data": {
      "text/plain": [
       "-38730.74921802711"
      ]
     },
     "execution_count": 99,
     "metadata": {},
     "output_type": "execute_result"
    }
   ],
   "source": [
    "tuned_model.best_score_"
   ]
  },
  {
   "cell_type": "code",
   "execution_count": 100,
   "id": "accepted-combine",
   "metadata": {},
   "outputs": [],
   "source": [
    "# Best model\n",
    "\n",
    "best_model=xgb.XGBRegressor(learning_rate= 0.005,max_depth=9,min_child_weight=7,n_estimators=677,subsample=0.6)"
   ]
  },
  {
   "cell_type": "code",
   "execution_count": 101,
   "id": "respiratory-organizer",
   "metadata": {},
   "outputs": [
    {
     "data": {
      "text/plain": [
       "XGBRegressor(base_score=0.5, booster='gbtree', colsample_bylevel=1,\n",
       "             colsample_bynode=1, colsample_bytree=1, gamma=0, gpu_id=-1,\n",
       "             importance_type='gain', interaction_constraints='',\n",
       "             learning_rate=0.005, max_delta_step=0, max_depth=9,\n",
       "             min_child_weight=7, missing=nan, monotone_constraints='()',\n",
       "             n_estimators=677, n_jobs=0, num_parallel_tree=1, random_state=0,\n",
       "             reg_alpha=0, reg_lambda=1, scale_pos_weight=1, subsample=0.6,\n",
       "             tree_method='exact', validate_parameters=1, verbosity=None)"
      ]
     },
     "execution_count": 101,
     "metadata": {},
     "output_type": "execute_result"
    }
   ],
   "source": [
    "best_model.fit(X_train,y_train)"
   ]
  },
  {
   "cell_type": "code",
   "execution_count": 102,
   "id": "viral-dover",
   "metadata": {},
   "outputs": [
    {
     "data": {
      "text/plain": [
       "0.8387368896576157"
      ]
     },
     "execution_count": 102,
     "metadata": {},
     "output_type": "execute_result"
    }
   ],
   "source": [
    "best_model.score(X_train,y_train)"
   ]
  },
  {
   "cell_type": "code",
   "execution_count": 103,
   "id": "incoming-prefix",
   "metadata": {},
   "outputs": [
    {
     "data": {
      "text/plain": [
       "0.7334571005900727"
      ]
     },
     "execution_count": 103,
     "metadata": {},
     "output_type": "execute_result"
    }
   ],
   "source": [
    "best_model.score(X_test,y_test)"
   ]
  },
  {
   "cell_type": "code",
   "execution_count": 104,
   "id": "saved-madagascar",
   "metadata": {},
   "outputs": [
    {
     "data": {
      "text/plain": [
       "0.5334572140395858"
      ]
     },
     "execution_count": 104,
     "metadata": {},
     "output_type": "execute_result"
    }
   ],
   "source": [
    "best_model.score(X_,y_)"
   ]
  },
  {
   "cell_type": "code",
   "execution_count": 106,
   "id": "strange-series",
   "metadata": {},
   "outputs": [],
   "source": [
    "y_pred_2=best_model.predict(X_)"
   ]
  },
  {
   "cell_type": "code",
   "execution_count": 107,
   "id": "greenhouse-perfume",
   "metadata": {},
   "outputs": [
    {
     "name": "stdout",
     "output_type": "stream",
     "text": [
      "RMSE: 26406.344458802283\n",
      "MAE: 19859.418634810016\n"
     ]
    }
   ],
   "source": [
    "# RMSE and MAE\n",
    "print('RMSE:',np.sqrt(metrics.mean_squared_error(y_,y_pred_2)))\n",
    "print('MAE:',metrics.mean_absolute_error(y_,y_pred_2))"
   ]
  },
  {
   "cell_type": "code",
   "execution_count": 108,
   "id": "satisfactory-ethics",
   "metadata": {},
   "outputs": [],
   "source": [
    "comp_2=pd.DataFrame({'Actual':y_,'Predicted':y_pred_2})"
   ]
  },
  {
   "cell_type": "code",
   "execution_count": 109,
   "id": "reflected-flexibility",
   "metadata": {},
   "outputs": [
    {
     "data": {
      "text/plain": [
       "<AxesSubplot:>"
      ]
     },
     "execution_count": 109,
     "metadata": {},
     "output_type": "execute_result"
    },
    {
     "data": {
      "image/png": "[encoded data removed]",
      "text/plain": [
       "<Figure size 432x288 with 1 Axes>"
      ]
     },
     "metadata": {
      "needs_background": "light"
     },
     "output_type": "display_data"
    }
   ],
   "source": [
    "comp_2.plot()"
   ]
  },
  {
   "cell_type": "code",
   "execution_count": 110,
   "id": "everyday-renaissance",
   "metadata": {},
   "outputs": [],
   "source": [
    "comp_2['Error']=comp_2['Actual']-comp_2['Predicted']"
   ]
  },
  {
   "cell_type": "code",
   "execution_count": 111,
   "id": "committed-phoenix",
   "metadata": {},
   "outputs": [
    {
     "data": {
      "text/html": [
       "<div>\n",
       "<style scoped>\n",
       "    .dataframe tbody tr th:only-of-type {\n",
       "        vertical-align: middle;\n",
       "    }\n",
       "\n",
       "    .dataframe tbody tr th {\n",
       "        vertical-align: top;\n",
       "    }\n",
       "\n",
       "    .dataframe thead th {\n",
       "        text-align: right;\n",
       "    }\n",
       "</style>\n",
       "<table border=\"1\" class=\"dataframe\">\n",
       "  <thead>\n",
       "    <tr style=\"text-align: right;\">\n",
       "      <th></th>\n",
       "      <th>Actual</th>\n",
       "      <th>Predicted</th>\n",
       "      <th>Error</th>\n",
       "    </tr>\n",
       "  </thead>\n",
       "  <tbody>\n",
       "    <tr>\n",
       "      <th>300</th>\n",
       "      <td>114534.21</td>\n",
       "      <td>109646.476562</td>\n",
       "      <td>4887.733438</td>\n",
       "    </tr>\n",
       "    <tr>\n",
       "      <th>301</th>\n",
       "      <td>127412.10</td>\n",
       "      <td>118452.875000</td>\n",
       "      <td>8959.225000</td>\n",
       "    </tr>\n",
       "    <tr>\n",
       "      <th>302</th>\n",
       "      <td>73107.94</td>\n",
       "      <td>96758.304688</td>\n",
       "      <td>-23650.364687</td>\n",
       "    </tr>\n",
       "    <tr>\n",
       "      <th>303</th>\n",
       "      <td>100335.70</td>\n",
       "      <td>106845.273438</td>\n",
       "      <td>-6509.573438</td>\n",
       "    </tr>\n",
       "    <tr>\n",
       "      <th>304</th>\n",
       "      <td>82920.44</td>\n",
       "      <td>104532.992188</td>\n",
       "      <td>-21612.552187</td>\n",
       "    </tr>\n",
       "    <tr>\n",
       "      <th>305</th>\n",
       "      <td>36992.00</td>\n",
       "      <td>54359.910156</td>\n",
       "      <td>-17367.910156</td>\n",
       "    </tr>\n",
       "    <tr>\n",
       "      <th>306</th>\n",
       "      <td>326.00</td>\n",
       "      <td>6022.104492</td>\n",
       "      <td>-5696.104492</td>\n",
       "    </tr>\n",
       "    <tr>\n",
       "      <th>307</th>\n",
       "      <td>86287.17</td>\n",
       "      <td>108630.929688</td>\n",
       "      <td>-22343.759688</td>\n",
       "    </tr>\n",
       "    <tr>\n",
       "      <th>308</th>\n",
       "      <td>79380.38</td>\n",
       "      <td>97019.500000</td>\n",
       "      <td>-17639.120000</td>\n",
       "    </tr>\n",
       "    <tr>\n",
       "      <th>309</th>\n",
       "      <td>104509.01</td>\n",
       "      <td>62919.078125</td>\n",
       "      <td>41589.931875</td>\n",
       "    </tr>\n",
       "    <tr>\n",
       "      <th>310</th>\n",
       "      <td>96828.96</td>\n",
       "      <td>91487.484375</td>\n",
       "      <td>5341.475625</td>\n",
       "    </tr>\n",
       "    <tr>\n",
       "      <th>311</th>\n",
       "      <td>108327.11</td>\n",
       "      <td>103255.765625</td>\n",
       "      <td>5071.344375</td>\n",
       "    </tr>\n",
       "    <tr>\n",
       "      <th>312</th>\n",
       "      <td>99625.26</td>\n",
       "      <td>85920.671875</td>\n",
       "      <td>13704.588125</td>\n",
       "    </tr>\n",
       "    <tr>\n",
       "      <th>313</th>\n",
       "      <td>76878.35</td>\n",
       "      <td>114588.023438</td>\n",
       "      <td>-37709.673437</td>\n",
       "    </tr>\n",
       "    <tr>\n",
       "      <th>314</th>\n",
       "      <td>69089.17</td>\n",
       "      <td>61824.023438</td>\n",
       "      <td>7265.146562</td>\n",
       "    </tr>\n",
       "    <tr>\n",
       "      <th>315</th>\n",
       "      <td>128210.29</td>\n",
       "      <td>109664.835938</td>\n",
       "      <td>18545.454062</td>\n",
       "    </tr>\n",
       "    <tr>\n",
       "      <th>316</th>\n",
       "      <td>177410.42</td>\n",
       "      <td>127735.710938</td>\n",
       "      <td>49674.709063</td>\n",
       "    </tr>\n",
       "    <tr>\n",
       "      <th>317</th>\n",
       "      <td>68424.71</td>\n",
       "      <td>86780.046875</td>\n",
       "      <td>-18355.336875</td>\n",
       "    </tr>\n",
       "    <tr>\n",
       "      <th>318</th>\n",
       "      <td>130406.40</td>\n",
       "      <td>99028.210938</td>\n",
       "      <td>31378.189062</td>\n",
       "    </tr>\n",
       "    <tr>\n",
       "      <th>319</th>\n",
       "      <td>41651.85</td>\n",
       "      <td>53286.167969</td>\n",
       "      <td>-11634.317969</td>\n",
       "    </tr>\n",
       "    <tr>\n",
       "      <th>320</th>\n",
       "      <td>102.95</td>\n",
       "      <td>3779.846924</td>\n",
       "      <td>-3676.896924</td>\n",
       "    </tr>\n",
       "    <tr>\n",
       "      <th>321</th>\n",
       "      <td>121328.92</td>\n",
       "      <td>109686.906250</td>\n",
       "      <td>11642.013750</td>\n",
       "    </tr>\n",
       "    <tr>\n",
       "      <th>322</th>\n",
       "      <td>94156.55</td>\n",
       "      <td>88137.390625</td>\n",
       "      <td>6019.159375</td>\n",
       "    </tr>\n",
       "    <tr>\n",
       "      <th>323</th>\n",
       "      <td>93428.49</td>\n",
       "      <td>105926.335938</td>\n",
       "      <td>-12497.845937</td>\n",
       "    </tr>\n",
       "    <tr>\n",
       "      <th>324</th>\n",
       "      <td>73106.96</td>\n",
       "      <td>113196.562500</td>\n",
       "      <td>-40089.602500</td>\n",
       "    </tr>\n",
       "    <tr>\n",
       "      <th>325</th>\n",
       "      <td>62484.03</td>\n",
       "      <td>60762.707031</td>\n",
       "      <td>1721.322969</td>\n",
       "    </tr>\n",
       "    <tr>\n",
       "      <th>326</th>\n",
       "      <td>50088.00</td>\n",
       "      <td>8203.764648</td>\n",
       "      <td>41884.235352</td>\n",
       "    </tr>\n",
       "    <tr>\n",
       "      <th>327</th>\n",
       "      <td>45289.92</td>\n",
       "      <td>103692.101562</td>\n",
       "      <td>-58402.181563</td>\n",
       "    </tr>\n",
       "    <tr>\n",
       "      <th>328</th>\n",
       "      <td>95437.44</td>\n",
       "      <td>87514.226562</td>\n",
       "      <td>7923.213438</td>\n",
       "    </tr>\n",
       "    <tr>\n",
       "      <th>329</th>\n",
       "      <td>100674.86</td>\n",
       "      <td>105534.031250</td>\n",
       "      <td>-4859.171250</td>\n",
       "    </tr>\n",
       "    <tr>\n",
       "      <th>330</th>\n",
       "      <td>55735.08</td>\n",
       "      <td>94299.609375</td>\n",
       "      <td>-38564.529375</td>\n",
       "    </tr>\n",
       "    <tr>\n",
       "      <th>331</th>\n",
       "      <td>86421.80</td>\n",
       "      <td>79359.890625</td>\n",
       "      <td>7061.909375</td>\n",
       "    </tr>\n",
       "    <tr>\n",
       "      <th>332</th>\n",
       "      <td>86421.80</td>\n",
       "      <td>80339.703125</td>\n",
       "      <td>6082.096875</td>\n",
       "    </tr>\n",
       "    <tr>\n",
       "      <th>333</th>\n",
       "      <td>41343.95</td>\n",
       "      <td>43685.015625</td>\n",
       "      <td>-2341.065625</td>\n",
       "    </tr>\n",
       "    <tr>\n",
       "      <th>334</th>\n",
       "      <td>15788.00</td>\n",
       "      <td>7426.149902</td>\n",
       "      <td>8361.850098</td>\n",
       "    </tr>\n",
       "    <tr>\n",
       "      <th>335</th>\n",
       "      <td>128985.55</td>\n",
       "      <td>134040.812500</td>\n",
       "      <td>-5055.262500</td>\n",
       "    </tr>\n",
       "    <tr>\n",
       "      <th>336</th>\n",
       "      <td>93402.16</td>\n",
       "      <td>100827.132812</td>\n",
       "      <td>-7424.972812</td>\n",
       "    </tr>\n",
       "    <tr>\n",
       "      <th>337</th>\n",
       "      <td>176747.02</td>\n",
       "      <td>96410.757812</td>\n",
       "      <td>80336.262187</td>\n",
       "    </tr>\n",
       "    <tr>\n",
       "      <th>338</th>\n",
       "      <td>32502.40</td>\n",
       "      <td>49350.472656</td>\n",
       "      <td>-16848.072656</td>\n",
       "    </tr>\n",
       "    <tr>\n",
       "      <th>339</th>\n",
       "      <td>55111.85</td>\n",
       "      <td>5488.278809</td>\n",
       "      <td>49623.571191</td>\n",
       "    </tr>\n",
       "    <tr>\n",
       "      <th>340</th>\n",
       "      <td>133042.85</td>\n",
       "      <td>97432.875000</td>\n",
       "      <td>35609.975000</td>\n",
       "    </tr>\n",
       "    <tr>\n",
       "      <th>341</th>\n",
       "      <td>88538.89</td>\n",
       "      <td>107785.125000</td>\n",
       "      <td>-19246.235000</td>\n",
       "    </tr>\n",
       "    <tr>\n",
       "      <th>342</th>\n",
       "      <td>66133.39</td>\n",
       "      <td>79147.453125</td>\n",
       "      <td>-13014.063125</td>\n",
       "    </tr>\n",
       "    <tr>\n",
       "      <th>343</th>\n",
       "      <td>67090.81</td>\n",
       "      <td>93683.210938</td>\n",
       "      <td>-26592.400938</td>\n",
       "    </tr>\n",
       "  </tbody>\n",
       "</table>\n",
       "</div>"
      ],
      "text/plain": [
       "        Actual      Predicted         Error\n",
       "300  114534.21  109646.476562   4887.733438\n",
       "301  127412.10  118452.875000   8959.225000\n",
       "302   73107.94   96758.304688 -23650.364687\n",
       "303  100335.70  106845.273438  -6509.573438\n",
       "304   82920.44  104532.992188 -21612.552187\n",
       "305   36992.00   54359.910156 -17367.910156\n",
       "306     326.00    6022.104492  -5696.104492\n",
       "307   86287.17  108630.929688 -22343.759688\n",
       "308   79380.38   97019.500000 -17639.120000\n",
       "309  104509.01   62919.078125  41589.931875\n",
       "310   96828.96   91487.484375   5341.475625\n",
       "311  108327.11  103255.765625   5071.344375\n",
       "312   99625.26   85920.671875  13704.588125\n",
       "313   76878.35  114588.023438 -37709.673437\n",
       "314   69089.17   61824.023438   7265.146562\n",
       "315  128210.29  109664.835938  18545.454062\n",
       "316  177410.42  127735.710938  49674.709063\n",
       "317   68424.71   86780.046875 -18355.336875\n",
       "318  130406.40   99028.210938  31378.189062\n",
       "319   41651.85   53286.167969 -11634.317969\n",
       "320     102.95    3779.846924  -3676.896924\n",
       "321  121328.92  109686.906250  11642.013750\n",
       "322   94156.55   88137.390625   6019.159375\n",
       "323   93428.49  105926.335938 -12497.845937\n",
       "324   73106.96  113196.562500 -40089.602500\n",
       "325   62484.03   60762.707031   1721.322969\n",
       "326   50088.00    8203.764648  41884.235352\n",
       "327   45289.92  103692.101562 -58402.181563\n",
       "328   95437.44   87514.226562   7923.213438\n",
       "329  100674.86  105534.031250  -4859.171250\n",
       "330   55735.08   94299.609375 -38564.529375\n",
       "331   86421.80   79359.890625   7061.909375\n",
       "332   86421.80   80339.703125   6082.096875\n",
       "333   41343.95   43685.015625  -2341.065625\n",
       "334   15788.00    7426.149902   8361.850098\n",
       "335  128985.55  134040.812500  -5055.262500\n",
       "336   93402.16  100827.132812  -7424.972812\n",
       "337  176747.02   96410.757812  80336.262187\n",
       "338   32502.40   49350.472656 -16848.072656\n",
       "339   55111.85    5488.278809  49623.571191\n",
       "340  133042.85   97432.875000  35609.975000\n",
       "341   88538.89  107785.125000 -19246.235000\n",
       "342   66133.39   79147.453125 -13014.063125\n",
       "343   67090.81   93683.210938 -26592.400938"
      ]
     },
     "execution_count": 111,
     "metadata": {},
     "output_type": "execute_result"
    }
   ],
   "source": [
    "comp_2"
   ]
  },
  {
   "cell_type": "code",
   "execution_count": null,
   "id": "pressed-intranet",
   "metadata": {},
   "outputs": [],
   "source": []
  }
 ],
 "metadata": {
  "kernelspec": {
   "display_name": "Python 3",
   "language": "python",
   "name": "python3"
  },
  "language_info": {
   "codemirror_mode": {
    "name": "ipython",
    "version": 3
   },
   "file_extension": ".py",
   "mimetype": "text/x-python",
   "name": "python",
   "nbconvert_exporter": "python",
   "pygments_lexer": "ipython3",
   "version": "3.7.3"
  }
 },
 "nbformat": 4,
 "nbformat_minor": 5
}
