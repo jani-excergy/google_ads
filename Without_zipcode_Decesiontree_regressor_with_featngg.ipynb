{
 "cells": [
  {
   "cell_type": "code",
   "execution_count": 1,
   "id": "better-healthcare",
   "metadata": {},
   "outputs": [],
   "source": [
    "import pandas as pd\n",
    "import numpy as np\n",
    "import matplotlib.pyplot as plt\n",
    "import seaborn as sns"
   ]
  },
  {
   "cell_type": "code",
   "execution_count": 2,
   "id": "republican-clerk",
   "metadata": {},
   "outputs": [],
   "source": [
    "df=pd.read_excel('final_feat.xlsx')"
   ]
  },
  {
   "cell_type": "code",
   "execution_count": 3,
   "id": "returning-mountain",
   "metadata": {},
   "outputs": [],
   "source": [
    "df1=df[['Completed Jobs','TMAX','Avg Sales','tech_count','Income_y']]"
   ]
  },
  {
   "cell_type": "code",
   "execution_count": 4,
   "id": "subtle-ethernet",
   "metadata": {},
   "outputs": [
    {
     "data": {
      "text/html": [
       "<div>\n",
       "<style scoped>\n",
       "    .dataframe tbody tr th:only-of-type {\n",
       "        vertical-align: middle;\n",
       "    }\n",
       "\n",
       "    .dataframe tbody tr th {\n",
       "        vertical-align: top;\n",
       "    }\n",
       "\n",
       "    .dataframe thead th {\n",
       "        text-align: right;\n",
       "    }\n",
       "</style>\n",
       "<table border=\"1\" class=\"dataframe\">\n",
       "  <thead>\n",
       "    <tr style=\"text-align: right;\">\n",
       "      <th></th>\n",
       "      <th>Completed Jobs</th>\n",
       "      <th>TMAX</th>\n",
       "      <th>Avg Sales</th>\n",
       "      <th>tech_count</th>\n",
       "      <th>Income_y</th>\n",
       "    </tr>\n",
       "  </thead>\n",
       "  <tbody>\n",
       "    <tr>\n",
       "      <th>0</th>\n",
       "      <td>57</td>\n",
       "      <td>65</td>\n",
       "      <td>3617.444828</td>\n",
       "      <td>59</td>\n",
       "      <td>23933.54</td>\n",
       "    </tr>\n",
       "    <tr>\n",
       "      <th>1</th>\n",
       "      <td>77</td>\n",
       "      <td>71</td>\n",
       "      <td>1781.345385</td>\n",
       "      <td>40</td>\n",
       "      <td>65232.03</td>\n",
       "    </tr>\n",
       "    <tr>\n",
       "      <th>2</th>\n",
       "      <td>55</td>\n",
       "      <td>69</td>\n",
       "      <td>459.248750</td>\n",
       "      <td>21</td>\n",
       "      <td>26195.32</td>\n",
       "    </tr>\n",
       "    <tr>\n",
       "      <th>3</th>\n",
       "      <td>6</td>\n",
       "      <td>69</td>\n",
       "      <td>846.000000</td>\n",
       "      <td>9</td>\n",
       "      <td>264.00</td>\n",
       "    </tr>\n",
       "    <tr>\n",
       "      <th>4</th>\n",
       "      <td>73</td>\n",
       "      <td>77</td>\n",
       "      <td>1820.060789</td>\n",
       "      <td>60</td>\n",
       "      <td>48506.16</td>\n",
       "    </tr>\n",
       "  </tbody>\n",
       "</table>\n",
       "</div>"
      ],
      "text/plain": [
       "   Completed Jobs  TMAX    Avg Sales  tech_count  Income_y\n",
       "0              57    65  3617.444828          59  23933.54\n",
       "1              77    71  1781.345385          40  65232.03\n",
       "2              55    69   459.248750          21  26195.32\n",
       "3               6    69   846.000000           9    264.00\n",
       "4              73    77  1820.060789          60  48506.16"
      ]
     },
     "execution_count": 4,
     "metadata": {},
     "output_type": "execute_result"
    }
   ],
   "source": [
    "df1.head()"
   ]
  },
  {
   "cell_type": "code",
   "execution_count": 5,
   "id": "detected-engineering",
   "metadata": {},
   "outputs": [],
   "source": [
    "df1=df1.drop_duplicates(ignore_index=True)"
   ]
  },
  {
   "cell_type": "code",
   "execution_count": 6,
   "id": "collect-conference",
   "metadata": {},
   "outputs": [],
   "source": [
    "\n",
    "df1['f1']=np.sqrt(df1['Completed Jobs']**3)*np.abs(df1['Avg Sales'])\n",
    "df1['f2']=np.abs(np.sqrt(df1['Completed Jobs']) - np.sqrt(df1['tech_count']))\n",
    "df1['f3']=np.log(np.sqrt(df1['Completed Jobs'])*df1['TMAX']**3)"
   ]
  },
  {
   "cell_type": "code",
   "execution_count": 7,
   "id": "banned-water",
   "metadata": {},
   "outputs": [
    {
     "data": {
      "text/plain": [
       "Index(['Completed Jobs', 'TMAX', 'Avg Sales', 'tech_count', 'Income_y', 'f1',\n",
       "       'f2', 'f3'],\n",
       "      dtype='object')"
      ]
     },
     "execution_count": 7,
     "metadata": {},
     "output_type": "execute_result"
    }
   ],
   "source": [
    "df1.columns"
   ]
  },
  {
   "cell_type": "code",
   "execution_count": 159,
   "id": "mathematical-protest",
   "metadata": {},
   "outputs": [],
   "source": [
    "df_2=df1[[ 'Completed Jobs','Avg Sales','Income_y', 'f1',\n",
    "       'f2', 'f3']]"
   ]
  },
  {
   "cell_type": "code",
   "execution_count": 160,
   "id": "impaired-motor",
   "metadata": {},
   "outputs": [],
   "source": [
    "train=df_2[0:300]\n",
    "test=df_2[300:]"
   ]
  },
  {
   "cell_type": "code",
   "execution_count": 161,
   "id": "identified-occupation",
   "metadata": {},
   "outputs": [],
   "source": [
    "y=train['Income_y']\n",
    "X=train.drop(['Income_y'],axis=1)"
   ]
  },
  {
   "cell_type": "code",
   "execution_count": 162,
   "id": "committed-positive",
   "metadata": {},
   "outputs": [],
   "source": [
    "y_=test['Income_y']\n",
    "X_=test.drop(['Income_y'],axis=1)"
   ]
  },
  {
   "cell_type": "code",
   "execution_count": 163,
   "id": "pressed-thought",
   "metadata": {},
   "outputs": [],
   "source": [
    "from sklearn.model_selection import train_test_split\n",
    "X_train, X_test, y_train, y_test = train_test_split(X, y, test_size=0.2, random_state=42)"
   ]
  },
  {
   "cell_type": "code",
   "execution_count": 164,
   "id": "pressed-intranet",
   "metadata": {},
   "outputs": [],
   "source": [
    "from sklearn.tree import DecisionTreeRegressor\n"
   ]
  },
  {
   "cell_type": "code",
   "execution_count": 165,
   "id": "cultural-circle",
   "metadata": {},
   "outputs": [],
   "source": [
    "dtm = DecisionTreeRegressor()\n"
   ]
  },
  {
   "cell_type": "code",
   "execution_count": 166,
   "id": "experienced-artist",
   "metadata": {},
   "outputs": [
    {
     "data": {
      "text/plain": [
       "DecisionTreeRegressor()"
      ]
     },
     "execution_count": 166,
     "metadata": {},
     "output_type": "execute_result"
    }
   ],
   "source": [
    "dtm.fit(X_train,y_train)"
   ]
  },
  {
   "cell_type": "code",
   "execution_count": 167,
   "id": "brilliant-preparation",
   "metadata": {},
   "outputs": [
    {
     "data": {
      "text/plain": [
       "1.0"
      ]
     },
     "execution_count": 167,
     "metadata": {},
     "output_type": "execute_result"
    }
   ],
   "source": [
    "dtm.score(X_train,y_train)"
   ]
  },
  {
   "cell_type": "code",
   "execution_count": 168,
   "id": "muslim-facility",
   "metadata": {},
   "outputs": [
    {
     "data": {
      "text/plain": [
       "0.6534392837346688"
      ]
     },
     "execution_count": 168,
     "metadata": {},
     "output_type": "execute_result"
    }
   ],
   "source": [
    "dtm.score(X_test,y_test)"
   ]
  },
  {
   "cell_type": "code",
   "execution_count": 169,
   "id": "sacred-belgium",
   "metadata": {},
   "outputs": [
    {
     "data": {
      "text/plain": [
       "-0.07838331454003855"
      ]
     },
     "execution_count": 169,
     "metadata": {},
     "output_type": "execute_result"
    }
   ],
   "source": [
    "dtm.score(X_,y_)"
   ]
  },
  {
   "cell_type": "code",
   "execution_count": 170,
   "id": "yellow-barcelona",
   "metadata": {},
   "outputs": [],
   "source": [
    "from sklearn.model_selection import GridSearchCV, cross_val_score\n"
   ]
  },
  {
   "cell_type": "markdown",
   "id": "strategic-swiss",
   "metadata": {},
   "source": [
    "# Hyperparameter tuning"
   ]
  },
  {
   "cell_type": "code",
   "execution_count": 171,
   "id": "sublime-trust",
   "metadata": {},
   "outputs": [],
   "source": [
    "param_grid = {\"criterion\": [\"mse\", \"mae\"],\n",
    "              \"min_samples_split\": [10, 20, 40],\n",
    "              \"max_depth\": [2, 6, 8],\n",
    "              \"min_samples_leaf\": [20, 40, 100],\n",
    "              \"max_leaf_nodes\": [5, 20, 100],\n",
    "              }"
   ]
  },
  {
   "cell_type": "code",
   "execution_count": 172,
   "id": "likely-bosnia",
   "metadata": {},
   "outputs": [],
   "source": [
    "grid_cv_dtm = GridSearchCV(dtm, param_grid, cv=5)\n"
   ]
  },
  {
   "cell_type": "code",
   "execution_count": 173,
   "id": "accepted-devices",
   "metadata": {},
   "outputs": [
    {
     "data": {
      "text/plain": [
       "GridSearchCV(cv=5, estimator=DecisionTreeRegressor(),\n",
       "             param_grid={'criterion': ['mse', 'mae'], 'max_depth': [2, 6, 8],\n",
       "                         'max_leaf_nodes': [5, 20, 100],\n",
       "                         'min_samples_leaf': [20, 40, 100],\n",
       "                         'min_samples_split': [10, 20, 40]})"
      ]
     },
     "execution_count": 173,
     "metadata": {},
     "output_type": "execute_result"
    }
   ],
   "source": [
    "grid_cv_dtm.fit(X,y)\n"
   ]
  },
  {
   "cell_type": "code",
   "execution_count": 174,
   "id": "hourly-skiing",
   "metadata": {},
   "outputs": [
    {
     "data": {
      "text/plain": [
       "{'criterion': 'mae',\n",
       " 'max_depth': 6,\n",
       " 'max_leaf_nodes': 20,\n",
       " 'min_samples_leaf': 20,\n",
       " 'min_samples_split': 10}"
      ]
     },
     "execution_count": 174,
     "metadata": {},
     "output_type": "execute_result"
    }
   ],
   "source": [
    "grid_cv_dtm.best_params_"
   ]
  },
  {
   "cell_type": "code",
   "execution_count": 175,
   "id": "concerned-hurricane",
   "metadata": {},
   "outputs": [],
   "source": [
    "dtm_1= DecisionTreeRegressor(criterion='mae',max_depth=6,max_leaf_nodes=20,min_samples_leaf=20,min_samples_split=20)\n"
   ]
  },
  {
   "cell_type": "code",
   "execution_count": 176,
   "id": "american-ideal",
   "metadata": {},
   "outputs": [
    {
     "data": {
      "text/plain": [
       "DecisionTreeRegressor(criterion='mae', max_depth=6, max_leaf_nodes=20,\n",
       "                      min_samples_leaf=20, min_samples_split=20)"
      ]
     },
     "execution_count": 176,
     "metadata": {},
     "output_type": "execute_result"
    }
   ],
   "source": [
    "dtm_1.fit(X_train,y_train)"
   ]
  },
  {
   "cell_type": "code",
   "execution_count": 177,
   "id": "perceived-longer",
   "metadata": {},
   "outputs": [
    {
     "data": {
      "text/plain": [
       "0.7009630363473612"
      ]
     },
     "execution_count": 177,
     "metadata": {},
     "output_type": "execute_result"
    }
   ],
   "source": [
    "dtm_1.score(X_train,y_train)"
   ]
  },
  {
   "cell_type": "code",
   "execution_count": 178,
   "id": "final-badge",
   "metadata": {},
   "outputs": [
    {
     "data": {
      "text/plain": [
       "0.7309213813592342"
      ]
     },
     "execution_count": 178,
     "metadata": {},
     "output_type": "execute_result"
    }
   ],
   "source": [
    "dtm_1.score(X_test,y_test)"
   ]
  },
  {
   "cell_type": "code",
   "execution_count": 179,
   "id": "immune-steal",
   "metadata": {},
   "outputs": [
    {
     "data": {
      "text/plain": [
       "0.3952829407623636"
      ]
     },
     "execution_count": 179,
     "metadata": {},
     "output_type": "execute_result"
    }
   ],
   "source": [
    "dtm_1.score(X_,y_)"
   ]
  },
  {
   "cell_type": "code",
   "execution_count": 180,
   "id": "interpreted-equivalent",
   "metadata": {},
   "outputs": [],
   "source": [
    "y_pred_1=dtm_1.predict(X_)"
   ]
  },
  {
   "cell_type": "code",
   "execution_count": 181,
   "id": "oriental-consciousness",
   "metadata": {},
   "outputs": [
    {
     "name": "stdout",
     "output_type": "stream",
     "text": [
      "RMSE: 30063.43875477294\n",
      "MAE: 21597.711022727275\n"
     ]
    }
   ],
   "source": [
    "from sklearn import metrics \n",
    "\n",
    "# RMSE and MAE\n",
    "print('RMSE:',np.sqrt(metrics.mean_squared_error(y_,y_pred_1)))\n",
    "print('MAE:',metrics.mean_absolute_error(y_,y_pred_1))"
   ]
  },
  {
   "cell_type": "code",
   "execution_count": 182,
   "id": "governmental-curve",
   "metadata": {},
   "outputs": [],
   "source": [
    "comp_1=pd.DataFrame({'Actual':y_,'Predicted':y_pred_1})"
   ]
  },
  {
   "cell_type": "code",
   "execution_count": 183,
   "id": "advance-slovakia",
   "metadata": {},
   "outputs": [
    {
     "data": {
      "text/plain": [
       "<AxesSubplot:>"
      ]
     },
     "execution_count": 183,
     "metadata": {},
     "output_type": "execute_result"
    },
    {
     "data": {
      "image/png": "[encoded data removed]",
      "text/plain": [
       "<Figure size 432x288 with 1 Axes>"
      ]
     },
     "metadata": {
      "needs_background": "light"
     },
     "output_type": "display_data"
    }
   ],
   "source": [
    "comp_1.plot()"
   ]
  },
  {
   "cell_type": "code",
   "execution_count": 184,
   "id": "retired-small",
   "metadata": {},
   "outputs": [],
   "source": [
    "comp_1['Error']=comp_1['Actual']-comp_1['Predicted']"
   ]
  },
  {
   "cell_type": "code",
   "execution_count": 185,
   "id": "variable-monte",
   "metadata": {},
   "outputs": [
    {
     "data": {
      "text/html": [
       "<div>\n",
       "<style scoped>\n",
       "    .dataframe tbody tr th:only-of-type {\n",
       "        vertical-align: middle;\n",
       "    }\n",
       "\n",
       "    .dataframe tbody tr th {\n",
       "        vertical-align: top;\n",
       "    }\n",
       "\n",
       "    .dataframe thead th {\n",
       "        text-align: right;\n",
       "    }\n",
       "</style>\n",
       "<table border=\"1\" class=\"dataframe\">\n",
       "  <thead>\n",
       "    <tr style=\"text-align: right;\">\n",
       "      <th></th>\n",
       "      <th>Actual</th>\n",
       "      <th>Predicted</th>\n",
       "      <th>Error</th>\n",
       "    </tr>\n",
       "  </thead>\n",
       "  <tbody>\n",
       "    <tr>\n",
       "      <th>300</th>\n",
       "      <td>114534.21</td>\n",
       "      <td>116605.015</td>\n",
       "      <td>-2070.805</td>\n",
       "    </tr>\n",
       "    <tr>\n",
       "      <th>301</th>\n",
       "      <td>127412.10</td>\n",
       "      <td>116605.015</td>\n",
       "      <td>10807.085</td>\n",
       "    </tr>\n",
       "    <tr>\n",
       "      <th>302</th>\n",
       "      <td>73107.94</td>\n",
       "      <td>89956.530</td>\n",
       "      <td>-16848.590</td>\n",
       "    </tr>\n",
       "    <tr>\n",
       "      <th>303</th>\n",
       "      <td>100335.70</td>\n",
       "      <td>116605.015</td>\n",
       "      <td>-16269.315</td>\n",
       "    </tr>\n",
       "    <tr>\n",
       "      <th>304</th>\n",
       "      <td>82920.44</td>\n",
       "      <td>116605.015</td>\n",
       "      <td>-33684.575</td>\n",
       "    </tr>\n",
       "    <tr>\n",
       "      <th>305</th>\n",
       "      <td>36992.00</td>\n",
       "      <td>46897.630</td>\n",
       "      <td>-9905.630</td>\n",
       "    </tr>\n",
       "    <tr>\n",
       "      <th>306</th>\n",
       "      <td>326.00</td>\n",
       "      <td>549.000</td>\n",
       "      <td>-223.000</td>\n",
       "    </tr>\n",
       "    <tr>\n",
       "      <th>307</th>\n",
       "      <td>86287.17</td>\n",
       "      <td>89956.530</td>\n",
       "      <td>-3669.360</td>\n",
       "    </tr>\n",
       "    <tr>\n",
       "      <th>308</th>\n",
       "      <td>79380.38</td>\n",
       "      <td>89956.530</td>\n",
       "      <td>-10576.150</td>\n",
       "    </tr>\n",
       "    <tr>\n",
       "      <th>309</th>\n",
       "      <td>104509.01</td>\n",
       "      <td>46897.630</td>\n",
       "      <td>57611.380</td>\n",
       "    </tr>\n",
       "    <tr>\n",
       "      <th>310</th>\n",
       "      <td>96828.96</td>\n",
       "      <td>116605.015</td>\n",
       "      <td>-19776.055</td>\n",
       "    </tr>\n",
       "    <tr>\n",
       "      <th>311</th>\n",
       "      <td>108327.11</td>\n",
       "      <td>89956.530</td>\n",
       "      <td>18370.580</td>\n",
       "    </tr>\n",
       "    <tr>\n",
       "      <th>312</th>\n",
       "      <td>99625.26</td>\n",
       "      <td>116605.015</td>\n",
       "      <td>-16979.755</td>\n",
       "    </tr>\n",
       "    <tr>\n",
       "      <th>313</th>\n",
       "      <td>76878.35</td>\n",
       "      <td>89956.530</td>\n",
       "      <td>-13078.180</td>\n",
       "    </tr>\n",
       "    <tr>\n",
       "      <th>314</th>\n",
       "      <td>69089.17</td>\n",
       "      <td>66516.500</td>\n",
       "      <td>2572.670</td>\n",
       "    </tr>\n",
       "    <tr>\n",
       "      <th>315</th>\n",
       "      <td>128210.29</td>\n",
       "      <td>116605.015</td>\n",
       "      <td>11605.275</td>\n",
       "    </tr>\n",
       "    <tr>\n",
       "      <th>316</th>\n",
       "      <td>177410.42</td>\n",
       "      <td>89956.530</td>\n",
       "      <td>87453.890</td>\n",
       "    </tr>\n",
       "    <tr>\n",
       "      <th>317</th>\n",
       "      <td>68424.71</td>\n",
       "      <td>89956.530</td>\n",
       "      <td>-21531.820</td>\n",
       "    </tr>\n",
       "    <tr>\n",
       "      <th>318</th>\n",
       "      <td>130406.40</td>\n",
       "      <td>89956.530</td>\n",
       "      <td>40449.870</td>\n",
       "    </tr>\n",
       "    <tr>\n",
       "      <th>319</th>\n",
       "      <td>41651.85</td>\n",
       "      <td>46897.630</td>\n",
       "      <td>-5245.780</td>\n",
       "    </tr>\n",
       "    <tr>\n",
       "      <th>320</th>\n",
       "      <td>102.95</td>\n",
       "      <td>549.000</td>\n",
       "      <td>-446.050</td>\n",
       "    </tr>\n",
       "    <tr>\n",
       "      <th>321</th>\n",
       "      <td>121328.92</td>\n",
       "      <td>116605.015</td>\n",
       "      <td>4723.905</td>\n",
       "    </tr>\n",
       "    <tr>\n",
       "      <th>322</th>\n",
       "      <td>94156.55</td>\n",
       "      <td>89956.530</td>\n",
       "      <td>4200.020</td>\n",
       "    </tr>\n",
       "    <tr>\n",
       "      <th>323</th>\n",
       "      <td>93428.49</td>\n",
       "      <td>89956.530</td>\n",
       "      <td>3471.960</td>\n",
       "    </tr>\n",
       "    <tr>\n",
       "      <th>324</th>\n",
       "      <td>73106.96</td>\n",
       "      <td>130863.640</td>\n",
       "      <td>-57756.680</td>\n",
       "    </tr>\n",
       "    <tr>\n",
       "      <th>325</th>\n",
       "      <td>62484.03</td>\n",
       "      <td>46897.630</td>\n",
       "      <td>15586.400</td>\n",
       "    </tr>\n",
       "    <tr>\n",
       "      <th>326</th>\n",
       "      <td>50088.00</td>\n",
       "      <td>549.000</td>\n",
       "      <td>49539.000</td>\n",
       "    </tr>\n",
       "    <tr>\n",
       "      <th>327</th>\n",
       "      <td>45289.92</td>\n",
       "      <td>89956.530</td>\n",
       "      <td>-44666.610</td>\n",
       "    </tr>\n",
       "    <tr>\n",
       "      <th>328</th>\n",
       "      <td>95437.44</td>\n",
       "      <td>89956.530</td>\n",
       "      <td>5480.910</td>\n",
       "    </tr>\n",
       "    <tr>\n",
       "      <th>329</th>\n",
       "      <td>100674.86</td>\n",
       "      <td>89956.530</td>\n",
       "      <td>10718.330</td>\n",
       "    </tr>\n",
       "    <tr>\n",
       "      <th>330</th>\n",
       "      <td>55735.08</td>\n",
       "      <td>89956.530</td>\n",
       "      <td>-34221.450</td>\n",
       "    </tr>\n",
       "    <tr>\n",
       "      <th>331</th>\n",
       "      <td>86421.80</td>\n",
       "      <td>89956.530</td>\n",
       "      <td>-3534.730</td>\n",
       "    </tr>\n",
       "    <tr>\n",
       "      <th>332</th>\n",
       "      <td>86421.80</td>\n",
       "      <td>89956.530</td>\n",
       "      <td>-3534.730</td>\n",
       "    </tr>\n",
       "    <tr>\n",
       "      <th>333</th>\n",
       "      <td>41343.95</td>\n",
       "      <td>46897.630</td>\n",
       "      <td>-5553.680</td>\n",
       "    </tr>\n",
       "    <tr>\n",
       "      <th>334</th>\n",
       "      <td>15788.00</td>\n",
       "      <td>549.000</td>\n",
       "      <td>15239.000</td>\n",
       "    </tr>\n",
       "    <tr>\n",
       "      <th>335</th>\n",
       "      <td>128985.55</td>\n",
       "      <td>116605.015</td>\n",
       "      <td>12380.535</td>\n",
       "    </tr>\n",
       "    <tr>\n",
       "      <th>336</th>\n",
       "      <td>93402.16</td>\n",
       "      <td>116605.015</td>\n",
       "      <td>-23202.855</td>\n",
       "    </tr>\n",
       "    <tr>\n",
       "      <th>337</th>\n",
       "      <td>176747.02</td>\n",
       "      <td>89956.530</td>\n",
       "      <td>86790.490</td>\n",
       "    </tr>\n",
       "    <tr>\n",
       "      <th>338</th>\n",
       "      <td>32502.40</td>\n",
       "      <td>46897.630</td>\n",
       "      <td>-14395.230</td>\n",
       "    </tr>\n",
       "    <tr>\n",
       "      <th>339</th>\n",
       "      <td>55111.85</td>\n",
       "      <td>16826.200</td>\n",
       "      <td>38285.650</td>\n",
       "    </tr>\n",
       "    <tr>\n",
       "      <th>340</th>\n",
       "      <td>133042.85</td>\n",
       "      <td>89956.530</td>\n",
       "      <td>43086.320</td>\n",
       "    </tr>\n",
       "    <tr>\n",
       "      <th>341</th>\n",
       "      <td>88538.89</td>\n",
       "      <td>116605.015</td>\n",
       "      <td>-28066.125</td>\n",
       "    </tr>\n",
       "    <tr>\n",
       "      <th>342</th>\n",
       "      <td>66133.39</td>\n",
       "      <td>89956.530</td>\n",
       "      <td>-23823.140</td>\n",
       "    </tr>\n",
       "    <tr>\n",
       "      <th>343</th>\n",
       "      <td>67090.81</td>\n",
       "      <td>89956.530</td>\n",
       "      <td>-22865.720</td>\n",
       "    </tr>\n",
       "  </tbody>\n",
       "</table>\n",
       "</div>"
      ],
      "text/plain": [
       "        Actual   Predicted      Error\n",
       "300  114534.21  116605.015  -2070.805\n",
       "301  127412.10  116605.015  10807.085\n",
       "302   73107.94   89956.530 -16848.590\n",
       "303  100335.70  116605.015 -16269.315\n",
       "304   82920.44  116605.015 -33684.575\n",
       "305   36992.00   46897.630  -9905.630\n",
       "306     326.00     549.000   -223.000\n",
       "307   86287.17   89956.530  -3669.360\n",
       "308   79380.38   89956.530 -10576.150\n",
       "309  104509.01   46897.630  57611.380\n",
       "310   96828.96  116605.015 -19776.055\n",
       "311  108327.11   89956.530  18370.580\n",
       "312   99625.26  116605.015 -16979.755\n",
       "313   76878.35   89956.530 -13078.180\n",
       "314   69089.17   66516.500   2572.670\n",
       "315  128210.29  116605.015  11605.275\n",
       "316  177410.42   89956.530  87453.890\n",
       "317   68424.71   89956.530 -21531.820\n",
       "318  130406.40   89956.530  40449.870\n",
       "319   41651.85   46897.630  -5245.780\n",
       "320     102.95     549.000   -446.050\n",
       "321  121328.92  116605.015   4723.905\n",
       "322   94156.55   89956.530   4200.020\n",
       "323   93428.49   89956.530   3471.960\n",
       "324   73106.96  130863.640 -57756.680\n",
       "325   62484.03   46897.630  15586.400\n",
       "326   50088.00     549.000  49539.000\n",
       "327   45289.92   89956.530 -44666.610\n",
       "328   95437.44   89956.530   5480.910\n",
       "329  100674.86   89956.530  10718.330\n",
       "330   55735.08   89956.530 -34221.450\n",
       "331   86421.80   89956.530  -3534.730\n",
       "332   86421.80   89956.530  -3534.730\n",
       "333   41343.95   46897.630  -5553.680\n",
       "334   15788.00     549.000  15239.000\n",
       "335  128985.55  116605.015  12380.535\n",
       "336   93402.16  116605.015 -23202.855\n",
       "337  176747.02   89956.530  86790.490\n",
       "338   32502.40   46897.630 -14395.230\n",
       "339   55111.85   16826.200  38285.650\n",
       "340  133042.85   89956.530  43086.320\n",
       "341   88538.89  116605.015 -28066.125\n",
       "342   66133.39   89956.530 -23823.140\n",
       "343   67090.81   89956.530 -22865.720"
      ]
     },
     "execution_count": 185,
     "metadata": {},
     "output_type": "execute_result"
    }
   ],
   "source": [
    "comp_1"
   ]
  },
  {
   "cell_type": "code",
   "execution_count": null,
   "id": "lesbian-quebec",
   "metadata": {},
   "outputs": [],
   "source": []
  }
 ],
 "metadata": {
  "kernelspec": {
   "display_name": "Python 3",
   "language": "python",
   "name": "python3"
  },
  "language_info": {
   "codemirror_mode": {
    "name": "ipython",
    "version": 3
   },
   "file_extension": ".py",
   "mimetype": "text/x-python",
   "name": "python",
   "nbconvert_exporter": "python",
   "pygments_lexer": "ipython3",
   "version": "3.7.3"
  }
 },
 "nbformat": 4,
 "nbformat_minor": 5
}
