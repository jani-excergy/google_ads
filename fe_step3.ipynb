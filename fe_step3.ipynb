{
 "cells": [
  {
   "cell_type": "code",
   "execution_count": 1,
   "metadata": {},
   "outputs": [],
   "source": [
    "import pandas as pd\n",
    "import numpy as np\n",
    "import matplotlib.pyplot as plt\n",
    "import seaborn as sns"
   ]
  },
  {
   "cell_type": "code",
   "execution_count": 2,
   "metadata": {},
   "outputs": [],
   "source": [
    "# reading csv\n",
    "\n",
    "df = pd.read_excel('final.xlsx')"
   ]
  },
  {
   "cell_type": "code",
   "execution_count": 3,
   "metadata": {},
   "outputs": [
    {
     "data": {
      "text/html": [
       "<div>\n",
       "<style scoped>\n",
       "    .dataframe tbody tr th:only-of-type {\n",
       "        vertical-align: middle;\n",
       "    }\n",
       "\n",
       "    .dataframe tbody tr th {\n",
       "        vertical-align: top;\n",
       "    }\n",
       "\n",
       "    .dataframe thead th {\n",
       "        text-align: right;\n",
       "    }\n",
       "</style>\n",
       "<table border=\"1\" class=\"dataframe\">\n",
       "  <thead>\n",
       "    <tr style=\"text-align: right;\">\n",
       "      <th></th>\n",
       "      <th>Unnamed: 0</th>\n",
       "      <th>Day</th>\n",
       "      <th>Day of week</th>\n",
       "      <th>Cost</th>\n",
       "      <th>Impressions</th>\n",
       "      <th>Clicks</th>\n",
       "      <th>CTR</th>\n",
       "      <th>Avg. CPC</th>\n",
       "      <th>Conversions</th>\n",
       "      <th>Conv. rate</th>\n",
       "      <th>Cost / conv.</th>\n",
       "      <th>Search Impr. share</th>\n",
       "      <th>Search Lost IS (rank)</th>\n",
       "      <th>Search Lost IS (budget)</th>\n",
       "      <th>Zip</th>\n",
       "      <th>Income</th>\n",
       "      <th>lat</th>\n",
       "      <th>lng</th>\n",
       "    </tr>\n",
       "  </thead>\n",
       "  <tbody>\n",
       "    <tr>\n",
       "      <th>0</th>\n",
       "      <td>0</td>\n",
       "      <td>2019-01-02</td>\n",
       "      <td>2</td>\n",
       "      <td>1298.05</td>\n",
       "      <td>44533</td>\n",
       "      <td>54</td>\n",
       "      <td>0.0012</td>\n",
       "      <td>24.04</td>\n",
       "      <td>15.0</td>\n",
       "      <td>0.0540</td>\n",
       "      <td>86.54</td>\n",
       "      <td>0.3500</td>\n",
       "      <td>0.0935</td>\n",
       "      <td>0.5565</td>\n",
       "      <td>92392</td>\n",
       "      <td>104993.5</td>\n",
       "      <td>34.479332</td>\n",
       "      <td>-117.397422</td>\n",
       "    </tr>\n",
       "    <tr>\n",
       "      <th>1</th>\n",
       "      <td>1</td>\n",
       "      <td>2019-01-03</td>\n",
       "      <td>3</td>\n",
       "      <td>1480.26</td>\n",
       "      <td>2221</td>\n",
       "      <td>59</td>\n",
       "      <td>0.0266</td>\n",
       "      <td>25.09</td>\n",
       "      <td>10.1</td>\n",
       "      <td>0.1712</td>\n",
       "      <td>146.56</td>\n",
       "      <td>0.5233</td>\n",
       "      <td>0.1120</td>\n",
       "      <td>0.3647</td>\n",
       "      <td>90003</td>\n",
       "      <td>40865.2</td>\n",
       "      <td>33.963074</td>\n",
       "      <td>-118.274809</td>\n",
       "    </tr>\n",
       "    <tr>\n",
       "      <th>2</th>\n",
       "      <td>2</td>\n",
       "      <td>2019-01-04</td>\n",
       "      <td>4</td>\n",
       "      <td>1953.52</td>\n",
       "      <td>36095</td>\n",
       "      <td>110</td>\n",
       "      <td>0.0030</td>\n",
       "      <td>17.76</td>\n",
       "      <td>22.0</td>\n",
       "      <td>0.0295</td>\n",
       "      <td>85.93</td>\n",
       "      <td>0.6041</td>\n",
       "      <td>0.2028</td>\n",
       "      <td>0.1931</td>\n",
       "      <td>92201</td>\n",
       "      <td>91188.0</td>\n",
       "      <td>33.711551</td>\n",
       "      <td>-116.236141</td>\n",
       "    </tr>\n",
       "    <tr>\n",
       "      <th>3</th>\n",
       "      <td>3</td>\n",
       "      <td>2019-01-05</td>\n",
       "      <td>5</td>\n",
       "      <td>2507.57</td>\n",
       "      <td>18171</td>\n",
       "      <td>123</td>\n",
       "      <td>0.0068</td>\n",
       "      <td>20.39</td>\n",
       "      <td>29.5</td>\n",
       "      <td>0.0127</td>\n",
       "      <td>85.00</td>\n",
       "      <td>0.7161</td>\n",
       "      <td>0.1884</td>\n",
       "      <td>0.0955</td>\n",
       "      <td>92625</td>\n",
       "      <td>55627.0</td>\n",
       "      <td>33.601873</td>\n",
       "      <td>-117.866850</td>\n",
       "    </tr>\n",
       "    <tr>\n",
       "      <th>4</th>\n",
       "      <td>4</td>\n",
       "      <td>2019-01-06</td>\n",
       "      <td>6</td>\n",
       "      <td>1591.91</td>\n",
       "      <td>15185</td>\n",
       "      <td>88</td>\n",
       "      <td>0.0058</td>\n",
       "      <td>18.09</td>\n",
       "      <td>16.5</td>\n",
       "      <td>0.0087</td>\n",
       "      <td>96.48</td>\n",
       "      <td>0.7447</td>\n",
       "      <td>0.2129</td>\n",
       "      <td>0.0424</td>\n",
       "      <td>92596</td>\n",
       "      <td>12713.0</td>\n",
       "      <td>33.638018</td>\n",
       "      <td>-117.088880</td>\n",
       "    </tr>\n",
       "  </tbody>\n",
       "</table>\n",
       "</div>"
      ],
      "text/plain": [
       "   Unnamed: 0         Day  Day of week     Cost  Impressions  Clicks     CTR  \\\n",
       "0           0  2019-01-02            2  1298.05        44533      54  0.0012   \n",
       "1           1  2019-01-03            3  1480.26         2221      59  0.0266   \n",
       "2           2  2019-01-04            4  1953.52        36095     110  0.0030   \n",
       "3           3  2019-01-05            5  2507.57        18171     123  0.0068   \n",
       "4           4  2019-01-06            6  1591.91        15185      88  0.0058   \n",
       "\n",
       "   Avg. CPC  Conversions  Conv. rate  Cost / conv.  Search Impr. share  \\\n",
       "0     24.04         15.0      0.0540         86.54              0.3500   \n",
       "1     25.09         10.1      0.1712        146.56              0.5233   \n",
       "2     17.76         22.0      0.0295         85.93              0.6041   \n",
       "3     20.39         29.5      0.0127         85.00              0.7161   \n",
       "4     18.09         16.5      0.0087         96.48              0.7447   \n",
       "\n",
       "   Search Lost IS (rank)  Search Lost IS (budget)    Zip    Income        lat  \\\n",
       "0                 0.0935                   0.5565  92392  104993.5  34.479332   \n",
       "1                 0.1120                   0.3647  90003   40865.2  33.963074   \n",
       "2                 0.2028                   0.1931  92201   91188.0  33.711551   \n",
       "3                 0.1884                   0.0955  92625   55627.0  33.601873   \n",
       "4                 0.2129                   0.0424  92596   12713.0  33.638018   \n",
       "\n",
       "          lng  \n",
       "0 -117.397422  \n",
       "1 -118.274809  \n",
       "2 -116.236141  \n",
       "3 -117.866850  \n",
       "4 -117.088880  "
      ]
     },
     "execution_count": 3,
     "metadata": {},
     "output_type": "execute_result"
    }
   ],
   "source": [
    "df.head()"
   ]
  },
  {
   "cell_type": "code",
   "execution_count": 4,
   "metadata": {},
   "outputs": [],
   "source": [
    "df= df.drop(['Unnamed: 0','lat','lng'],axis=1)"
   ]
  },
  {
   "cell_type": "code",
   "execution_count": 5,
   "metadata": {},
   "outputs": [],
   "source": [
    "df=df.drop(['Impressions','Clicks','Conv. rate','Cost / conv.'],axis=1)"
   ]
  },
  {
   "cell_type": "code",
   "execution_count": 6,
   "metadata": {},
   "outputs": [
    {
     "data": {
      "text/html": [
       "<div>\n",
       "<style scoped>\n",
       "    .dataframe tbody tr th:only-of-type {\n",
       "        vertical-align: middle;\n",
       "    }\n",
       "\n",
       "    .dataframe tbody tr th {\n",
       "        vertical-align: top;\n",
       "    }\n",
       "\n",
       "    .dataframe thead th {\n",
       "        text-align: right;\n",
       "    }\n",
       "</style>\n",
       "<table border=\"1\" class=\"dataframe\">\n",
       "  <thead>\n",
       "    <tr style=\"text-align: right;\">\n",
       "      <th></th>\n",
       "      <th>Day</th>\n",
       "      <th>Day of week</th>\n",
       "      <th>Cost</th>\n",
       "      <th>CTR</th>\n",
       "      <th>Avg. CPC</th>\n",
       "      <th>Conversions</th>\n",
       "      <th>Search Impr. share</th>\n",
       "      <th>Search Lost IS (rank)</th>\n",
       "      <th>Search Lost IS (budget)</th>\n",
       "      <th>Zip</th>\n",
       "      <th>Income</th>\n",
       "    </tr>\n",
       "  </thead>\n",
       "  <tbody>\n",
       "    <tr>\n",
       "      <th>0</th>\n",
       "      <td>2019-01-02</td>\n",
       "      <td>2</td>\n",
       "      <td>1298.05</td>\n",
       "      <td>0.0012</td>\n",
       "      <td>24.04</td>\n",
       "      <td>15.0</td>\n",
       "      <td>0.3500</td>\n",
       "      <td>0.0935</td>\n",
       "      <td>0.5565</td>\n",
       "      <td>92392</td>\n",
       "      <td>104993.5</td>\n",
       "    </tr>\n",
       "    <tr>\n",
       "      <th>1</th>\n",
       "      <td>2019-01-03</td>\n",
       "      <td>3</td>\n",
       "      <td>1480.26</td>\n",
       "      <td>0.0266</td>\n",
       "      <td>25.09</td>\n",
       "      <td>10.1</td>\n",
       "      <td>0.5233</td>\n",
       "      <td>0.1120</td>\n",
       "      <td>0.3647</td>\n",
       "      <td>90003</td>\n",
       "      <td>40865.2</td>\n",
       "    </tr>\n",
       "    <tr>\n",
       "      <th>2</th>\n",
       "      <td>2019-01-04</td>\n",
       "      <td>4</td>\n",
       "      <td>1953.52</td>\n",
       "      <td>0.0030</td>\n",
       "      <td>17.76</td>\n",
       "      <td>22.0</td>\n",
       "      <td>0.6041</td>\n",
       "      <td>0.2028</td>\n",
       "      <td>0.1931</td>\n",
       "      <td>92201</td>\n",
       "      <td>91188.0</td>\n",
       "    </tr>\n",
       "    <tr>\n",
       "      <th>3</th>\n",
       "      <td>2019-01-05</td>\n",
       "      <td>5</td>\n",
       "      <td>2507.57</td>\n",
       "      <td>0.0068</td>\n",
       "      <td>20.39</td>\n",
       "      <td>29.5</td>\n",
       "      <td>0.7161</td>\n",
       "      <td>0.1884</td>\n",
       "      <td>0.0955</td>\n",
       "      <td>92625</td>\n",
       "      <td>55627.0</td>\n",
       "    </tr>\n",
       "    <tr>\n",
       "      <th>4</th>\n",
       "      <td>2019-01-06</td>\n",
       "      <td>6</td>\n",
       "      <td>1591.91</td>\n",
       "      <td>0.0058</td>\n",
       "      <td>18.09</td>\n",
       "      <td>16.5</td>\n",
       "      <td>0.7447</td>\n",
       "      <td>0.2129</td>\n",
       "      <td>0.0424</td>\n",
       "      <td>92596</td>\n",
       "      <td>12713.0</td>\n",
       "    </tr>\n",
       "  </tbody>\n",
       "</table>\n",
       "</div>"
      ],
      "text/plain": [
       "          Day  Day of week     Cost     CTR  Avg. CPC  Conversions  \\\n",
       "0  2019-01-02            2  1298.05  0.0012     24.04         15.0   \n",
       "1  2019-01-03            3  1480.26  0.0266     25.09         10.1   \n",
       "2  2019-01-04            4  1953.52  0.0030     17.76         22.0   \n",
       "3  2019-01-05            5  2507.57  0.0068     20.39         29.5   \n",
       "4  2019-01-06            6  1591.91  0.0058     18.09         16.5   \n",
       "\n",
       "   Search Impr. share  Search Lost IS (rank)  Search Lost IS (budget)    Zip  \\\n",
       "0              0.3500                 0.0935                   0.5565  92392   \n",
       "1              0.5233                 0.1120                   0.3647  90003   \n",
       "2              0.6041                 0.2028                   0.1931  92201   \n",
       "3              0.7161                 0.1884                   0.0955  92625   \n",
       "4              0.7447                 0.2129                   0.0424  92596   \n",
       "\n",
       "     Income  \n",
       "0  104993.5  \n",
       "1   40865.2  \n",
       "2   91188.0  \n",
       "3   55627.0  \n",
       "4   12713.0  "
      ]
     },
     "execution_count": 6,
     "metadata": {},
     "output_type": "execute_result"
    }
   ],
   "source": [
    "df.head()"
   ]
  },
  {
   "cell_type": "code",
   "execution_count": 7,
   "metadata": {},
   "outputs": [],
   "source": [
    "Mean_encoded_subject = df.groupby(['Zip'])['Income'].mean().to_dict() \n",
    "  \n",
    "df['Zip_income'] =  df['Zip'].map(Mean_encoded_subject) \n"
   ]
  },
  {
   "cell_type": "code",
   "execution_count": 9,
   "metadata": {},
   "outputs": [],
   "source": [
    "df= df.drop(['Zip'],axis=1)"
   ]
  },
  {
   "cell_type": "code",
   "execution_count": 10,
   "metadata": {},
   "outputs": [
    {
     "data": {
      "text/html": [
       "<div>\n",
       "<style scoped>\n",
       "    .dataframe tbody tr th:only-of-type {\n",
       "        vertical-align: middle;\n",
       "    }\n",
       "\n",
       "    .dataframe tbody tr th {\n",
       "        vertical-align: top;\n",
       "    }\n",
       "\n",
       "    .dataframe thead th {\n",
       "        text-align: right;\n",
       "    }\n",
       "</style>\n",
       "<table border=\"1\" class=\"dataframe\">\n",
       "  <thead>\n",
       "    <tr style=\"text-align: right;\">\n",
       "      <th></th>\n",
       "      <th>Day</th>\n",
       "      <th>Day of week</th>\n",
       "      <th>Cost</th>\n",
       "      <th>CTR</th>\n",
       "      <th>Avg. CPC</th>\n",
       "      <th>Conversions</th>\n",
       "      <th>Search Impr. share</th>\n",
       "      <th>Search Lost IS (rank)</th>\n",
       "      <th>Search Lost IS (budget)</th>\n",
       "      <th>Income</th>\n",
       "      <th>Zip_income</th>\n",
       "    </tr>\n",
       "  </thead>\n",
       "  <tbody>\n",
       "    <tr>\n",
       "      <th>0</th>\n",
       "      <td>2019-01-02</td>\n",
       "      <td>2</td>\n",
       "      <td>1298.05</td>\n",
       "      <td>0.0012</td>\n",
       "      <td>24.04</td>\n",
       "      <td>15.0</td>\n",
       "      <td>0.3500</td>\n",
       "      <td>0.0935</td>\n",
       "      <td>0.5565</td>\n",
       "      <td>104993.5</td>\n",
       "      <td>80940.71000</td>\n",
       "    </tr>\n",
       "    <tr>\n",
       "      <th>1</th>\n",
       "      <td>2019-01-03</td>\n",
       "      <td>3</td>\n",
       "      <td>1480.26</td>\n",
       "      <td>0.0266</td>\n",
       "      <td>25.09</td>\n",
       "      <td>10.1</td>\n",
       "      <td>0.5233</td>\n",
       "      <td>0.1120</td>\n",
       "      <td>0.3647</td>\n",
       "      <td>40865.2</td>\n",
       "      <td>40865.20000</td>\n",
       "    </tr>\n",
       "    <tr>\n",
       "      <th>2</th>\n",
       "      <td>2019-01-04</td>\n",
       "      <td>4</td>\n",
       "      <td>1953.52</td>\n",
       "      <td>0.0030</td>\n",
       "      <td>17.76</td>\n",
       "      <td>22.0</td>\n",
       "      <td>0.6041</td>\n",
       "      <td>0.2028</td>\n",
       "      <td>0.1931</td>\n",
       "      <td>91188.0</td>\n",
       "      <td>88801.65125</td>\n",
       "    </tr>\n",
       "    <tr>\n",
       "      <th>3</th>\n",
       "      <td>2019-01-05</td>\n",
       "      <td>5</td>\n",
       "      <td>2507.57</td>\n",
       "      <td>0.0068</td>\n",
       "      <td>20.39</td>\n",
       "      <td>29.5</td>\n",
       "      <td>0.7161</td>\n",
       "      <td>0.1884</td>\n",
       "      <td>0.0955</td>\n",
       "      <td>55627.0</td>\n",
       "      <td>55627.00000</td>\n",
       "    </tr>\n",
       "    <tr>\n",
       "      <th>4</th>\n",
       "      <td>2019-01-06</td>\n",
       "      <td>6</td>\n",
       "      <td>1591.91</td>\n",
       "      <td>0.0058</td>\n",
       "      <td>18.09</td>\n",
       "      <td>16.5</td>\n",
       "      <td>0.7447</td>\n",
       "      <td>0.2129</td>\n",
       "      <td>0.0424</td>\n",
       "      <td>12713.0</td>\n",
       "      <td>34731.76000</td>\n",
       "    </tr>\n",
       "  </tbody>\n",
       "</table>\n",
       "</div>"
      ],
      "text/plain": [
       "          Day  Day of week     Cost     CTR  Avg. CPC  Conversions  \\\n",
       "0  2019-01-02            2  1298.05  0.0012     24.04         15.0   \n",
       "1  2019-01-03            3  1480.26  0.0266     25.09         10.1   \n",
       "2  2019-01-04            4  1953.52  0.0030     17.76         22.0   \n",
       "3  2019-01-05            5  2507.57  0.0068     20.39         29.5   \n",
       "4  2019-01-06            6  1591.91  0.0058     18.09         16.5   \n",
       "\n",
       "   Search Impr. share  Search Lost IS (rank)  Search Lost IS (budget)  \\\n",
       "0              0.3500                 0.0935                   0.5565   \n",
       "1              0.5233                 0.1120                   0.3647   \n",
       "2              0.6041                 0.2028                   0.1931   \n",
       "3              0.7161                 0.1884                   0.0955   \n",
       "4              0.7447                 0.2129                   0.0424   \n",
       "\n",
       "     Income   Zip_income  \n",
       "0  104993.5  80940.71000  \n",
       "1   40865.2  40865.20000  \n",
       "2   91188.0  88801.65125  \n",
       "3   55627.0  55627.00000  \n",
       "4   12713.0  34731.76000  "
      ]
     },
     "execution_count": 10,
     "metadata": {},
     "output_type": "execute_result"
    }
   ],
   "source": [
    "df.head()"
   ]
  },
  {
   "cell_type": "code",
   "execution_count": 11,
   "metadata": {},
   "outputs": [],
   "source": [
    "df['Day']=pd.to_datetime(df['Day'])\n",
    "df['day']=pd.to_datetime(df['Day']).dt.day\n",
    "df['month']=pd.to_datetime(df['Day']).dt.month\n",
    "df['year']=pd.to_datetime(df['Day']).dt.year\n",
    "df['quarter']=pd.to_datetime(df['Day']).dt.quarter\n"
   ]
  },
  {
   "cell_type": "code",
   "execution_count": 13,
   "metadata": {},
   "outputs": [],
   "source": [
    "df=df.drop(['Day'],axis=1)"
   ]
  },
  {
   "cell_type": "code",
   "execution_count": 14,
   "metadata": {},
   "outputs": [
    {
     "data": {
      "text/html": [
       "<div>\n",
       "<style scoped>\n",
       "    .dataframe tbody tr th:only-of-type {\n",
       "        vertical-align: middle;\n",
       "    }\n",
       "\n",
       "    .dataframe tbody tr th {\n",
       "        vertical-align: top;\n",
       "    }\n",
       "\n",
       "    .dataframe thead th {\n",
       "        text-align: right;\n",
       "    }\n",
       "</style>\n",
       "<table border=\"1\" class=\"dataframe\">\n",
       "  <thead>\n",
       "    <tr style=\"text-align: right;\">\n",
       "      <th></th>\n",
       "      <th>Day of week</th>\n",
       "      <th>Cost</th>\n",
       "      <th>CTR</th>\n",
       "      <th>Avg. CPC</th>\n",
       "      <th>Conversions</th>\n",
       "      <th>Search Impr. share</th>\n",
       "      <th>Search Lost IS (rank)</th>\n",
       "      <th>Search Lost IS (budget)</th>\n",
       "      <th>Income</th>\n",
       "      <th>Zip_income</th>\n",
       "      <th>day</th>\n",
       "      <th>month</th>\n",
       "      <th>year</th>\n",
       "      <th>quarter</th>\n",
       "    </tr>\n",
       "  </thead>\n",
       "  <tbody>\n",
       "    <tr>\n",
       "      <th>0</th>\n",
       "      <td>2</td>\n",
       "      <td>1298.05</td>\n",
       "      <td>0.0012</td>\n",
       "      <td>24.04</td>\n",
       "      <td>15.0</td>\n",
       "      <td>0.3500</td>\n",
       "      <td>0.0935</td>\n",
       "      <td>0.5565</td>\n",
       "      <td>104993.5</td>\n",
       "      <td>80940.71000</td>\n",
       "      <td>2</td>\n",
       "      <td>1</td>\n",
       "      <td>2019</td>\n",
       "      <td>1</td>\n",
       "    </tr>\n",
       "    <tr>\n",
       "      <th>1</th>\n",
       "      <td>3</td>\n",
       "      <td>1480.26</td>\n",
       "      <td>0.0266</td>\n",
       "      <td>25.09</td>\n",
       "      <td>10.1</td>\n",
       "      <td>0.5233</td>\n",
       "      <td>0.1120</td>\n",
       "      <td>0.3647</td>\n",
       "      <td>40865.2</td>\n",
       "      <td>40865.20000</td>\n",
       "      <td>3</td>\n",
       "      <td>1</td>\n",
       "      <td>2019</td>\n",
       "      <td>1</td>\n",
       "    </tr>\n",
       "    <tr>\n",
       "      <th>2</th>\n",
       "      <td>4</td>\n",
       "      <td>1953.52</td>\n",
       "      <td>0.0030</td>\n",
       "      <td>17.76</td>\n",
       "      <td>22.0</td>\n",
       "      <td>0.6041</td>\n",
       "      <td>0.2028</td>\n",
       "      <td>0.1931</td>\n",
       "      <td>91188.0</td>\n",
       "      <td>88801.65125</td>\n",
       "      <td>4</td>\n",
       "      <td>1</td>\n",
       "      <td>2019</td>\n",
       "      <td>1</td>\n",
       "    </tr>\n",
       "    <tr>\n",
       "      <th>3</th>\n",
       "      <td>5</td>\n",
       "      <td>2507.57</td>\n",
       "      <td>0.0068</td>\n",
       "      <td>20.39</td>\n",
       "      <td>29.5</td>\n",
       "      <td>0.7161</td>\n",
       "      <td>0.1884</td>\n",
       "      <td>0.0955</td>\n",
       "      <td>55627.0</td>\n",
       "      <td>55627.00000</td>\n",
       "      <td>5</td>\n",
       "      <td>1</td>\n",
       "      <td>2019</td>\n",
       "      <td>1</td>\n",
       "    </tr>\n",
       "    <tr>\n",
       "      <th>4</th>\n",
       "      <td>6</td>\n",
       "      <td>1591.91</td>\n",
       "      <td>0.0058</td>\n",
       "      <td>18.09</td>\n",
       "      <td>16.5</td>\n",
       "      <td>0.7447</td>\n",
       "      <td>0.2129</td>\n",
       "      <td>0.0424</td>\n",
       "      <td>12713.0</td>\n",
       "      <td>34731.76000</td>\n",
       "      <td>6</td>\n",
       "      <td>1</td>\n",
       "      <td>2019</td>\n",
       "      <td>1</td>\n",
       "    </tr>\n",
       "  </tbody>\n",
       "</table>\n",
       "</div>"
      ],
      "text/plain": [
       "   Day of week     Cost     CTR  Avg. CPC  Conversions  Search Impr. share  \\\n",
       "0            2  1298.05  0.0012     24.04         15.0              0.3500   \n",
       "1            3  1480.26  0.0266     25.09         10.1              0.5233   \n",
       "2            4  1953.52  0.0030     17.76         22.0              0.6041   \n",
       "3            5  2507.57  0.0068     20.39         29.5              0.7161   \n",
       "4            6  1591.91  0.0058     18.09         16.5              0.7447   \n",
       "\n",
       "   Search Lost IS (rank)  Search Lost IS (budget)    Income   Zip_income  day  \\\n",
       "0                 0.0935                   0.5565  104993.5  80940.71000    2   \n",
       "1                 0.1120                   0.3647   40865.2  40865.20000    3   \n",
       "2                 0.2028                   0.1931   91188.0  88801.65125    4   \n",
       "3                 0.1884                   0.0955   55627.0  55627.00000    5   \n",
       "4                 0.2129                   0.0424   12713.0  34731.76000    6   \n",
       "\n",
       "   month  year  quarter  \n",
       "0      1  2019        1  \n",
       "1      1  2019        1  \n",
       "2      1  2019        1  \n",
       "3      1  2019        1  \n",
       "4      1  2019        1  "
      ]
     },
     "execution_count": 14,
     "metadata": {},
     "output_type": "execute_result"
    }
   ],
   "source": [
    "df.head()"
   ]
  },
  {
   "cell_type": "code",
   "execution_count": 15,
   "metadata": {},
   "outputs": [],
   "source": [
    "train=df[0:650]\n",
    "cv=df[650:710]\n",
    "test=df[710:]"
   ]
  },
  {
   "cell_type": "code",
   "execution_count": 17,
   "metadata": {},
   "outputs": [],
   "source": [
    "import autofeat\n",
    "\n",
    "from autofeat import AutoFeatRegressor"
   ]
  },
  {
   "cell_type": "code",
   "execution_count": 18,
   "metadata": {},
   "outputs": [],
   "source": [
    "y_train=train['Income']\n",
    "X_train=train.drop(['Income'],axis=1)"
   ]
  },
  {
   "cell_type": "code",
   "execution_count": 20,
   "metadata": {},
   "outputs": [
    {
     "data": {
      "text/plain": [
       "(650, 13)"
      ]
     },
     "execution_count": 20,
     "metadata": {},
     "output_type": "execute_result"
    }
   ],
   "source": [
    "X_train.shape"
   ]
  },
  {
   "cell_type": "code",
   "execution_count": 21,
   "metadata": {},
   "outputs": [
    {
     "name": "stdout",
     "output_type": "stream",
     "text": [
      "[AutoFeat] The 3 step feature engineering process could generate up to 102466 features.\n",
      "[AutoFeat] With 650 data points this new feature matrix would use about 0.27 gb of space.\n",
      "[feateng] Step 1: transformation of original features\n",
      "[feateng]               0/             13 features transformed\r"
     ]
    },
    {
     "name": "stderr",
     "output_type": "stream",
     "text": [
      "<string>:2: RuntimeWarning: divide by zero encountered in log\n",
      "<string>:2: RuntimeWarning: divide by zero encountered in log\n",
      "<string>:2: RuntimeWarning: divide by zero encountered in log\n"
     ]
    },
    {
     "name": "stdout",
     "output_type": "stream",
     "text": [
      "[feateng] Generated 58 transformed features from 13 original features - done.\n",
      "[feateng] Step 2: first combination of features\n",
      "[feateng] Generated 9757 feature combinations from 2485 original feature tuples - done.\n",
      "[feateng] Step 3: transformation of new features\n",
      "[feateng]               0/           9757 features transformed\r"
     ]
    },
    {
     "name": "stderr",
     "output_type": "stream",
     "text": [
      "<string>:2: RuntimeWarning: divide by zero encountered in log\n",
      "<string>:2: RuntimeWarning: divide by zero encountered in log\n",
      "<string>:2: RuntimeWarning: divide by zero encountered in log\n",
      "<string>:2: RuntimeWarning: divide by zero encountered in log\n",
      "<string>:2: RuntimeWarning: divide by zero encountered in log\n",
      "<string>:2: RuntimeWarning: divide by zero encountered in log\n",
      "<string>:2: RuntimeWarning: divide by zero encountered in log\n",
      "<string>:2: RuntimeWarning: divide by zero encountered in log\n",
      "<string>:2: RuntimeWarning: divide by zero encountered in log\n",
      "<string>:2: RuntimeWarning: divide by zero encountered in log\n",
      "<string>:2: RuntimeWarning: divide by zero encountered in log\n",
      "<string>:2: RuntimeWarning: divide by zero encountered in log\n",
      "<string>:2: RuntimeWarning: divide by zero encountered in log\n",
      "<string>:2: RuntimeWarning: divide by zero encountered in log\n",
      "<string>:2: RuntimeWarning: divide by zero encountered in log\n",
      "<string>:2: RuntimeWarning: divide by zero encountered in log\n",
      "<string>:2: RuntimeWarning: divide by zero encountered in log\n",
      "<string>:2: RuntimeWarning: divide by zero encountered in log\n",
      "<string>:2: RuntimeWarning: divide by zero encountered in log\n",
      "<string>:2: RuntimeWarning: divide by zero encountered in log\n",
      "<string>:2: RuntimeWarning: divide by zero encountered in log\n",
      "<string>:2: RuntimeWarning: divide by zero encountered in log\n",
      "<string>:2: RuntimeWarning: divide by zero encountered in log\n",
      "<string>:2: RuntimeWarning: divide by zero encountered in log\n",
      "<string>:2: RuntimeWarning: divide by zero encountered in log\n",
      "<string>:2: RuntimeWarning: divide by zero encountered in log\n",
      "<string>:2: RuntimeWarning: divide by zero encountered in log\n",
      "<string>:2: RuntimeWarning: divide by zero encountered in log\n",
      "<string>:2: RuntimeWarning: divide by zero encountered in log\n",
      "<string>:2: RuntimeWarning: divide by zero encountered in log\n",
      "<string>:2: RuntimeWarning: divide by zero encountered in log\n",
      "<string>:2: RuntimeWarning: divide by zero encountered in log\n",
      "<string>:2: RuntimeWarning: divide by zero encountered in log\n"
     ]
    },
    {
     "name": "stdout",
     "output_type": "stream",
     "text": [
      "[feateng]             100/           9757 features transformed\r"
     ]
    },
    {
     "name": "stderr",
     "output_type": "stream",
     "text": [
      "<string>:2: RuntimeWarning: divide by zero encountered in log\n",
      "<string>:2: RuntimeWarning: divide by zero encountered in log\n",
      "<string>:2: RuntimeWarning: divide by zero encountered in log\n",
      "<string>:2: RuntimeWarning: divide by zero encountered in log\n",
      "<string>:2: RuntimeWarning: divide by zero encountered in log\n",
      "<string>:2: RuntimeWarning: divide by zero encountered in log\n",
      "<string>:2: RuntimeWarning: divide by zero encountered in log\n",
      "<string>:2: RuntimeWarning: divide by zero encountered in log\n",
      "<string>:2: RuntimeWarning: divide by zero encountered in log\n",
      "<string>:2: RuntimeWarning: divide by zero encountered in log\n",
      "<string>:2: RuntimeWarning: divide by zero encountered in log\n",
      "<string>:2: RuntimeWarning: divide by zero encountered in log\n",
      "<string>:2: RuntimeWarning: divide by zero encountered in log\n",
      "<string>:2: RuntimeWarning: divide by zero encountered in log\n",
      "<string>:2: RuntimeWarning: divide by zero encountered in log\n",
      "<string>:2: RuntimeWarning: divide by zero encountered in log\n",
      "<string>:2: RuntimeWarning: divide by zero encountered in log\n",
      "<string>:2: RuntimeWarning: divide by zero encountered in log\n",
      "<string>:2: RuntimeWarning: divide by zero encountered in log\n",
      "<string>:2: RuntimeWarning: divide by zero encountered in log\n",
      "<string>:2: RuntimeWarning: divide by zero encountered in log\n",
      "<string>:2: RuntimeWarning: divide by zero encountered in log\n",
      "<string>:2: RuntimeWarning: divide by zero encountered in log\n",
      "<string>:2: RuntimeWarning: divide by zero encountered in log\n",
      "<string>:2: RuntimeWarning: divide by zero encountered in log\n",
      "<string>:2: RuntimeWarning: divide by zero encountered in log\n",
      "<string>:2: RuntimeWarning: divide by zero encountered in log\n",
      "<string>:2: RuntimeWarning: divide by zero encountered in log\n",
      "<string>:2: RuntimeWarning: divide by zero encountered in log\n"
     ]
    },
    {
     "name": "stdout",
     "output_type": "stream",
     "text": [
      "[feateng]             200/           9757 features transformed\r"
     ]
    },
    {
     "name": "stderr",
     "output_type": "stream",
     "text": [
      "<string>:2: RuntimeWarning: divide by zero encountered in log\n",
      "<string>:2: RuntimeWarning: divide by zero encountered in log\n",
      "<string>:2: RuntimeWarning: divide by zero encountered in log\n",
      "<string>:2: RuntimeWarning: divide by zero encountered in log\n",
      "<string>:2: RuntimeWarning: divide by zero encountered in log\n",
      "<string>:2: RuntimeWarning: divide by zero encountered in log\n",
      "<string>:2: RuntimeWarning: divide by zero encountered in log\n",
      "<string>:2: RuntimeWarning: divide by zero encountered in log\n",
      "<string>:2: RuntimeWarning: divide by zero encountered in log\n",
      "<string>:2: RuntimeWarning: divide by zero encountered in log\n",
      "<string>:2: RuntimeWarning: divide by zero encountered in log\n",
      "<string>:2: RuntimeWarning: divide by zero encountered in log\n",
      "<string>:2: RuntimeWarning: divide by zero encountered in log\n",
      "<string>:2: RuntimeWarning: divide by zero encountered in log\n",
      "<string>:2: RuntimeWarning: divide by zero encountered in log\n",
      "<string>:2: RuntimeWarning: divide by zero encountered in log\n",
      "<string>:2: RuntimeWarning: divide by zero encountered in log\n",
      "<string>:2: RuntimeWarning: divide by zero encountered in log\n",
      "<string>:2: RuntimeWarning: divide by zero encountered in log\n",
      "<string>:2: RuntimeWarning: divide by zero encountered in log\n",
      "<string>:2: RuntimeWarning: divide by zero encountered in log\n",
      "<string>:2: RuntimeWarning: divide by zero encountered in log\n",
      "<string>:2: RuntimeWarning: divide by zero encountered in log\n"
     ]
    },
    {
     "name": "stdout",
     "output_type": "stream",
     "text": [
      "[feateng]             300/           9757 features transformed\r"
     ]
    },
    {
     "name": "stderr",
     "output_type": "stream",
     "text": [
      "<string>:2: RuntimeWarning: divide by zero encountered in log\n",
      "<string>:2: RuntimeWarning: divide by zero encountered in log\n",
      "<string>:2: RuntimeWarning: divide by zero encountered in log\n",
      "<string>:2: RuntimeWarning: divide by zero encountered in log\n",
      "<string>:2: RuntimeWarning: divide by zero encountered in log\n",
      "<string>:2: RuntimeWarning: divide by zero encountered in log\n"
     ]
    },
    {
     "name": "stdout",
     "output_type": "stream",
     "text": [
      "[feateng]             400/           9757 features transformed\r"
     ]
    },
    {
     "name": "stderr",
     "output_type": "stream",
     "text": [
      "<string>:2: RuntimeWarning: divide by zero encountered in log\n",
      "<string>:2: RuntimeWarning: divide by zero encountered in log\n",
      "<string>:2: RuntimeWarning: divide by zero encountered in log\n",
      "<string>:2: RuntimeWarning: divide by zero encountered in log\n"
     ]
    },
    {
     "name": "stdout",
     "output_type": "stream",
     "text": [
      "[feateng]             500/           9757 features transformed\r"
     ]
    },
    {
     "name": "stderr",
     "output_type": "stream",
     "text": [
      "<string>:2: RuntimeWarning: divide by zero encountered in log\n",
      "<string>:2: RuntimeWarning: divide by zero encountered in log\n",
      "<string>:2: RuntimeWarning: divide by zero encountered in log\n",
      "<string>:2: RuntimeWarning: divide by zero encountered in log\n",
      "<string>:2: RuntimeWarning: divide by zero encountered in log\n",
      "<string>:2: RuntimeWarning: divide by zero encountered in log\n",
      "<string>:2: RuntimeWarning: divide by zero encountered in log\n"
     ]
    },
    {
     "name": "stdout",
     "output_type": "stream",
     "text": [
      "[feateng]             600/           9757 features transformed\r"
     ]
    },
    {
     "name": "stderr",
     "output_type": "stream",
     "text": [
      "<string>:2: RuntimeWarning: divide by zero encountered in log\n",
      "<string>:2: RuntimeWarning: divide by zero encountered in log\n",
      "<string>:2: RuntimeWarning: divide by zero encountered in log\n"
     ]
    },
    {
     "name": "stdout",
     "output_type": "stream",
     "text": [
      "[feateng]             700/           9757 features transformed\r"
     ]
    },
    {
     "name": "stderr",
     "output_type": "stream",
     "text": [
      "<string>:2: RuntimeWarning: divide by zero encountered in log\n",
      "<string>:2: RuntimeWarning: divide by zero encountered in log\n",
      "<string>:2: RuntimeWarning: divide by zero encountered in log\n",
      "<string>:2: RuntimeWarning: divide by zero encountered in log\n",
      "<string>:2: RuntimeWarning: divide by zero encountered in log\n"
     ]
    },
    {
     "name": "stdout",
     "output_type": "stream",
     "text": [
      "[feateng]             800/           9757 features transformed\r"
     ]
    },
    {
     "name": "stderr",
     "output_type": "stream",
     "text": [
      "<string>:2: RuntimeWarning: divide by zero encountered in log\n",
      "<string>:2: RuntimeWarning: divide by zero encountered in log\n",
      "<string>:2: RuntimeWarning: divide by zero encountered in log\n",
      "<string>:2: RuntimeWarning: divide by zero encountered in log\n",
      "<string>:2: RuntimeWarning: divide by zero encountered in log\n",
      "<string>:2: RuntimeWarning: divide by zero encountered in log\n"
     ]
    },
    {
     "name": "stdout",
     "output_type": "stream",
     "text": [
      "[feateng]             900/           9757 features transformed\r"
     ]
    },
    {
     "name": "stderr",
     "output_type": "stream",
     "text": [
      "<string>:2: RuntimeWarning: divide by zero encountered in log\n",
      "<string>:2: RuntimeWarning: divide by zero encountered in log\n",
      "<string>:2: RuntimeWarning: divide by zero encountered in log\n",
      "<string>:2: RuntimeWarning: divide by zero encountered in log\n",
      "<string>:2: RuntimeWarning: divide by zero encountered in log\n",
      "<string>:2: RuntimeWarning: divide by zero encountered in log\n"
     ]
    },
    {
     "name": "stdout",
     "output_type": "stream",
     "text": [
      "[feateng]            1000/           9757 features transformed\r"
     ]
    },
    {
     "name": "stderr",
     "output_type": "stream",
     "text": [
      "<string>:2: RuntimeWarning: divide by zero encountered in log\n",
      "<string>:2: RuntimeWarning: divide by zero encountered in log\n",
      "<string>:2: RuntimeWarning: divide by zero encountered in log\n",
      "<string>:2: RuntimeWarning: divide by zero encountered in log\n",
      "<string>:2: RuntimeWarning: divide by zero encountered in log\n",
      "<string>:2: RuntimeWarning: divide by zero encountered in log\n",
      "<string>:2: RuntimeWarning: divide by zero encountered in log\n",
      "<string>:2: RuntimeWarning: divide by zero encountered in log\n",
      "<string>:2: RuntimeWarning: divide by zero encountered in log\n",
      "<string>:2: RuntimeWarning: divide by zero encountered in log\n",
      "<string>:2: RuntimeWarning: divide by zero encountered in log\n",
      "<string>:2: RuntimeWarning: divide by zero encountered in log\n"
     ]
    },
    {
     "name": "stdout",
     "output_type": "stream",
     "text": [
      "[feateng]            1100/           9757 features transformed\r"
     ]
    },
    {
     "name": "stderr",
     "output_type": "stream",
     "text": [
      "<string>:2: RuntimeWarning: divide by zero encountered in log\n",
      "<string>:2: RuntimeWarning: divide by zero encountered in log\n",
      "<string>:2: RuntimeWarning: divide by zero encountered in log\n",
      "<string>:2: RuntimeWarning: divide by zero encountered in log\n",
      "<string>:2: RuntimeWarning: divide by zero encountered in log\n",
      "<string>:2: RuntimeWarning: divide by zero encountered in log\n",
      "<string>:2: RuntimeWarning: divide by zero encountered in log\n",
      "<string>:2: RuntimeWarning: divide by zero encountered in log\n",
      "<string>:2: RuntimeWarning: divide by zero encountered in log\n",
      "<string>:2: RuntimeWarning: divide by zero encountered in log\n",
      "<string>:2: RuntimeWarning: divide by zero encountered in log\n",
      "<string>:2: RuntimeWarning: divide by zero encountered in log\n",
      "<string>:2: RuntimeWarning: divide by zero encountered in log\n",
      "<string>:2: RuntimeWarning: divide by zero encountered in log\n",
      "<string>:2: RuntimeWarning: divide by zero encountered in log\n",
      "<string>:2: RuntimeWarning: divide by zero encountered in log\n",
      "<string>:2: RuntimeWarning: divide by zero encountered in log\n",
      "<string>:2: RuntimeWarning: divide by zero encountered in log\n",
      "<string>:2: RuntimeWarning: divide by zero encountered in log\n",
      "<string>:2: RuntimeWarning: divide by zero encountered in log\n",
      "<string>:2: RuntimeWarning: divide by zero encountered in log\n",
      "<string>:2: RuntimeWarning: divide by zero encountered in log\n",
      "<string>:2: RuntimeWarning: divide by zero encountered in log\n",
      "<string>:2: RuntimeWarning: divide by zero encountered in log\n"
     ]
    },
    {
     "name": "stdout",
     "output_type": "stream",
     "text": [
      "[feateng]            1200/           9757 features transformed\r"
     ]
    },
    {
     "name": "stderr",
     "output_type": "stream",
     "text": [
      "<string>:2: RuntimeWarning: divide by zero encountered in log\n",
      "<string>:2: RuntimeWarning: divide by zero encountered in log\n",
      "<string>:2: RuntimeWarning: divide by zero encountered in log\n",
      "<string>:2: RuntimeWarning: divide by zero encountered in log\n",
      "<string>:2: RuntimeWarning: divide by zero encountered in log\n",
      "<string>:2: RuntimeWarning: divide by zero encountered in log\n",
      "<string>:2: RuntimeWarning: divide by zero encountered in log\n",
      "<string>:2: RuntimeWarning: divide by zero encountered in log\n",
      "<string>:2: RuntimeWarning: divide by zero encountered in log\n",
      "<string>:2: RuntimeWarning: divide by zero encountered in log\n",
      "<string>:2: RuntimeWarning: divide by zero encountered in log\n",
      "<string>:2: RuntimeWarning: divide by zero encountered in log\n",
      "<string>:2: RuntimeWarning: divide by zero encountered in log\n",
      "<string>:2: RuntimeWarning: divide by zero encountered in log\n",
      "<string>:2: RuntimeWarning: divide by zero encountered in log\n",
      "<string>:2: RuntimeWarning: divide by zero encountered in log\n",
      "<string>:2: RuntimeWarning: divide by zero encountered in log\n",
      "<string>:2: RuntimeWarning: divide by zero encountered in log\n",
      "<string>:2: RuntimeWarning: divide by zero encountered in log\n",
      "<string>:2: RuntimeWarning: divide by zero encountered in log\n",
      "<string>:2: RuntimeWarning: divide by zero encountered in log\n",
      "<string>:2: RuntimeWarning: divide by zero encountered in log\n",
      "<string>:2: RuntimeWarning: divide by zero encountered in log\n",
      "<string>:2: RuntimeWarning: divide by zero encountered in log\n",
      "<string>:2: RuntimeWarning: divide by zero encountered in log\n"
     ]
    },
    {
     "name": "stdout",
     "output_type": "stream",
     "text": [
      "[feateng]            1300/           9757 features transformed\r"
     ]
    },
    {
     "name": "stderr",
     "output_type": "stream",
     "text": [
      "<string>:2: RuntimeWarning: divide by zero encountered in log\n",
      "<string>:2: RuntimeWarning: divide by zero encountered in log\n",
      "<string>:2: RuntimeWarning: divide by zero encountered in log\n",
      "<string>:2: RuntimeWarning: divide by zero encountered in log\n",
      "<string>:2: RuntimeWarning: divide by zero encountered in log\n",
      "<string>:2: RuntimeWarning: divide by zero encountered in log\n",
      "<string>:2: RuntimeWarning: divide by zero encountered in log\n",
      "<string>:2: RuntimeWarning: divide by zero encountered in log\n",
      "<string>:2: RuntimeWarning: divide by zero encountered in log\n",
      "<string>:2: RuntimeWarning: divide by zero encountered in log\n",
      "<string>:2: RuntimeWarning: divide by zero encountered in log\n",
      "<string>:2: RuntimeWarning: divide by zero encountered in log\n",
      "<string>:2: RuntimeWarning: divide by zero encountered in log\n"
     ]
    },
    {
     "name": "stdout",
     "output_type": "stream",
     "text": [
      "[feateng]            1400/           9757 features transformed\r"
     ]
    },
    {
     "name": "stderr",
     "output_type": "stream",
     "text": [
      "<string>:2: RuntimeWarning: divide by zero encountered in log\n",
      "<string>:2: RuntimeWarning: divide by zero encountered in log\n",
      "<string>:2: RuntimeWarning: divide by zero encountered in log\n"
     ]
    },
    {
     "name": "stdout",
     "output_type": "stream",
     "text": [
      "[feateng]            1500/           9757 features transformed\r"
     ]
    },
    {
     "name": "stderr",
     "output_type": "stream",
     "text": [
      "<string>:2: RuntimeWarning: divide by zero encountered in log\n",
      "<string>:2: RuntimeWarning: divide by zero encountered in log\n",
      "<string>:2: RuntimeWarning: divide by zero encountered in log\n",
      "<string>:2: RuntimeWarning: divide by zero encountered in log\n",
      "<string>:2: RuntimeWarning: divide by zero encountered in log\n",
      "<string>:2: RuntimeWarning: divide by zero encountered in log\n",
      "<string>:2: RuntimeWarning: divide by zero encountered in log\n"
     ]
    },
    {
     "name": "stdout",
     "output_type": "stream",
     "text": [
      "[feateng]            1600/           9757 features transformed\r"
     ]
    },
    {
     "name": "stderr",
     "output_type": "stream",
     "text": [
      "<string>:2: RuntimeWarning: divide by zero encountered in log\n",
      "<string>:2: RuntimeWarning: divide by zero encountered in log\n",
      "<string>:2: RuntimeWarning: divide by zero encountered in log\n",
      "<string>:2: RuntimeWarning: divide by zero encountered in log\n",
      "<string>:2: RuntimeWarning: divide by zero encountered in log\n",
      "<string>:2: RuntimeWarning: divide by zero encountered in log\n"
     ]
    },
    {
     "name": "stdout",
     "output_type": "stream",
     "text": [
      "[feateng]            1700/           9757 features transformed\r"
     ]
    },
    {
     "name": "stderr",
     "output_type": "stream",
     "text": [
      "<string>:2: RuntimeWarning: divide by zero encountered in log\n",
      "<string>:2: RuntimeWarning: divide by zero encountered in log\n",
      "<string>:2: RuntimeWarning: divide by zero encountered in log\n",
      "<string>:2: RuntimeWarning: divide by zero encountered in log\n"
     ]
    },
    {
     "name": "stdout",
     "output_type": "stream",
     "text": [
      "[feateng]            1800/           9757 features transformed\r"
     ]
    },
    {
     "name": "stderr",
     "output_type": "stream",
     "text": [
      "<string>:2: RuntimeWarning: divide by zero encountered in log\n",
      "<string>:2: RuntimeWarning: divide by zero encountered in log\n",
      "<string>:2: RuntimeWarning: divide by zero encountered in log\n",
      "<string>:2: RuntimeWarning: divide by zero encountered in log\n",
      "<string>:2: RuntimeWarning: divide by zero encountered in log\n",
      "<string>:2: RuntimeWarning: divide by zero encountered in log\n",
      "<string>:2: RuntimeWarning: divide by zero encountered in log\n",
      "<string>:2: RuntimeWarning: divide by zero encountered in log\n",
      "<string>:2: RuntimeWarning: divide by zero encountered in log\n",
      "<string>:2: RuntimeWarning: divide by zero encountered in log\n",
      "<string>:2: RuntimeWarning: divide by zero encountered in log\n",
      "<string>:2: RuntimeWarning: divide by zero encountered in log\n",
      "<string>:2: RuntimeWarning: divide by zero encountered in log\n",
      "<string>:2: RuntimeWarning: divide by zero encountered in log\n",
      "<string>:2: RuntimeWarning: divide by zero encountered in log\n",
      "<string>:2: RuntimeWarning: divide by zero encountered in log\n",
      "<string>:2: RuntimeWarning: divide by zero encountered in log\n"
     ]
    },
    {
     "name": "stdout",
     "output_type": "stream",
     "text": [
      "[feateng]            1900/           9757 features transformed\r"
     ]
    },
    {
     "name": "stderr",
     "output_type": "stream",
     "text": [
      "<string>:2: RuntimeWarning: divide by zero encountered in log\n",
      "<string>:2: RuntimeWarning: divide by zero encountered in log\n",
      "<string>:2: RuntimeWarning: divide by zero encountered in log\n",
      "<string>:2: RuntimeWarning: divide by zero encountered in log\n",
      "<string>:2: RuntimeWarning: divide by zero encountered in log\n",
      "<string>:2: RuntimeWarning: divide by zero encountered in log\n",
      "<string>:2: RuntimeWarning: divide by zero encountered in log\n",
      "<string>:2: RuntimeWarning: divide by zero encountered in log\n",
      "<string>:2: RuntimeWarning: divide by zero encountered in log\n",
      "<string>:2: RuntimeWarning: divide by zero encountered in log\n",
      "<string>:2: RuntimeWarning: divide by zero encountered in log\n",
      "<string>:2: RuntimeWarning: divide by zero encountered in log\n",
      "<string>:2: RuntimeWarning: divide by zero encountered in log\n",
      "<string>:2: RuntimeWarning: divide by zero encountered in log\n",
      "<string>:2: RuntimeWarning: divide by zero encountered in log\n",
      "<string>:2: RuntimeWarning: divide by zero encountered in log\n",
      "<string>:2: RuntimeWarning: divide by zero encountered in log\n",
      "<string>:2: RuntimeWarning: divide by zero encountered in log\n",
      "<string>:2: RuntimeWarning: divide by zero encountered in log\n",
      "<string>:2: RuntimeWarning: divide by zero encountered in log\n",
      "<string>:2: RuntimeWarning: divide by zero encountered in log\n"
     ]
    },
    {
     "name": "stdout",
     "output_type": "stream",
     "text": [
      "[feateng]            2000/           9757 features transformed\r"
     ]
    },
    {
     "name": "stderr",
     "output_type": "stream",
     "text": [
      "<string>:2: RuntimeWarning: divide by zero encountered in log\n",
      "<string>:2: RuntimeWarning: divide by zero encountered in log\n",
      "<string>:2: RuntimeWarning: divide by zero encountered in log\n",
      "<string>:2: RuntimeWarning: divide by zero encountered in log\n",
      "<string>:2: RuntimeWarning: divide by zero encountered in log\n",
      "<string>:2: RuntimeWarning: divide by zero encountered in log\n",
      "<string>:2: RuntimeWarning: divide by zero encountered in log\n",
      "<string>:2: RuntimeWarning: divide by zero encountered in log\n",
      "<string>:2: RuntimeWarning: divide by zero encountered in log\n",
      "<string>:2: RuntimeWarning: divide by zero encountered in log\n",
      "<string>:2: RuntimeWarning: divide by zero encountered in log\n",
      "<string>:2: RuntimeWarning: divide by zero encountered in log\n",
      "<string>:2: RuntimeWarning: divide by zero encountered in log\n",
      "<string>:2: RuntimeWarning: divide by zero encountered in log\n",
      "<string>:2: RuntimeWarning: divide by zero encountered in log\n",
      "<string>:2: RuntimeWarning: divide by zero encountered in log\n",
      "<string>:2: RuntimeWarning: divide by zero encountered in log\n",
      "<string>:2: RuntimeWarning: divide by zero encountered in log\n",
      "<string>:2: RuntimeWarning: divide by zero encountered in log\n",
      "<string>:2: RuntimeWarning: divide by zero encountered in log\n",
      "<string>:2: RuntimeWarning: divide by zero encountered in log\n",
      "<string>:2: RuntimeWarning: divide by zero encountered in log\n",
      "<string>:2: RuntimeWarning: divide by zero encountered in log\n",
      "<string>:2: RuntimeWarning: divide by zero encountered in log\n",
      "<string>:2: RuntimeWarning: divide by zero encountered in log\n",
      "<string>:2: RuntimeWarning: divide by zero encountered in log\n",
      "<string>:2: RuntimeWarning: divide by zero encountered in log\n",
      "<string>:2: RuntimeWarning: divide by zero encountered in log\n",
      "<string>:2: RuntimeWarning: divide by zero encountered in log\n",
      "<string>:2: RuntimeWarning: divide by zero encountered in log\n",
      "<string>:2: RuntimeWarning: divide by zero encountered in log\n"
     ]
    },
    {
     "name": "stdout",
     "output_type": "stream",
     "text": [
      "[feateng]            2100/           9757 features transformed\r"
     ]
    },
    {
     "name": "stderr",
     "output_type": "stream",
     "text": [
      "<string>:2: RuntimeWarning: divide by zero encountered in log\n",
      "<string>:2: RuntimeWarning: divide by zero encountered in log\n",
      "<string>:2: RuntimeWarning: divide by zero encountered in log\n",
      "<string>:2: RuntimeWarning: divide by zero encountered in log\n",
      "<string>:2: RuntimeWarning: divide by zero encountered in log\n",
      "<string>:2: RuntimeWarning: divide by zero encountered in log\n"
     ]
    },
    {
     "name": "stdout",
     "output_type": "stream",
     "text": [
      "[feateng]            2200/           9757 features transformed\r"
     ]
    },
    {
     "name": "stderr",
     "output_type": "stream",
     "text": [
      "<string>:2: RuntimeWarning: divide by zero encountered in log\n",
      "<string>:2: RuntimeWarning: divide by zero encountered in log\n",
      "<string>:2: RuntimeWarning: divide by zero encountered in log\n",
      "<string>:2: RuntimeWarning: divide by zero encountered in log\n"
     ]
    },
    {
     "name": "stdout",
     "output_type": "stream",
     "text": [
      "[feateng]            2300/           9757 features transformed\r"
     ]
    },
    {
     "name": "stderr",
     "output_type": "stream",
     "text": [
      "<string>:2: RuntimeWarning: divide by zero encountered in log\n",
      "<string>:2: RuntimeWarning: divide by zero encountered in log\n",
      "<string>:2: RuntimeWarning: divide by zero encountered in log\n",
      "<string>:2: RuntimeWarning: divide by zero encountered in log\n",
      "<string>:2: RuntimeWarning: divide by zero encountered in log\n"
     ]
    },
    {
     "name": "stdout",
     "output_type": "stream",
     "text": [
      "[feateng]            2400/           9757 features transformed\r"
     ]
    },
    {
     "name": "stderr",
     "output_type": "stream",
     "text": [
      "<string>:2: RuntimeWarning: divide by zero encountered in log\n",
      "<string>:2: RuntimeWarning: divide by zero encountered in log\n",
      "<string>:2: RuntimeWarning: divide by zero encountered in log\n",
      "<string>:2: RuntimeWarning: divide by zero encountered in log\n",
      "<string>:2: RuntimeWarning: divide by zero encountered in log\n",
      "<string>:2: RuntimeWarning: divide by zero encountered in log\n"
     ]
    },
    {
     "name": "stdout",
     "output_type": "stream",
     "text": [
      "[feateng]            2500/           9757 features transformed\r"
     ]
    },
    {
     "name": "stderr",
     "output_type": "stream",
     "text": [
      "<string>:2: RuntimeWarning: divide by zero encountered in log\n",
      "<string>:2: RuntimeWarning: divide by zero encountered in log\n",
      "<string>:2: RuntimeWarning: divide by zero encountered in log\n",
      "<string>:2: RuntimeWarning: divide by zero encountered in log\n",
      "<string>:2: RuntimeWarning: divide by zero encountered in log\n",
      "<string>:2: RuntimeWarning: divide by zero encountered in log\n",
      "<string>:2: RuntimeWarning: divide by zero encountered in log\n",
      "<string>:2: RuntimeWarning: divide by zero encountered in log\n",
      "<string>:2: RuntimeWarning: divide by zero encountered in log\n",
      "<string>:2: RuntimeWarning: divide by zero encountered in log\n",
      "<string>:2: RuntimeWarning: divide by zero encountered in log\n",
      "<string>:2: RuntimeWarning: divide by zero encountered in log\n"
     ]
    },
    {
     "name": "stdout",
     "output_type": "stream",
     "text": [
      "[feateng]            2600/           9757 features transformed\r"
     ]
    },
    {
     "name": "stderr",
     "output_type": "stream",
     "text": [
      "<string>:2: RuntimeWarning: divide by zero encountered in log\n",
      "<string>:2: RuntimeWarning: divide by zero encountered in log\n",
      "<string>:2: RuntimeWarning: divide by zero encountered in log\n"
     ]
    },
    {
     "name": "stdout",
     "output_type": "stream",
     "text": [
      "[feateng]            2700/           9757 features transformed\r"
     ]
    },
    {
     "name": "stderr",
     "output_type": "stream",
     "text": [
      "<string>:2: RuntimeWarning: divide by zero encountered in log\n",
      "<string>:2: RuntimeWarning: divide by zero encountered in log\n",
      "<string>:2: RuntimeWarning: divide by zero encountered in log\n",
      "<string>:2: RuntimeWarning: divide by zero encountered in log\n",
      "<string>:2: RuntimeWarning: divide by zero encountered in log\n",
      "<string>:2: RuntimeWarning: divide by zero encountered in log\n",
      "<string>:2: RuntimeWarning: divide by zero encountered in log\n",
      "<string>:2: RuntimeWarning: divide by zero encountered in log\n",
      "<string>:2: RuntimeWarning: divide by zero encountered in log\n",
      "<string>:2: RuntimeWarning: divide by zero encountered in log\n",
      "<string>:2: RuntimeWarning: divide by zero encountered in log\n",
      "<string>:2: RuntimeWarning: divide by zero encountered in log\n"
     ]
    },
    {
     "name": "stdout",
     "output_type": "stream",
     "text": [
      "[feateng]            2800/           9757 features transformed\r"
     ]
    },
    {
     "name": "stderr",
     "output_type": "stream",
     "text": [
      "<string>:2: RuntimeWarning: divide by zero encountered in log\n",
      "<string>:2: RuntimeWarning: divide by zero encountered in log\n",
      "<string>:2: RuntimeWarning: divide by zero encountered in log\n",
      "<string>:2: RuntimeWarning: divide by zero encountered in log\n",
      "<string>:2: RuntimeWarning: divide by zero encountered in log\n",
      "<string>:2: RuntimeWarning: divide by zero encountered in log\n"
     ]
    },
    {
     "name": "stdout",
     "output_type": "stream",
     "text": [
      "[feateng]            2900/           9757 features transformed\r"
     ]
    },
    {
     "name": "stderr",
     "output_type": "stream",
     "text": [
      "<string>:2: RuntimeWarning: divide by zero encountered in log\n",
      "<string>:2: RuntimeWarning: divide by zero encountered in log\n",
      "<string>:2: RuntimeWarning: divide by zero encountered in log\n",
      "<string>:2: RuntimeWarning: divide by zero encountered in log\n"
     ]
    },
    {
     "name": "stdout",
     "output_type": "stream",
     "text": [
      "[feateng]            3000/           9757 features transformed\r"
     ]
    },
    {
     "name": "stderr",
     "output_type": "stream",
     "text": [
      "<string>:2: RuntimeWarning: divide by zero encountered in log\n",
      "<string>:2: RuntimeWarning: divide by zero encountered in log\n",
      "<string>:2: RuntimeWarning: divide by zero encountered in log\n",
      "<string>:2: RuntimeWarning: divide by zero encountered in log\n",
      "<string>:2: RuntimeWarning: divide by zero encountered in log\n"
     ]
    },
    {
     "name": "stdout",
     "output_type": "stream",
     "text": [
      "[feateng]            3100/           9757 features transformed\r"
     ]
    },
    {
     "name": "stderr",
     "output_type": "stream",
     "text": [
      "<string>:2: RuntimeWarning: divide by zero encountered in log\n",
      "<string>:2: RuntimeWarning: divide by zero encountered in log\n",
      "<string>:2: RuntimeWarning: divide by zero encountered in log\n",
      "<string>:2: RuntimeWarning: divide by zero encountered in log\n",
      "<string>:2: RuntimeWarning: divide by zero encountered in log\n",
      "<string>:2: RuntimeWarning: divide by zero encountered in log\n"
     ]
    },
    {
     "name": "stdout",
     "output_type": "stream",
     "text": [
      "[feateng]            3200/           9757 features transformed\r"
     ]
    },
    {
     "name": "stderr",
     "output_type": "stream",
     "text": [
      "<string>:2: RuntimeWarning: divide by zero encountered in log\n",
      "<string>:2: RuntimeWarning: divide by zero encountered in log\n",
      "<string>:2: RuntimeWarning: divide by zero encountered in log\n",
      "<string>:2: RuntimeWarning: divide by zero encountered in log\n",
      "<string>:2: RuntimeWarning: divide by zero encountered in log\n",
      "<string>:2: RuntimeWarning: divide by zero encountered in log\n",
      "<string>:2: RuntimeWarning: divide by zero encountered in log\n",
      "<string>:2: RuntimeWarning: divide by zero encountered in log\n",
      "<string>:2: RuntimeWarning: divide by zero encountered in log\n",
      "<string>:2: RuntimeWarning: divide by zero encountered in log\n",
      "<string>:2: RuntimeWarning: divide by zero encountered in log\n",
      "<string>:2: RuntimeWarning: divide by zero encountered in log\n",
      "<string>:2: RuntimeWarning: divide by zero encountered in log\n",
      "<string>:2: RuntimeWarning: divide by zero encountered in log\n"
     ]
    },
    {
     "name": "stdout",
     "output_type": "stream",
     "text": [
      "[feateng]            3300/           9757 features transformed\r"
     ]
    },
    {
     "name": "stderr",
     "output_type": "stream",
     "text": [
      "<string>:2: RuntimeWarning: divide by zero encountered in log\n",
      "<string>:2: RuntimeWarning: divide by zero encountered in log\n",
      "<string>:2: RuntimeWarning: divide by zero encountered in log\n"
     ]
    },
    {
     "name": "stdout",
     "output_type": "stream",
     "text": [
      "[feateng]            3400/           9757 features transformed\r"
     ]
    },
    {
     "name": "stderr",
     "output_type": "stream",
     "text": [
      "<string>:2: RuntimeWarning: divide by zero encountered in log\n",
      "<string>:2: RuntimeWarning: divide by zero encountered in log\n",
      "<string>:2: RuntimeWarning: divide by zero encountered in log\n",
      "<string>:2: RuntimeWarning: divide by zero encountered in log\n",
      "<string>:2: RuntimeWarning: divide by zero encountered in log\n",
      "<string>:2: RuntimeWarning: divide by zero encountered in log\n",
      "<string>:2: RuntimeWarning: divide by zero encountered in log\n",
      "<string>:2: RuntimeWarning: divide by zero encountered in log\n",
      "<string>:2: RuntimeWarning: divide by zero encountered in log\n"
     ]
    },
    {
     "name": "stdout",
     "output_type": "stream",
     "text": [
      "[feateng]            3500/           9757 features transformed\r"
     ]
    },
    {
     "name": "stderr",
     "output_type": "stream",
     "text": [
      "<string>:2: RuntimeWarning: divide by zero encountered in log\n",
      "<string>:2: RuntimeWarning: divide by zero encountered in log\n",
      "<string>:2: RuntimeWarning: divide by zero encountered in log\n",
      "<string>:2: RuntimeWarning: divide by zero encountered in log\n",
      "<string>:2: RuntimeWarning: divide by zero encountered in log\n",
      "<string>:2: RuntimeWarning: divide by zero encountered in log\n",
      "<string>:2: RuntimeWarning: divide by zero encountered in log\n",
      "<string>:2: RuntimeWarning: divide by zero encountered in log\n",
      "<string>:2: RuntimeWarning: divide by zero encountered in log\n",
      "<string>:2: RuntimeWarning: divide by zero encountered in log\n",
      "<string>:2: RuntimeWarning: divide by zero encountered in log\n",
      "<string>:2: RuntimeWarning: divide by zero encountered in log\n",
      "<string>:2: RuntimeWarning: divide by zero encountered in log\n",
      "<string>:2: RuntimeWarning: divide by zero encountered in log\n",
      "<string>:2: RuntimeWarning: divide by zero encountered in log\n",
      "<string>:2: RuntimeWarning: divide by zero encountered in log\n",
      "<string>:2: RuntimeWarning: divide by zero encountered in log\n",
      "<string>:2: RuntimeWarning: divide by zero encountered in log\n",
      "<string>:2: RuntimeWarning: divide by zero encountered in log\n",
      "<string>:2: RuntimeWarning: divide by zero encountered in log\n",
      "<string>:2: RuntimeWarning: divide by zero encountered in log\n",
      "<string>:2: RuntimeWarning: divide by zero encountered in log\n",
      "<string>:2: RuntimeWarning: divide by zero encountered in log\n",
      "<string>:2: RuntimeWarning: divide by zero encountered in log\n",
      "<string>:2: RuntimeWarning: divide by zero encountered in log\n",
      "<string>:2: RuntimeWarning: divide by zero encountered in log\n",
      "<string>:2: RuntimeWarning: divide by zero encountered in log\n"
     ]
    },
    {
     "name": "stdout",
     "output_type": "stream",
     "text": [
      "[feateng]            3600/           9757 features transformed\r"
     ]
    },
    {
     "name": "stderr",
     "output_type": "stream",
     "text": [
      "<string>:2: RuntimeWarning: divide by zero encountered in log\n",
      "<string>:2: RuntimeWarning: divide by zero encountered in log\n",
      "<string>:2: RuntimeWarning: divide by zero encountered in log\n",
      "<string>:2: RuntimeWarning: divide by zero encountered in log\n",
      "<string>:2: RuntimeWarning: divide by zero encountered in log\n",
      "<string>:2: RuntimeWarning: divide by zero encountered in log\n",
      "<string>:2: RuntimeWarning: divide by zero encountered in log\n",
      "<string>:2: RuntimeWarning: divide by zero encountered in log\n",
      "<string>:2: RuntimeWarning: divide by zero encountered in log\n",
      "<string>:2: RuntimeWarning: divide by zero encountered in log\n",
      "<string>:2: RuntimeWarning: divide by zero encountered in log\n",
      "<string>:2: RuntimeWarning: divide by zero encountered in log\n",
      "<string>:2: RuntimeWarning: divide by zero encountered in log\n",
      "<string>:2: RuntimeWarning: divide by zero encountered in log\n",
      "<string>:2: RuntimeWarning: divide by zero encountered in log\n",
      "<string>:2: RuntimeWarning: divide by zero encountered in log\n",
      "<string>:2: RuntimeWarning: divide by zero encountered in log\n",
      "<string>:2: RuntimeWarning: divide by zero encountered in log\n",
      "<string>:2: RuntimeWarning: divide by zero encountered in log\n",
      "<string>:2: RuntimeWarning: divide by zero encountered in log\n",
      "<string>:2: RuntimeWarning: divide by zero encountered in log\n",
      "<string>:2: RuntimeWarning: divide by zero encountered in log\n",
      "<string>:2: RuntimeWarning: divide by zero encountered in log\n",
      "<string>:2: RuntimeWarning: divide by zero encountered in log\n",
      "<string>:2: RuntimeWarning: divide by zero encountered in log\n",
      "<string>:2: RuntimeWarning: divide by zero encountered in log\n",
      "<string>:2: RuntimeWarning: divide by zero encountered in log\n",
      "<string>:2: RuntimeWarning: divide by zero encountered in log\n",
      "<string>:2: RuntimeWarning: divide by zero encountered in log\n",
      "<string>:2: RuntimeWarning: divide by zero encountered in log\n",
      "<string>:2: RuntimeWarning: divide by zero encountered in log\n",
      "<string>:2: RuntimeWarning: divide by zero encountered in log\n"
     ]
    },
    {
     "name": "stdout",
     "output_type": "stream",
     "text": [
      "[feateng]            3700/           9757 features transformed\r"
     ]
    },
    {
     "name": "stderr",
     "output_type": "stream",
     "text": [
      "<string>:2: RuntimeWarning: divide by zero encountered in log\n",
      "<string>:2: RuntimeWarning: divide by zero encountered in log\n",
      "<string>:2: RuntimeWarning: divide by zero encountered in log\n",
      "<string>:2: RuntimeWarning: divide by zero encountered in log\n",
      "<string>:2: RuntimeWarning: divide by zero encountered in log\n",
      "<string>:2: RuntimeWarning: divide by zero encountered in log\n",
      "<string>:2: RuntimeWarning: divide by zero encountered in log\n",
      "<string>:2: RuntimeWarning: divide by zero encountered in log\n",
      "<string>:2: RuntimeWarning: divide by zero encountered in log\n",
      "<string>:2: RuntimeWarning: divide by zero encountered in log\n",
      "<string>:2: RuntimeWarning: divide by zero encountered in log\n",
      "<string>:2: RuntimeWarning: divide by zero encountered in log\n",
      "<string>:2: RuntimeWarning: divide by zero encountered in log\n",
      "<string>:2: RuntimeWarning: divide by zero encountered in log\n",
      "<string>:2: RuntimeWarning: divide by zero encountered in log\n",
      "<string>:2: RuntimeWarning: divide by zero encountered in log\n",
      "<string>:2: RuntimeWarning: divide by zero encountered in log\n",
      "<string>:2: RuntimeWarning: divide by zero encountered in log\n",
      "<string>:2: RuntimeWarning: divide by zero encountered in log\n",
      "<string>:2: RuntimeWarning: divide by zero encountered in log\n",
      "<string>:2: RuntimeWarning: divide by zero encountered in log\n",
      "<string>:2: RuntimeWarning: divide by zero encountered in log\n",
      "<string>:2: RuntimeWarning: divide by zero encountered in log\n",
      "<string>:2: RuntimeWarning: divide by zero encountered in log\n",
      "<string>:2: RuntimeWarning: divide by zero encountered in log\n",
      "<string>:2: RuntimeWarning: divide by zero encountered in log\n",
      "<string>:2: RuntimeWarning: divide by zero encountered in log\n",
      "<string>:2: RuntimeWarning: divide by zero encountered in log\n",
      "<string>:2: RuntimeWarning: divide by zero encountered in log\n",
      "<string>:2: RuntimeWarning: divide by zero encountered in log\n"
     ]
    },
    {
     "name": "stdout",
     "output_type": "stream",
     "text": [
      "[feateng]            3800/           9757 features transformed\r"
     ]
    },
    {
     "name": "stderr",
     "output_type": "stream",
     "text": [
      "<string>:2: RuntimeWarning: divide by zero encountered in log\n",
      "<string>:2: RuntimeWarning: divide by zero encountered in log\n",
      "<string>:2: RuntimeWarning: divide by zero encountered in log\n",
      "<string>:2: RuntimeWarning: divide by zero encountered in log\n",
      "<string>:2: RuntimeWarning: divide by zero encountered in log\n",
      "<string>:2: RuntimeWarning: divide by zero encountered in log\n",
      "<string>:2: RuntimeWarning: divide by zero encountered in log\n",
      "<string>:2: RuntimeWarning: divide by zero encountered in log\n",
      "<string>:2: RuntimeWarning: divide by zero encountered in log\n",
      "<string>:2: RuntimeWarning: divide by zero encountered in log\n",
      "<string>:2: RuntimeWarning: divide by zero encountered in log\n",
      "<string>:2: RuntimeWarning: divide by zero encountered in log\n",
      "<string>:2: RuntimeWarning: divide by zero encountered in log\n",
      "<string>:2: RuntimeWarning: divide by zero encountered in log\n",
      "<string>:2: RuntimeWarning: divide by zero encountered in log\n",
      "<string>:2: RuntimeWarning: divide by zero encountered in log\n",
      "<string>:2: RuntimeWarning: divide by zero encountered in log\n",
      "<string>:2: RuntimeWarning: divide by zero encountered in log\n",
      "<string>:2: RuntimeWarning: divide by zero encountered in log\n",
      "<string>:2: RuntimeWarning: divide by zero encountered in log\n",
      "<string>:2: RuntimeWarning: divide by zero encountered in log\n",
      "<string>:2: RuntimeWarning: divide by zero encountered in log\n",
      "<string>:2: RuntimeWarning: divide by zero encountered in log\n",
      "<string>:2: RuntimeWarning: divide by zero encountered in log\n"
     ]
    },
    {
     "name": "stdout",
     "output_type": "stream",
     "text": [
      "[feateng]            3900/           9757 features transformed\r"
     ]
    },
    {
     "name": "stderr",
     "output_type": "stream",
     "text": [
      "<string>:2: RuntimeWarning: divide by zero encountered in log\n",
      "<string>:2: RuntimeWarning: divide by zero encountered in log\n",
      "<string>:2: RuntimeWarning: divide by zero encountered in log\n",
      "<string>:2: RuntimeWarning: divide by zero encountered in log\n",
      "<string>:2: RuntimeWarning: divide by zero encountered in log\n",
      "<string>:2: RuntimeWarning: divide by zero encountered in log\n",
      "<string>:2: RuntimeWarning: divide by zero encountered in log\n",
      "<string>:2: RuntimeWarning: divide by zero encountered in log\n",
      "<string>:2: RuntimeWarning: divide by zero encountered in log\n",
      "<string>:2: RuntimeWarning: divide by zero encountered in log\n",
      "<string>:2: RuntimeWarning: divide by zero encountered in log\n",
      "<string>:2: RuntimeWarning: divide by zero encountered in log\n",
      "<string>:2: RuntimeWarning: divide by zero encountered in log\n",
      "<string>:2: RuntimeWarning: divide by zero encountered in log\n",
      "<string>:2: RuntimeWarning: divide by zero encountered in log\n",
      "<string>:2: RuntimeWarning: divide by zero encountered in log\n",
      "<string>:2: RuntimeWarning: divide by zero encountered in log\n",
      "<string>:2: RuntimeWarning: divide by zero encountered in log\n",
      "<string>:2: RuntimeWarning: divide by zero encountered in log\n",
      "<string>:2: RuntimeWarning: divide by zero encountered in log\n",
      "<string>:2: RuntimeWarning: divide by zero encountered in log\n",
      "<string>:2: RuntimeWarning: divide by zero encountered in log\n",
      "<string>:2: RuntimeWarning: divide by zero encountered in log\n",
      "<string>:2: RuntimeWarning: divide by zero encountered in log\n",
      "<string>:2: RuntimeWarning: divide by zero encountered in log\n",
      "<string>:2: RuntimeWarning: divide by zero encountered in log\n",
      "<string>:2: RuntimeWarning: divide by zero encountered in log\n",
      "<string>:2: RuntimeWarning: divide by zero encountered in log\n",
      "<string>:2: RuntimeWarning: divide by zero encountered in log\n",
      "<string>:2: RuntimeWarning: divide by zero encountered in log\n"
     ]
    },
    {
     "name": "stdout",
     "output_type": "stream",
     "text": [
      "[feateng]            4000/           9757 features transformed\r"
     ]
    },
    {
     "name": "stderr",
     "output_type": "stream",
     "text": [
      "<string>:2: RuntimeWarning: divide by zero encountered in log\n",
      "<string>:2: RuntimeWarning: divide by zero encountered in log\n",
      "<string>:2: RuntimeWarning: divide by zero encountered in log\n",
      "<string>:2: RuntimeWarning: divide by zero encountered in log\n",
      "<string>:2: RuntimeWarning: divide by zero encountered in log\n",
      "<string>:2: RuntimeWarning: divide by zero encountered in log\n",
      "<string>:2: RuntimeWarning: divide by zero encountered in log\n",
      "<string>:2: RuntimeWarning: divide by zero encountered in log\n",
      "<string>:2: RuntimeWarning: divide by zero encountered in log\n",
      "<string>:2: RuntimeWarning: divide by zero encountered in log\n",
      "<string>:2: RuntimeWarning: divide by zero encountered in log\n",
      "<string>:2: RuntimeWarning: divide by zero encountered in log\n",
      "<string>:2: RuntimeWarning: divide by zero encountered in log\n",
      "<string>:2: RuntimeWarning: divide by zero encountered in log\n",
      "<string>:2: RuntimeWarning: divide by zero encountered in log\n",
      "<string>:2: RuntimeWarning: divide by zero encountered in log\n",
      "<string>:2: RuntimeWarning: divide by zero encountered in log\n",
      "<string>:2: RuntimeWarning: divide by zero encountered in log\n",
      "<string>:2: RuntimeWarning: divide by zero encountered in log\n",
      "<string>:2: RuntimeWarning: divide by zero encountered in log\n",
      "<string>:2: RuntimeWarning: divide by zero encountered in log\n",
      "<string>:2: RuntimeWarning: divide by zero encountered in log\n",
      "<string>:2: RuntimeWarning: divide by zero encountered in log\n",
      "<string>:2: RuntimeWarning: divide by zero encountered in log\n",
      "<string>:2: RuntimeWarning: divide by zero encountered in log\n",
      "<string>:2: RuntimeWarning: divide by zero encountered in log\n",
      "<string>:2: RuntimeWarning: divide by zero encountered in log\n",
      "<string>:2: RuntimeWarning: divide by zero encountered in log\n",
      "<string>:2: RuntimeWarning: divide by zero encountered in log\n"
     ]
    },
    {
     "name": "stdout",
     "output_type": "stream",
     "text": [
      "[feateng]            4100/           9757 features transformed\r"
     ]
    },
    {
     "name": "stderr",
     "output_type": "stream",
     "text": [
      "<string>:2: RuntimeWarning: divide by zero encountered in log\n",
      "<string>:2: RuntimeWarning: divide by zero encountered in log\n",
      "<string>:2: RuntimeWarning: divide by zero encountered in log\n",
      "<string>:2: RuntimeWarning: divide by zero encountered in log\n",
      "<string>:2: RuntimeWarning: divide by zero encountered in log\n",
      "<string>:2: RuntimeWarning: divide by zero encountered in log\n",
      "<string>:2: RuntimeWarning: divide by zero encountered in log\n",
      "<string>:2: RuntimeWarning: divide by zero encountered in log\n",
      "<string>:2: RuntimeWarning: divide by zero encountered in log\n",
      "<string>:2: RuntimeWarning: divide by zero encountered in log\n",
      "<string>:2: RuntimeWarning: divide by zero encountered in log\n",
      "<string>:2: RuntimeWarning: divide by zero encountered in log\n",
      "<string>:2: RuntimeWarning: divide by zero encountered in log\n",
      "<string>:2: RuntimeWarning: divide by zero encountered in log\n",
      "<string>:2: RuntimeWarning: divide by zero encountered in log\n"
     ]
    },
    {
     "name": "stdout",
     "output_type": "stream",
     "text": [
      "[feateng]            4200/           9757 features transformed\r"
     ]
    },
    {
     "name": "stderr",
     "output_type": "stream",
     "text": [
      "<string>:2: RuntimeWarning: divide by zero encountered in log\n",
      "<string>:2: RuntimeWarning: divide by zero encountered in log\n",
      "<string>:2: RuntimeWarning: divide by zero encountered in log\n",
      "<string>:2: RuntimeWarning: divide by zero encountered in log\n",
      "<string>:2: RuntimeWarning: divide by zero encountered in log\n",
      "<string>:2: RuntimeWarning: divide by zero encountered in log\n"
     ]
    },
    {
     "name": "stdout",
     "output_type": "stream",
     "text": [
      "[feateng]            4300/           9757 features transformed\r"
     ]
    },
    {
     "name": "stderr",
     "output_type": "stream",
     "text": [
      "<string>:2: RuntimeWarning: divide by zero encountered in log\n",
      "<string>:2: RuntimeWarning: divide by zero encountered in log\n",
      "<string>:2: RuntimeWarning: divide by zero encountered in log\n"
     ]
    },
    {
     "name": "stdout",
     "output_type": "stream",
     "text": [
      "[feateng]            4400/           9757 features transformed\r"
     ]
    },
    {
     "name": "stderr",
     "output_type": "stream",
     "text": [
      "<string>:2: RuntimeWarning: divide by zero encountered in log\n",
      "<string>:2: RuntimeWarning: divide by zero encountered in log\n",
      "<string>:2: RuntimeWarning: divide by zero encountered in log\n",
      "<string>:2: RuntimeWarning: divide by zero encountered in log\n"
     ]
    },
    {
     "name": "stdout",
     "output_type": "stream",
     "text": [
      "[feateng]            4600/           9757 features transformed\r"
     ]
    },
    {
     "name": "stderr",
     "output_type": "stream",
     "text": [
      "<string>:2: RuntimeWarning: divide by zero encountered in log\n",
      "<string>:2: RuntimeWarning: divide by zero encountered in log\n",
      "<string>:2: RuntimeWarning: divide by zero encountered in log\n",
      "<string>:2: RuntimeWarning: divide by zero encountered in log\n",
      "<string>:2: RuntimeWarning: divide by zero encountered in log\n",
      "<string>:2: RuntimeWarning: divide by zero encountered in log\n",
      "<string>:2: RuntimeWarning: divide by zero encountered in log\n"
     ]
    },
    {
     "name": "stdout",
     "output_type": "stream",
     "text": [
      "[feateng]            4700/           9757 features transformed\r"
     ]
    },
    {
     "name": "stderr",
     "output_type": "stream",
     "text": [
      "<string>:2: RuntimeWarning: divide by zero encountered in log\n",
      "<string>:2: RuntimeWarning: divide by zero encountered in log\n",
      "<string>:2: RuntimeWarning: divide by zero encountered in log\n"
     ]
    },
    {
     "name": "stdout",
     "output_type": "stream",
     "text": [
      "[feateng]            4800/           9757 features transformed\r"
     ]
    },
    {
     "name": "stderr",
     "output_type": "stream",
     "text": [
      "<string>:2: RuntimeWarning: divide by zero encountered in log\n",
      "<string>:2: RuntimeWarning: divide by zero encountered in log\n",
      "<string>:2: RuntimeWarning: divide by zero encountered in log\n",
      "<string>:2: RuntimeWarning: divide by zero encountered in log\n",
      "<string>:2: RuntimeWarning: divide by zero encountered in log\n",
      "<string>:2: RuntimeWarning: divide by zero encountered in log\n",
      "<string>:2: RuntimeWarning: divide by zero encountered in log\n",
      "<string>:2: RuntimeWarning: divide by zero encountered in log\n",
      "<string>:2: RuntimeWarning: divide by zero encountered in log\n"
     ]
    },
    {
     "name": "stdout",
     "output_type": "stream",
     "text": [
      "[feateng]            4900/           9757 features transformed\r"
     ]
    },
    {
     "name": "stderr",
     "output_type": "stream",
     "text": [
      "<string>:2: RuntimeWarning: divide by zero encountered in log\n",
      "<string>:2: RuntimeWarning: divide by zero encountered in log\n",
      "<string>:2: RuntimeWarning: divide by zero encountered in log\n",
      "<string>:2: RuntimeWarning: divide by zero encountered in log\n"
     ]
    },
    {
     "name": "stdout",
     "output_type": "stream",
     "text": [
      "[feateng]            5000/           9757 features transformed\r"
     ]
    },
    {
     "name": "stderr",
     "output_type": "stream",
     "text": [
      "<string>:2: RuntimeWarning: divide by zero encountered in log\n",
      "<string>:2: RuntimeWarning: divide by zero encountered in log\n",
      "<string>:2: RuntimeWarning: divide by zero encountered in log\n",
      "<string>:2: RuntimeWarning: divide by zero encountered in log\n"
     ]
    },
    {
     "name": "stdout",
     "output_type": "stream",
     "text": [
      "[feateng]            5100/           9757 features transformed\r"
     ]
    },
    {
     "name": "stderr",
     "output_type": "stream",
     "text": [
      "<string>:2: RuntimeWarning: divide by zero encountered in log\n",
      "<string>:2: RuntimeWarning: divide by zero encountered in log\n",
      "<string>:2: RuntimeWarning: divide by zero encountered in log\n",
      "<string>:2: RuntimeWarning: divide by zero encountered in log\n",
      "<string>:2: RuntimeWarning: divide by zero encountered in log\n"
     ]
    },
    {
     "name": "stdout",
     "output_type": "stream",
     "text": [
      "[feateng]            5200/           9757 features transformed\r"
     ]
    },
    {
     "name": "stderr",
     "output_type": "stream",
     "text": [
      "<string>:2: RuntimeWarning: divide by zero encountered in log\n",
      "<string>:2: RuntimeWarning: divide by zero encountered in log\n",
      "<string>:2: RuntimeWarning: divide by zero encountered in log\n",
      "<string>:2: RuntimeWarning: divide by zero encountered in log\n"
     ]
    },
    {
     "name": "stdout",
     "output_type": "stream",
     "text": [
      "[feateng]            5300/           9757 features transformed\r"
     ]
    },
    {
     "name": "stderr",
     "output_type": "stream",
     "text": [
      "<string>:2: RuntimeWarning: divide by zero encountered in log\n",
      "<string>:2: RuntimeWarning: divide by zero encountered in log\n"
     ]
    },
    {
     "name": "stdout",
     "output_type": "stream",
     "text": [
      "[feateng]            5500/           9757 features transformed\r"
     ]
    },
    {
     "name": "stderr",
     "output_type": "stream",
     "text": [
      "<string>:2: RuntimeWarning: divide by zero encountered in log\n",
      "<string>:2: RuntimeWarning: divide by zero encountered in log\n",
      "<string>:2: RuntimeWarning: divide by zero encountered in log\n"
     ]
    },
    {
     "name": "stdout",
     "output_type": "stream",
     "text": [
      "[feateng]            5600/           9757 features transformed\r"
     ]
    },
    {
     "name": "stderr",
     "output_type": "stream",
     "text": [
      "<string>:2: RuntimeWarning: divide by zero encountered in log\n",
      "<string>:2: RuntimeWarning: divide by zero encountered in log\n",
      "<string>:2: RuntimeWarning: divide by zero encountered in log\n",
      "<string>:2: RuntimeWarning: divide by zero encountered in log\n",
      "<string>:2: RuntimeWarning: divide by zero encountered in log\n",
      "<string>:2: RuntimeWarning: divide by zero encountered in log\n"
     ]
    },
    {
     "name": "stdout",
     "output_type": "stream",
     "text": [
      "[feateng]            5700/           9757 features transformed\r"
     ]
    },
    {
     "name": "stderr",
     "output_type": "stream",
     "text": [
      "<string>:2: RuntimeWarning: divide by zero encountered in log\n",
      "<string>:2: RuntimeWarning: divide by zero encountered in log\n",
      "<string>:2: RuntimeWarning: divide by zero encountered in log\n",
      "<string>:2: RuntimeWarning: divide by zero encountered in log\n",
      "<string>:2: RuntimeWarning: divide by zero encountered in log\n",
      "<string>:2: RuntimeWarning: divide by zero encountered in log\n"
     ]
    },
    {
     "name": "stdout",
     "output_type": "stream",
     "text": [
      "[feateng]            5800/           9757 features transformed\r"
     ]
    },
    {
     "name": "stderr",
     "output_type": "stream",
     "text": [
      "<string>:2: RuntimeWarning: divide by zero encountered in log\n",
      "<string>:2: RuntimeWarning: divide by zero encountered in log\n",
      "<string>:2: RuntimeWarning: divide by zero encountered in log\n"
     ]
    },
    {
     "name": "stdout",
     "output_type": "stream",
     "text": [
      "[feateng]            5900/           9757 features transformed\r"
     ]
    },
    {
     "name": "stderr",
     "output_type": "stream",
     "text": [
      "<string>:2: RuntimeWarning: divide by zero encountered in log\n",
      "<string>:2: RuntimeWarning: divide by zero encountered in log\n",
      "<string>:2: RuntimeWarning: divide by zero encountered in log\n",
      "<string>:2: RuntimeWarning: divide by zero encountered in log\n",
      "<string>:2: RuntimeWarning: divide by zero encountered in log\n",
      "<string>:2: RuntimeWarning: divide by zero encountered in log\n"
     ]
    },
    {
     "name": "stdout",
     "output_type": "stream",
     "text": [
      "[feateng]            6000/           9757 features transformed\r"
     ]
    },
    {
     "name": "stderr",
     "output_type": "stream",
     "text": [
      "<string>:2: RuntimeWarning: divide by zero encountered in log\n",
      "<string>:2: RuntimeWarning: divide by zero encountered in log\n",
      "<string>:2: RuntimeWarning: divide by zero encountered in log\n",
      "<string>:2: RuntimeWarning: divide by zero encountered in log\n",
      "<string>:2: RuntimeWarning: divide by zero encountered in log\n"
     ]
    },
    {
     "name": "stdout",
     "output_type": "stream",
     "text": [
      "[feateng]            6100/           9757 features transformed\r"
     ]
    },
    {
     "name": "stderr",
     "output_type": "stream",
     "text": [
      "<string>:2: RuntimeWarning: divide by zero encountered in log\n",
      "<string>:2: RuntimeWarning: divide by zero encountered in log\n",
      "<string>:2: RuntimeWarning: divide by zero encountered in log\n",
      "<string>:2: RuntimeWarning: divide by zero encountered in log\n",
      "<string>:2: RuntimeWarning: divide by zero encountered in log\n"
     ]
    },
    {
     "name": "stdout",
     "output_type": "stream",
     "text": [
      "[feateng]            6200/           9757 features transformed\r"
     ]
    },
    {
     "name": "stderr",
     "output_type": "stream",
     "text": [
      "<string>:2: RuntimeWarning: divide by zero encountered in log\n"
     ]
    },
    {
     "name": "stdout",
     "output_type": "stream",
     "text": [
      "[feateng]            6300/           9757 features transformed\r"
     ]
    },
    {
     "name": "stderr",
     "output_type": "stream",
     "text": [
      "<string>:2: RuntimeWarning: divide by zero encountered in log\n",
      "<string>:2: RuntimeWarning: divide by zero encountered in log\n",
      "<string>:2: RuntimeWarning: divide by zero encountered in log\n"
     ]
    },
    {
     "name": "stdout",
     "output_type": "stream",
     "text": [
      "[feateng]            6400/           9757 features transformed\r"
     ]
    },
    {
     "name": "stderr",
     "output_type": "stream",
     "text": [
      "<string>:2: RuntimeWarning: divide by zero encountered in log\n",
      "<string>:2: RuntimeWarning: divide by zero encountered in log\n",
      "<string>:2: RuntimeWarning: divide by zero encountered in log\n",
      "<string>:2: RuntimeWarning: divide by zero encountered in log\n"
     ]
    },
    {
     "name": "stdout",
     "output_type": "stream",
     "text": [
      "[feateng]            6500/           9757 features transformed\r"
     ]
    },
    {
     "name": "stderr",
     "output_type": "stream",
     "text": [
      "<string>:2: RuntimeWarning: divide by zero encountered in log\n",
      "<string>:2: RuntimeWarning: divide by zero encountered in log\n",
      "<string>:2: RuntimeWarning: divide by zero encountered in log\n",
      "<string>:2: RuntimeWarning: divide by zero encountered in log\n",
      "<string>:2: RuntimeWarning: divide by zero encountered in log\n"
     ]
    },
    {
     "name": "stdout",
     "output_type": "stream",
     "text": [
      "[feateng]            6600/           9757 features transformed\r"
     ]
    },
    {
     "name": "stderr",
     "output_type": "stream",
     "text": [
      "<string>:2: RuntimeWarning: divide by zero encountered in log\n",
      "<string>:2: RuntimeWarning: divide by zero encountered in log\n",
      "<string>:2: RuntimeWarning: divide by zero encountered in log\n",
      "<string>:2: RuntimeWarning: divide by zero encountered in log\n",
      "<string>:2: RuntimeWarning: divide by zero encountered in log\n",
      "<string>:2: RuntimeWarning: divide by zero encountered in log\n"
     ]
    },
    {
     "name": "stdout",
     "output_type": "stream",
     "text": [
      "[feateng]            6700/           9757 features transformed\r"
     ]
    },
    {
     "name": "stderr",
     "output_type": "stream",
     "text": [
      "<string>:2: RuntimeWarning: divide by zero encountered in log\n",
      "<string>:2: RuntimeWarning: divide by zero encountered in log\n",
      "<string>:2: RuntimeWarning: divide by zero encountered in log\n",
      "<string>:2: RuntimeWarning: divide by zero encountered in log\n",
      "<string>:2: RuntimeWarning: divide by zero encountered in log\n",
      "<string>:2: RuntimeWarning: divide by zero encountered in log\n"
     ]
    },
    {
     "name": "stdout",
     "output_type": "stream",
     "text": [
      "[feateng]            6800/           9757 features transformed\r"
     ]
    },
    {
     "name": "stderr",
     "output_type": "stream",
     "text": [
      "<string>:2: RuntimeWarning: divide by zero encountered in log\n",
      "<string>:2: RuntimeWarning: divide by zero encountered in log\n",
      "<string>:2: RuntimeWarning: divide by zero encountered in log\n",
      "<string>:2: RuntimeWarning: divide by zero encountered in log\n",
      "<string>:2: RuntimeWarning: divide by zero encountered in log\n",
      "<string>:2: RuntimeWarning: divide by zero encountered in log\n",
      "<string>:2: RuntimeWarning: divide by zero encountered in log\n",
      "<string>:2: RuntimeWarning: divide by zero encountered in log\n",
      "<string>:2: RuntimeWarning: divide by zero encountered in log\n",
      "<string>:2: RuntimeWarning: divide by zero encountered in log\n",
      "<string>:2: RuntimeWarning: divide by zero encountered in log\n",
      "<string>:2: RuntimeWarning: divide by zero encountered in log\n",
      "<string>:2: RuntimeWarning: divide by zero encountered in log\n",
      "<string>:2: RuntimeWarning: divide by zero encountered in log\n",
      "<string>:2: RuntimeWarning: divide by zero encountered in log\n",
      "<string>:2: RuntimeWarning: divide by zero encountered in log\n"
     ]
    },
    {
     "name": "stdout",
     "output_type": "stream",
     "text": [
      "[feateng]            6900/           9757 features transformed\r"
     ]
    },
    {
     "name": "stderr",
     "output_type": "stream",
     "text": [
      "<string>:2: RuntimeWarning: divide by zero encountered in log\n",
      "<string>:2: RuntimeWarning: divide by zero encountered in log\n",
      "<string>:2: RuntimeWarning: divide by zero encountered in log\n",
      "<string>:2: RuntimeWarning: divide by zero encountered in log\n",
      "<string>:2: RuntimeWarning: divide by zero encountered in log\n",
      "<string>:2: RuntimeWarning: divide by zero encountered in log\n",
      "<string>:2: RuntimeWarning: divide by zero encountered in log\n",
      "<string>:2: RuntimeWarning: divide by zero encountered in log\n",
      "<string>:2: RuntimeWarning: divide by zero encountered in log\n",
      "<string>:2: RuntimeWarning: divide by zero encountered in log\n",
      "<string>:2: RuntimeWarning: divide by zero encountered in log\n",
      "<string>:2: RuntimeWarning: divide by zero encountered in log\n",
      "<string>:2: RuntimeWarning: divide by zero encountered in log\n",
      "<string>:2: RuntimeWarning: divide by zero encountered in log\n",
      "<string>:2: RuntimeWarning: divide by zero encountered in log\n",
      "<string>:2: RuntimeWarning: divide by zero encountered in log\n",
      "<string>:2: RuntimeWarning: divide by zero encountered in log\n",
      "<string>:2: RuntimeWarning: divide by zero encountered in log\n",
      "<string>:2: RuntimeWarning: divide by zero encountered in log\n",
      "<string>:2: RuntimeWarning: divide by zero encountered in log\n",
      "<string>:2: RuntimeWarning: divide by zero encountered in log\n",
      "<string>:2: RuntimeWarning: divide by zero encountered in log\n",
      "<string>:2: RuntimeWarning: divide by zero encountered in log\n",
      "<string>:2: RuntimeWarning: divide by zero encountered in log\n"
     ]
    },
    {
     "name": "stdout",
     "output_type": "stream",
     "text": [
      "[feateng]            7000/           9757 features transformed\r"
     ]
    },
    {
     "name": "stderr",
     "output_type": "stream",
     "text": [
      "<string>:2: RuntimeWarning: divide by zero encountered in log\n",
      "<string>:2: RuntimeWarning: divide by zero encountered in log\n",
      "<string>:2: RuntimeWarning: divide by zero encountered in log\n",
      "<string>:2: RuntimeWarning: divide by zero encountered in log\n",
      "<string>:2: RuntimeWarning: divide by zero encountered in log\n",
      "<string>:2: RuntimeWarning: divide by zero encountered in log\n",
      "<string>:2: RuntimeWarning: divide by zero encountered in log\n",
      "<string>:2: RuntimeWarning: divide by zero encountered in log\n",
      "<string>:2: RuntimeWarning: divide by zero encountered in log\n",
      "<string>:2: RuntimeWarning: divide by zero encountered in log\n",
      "<string>:2: RuntimeWarning: divide by zero encountered in log\n",
      "<string>:2: RuntimeWarning: divide by zero encountered in log\n",
      "<string>:2: RuntimeWarning: divide by zero encountered in log\n",
      "<string>:2: RuntimeWarning: divide by zero encountered in log\n",
      "<string>:2: RuntimeWarning: divide by zero encountered in log\n",
      "<string>:2: RuntimeWarning: divide by zero encountered in log\n",
      "<string>:2: RuntimeWarning: divide by zero encountered in log\n",
      "<string>:2: RuntimeWarning: divide by zero encountered in log\n",
      "<string>:2: RuntimeWarning: divide by zero encountered in log\n",
      "<string>:2: RuntimeWarning: divide by zero encountered in log\n",
      "<string>:2: RuntimeWarning: divide by zero encountered in log\n",
      "<string>:2: RuntimeWarning: divide by zero encountered in log\n"
     ]
    },
    {
     "name": "stdout",
     "output_type": "stream",
     "text": [
      "[feateng]            7100/           9757 features transformed\r"
     ]
    },
    {
     "name": "stderr",
     "output_type": "stream",
     "text": [
      "<string>:2: RuntimeWarning: divide by zero encountered in log\n",
      "<string>:2: RuntimeWarning: divide by zero encountered in log\n",
      "<string>:2: RuntimeWarning: divide by zero encountered in log\n",
      "<string>:2: RuntimeWarning: divide by zero encountered in log\n",
      "<string>:2: RuntimeWarning: divide by zero encountered in log\n",
      "<string>:2: RuntimeWarning: divide by zero encountered in log\n",
      "<string>:2: RuntimeWarning: divide by zero encountered in log\n",
      "<string>:2: RuntimeWarning: divide by zero encountered in log\n",
      "<string>:2: RuntimeWarning: divide by zero encountered in log\n",
      "<string>:2: RuntimeWarning: divide by zero encountered in log\n",
      "<string>:2: RuntimeWarning: divide by zero encountered in log\n",
      "<string>:2: RuntimeWarning: divide by zero encountered in log\n",
      "<string>:2: RuntimeWarning: divide by zero encountered in log\n",
      "<string>:2: RuntimeWarning: divide by zero encountered in log\n",
      "<string>:2: RuntimeWarning: divide by zero encountered in log\n",
      "<string>:2: RuntimeWarning: divide by zero encountered in log\n",
      "<string>:2: RuntimeWarning: divide by zero encountered in log\n",
      "<string>:2: RuntimeWarning: divide by zero encountered in log\n",
      "<string>:2: RuntimeWarning: divide by zero encountered in log\n",
      "<string>:2: RuntimeWarning: divide by zero encountered in log\n",
      "<string>:2: RuntimeWarning: divide by zero encountered in log\n",
      "<string>:2: RuntimeWarning: divide by zero encountered in log\n",
      "<string>:2: RuntimeWarning: divide by zero encountered in log\n",
      "<string>:2: RuntimeWarning: divide by zero encountered in log\n",
      "<string>:2: RuntimeWarning: divide by zero encountered in log\n",
      "<string>:2: RuntimeWarning: divide by zero encountered in log\n",
      "<string>:2: RuntimeWarning: divide by zero encountered in log\n"
     ]
    },
    {
     "name": "stdout",
     "output_type": "stream",
     "text": [
      "[feateng]            7200/           9757 features transformed\r"
     ]
    },
    {
     "name": "stderr",
     "output_type": "stream",
     "text": [
      "<string>:2: RuntimeWarning: divide by zero encountered in log\n",
      "<string>:2: RuntimeWarning: divide by zero encountered in log\n",
      "<string>:2: RuntimeWarning: divide by zero encountered in log\n",
      "<string>:2: RuntimeWarning: divide by zero encountered in log\n",
      "<string>:2: RuntimeWarning: divide by zero encountered in log\n",
      "<string>:2: RuntimeWarning: divide by zero encountered in log\n",
      "<string>:2: RuntimeWarning: divide by zero encountered in log\n",
      "<string>:2: RuntimeWarning: divide by zero encountered in log\n",
      "<string>:2: RuntimeWarning: divide by zero encountered in log\n",
      "<string>:2: RuntimeWarning: divide by zero encountered in log\n",
      "<string>:2: RuntimeWarning: divide by zero encountered in log\n",
      "<string>:2: RuntimeWarning: divide by zero encountered in log\n",
      "<string>:2: RuntimeWarning: divide by zero encountered in log\n",
      "<string>:2: RuntimeWarning: divide by zero encountered in log\n",
      "<string>:2: RuntimeWarning: divide by zero encountered in log\n",
      "<string>:2: RuntimeWarning: divide by zero encountered in log\n",
      "<string>:2: RuntimeWarning: divide by zero encountered in log\n",
      "<string>:2: RuntimeWarning: divide by zero encountered in log\n",
      "<string>:2: RuntimeWarning: divide by zero encountered in log\n",
      "<string>:2: RuntimeWarning: divide by zero encountered in log\n",
      "<string>:2: RuntimeWarning: divide by zero encountered in log\n",
      "<string>:2: RuntimeWarning: divide by zero encountered in log\n"
     ]
    },
    {
     "name": "stdout",
     "output_type": "stream",
     "text": [
      "[feateng]            7300/           9757 features transformed\r"
     ]
    },
    {
     "name": "stderr",
     "output_type": "stream",
     "text": [
      "<string>:2: RuntimeWarning: divide by zero encountered in log\n",
      "<string>:2: RuntimeWarning: divide by zero encountered in log\n",
      "<string>:2: RuntimeWarning: divide by zero encountered in log\n",
      "<string>:2: RuntimeWarning: divide by zero encountered in log\n",
      "<string>:2: RuntimeWarning: divide by zero encountered in log\n"
     ]
    },
    {
     "name": "stdout",
     "output_type": "stream",
     "text": [
      "[feateng]            7400/           9757 features transformed\r"
     ]
    },
    {
     "name": "stderr",
     "output_type": "stream",
     "text": [
      "<string>:2: RuntimeWarning: divide by zero encountered in log\n",
      "<string>:2: RuntimeWarning: divide by zero encountered in log\n",
      "<string>:2: RuntimeWarning: divide by zero encountered in log\n",
      "<string>:2: RuntimeWarning: divide by zero encountered in log\n"
     ]
    },
    {
     "name": "stdout",
     "output_type": "stream",
     "text": [
      "[feateng]            7500/           9757 features transformed\r"
     ]
    },
    {
     "name": "stderr",
     "output_type": "stream",
     "text": [
      "<string>:2: RuntimeWarning: divide by zero encountered in log\n",
      "<string>:2: RuntimeWarning: divide by zero encountered in log\n",
      "<string>:2: RuntimeWarning: divide by zero encountered in log\n"
     ]
    },
    {
     "name": "stdout",
     "output_type": "stream",
     "text": [
      "[feateng]            7700/           9757 features transformed\r"
     ]
    },
    {
     "name": "stderr",
     "output_type": "stream",
     "text": [
      "<string>:2: RuntimeWarning: divide by zero encountered in log\n",
      "<string>:2: RuntimeWarning: divide by zero encountered in log\n",
      "<string>:2: RuntimeWarning: divide by zero encountered in log\n",
      "<string>:2: RuntimeWarning: divide by zero encountered in log\n",
      "<string>:2: RuntimeWarning: divide by zero encountered in log\n"
     ]
    },
    {
     "name": "stdout",
     "output_type": "stream",
     "text": [
      "[feateng]            7800/           9757 features transformed\r"
     ]
    },
    {
     "name": "stderr",
     "output_type": "stream",
     "text": [
      "<string>:2: RuntimeWarning: divide by zero encountered in log\n",
      "<string>:2: RuntimeWarning: divide by zero encountered in log\n",
      "<string>:2: RuntimeWarning: divide by zero encountered in log\n",
      "<string>:2: RuntimeWarning: divide by zero encountered in log\n",
      "<string>:2: RuntimeWarning: divide by zero encountered in log\n"
     ]
    },
    {
     "name": "stdout",
     "output_type": "stream",
     "text": [
      "[feateng]            7900/           9757 features transformed\r"
     ]
    },
    {
     "name": "stderr",
     "output_type": "stream",
     "text": [
      "<string>:2: RuntimeWarning: divide by zero encountered in log\n",
      "<string>:2: RuntimeWarning: divide by zero encountered in log\n",
      "<string>:2: RuntimeWarning: divide by zero encountered in log\n",
      "<string>:2: RuntimeWarning: divide by zero encountered in log\n",
      "<string>:2: RuntimeWarning: divide by zero encountered in log\n"
     ]
    },
    {
     "name": "stdout",
     "output_type": "stream",
     "text": [
      "[feateng]            8000/           9757 features transformed\r"
     ]
    },
    {
     "name": "stderr",
     "output_type": "stream",
     "text": [
      "<string>:2: RuntimeWarning: divide by zero encountered in log\n",
      "<string>:2: RuntimeWarning: divide by zero encountered in log\n",
      "<string>:2: RuntimeWarning: divide by zero encountered in log\n",
      "<string>:2: RuntimeWarning: divide by zero encountered in log\n",
      "<string>:2: RuntimeWarning: divide by zero encountered in log\n",
      "<string>:2: RuntimeWarning: divide by zero encountered in log\n"
     ]
    },
    {
     "name": "stdout",
     "output_type": "stream",
     "text": [
      "[feateng]            8100/           9757 features transformed\r"
     ]
    },
    {
     "name": "stderr",
     "output_type": "stream",
     "text": [
      "<string>:2: RuntimeWarning: divide by zero encountered in log\n",
      "<string>:2: RuntimeWarning: divide by zero encountered in log\n",
      "<string>:2: RuntimeWarning: divide by zero encountered in log\n"
     ]
    },
    {
     "name": "stdout",
     "output_type": "stream",
     "text": [
      "[feateng]            8200/           9757 features transformed\r"
     ]
    },
    {
     "name": "stderr",
     "output_type": "stream",
     "text": [
      "<string>:2: RuntimeWarning: divide by zero encountered in log\n",
      "<string>:2: RuntimeWarning: divide by zero encountered in log\n",
      "<string>:2: RuntimeWarning: divide by zero encountered in log\n",
      "<string>:2: RuntimeWarning: divide by zero encountered in log\n",
      "<string>:2: RuntimeWarning: divide by zero encountered in log\n",
      "<string>:2: RuntimeWarning: divide by zero encountered in log\n"
     ]
    },
    {
     "name": "stdout",
     "output_type": "stream",
     "text": [
      "[feateng]            8400/           9757 features transformed\r"
     ]
    },
    {
     "name": "stderr",
     "output_type": "stream",
     "text": [
      "<string>:2: RuntimeWarning: divide by zero encountered in log\n",
      "<string>:2: RuntimeWarning: divide by zero encountered in log\n",
      "<string>:2: RuntimeWarning: divide by zero encountered in log\n",
      "<string>:2: RuntimeWarning: divide by zero encountered in log\n",
      "<string>:2: RuntimeWarning: divide by zero encountered in log\n",
      "<string>:2: RuntimeWarning: divide by zero encountered in log\n"
     ]
    },
    {
     "name": "stdout",
     "output_type": "stream",
     "text": [
      "[feateng]            8500/           9757 features transformed\r"
     ]
    },
    {
     "name": "stderr",
     "output_type": "stream",
     "text": [
      "<string>:2: RuntimeWarning: divide by zero encountered in log\n",
      "<string>:2: RuntimeWarning: divide by zero encountered in log\n",
      "<string>:2: RuntimeWarning: divide by zero encountered in log\n",
      "<string>:2: RuntimeWarning: divide by zero encountered in log\n",
      "<string>:2: RuntimeWarning: divide by zero encountered in log\n",
      "<string>:2: RuntimeWarning: divide by zero encountered in log\n"
     ]
    },
    {
     "name": "stdout",
     "output_type": "stream",
     "text": [
      "[feateng]            8600/           9757 features transformed\r"
     ]
    },
    {
     "name": "stderr",
     "output_type": "stream",
     "text": [
      "<string>:2: RuntimeWarning: divide by zero encountered in log\n",
      "<string>:2: RuntimeWarning: divide by zero encountered in log\n",
      "<string>:2: RuntimeWarning: divide by zero encountered in log\n",
      "<string>:2: RuntimeWarning: divide by zero encountered in log\n",
      "<string>:2: RuntimeWarning: divide by zero encountered in log\n",
      "<string>:2: RuntimeWarning: divide by zero encountered in log\n",
      "<string>:2: RuntimeWarning: divide by zero encountered in log\n",
      "<string>:2: RuntimeWarning: divide by zero encountered in log\n",
      "<string>:2: RuntimeWarning: divide by zero encountered in log\n"
     ]
    },
    {
     "name": "stdout",
     "output_type": "stream",
     "text": [
      "[feateng]            8700/           9757 features transformed\r"
     ]
    },
    {
     "name": "stderr",
     "output_type": "stream",
     "text": [
      "<string>:2: RuntimeWarning: divide by zero encountered in log\n",
      "<string>:2: RuntimeWarning: divide by zero encountered in log\n",
      "<string>:2: RuntimeWarning: divide by zero encountered in log\n",
      "<string>:2: RuntimeWarning: divide by zero encountered in log\n",
      "<string>:2: RuntimeWarning: divide by zero encountered in log\n",
      "<string>:2: RuntimeWarning: divide by zero encountered in log\n",
      "<string>:2: RuntimeWarning: divide by zero encountered in log\n",
      "<string>:2: RuntimeWarning: divide by zero encountered in log\n",
      "<string>:2: RuntimeWarning: divide by zero encountered in log\n",
      "<string>:2: RuntimeWarning: divide by zero encountered in log\n",
      "<string>:2: RuntimeWarning: divide by zero encountered in log\n",
      "<string>:2: RuntimeWarning: divide by zero encountered in log\n",
      "<string>:2: RuntimeWarning: divide by zero encountered in log\n",
      "<string>:2: RuntimeWarning: divide by zero encountered in log\n"
     ]
    },
    {
     "name": "stdout",
     "output_type": "stream",
     "text": [
      "[feateng]            8800/           9757 features transformed\r"
     ]
    },
    {
     "name": "stderr",
     "output_type": "stream",
     "text": [
      "<string>:2: RuntimeWarning: divide by zero encountered in log\n",
      "<string>:2: RuntimeWarning: divide by zero encountered in log\n",
      "<string>:2: RuntimeWarning: divide by zero encountered in log\n",
      "<string>:2: RuntimeWarning: divide by zero encountered in log\n",
      "<string>:2: RuntimeWarning: divide by zero encountered in log\n",
      "<string>:2: RuntimeWarning: divide by zero encountered in log\n",
      "<string>:2: RuntimeWarning: divide by zero encountered in log\n",
      "<string>:2: RuntimeWarning: divide by zero encountered in log\n",
      "<string>:2: RuntimeWarning: divide by zero encountered in log\n",
      "<string>:2: RuntimeWarning: divide by zero encountered in log\n",
      "<string>:2: RuntimeWarning: divide by zero encountered in log\n",
      "<string>:2: RuntimeWarning: divide by zero encountered in log\n",
      "<string>:2: RuntimeWarning: divide by zero encountered in log\n",
      "<string>:2: RuntimeWarning: divide by zero encountered in log\n",
      "<string>:2: RuntimeWarning: divide by zero encountered in log\n",
      "<string>:2: RuntimeWarning: divide by zero encountered in log\n",
      "<string>:2: RuntimeWarning: divide by zero encountered in log\n",
      "<string>:2: RuntimeWarning: divide by zero encountered in log\n",
      "<string>:2: RuntimeWarning: divide by zero encountered in log\n",
      "<string>:2: RuntimeWarning: divide by zero encountered in log\n",
      "<string>:2: RuntimeWarning: divide by zero encountered in log\n",
      "<string>:2: RuntimeWarning: divide by zero encountered in log\n",
      "<string>:2: RuntimeWarning: divide by zero encountered in log\n",
      "<string>:2: RuntimeWarning: divide by zero encountered in log\n",
      "<string>:2: RuntimeWarning: divide by zero encountered in log\n",
      "<string>:2: RuntimeWarning: divide by zero encountered in log\n",
      "<string>:2: RuntimeWarning: divide by zero encountered in log\n",
      "<string>:2: RuntimeWarning: divide by zero encountered in log\n"
     ]
    },
    {
     "name": "stdout",
     "output_type": "stream",
     "text": [
      "[feateng]            8900/           9757 features transformed\r"
     ]
    },
    {
     "name": "stderr",
     "output_type": "stream",
     "text": [
      "<string>:2: RuntimeWarning: divide by zero encountered in log\n",
      "<string>:2: RuntimeWarning: divide by zero encountered in log\n",
      "<string>:2: RuntimeWarning: divide by zero encountered in log\n",
      "<string>:2: RuntimeWarning: divide by zero encountered in log\n",
      "<string>:2: RuntimeWarning: divide by zero encountered in log\n",
      "<string>:2: RuntimeWarning: divide by zero encountered in log\n",
      "<string>:2: RuntimeWarning: divide by zero encountered in log\n",
      "<string>:2: RuntimeWarning: divide by zero encountered in log\n",
      "<string>:2: RuntimeWarning: divide by zero encountered in log\n",
      "<string>:2: RuntimeWarning: divide by zero encountered in log\n",
      "<string>:2: RuntimeWarning: divide by zero encountered in log\n",
      "<string>:2: RuntimeWarning: divide by zero encountered in log\n",
      "<string>:2: RuntimeWarning: divide by zero encountered in log\n",
      "<string>:2: RuntimeWarning: divide by zero encountered in log\n",
      "<string>:2: RuntimeWarning: divide by zero encountered in log\n",
      "<string>:2: RuntimeWarning: divide by zero encountered in log\n",
      "<string>:2: RuntimeWarning: divide by zero encountered in log\n",
      "<string>:2: RuntimeWarning: divide by zero encountered in log\n",
      "<string>:2: RuntimeWarning: divide by zero encountered in log\n",
      "<string>:2: RuntimeWarning: divide by zero encountered in log\n",
      "<string>:2: RuntimeWarning: divide by zero encountered in log\n",
      "<string>:2: RuntimeWarning: divide by zero encountered in log\n",
      "<string>:2: RuntimeWarning: divide by zero encountered in log\n",
      "<string>:2: RuntimeWarning: divide by zero encountered in log\n",
      "<string>:2: RuntimeWarning: divide by zero encountered in log\n",
      "<string>:2: RuntimeWarning: divide by zero encountered in log\n",
      "<string>:2: RuntimeWarning: divide by zero encountered in log\n",
      "<string>:2: RuntimeWarning: divide by zero encountered in log\n"
     ]
    },
    {
     "name": "stdout",
     "output_type": "stream",
     "text": [
      "[feateng]            9000/           9757 features transformed\r"
     ]
    },
    {
     "name": "stderr",
     "output_type": "stream",
     "text": [
      "<string>:2: RuntimeWarning: divide by zero encountered in log\n",
      "<string>:2: RuntimeWarning: divide by zero encountered in log\n",
      "<string>:2: RuntimeWarning: divide by zero encountered in log\n",
      "<string>:2: RuntimeWarning: divide by zero encountered in log\n",
      "<string>:2: RuntimeWarning: divide by zero encountered in log\n",
      "<string>:2: RuntimeWarning: divide by zero encountered in log\n",
      "<string>:2: RuntimeWarning: divide by zero encountered in log\n",
      "<string>:2: RuntimeWarning: divide by zero encountered in log\n",
      "<string>:2: RuntimeWarning: divide by zero encountered in log\n",
      "<string>:2: RuntimeWarning: divide by zero encountered in log\n"
     ]
    },
    {
     "name": "stdout",
     "output_type": "stream",
     "text": [
      "[feateng]            9100/           9757 features transformed\r"
     ]
    },
    {
     "name": "stderr",
     "output_type": "stream",
     "text": [
      "<string>:2: RuntimeWarning: divide by zero encountered in log\n",
      "<string>:2: RuntimeWarning: divide by zero encountered in log\n",
      "<string>:2: RuntimeWarning: divide by zero encountered in log\n",
      "<string>:2: RuntimeWarning: divide by zero encountered in log\n",
      "<string>:2: RuntimeWarning: divide by zero encountered in log\n"
     ]
    },
    {
     "name": "stdout",
     "output_type": "stream",
     "text": [
      "[feateng]            9200/           9757 features transformed\r"
     ]
    },
    {
     "name": "stderr",
     "output_type": "stream",
     "text": [
      "<string>:2: RuntimeWarning: divide by zero encountered in log\n",
      "<string>:2: RuntimeWarning: divide by zero encountered in log\n",
      "<string>:2: RuntimeWarning: divide by zero encountered in log\n",
      "<string>:2: RuntimeWarning: divide by zero encountered in log\n",
      "<string>:2: RuntimeWarning: divide by zero encountered in log\n",
      "<string>:2: RuntimeWarning: divide by zero encountered in log\n",
      "<string>:2: RuntimeWarning: divide by zero encountered in log\n",
      "<string>:2: RuntimeWarning: divide by zero encountered in log\n",
      "<string>:2: RuntimeWarning: divide by zero encountered in log\n"
     ]
    },
    {
     "name": "stdout",
     "output_type": "stream",
     "text": [
      "[feateng]            9300/           9757 features transformed\r"
     ]
    },
    {
     "name": "stderr",
     "output_type": "stream",
     "text": [
      "<string>:2: RuntimeWarning: divide by zero encountered in log\n",
      "<string>:2: RuntimeWarning: divide by zero encountered in log\n",
      "<string>:2: RuntimeWarning: divide by zero encountered in log\n",
      "<string>:2: RuntimeWarning: divide by zero encountered in log\n",
      "<string>:2: RuntimeWarning: divide by zero encountered in log\n",
      "<string>:2: RuntimeWarning: divide by zero encountered in log\n",
      "<string>:2: RuntimeWarning: divide by zero encountered in log\n",
      "<string>:2: RuntimeWarning: divide by zero encountered in log\n",
      "<string>:2: RuntimeWarning: divide by zero encountered in log\n",
      "<string>:2: RuntimeWarning: divide by zero encountered in log\n",
      "<string>:2: RuntimeWarning: divide by zero encountered in log\n",
      "<string>:2: RuntimeWarning: divide by zero encountered in log\n",
      "<string>:2: RuntimeWarning: divide by zero encountered in log\n",
      "<string>:2: RuntimeWarning: divide by zero encountered in log\n",
      "<string>:2: RuntimeWarning: divide by zero encountered in log\n",
      "<string>:2: RuntimeWarning: divide by zero encountered in log\n",
      "<string>:2: RuntimeWarning: divide by zero encountered in log\n",
      "<string>:2: RuntimeWarning: divide by zero encountered in log\n",
      "<string>:2: RuntimeWarning: divide by zero encountered in log\n"
     ]
    },
    {
     "name": "stdout",
     "output_type": "stream",
     "text": [
      "[feateng]            9400/           9757 features transformed\r"
     ]
    },
    {
     "name": "stderr",
     "output_type": "stream",
     "text": [
      "<string>:2: RuntimeWarning: divide by zero encountered in log\n",
      "<string>:2: RuntimeWarning: divide by zero encountered in log\n",
      "<string>:2: RuntimeWarning: divide by zero encountered in log\n",
      "<string>:2: RuntimeWarning: divide by zero encountered in log\n",
      "<string>:2: RuntimeWarning: divide by zero encountered in log\n",
      "<string>:2: RuntimeWarning: divide by zero encountered in log\n",
      "<string>:2: RuntimeWarning: divide by zero encountered in log\n",
      "<string>:2: RuntimeWarning: divide by zero encountered in log\n",
      "<string>:2: RuntimeWarning: divide by zero encountered in log\n"
     ]
    },
    {
     "name": "stdout",
     "output_type": "stream",
     "text": [
      "[feateng]            9500/           9757 features transformed\r"
     ]
    },
    {
     "name": "stderr",
     "output_type": "stream",
     "text": [
      "<string>:2: RuntimeWarning: divide by zero encountered in log\n",
      "<string>:2: RuntimeWarning: divide by zero encountered in log\n",
      "<string>:2: RuntimeWarning: divide by zero encountered in log\n",
      "<string>:2: RuntimeWarning: divide by zero encountered in log\n",
      "<string>:2: RuntimeWarning: divide by zero encountered in log\n",
      "<string>:2: RuntimeWarning: divide by zero encountered in log\n",
      "<string>:2: RuntimeWarning: divide by zero encountered in log\n",
      "<string>:2: RuntimeWarning: divide by zero encountered in log\n",
      "<string>:2: RuntimeWarning: divide by zero encountered in log\n",
      "<string>:2: RuntimeWarning: divide by zero encountered in log\n",
      "<string>:2: RuntimeWarning: divide by zero encountered in log\n",
      "<string>:2: RuntimeWarning: divide by zero encountered in log\n",
      "<string>:2: RuntimeWarning: divide by zero encountered in log\n",
      "<string>:2: RuntimeWarning: divide by zero encountered in log\n",
      "<string>:2: RuntimeWarning: divide by zero encountered in log\n",
      "<string>:2: RuntimeWarning: divide by zero encountered in log\n",
      "<string>:2: RuntimeWarning: divide by zero encountered in log\n",
      "<string>:2: RuntimeWarning: divide by zero encountered in log\n",
      "<string>:2: RuntimeWarning: divide by zero encountered in log\n",
      "<string>:2: RuntimeWarning: divide by zero encountered in log\n",
      "<string>:2: RuntimeWarning: divide by zero encountered in log\n",
      "<string>:2: RuntimeWarning: divide by zero encountered in log\n"
     ]
    },
    {
     "name": "stdout",
     "output_type": "stream",
     "text": [
      "[feateng]            9600/           9757 features transformed\r"
     ]
    },
    {
     "name": "stderr",
     "output_type": "stream",
     "text": [
      "<string>:2: RuntimeWarning: divide by zero encountered in log\n",
      "<string>:2: RuntimeWarning: divide by zero encountered in log\n",
      "<string>:2: RuntimeWarning: divide by zero encountered in log\n",
      "<string>:2: RuntimeWarning: divide by zero encountered in log\n",
      "<string>:2: RuntimeWarning: divide by zero encountered in log\n",
      "<string>:2: RuntimeWarning: divide by zero encountered in log\n",
      "<string>:2: RuntimeWarning: divide by zero encountered in log\n",
      "<string>:2: RuntimeWarning: divide by zero encountered in log\n",
      "<string>:2: RuntimeWarning: divide by zero encountered in log\n",
      "<string>:2: RuntimeWarning: divide by zero encountered in log\n",
      "<string>:2: RuntimeWarning: divide by zero encountered in log\n",
      "<string>:2: RuntimeWarning: divide by zero encountered in log\n",
      "<string>:2: RuntimeWarning: divide by zero encountered in log\n",
      "<string>:2: RuntimeWarning: divide by zero encountered in log\n",
      "<string>:2: RuntimeWarning: divide by zero encountered in log\n",
      "<string>:2: RuntimeWarning: divide by zero encountered in log\n",
      "<string>:2: RuntimeWarning: divide by zero encountered in log\n"
     ]
    },
    {
     "name": "stdout",
     "output_type": "stream",
     "text": [
      "[feateng]            9700/           9757 features transformed\r"
     ]
    },
    {
     "name": "stderr",
     "output_type": "stream",
     "text": [
      "<string>:2: RuntimeWarning: divide by zero encountered in log\n",
      "<string>:2: RuntimeWarning: divide by zero encountered in log\n",
      "<string>:2: RuntimeWarning: divide by zero encountered in log\n",
      "<string>:2: RuntimeWarning: divide by zero encountered in log\n",
      "<string>:2: RuntimeWarning: divide by zero encountered in log\n",
      "<string>:2: RuntimeWarning: divide by zero encountered in log\n",
      "<string>:2: RuntimeWarning: divide by zero encountered in log\n",
      "<string>:2: RuntimeWarning: divide by zero encountered in log\n",
      "<string>:2: RuntimeWarning: divide by zero encountered in log\n",
      "<string>:2: RuntimeWarning: divide by zero encountered in log\n",
      "<string>:2: RuntimeWarning: divide by zero encountered in log\n"
     ]
    },
    {
     "name": "stdout",
     "output_type": "stream",
     "text": [
      "[feateng] Generated 40253 transformed features from 9757 original features - done.\n",
      "[feateng] Generated altogether 53189 new features in 3 steps\n",
      "[feateng] Removing correlated features, as well as additions at the highest level\n",
      "[feateng] Generated a total of 26798 additional features\n",
      "[featsel] Scaling data...done.\n",
      "[featsel] Feature selection run 1/5\n",
      "[featsel] Feature selection run 2/5\n",
      "[featsel] Feature selection run 3/5\n",
      "[featsel] Feature selection run 4/5\n",
      "[featsel] Feature selection run 5/5\n",
      "[featsel] 40 features after 5 feature selection runs\n",
      "[featsel] 22 features after correlation filtering\n",
      "[featsel] 11 features after noise filtering\n",
      "[AutoFeat] Computing 11 new features.\n",
      "[AutoFeat]    11/   11 new features ...done.\n",
      "[AutoFeat] Final dataframe with 24 feature columns (11 new).\n",
      "[AutoFeat] Training final regression model.\n",
      "[AutoFeat] Trained model: largest coefficients:\n",
      "35453.99635626434\n",
      "3219220.204492 * CTR*SearchLostISbudget**3\n",
      "-87477.869241 * (SearchImprshare - 1/quarter)**2\n",
      "-64723.373480 * SearchLostISrank*exp(1/AvgCPC)\n",
      "4455.929053 * sqrt(Conversions)*exp(SearchLostISbudget)\n",
      "93.253600 * sqrt(Zip_income)*exp(SearchLostISbudget)\n",
      "0.364117 * (Dayofweek**3 - sqrt(Zip_income))**2\n",
      "0.136810 * sqrt(log(quarter))*Abs(Zip_income)\n",
      "-0.125001 * SearchLostISbudget**(3/2)*month**6\n",
      "-0.105882 * exp(2*Dayofweek)*exp(2*SearchLostISbudget)\n",
      "-0.034124 * (AvgCPC**2 + exp(Dayofweek))**2\n",
      "[AutoFeat] Final score: 0.7490\n"
     ]
    }
   ],
   "source": [
    "afreg = AutoFeatRegressor(verbose=1, feateng_steps=3)\n",
    "df = afreg.fit_transform(X_train,y_train)"
   ]
  },
  {
   "cell_type": "code",
   "execution_count": 22,
   "metadata": {},
   "outputs": [
    {
     "data": {
      "text/html": [
       "<div>\n",
       "<style scoped>\n",
       "    .dataframe tbody tr th:only-of-type {\n",
       "        vertical-align: middle;\n",
       "    }\n",
       "\n",
       "    .dataframe tbody tr th {\n",
       "        vertical-align: top;\n",
       "    }\n",
       "\n",
       "    .dataframe thead th {\n",
       "        text-align: right;\n",
       "    }\n",
       "</style>\n",
       "<table border=\"1\" class=\"dataframe\">\n",
       "  <thead>\n",
       "    <tr style=\"text-align: right;\">\n",
       "      <th></th>\n",
       "      <th>Day of week</th>\n",
       "      <th>Cost</th>\n",
       "      <th>CTR</th>\n",
       "      <th>Avg. CPC</th>\n",
       "      <th>Conversions</th>\n",
       "      <th>Search Impr. share</th>\n",
       "      <th>Search Lost IS (rank)</th>\n",
       "      <th>Search Lost IS (budget)</th>\n",
       "      <th>Zip_income</th>\n",
       "      <th>day</th>\n",
       "      <th>...</th>\n",
       "      <th>sqrt(Conversions)*exp(SearchLostISbudget)</th>\n",
       "      <th>SearchLostISrank*exp(1/AvgCPC)</th>\n",
       "      <th>(SearchImprshare - 1/quarter)**2</th>\n",
       "      <th>(Dayofweek**3 - sqrt(Zip_income))**2</th>\n",
       "      <th>CTR*SearchLostISbudget**3</th>\n",
       "      <th>SearchLostISbudget**(3/2)*month**6</th>\n",
       "      <th>sqrt(log(quarter))*Abs(Zip_income)</th>\n",
       "      <th>exp(2*Dayofweek)*exp(2*SearchLostISbudget)</th>\n",
       "      <th>Dayofweek**6*Zip_income</th>\n",
       "      <th>(AvgCPC**2 + exp(Dayofweek))**2</th>\n",
       "    </tr>\n",
       "  </thead>\n",
       "  <tbody>\n",
       "    <tr>\n",
       "      <th>0</th>\n",
       "      <td>2.0</td>\n",
       "      <td>1298.05</td>\n",
       "      <td>0.0012</td>\n",
       "      <td>24.04</td>\n",
       "      <td>15.0</td>\n",
       "      <td>0.3500</td>\n",
       "      <td>0.0935</td>\n",
       "      <td>0.5565</td>\n",
       "      <td>80940.71000</td>\n",
       "      <td>2.0</td>\n",
       "      <td>...</td>\n",
       "      <td>6.756636</td>\n",
       "      <td>0.097471</td>\n",
       "      <td>0.422500</td>\n",
       "      <td>76452.697065</td>\n",
       "      <td>2.068125e-04</td>\n",
       "      <td>0.415143</td>\n",
       "      <td>0.0</td>\n",
       "      <td>166.168112</td>\n",
       "      <td>5.180205e+06</td>\n",
       "      <td>342588.564143</td>\n",
       "    </tr>\n",
       "    <tr>\n",
       "      <th>1</th>\n",
       "      <td>3.0</td>\n",
       "      <td>1480.26</td>\n",
       "      <td>0.0266</td>\n",
       "      <td>25.09</td>\n",
       "      <td>10.1</td>\n",
       "      <td>0.5233</td>\n",
       "      <td>0.1120</td>\n",
       "      <td>0.3647</td>\n",
       "      <td>40865.20000</td>\n",
       "      <td>3.0</td>\n",
       "      <td>...</td>\n",
       "      <td>4.576652</td>\n",
       "      <td>0.116554</td>\n",
       "      <td>0.227243</td>\n",
       "      <td>30678.022867</td>\n",
       "      <td>1.290295e-03</td>\n",
       "      <td>0.220244</td>\n",
       "      <td>0.0</td>\n",
       "      <td>836.645128</td>\n",
       "      <td>2.979073e+07</td>\n",
       "      <td>421971.893131</td>\n",
       "    </tr>\n",
       "    <tr>\n",
       "      <th>2</th>\n",
       "      <td>4.0</td>\n",
       "      <td>1953.52</td>\n",
       "      <td>0.0030</td>\n",
       "      <td>17.76</td>\n",
       "      <td>22.0</td>\n",
       "      <td>0.6041</td>\n",
       "      <td>0.2028</td>\n",
       "      <td>0.1931</td>\n",
       "      <td>88801.65125</td>\n",
       "      <td>4.0</td>\n",
       "      <td>...</td>\n",
       "      <td>5.689493</td>\n",
       "      <td>0.214547</td>\n",
       "      <td>0.156737</td>\n",
       "      <td>54754.155683</td>\n",
       "      <td>2.160071e-05</td>\n",
       "      <td>0.084854</td>\n",
       "      <td>0.0</td>\n",
       "      <td>4386.118735</td>\n",
       "      <td>3.637316e+08</td>\n",
       "      <td>136911.655273</td>\n",
       "    </tr>\n",
       "    <tr>\n",
       "      <th>3</th>\n",
       "      <td>5.0</td>\n",
       "      <td>2507.57</td>\n",
       "      <td>0.0068</td>\n",
       "      <td>20.39</td>\n",
       "      <td>29.5</td>\n",
       "      <td>0.7161</td>\n",
       "      <td>0.1884</td>\n",
       "      <td>0.0955</td>\n",
       "      <td>55627.00000</td>\n",
       "      <td>5.0</td>\n",
       "      <td>...</td>\n",
       "      <td>5.975663</td>\n",
       "      <td>0.197870</td>\n",
       "      <td>0.080599</td>\n",
       "      <td>12288.557936</td>\n",
       "      <td>5.922690e-06</td>\n",
       "      <td>0.029512</td>\n",
       "      <td>0.0</td>\n",
       "      <td>26662.143717</td>\n",
       "      <td>8.691719e+08</td>\n",
       "      <td>318282.439578</td>\n",
       "    </tr>\n",
       "    <tr>\n",
       "      <th>4</th>\n",
       "      <td>6.0</td>\n",
       "      <td>1591.91</td>\n",
       "      <td>0.0058</td>\n",
       "      <td>18.09</td>\n",
       "      <td>16.5</td>\n",
       "      <td>0.7447</td>\n",
       "      <td>0.2129</td>\n",
       "      <td>0.0424</td>\n",
       "      <td>34731.76000</td>\n",
       "      <td>6.0</td>\n",
       "      <td>...</td>\n",
       "      <td>4.237952</td>\n",
       "      <td>0.225000</td>\n",
       "      <td>0.065178</td>\n",
       "      <td>878.257590</td>\n",
       "      <td>4.421051e-07</td>\n",
       "      <td>0.008731</td>\n",
       "      <td>0.0</td>\n",
       "      <td>177158.483865</td>\n",
       "      <td>1.620445e+09</td>\n",
       "      <td>533888.722684</td>\n",
       "    </tr>\n",
       "  </tbody>\n",
       "</table>\n",
       "<p>5 rows × 24 columns</p>\n",
       "</div>"
      ],
      "text/plain": [
       "   Day of week     Cost     CTR  Avg. CPC  Conversions  Search Impr. share  \\\n",
       "0          2.0  1298.05  0.0012     24.04         15.0              0.3500   \n",
       "1          3.0  1480.26  0.0266     25.09         10.1              0.5233   \n",
       "2          4.0  1953.52  0.0030     17.76         22.0              0.6041   \n",
       "3          5.0  2507.57  0.0068     20.39         29.5              0.7161   \n",
       "4          6.0  1591.91  0.0058     18.09         16.5              0.7447   \n",
       "\n",
       "   Search Lost IS (rank)  Search Lost IS (budget)   Zip_income  day  ...  \\\n",
       "0                 0.0935                   0.5565  80940.71000  2.0  ...   \n",
       "1                 0.1120                   0.3647  40865.20000  3.0  ...   \n",
       "2                 0.2028                   0.1931  88801.65125  4.0  ...   \n",
       "3                 0.1884                   0.0955  55627.00000  5.0  ...   \n",
       "4                 0.2129                   0.0424  34731.76000  6.0  ...   \n",
       "\n",
       "   sqrt(Conversions)*exp(SearchLostISbudget)  SearchLostISrank*exp(1/AvgCPC)  \\\n",
       "0                                   6.756636                        0.097471   \n",
       "1                                   4.576652                        0.116554   \n",
       "2                                   5.689493                        0.214547   \n",
       "3                                   5.975663                        0.197870   \n",
       "4                                   4.237952                        0.225000   \n",
       "\n",
       "   (SearchImprshare - 1/quarter)**2  (Dayofweek**3 - sqrt(Zip_income))**2  \\\n",
       "0                          0.422500                          76452.697065   \n",
       "1                          0.227243                          30678.022867   \n",
       "2                          0.156737                          54754.155683   \n",
       "3                          0.080599                          12288.557936   \n",
       "4                          0.065178                            878.257590   \n",
       "\n",
       "   CTR*SearchLostISbudget**3  SearchLostISbudget**(3/2)*month**6  \\\n",
       "0               2.068125e-04                            0.415143   \n",
       "1               1.290295e-03                            0.220244   \n",
       "2               2.160071e-05                            0.084854   \n",
       "3               5.922690e-06                            0.029512   \n",
       "4               4.421051e-07                            0.008731   \n",
       "\n",
       "   sqrt(log(quarter))*Abs(Zip_income)  \\\n",
       "0                                 0.0   \n",
       "1                                 0.0   \n",
       "2                                 0.0   \n",
       "3                                 0.0   \n",
       "4                                 0.0   \n",
       "\n",
       "   exp(2*Dayofweek)*exp(2*SearchLostISbudget)  Dayofweek**6*Zip_income  \\\n",
       "0                                  166.168112             5.180205e+06   \n",
       "1                                  836.645128             2.979073e+07   \n",
       "2                                 4386.118735             3.637316e+08   \n",
       "3                                26662.143717             8.691719e+08   \n",
       "4                               177158.483865             1.620445e+09   \n",
       "\n",
       "   (AvgCPC**2 + exp(Dayofweek))**2  \n",
       "0                    342588.564143  \n",
       "1                    421971.893131  \n",
       "2                    136911.655273  \n",
       "3                    318282.439578  \n",
       "4                    533888.722684  \n",
       "\n",
       "[5 rows x 24 columns]"
      ]
     },
     "execution_count": 22,
     "metadata": {},
     "output_type": "execute_result"
    }
   ],
   "source": [
    "df.head()"
   ]
  },
  {
   "cell_type": "code",
   "execution_count": 23,
   "metadata": {},
   "outputs": [],
   "source": [
    "from sklearn.ensemble import ExtraTreesRegressor"
   ]
  },
  {
   "cell_type": "code",
   "execution_count": 24,
   "metadata": {},
   "outputs": [
    {
     "data": {
      "text/plain": [
       "ExtraTreesRegressor()"
      ]
     },
     "execution_count": 24,
     "metadata": {},
     "output_type": "execute_result"
    }
   ],
   "source": [
    "reg= ExtraTreesRegressor()\n",
    "reg.fit(df,y_train)"
   ]
  },
  {
   "cell_type": "code",
   "execution_count": 26,
   "metadata": {},
   "outputs": [
    {
     "data": {
      "image/png": "[encoded data removed]",
      "text/plain": [
       "<Figure size 432x288 with 1 Axes>"
      ]
     },
     "metadata": {
      "needs_background": "light"
     },
     "output_type": "display_data"
    }
   ],
   "source": [
    "feat_importances = pd.Series(reg.feature_importances_, index=df.columns)\n",
    "feat_importances.nlargest(10).plot(kind='barh')\n",
    "plt.show()"
   ]
  },
  {
   "cell_type": "code",
   "execution_count": 27,
   "metadata": {},
   "outputs": [
    {
     "data": {
      "text/plain": [
       "Index(['Day of week', 'Cost', 'CTR', 'Avg. CPC', 'Conversions',\n",
       "       'Search Impr. share', 'Search Lost IS (rank)',\n",
       "       'Search Lost IS (budget)', 'Zip_income', 'day', 'month', 'year',\n",
       "       'quarter', 'sqrt(Zip_income)*exp(SearchLostISbudget)',\n",
       "       'sqrt(Conversions)*exp(SearchLostISbudget)',\n",
       "       'SearchLostISrank*exp(1/AvgCPC)', '(SearchImprshare - 1/quarter)**2',\n",
       "       '(Dayofweek**3 - sqrt(Zip_income))**2', 'CTR*SearchLostISbudget**3',\n",
       "       'SearchLostISbudget**(3/2)*month**6',\n",
       "       'sqrt(log(quarter))*Abs(Zip_income)',\n",
       "       'exp(2*Dayofweek)*exp(2*SearchLostISbudget)', 'Dayofweek**6*Zip_income',\n",
       "       '(AvgCPC**2 + exp(Dayofweek))**2'],\n",
       "      dtype='object')"
      ]
     },
     "execution_count": 27,
     "metadata": {},
     "output_type": "execute_result"
    }
   ],
   "source": [
    "df.columns"
   ]
  },
  {
   "cell_type": "code",
   "execution_count": 35,
   "metadata": {},
   "outputs": [],
   "source": [
    "top_5_fe= df[['(Dayofweek**3 - sqrt(Zip_income))**2','sqrt(Zip_income)*exp(SearchLostISbudget)','Day of week','sqrt(Conversions)*exp(SearchLostISbudget)','Search Lost IS (rank)','exp(2*Dayofweek)*exp(2*SearchLostISbudget)','Search Lost IS (budget)','CTR*SearchLostISbudget**3','Zip_income','SearchLostISrank*exp(1/AvgCPC)']]"
   ]
  },
  {
   "cell_type": "code",
   "execution_count": 36,
   "metadata": {},
   "outputs": [
    {
     "data": {
      "text/html": [
       "<div>\n",
       "<style scoped>\n",
       "    .dataframe tbody tr th:only-of-type {\n",
       "        vertical-align: middle;\n",
       "    }\n",
       "\n",
       "    .dataframe tbody tr th {\n",
       "        vertical-align: top;\n",
       "    }\n",
       "\n",
       "    .dataframe thead th {\n",
       "        text-align: right;\n",
       "    }\n",
       "</style>\n",
       "<table border=\"1\" class=\"dataframe\">\n",
       "  <thead>\n",
       "    <tr style=\"text-align: right;\">\n",
       "      <th></th>\n",
       "      <th>(Dayofweek**3 - sqrt(Zip_income))**2</th>\n",
       "      <th>sqrt(Zip_income)*exp(SearchLostISbudget)</th>\n",
       "      <th>Day of week</th>\n",
       "      <th>sqrt(Conversions)*exp(SearchLostISbudget)</th>\n",
       "      <th>Search Lost IS (rank)</th>\n",
       "      <th>exp(2*Dayofweek)*exp(2*SearchLostISbudget)</th>\n",
       "      <th>Search Lost IS (budget)</th>\n",
       "      <th>CTR*SearchLostISbudget**3</th>\n",
       "      <th>Zip_income</th>\n",
       "      <th>SearchLostISrank*exp(1/AvgCPC)</th>\n",
       "    </tr>\n",
       "  </thead>\n",
       "  <tbody>\n",
       "    <tr>\n",
       "      <th>0</th>\n",
       "      <td>76452.697065</td>\n",
       "      <td>496.327552</td>\n",
       "      <td>2.0</td>\n",
       "      <td>6.756636</td>\n",
       "      <td>0.0935</td>\n",
       "      <td>166.168112</td>\n",
       "      <td>0.5565</td>\n",
       "      <td>2.068125e-04</td>\n",
       "      <td>80940.71000</td>\n",
       "      <td>0.097471</td>\n",
       "    </tr>\n",
       "    <tr>\n",
       "      <th>1</th>\n",
       "      <td>30678.022867</td>\n",
       "      <td>291.114617</td>\n",
       "      <td>3.0</td>\n",
       "      <td>4.576652</td>\n",
       "      <td>0.1120</td>\n",
       "      <td>836.645128</td>\n",
       "      <td>0.3647</td>\n",
       "      <td>1.290295e-03</td>\n",
       "      <td>40865.20000</td>\n",
       "      <td>0.116554</td>\n",
       "    </tr>\n",
       "    <tr>\n",
       "      <th>2</th>\n",
       "      <td>54754.155683</td>\n",
       "      <td>361.470438</td>\n",
       "      <td>4.0</td>\n",
       "      <td>5.689493</td>\n",
       "      <td>0.2028</td>\n",
       "      <td>4386.118735</td>\n",
       "      <td>0.1931</td>\n",
       "      <td>2.160071e-05</td>\n",
       "      <td>88801.65125</td>\n",
       "      <td>0.214547</td>\n",
       "    </tr>\n",
       "    <tr>\n",
       "      <th>3</th>\n",
       "      <td>12288.557936</td>\n",
       "      <td>259.488397</td>\n",
       "      <td>5.0</td>\n",
       "      <td>5.975663</td>\n",
       "      <td>0.1884</td>\n",
       "      <td>26662.143717</td>\n",
       "      <td>0.0955</td>\n",
       "      <td>5.922690e-06</td>\n",
       "      <td>55627.00000</td>\n",
       "      <td>0.197870</td>\n",
       "    </tr>\n",
       "    <tr>\n",
       "      <th>4</th>\n",
       "      <td>878.257590</td>\n",
       "      <td>194.436360</td>\n",
       "      <td>6.0</td>\n",
       "      <td>4.237952</td>\n",
       "      <td>0.2129</td>\n",
       "      <td>177158.483865</td>\n",
       "      <td>0.0424</td>\n",
       "      <td>4.421051e-07</td>\n",
       "      <td>34731.76000</td>\n",
       "      <td>0.225000</td>\n",
       "    </tr>\n",
       "  </tbody>\n",
       "</table>\n",
       "</div>"
      ],
      "text/plain": [
       "   (Dayofweek**3 - sqrt(Zip_income))**2  \\\n",
       "0                          76452.697065   \n",
       "1                          30678.022867   \n",
       "2                          54754.155683   \n",
       "3                          12288.557936   \n",
       "4                            878.257590   \n",
       "\n",
       "   sqrt(Zip_income)*exp(SearchLostISbudget)  Day of week  \\\n",
       "0                                496.327552          2.0   \n",
       "1                                291.114617          3.0   \n",
       "2                                361.470438          4.0   \n",
       "3                                259.488397          5.0   \n",
       "4                                194.436360          6.0   \n",
       "\n",
       "   sqrt(Conversions)*exp(SearchLostISbudget)  Search Lost IS (rank)  \\\n",
       "0                                   6.756636                 0.0935   \n",
       "1                                   4.576652                 0.1120   \n",
       "2                                   5.689493                 0.2028   \n",
       "3                                   5.975663                 0.1884   \n",
       "4                                   4.237952                 0.2129   \n",
       "\n",
       "   exp(2*Dayofweek)*exp(2*SearchLostISbudget)  Search Lost IS (budget)  \\\n",
       "0                                  166.168112                   0.5565   \n",
       "1                                  836.645128                   0.3647   \n",
       "2                                 4386.118735                   0.1931   \n",
       "3                                26662.143717                   0.0955   \n",
       "4                               177158.483865                   0.0424   \n",
       "\n",
       "   CTR*SearchLostISbudget**3   Zip_income  SearchLostISrank*exp(1/AvgCPC)  \n",
       "0               2.068125e-04  80940.71000                        0.097471  \n",
       "1               1.290295e-03  40865.20000                        0.116554  \n",
       "2               2.160071e-05  88801.65125                        0.214547  \n",
       "3               5.922690e-06  55627.00000                        0.197870  \n",
       "4               4.421051e-07  34731.76000                        0.225000  "
      ]
     },
     "execution_count": 36,
     "metadata": {},
     "output_type": "execute_result"
    }
   ],
   "source": [
    "top_5_fe.head()"
   ]
  },
  {
   "cell_type": "code",
   "execution_count": 37,
   "metadata": {},
   "outputs": [],
   "source": [
    "import xgboost as xgb\n",
    "\n",
    "xgbst_reg=xgb.XGBRegressor()"
   ]
  },
  {
   "cell_type": "code",
   "execution_count": 42,
   "metadata": {},
   "outputs": [
    {
     "data": {
      "text/plain": [
       "XGBRegressor(base_score=0.5, booster='gbtree', colsample_bylevel=1,\n",
       "             colsample_bynode=1, colsample_bytree=1, gamma=0, gpu_id=-1,\n",
       "             importance_type='gain', interaction_constraints='',\n",
       "             learning_rate=0.300000012, max_delta_step=0, max_depth=6,\n",
       "             min_child_weight=1, missing=nan, monotone_constraints='()',\n",
       "             n_estimators=100, n_jobs=4, num_parallel_tree=1, random_state=0,\n",
       "             reg_alpha=0, reg_lambda=1, scale_pos_weight=1, subsample=1,\n",
       "             tree_method='exact', validate_parameters=1, verbosity=None)"
      ]
     },
     "execution_count": 42,
     "metadata": {},
     "output_type": "execute_result"
    }
   ],
   "source": [
    "xgbst_reg.fit(df,y_train)"
   ]
  },
  {
   "cell_type": "code",
   "execution_count": 44,
   "metadata": {},
   "outputs": [
    {
     "data": {
      "text/plain": [
       "0.9999310061677071"
      ]
     },
     "execution_count": 44,
     "metadata": {},
     "output_type": "execute_result"
    }
   ],
   "source": [
    "xgbst_reg.score(df,y_train)"
   ]
  },
  {
   "cell_type": "code",
   "execution_count": 46,
   "metadata": {},
   "outputs": [],
   "source": [
    "from sklearn.model_selection import cross_val_score\n",
    "score=cross_val_score(xgbst_reg,df,y_train,cv=5)"
   ]
  },
  {
   "cell_type": "code",
   "execution_count": 47,
   "metadata": {},
   "outputs": [
    {
     "data": {
      "text/plain": [
       "0.48936420699013894"
      ]
     },
     "execution_count": 47,
     "metadata": {},
     "output_type": "execute_result"
    }
   ],
   "source": [
    "score.mean()"
   ]
  },
  {
   "cell_type": "code",
   "execution_count": null,
   "metadata": {},
   "outputs": [],
   "source": []
  }
 ],
 "metadata": {
  "kernelspec": {
   "display_name": "Python 3",
   "language": "python",
   "name": "python3"
  },
  "language_info": {
   "codemirror_mode": {
    "name": "ipython",
    "version": 3
   },
   "file_extension": ".py",
   "mimetype": "text/x-python",
   "name": "python",
   "nbconvert_exporter": "python",
   "pygments_lexer": "ipython3",
   "version": "3.7.3"
  }
 },
 "nbformat": 4,
 "nbformat_minor": 2
}
