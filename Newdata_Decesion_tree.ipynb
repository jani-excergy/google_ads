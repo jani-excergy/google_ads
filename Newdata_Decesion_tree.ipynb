{
 "cells": [
  {
   "cell_type": "code",
   "execution_count": 1,
   "id": "better-healthcare",
   "metadata": {},
   "outputs": [],
   "source": [
    "import pandas as pd\n",
    "import numpy as np\n",
    "import matplotlib.pyplot as plt\n",
    "import seaborn as sns"
   ]
  },
  {
   "cell_type": "code",
   "execution_count": 2,
   "id": "republican-clerk",
   "metadata": {},
   "outputs": [],
   "source": [
    "df=pd.read_excel('combine_19_20_21_sale.xlsx')"
   ]
  },
  {
   "cell_type": "code",
   "execution_count": 3,
   "id": "returning-mountain",
   "metadata": {},
   "outputs": [],
   "source": []
  },
  {
   "cell_type": "code",
   "execution_count": 3,
   "id": "subtle-ethernet",
   "metadata": {},
   "outputs": [
    {
     "data": {
      "text/html": [
       "<div>\n",
       "<style scoped>\n",
       "    .dataframe tbody tr th:only-of-type {\n",
       "        vertical-align: middle;\n",
       "    }\n",
       "\n",
       "    .dataframe tbody tr th {\n",
       "        vertical-align: top;\n",
       "    }\n",
       "\n",
       "    .dataframe thead th {\n",
       "        text-align: right;\n",
       "    }\n",
       "</style>\n",
       "<table border=\"1\" class=\"dataframe\">\n",
       "  <thead>\n",
       "    <tr style=\"text-align: right;\">\n",
       "      <th></th>\n",
       "      <th>Unnamed: 0</th>\n",
       "      <th>Created Date</th>\n",
       "      <th>TMAX</th>\n",
       "      <th>Completed_Jobs</th>\n",
       "      <th>tech_count</th>\n",
       "      <th>Avg_Sales</th>\n",
       "      <th>Zip_income</th>\n",
       "      <th>Income</th>\n",
       "    </tr>\n",
       "  </thead>\n",
       "  <tbody>\n",
       "    <tr>\n",
       "      <th>0</th>\n",
       "      <td>0</td>\n",
       "      <td>2019-01-03</td>\n",
       "      <td>68</td>\n",
       "      <td>90</td>\n",
       "      <td>42</td>\n",
       "      <td>6583.000000</td>\n",
       "      <td>100885.000000</td>\n",
       "      <td>100885.0</td>\n",
       "    </tr>\n",
       "    <tr>\n",
       "      <th>1</th>\n",
       "      <td>1</td>\n",
       "      <td>2019-01-04</td>\n",
       "      <td>69</td>\n",
       "      <td>85</td>\n",
       "      <td>46</td>\n",
       "      <td>6542.500000</td>\n",
       "      <td>112823.177778</td>\n",
       "      <td>25694.2</td>\n",
       "    </tr>\n",
       "    <tr>\n",
       "      <th>2</th>\n",
       "      <td>2</td>\n",
       "      <td>2019-01-05</td>\n",
       "      <td>53</td>\n",
       "      <td>82</td>\n",
       "      <td>22</td>\n",
       "      <td>11057.800000</td>\n",
       "      <td>92705.000000</td>\n",
       "      <td>92705.0</td>\n",
       "    </tr>\n",
       "    <tr>\n",
       "      <th>3</th>\n",
       "      <td>3</td>\n",
       "      <td>2019-01-06</td>\n",
       "      <td>58</td>\n",
       "      <td>16</td>\n",
       "      <td>12</td>\n",
       "      <td>5815.000000</td>\n",
       "      <td>41483.776667</td>\n",
       "      <td>14062.0</td>\n",
       "    </tr>\n",
       "    <tr>\n",
       "      <th>4</th>\n",
       "      <td>4</td>\n",
       "      <td>2019-01-07</td>\n",
       "      <td>60</td>\n",
       "      <td>89</td>\n",
       "      <td>63</td>\n",
       "      <td>7918.583333</td>\n",
       "      <td>108119.473333</td>\n",
       "      <td>109814.0</td>\n",
       "    </tr>\n",
       "  </tbody>\n",
       "</table>\n",
       "</div>"
      ],
      "text/plain": [
       "   Unnamed: 0 Created Date  TMAX  Completed_Jobs  tech_count     Avg_Sales  \\\n",
       "0           0   2019-01-03    68              90          42   6583.000000   \n",
       "1           1   2019-01-04    69              85          46   6542.500000   \n",
       "2           2   2019-01-05    53              82          22  11057.800000   \n",
       "3           3   2019-01-06    58              16          12   5815.000000   \n",
       "4           4   2019-01-07    60              89          63   7918.583333   \n",
       "\n",
       "      Zip_income    Income  \n",
       "0  100885.000000  100885.0  \n",
       "1  112823.177778   25694.2  \n",
       "2   92705.000000   92705.0  \n",
       "3   41483.776667   14062.0  \n",
       "4  108119.473333  109814.0  "
      ]
     },
     "execution_count": 3,
     "metadata": {},
     "output_type": "execute_result"
    }
   ],
   "source": [
    "df.head()"
   ]
  },
  {
   "cell_type": "code",
   "execution_count": 4,
   "id": "detected-engineering",
   "metadata": {},
   "outputs": [],
   "source": [
    "df=df.drop_duplicates(ignore_index=True)"
   ]
  },
  {
   "cell_type": "code",
   "execution_count": 5,
   "id": "opposite-dispatch",
   "metadata": {},
   "outputs": [],
   "source": [
    "df=df.drop(['Unnamed: 0'],axis=1)"
   ]
  },
  {
   "cell_type": "code",
   "execution_count": 6,
   "id": "important-laser",
   "metadata": {},
   "outputs": [],
   "source": [
    "df['year'] = df['Created Date'].dt.year\n",
    "df['month'] = df['Created Date'].dt.month\n",
    "df['day'] = df['Created Date'].dt.month\n",
    "\n",
    "\n",
    "df['weekday'] = df['Created Date'].dt.dayofweek\n",
    "\n",
    "df['quarter'] = df['Created Date'].dt.quarter"
   ]
  },
  {
   "cell_type": "code",
   "execution_count": 7,
   "id": "ecological-dollar",
   "metadata": {},
   "outputs": [],
   "source": [
    "df=df.drop(['Created Date'],axis=1)"
   ]
  },
  {
   "cell_type": "code",
   "execution_count": 8,
   "id": "arctic-pocket",
   "metadata": {},
   "outputs": [],
   "source": [
    "def encode(data, col, max_val):\n",
    "    data[col + '_sin'] = np.sin(2 * np.pi * data[col]/max_val)\n",
    "    data[col + '_cos'] = np.cos(2 * np.pi * data[col]/max_val)\n",
    "    return data"
   ]
  },
  {
   "cell_type": "code",
   "execution_count": 9,
   "id": "acquired-birthday",
   "metadata": {},
   "outputs": [
    {
     "data": {
      "text/html": [
       "<div>\n",
       "<style scoped>\n",
       "    .dataframe tbody tr th:only-of-type {\n",
       "        vertical-align: middle;\n",
       "    }\n",
       "\n",
       "    .dataframe tbody tr th {\n",
       "        vertical-align: top;\n",
       "    }\n",
       "\n",
       "    .dataframe thead th {\n",
       "        text-align: right;\n",
       "    }\n",
       "</style>\n",
       "<table border=\"1\" class=\"dataframe\">\n",
       "  <thead>\n",
       "    <tr style=\"text-align: right;\">\n",
       "      <th></th>\n",
       "      <th>TMAX</th>\n",
       "      <th>Completed_Jobs</th>\n",
       "      <th>tech_count</th>\n",
       "      <th>Avg_Sales</th>\n",
       "      <th>Zip_income</th>\n",
       "      <th>Income</th>\n",
       "      <th>year</th>\n",
       "      <th>month</th>\n",
       "      <th>day</th>\n",
       "      <th>weekday</th>\n",
       "      <th>quarter</th>\n",
       "      <th>month_sin</th>\n",
       "      <th>month_cos</th>\n",
       "      <th>day_sin</th>\n",
       "      <th>day_cos</th>\n",
       "      <th>weekday_sin</th>\n",
       "      <th>weekday_cos</th>\n",
       "      <th>quarter_sin</th>\n",
       "      <th>quarter_cos</th>\n",
       "    </tr>\n",
       "  </thead>\n",
       "  <tbody>\n",
       "    <tr>\n",
       "      <th>0</th>\n",
       "      <td>68</td>\n",
       "      <td>90</td>\n",
       "      <td>42</td>\n",
       "      <td>6583.000000</td>\n",
       "      <td>100885.000000</td>\n",
       "      <td>100885.00</td>\n",
       "      <td>2019</td>\n",
       "      <td>1</td>\n",
       "      <td>1</td>\n",
       "      <td>3</td>\n",
       "      <td>1</td>\n",
       "      <td>0.500000</td>\n",
       "      <td>0.866025</td>\n",
       "      <td>0.017213</td>\n",
       "      <td>0.999852</td>\n",
       "      <td>0.433884</td>\n",
       "      <td>-0.900969</td>\n",
       "      <td>1.000000e+00</td>\n",
       "      <td>6.123234e-17</td>\n",
       "    </tr>\n",
       "    <tr>\n",
       "      <th>1</th>\n",
       "      <td>69</td>\n",
       "      <td>85</td>\n",
       "      <td>46</td>\n",
       "      <td>6542.500000</td>\n",
       "      <td>112823.177778</td>\n",
       "      <td>25694.20</td>\n",
       "      <td>2019</td>\n",
       "      <td>1</td>\n",
       "      <td>1</td>\n",
       "      <td>4</td>\n",
       "      <td>1</td>\n",
       "      <td>0.500000</td>\n",
       "      <td>0.866025</td>\n",
       "      <td>0.017213</td>\n",
       "      <td>0.999852</td>\n",
       "      <td>-0.433884</td>\n",
       "      <td>-0.900969</td>\n",
       "      <td>1.000000e+00</td>\n",
       "      <td>6.123234e-17</td>\n",
       "    </tr>\n",
       "    <tr>\n",
       "      <th>2</th>\n",
       "      <td>53</td>\n",
       "      <td>82</td>\n",
       "      <td>22</td>\n",
       "      <td>11057.800000</td>\n",
       "      <td>92705.000000</td>\n",
       "      <td>92705.00</td>\n",
       "      <td>2019</td>\n",
       "      <td>1</td>\n",
       "      <td>1</td>\n",
       "      <td>5</td>\n",
       "      <td>1</td>\n",
       "      <td>0.500000</td>\n",
       "      <td>0.866025</td>\n",
       "      <td>0.017213</td>\n",
       "      <td>0.999852</td>\n",
       "      <td>-0.974928</td>\n",
       "      <td>-0.222521</td>\n",
       "      <td>1.000000e+00</td>\n",
       "      <td>6.123234e-17</td>\n",
       "    </tr>\n",
       "    <tr>\n",
       "      <th>3</th>\n",
       "      <td>58</td>\n",
       "      <td>16</td>\n",
       "      <td>12</td>\n",
       "      <td>5815.000000</td>\n",
       "      <td>41483.776667</td>\n",
       "      <td>14062.00</td>\n",
       "      <td>2019</td>\n",
       "      <td>1</td>\n",
       "      <td>1</td>\n",
       "      <td>6</td>\n",
       "      <td>1</td>\n",
       "      <td>0.500000</td>\n",
       "      <td>0.866025</td>\n",
       "      <td>0.017213</td>\n",
       "      <td>0.999852</td>\n",
       "      <td>-0.781831</td>\n",
       "      <td>0.623490</td>\n",
       "      <td>1.000000e+00</td>\n",
       "      <td>6.123234e-17</td>\n",
       "    </tr>\n",
       "    <tr>\n",
       "      <th>4</th>\n",
       "      <td>60</td>\n",
       "      <td>89</td>\n",
       "      <td>63</td>\n",
       "      <td>7918.583333</td>\n",
       "      <td>108119.473333</td>\n",
       "      <td>109814.00</td>\n",
       "      <td>2019</td>\n",
       "      <td>1</td>\n",
       "      <td>1</td>\n",
       "      <td>0</td>\n",
       "      <td>1</td>\n",
       "      <td>0.500000</td>\n",
       "      <td>0.866025</td>\n",
       "      <td>0.017213</td>\n",
       "      <td>0.999852</td>\n",
       "      <td>0.000000</td>\n",
       "      <td>1.000000</td>\n",
       "      <td>1.000000e+00</td>\n",
       "      <td>6.123234e-17</td>\n",
       "    </tr>\n",
       "    <tr>\n",
       "      <th>...</th>\n",
       "      <td>...</td>\n",
       "      <td>...</td>\n",
       "      <td>...</td>\n",
       "      <td>...</td>\n",
       "      <td>...</td>\n",
       "      <td>...</td>\n",
       "      <td>...</td>\n",
       "      <td>...</td>\n",
       "      <td>...</td>\n",
       "      <td>...</td>\n",
       "      <td>...</td>\n",
       "      <td>...</td>\n",
       "      <td>...</td>\n",
       "      <td>...</td>\n",
       "      <td>...</td>\n",
       "      <td>...</td>\n",
       "      <td>...</td>\n",
       "      <td>...</td>\n",
       "      <td>...</td>\n",
       "    </tr>\n",
       "    <tr>\n",
       "      <th>721</th>\n",
       "      <td>81</td>\n",
       "      <td>222</td>\n",
       "      <td>126</td>\n",
       "      <td>3494.939333</td>\n",
       "      <td>210099.110000</td>\n",
       "      <td>210099.11</td>\n",
       "      <td>2021</td>\n",
       "      <td>4</td>\n",
       "      <td>4</td>\n",
       "      <td>4</td>\n",
       "      <td>2</td>\n",
       "      <td>0.866025</td>\n",
       "      <td>-0.500000</td>\n",
       "      <td>0.068802</td>\n",
       "      <td>0.997630</td>\n",
       "      <td>-0.433884</td>\n",
       "      <td>-0.900969</td>\n",
       "      <td>1.224647e-16</td>\n",
       "      <td>-1.000000e+00</td>\n",
       "    </tr>\n",
       "    <tr>\n",
       "      <th>722</th>\n",
       "      <td>68</td>\n",
       "      <td>168</td>\n",
       "      <td>75</td>\n",
       "      <td>4079.521639</td>\n",
       "      <td>119775.950000</td>\n",
       "      <td>119775.95</td>\n",
       "      <td>2021</td>\n",
       "      <td>5</td>\n",
       "      <td>5</td>\n",
       "      <td>5</td>\n",
       "      <td>2</td>\n",
       "      <td>0.500000</td>\n",
       "      <td>-0.866025</td>\n",
       "      <td>0.085965</td>\n",
       "      <td>0.996298</td>\n",
       "      <td>-0.974928</td>\n",
       "      <td>-0.222521</td>\n",
       "      <td>1.224647e-16</td>\n",
       "      <td>-1.000000e+00</td>\n",
       "    </tr>\n",
       "    <tr>\n",
       "      <th>723</th>\n",
       "      <td>69</td>\n",
       "      <td>202</td>\n",
       "      <td>124</td>\n",
       "      <td>3481.447857</td>\n",
       "      <td>230699.430000</td>\n",
       "      <td>230699.43</td>\n",
       "      <td>2021</td>\n",
       "      <td>5</td>\n",
       "      <td>5</td>\n",
       "      <td>2</td>\n",
       "      <td>2</td>\n",
       "      <td>0.500000</td>\n",
       "      <td>-0.866025</td>\n",
       "      <td>0.085965</td>\n",
       "      <td>0.996298</td>\n",
       "      <td>0.974928</td>\n",
       "      <td>-0.222521</td>\n",
       "      <td>1.224647e-16</td>\n",
       "      <td>-1.000000e+00</td>\n",
       "    </tr>\n",
       "    <tr>\n",
       "      <th>724</th>\n",
       "      <td>68</td>\n",
       "      <td>109</td>\n",
       "      <td>75</td>\n",
       "      <td>4314.042857</td>\n",
       "      <td>112431.950000</td>\n",
       "      <td>112431.95</td>\n",
       "      <td>2021</td>\n",
       "      <td>5</td>\n",
       "      <td>5</td>\n",
       "      <td>5</td>\n",
       "      <td>2</td>\n",
       "      <td>0.500000</td>\n",
       "      <td>-0.866025</td>\n",
       "      <td>0.085965</td>\n",
       "      <td>0.996298</td>\n",
       "      <td>-0.974928</td>\n",
       "      <td>-0.222521</td>\n",
       "      <td>1.224647e-16</td>\n",
       "      <td>-1.000000e+00</td>\n",
       "    </tr>\n",
       "    <tr>\n",
       "      <th>725</th>\n",
       "      <td>63</td>\n",
       "      <td>177</td>\n",
       "      <td>114</td>\n",
       "      <td>3539.839216</td>\n",
       "      <td>199708.630000</td>\n",
       "      <td>199708.63</td>\n",
       "      <td>2021</td>\n",
       "      <td>5</td>\n",
       "      <td>5</td>\n",
       "      <td>3</td>\n",
       "      <td>2</td>\n",
       "      <td>0.500000</td>\n",
       "      <td>-0.866025</td>\n",
       "      <td>0.085965</td>\n",
       "      <td>0.996298</td>\n",
       "      <td>0.433884</td>\n",
       "      <td>-0.900969</td>\n",
       "      <td>1.224647e-16</td>\n",
       "      <td>-1.000000e+00</td>\n",
       "    </tr>\n",
       "  </tbody>\n",
       "</table>\n",
       "<p>726 rows × 19 columns</p>\n",
       "</div>"
      ],
      "text/plain": [
       "     TMAX  Completed_Jobs  tech_count     Avg_Sales     Zip_income     Income  \\\n",
       "0      68              90          42   6583.000000  100885.000000  100885.00   \n",
       "1      69              85          46   6542.500000  112823.177778   25694.20   \n",
       "2      53              82          22  11057.800000   92705.000000   92705.00   \n",
       "3      58              16          12   5815.000000   41483.776667   14062.00   \n",
       "4      60              89          63   7918.583333  108119.473333  109814.00   \n",
       "..    ...             ...         ...           ...            ...        ...   \n",
       "721    81             222         126   3494.939333  210099.110000  210099.11   \n",
       "722    68             168          75   4079.521639  119775.950000  119775.95   \n",
       "723    69             202         124   3481.447857  230699.430000  230699.43   \n",
       "724    68             109          75   4314.042857  112431.950000  112431.95   \n",
       "725    63             177         114   3539.839216  199708.630000  199708.63   \n",
       "\n",
       "     year  month  day  weekday  quarter  month_sin  month_cos   day_sin  \\\n",
       "0    2019      1    1        3        1   0.500000   0.866025  0.017213   \n",
       "1    2019      1    1        4        1   0.500000   0.866025  0.017213   \n",
       "2    2019      1    1        5        1   0.500000   0.866025  0.017213   \n",
       "3    2019      1    1        6        1   0.500000   0.866025  0.017213   \n",
       "4    2019      1    1        0        1   0.500000   0.866025  0.017213   \n",
       "..    ...    ...  ...      ...      ...        ...        ...       ...   \n",
       "721  2021      4    4        4        2   0.866025  -0.500000  0.068802   \n",
       "722  2021      5    5        5        2   0.500000  -0.866025  0.085965   \n",
       "723  2021      5    5        2        2   0.500000  -0.866025  0.085965   \n",
       "724  2021      5    5        5        2   0.500000  -0.866025  0.085965   \n",
       "725  2021      5    5        3        2   0.500000  -0.866025  0.085965   \n",
       "\n",
       "      day_cos  weekday_sin  weekday_cos   quarter_sin   quarter_cos  \n",
       "0    0.999852     0.433884    -0.900969  1.000000e+00  6.123234e-17  \n",
       "1    0.999852    -0.433884    -0.900969  1.000000e+00  6.123234e-17  \n",
       "2    0.999852    -0.974928    -0.222521  1.000000e+00  6.123234e-17  \n",
       "3    0.999852    -0.781831     0.623490  1.000000e+00  6.123234e-17  \n",
       "4    0.999852     0.000000     1.000000  1.000000e+00  6.123234e-17  \n",
       "..        ...          ...          ...           ...           ...  \n",
       "721  0.997630    -0.433884    -0.900969  1.224647e-16 -1.000000e+00  \n",
       "722  0.996298    -0.974928    -0.222521  1.224647e-16 -1.000000e+00  \n",
       "723  0.996298     0.974928    -0.222521  1.224647e-16 -1.000000e+00  \n",
       "724  0.996298    -0.974928    -0.222521  1.224647e-16 -1.000000e+00  \n",
       "725  0.996298     0.433884    -0.900969  1.224647e-16 -1.000000e+00  \n",
       "\n",
       "[726 rows x 19 columns]"
      ]
     },
     "execution_count": 9,
     "metadata": {},
     "output_type": "execute_result"
    }
   ],
   "source": [
    "encode(df,'month',12)\n",
    "encode(df,'day',365)\n",
    "encode(df,'weekday',7)\n",
    "encode(df,'quarter',4)"
   ]
  },
  {
   "cell_type": "code",
   "execution_count": 10,
   "id": "jewish-disabled",
   "metadata": {},
   "outputs": [],
   "source": [
    "df=df.drop(['month', 'day', 'weekday', 'quarter'],axis=1)"
   ]
  },
  {
   "cell_type": "code",
   "execution_count": 11,
   "id": "human-advertising",
   "metadata": {},
   "outputs": [],
   "source": [
    "df['year'] = df['year'].map({2019: 0, 2020: 1,2021:2})"
   ]
  },
  {
   "cell_type": "code",
   "execution_count": 12,
   "id": "individual-creek",
   "metadata": {},
   "outputs": [],
   "source": [
    "df['f1']=np.abs(df['Completed_Jobs'])*np.abs(df['Zip_income'])\n",
    "df['f2']=np.sqrt(df['Completed_Jobs']**3)*np.abs(df['Avg_Sales'])\n",
    "df['f3']=np.abs(np.sqrt(df['Completed_Jobs']) - np.sqrt(df['tech_count']))\n",
    "df['f4']=np.log(np.sqrt(df['Completed_Jobs'])*df['TMAX']**3)"
   ]
  },
  {
   "cell_type": "code",
   "execution_count": 13,
   "id": "cultural-excerpt",
   "metadata": {},
   "outputs": [],
   "source": [
    "df1=df[['f1', 'f2','f3', 'f4','year',  'month_cos',  'quarter_sin','Income']]"
   ]
  },
  {
   "cell_type": "code",
   "execution_count": 14,
   "id": "occupational-target",
   "metadata": {},
   "outputs": [],
   "source": [
    "df1=df1.drop_duplicates(ignore_index=True)"
   ]
  },
  {
   "cell_type": "code",
   "execution_count": 15,
   "id": "impaired-motor",
   "metadata": {},
   "outputs": [],
   "source": [
    "train=df1[0:600]\n",
    "test=df1[600:]"
   ]
  },
  {
   "cell_type": "code",
   "execution_count": 16,
   "id": "identified-occupation",
   "metadata": {},
   "outputs": [],
   "source": [
    "y=train['Income']\n",
    "X=train.drop(['Income'],axis=1)"
   ]
  },
  {
   "cell_type": "code",
   "execution_count": 17,
   "id": "committed-positive",
   "metadata": {},
   "outputs": [],
   "source": [
    "y_=test['Income']\n",
    "X_=test.drop(['Income'],axis=1)"
   ]
  },
  {
   "cell_type": "code",
   "execution_count": 18,
   "id": "pressed-thought",
   "metadata": {},
   "outputs": [],
   "source": [
    "from sklearn.model_selection import train_test_split\n",
    "X_train, X_test, y_train, y_test = train_test_split(X, y, test_size=0.2, random_state=42)"
   ]
  },
  {
   "cell_type": "code",
   "execution_count": 19,
   "id": "pressed-intranet",
   "metadata": {},
   "outputs": [],
   "source": [
    "from sklearn.tree import DecisionTreeRegressor\n"
   ]
  },
  {
   "cell_type": "code",
   "execution_count": 20,
   "id": "cultural-circle",
   "metadata": {},
   "outputs": [],
   "source": [
    "dtm = DecisionTreeRegressor()\n"
   ]
  },
  {
   "cell_type": "code",
   "execution_count": 21,
   "id": "experienced-artist",
   "metadata": {},
   "outputs": [
    {
     "data": {
      "text/plain": [
       "DecisionTreeRegressor()"
      ]
     },
     "execution_count": 21,
     "metadata": {},
     "output_type": "execute_result"
    }
   ],
   "source": [
    "dtm.fit(X_train,y_train)"
   ]
  },
  {
   "cell_type": "code",
   "execution_count": 22,
   "id": "brilliant-preparation",
   "metadata": {},
   "outputs": [
    {
     "data": {
      "text/plain": [
       "1.0"
      ]
     },
     "execution_count": 22,
     "metadata": {},
     "output_type": "execute_result"
    }
   ],
   "source": [
    "dtm.score(X_train,y_train)"
   ]
  },
  {
   "cell_type": "code",
   "execution_count": 23,
   "id": "muslim-facility",
   "metadata": {},
   "outputs": [
    {
     "data": {
      "text/plain": [
       "0.285050589102401"
      ]
     },
     "execution_count": 23,
     "metadata": {},
     "output_type": "execute_result"
    }
   ],
   "source": [
    "dtm.score(X_test,y_test)"
   ]
  },
  {
   "cell_type": "code",
   "execution_count": 24,
   "id": "sacred-belgium",
   "metadata": {},
   "outputs": [
    {
     "data": {
      "text/plain": [
       "-0.32326041857222787"
      ]
     },
     "execution_count": 24,
     "metadata": {},
     "output_type": "execute_result"
    }
   ],
   "source": [
    "dtm.score(X_,y_)"
   ]
  },
  {
   "cell_type": "code",
   "execution_count": 16,
   "id": "yellow-barcelona",
   "metadata": {},
   "outputs": [],
   "source": [
    "from sklearn.model_selection import GridSearchCV, cross_val_score\n"
   ]
  },
  {
   "cell_type": "markdown",
   "id": "competent-bridge",
   "metadata": {},
   "source": [
    "# Hyperparameter tuning"
   ]
  },
  {
   "cell_type": "code",
   "execution_count": 18,
   "id": "sublime-trust",
   "metadata": {},
   "outputs": [],
   "source": [
    "param_grid = {\"criterion\": [\"mse\", \"mae\"],\n",
    "              \"min_samples_split\": [10, 20, 40],\n",
    "              \"max_depth\": [2, 6, 8],\n",
    "              \"min_samples_leaf\": [20, 40, 100],\n",
    "              \"max_leaf_nodes\": [5, 20, 100],\n",
    "              }"
   ]
  },
  {
   "cell_type": "code",
   "execution_count": 21,
   "id": "likely-bosnia",
   "metadata": {},
   "outputs": [],
   "source": [
    "grid_cv_dtm = GridSearchCV(dtm, param_grid, cv=5)\n"
   ]
  },
  {
   "cell_type": "code",
   "execution_count": 22,
   "id": "accepted-devices",
   "metadata": {},
   "outputs": [
    {
     "data": {
      "text/plain": [
       "GridSearchCV(cv=5, estimator=DecisionTreeRegressor(),\n",
       "             param_grid={'criterion': ['mse', 'mae'], 'max_depth': [2, 6, 8],\n",
       "                         'max_leaf_nodes': [5, 20, 100],\n",
       "                         'min_samples_leaf': [20, 40, 100],\n",
       "                         'min_samples_split': [10, 20, 40]})"
      ]
     },
     "execution_count": 22,
     "metadata": {},
     "output_type": "execute_result"
    }
   ],
   "source": [
    "grid_cv_dtm.fit(X,y)\n"
   ]
  },
  {
   "cell_type": "code",
   "execution_count": null,
   "id": "hourly-skiing",
   "metadata": {},
   "outputs": [],
   "source": []
  },
  {
   "cell_type": "code",
   "execution_count": 25,
   "id": "concerned-hurricane",
   "metadata": {},
   "outputs": [],
   "source": [
    "dtm_1= DecisionTreeRegressor(criterion='mae',max_features='log2',max_depth=6,min_samples_split=2,min_weight_fraction_leaf= 0.0)\n"
   ]
  },
  {
   "cell_type": "code",
   "execution_count": 26,
   "id": "american-ideal",
   "metadata": {},
   "outputs": [
    {
     "data": {
      "text/plain": [
       "DecisionTreeRegressor(criterion='mae', max_depth=6, max_features='log2')"
      ]
     },
     "execution_count": 26,
     "metadata": {},
     "output_type": "execute_result"
    }
   ],
   "source": [
    "dtm_1.fit(X_train,y_train)"
   ]
  },
  {
   "cell_type": "code",
   "execution_count": 27,
   "id": "perceived-longer",
   "metadata": {},
   "outputs": [
    {
     "data": {
      "text/plain": [
       "0.7441723372083291"
      ]
     },
     "execution_count": 27,
     "metadata": {},
     "output_type": "execute_result"
    }
   ],
   "source": [
    "dtm_1.score(X_train,y_train)"
   ]
  },
  {
   "cell_type": "code",
   "execution_count": 28,
   "id": "final-badge",
   "metadata": {},
   "outputs": [
    {
     "data": {
      "text/plain": [
       "0.45463868796216056"
      ]
     },
     "execution_count": 28,
     "metadata": {},
     "output_type": "execute_result"
    }
   ],
   "source": [
    "dtm_1.score(X_test,y_test)"
   ]
  },
  {
   "cell_type": "code",
   "execution_count": 29,
   "id": "immune-steal",
   "metadata": {},
   "outputs": [
    {
     "data": {
      "text/plain": [
       "0.26812647655601174"
      ]
     },
     "execution_count": 29,
     "metadata": {},
     "output_type": "execute_result"
    }
   ],
   "source": [
    "dtm_1.score(X_,y_)"
   ]
  },
  {
   "cell_type": "code",
   "execution_count": 30,
   "id": "polish-dress",
   "metadata": {},
   "outputs": [],
   "source": [
    "y_pred_1=dtm_1.predict(X_)"
   ]
  },
  {
   "cell_type": "code",
   "execution_count": 31,
   "id": "serious-columbus",
   "metadata": {},
   "outputs": [
    {
     "name": "stdout",
     "output_type": "stream",
     "text": [
      "RMSE: 48539.42146200736\n",
      "MAE: 37983.842698412685\n"
     ]
    }
   ],
   "source": [
    "from sklearn import metrics \n",
    "\n",
    "# RMSE and MAE\n",
    "print('RMSE:',np.sqrt(metrics.mean_squared_error(y_,y_pred_1)))\n",
    "print('MAE:',metrics.mean_absolute_error(y_,y_pred_1))"
   ]
  },
  {
   "cell_type": "code",
   "execution_count": 32,
   "id": "boring-guyana",
   "metadata": {},
   "outputs": [],
   "source": [
    "comp_1=pd.DataFrame({'Actual':y_,'Predicted':y_pred_1})"
   ]
  },
  {
   "cell_type": "code",
   "execution_count": 33,
   "id": "alive-closer",
   "metadata": {},
   "outputs": [
    {
     "data": {
      "text/plain": [
       "<AxesSubplot:>"
      ]
     },
     "execution_count": 33,
     "metadata": {},
     "output_type": "execute_result"
    },
    {
     "data": {
      "image/png": "[encoded data removed]",
      "text/plain": [
       "<Figure size 432x288 with 1 Axes>"
      ]
     },
     "metadata": {
      "needs_background": "light"
     },
     "output_type": "display_data"
    }
   ],
   "source": [
    "comp_1.plot()"
   ]
  },
  {
   "cell_type": "code",
   "execution_count": 29,
   "id": "retired-small",
   "metadata": {},
   "outputs": [],
   "source": []
  },
  {
   "cell_type": "code",
   "execution_count": 31,
   "id": "variable-monte",
   "metadata": {},
   "outputs": [],
   "source": []
  },
  {
   "cell_type": "code",
   "execution_count": null,
   "id": "lesbian-quebec",
   "metadata": {},
   "outputs": [],
   "source": []
  },
  {
   "cell_type": "code",
   "execution_count": null,
   "id": "tribal-madrid",
   "metadata": {},
   "outputs": [],
   "source": []
  }
 ],
 "metadata": {
  "kernelspec": {
   "display_name": "Python 3",
   "language": "python",
   "name": "python3"
  },
  "language_info": {
   "codemirror_mode": {
    "name": "ipython",
    "version": 3
   },
   "file_extension": ".py",
   "mimetype": "text/x-python",
   "name": "python",
   "nbconvert_exporter": "python",
   "pygments_lexer": "ipython3",
   "version": "3.7.3"
  }
 },
 "nbformat": 4,
 "nbformat_minor": 5
}
