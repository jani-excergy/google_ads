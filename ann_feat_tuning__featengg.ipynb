{
  "nbformat": 4,
  "nbformat_minor": 5,
  "metadata": {
    "colab": {
      "name": "ann_feat_tuning _featengg.ipynb",
      "provenance": [],
      "collapsed_sections": []
    },
    "kernelspec": {
      "display_name": "Python 3",
      "language": "python",
      "name": "python3"
    },
    "language_info": {
      "codemirror_mode": {
        "name": "ipython",
        "version": 3
      },
      "file_extension": ".py",
      "mimetype": "text/x-python",
      "name": "python",
      "nbconvert_exporter": "python",
      "pygments_lexer": "ipython3",
      "version": "3.7.3"
    }
  },
  "cells": [
    {
      "cell_type": "code",
      "metadata": {
        "id": "hearing-offset"
      },
      "source": [
        "import pandas as pd\n",
        "import numpy as np\n",
        "import matplotlib.pyplot as plt\n",
        "import seaborn as sns"
      ],
      "id": "hearing-offset",
      "execution_count": 214,
      "outputs": []
    },
    {
      "cell_type": "code",
      "metadata": {
        "id": "pGsWvzo3qL88"
      },
      "source": [
        ""
      ],
      "id": "pGsWvzo3qL88",
      "execution_count": 214,
      "outputs": []
    },
    {
      "cell_type": "code",
      "metadata": {
        "id": "unsigned-footwear"
      },
      "source": [
        "df=pd.read_excel('final_feat.xlsx')"
      ],
      "id": "unsigned-footwear",
      "execution_count": 215,
      "outputs": []
    },
    {
      "cell_type": "code",
      "metadata": {
        "colab": {
          "base_uri": "https://localhost:8080/",
          "height": 356
        },
        "id": "sized-pioneer",
        "outputId": "19b3372e-5aa1-4520-bbfa-8a94cd432f88"
      },
      "source": [
        "df.head()"
      ],
      "id": "sized-pioneer",
      "execution_count": 216,
      "outputs": [
        {
          "output_type": "execute_result",
          "data": {
            "text/html": [
              "<div>\n",
              "<style scoped>\n",
              "    .dataframe tbody tr th:only-of-type {\n",
              "        vertical-align: middle;\n",
              "    }\n",
              "\n",
              "    .dataframe tbody tr th {\n",
              "        vertical-align: top;\n",
              "    }\n",
              "\n",
              "    .dataframe thead th {\n",
              "        text-align: right;\n",
              "    }\n",
              "</style>\n",
              "<table border=\"1\" class=\"dataframe\">\n",
              "  <thead>\n",
              "    <tr style=\"text-align: right;\">\n",
              "      <th></th>\n",
              "      <th>Day of week</th>\n",
              "      <th>Cost</th>\n",
              "      <th>Impressions</th>\n",
              "      <th>Clicks</th>\n",
              "      <th>CTR</th>\n",
              "      <th>Avg. CPC</th>\n",
              "      <th>Conversions</th>\n",
              "      <th>Conv. rate</th>\n",
              "      <th>Cost / conv.</th>\n",
              "      <th>Search Impr. share</th>\n",
              "      <th>Search Lost IS (rank)</th>\n",
              "      <th>Search Lost IS (budget)</th>\n",
              "      <th>Created Date</th>\n",
              "      <th>Location Zip_x</th>\n",
              "      <th>Income_x</th>\n",
              "      <th>Year Month</th>\n",
              "      <th>Completed Jobs</th>\n",
              "      <th>Income_y</th>\n",
              "      <th>Lead Calls</th>\n",
              "      <th>Canceled Jobs_x</th>\n",
              "      <th>Future Scheduled Jobs</th>\n",
              "      <th>Location Zip_y</th>\n",
              "      <th>tech_count</th>\n",
              "      <th>Avg_job_per_day</th>\n",
              "      <th>county_name</th>\n",
              "      <th>TMAX</th>\n",
              "      <th>TMIN</th>\n",
              "      <th>Total Leads</th>\n",
              "      <th>Total Jobs</th>\n",
              "      <th>Avg Service</th>\n",
              "      <th>Avg Install</th>\n",
              "      <th>Canceled Jobs_y</th>\n",
              "      <th>Turn over %</th>\n",
              "      <th>Canceled %</th>\n",
              "      <th>Avg Sales</th>\n",
              "      <th>bookedjob</th>\n",
              "      <th>totalcalls</th>\n",
              "      <th>Booking rate</th>\n",
              "    </tr>\n",
              "  </thead>\n",
              "  <tbody>\n",
              "    <tr>\n",
              "      <th>0</th>\n",
              "      <td>Thursday</td>\n",
              "      <td>3181.56</td>\n",
              "      <td>13361</td>\n",
              "      <td>156</td>\n",
              "      <td>0.0117</td>\n",
              "      <td>20.39</td>\n",
              "      <td>26.77</td>\n",
              "      <td>0.0486</td>\n",
              "      <td>118.86</td>\n",
              "      <td>0.5337</td>\n",
              "      <td>0.2676</td>\n",
              "      <td>0.1987</td>\n",
              "      <td>2020-01-02</td>\n",
              "      <td>90049</td>\n",
              "      <td>137581.58</td>\n",
              "      <td>2020 January</td>\n",
              "      <td>57</td>\n",
              "      <td>23933.54</td>\n",
              "      <td>60</td>\n",
              "      <td>8.0</td>\n",
              "      <td>63</td>\n",
              "      <td>90049</td>\n",
              "      <td>59</td>\n",
              "      <td>1</td>\n",
              "      <td>Los Angeles</td>\n",
              "      <td>65</td>\n",
              "      <td>51</td>\n",
              "      <td>10</td>\n",
              "      <td>101</td>\n",
              "      <td>143.417833</td>\n",
              "      <td>3224.412750</td>\n",
              "      <td>8</td>\n",
              "      <td>9.900990</td>\n",
              "      <td>7.920792</td>\n",
              "      <td>3617.444828</td>\n",
              "      <td>49</td>\n",
              "      <td>155</td>\n",
              "      <td>31.612903</td>\n",
              "    </tr>\n",
              "    <tr>\n",
              "      <th>1</th>\n",
              "      <td>Friday</td>\n",
              "      <td>2684.67</td>\n",
              "      <td>16841</td>\n",
              "      <td>160</td>\n",
              "      <td>0.0095</td>\n",
              "      <td>16.78</td>\n",
              "      <td>21.00</td>\n",
              "      <td>0.0299</td>\n",
              "      <td>127.84</td>\n",
              "      <td>0.5477</td>\n",
              "      <td>0.3122</td>\n",
              "      <td>0.1401</td>\n",
              "      <td>2020-01-03</td>\n",
              "      <td>92262</td>\n",
              "      <td>43204.73</td>\n",
              "      <td>2020 January</td>\n",
              "      <td>77</td>\n",
              "      <td>65232.03</td>\n",
              "      <td>64</td>\n",
              "      <td>7.0</td>\n",
              "      <td>81</td>\n",
              "      <td>92262</td>\n",
              "      <td>40</td>\n",
              "      <td>2</td>\n",
              "      <td>Riverside</td>\n",
              "      <td>71</td>\n",
              "      <td>44</td>\n",
              "      <td>9</td>\n",
              "      <td>89</td>\n",
              "      <td>75.515208</td>\n",
              "      <td>965.365854</td>\n",
              "      <td>7</td>\n",
              "      <td>10.112360</td>\n",
              "      <td>7.865169</td>\n",
              "      <td>1781.345385</td>\n",
              "      <td>56</td>\n",
              "      <td>176</td>\n",
              "      <td>31.818182</td>\n",
              "    </tr>\n",
              "    <tr>\n",
              "      <th>2</th>\n",
              "      <td>Saturday</td>\n",
              "      <td>1338.36</td>\n",
              "      <td>30788</td>\n",
              "      <td>142</td>\n",
              "      <td>0.0046</td>\n",
              "      <td>9.43</td>\n",
              "      <td>11.00</td>\n",
              "      <td>0.0186</td>\n",
              "      <td>121.67</td>\n",
              "      <td>0.5297</td>\n",
              "      <td>0.3158</td>\n",
              "      <td>0.1545</td>\n",
              "      <td>2020-01-04</td>\n",
              "      <td>92606</td>\n",
              "      <td>14709.40</td>\n",
              "      <td>2020 January</td>\n",
              "      <td>55</td>\n",
              "      <td>26195.32</td>\n",
              "      <td>58</td>\n",
              "      <td>4.0</td>\n",
              "      <td>61</td>\n",
              "      <td>92606</td>\n",
              "      <td>21</td>\n",
              "      <td>3</td>\n",
              "      <td>Orange</td>\n",
              "      <td>69</td>\n",
              "      <td>56</td>\n",
              "      <td>3</td>\n",
              "      <td>31</td>\n",
              "      <td>110.019048</td>\n",
              "      <td>1377.666667</td>\n",
              "      <td>4</td>\n",
              "      <td>9.677419</td>\n",
              "      <td>12.903226</td>\n",
              "      <td>459.248750</td>\n",
              "      <td>30</td>\n",
              "      <td>92</td>\n",
              "      <td>32.608696</td>\n",
              "    </tr>\n",
              "    <tr>\n",
              "      <th>3</th>\n",
              "      <td>Sunday</td>\n",
              "      <td>1192.31</td>\n",
              "      <td>12865</td>\n",
              "      <td>108</td>\n",
              "      <td>0.0084</td>\n",
              "      <td>11.04</td>\n",
              "      <td>5.00</td>\n",
              "      <td>0.0130</td>\n",
              "      <td>238.46</td>\n",
              "      <td>0.5741</td>\n",
              "      <td>0.3349</td>\n",
              "      <td>0.0910</td>\n",
              "      <td>2020-01-05</td>\n",
              "      <td>90638</td>\n",
              "      <td>3725.40</td>\n",
              "      <td>2020 January</td>\n",
              "      <td>6</td>\n",
              "      <td>264.00</td>\n",
              "      <td>32</td>\n",
              "      <td>1.0</td>\n",
              "      <td>6</td>\n",
              "      <td>90638</td>\n",
              "      <td>9</td>\n",
              "      <td>1</td>\n",
              "      <td>Los Angeles</td>\n",
              "      <td>69</td>\n",
              "      <td>52</td>\n",
              "      <td>2</td>\n",
              "      <td>15</td>\n",
              "      <td>67.914286</td>\n",
              "      <td>406.250000</td>\n",
              "      <td>1</td>\n",
              "      <td>13.333333</td>\n",
              "      <td>6.666667</td>\n",
              "      <td>846.000000</td>\n",
              "      <td>11</td>\n",
              "      <td>52</td>\n",
              "      <td>21.153846</td>\n",
              "    </tr>\n",
              "    <tr>\n",
              "      <th>4</th>\n",
              "      <td>Monday</td>\n",
              "      <td>2383.17</td>\n",
              "      <td>49514</td>\n",
              "      <td>188</td>\n",
              "      <td>0.0038</td>\n",
              "      <td>12.68</td>\n",
              "      <td>22.00</td>\n",
              "      <td>0.0566</td>\n",
              "      <td>108.33</td>\n",
              "      <td>0.6027</td>\n",
              "      <td>0.3596</td>\n",
              "      <td>0.0377</td>\n",
              "      <td>2020-01-06</td>\n",
              "      <td>90045</td>\n",
              "      <td>74598.75</td>\n",
              "      <td>2020 January</td>\n",
              "      <td>73</td>\n",
              "      <td>48506.16</td>\n",
              "      <td>62</td>\n",
              "      <td>5.0</td>\n",
              "      <td>82</td>\n",
              "      <td>90045</td>\n",
              "      <td>60</td>\n",
              "      <td>2</td>\n",
              "      <td>Los Angeles</td>\n",
              "      <td>77</td>\n",
              "      <td>60</td>\n",
              "      <td>8</td>\n",
              "      <td>91</td>\n",
              "      <td>78.753750</td>\n",
              "      <td>1646.943488</td>\n",
              "      <td>5</td>\n",
              "      <td>8.791209</td>\n",
              "      <td>5.494505</td>\n",
              "      <td>1820.060789</td>\n",
              "      <td>54</td>\n",
              "      <td>159</td>\n",
              "      <td>33.962264</td>\n",
              "    </tr>\n",
              "  </tbody>\n",
              "</table>\n",
              "</div>"
            ],
            "text/plain": [
              "  Day of week     Cost  Impressions  ...  bookedjob  totalcalls  Booking rate\n",
              "0    Thursday  3181.56        13361  ...         49         155     31.612903\n",
              "1      Friday  2684.67        16841  ...         56         176     31.818182\n",
              "2    Saturday  1338.36        30788  ...         30          92     32.608696\n",
              "3      Sunday  1192.31        12865  ...         11          52     21.153846\n",
              "4      Monday  2383.17        49514  ...         54         159     33.962264\n",
              "\n",
              "[5 rows x 38 columns]"
            ]
          },
          "metadata": {
            "tags": []
          },
          "execution_count": 216
        }
      ]
    },
    {
      "cell_type": "code",
      "metadata": {
        "colab": {
          "base_uri": "https://localhost:8080/"
        },
        "id": "SW6LHHZo_z95",
        "outputId": "ff410121-aaad-4ca8-85d1-b879af1166ac"
      },
      "source": [
        "df.columns"
      ],
      "id": "SW6LHHZo_z95",
      "execution_count": 217,
      "outputs": [
        {
          "output_type": "execute_result",
          "data": {
            "text/plain": [
              "Index(['Day of week', 'Cost', 'Impressions', 'Clicks', 'CTR', 'Avg. CPC',\n",
              "       'Conversions', 'Conv. rate', 'Cost / conv.', 'Search Impr. share',\n",
              "       'Search Lost IS (rank)', 'Search Lost IS (budget)', 'Created Date',\n",
              "       'Location Zip_x', 'Income_x', 'Year Month', 'Completed Jobs',\n",
              "       'Income_y', 'Lead Calls', 'Canceled Jobs_x', 'Future Scheduled Jobs',\n",
              "       'Location Zip_y', 'tech_count', 'Avg_job_per_day', 'county_name',\n",
              "       'TMAX', 'TMIN', 'Total Leads', 'Total Jobs ', 'Avg Service',\n",
              "       'Avg Install', 'Canceled Jobs_y', 'Turn over %', 'Canceled %',\n",
              "       'Avg Sales', 'bookedjob', 'totalcalls', 'Booking rate'],\n",
              "      dtype='object')"
            ]
          },
          "metadata": {
            "tags": []
          },
          "execution_count": 217
        }
      ]
    },
    {
      "cell_type": "code",
      "metadata": {
        "id": "bxNhpJ0HXcJt"
      },
      "source": [
        ""
      ],
      "id": "bxNhpJ0HXcJt",
      "execution_count": 217,
      "outputs": []
    },
    {
      "cell_type": "code",
      "metadata": {
        "colab": {
          "base_uri": "https://localhost:8080/"
        },
        "id": "Qbbv7aIvX2fS",
        "outputId": "a9716d1d-98ea-4e12-b35d-27522c3e522f"
      },
      "source": [
        "df.shape"
      ],
      "id": "Qbbv7aIvX2fS",
      "execution_count": 218,
      "outputs": [
        {
          "output_type": "execute_result",
          "data": {
            "text/plain": [
              "(350, 38)"
            ]
          },
          "metadata": {
            "tags": []
          },
          "execution_count": 218
        }
      ]
    },
    {
      "cell_type": "code",
      "metadata": {
        "id": "negative-rendering"
      },
      "source": [
        "df1=df[['Completed Jobs','tech_count','TMAX','Avg Sales','Income_y']]\n",
        "    "
      ],
      "id": "negative-rendering",
      "execution_count": 219,
      "outputs": []
    },
    {
      "cell_type": "code",
      "metadata": {
        "id": "FMFoEr_iYF0z"
      },
      "source": [
        "df1=df1.drop_duplicates(ignore_index=True)"
      ],
      "id": "FMFoEr_iYF0z",
      "execution_count": 220,
      "outputs": []
    },
    {
      "cell_type": "code",
      "metadata": {
        "colab": {
          "base_uri": "https://localhost:8080/"
        },
        "id": "aKJKZGLjYIfj",
        "outputId": "1efe3894-7f47-496c-fdb9-27de47523b13"
      },
      "source": [
        "df1.shape"
      ],
      "id": "aKJKZGLjYIfj",
      "execution_count": 221,
      "outputs": [
        {
          "output_type": "execute_result",
          "data": {
            "text/plain": [
              "(344, 5)"
            ]
          },
          "metadata": {
            "tags": []
          },
          "execution_count": 221
        }
      ]
    },
    {
      "cell_type": "code",
      "metadata": {
        "id": "retired-madagascar"
      },
      "source": [
        ""
      ],
      "id": "retired-madagascar",
      "execution_count": 221,
      "outputs": []
    },
    {
      "cell_type": "code",
      "metadata": {
        "colab": {
          "base_uri": "https://localhost:8080/",
          "height": 198
        },
        "id": "processed-needle",
        "outputId": "85e72a79-3dd7-40da-e197-3261dd4f28aa"
      },
      "source": [
        "df1.head()"
      ],
      "id": "processed-needle",
      "execution_count": 222,
      "outputs": [
        {
          "output_type": "execute_result",
          "data": {
            "text/html": [
              "<div>\n",
              "<style scoped>\n",
              "    .dataframe tbody tr th:only-of-type {\n",
              "        vertical-align: middle;\n",
              "    }\n",
              "\n",
              "    .dataframe tbody tr th {\n",
              "        vertical-align: top;\n",
              "    }\n",
              "\n",
              "    .dataframe thead th {\n",
              "        text-align: right;\n",
              "    }\n",
              "</style>\n",
              "<table border=\"1\" class=\"dataframe\">\n",
              "  <thead>\n",
              "    <tr style=\"text-align: right;\">\n",
              "      <th></th>\n",
              "      <th>Completed Jobs</th>\n",
              "      <th>tech_count</th>\n",
              "      <th>TMAX</th>\n",
              "      <th>Avg Sales</th>\n",
              "      <th>Income_y</th>\n",
              "    </tr>\n",
              "  </thead>\n",
              "  <tbody>\n",
              "    <tr>\n",
              "      <th>0</th>\n",
              "      <td>57</td>\n",
              "      <td>59</td>\n",
              "      <td>65</td>\n",
              "      <td>3617.444828</td>\n",
              "      <td>23933.54</td>\n",
              "    </tr>\n",
              "    <tr>\n",
              "      <th>1</th>\n",
              "      <td>77</td>\n",
              "      <td>40</td>\n",
              "      <td>71</td>\n",
              "      <td>1781.345385</td>\n",
              "      <td>65232.03</td>\n",
              "    </tr>\n",
              "    <tr>\n",
              "      <th>2</th>\n",
              "      <td>55</td>\n",
              "      <td>21</td>\n",
              "      <td>69</td>\n",
              "      <td>459.248750</td>\n",
              "      <td>26195.32</td>\n",
              "    </tr>\n",
              "    <tr>\n",
              "      <th>3</th>\n",
              "      <td>6</td>\n",
              "      <td>9</td>\n",
              "      <td>69</td>\n",
              "      <td>846.000000</td>\n",
              "      <td>264.00</td>\n",
              "    </tr>\n",
              "    <tr>\n",
              "      <th>4</th>\n",
              "      <td>73</td>\n",
              "      <td>60</td>\n",
              "      <td>77</td>\n",
              "      <td>1820.060789</td>\n",
              "      <td>48506.16</td>\n",
              "    </tr>\n",
              "  </tbody>\n",
              "</table>\n",
              "</div>"
            ],
            "text/plain": [
              "   Completed Jobs  tech_count  TMAX    Avg Sales  Income_y\n",
              "0              57          59    65  3617.444828  23933.54\n",
              "1              77          40    71  1781.345385  65232.03\n",
              "2              55          21    69   459.248750  26195.32\n",
              "3               6           9    69   846.000000    264.00\n",
              "4              73          60    77  1820.060789  48506.16"
            ]
          },
          "metadata": {
            "tags": []
          },
          "execution_count": 222
        }
      ]
    },
    {
      "cell_type": "code",
      "metadata": {
        "id": "royal-designation"
      },
      "source": [
        ""
      ],
      "id": "royal-designation",
      "execution_count": 222,
      "outputs": []
    },
    {
      "cell_type": "code",
      "metadata": {
        "id": "renewable-beaver",
        "colab": {
          "base_uri": "https://localhost:8080/",
          "height": 355
        },
        "outputId": "5c73f4a4-2a62-45a1-afde-a7afbaded324"
      },
      "source": [
        "sns.heatmap(df1.corr(method='spearman'),annot=True)"
      ],
      "id": "renewable-beaver",
      "execution_count": 223,
      "outputs": [
        {
          "output_type": "execute_result",
          "data": {
            "text/plain": [
              "<matplotlib.axes._subplots.AxesSubplot at 0x7fed7a47add0>"
            ]
          },
          "metadata": {
            "tags": []
          },
          "execution_count": 223
        },
        {
          "output_type": "display_data",
          "data": {
            "image/png": "[encoded data removed]",
            "text/plain": [
              "<Figure size 432x288 with 2 Axes>"
            ]
          },
          "metadata": {
            "tags": [],
            "needs_background": "light"
          }
        }
      ]
    },
    {
      "cell_type": "code",
      "metadata": {
        "colab": {
          "base_uri": "https://localhost:8080/"
        },
        "id": "PC41CO_6h0qs",
        "outputId": "11bcefac-f8b8-4bef-f9ea-aa762e192570"
      },
      "source": [
        "76**3*1.7543"
      ],
      "id": "PC41CO_6h0qs",
      "execution_count": 224,
      "outputs": [
        {
          "output_type": "execute_result",
          "data": {
            "text/plain": [
              "770095.5967999999"
            ]
          },
          "metadata": {
            "tags": []
          },
          "execution_count": 224
        }
      ]
    },
    {
      "cell_type": "code",
      "metadata": {
        "colab": {
          "base_uri": "https://localhost:8080/",
          "height": 198
        },
        "id": "studied-grant",
        "outputId": "2aa9ad06-6a66-495c-c933-2b0628ee6bad"
      },
      "source": [
        "df1.head()"
      ],
      "id": "studied-grant",
      "execution_count": 225,
      "outputs": [
        {
          "output_type": "execute_result",
          "data": {
            "text/html": [
              "<div>\n",
              "<style scoped>\n",
              "    .dataframe tbody tr th:only-of-type {\n",
              "        vertical-align: middle;\n",
              "    }\n",
              "\n",
              "    .dataframe tbody tr th {\n",
              "        vertical-align: top;\n",
              "    }\n",
              "\n",
              "    .dataframe thead th {\n",
              "        text-align: right;\n",
              "    }\n",
              "</style>\n",
              "<table border=\"1\" class=\"dataframe\">\n",
              "  <thead>\n",
              "    <tr style=\"text-align: right;\">\n",
              "      <th></th>\n",
              "      <th>Completed Jobs</th>\n",
              "      <th>tech_count</th>\n",
              "      <th>TMAX</th>\n",
              "      <th>Avg Sales</th>\n",
              "      <th>Income_y</th>\n",
              "    </tr>\n",
              "  </thead>\n",
              "  <tbody>\n",
              "    <tr>\n",
              "      <th>0</th>\n",
              "      <td>57</td>\n",
              "      <td>59</td>\n",
              "      <td>65</td>\n",
              "      <td>3617.444828</td>\n",
              "      <td>23933.54</td>\n",
              "    </tr>\n",
              "    <tr>\n",
              "      <th>1</th>\n",
              "      <td>77</td>\n",
              "      <td>40</td>\n",
              "      <td>71</td>\n",
              "      <td>1781.345385</td>\n",
              "      <td>65232.03</td>\n",
              "    </tr>\n",
              "    <tr>\n",
              "      <th>2</th>\n",
              "      <td>55</td>\n",
              "      <td>21</td>\n",
              "      <td>69</td>\n",
              "      <td>459.248750</td>\n",
              "      <td>26195.32</td>\n",
              "    </tr>\n",
              "    <tr>\n",
              "      <th>3</th>\n",
              "      <td>6</td>\n",
              "      <td>9</td>\n",
              "      <td>69</td>\n",
              "      <td>846.000000</td>\n",
              "      <td>264.00</td>\n",
              "    </tr>\n",
              "    <tr>\n",
              "      <th>4</th>\n",
              "      <td>73</td>\n",
              "      <td>60</td>\n",
              "      <td>77</td>\n",
              "      <td>1820.060789</td>\n",
              "      <td>48506.16</td>\n",
              "    </tr>\n",
              "  </tbody>\n",
              "</table>\n",
              "</div>"
            ],
            "text/plain": [
              "   Completed Jobs  tech_count  TMAX    Avg Sales  Income_y\n",
              "0              57          59    65  3617.444828  23933.54\n",
              "1              77          40    71  1781.345385  65232.03\n",
              "2              55          21    69   459.248750  26195.32\n",
              "3               6           9    69   846.000000    264.00\n",
              "4              73          60    77  1820.060789  48506.16"
            ]
          },
          "metadata": {
            "tags": []
          },
          "execution_count": 225
        }
      ]
    },
    {
      "cell_type": "code",
      "metadata": {
        "id": "bWx84n6yg3Or"
      },
      "source": [
        ""
      ],
      "id": "bWx84n6yg3Or",
      "execution_count": 225,
      "outputs": []
    },
    {
      "cell_type": "code",
      "metadata": {
        "id": "soviet-language"
      },
      "source": [
        "\n",
        "df1['f1']=np.sqrt(df1['Completed Jobs']**3)*np.abs(df1['Avg Sales'])\n",
        "df1['f2']=np.abs(np.sqrt(df1['Completed Jobs']) - np.sqrt(df1['tech_count']))\n",
        "df1['f3']=np.log(np.sqrt(df1['Completed Jobs'])*df1['TMAX']**3)"
      ],
      "id": "soviet-language",
      "execution_count": 227,
      "outputs": []
    },
    {
      "cell_type": "code",
      "metadata": {
        "id": "Nfmdz80k7rD8"
      },
      "source": [
        ""
      ],
      "id": "Nfmdz80k7rD8",
      "execution_count": 227,
      "outputs": []
    },
    {
      "cell_type": "code",
      "metadata": {
        "colab": {
          "base_uri": "https://localhost:8080/"
        },
        "id": "textile-reducing",
        "outputId": "827c538b-4fce-4416-85d5-59abcef470db"
      },
      "source": [
        "df1.columns"
      ],
      "id": "textile-reducing",
      "execution_count": 228,
      "outputs": [
        {
          "output_type": "execute_result",
          "data": {
            "text/plain": [
              "Index(['Completed Jobs', 'tech_count', 'TMAX', 'Avg Sales', 'Income_y', 'f1',\n",
              "       'f2', 'f3'],\n",
              "      dtype='object')"
            ]
          },
          "metadata": {
            "tags": []
          },
          "execution_count": 228
        }
      ]
    },
    {
      "cell_type": "code",
      "metadata": {
        "id": "PczCtZbB78Lf"
      },
      "source": [
        "df1=df1[[ 'Income_y', 'f1',\n",
        "       'f2', 'f3']]"
      ],
      "id": "PczCtZbB78Lf",
      "execution_count": 307,
      "outputs": []
    },
    {
      "cell_type": "code",
      "metadata": {
        "colab": {
          "base_uri": "https://localhost:8080/",
          "height": 1000
        },
        "id": "sunset-greek",
        "outputId": "2520cec5-d3e2-4dbd-aea3-e782db1a70ba"
      },
      "source": [
        "for i in df1.columns:\n",
        "    sns.scatterplot(df1[i],df1['Income_y'])\n",
        "    plt.show()"
      ],
      "id": "sunset-greek",
      "execution_count": 308,
      "outputs": [
        {
          "output_type": "stream",
          "text": [
            "/usr/local/lib/python3.7/dist-packages/seaborn/_decorators.py:43: FutureWarning: Pass the following variables as keyword args: x, y. From version 0.12, the only valid positional argument will be `data`, and passing other arguments without an explicit keyword will result in an error or misinterpretation.\n",
            "  FutureWarning\n"
          ],
          "name": "stderr"
        },
        {
          "output_type": "display_data",
          "data": {
            "image/png": "[encoded data removed]",
            "text/plain": [
              "<Figure size 432x288 with 1 Axes>"
            ]
          },
          "metadata": {
            "tags": [],
            "needs_background": "light"
          }
        },
        {
          "output_type": "stream",
          "text": [
            "/usr/local/lib/python3.7/dist-packages/seaborn/_decorators.py:43: FutureWarning: Pass the following variables as keyword args: x, y. From version 0.12, the only valid positional argument will be `data`, and passing other arguments without an explicit keyword will result in an error or misinterpretation.\n",
            "  FutureWarning\n"
          ],
          "name": "stderr"
        },
        {
          "output_type": "display_data",
          "data": {
            "image/png": "[encoded data removed]",
            "text/plain": [
              "<Figure size 432x288 with 1 Axes>"
            ]
          },
          "metadata": {
            "tags": [],
            "needs_background": "light"
          }
        },
        {
          "output_type": "stream",
          "text": [
            "/usr/local/lib/python3.7/dist-packages/seaborn/_decorators.py:43: FutureWarning: Pass the following variables as keyword args: x, y. From version 0.12, the only valid positional argument will be `data`, and passing other arguments without an explicit keyword will result in an error or misinterpretation.\n",
            "  FutureWarning\n"
          ],
          "name": "stderr"
        },
        {
          "output_type": "display_data",
          "data": {
            "image/png": "[encoded data removed]",
            "text/plain": [
              "<Figure size 432x288 with 1 Axes>"
            ]
          },
          "metadata": {
            "tags": [],
            "needs_background": "light"
          }
        },
        {
          "output_type": "stream",
          "text": [
            "/usr/local/lib/python3.7/dist-packages/seaborn/_decorators.py:43: FutureWarning: Pass the following variables as keyword args: x, y. From version 0.12, the only valid positional argument will be `data`, and passing other arguments without an explicit keyword will result in an error or misinterpretation.\n",
            "  FutureWarning\n"
          ],
          "name": "stderr"
        },
        {
          "output_type": "display_data",
          "data": {
            "image/png": "[encoded data removed]",
            "text/plain": [
              "<Figure size 432x288 with 1 Axes>"
            ]
          },
          "metadata": {
            "tags": [],
            "needs_background": "light"
          }
        }
      ]
    },
    {
      "cell_type": "code",
      "metadata": {
        "colab": {
          "base_uri": "https://localhost:8080/",
          "height": 288
        },
        "id": "olympic-white",
        "outputId": "af234f2f-1e24-45cb-a31b-43b9273a8244"
      },
      "source": [
        "sns.heatmap(df1.corr(method='spearman'),annot=True)"
      ],
      "id": "olympic-white",
      "execution_count": 309,
      "outputs": [
        {
          "output_type": "execute_result",
          "data": {
            "text/plain": [
              "<matplotlib.axes._subplots.AxesSubplot at 0x7fed786f6d90>"
            ]
          },
          "metadata": {
            "tags": []
          },
          "execution_count": 309
        },
        {
          "output_type": "display_data",
          "data": {
            "image/png": "[encoded data removed]",
            "text/plain": [
              "<Figure size 432x288 with 2 Axes>"
            ]
          },
          "metadata": {
            "tags": [],
            "needs_background": "light"
          }
        }
      ]
    },
    {
      "cell_type": "code",
      "metadata": {
        "id": "removed-company"
      },
      "source": [
        ""
      ],
      "id": "removed-company",
      "execution_count": 309,
      "outputs": []
    },
    {
      "cell_type": "code",
      "metadata": {
        "id": "lightweight-mozambique"
      },
      "source": [
        "train=df1[0:300]\n",
        "test=df1[300:]"
      ],
      "id": "lightweight-mozambique",
      "execution_count": 310,
      "outputs": []
    },
    {
      "cell_type": "code",
      "metadata": {
        "id": "asian-sword"
      },
      "source": [
        "y=train['Income_y']\n",
        "X=train.drop(['Income_y'],axis=1)"
      ],
      "id": "asian-sword",
      "execution_count": 311,
      "outputs": []
    },
    {
      "cell_type": "code",
      "metadata": {
        "colab": {
          "base_uri": "https://localhost:8080/",
          "height": 198
        },
        "id": "bound-tourist",
        "outputId": "374330c5-ea2a-4155-8e3a-38c39b849341"
      },
      "source": [
        "X.head()"
      ],
      "id": "bound-tourist",
      "execution_count": 312,
      "outputs": [
        {
          "output_type": "execute_result",
          "data": {
            "text/html": [
              "<div>\n",
              "<style scoped>\n",
              "    .dataframe tbody tr th:only-of-type {\n",
              "        vertical-align: middle;\n",
              "    }\n",
              "\n",
              "    .dataframe tbody tr th {\n",
              "        vertical-align: top;\n",
              "    }\n",
              "\n",
              "    .dataframe thead th {\n",
              "        text-align: right;\n",
              "    }\n",
              "</style>\n",
              "<table border=\"1\" class=\"dataframe\">\n",
              "  <thead>\n",
              "    <tr style=\"text-align: right;\">\n",
              "      <th></th>\n",
              "      <th>f1</th>\n",
              "      <th>f2</th>\n",
              "      <th>f3</th>\n",
              "    </tr>\n",
              "  </thead>\n",
              "  <tbody>\n",
              "    <tr>\n",
              "      <th>0</th>\n",
              "      <td>1.556733e+06</td>\n",
              "      <td>0.131311</td>\n",
              "      <td>14.544687</td>\n",
              "    </tr>\n",
              "    <tr>\n",
              "      <th>1</th>\n",
              "      <td>1.203606e+06</td>\n",
              "      <td>2.450409</td>\n",
              "      <td>14.959942</td>\n",
              "    </tr>\n",
              "    <tr>\n",
              "      <th>2</th>\n",
              "      <td>1.873234e+05</td>\n",
              "      <td>2.833623</td>\n",
              "      <td>14.705986</td>\n",
              "    </tr>\n",
              "    <tr>\n",
              "      <th>3</th>\n",
              "      <td>1.243361e+04</td>\n",
              "      <td>0.550510</td>\n",
              "      <td>13.598199</td>\n",
              "    </tr>\n",
              "    <tr>\n",
              "      <th>4</th>\n",
              "      <td>1.135194e+06</td>\n",
              "      <td>0.798037</td>\n",
              "      <td>15.176646</td>\n",
              "    </tr>\n",
              "  </tbody>\n",
              "</table>\n",
              "</div>"
            ],
            "text/plain": [
              "             f1        f2         f3\n",
              "0  1.556733e+06  0.131311  14.544687\n",
              "1  1.203606e+06  2.450409  14.959942\n",
              "2  1.873234e+05  2.833623  14.705986\n",
              "3  1.243361e+04  0.550510  13.598199\n",
              "4  1.135194e+06  0.798037  15.176646"
            ]
          },
          "metadata": {
            "tags": []
          },
          "execution_count": 312
        }
      ]
    },
    {
      "cell_type": "code",
      "metadata": {
        "id": "resident-excellence"
      },
      "source": [
        "from sklearn.preprocessing import StandardScaler,MinMaxScaler\n",
        "\n",
        "\n"
      ],
      "id": "resident-excellence",
      "execution_count": 313,
      "outputs": []
    },
    {
      "cell_type": "code",
      "metadata": {
        "id": "intensive-hindu"
      },
      "source": [
        "scaler=MinMaxScaler()"
      ],
      "id": "intensive-hindu",
      "execution_count": 314,
      "outputs": []
    },
    {
      "cell_type": "code",
      "metadata": {
        "id": "continued-headset"
      },
      "source": [
        ""
      ],
      "id": "continued-headset",
      "execution_count": 314,
      "outputs": []
    },
    {
      "cell_type": "code",
      "metadata": {
        "id": "meaning-casting"
      },
      "source": [
        ""
      ],
      "id": "meaning-casting",
      "execution_count": 314,
      "outputs": []
    },
    {
      "cell_type": "code",
      "metadata": {
        "id": "decimal-tattoo"
      },
      "source": [
        ""
      ],
      "id": "decimal-tattoo",
      "execution_count": 314,
      "outputs": []
    },
    {
      "cell_type": "code",
      "metadata": {
        "id": "extensive-glucose"
      },
      "source": [
        "X=scaler.fit_transform(X)"
      ],
      "id": "extensive-glucose",
      "execution_count": 315,
      "outputs": []
    },
    {
      "cell_type": "code",
      "metadata": {
        "colab": {
          "base_uri": "https://localhost:8080/"
        },
        "id": "engaged-allen",
        "outputId": "3435381c-e4ec-4e6d-a4c1-3f784ce2192c"
      },
      "source": [
        "X"
      ],
      "id": "engaged-allen",
      "execution_count": 316,
      "outputs": [
        {
          "output_type": "execute_result",
          "data": {
            "text/plain": [
              "array([[2.23795951e-01, 2.20829826e-02, 4.73072826e-01],\n",
              "       [1.73022215e-01, 4.12091995e-01, 5.84140126e-01],\n",
              "       [2.68981272e-02, 4.76538095e-01, 5.16215019e-01],\n",
              "       [1.75195363e-03, 9.25808157e-02, 2.19917742e-01],\n",
              "       [1.63185820e-01, 1.34208074e-01, 6.42101365e-01],\n",
              "       [9.79095648e-02, 1.57620557e-01, 6.22399059e-01],\n",
              "       [6.38497802e-02, 3.83452317e-01, 4.38265291e-01],\n",
              "       [1.19089949e-03, 2.48015810e-02, 2.02096360e-01],\n",
              "       [1.76089420e-01, 4.62088323e-02, 4.17332741e-01],\n",
              "       [6.82973037e-02, 5.66532140e-01, 4.58810964e-01],\n",
              "       [1.26083832e-01, 3.28281605e-01, 4.32061711e-01],\n",
              "       [8.75498086e-02, 3.77118772e-01, 4.33121045e-01],\n",
              "       [2.24273874e-02, 4.95766864e-01, 5.15014388e-01],\n",
              "       [8.78655484e-05, 1.23110987e-01, 1.44487659e-02],\n",
              "       [1.10188487e-01, 9.52091853e-02, 4.14878840e-01],\n",
              "       [6.38514317e-02, 4.41945161e-01, 3.72114933e-01],\n",
              "       [9.55142233e-02, 2.65968048e-01, 4.52721028e-01],\n",
              "       [1.51573833e-01, 3.34086107e-01, 6.52455100e-01],\n",
              "       [5.34081208e-02, 4.30330944e-01, 5.44301005e-01],\n",
              "       [8.86700271e-04, 3.60046481e-01, 7.93015673e-02],\n",
              "       [1.57142194e-01, 1.87128680e-01, 5.39396958e-01],\n",
              "       [1.61890662e-01, 2.88911651e-01, 6.06498525e-01],\n",
              "       [3.27066500e-01, 2.21411069e-01, 4.84317587e-01],\n",
              "       [6.79799924e-02, 4.00182116e-01, 5.77005960e-01],\n",
              "       [9.98170001e-02, 2.76784687e-01, 5.86196918e-01],\n",
              "       [7.04615344e-02, 3.38859674e-01, 6.47218990e-01],\n",
              "       [3.81768967e-05, 0.00000000e+00, 1.94126156e-01],\n",
              "       [1.33026461e-01, 1.15630507e-01, 3.26630533e-01],\n",
              "       [2.34710226e-01, 2.56980287e-01, 3.07883366e-01],\n",
              "       [1.15953763e-01, 5.31915236e-01, 5.13464867e-01],\n",
              "       [5.09301078e-02, 6.77946499e-01, 5.03079231e-01],\n",
              "       [1.66589610e-01, 2.72550542e-01, 4.89942325e-01],\n",
              "       [2.41177238e-01, 2.68370502e-01, 5.18405318e-01],\n",
              "       [1.93723218e-01, 2.59659333e-01, 5.06159681e-01],\n",
              "       [1.69929286e-01, 4.03989530e-01, 5.59533379e-01],\n",
              "       [1.32257258e-01, 4.24261875e-01, 5.00814134e-01],\n",
              "       [1.28011110e-01, 1.53537727e-01, 4.80151863e-01],\n",
              "       [6.95206482e-03, 1.24726551e-01, 2.74142166e-01],\n",
              "       [2.41323128e-01, 2.15248953e-01, 5.94690812e-01],\n",
              "       [2.39451075e-01, 2.47549582e-01, 5.87569387e-01],\n",
              "       [1.02294391e-01, 3.04434639e-01, 6.38660260e-01],\n",
              "       [2.08312992e-01, 3.89264999e-01, 6.47487350e-01],\n",
              "       [3.86583303e-02, 2.63655221e-01, 4.73689209e-01],\n",
              "       [1.37521438e-01, 1.24659807e-02, 5.80340645e-01],\n",
              "       [7.57567984e-02, 3.54222575e-01, 6.32752794e-01],\n",
              "       [1.36337984e-01, 2.01875400e-01, 6.13626480e-01],\n",
              "       [1.36699756e-01, 1.55707141e-01, 6.66855957e-01],\n",
              "       [1.14709135e-01, 1.08784267e-01, 6.69102334e-01],\n",
              "       [6.08447009e-02, 5.39391262e-01, 4.43785111e-01],\n",
              "       [9.19112268e-03, 2.13234484e-01, 6.68609569e-02],\n",
              "       [1.36008475e-01, 1.25289365e-01, 5.26761725e-01],\n",
              "       [1.07552824e-01, 2.25638775e-01, 6.38974096e-01],\n",
              "       [1.26681649e-01, 4.41945161e-01, 5.99296374e-01],\n",
              "       [7.83072754e-02, 2.29824904e-01, 5.48466557e-01],\n",
              "       [2.80628641e-01, 4.10772244e-01, 6.56008313e-01],\n",
              "       [1.35473452e-01, 4.42046551e-01, 4.85112158e-01],\n",
              "       [2.22112473e-03, 4.34858778e-01, 0.00000000e+00],\n",
              "       [1.22254927e-01, 3.97997640e-01, 6.15372235e-01],\n",
              "       [1.18508128e-01, 1.37525518e-01, 4.42016606e-01],\n",
              "       [1.56219370e-01, 2.14928373e-01, 5.70821489e-01],\n",
              "       [4.60533416e-02, 4.28809240e-01, 5.04249589e-01],\n",
              "       [3.73157151e-01, 3.21336754e-01, 3.86573041e-01],\n",
              "       [9.08766793e-02, 4.09388422e-01, 3.29995335e-01],\n",
              "       [6.69124952e-04, 9.96186580e-02, 5.61870120e-02],\n",
              "       [6.47821495e-02, 2.26775758e-01, 3.31797458e-01],\n",
              "       [1.02527508e-01, 3.94093842e-01, 4.38218080e-01],\n",
              "       [1.72982787e-01, 2.01056310e-01, 5.18410351e-01],\n",
              "       [1.31176205e-01, 2.55497992e-01, 3.39795306e-01],\n",
              "       [4.12709627e-02, 4.75664326e-01, 4.43109297e-01],\n",
              "       [2.57421549e-02, 1.07141069e-01, 2.93843375e-01],\n",
              "       [5.21452573e-02, 6.14421825e-02, 3.70789056e-01],\n",
              "       [6.94624128e-02, 1.33068343e-01, 4.02841343e-01],\n",
              "       [7.90944134e-02, 5.60792348e-02, 3.67885036e-01],\n",
              "       [8.02999730e-02, 6.04409177e-02, 3.22268794e-01],\n",
              "       [2.50954606e-02, 1.90433779e-02, 3.57327902e-01],\n",
              "       [1.04430990e-03, 2.46221973e-01, 1.05333798e-01],\n",
              "       [4.27814138e-02, 6.96312657e-02, 4.70241116e-01],\n",
              "       [1.02611067e-01, 1.33213685e-01, 5.45513549e-01],\n",
              "       [1.70828134e-02, 1.01834806e-01, 4.63200865e-01],\n",
              "       [8.12467082e-02, 2.35534701e-01, 5.30170274e-01],\n",
              "       [1.17199853e-01, 1.35879923e-01, 4.60795045e-01],\n",
              "       [1.37678199e-01, 1.91807081e-01, 4.51892677e-01],\n",
              "       [1.50171109e-04, 3.58917220e-02, 3.79540828e-02],\n",
              "       [7.48751349e-02, 0.00000000e+00, 3.13463961e-01],\n",
              "       [1.31309735e-01, 3.71847164e-01, 4.85112158e-01],\n",
              "       [2.67250982e-01, 1.60698225e-01, 3.29297686e-01],\n",
              "       [7.82890773e-02, 3.11107083e-01, 3.66768940e-01],\n",
              "       [1.24965350e-01, 3.58114628e-01, 4.20091055e-01],\n",
              "       [1.01392854e-01, 1.76387229e-01, 4.46639317e-01],\n",
              "       [1.24803424e-01, 1.70371467e-01, 3.48709467e-01],\n",
              "       [2.44203490e-01, 2.98855974e-01, 6.19139636e-01],\n",
              "       [1.22700729e-01, 3.54222575e-01, 6.32752794e-01],\n",
              "       [1.64087284e-01, 2.73770792e-01, 5.98743664e-01],\n",
              "       [2.38493653e-01, 3.76212026e-01, 4.99105056e-01],\n",
              "       [1.24297648e-02, 1.88875745e-01, 2.13782644e-01],\n",
              "       [1.64362623e-01, 3.40217738e-01, 5.02444612e-01],\n",
              "       [2.15103906e-01, 4.49463091e-01, 6.35205431e-01],\n",
              "       [1.78285898e-01, 3.41787925e-01, 6.77446937e-01],\n",
              "       [5.38298428e-01, 5.62909431e-01, 8.47505266e-01],\n",
              "       [5.17840155e-01, 6.07061770e-01, 8.29059167e-01],\n",
              "       [6.87318476e-01, 5.28905751e-01, 8.61307081e-01],\n",
              "       [2.50902123e-01, 2.53069565e-01, 7.05892807e-01],\n",
              "       [3.26215155e-01, 6.15832376e-01, 8.14009143e-01],\n",
              "       [5.04586771e-01, 5.02594116e-01, 7.62963641e-01],\n",
              "       [6.40314647e-01, 7.78921555e-01, 8.36388885e-01],\n",
              "       [6.64418676e-01, 7.96864860e-01, 7.39301879e-01],\n",
              "       [3.74560272e-01, 6.67826514e-01, 6.26885978e-01],\n",
              "       [3.28545677e-02, 2.83531049e-01, 5.64432473e-01],\n",
              "       [5.80691280e-01, 5.70186990e-01, 8.48507023e-01],\n",
              "       [5.99814125e-01, 5.54223161e-01, 9.03522528e-01],\n",
              "       [8.26876856e-01, 6.25004840e-01, 8.59976953e-01],\n",
              "       [4.11619376e-01, 6.55016933e-01, 7.89395075e-01],\n",
              "       [3.93689709e-01, 6.10876341e-01, 7.07288790e-01],\n",
              "       [7.60625556e-01, 8.62052116e-01, 7.43873757e-01],\n",
              "       [7.09881526e-01, 6.52198151e-01, 6.70616087e-01],\n",
              "       [5.45959083e-01, 8.91580482e-01, 7.05172623e-01],\n",
              "       [4.80827725e-01, 6.02507514e-01, 7.66532224e-01],\n",
              "       [1.70270416e-03, 1.37624209e-01, 2.96667913e-01],\n",
              "       [6.86462171e-01, 3.77875856e-01, 5.16856199e-01],\n",
              "       [4.73746288e-01, 5.52674694e-01, 6.45849740e-01],\n",
              "       [4.32399886e-01, 6.03016016e-01, 7.43625362e-01],\n",
              "       [3.91341113e-01, 5.14828060e-01, 7.81025997e-01],\n",
              "       [3.15130571e-01, 6.32170605e-01, 7.04834889e-01],\n",
              "       [1.89918170e-01, 7.43947904e-01, 5.85977365e-01],\n",
              "       [5.62919210e-03, 1.81720195e-01, 3.34040207e-01],\n",
              "       [4.47469033e-01, 2.96197373e-01, 8.12331606e-01],\n",
              "       [5.56578628e-01, 6.65797131e-01, 8.23497794e-01],\n",
              "       [5.45813287e-01, 5.70186990e-01, 8.30474729e-01],\n",
              "       [5.42445455e-01, 5.70031918e-01, 6.36479333e-01],\n",
              "       [4.35051488e-01, 4.51331461e-01, 7.22058583e-01],\n",
              "       [2.87698631e-01, 5.97511165e-01, 7.38938052e-01],\n",
              "       [4.71504174e-01, 4.96858131e-01, 8.24784255e-01],\n",
              "       [3.84851081e-01, 6.02697703e-01, 8.78243296e-01],\n",
              "       [3.79328037e-01, 6.60739272e-01, 6.77793485e-01],\n",
              "       [2.13807946e-01, 5.58541516e-01, 5.20623599e-01],\n",
              "       [2.68454574e-01, 5.31915236e-01, 5.98006492e-01],\n",
              "       [7.36329444e-04, 3.30058447e-02, 3.49131255e-01],\n",
              "       [4.62855626e-01, 3.54761054e-01, 8.05291355e-01],\n",
              "       [6.77959586e-01, 5.38713841e-01, 9.28917858e-01],\n",
              "       [6.83907312e-01, 6.03268340e-01, 8.81227549e-01],\n",
              "       [5.02657723e-01, 5.78391327e-01, 8.22578657e-01],\n",
              "       [5.39174658e-01, 7.49179286e-01, 7.70853441e-01],\n",
              "       [4.52540035e-01, 6.45387139e-01, 7.17806041e-01],\n",
              "       [7.27267072e-03, 1.14925078e-01, 3.35128612e-01],\n",
              "       [5.81128031e-01, 5.88469049e-01, 7.24384443e-01],\n",
              "       [4.50126390e-01, 4.93026444e-01, 7.07754066e-01],\n",
              "       [3.50932066e-01, 6.80973081e-01, 6.90439172e-01],\n",
              "       [2.62731980e-01, 4.58826906e-01, 6.28141704e-01],\n",
              "       [2.97738580e-01, 6.84765200e-01, 7.88995480e-01],\n",
              "       [1.86398797e-01, 6.37235908e-01, 5.64642019e-01],\n",
              "       [2.81624179e-01, 5.59781284e-01, 7.61920254e-01],\n",
              "       [3.80842955e-01, 5.02133401e-01, 7.58353806e-01],\n",
              "       [3.14317886e-01, 5.31882333e-01, 6.61223525e-01],\n",
              "       [3.22050138e-01, 7.29378485e-01, 7.95007110e-01],\n",
              "       [2.47615390e-01, 3.59614481e-01, 6.16225786e-01],\n",
              "       [2.12896226e-02, 1.30929045e-01, 3.55125305e-01],\n",
              "       [3.15552497e-01, 6.17923475e-01, 6.46778259e-01],\n",
              "       [5.83410052e-01, 5.10430147e-01, 7.39851418e-01],\n",
              "       [2.23421806e-01, 4.64015612e-01, 6.41840935e-01],\n",
              "       [1.80950005e-01, 5.00954257e-01, 6.42714561e-01],\n",
              "       [1.90109715e-01, 5.95678997e-01, 7.93983167e-01],\n",
              "       [2.67637935e-02, 8.70385307e-02, 5.26532410e-01],\n",
              "       [5.69520365e-01, 5.25431436e-01, 8.78525763e-01],\n",
              "       [6.55679840e-01, 9.65334323e-01, 8.74191379e-01],\n",
              "       [7.45867091e-01, 7.73429996e-01, 7.40670398e-01],\n",
              "       [5.54197693e-01, 9.18378479e-01, 8.44635361e-01],\n",
              "       [4.62661321e-01, 8.35476244e-01, 8.89858536e-01],\n",
              "       [4.69170844e-01, 7.24237793e-01, 9.77097261e-01],\n",
              "       [2.66323875e-02, 3.43355712e-02, 5.85618987e-01],\n",
              "       [6.33233944e-01, 7.82095219e-01, 8.72149027e-01],\n",
              "       [9.00121631e-01, 8.30977889e-01, 7.55970938e-01],\n",
              "       [7.41792950e-01, 8.67150973e-01, 8.21510080e-01],\n",
              "       [4.47846562e-01, 7.68516621e-01, 8.70540380e-01],\n",
              "       [4.59268206e-01, 6.94280182e-01, 6.87333450e-01],\n",
              "       [4.95181696e-01, 7.54150334e-01, 7.04730395e-01],\n",
              "       [5.94725760e-01, 6.31952002e-01, 8.78525763e-01],\n",
              "       [4.39808542e-01, 4.95623252e-01, 7.47871239e-01],\n",
              "       [2.26752931e-01, 7.39625355e-01, 7.83848925e-01],\n",
              "       [1.36912749e-01, 5.86658114e-01, 7.23905936e-01],\n",
              "       [2.02350403e-01, 3.32897125e-01, 7.69392854e-01],\n",
              "       [1.35128890e-02, 5.32476570e-02, 3.23906005e-01],\n",
              "       [4.24735832e-01, 6.77063847e-01, 8.48507023e-01],\n",
              "       [4.80110518e-01, 5.36050737e-01, 8.71042195e-01],\n",
              "       [2.92015189e-01, 7.07841633e-01, 8.89879666e-01],\n",
              "       [1.79860932e-01, 5.55456946e-01, 6.99344740e-01],\n",
              "       [5.12512235e-01, 6.76685014e-01, 9.28077769e-01],\n",
              "       [4.43649120e-01, 8.27580309e-01, 9.52713876e-01],\n",
              "       [4.87345331e-02, 2.41307336e-01, 6.09547874e-01],\n",
              "       [5.35891291e-01, 6.21125167e-01, 9.09918240e-01],\n",
              "       [5.14232003e-01, 7.18178438e-01, 7.03205913e-01],\n",
              "       [4.50814275e-01, 6.65671536e-01, 6.89217057e-01],\n",
              "       [2.80790073e-01, 4.88013649e-01, 6.56539749e-01],\n",
              "       [3.72864772e-01, 4.69149303e-01, 8.14358155e-01],\n",
              "       [1.15155967e-01, 9.12083821e-01, 7.30690116e-01],\n",
              "       [9.80546719e-03, 9.74358733e-02, 5.81323869e-01],\n",
              "       [5.23556249e-01, 5.26104139e-01, 8.85764452e-01],\n",
              "       [4.08606131e-01, 6.79234787e-01, 8.82592749e-01],\n",
              "       [3.59736907e-01, 4.89166072e-01, 7.48089005e-01],\n",
              "       [5.55979672e-01, 6.90021104e-01, 9.67542437e-01],\n",
              "       [3.79910640e-01, 7.49738203e-01, 8.72952711e-01],\n",
              "       [9.44847643e-02, 1.86944448e-01, 7.41916222e-01],\n",
              "       [8.47527837e-01, 6.94961202e-01, 9.81545839e-01],\n",
              "       [9.88697798e-01, 1.00000000e+00, 8.95906808e-01],\n",
              "       [1.00000000e+00, 8.82678911e-01, 9.44862278e-01],\n",
              "       [5.54487308e-01, 9.18378479e-01, 8.35250421e-01],\n",
              "       [4.26399573e-01, 9.82291857e-01, 9.05180206e-01],\n",
              "       [4.11721913e-01, 6.33581695e-01, 7.66926416e-01],\n",
              "       [9.08279640e-01, 8.02135116e-01, 7.87035590e-01],\n",
              "       [9.20217326e-01, 7.39468829e-01, 7.97352687e-01],\n",
              "       [5.68106620e-01, 9.41043732e-01, 9.86911242e-01],\n",
              "       [5.13052323e-01, 8.64196483e-01, 9.49533027e-01],\n",
              "       [2.77828341e-01, 8.49737511e-01, 6.81068764e-01],\n",
              "       [3.15949435e-03, 1.07141069e-01, 5.97676473e-01],\n",
              "       [4.42912218e-01, 5.65678652e-01, 6.74355126e-01],\n",
              "       [3.47929968e-01, 6.87916713e-01, 7.72082145e-01],\n",
              "       [4.78360248e-01, 7.30288023e-01, 8.11336271e-01],\n",
              "       [5.66896096e-01, 6.56324073e-01, 9.17148860e-01],\n",
              "       [4.31607860e-01, 4.15247035e-01, 7.87885649e-01],\n",
              "       [2.95317219e-01, 6.76990566e-01, 1.00000000e+00],\n",
              "       [6.11932373e-02, 2.17195528e-01, 8.49650487e-01],\n",
              "       [3.09735037e-01, 5.39255228e-01, 7.97727215e-01],\n",
              "       [9.32065734e-01, 6.78673912e-01, 8.23004329e-01],\n",
              "       [5.30681276e-01, 7.47656743e-01, 7.55715791e-01],\n",
              "       [3.19255328e-01, 5.76763180e-01, 8.35960276e-01],\n",
              "       [2.37532443e-01, 4.53079122e-01, 7.72710828e-01],\n",
              "       [0.00000000e+00, 2.66686043e-01, 1.91687655e-01],\n",
              "       [2.62128293e-01, 6.14638051e-01, 8.84624121e-01],\n",
              "       [5.21161443e-01, 4.19885680e-01, 9.18819208e-01],\n",
              "       [2.54064387e-01, 5.39579607e-01, 9.10226951e-01],\n",
              "       [2.80200320e-01, 7.69909951e-01, 9.06465765e-01],\n",
              "       [2.42702307e-01, 5.41124368e-01, 8.18233604e-01],\n",
              "       [8.34223121e-02, 1.71259255e-01, 8.13768501e-01],\n",
              "       [1.09988805e-03, 2.59569790e-02, 4.77700575e-01],\n",
              "       [3.58418072e-01, 5.68333993e-01, 8.13469774e-01],\n",
              "       [3.18322498e-01, 7.40255052e-01, 7.49944674e-01],\n",
              "       [3.06290222e-01, 3.90753041e-01, 8.77497740e-01],\n",
              "       [4.11186860e-01, 5.47239682e-01, 6.99192175e-01],\n",
              "       [1.26270637e-01, 3.02623992e-01, 6.49195932e-01],\n",
              "       [1.24725957e-03, 1.46811997e-01, 4.96209687e-01],\n",
              "       [2.61622928e-01, 5.28768962e-01, 7.78389641e-01],\n",
              "       [3.31383764e-01, 5.52904567e-01, 9.63965660e-01],\n",
              "       [2.63711424e-01, 7.00508940e-01, 9.91774375e-01],\n",
              "       [4.18913585e-01, 6.18033845e-01, 9.59489135e-01],\n",
              "       [6.74782404e-01, 8.10902186e-01, 9.20529581e-01],\n",
              "       [1.89888090e-01, 6.81078660e-01, 8.62483797e-01],\n",
              "       [7.40551004e-03, 1.88096845e-01, 5.77602025e-01],\n",
              "       [2.41955477e-01, 5.18657311e-01, 8.84715554e-01],\n",
              "       [3.78481500e-01, 7.75241248e-01, 8.01840263e-01],\n",
              "       [2.02637061e-01, 2.70435973e-01, 5.98791994e-01],\n",
              "       [1.41507824e-01, 4.11937390e-01, 6.12137625e-01],\n",
              "       [6.54354041e-05, 1.39318855e-01, 2.21828321e-01],\n",
              "       [2.47690998e-01, 6.75023431e-01, 9.08605553e-01],\n",
              "       [3.52751560e-01, 4.73346923e-01, 8.43726005e-01],\n",
              "       [1.48821985e-01, 5.03780130e-01, 8.00383139e-01],\n",
              "       [2.05115643e-01, 5.62097931e-01, 8.05646824e-01],\n",
              "       [9.19756473e-02, 4.19505775e-01, 7.42791413e-01],\n",
              "       [9.76031206e-04, 5.61445577e-02, 4.35112521e-01],\n",
              "       [2.43150734e-01, 4.72051237e-01, 7.37571754e-01],\n",
              "       [1.97721924e-01, 7.09297103e-01, 7.40350083e-01],\n",
              "       [9.19033572e-02, 4.31993362e-01, 6.90469162e-01],\n",
              "       [9.68107442e-02, 4.68508767e-01, 6.38153182e-01],\n",
              "       [1.99192747e-01, 3.97541823e-01, 6.41337473e-01],\n",
              "       [1.27222981e-01, 2.68040808e-01, 4.55549907e-01],\n",
              "       [3.22271005e-01, 7.75241248e-01, 7.10904952e-01],\n",
              "       [2.23318996e-01, 8.63655912e-01, 7.53593233e-01],\n",
              "       [1.55929530e-01, 4.20805574e-01, 7.90696525e-01],\n",
              "       [2.62745248e-01, 4.11937390e-01, 7.09398399e-01],\n",
              "       [2.42626631e-01, 3.55990270e-01, 8.64008952e-01],\n",
              "       [8.72668774e-02, 4.29284065e-01, 4.78092876e-01],\n",
              "       [3.46771617e-01, 6.62220885e-01, 5.84571700e-01],\n",
              "       [5.95121856e-01, 8.18832130e-01, 5.89327677e-01],\n",
              "       [5.17029017e-01, 6.34380874e-01, 6.32033845e-01],\n",
              "       [4.63954283e-01, 8.22139213e-01, 6.91489258e-01],\n",
              "       [4.94159278e-01, 8.86051867e-01, 6.12020478e-01],\n",
              "       [1.69282875e-01, 4.85488786e-01, 5.35862779e-01],\n",
              "       [7.23911927e-03, 2.72906780e-02, 4.55569433e-01],\n",
              "       [4.16991356e-01, 5.61612261e-01, 8.44454171e-01],\n",
              "       [2.85154606e-01, 5.41599483e-01, 5.92413067e-01],\n",
              "       [1.98299636e-01, 6.41870328e-01, 5.45545385e-01],\n",
              "       [2.46376969e-01, 7.37462302e-01, 7.31202321e-01],\n",
              "       [9.27506851e-02, 4.67945594e-01, 5.83650792e-01],\n",
              "       [6.19806236e-03, 0.00000000e+00, 2.76052745e-01],\n",
              "       [2.01348865e-01, 5.95678997e-01, 5.87100240e-01],\n",
              "       [2.23633105e-01, 5.55552690e-01, 5.38763554e-01],\n",
              "       [1.87558947e-01, 6.28138777e-01, 5.93464296e-01],\n",
              "       [5.56876046e-03, 6.37269360e-02, 2.86823420e-01],\n",
              "       [2.43910307e-01, 4.40035606e-01, 7.56806005e-01],\n",
              "       [1.83627033e-01, 6.99990972e-01, 7.22227398e-01],\n",
              "       [2.81324845e-01, 3.55285368e-01, 7.16188379e-01],\n",
              "       [3.74086749e-01, 6.77105125e-01, 5.72629741e-01],\n",
              "       [2.45823547e-01, 7.51014333e-01, 6.57728503e-01],\n",
              "       [7.83847589e-02, 1.60536865e-01, 5.86196918e-01],\n",
              "       [4.68982053e-03, 5.95749709e-02, 3.07438589e-01],\n",
              "       [3.57109277e-01, 3.87206212e-01, 6.97126053e-01],\n",
              "       [3.52034903e-01, 7.76781462e-01, 7.74805269e-01],\n",
              "       [2.07992305e-01, 6.24060574e-01, 6.82748028e-01],\n",
              "       [3.16768539e-01, 4.58069786e-01, 5.66938078e-01],\n",
              "       [2.27149270e-01, 7.75241970e-01, 4.98219360e-01],\n",
              "       [7.24746888e-02, 4.95766864e-01, 3.35963267e-01],\n",
              "       [3.92112217e-03, 1.70630054e-01, 2.08203617e-01]])"
            ]
          },
          "metadata": {
            "tags": []
          },
          "execution_count": 316
        }
      ]
    },
    {
      "cell_type": "code",
      "metadata": {
        "id": "virgin-array"
      },
      "source": [
        "\n",
        "y=y.values\n",
        "y=y.reshape(-1,1)"
      ],
      "id": "virgin-array",
      "execution_count": 317,
      "outputs": []
    },
    {
      "cell_type": "code",
      "metadata": {
        "id": "HDAFJrPweHaQ"
      },
      "source": [
        "\n",
        "y=scaler.fit_transform(y)"
      ],
      "id": "HDAFJrPweHaQ",
      "execution_count": 318,
      "outputs": []
    },
    {
      "cell_type": "code",
      "metadata": {
        "id": "q3axj7uGeKfV"
      },
      "source": [
        "from sklearn.model_selection import train_test_split\n",
        "X_train, X_test, y_train, y_test = train_test_split(X, y, test_size=0.2, random_state=42)"
      ],
      "id": "q3axj7uGeKfV",
      "execution_count": 319,
      "outputs": []
    },
    {
      "cell_type": "code",
      "metadata": {
        "id": "Hc5qRA5zeuef"
      },
      "source": [
        "from keras.layers import Dense, Activation,Dropout,BatchNormalization\n",
        "from keras.models import Sequential\n"
      ],
      "id": "Hc5qRA5zeuef",
      "execution_count": 320,
      "outputs": []
    },
    {
      "cell_type": "code",
      "metadata": {
        "id": "hp1885WHfFOK"
      },
      "source": [
        "model = Sequential()\n",
        "model.add(Dense(32, activation = 'relu', input_dim =3))\n",
        "model.add(Dense(1,activation='linear'))\n",
        "model.compile(optimizer='Adam', loss='MeanSquaredError', metrics = ['MeanSquaredError'])\n"
      ],
      "id": "hp1885WHfFOK",
      "execution_count": 333,
      "outputs": []
    },
    {
      "cell_type": "code",
      "metadata": {
        "colab": {
          "base_uri": "https://localhost:8080/"
        },
        "id": "1XRBkeKhfL6g",
        "outputId": "82c26566-c452-4117-9137-c912ba13076a"
      },
      "source": [
        "history=model.fit(X_train, y_train, batch_size = 32, epochs = 100,validation_data=(X_test,y_test))\n"
      ],
      "id": "1XRBkeKhfL6g",
      "execution_count": 334,
      "outputs": [
        {
          "output_type": "stream",
          "text": [
            "Epoch 1/100\n",
            "8/8 [==============================] - 0s 24ms/step - loss: 0.4095 - mean_squared_error: 0.4095 - val_loss: 0.3591 - val_mean_squared_error: 0.3591\n",
            "Epoch 2/100\n",
            "8/8 [==============================] - 0s 7ms/step - loss: 0.3229 - mean_squared_error: 0.3229 - val_loss: 0.2476 - val_mean_squared_error: 0.2476\n",
            "Epoch 3/100\n",
            "8/8 [==============================] - 0s 8ms/step - loss: 0.2152 - mean_squared_error: 0.2152 - val_loss: 0.1635 - val_mean_squared_error: 0.1635\n",
            "Epoch 4/100\n",
            "8/8 [==============================] - 0s 6ms/step - loss: 0.1416 - mean_squared_error: 0.1416 - val_loss: 0.1044 - val_mean_squared_error: 0.1044\n",
            "Epoch 5/100\n",
            "8/8 [==============================] - 0s 7ms/step - loss: 0.0881 - mean_squared_error: 0.0881 - val_loss: 0.0672 - val_mean_squared_error: 0.0672\n",
            "Epoch 6/100\n",
            "8/8 [==============================] - 0s 8ms/step - loss: 0.0672 - mean_squared_error: 0.0672 - val_loss: 0.0462 - val_mean_squared_error: 0.0462\n",
            "Epoch 7/100\n",
            "8/8 [==============================] - 0s 9ms/step - loss: 0.0387 - mean_squared_error: 0.0387 - val_loss: 0.0367 - val_mean_squared_error: 0.0367\n",
            "Epoch 8/100\n",
            "8/8 [==============================] - 0s 7ms/step - loss: 0.0392 - mean_squared_error: 0.0392 - val_loss: 0.0318 - val_mean_squared_error: 0.0318\n",
            "Epoch 9/100\n",
            "8/8 [==============================] - 0s 8ms/step - loss: 0.0351 - mean_squared_error: 0.0351 - val_loss: 0.0289 - val_mean_squared_error: 0.0289\n",
            "Epoch 10/100\n",
            "8/8 [==============================] - 0s 8ms/step - loss: 0.0329 - mean_squared_error: 0.0329 - val_loss: 0.0264 - val_mean_squared_error: 0.0264\n",
            "Epoch 11/100\n",
            "8/8 [==============================] - 0s 7ms/step - loss: 0.0310 - mean_squared_error: 0.0310 - val_loss: 0.0242 - val_mean_squared_error: 0.0242\n",
            "Epoch 12/100\n",
            "8/8 [==============================] - 0s 7ms/step - loss: 0.0270 - mean_squared_error: 0.0270 - val_loss: 0.0227 - val_mean_squared_error: 0.0227\n",
            "Epoch 13/100\n",
            "8/8 [==============================] - 0s 7ms/step - loss: 0.0264 - mean_squared_error: 0.0264 - val_loss: 0.0216 - val_mean_squared_error: 0.0216\n",
            "Epoch 14/100\n",
            "8/8 [==============================] - 0s 8ms/step - loss: 0.0235 - mean_squared_error: 0.0235 - val_loss: 0.0205 - val_mean_squared_error: 0.0205\n",
            "Epoch 15/100\n",
            "8/8 [==============================] - 0s 7ms/step - loss: 0.0221 - mean_squared_error: 0.0221 - val_loss: 0.0196 - val_mean_squared_error: 0.0196\n",
            "Epoch 16/100\n",
            "8/8 [==============================] - 0s 7ms/step - loss: 0.0233 - mean_squared_error: 0.0233 - val_loss: 0.0186 - val_mean_squared_error: 0.0186\n",
            "Epoch 17/100\n",
            "8/8 [==============================] - 0s 7ms/step - loss: 0.0226 - mean_squared_error: 0.0226 - val_loss: 0.0177 - val_mean_squared_error: 0.0177\n",
            "Epoch 18/100\n",
            "8/8 [==============================] - 0s 9ms/step - loss: 0.0186 - mean_squared_error: 0.0186 - val_loss: 0.0170 - val_mean_squared_error: 0.0170\n",
            "Epoch 19/100\n",
            "8/8 [==============================] - 0s 8ms/step - loss: 0.0196 - mean_squared_error: 0.0196 - val_loss: 0.0164 - val_mean_squared_error: 0.0164\n",
            "Epoch 20/100\n",
            "8/8 [==============================] - 0s 8ms/step - loss: 0.0201 - mean_squared_error: 0.0201 - val_loss: 0.0158 - val_mean_squared_error: 0.0158\n",
            "Epoch 21/100\n",
            "8/8 [==============================] - 0s 8ms/step - loss: 0.0224 - mean_squared_error: 0.0224 - val_loss: 0.0154 - val_mean_squared_error: 0.0154\n",
            "Epoch 22/100\n",
            "8/8 [==============================] - 0s 7ms/step - loss: 0.0185 - mean_squared_error: 0.0185 - val_loss: 0.0151 - val_mean_squared_error: 0.0151\n",
            "Epoch 23/100\n",
            "8/8 [==============================] - 0s 7ms/step - loss: 0.0200 - mean_squared_error: 0.0200 - val_loss: 0.0147 - val_mean_squared_error: 0.0147\n",
            "Epoch 24/100\n",
            "8/8 [==============================] - 0s 7ms/step - loss: 0.0211 - mean_squared_error: 0.0211 - val_loss: 0.0143 - val_mean_squared_error: 0.0143\n",
            "Epoch 25/100\n",
            "8/8 [==============================] - 0s 7ms/step - loss: 0.0221 - mean_squared_error: 0.0221 - val_loss: 0.0141 - val_mean_squared_error: 0.0141\n",
            "Epoch 26/100\n",
            "8/8 [==============================] - 0s 7ms/step - loss: 0.0189 - mean_squared_error: 0.0189 - val_loss: 0.0137 - val_mean_squared_error: 0.0137\n",
            "Epoch 27/100\n",
            "8/8 [==============================] - 0s 7ms/step - loss: 0.0189 - mean_squared_error: 0.0189 - val_loss: 0.0135 - val_mean_squared_error: 0.0135\n",
            "Epoch 28/100\n",
            "8/8 [==============================] - 0s 7ms/step - loss: 0.0188 - mean_squared_error: 0.0188 - val_loss: 0.0136 - val_mean_squared_error: 0.0136\n",
            "Epoch 29/100\n",
            "8/8 [==============================] - 0s 8ms/step - loss: 0.0164 - mean_squared_error: 0.0164 - val_loss: 0.0133 - val_mean_squared_error: 0.0133\n",
            "Epoch 30/100\n",
            "8/8 [==============================] - 0s 7ms/step - loss: 0.0168 - mean_squared_error: 0.0168 - val_loss: 0.0131 - val_mean_squared_error: 0.0131\n",
            "Epoch 31/100\n",
            "8/8 [==============================] - 0s 8ms/step - loss: 0.0198 - mean_squared_error: 0.0198 - val_loss: 0.0129 - val_mean_squared_error: 0.0129\n",
            "Epoch 32/100\n",
            "8/8 [==============================] - 0s 9ms/step - loss: 0.0166 - mean_squared_error: 0.0166 - val_loss: 0.0127 - val_mean_squared_error: 0.0127\n",
            "Epoch 33/100\n",
            "8/8 [==============================] - 0s 7ms/step - loss: 0.0180 - mean_squared_error: 0.0180 - val_loss: 0.0128 - val_mean_squared_error: 0.0128\n",
            "Epoch 34/100\n",
            "8/8 [==============================] - 0s 7ms/step - loss: 0.0163 - mean_squared_error: 0.0163 - val_loss: 0.0128 - val_mean_squared_error: 0.0128\n",
            "Epoch 35/100\n",
            "8/8 [==============================] - 0s 7ms/step - loss: 0.0213 - mean_squared_error: 0.0213 - val_loss: 0.0126 - val_mean_squared_error: 0.0126\n",
            "Epoch 36/100\n",
            "8/8 [==============================] - 0s 8ms/step - loss: 0.0180 - mean_squared_error: 0.0180 - val_loss: 0.0125 - val_mean_squared_error: 0.0125\n",
            "Epoch 37/100\n",
            "8/8 [==============================] - 0s 7ms/step - loss: 0.0177 - mean_squared_error: 0.0177 - val_loss: 0.0124 - val_mean_squared_error: 0.0124\n",
            "Epoch 38/100\n",
            "8/8 [==============================] - 0s 8ms/step - loss: 0.0166 - mean_squared_error: 0.0166 - val_loss: 0.0125 - val_mean_squared_error: 0.0125\n",
            "Epoch 39/100\n",
            "8/8 [==============================] - 0s 8ms/step - loss: 0.0179 - mean_squared_error: 0.0179 - val_loss: 0.0126 - val_mean_squared_error: 0.0126\n",
            "Epoch 40/100\n",
            "8/8 [==============================] - 0s 7ms/step - loss: 0.0149 - mean_squared_error: 0.0149 - val_loss: 0.0125 - val_mean_squared_error: 0.0125\n",
            "Epoch 41/100\n",
            "8/8 [==============================] - 0s 7ms/step - loss: 0.0155 - mean_squared_error: 0.0155 - val_loss: 0.0123 - val_mean_squared_error: 0.0123\n",
            "Epoch 42/100\n",
            "8/8 [==============================] - 0s 8ms/step - loss: 0.0166 - mean_squared_error: 0.0166 - val_loss: 0.0121 - val_mean_squared_error: 0.0121\n",
            "Epoch 43/100\n",
            "8/8 [==============================] - 0s 7ms/step - loss: 0.0169 - mean_squared_error: 0.0169 - val_loss: 0.0122 - val_mean_squared_error: 0.0122\n",
            "Epoch 44/100\n",
            "8/8 [==============================] - 0s 7ms/step - loss: 0.0187 - mean_squared_error: 0.0187 - val_loss: 0.0122 - val_mean_squared_error: 0.0122\n",
            "Epoch 45/100\n",
            "8/8 [==============================] - 0s 7ms/step - loss: 0.0186 - mean_squared_error: 0.0186 - val_loss: 0.0120 - val_mean_squared_error: 0.0120\n",
            "Epoch 46/100\n",
            "8/8 [==============================] - 0s 8ms/step - loss: 0.0164 - mean_squared_error: 0.0164 - val_loss: 0.0120 - val_mean_squared_error: 0.0120\n",
            "Epoch 47/100\n",
            "8/8 [==============================] - 0s 8ms/step - loss: 0.0158 - mean_squared_error: 0.0158 - val_loss: 0.0122 - val_mean_squared_error: 0.0122\n",
            "Epoch 48/100\n",
            "8/8 [==============================] - 0s 10ms/step - loss: 0.0158 - mean_squared_error: 0.0158 - val_loss: 0.0121 - val_mean_squared_error: 0.0121\n",
            "Epoch 49/100\n",
            "8/8 [==============================] - 0s 8ms/step - loss: 0.0169 - mean_squared_error: 0.0169 - val_loss: 0.0119 - val_mean_squared_error: 0.0119\n",
            "Epoch 50/100\n",
            "8/8 [==============================] - 0s 8ms/step - loss: 0.0183 - mean_squared_error: 0.0183 - val_loss: 0.0118 - val_mean_squared_error: 0.0118\n",
            "Epoch 51/100\n",
            "8/8 [==============================] - 0s 7ms/step - loss: 0.0164 - mean_squared_error: 0.0164 - val_loss: 0.0118 - val_mean_squared_error: 0.0118\n",
            "Epoch 52/100\n",
            "8/8 [==============================] - 0s 8ms/step - loss: 0.0161 - mean_squared_error: 0.0161 - val_loss: 0.0119 - val_mean_squared_error: 0.0119\n",
            "Epoch 53/100\n",
            "8/8 [==============================] - 0s 8ms/step - loss: 0.0153 - mean_squared_error: 0.0153 - val_loss: 0.0120 - val_mean_squared_error: 0.0120\n",
            "Epoch 54/100\n",
            "8/8 [==============================] - 0s 8ms/step - loss: 0.0162 - mean_squared_error: 0.0162 - val_loss: 0.0121 - val_mean_squared_error: 0.0121\n",
            "Epoch 55/100\n",
            "8/8 [==============================] - 0s 7ms/step - loss: 0.0181 - mean_squared_error: 0.0181 - val_loss: 0.0119 - val_mean_squared_error: 0.0119\n",
            "Epoch 56/100\n",
            "8/8 [==============================] - 0s 8ms/step - loss: 0.0184 - mean_squared_error: 0.0184 - val_loss: 0.0118 - val_mean_squared_error: 0.0118\n",
            "Epoch 57/100\n",
            "8/8 [==============================] - 0s 9ms/step - loss: 0.0152 - mean_squared_error: 0.0152 - val_loss: 0.0117 - val_mean_squared_error: 0.0117\n",
            "Epoch 58/100\n",
            "8/8 [==============================] - 0s 8ms/step - loss: 0.0159 - mean_squared_error: 0.0159 - val_loss: 0.0118 - val_mean_squared_error: 0.0118\n",
            "Epoch 59/100\n",
            "8/8 [==============================] - 0s 8ms/step - loss: 0.0154 - mean_squared_error: 0.0154 - val_loss: 0.0118 - val_mean_squared_error: 0.0118\n",
            "Epoch 60/100\n",
            "8/8 [==============================] - 0s 8ms/step - loss: 0.0159 - mean_squared_error: 0.0159 - val_loss: 0.0118 - val_mean_squared_error: 0.0118\n",
            "Epoch 61/100\n",
            "8/8 [==============================] - 0s 10ms/step - loss: 0.0182 - mean_squared_error: 0.0182 - val_loss: 0.0118 - val_mean_squared_error: 0.0118\n",
            "Epoch 62/100\n",
            "8/8 [==============================] - 0s 7ms/step - loss: 0.0157 - mean_squared_error: 0.0157 - val_loss: 0.0116 - val_mean_squared_error: 0.0116\n",
            "Epoch 63/100\n",
            "8/8 [==============================] - 0s 7ms/step - loss: 0.0178 - mean_squared_error: 0.0178 - val_loss: 0.0116 - val_mean_squared_error: 0.0116\n",
            "Epoch 64/100\n",
            "8/8 [==============================] - 0s 8ms/step - loss: 0.0172 - mean_squared_error: 0.0172 - val_loss: 0.0116 - val_mean_squared_error: 0.0116\n",
            "Epoch 65/100\n",
            "8/8 [==============================] - 0s 8ms/step - loss: 0.0170 - mean_squared_error: 0.0170 - val_loss: 0.0118 - val_mean_squared_error: 0.0118\n",
            "Epoch 66/100\n",
            "8/8 [==============================] - 0s 9ms/step - loss: 0.0180 - mean_squared_error: 0.0180 - val_loss: 0.0116 - val_mean_squared_error: 0.0116\n",
            "Epoch 67/100\n",
            "8/8 [==============================] - 0s 8ms/step - loss: 0.0167 - mean_squared_error: 0.0167 - val_loss: 0.0116 - val_mean_squared_error: 0.0116\n",
            "Epoch 68/100\n",
            "8/8 [==============================] - 0s 8ms/step - loss: 0.0184 - mean_squared_error: 0.0184 - val_loss: 0.0116 - val_mean_squared_error: 0.0116\n",
            "Epoch 69/100\n",
            "8/8 [==============================] - 0s 7ms/step - loss: 0.0169 - mean_squared_error: 0.0169 - val_loss: 0.0117 - val_mean_squared_error: 0.0117\n",
            "Epoch 70/100\n",
            "8/8 [==============================] - 0s 7ms/step - loss: 0.0152 - mean_squared_error: 0.0152 - val_loss: 0.0115 - val_mean_squared_error: 0.0115\n",
            "Epoch 71/100\n",
            "8/8 [==============================] - 0s 7ms/step - loss: 0.0161 - mean_squared_error: 0.0161 - val_loss: 0.0115 - val_mean_squared_error: 0.0115\n",
            "Epoch 72/100\n",
            "8/8 [==============================] - 0s 8ms/step - loss: 0.0150 - mean_squared_error: 0.0150 - val_loss: 0.0114 - val_mean_squared_error: 0.0114\n",
            "Epoch 73/100\n",
            "8/8 [==============================] - 0s 7ms/step - loss: 0.0158 - mean_squared_error: 0.0158 - val_loss: 0.0114 - val_mean_squared_error: 0.0114\n",
            "Epoch 74/100\n",
            "8/8 [==============================] - 0s 8ms/step - loss: 0.0168 - mean_squared_error: 0.0168 - val_loss: 0.0116 - val_mean_squared_error: 0.0116\n",
            "Epoch 75/100\n",
            "8/8 [==============================] - 0s 8ms/step - loss: 0.0164 - mean_squared_error: 0.0164 - val_loss: 0.0115 - val_mean_squared_error: 0.0115\n",
            "Epoch 76/100\n",
            "8/8 [==============================] - 0s 7ms/step - loss: 0.0177 - mean_squared_error: 0.0177 - val_loss: 0.0114 - val_mean_squared_error: 0.0114\n",
            "Epoch 77/100\n",
            "8/8 [==============================] - 0s 9ms/step - loss: 0.0183 - mean_squared_error: 0.0183 - val_loss: 0.0114 - val_mean_squared_error: 0.0114\n",
            "Epoch 78/100\n",
            "8/8 [==============================] - 0s 8ms/step - loss: 0.0176 - mean_squared_error: 0.0176 - val_loss: 0.0114 - val_mean_squared_error: 0.0114\n",
            "Epoch 79/100\n",
            "8/8 [==============================] - 0s 8ms/step - loss: 0.0156 - mean_squared_error: 0.0156 - val_loss: 0.0113 - val_mean_squared_error: 0.0113\n",
            "Epoch 80/100\n",
            "8/8 [==============================] - 0s 9ms/step - loss: 0.0139 - mean_squared_error: 0.0139 - val_loss: 0.0114 - val_mean_squared_error: 0.0114\n",
            "Epoch 81/100\n",
            "8/8 [==============================] - 0s 9ms/step - loss: 0.0187 - mean_squared_error: 0.0187 - val_loss: 0.0114 - val_mean_squared_error: 0.0114\n",
            "Epoch 82/100\n",
            "8/8 [==============================] - 0s 9ms/step - loss: 0.0177 - mean_squared_error: 0.0177 - val_loss: 0.0114 - val_mean_squared_error: 0.0114\n",
            "Epoch 83/100\n",
            "8/8 [==============================] - 0s 9ms/step - loss: 0.0153 - mean_squared_error: 0.0153 - val_loss: 0.0114 - val_mean_squared_error: 0.0114\n",
            "Epoch 84/100\n",
            "8/8 [==============================] - 0s 7ms/step - loss: 0.0169 - mean_squared_error: 0.0169 - val_loss: 0.0113 - val_mean_squared_error: 0.0113\n",
            "Epoch 85/100\n",
            "8/8 [==============================] - 0s 8ms/step - loss: 0.0170 - mean_squared_error: 0.0170 - val_loss: 0.0113 - val_mean_squared_error: 0.0113\n",
            "Epoch 86/100\n",
            "8/8 [==============================] - 0s 8ms/step - loss: 0.0184 - mean_squared_error: 0.0184 - val_loss: 0.0112 - val_mean_squared_error: 0.0112\n",
            "Epoch 87/100\n",
            "8/8 [==============================] - 0s 7ms/step - loss: 0.0173 - mean_squared_error: 0.0173 - val_loss: 0.0114 - val_mean_squared_error: 0.0114\n",
            "Epoch 88/100\n",
            "8/8 [==============================] - 0s 7ms/step - loss: 0.0176 - mean_squared_error: 0.0176 - val_loss: 0.0113 - val_mean_squared_error: 0.0113\n",
            "Epoch 89/100\n",
            "8/8 [==============================] - 0s 7ms/step - loss: 0.0160 - mean_squared_error: 0.0160 - val_loss: 0.0114 - val_mean_squared_error: 0.0114\n",
            "Epoch 90/100\n",
            "8/8 [==============================] - 0s 7ms/step - loss: 0.0186 - mean_squared_error: 0.0186 - val_loss: 0.0112 - val_mean_squared_error: 0.0112\n",
            "Epoch 91/100\n",
            "8/8 [==============================] - 0s 7ms/step - loss: 0.0176 - mean_squared_error: 0.0176 - val_loss: 0.0114 - val_mean_squared_error: 0.0114\n",
            "Epoch 92/100\n",
            "8/8 [==============================] - 0s 7ms/step - loss: 0.0156 - mean_squared_error: 0.0156 - val_loss: 0.0115 - val_mean_squared_error: 0.0115\n",
            "Epoch 93/100\n",
            "8/8 [==============================] - 0s 7ms/step - loss: 0.0185 - mean_squared_error: 0.0185 - val_loss: 0.0113 - val_mean_squared_error: 0.0113\n",
            "Epoch 94/100\n",
            "8/8 [==============================] - 0s 9ms/step - loss: 0.0147 - mean_squared_error: 0.0147 - val_loss: 0.0111 - val_mean_squared_error: 0.0111\n",
            "Epoch 95/100\n",
            "8/8 [==============================] - 0s 7ms/step - loss: 0.0188 - mean_squared_error: 0.0188 - val_loss: 0.0112 - val_mean_squared_error: 0.0112\n",
            "Epoch 96/100\n",
            "8/8 [==============================] - 0s 10ms/step - loss: 0.0171 - mean_squared_error: 0.0171 - val_loss: 0.0114 - val_mean_squared_error: 0.0114\n",
            "Epoch 97/100\n",
            "8/8 [==============================] - 0s 8ms/step - loss: 0.0159 - mean_squared_error: 0.0159 - val_loss: 0.0115 - val_mean_squared_error: 0.0115\n",
            "Epoch 98/100\n",
            "8/8 [==============================] - 0s 8ms/step - loss: 0.0163 - mean_squared_error: 0.0163 - val_loss: 0.0112 - val_mean_squared_error: 0.0112\n",
            "Epoch 99/100\n",
            "8/8 [==============================] - 0s 8ms/step - loss: 0.0163 - mean_squared_error: 0.0163 - val_loss: 0.0113 - val_mean_squared_error: 0.0113\n",
            "Epoch 100/100\n",
            "8/8 [==============================] - 0s 8ms/step - loss: 0.0164 - mean_squared_error: 0.0164 - val_loss: 0.0112 - val_mean_squared_error: 0.0112\n"
          ],
          "name": "stdout"
        }
      ]
    },
    {
      "cell_type": "code",
      "metadata": {
        "colab": {
          "base_uri": "https://localhost:8080/",
          "height": 295
        },
        "id": "XXfInAT_nMlk",
        "outputId": "1e5bfed2-fb8f-435a-ea0e-1b078d2757dd"
      },
      "source": [
        "# Accuracy plot \n",
        "plt.plot(history.history['loss'])\n",
        "plt.plot(history.history['val_loss'])\n",
        "plt.title('Model_accuracy')\n",
        "plt.ylabel('accuracy')\n",
        "plt.xlabel('epoch')\n",
        "plt.legend(['train','test'],loc='upper left')\n",
        "plt.show()"
      ],
      "id": "XXfInAT_nMlk",
      "execution_count": 335,
      "outputs": [
        {
          "output_type": "display_data",
          "data": {
            "image/png": "[encoded data removed]",
            "text/plain": [
              "<Figure size 432x288 with 1 Axes>"
            ]
          },
          "metadata": {
            "tags": [],
            "needs_background": "light"
          }
        }
      ]
    },
    {
      "cell_type": "code",
      "metadata": {
        "colab": {
          "base_uri": "https://localhost:8080/",
          "height": 295
        },
        "id": "QYm7yjm1m06n",
        "outputId": "629f2e1c-a688-42e7-97e3-507de54fb8b2"
      },
      "source": [
        "# Accuracy plot \n",
        "plt.plot(history.history['mean_squared_error'])\n",
        "plt.plot(history.history['val_mean_squared_error'])\n",
        "plt.title('Model_Performance')\n",
        "plt.ylabel('score')\n",
        "plt.xlabel('epoch')\n",
        "plt.legend(['train','test'],loc='upper left')\n",
        "plt.show()"
      ],
      "id": "QYm7yjm1m06n",
      "execution_count": 336,
      "outputs": [
        {
          "output_type": "display_data",
          "data": {
            "image/png": "[encoded data removed]",
            "text/plain": [
              "<Figure size 432x288 with 1 Axes>"
            ]
          },
          "metadata": {
            "tags": [],
            "needs_background": "light"
          }
        }
      ]
    },
    {
      "cell_type": "code",
      "metadata": {
        "id": "BFpPcEpMy-V9"
      },
      "source": [
        "y_=test['Income_y']\n",
        "X_=test.drop(['Income_y'],axis=1)"
      ],
      "id": "BFpPcEpMy-V9",
      "execution_count": 337,
      "outputs": []
    },
    {
      "cell_type": "code",
      "metadata": {
        "colab": {
          "base_uri": "https://localhost:8080/"
        },
        "id": "9DQUfODS5sQz",
        "outputId": "f03da26f-534b-4844-ae39-d7b6f45cf78c"
      },
      "source": [
        "X_.isnull().sum()"
      ],
      "id": "9DQUfODS5sQz",
      "execution_count": 338,
      "outputs": [
        {
          "output_type": "execute_result",
          "data": {
            "text/plain": [
              "f1    0\n",
              "f2    0\n",
              "f3    0\n",
              "dtype: int64"
            ]
          },
          "metadata": {
            "tags": []
          },
          "execution_count": 338
        }
      ]
    },
    {
      "cell_type": "code",
      "metadata": {
        "id": "K09Hlm_p5vPV"
      },
      "source": [
        ""
      ],
      "id": "K09Hlm_p5vPV",
      "execution_count": 338,
      "outputs": []
    },
    {
      "cell_type": "code",
      "metadata": {
        "id": "pMwIjw3_52xS"
      },
      "source": [
        ""
      ],
      "id": "pMwIjw3_52xS",
      "execution_count": 338,
      "outputs": []
    },
    {
      "cell_type": "code",
      "metadata": {
        "id": "JEUzojAXzQhh"
      },
      "source": [
        "\n",
        "\n",
        "X_=scaler.fit_transform(X_)\n"
      ],
      "id": "JEUzojAXzQhh",
      "execution_count": 339,
      "outputs": []
    },
    {
      "cell_type": "code",
      "metadata": {
        "id": "NXR-k9p8fS0h"
      },
      "source": [
        "y_pred_1 = model.predict(X_test)"
      ],
      "id": "NXR-k9p8fS0h",
      "execution_count": 340,
      "outputs": []
    },
    {
      "cell_type": "code",
      "metadata": {
        "colab": {
          "base_uri": "https://localhost:8080/",
          "height": 281
        },
        "id": "AZZ5W6rqzZnz",
        "outputId": "0e690eb9-c44f-4085-e295-ad1ac015f958"
      },
      "source": [
        "plt.plot(y_test, color = 'red', label = 'Real data')\n",
        "plt.plot(y_pred_1, color = 'blue', label = 'Predicted data')\n",
        "plt.title('Prediction')\n",
        "plt.legend()\n",
        "plt.show()"
      ],
      "id": "AZZ5W6rqzZnz",
      "execution_count": 341,
      "outputs": [
        {
          "output_type": "display_data",
          "data": {
            "image/png": "[encoded data removed]",
            "text/plain": [
              "<Figure size 432x288 with 1 Axes>"
            ]
          },
          "metadata": {
            "tags": [],
            "needs_background": "light"
          }
        }
      ]
    },
    {
      "cell_type": "code",
      "metadata": {
        "id": "ozDRewAUziGE"
      },
      "source": [
        "y_pred_2=model.predict(X_)"
      ],
      "id": "ozDRewAUziGE",
      "execution_count": 342,
      "outputs": []
    },
    {
      "cell_type": "code",
      "metadata": {
        "id": "sx_frcXJ0Yz4"
      },
      "source": [
        "y_=y_.values\n",
        "y_=y_.reshape(-1,1)"
      ],
      "id": "sx_frcXJ0Yz4",
      "execution_count": 343,
      "outputs": []
    },
    {
      "cell_type": "code",
      "metadata": {
        "id": "CVzOhuYH0PqP"
      },
      "source": [
        "y_=scaler.fit_transform(y_)"
      ],
      "id": "CVzOhuYH0PqP",
      "execution_count": 344,
      "outputs": []
    },
    {
      "cell_type": "code",
      "metadata": {
        "colab": {
          "base_uri": "https://localhost:8080/",
          "height": 281
        },
        "id": "4MBrERtS0VwR",
        "outputId": "8bee9836-44ae-47ff-a4aa-21f4eb7e73c9"
      },
      "source": [
        "plt.plot(y_, color = 'red', label = 'Real data')\n",
        "plt.plot(y_pred_2, color = 'blue', label = 'Predicted data')\n",
        "plt.title('Prediction')\n",
        "plt.legend()\n",
        "plt.show()"
      ],
      "id": "4MBrERtS0VwR",
      "execution_count": 345,
      "outputs": [
        {
          "output_type": "display_data",
          "data": {
            "image/png": "[encoded data removed]",
            "text/plain": [
              "<Figure size 432x288 with 1 Axes>"
            ]
          },
          "metadata": {
            "tags": [],
            "needs_background": "light"
          }
        }
      ]
    },
    {
      "cell_type": "code",
      "metadata": {
        "id": "qo_FkxTp0uvX"
      },
      "source": [
        "y_pred_2=scaler.inverse_transform(y_pred_2)"
      ],
      "id": "qo_FkxTp0uvX",
      "execution_count": 346,
      "outputs": []
    },
    {
      "cell_type": "code",
      "metadata": {
        "colab": {
          "base_uri": "https://localhost:8080/"
        },
        "id": "cNRvlJgN0_0i",
        "outputId": "773712d0-0b92-4776-9f16-3931ff47aea2"
      },
      "source": [
        "y_pred_2"
      ],
      "id": "cNRvlJgN0_0i",
      "execution_count": 347,
      "outputs": [
        {
          "output_type": "execute_result",
          "data": {
            "text/plain": [
              "array([[112671.43   ],\n",
              "       [105690.125  ],\n",
              "       [ 94909.25   ],\n",
              "       [ 93473.305  ],\n",
              "       [122322.15   ],\n",
              "       [ 58535.605  ],\n",
              "       [ 14991.759  ],\n",
              "       [ 75173.445  ],\n",
              "       [ 87288.69   ],\n",
              "       [ 56669.188  ],\n",
              "       [ 82513.97   ],\n",
              "       [101427.17   ],\n",
              "       [103229.73   ],\n",
              "       [101006.3    ],\n",
              "       [ 68548.5    ],\n",
              "       [104312.055  ],\n",
              "       [119559.81   ],\n",
              "       [ 65216.27   ],\n",
              "       [ 98865.92   ],\n",
              "       [ 50411.324  ],\n",
              "       [  3990.7473 ],\n",
              "       [ 87911.805  ],\n",
              "       [ 85770.055  ],\n",
              "       [ 80045.71   ],\n",
              "       [ 85722.15   ],\n",
              "       [ 58525.22   ],\n",
              "       [ 14393.476  ],\n",
              "       [ 75774.17   ],\n",
              "       [ 89064.03   ],\n",
              "       [ 90920.53   ],\n",
              "       [ 57919.508  ],\n",
              "       [ 71731.87   ],\n",
              "       [ 72443.164  ],\n",
              "       [ 40406.85   ],\n",
              "       [  2626.829  ],\n",
              "       [121331.71   ],\n",
              "       [113649.3    ],\n",
              "       [ 82484.85   ],\n",
              "       [ 47971.684  ],\n",
              "       [   385.10013],\n",
              "       [ 89499.74   ],\n",
              "       [ 95734.15   ],\n",
              "       [ 65204.     ],\n",
              "       [ 80436.15   ]], dtype=float32)"
            ]
          },
          "metadata": {
            "tags": []
          },
          "execution_count": 347
        }
      ]
    },
    {
      "cell_type": "code",
      "metadata": {
        "id": "0jowXirr1BXm"
      },
      "source": [
        "y_=scaler.inverse_transform(y_)"
      ],
      "id": "0jowXirr1BXm",
      "execution_count": 348,
      "outputs": []
    },
    {
      "cell_type": "code",
      "metadata": {
        "colab": {
          "base_uri": "https://localhost:8080/"
        },
        "id": "YHneIUIk1J0j",
        "outputId": "aea9a625-a64c-468a-8822-c7693340b57e"
      },
      "source": [
        "y_"
      ],
      "id": "YHneIUIk1J0j",
      "execution_count": 349,
      "outputs": [
        {
          "output_type": "execute_result",
          "data": {
            "text/plain": [
              "array([[1.1453421e+05],\n",
              "       [1.2741210e+05],\n",
              "       [7.3107940e+04],\n",
              "       [1.0033570e+05],\n",
              "       [8.2920440e+04],\n",
              "       [3.6992000e+04],\n",
              "       [3.2600000e+02],\n",
              "       [8.6287170e+04],\n",
              "       [7.9380380e+04],\n",
              "       [1.0450901e+05],\n",
              "       [9.6828960e+04],\n",
              "       [1.0832711e+05],\n",
              "       [9.9625260e+04],\n",
              "       [7.6878350e+04],\n",
              "       [6.9089170e+04],\n",
              "       [1.2821029e+05],\n",
              "       [1.7741042e+05],\n",
              "       [6.8424710e+04],\n",
              "       [1.3040640e+05],\n",
              "       [4.1651850e+04],\n",
              "       [1.0295000e+02],\n",
              "       [1.2132892e+05],\n",
              "       [9.4156550e+04],\n",
              "       [9.3428490e+04],\n",
              "       [7.3106960e+04],\n",
              "       [6.2484030e+04],\n",
              "       [5.0088000e+04],\n",
              "       [4.5289920e+04],\n",
              "       [9.5437440e+04],\n",
              "       [1.0067486e+05],\n",
              "       [5.5735080e+04],\n",
              "       [8.6421800e+04],\n",
              "       [8.6421800e+04],\n",
              "       [4.1343950e+04],\n",
              "       [1.5788000e+04],\n",
              "       [1.2898555e+05],\n",
              "       [9.3402160e+04],\n",
              "       [1.7674702e+05],\n",
              "       [3.2502400e+04],\n",
              "       [5.5111850e+04],\n",
              "       [1.3304285e+05],\n",
              "       [8.8538890e+04],\n",
              "       [6.6133390e+04],\n",
              "       [6.7090810e+04]])"
            ]
          },
          "metadata": {
            "tags": []
          },
          "execution_count": 349
        }
      ]
    },
    {
      "cell_type": "code",
      "metadata": {
        "colab": {
          "base_uri": "https://localhost:8080/",
          "height": 281
        },
        "id": "jEmsDycZ1Ko8",
        "outputId": "2f3d7d48-8d3c-49ad-fade-c1dca7b0edff"
      },
      "source": [
        "plt.plot(y_, color = 'red', label = 'Real data')\n",
        "plt.plot(y_pred_2, color = 'blue', label = 'Predicted data')\n",
        "plt.title('Prediction')\n",
        "plt.legend()\n",
        "plt.show()"
      ],
      "id": "jEmsDycZ1Ko8",
      "execution_count": 350,
      "outputs": [
        {
          "output_type": "display_data",
          "data": {
            "image/png": "[encoded data removed]",
            "text/plain": [
              "<Figure size 432x288 with 1 Axes>"
            ]
          },
          "metadata": {
            "tags": [],
            "needs_background": "light"
          }
        }
      ]
    },
    {
      "cell_type": "code",
      "metadata": {
        "id": "R6hPx5t41S9f"
      },
      "source": [
        "from sklearn.metrics import mean_squared_error"
      ],
      "id": "R6hPx5t41S9f",
      "execution_count": 351,
      "outputs": []
    },
    {
      "cell_type": "code",
      "metadata": {
        "id": "Xp4azxoJ_kO5"
      },
      "source": [
        "from sklearn.metrics import mean_absolute_error"
      ],
      "id": "Xp4azxoJ_kO5",
      "execution_count": 352,
      "outputs": []
    },
    {
      "cell_type": "code",
      "metadata": {
        "colab": {
          "base_uri": "https://localhost:8080/"
        },
        "id": "75BMhlTy_ruF",
        "outputId": "fa3040cd-13c3-432c-e0d0-e89c20f92b8c"
      },
      "source": [
        "mean_absolute_error(y_,y_pred_2)"
      ],
      "id": "75BMhlTy_ruF",
      "execution_count": 353,
      "outputs": [
        {
          "output_type": "execute_result",
          "data": {
            "text/plain": [
              "18857.838076144133"
            ]
          },
          "metadata": {
            "tags": []
          },
          "execution_count": 353
        }
      ]
    },
    {
      "cell_type": "code",
      "metadata": {
        "colab": {
          "base_uri": "https://localhost:8080/"
        },
        "id": "JWoxcOdX19AZ",
        "outputId": "55c27e92-7db4-4b1f-e915-3344e7bb67c9"
      },
      "source": [
        "np.sqrt(mean_squared_error(y_,y_pred_2))"
      ],
      "id": "JWoxcOdX19AZ",
      "execution_count": 354,
      "outputs": [
        {
          "output_type": "execute_result",
          "data": {
            "text/plain": [
              "26436.86650564339"
            ]
          },
          "metadata": {
            "tags": []
          },
          "execution_count": 354
        }
      ]
    },
    {
      "cell_type": "code",
      "metadata": {
        "colab": {
          "base_uri": "https://localhost:8080/"
        },
        "id": "UFrEtJSG1_xg",
        "outputId": "715edab6-6bce-4251-e0b0-a4e1593c0a02"
      },
      "source": [
        "np.sqrt(mean_squared_error(y_test,y_pred_1))"
      ],
      "id": "UFrEtJSG1_xg",
      "execution_count": 355,
      "outputs": [
        {
          "output_type": "execute_result",
          "data": {
            "text/plain": [
              "0.1056473676049133"
            ]
          },
          "metadata": {
            "tags": []
          },
          "execution_count": 355
        }
      ]
    },
    {
      "cell_type": "code",
      "metadata": {
        "id": "YLy1ddX9HqWO"
      },
      "source": [
        "from keras.models import load_model"
      ],
      "id": "YLy1ddX9HqWO",
      "execution_count": 356,
      "outputs": []
    },
    {
      "cell_type": "code",
      "metadata": {
        "id": "v6dcgmW_IAS1"
      },
      "source": [
        "model.save('forecast_2.h5')"
      ],
      "id": "v6dcgmW_IAS1",
      "execution_count": 357,
      "outputs": []
    },
    {
      "cell_type": "code",
      "metadata": {
        "id": "q40Nh2fXIW50"
      },
      "source": [
        "loading_1=load_model('forecast_2.h5')"
      ],
      "id": "q40Nh2fXIW50",
      "execution_count": 358,
      "outputs": []
    },
    {
      "cell_type": "code",
      "metadata": {
        "colab": {
          "base_uri": "https://localhost:8080/"
        },
        "id": "OKLZhc-iXTbt",
        "outputId": "665451be-2123-40b3-9238-40386555ae73"
      },
      "source": [
        "X_"
      ],
      "id": "OKLZhc-iXTbt",
      "execution_count": 359,
      "outputs": [
        {
          "output_type": "execute_result",
          "data": {
            "text/plain": [
              "array([[0.68859809, 0.79102319, 0.67214285],\n",
              "       [0.67349766, 0.65554292, 0.83360014],\n",
              "       [0.58687169, 0.59062548, 0.8288121 ],\n",
              "       [0.75608042, 0.42007018, 0.69813427],\n",
              "       [0.77286356, 0.87307248, 0.7108141 ],\n",
              "       [0.17411476, 0.55667537, 0.68248803],\n",
              "       [0.        , 0.28203263, 0.17393212],\n",
              "       [0.33029152, 0.55609603, 0.95268991],\n",
              "       [0.53204327, 0.54478914, 0.83271632],\n",
              "       [0.3080608 , 0.37439677, 0.64453168],\n",
              "       [0.96990221, 0.25411496, 0.50026381],\n",
              "       [0.61357573, 0.7005986 , 0.66230563],\n",
              "       [0.66266605, 0.64466888, 0.7735046 ],\n",
              "       [0.63033454, 0.66675513, 0.6941767 ],\n",
              "       [0.39077976, 0.45830615, 0.59791859],\n",
              "       [0.85040239, 0.51060264, 0.6596549 ],\n",
              "       [0.61362657, 1.        , 0.81285275],\n",
              "       [0.35230876, 0.42454956, 0.76767721],\n",
              "       [0.58335427, 0.64948778, 0.83277425],\n",
              "       [0.15116572, 0.44422198, 0.68987735],\n",
              "       [0.00674242, 0.04274377, 0.40589655],\n",
              "       [0.73258651, 0.32986619, 0.82710157],\n",
              "       [0.45579839, 0.6018088 , 0.81184687],\n",
              "       [0.26936417, 0.72495959, 0.83913989],\n",
              "       [0.22671153, 0.85379561, 1.        ],\n",
              "       [0.14273356, 0.53563456, 0.86700322],\n",
              "       [0.00368649, 0.17623313, 0.41728999],\n",
              "       [0.38699282, 0.50882442, 0.92171362],\n",
              "       [0.48512175, 0.61594   , 0.81184687],\n",
              "       [0.61571488, 0.51236333, 0.80071256],\n",
              "       [0.34711444, 0.30171062, 0.82693139],\n",
              "       [0.47689015, 0.41740686, 0.56848864],\n",
              "       [0.47689015, 0.41740686, 0.68265543],\n",
              "       [0.08155402, 0.56009731, 0.38170108],\n",
              "       [0.00694429, 0.12743328, 0.        ],\n",
              "       [1.        , 0.77304533, 0.51617891],\n",
              "       [0.91404707, 0.61161885, 0.63505825],\n",
              "       [0.48684928, 0.53719036, 0.70232676],\n",
              "       [0.15544443, 0.49817451, 0.45687425],\n",
              "       [0.00254049, 0.        , 0.40621443],\n",
              "       [0.38912627, 0.71624789, 0.84779231],\n",
              "       [0.64781259, 0.54293519, 0.80906391],\n",
              "       [0.415307  , 0.36298704, 0.72769212],\n",
              "       [0.59841874, 0.39976689, 0.70064452]])"
            ]
          },
          "metadata": {
            "tags": []
          },
          "execution_count": 359
        }
      ]
    },
    {
      "cell_type": "code",
      "metadata": {
        "id": "jH-badROIoFY"
      },
      "source": [
        "\n",
        "p=loading_1.predict([[0.415307  , 0.36298704, 0.72769212]])\n"
      ],
      "id": "jH-badROIoFY",
      "execution_count": 360,
      "outputs": []
    },
    {
      "cell_type": "code",
      "metadata": {
        "colab": {
          "base_uri": "https://localhost:8080/"
        },
        "id": "9VEWi56Jbe4s",
        "outputId": "375b9026-09f8-4835-c6c3-9d788858b299"
      },
      "source": [
        "scaler.inverse_transform(p)"
      ],
      "id": "9VEWi56Jbe4s",
      "execution_count": 361,
      "outputs": [
        {
          "output_type": "execute_result",
          "data": {
            "text/plain": [
              "array([[65204.]], dtype=float32)"
            ]
          },
          "metadata": {
            "tags": []
          },
          "execution_count": 361
        }
      ]
    },
    {
      "cell_type": "code",
      "metadata": {
        "id": "9gMqPeHCf5Us"
      },
      "source": [
        ""
      ],
      "id": "9gMqPeHCf5Us",
      "execution_count": 361,
      "outputs": []
    },
    {
      "cell_type": "code",
      "metadata": {
        "id": "SLLOWRgmb8i-"
      },
      "source": [
        "\n"
      ],
      "id": "SLLOWRgmb8i-",
      "execution_count": 361,
      "outputs": []
    },
    {
      "cell_type": "code",
      "metadata": {
        "colab": {
          "base_uri": "https://localhost:8080/"
        },
        "id": "owu2HAFpOcRn",
        "outputId": "01ff4436-8a43-4312-a77b-bfcd71a554c4"
      },
      "source": [
        "X_[11:20]"
      ],
      "id": "owu2HAFpOcRn",
      "execution_count": 362,
      "outputs": [
        {
          "output_type": "execute_result",
          "data": {
            "text/plain": [
              "array([[0.61357573, 0.7005986 , 0.66230563],\n",
              "       [0.66266605, 0.64466888, 0.7735046 ],\n",
              "       [0.63033454, 0.66675513, 0.6941767 ],\n",
              "       [0.39077976, 0.45830615, 0.59791859],\n",
              "       [0.85040239, 0.51060264, 0.6596549 ],\n",
              "       [0.61362657, 1.        , 0.81285275],\n",
              "       [0.35230876, 0.42454956, 0.76767721],\n",
              "       [0.58335427, 0.64948778, 0.83277425],\n",
              "       [0.15116572, 0.44422198, 0.68987735]])"
            ]
          },
          "metadata": {
            "tags": []
          },
          "execution_count": 362
        }
      ]
    },
    {
      "cell_type": "code",
      "metadata": {
        "id": "Z8PJd-4bI6Cy"
      },
      "source": [
        ""
      ],
      "id": "Z8PJd-4bI6Cy",
      "execution_count": 362,
      "outputs": []
    },
    {
      "cell_type": "code",
      "metadata": {
        "id": "-L3IqNEeKDpr"
      },
      "source": [
        ""
      ],
      "id": "-L3IqNEeKDpr",
      "execution_count": 362,
      "outputs": []
    },
    {
      "cell_type": "code",
      "metadata": {
        "id": "BvF1XFL8JHeM"
      },
      "source": [
        ""
      ],
      "id": "BvF1XFL8JHeM",
      "execution_count": 362,
      "outputs": []
    },
    {
      "cell_type": "code",
      "metadata": {
        "colab": {
          "base_uri": "https://localhost:8080/"
        },
        "id": "rLLod_fVJA1k",
        "outputId": "32171546-9b84-4c19-81d3-e389a09d8ff6"
      },
      "source": [
        "!pip install -U keras-tuner\n"
      ],
      "id": "rLLod_fVJA1k",
      "execution_count": 371,
      "outputs": [
        {
          "output_type": "stream",
          "text": [
            "Requirement already up-to-date: keras-tuner in /usr/local/lib/python3.7/dist-packages (1.0.2)\n",
            "Requirement already satisfied, skipping upgrade: terminaltables in /usr/local/lib/python3.7/dist-packages (from keras-tuner) (3.1.0)\n",
            "Requirement already satisfied, skipping upgrade: packaging in /usr/local/lib/python3.7/dist-packages (from keras-tuner) (20.9)\n",
            "Requirement already satisfied, skipping upgrade: tabulate in /usr/local/lib/python3.7/dist-packages (from keras-tuner) (0.8.9)\n",
            "Requirement already satisfied, skipping upgrade: colorama in /usr/local/lib/python3.7/dist-packages (from keras-tuner) (0.4.4)\n",
            "Requirement already satisfied, skipping upgrade: requests in /usr/local/lib/python3.7/dist-packages (from keras-tuner) (2.23.0)\n",
            "Requirement already satisfied, skipping upgrade: scikit-learn in /usr/local/lib/python3.7/dist-packages (from keras-tuner) (0.22.2.post1)\n",
            "Requirement already satisfied, skipping upgrade: tqdm in /usr/local/lib/python3.7/dist-packages (from keras-tuner) (4.41.1)\n",
            "Requirement already satisfied, skipping upgrade: future in /usr/local/lib/python3.7/dist-packages (from keras-tuner) (0.16.0)\n",
            "Requirement already satisfied, skipping upgrade: scipy in /usr/local/lib/python3.7/dist-packages (from keras-tuner) (1.4.1)\n",
            "Requirement already satisfied, skipping upgrade: numpy in /usr/local/lib/python3.7/dist-packages (from keras-tuner) (1.19.5)\n",
            "Requirement already satisfied, skipping upgrade: pyparsing>=2.0.2 in /usr/local/lib/python3.7/dist-packages (from packaging->keras-tuner) (2.4.7)\n",
            "Requirement already satisfied, skipping upgrade: idna<3,>=2.5 in /usr/local/lib/python3.7/dist-packages (from requests->keras-tuner) (2.10)\n",
            "Requirement already satisfied, skipping upgrade: chardet<4,>=3.0.2 in /usr/local/lib/python3.7/dist-packages (from requests->keras-tuner) (3.0.4)\n",
            "Requirement already satisfied, skipping upgrade: certifi>=2017.4.17 in /usr/local/lib/python3.7/dist-packages (from requests->keras-tuner) (2020.12.5)\n",
            "Requirement already satisfied, skipping upgrade: urllib3!=1.25.0,!=1.25.1,<1.26,>=1.21.1 in /usr/local/lib/python3.7/dist-packages (from requests->keras-tuner) (1.24.3)\n",
            "Requirement already satisfied, skipping upgrade: joblib>=0.11 in /usr/local/lib/python3.7/dist-packages (from scikit-learn->keras-tuner) (1.0.1)\n"
          ],
          "name": "stdout"
        }
      ]
    },
    {
      "cell_type": "code",
      "metadata": {
        "id": "74WekOBPJkIb"
      },
      "source": [
        "from kerastuner.tuners import RandomSearch\n"
      ],
      "id": "74WekOBPJkIb",
      "execution_count": 372,
      "outputs": []
    },
    {
      "cell_type": "code",
      "metadata": {
        "id": "_z3T2ZwCKzP3"
      },
      "source": [
        "def build_model(hp):\n",
        "    model = keras.Sequential()\n",
        "    for i in range(hp.Int('num_layers', 2, 40)):\n",
        "        model.add(Dense(units=hp.Int('units_' + str(i),\n",
        "                                            min_value=32,\n",
        "                                            max_value=1024,\n",
        "                                            step=32),\n",
        "                               activation='relu'))\n",
        "    model.add(Dense(1, activation='linear'))\n",
        "    model.compile(\n",
        "        optimizer=keras.optimizers.Adam(\n",
        "            hp.Choice('learning_rate', [1e-2, 1e-3, 1e-4])),\n",
        "        loss='MeanSquaredError',\n",
        "        metrics=['MeanSquaredError'])\n",
        "    return model"
      ],
      "id": "_z3T2ZwCKzP3",
      "execution_count": 373,
      "outputs": []
    },
    {
      "cell_type": "code",
      "metadata": {
        "id": "-lmwQo5AqNjo"
      },
      "source": [
        "from tensorflow import keras\n",
        "from kerastuner import HyperModel\n"
      ],
      "id": "-lmwQo5AqNjo",
      "execution_count": 374,
      "outputs": []
    },
    {
      "cell_type": "code",
      "metadata": {
        "id": "jMfIfos74Juc"
      },
      "source": [
        ""
      ],
      "id": "jMfIfos74Juc",
      "execution_count": 374,
      "outputs": []
    },
    {
      "cell_type": "code",
      "metadata": {
        "id": "_to87NdPJdfB"
      },
      "source": [
        "tuner = RandomSearch(build_model,objective='val_loss',max_trials=10,executions_per_trial=3)\n"
      ],
      "id": "_to87NdPJdfB",
      "execution_count": 375,
      "outputs": []
    },
    {
      "cell_type": "code",
      "metadata": {
        "colab": {
          "base_uri": "https://localhost:8080/"
        },
        "id": "z2lxkNCSLEPY",
        "outputId": "ba166ed6-a03c-4a3b-8ea5-3c13d113506f"
      },
      "source": [
        "tuner.search(X_train,y_train,epochs=100,validation_data= (X_test,y_test))\n"
      ],
      "id": "z2lxkNCSLEPY",
      "execution_count": 376,
      "outputs": [
        {
          "output_type": "stream",
          "text": [
            "Trial 10 Complete [00h 00m 24s]\n",
            "val_loss: 0.01078361707429091\n",
            "\n",
            "Best val_loss So Far: 0.0105979156990846\n",
            "Total elapsed time: 00h 27m 53s\n",
            "INFO:tensorflow:Oracle triggered exit\n"
          ],
          "name": "stdout"
        }
      ]
    },
    {
      "cell_type": "code",
      "metadata": {
        "colab": {
          "base_uri": "https://localhost:8080/"
        },
        "id": "HLHDevawIfGW",
        "outputId": "db74e206-e86a-49ea-a45f-25ae1fdec85d"
      },
      "source": [
        "tuner.results_summary()\n"
      ],
      "id": "HLHDevawIfGW",
      "execution_count": 377,
      "outputs": [
        {
          "output_type": "stream",
          "text": [
            "Results summary\n",
            "Results in ./untitled_project\n",
            "Showing 10 best trials\n",
            "Objective(name='val_loss', direction='min')\n",
            "Trial summary\n",
            "Hyperparameters:\n",
            "num_layers: 3\n",
            "units_0: 320\n",
            "units_1: 192\n",
            "learning_rate: 0.01\n",
            "units_2: 96\n",
            "units_3: 544\n",
            "units_4: 960\n",
            "units_5: 992\n",
            "units_6: 896\n",
            "units_7: 896\n",
            "units_8: 352\n",
            "units_9: 96\n",
            "units_10: 64\n",
            "units_11: 448\n",
            "units_12: 64\n",
            "units_13: 800\n",
            "units_14: 768\n",
            "units_15: 224\n",
            "units_16: 256\n",
            "units_17: 384\n",
            "units_18: 800\n",
            "units_19: 768\n",
            "units_20: 736\n",
            "units_21: 448\n",
            "units_22: 576\n",
            "units_23: 992\n",
            "units_24: 192\n",
            "units_25: 608\n",
            "units_26: 128\n",
            "units_27: 832\n",
            "units_28: 864\n",
            "units_29: 416\n",
            "units_30: 224\n",
            "units_31: 768\n",
            "units_32: 544\n",
            "units_33: 704\n",
            "units_34: 256\n",
            "units_35: 896\n",
            "units_36: 832\n",
            "units_37: 320\n",
            "units_38: 704\n",
            "units_39: 608\n",
            "Score: 0.0105979156990846\n",
            "Trial summary\n",
            "Hyperparameters:\n",
            "num_layers: 3\n",
            "units_0: 672\n",
            "units_1: 32\n",
            "learning_rate: 0.0001\n",
            "units_2: 480\n",
            "units_3: 160\n",
            "units_4: 352\n",
            "units_5: 128\n",
            "units_6: 864\n",
            "units_7: 960\n",
            "units_8: 960\n",
            "units_9: 192\n",
            "units_10: 608\n",
            "units_11: 832\n",
            "units_12: 384\n",
            "units_13: 128\n",
            "units_14: 640\n",
            "units_15: 416\n",
            "units_16: 768\n",
            "units_17: 384\n",
            "units_18: 160\n",
            "units_19: 480\n",
            "units_20: 256\n",
            "units_21: 352\n",
            "units_22: 192\n",
            "units_23: 576\n",
            "units_24: 128\n",
            "units_25: 64\n",
            "units_26: 576\n",
            "units_27: 64\n",
            "units_28: 864\n",
            "units_29: 736\n",
            "units_30: 192\n",
            "units_31: 320\n",
            "units_32: 288\n",
            "units_33: 256\n",
            "units_34: 608\n",
            "units_35: 608\n",
            "units_36: 576\n",
            "units_37: 256\n",
            "units_38: 128\n",
            "units_39: 768\n",
            "Score: 0.01078361707429091\n",
            "Trial summary\n",
            "Hyperparameters:\n",
            "num_layers: 12\n",
            "units_0: 736\n",
            "units_1: 832\n",
            "learning_rate: 0.01\n",
            "units_2: 928\n",
            "units_3: 864\n",
            "units_4: 928\n",
            "units_5: 288\n",
            "units_6: 640\n",
            "units_7: 768\n",
            "units_8: 832\n",
            "units_9: 672\n",
            "units_10: 928\n",
            "units_11: 800\n",
            "units_12: 672\n",
            "units_13: 192\n",
            "units_14: 768\n",
            "units_15: 736\n",
            "units_16: 896\n",
            "units_17: 832\n",
            "units_18: 640\n",
            "units_19: 576\n",
            "units_20: 160\n",
            "units_21: 960\n",
            "units_22: 640\n",
            "units_23: 320\n",
            "units_24: 992\n",
            "units_25: 608\n",
            "units_26: 704\n",
            "units_27: 96\n",
            "units_28: 288\n",
            "units_29: 352\n",
            "units_30: 416\n",
            "units_31: 224\n",
            "units_32: 128\n",
            "units_33: 384\n",
            "units_34: 192\n",
            "units_35: 608\n",
            "units_36: 768\n",
            "units_37: 512\n",
            "units_38: 832\n",
            "units_39: 608\n",
            "Score: 0.010883018684883913\n",
            "Trial summary\n",
            "Hyperparameters:\n",
            "num_layers: 30\n",
            "units_0: 416\n",
            "units_1: 768\n",
            "learning_rate: 0.0001\n",
            "units_2: 224\n",
            "units_3: 800\n",
            "units_4: 928\n",
            "units_5: 416\n",
            "units_6: 928\n",
            "units_7: 640\n",
            "units_8: 832\n",
            "units_9: 1024\n",
            "units_10: 608\n",
            "units_11: 64\n",
            "units_12: 608\n",
            "units_13: 480\n",
            "units_14: 320\n",
            "units_15: 896\n",
            "units_16: 640\n",
            "units_17: 992\n",
            "units_18: 96\n",
            "units_19: 416\n",
            "units_20: 864\n",
            "units_21: 608\n",
            "units_22: 768\n",
            "units_23: 128\n",
            "units_24: 992\n",
            "units_25: 992\n",
            "units_26: 32\n",
            "units_27: 416\n",
            "units_28: 224\n",
            "units_29: 384\n",
            "units_30: 416\n",
            "units_31: 704\n",
            "units_32: 96\n",
            "units_33: 800\n",
            "units_34: 64\n",
            "units_35: 128\n",
            "units_36: 704\n",
            "units_37: 928\n",
            "units_38: 320\n",
            "units_39: 384\n",
            "Score: 0.010953964355091253\n",
            "Trial summary\n",
            "Hyperparameters:\n",
            "num_layers: 21\n",
            "units_0: 352\n",
            "units_1: 864\n",
            "learning_rate: 0.001\n",
            "units_2: 992\n",
            "units_3: 96\n",
            "units_4: 768\n",
            "units_5: 480\n",
            "units_6: 416\n",
            "units_7: 160\n",
            "units_8: 864\n",
            "units_9: 224\n",
            "units_10: 608\n",
            "units_11: 608\n",
            "units_12: 448\n",
            "units_13: 960\n",
            "units_14: 608\n",
            "units_15: 128\n",
            "units_16: 896\n",
            "units_17: 160\n",
            "units_18: 864\n",
            "units_19: 544\n",
            "units_20: 704\n",
            "units_21: 224\n",
            "units_22: 992\n",
            "units_23: 224\n",
            "units_24: 800\n",
            "units_25: 384\n",
            "units_26: 832\n",
            "units_27: 448\n",
            "units_28: 320\n",
            "units_29: 640\n",
            "units_30: 928\n",
            "units_31: 96\n",
            "units_32: 512\n",
            "units_33: 224\n",
            "units_34: 480\n",
            "units_35: 640\n",
            "units_36: 416\n",
            "units_37: 480\n",
            "units_38: 864\n",
            "units_39: 928\n",
            "Score: 0.037944820088644825\n",
            "Trial summary\n",
            "Hyperparameters:\n",
            "num_layers: 23\n",
            "units_0: 736\n",
            "units_1: 800\n",
            "learning_rate: 0.01\n",
            "units_2: 928\n",
            "units_3: 960\n",
            "units_4: 256\n",
            "units_5: 384\n",
            "units_6: 128\n",
            "units_7: 480\n",
            "units_8: 224\n",
            "units_9: 160\n",
            "units_10: 640\n",
            "units_11: 928\n",
            "units_12: 928\n",
            "units_13: 320\n",
            "units_14: 256\n",
            "units_15: 608\n",
            "units_16: 736\n",
            "units_17: 416\n",
            "units_18: 480\n",
            "units_19: 640\n",
            "units_20: 448\n",
            "units_21: 480\n",
            "units_22: 320\n",
            "units_23: 224\n",
            "units_24: 256\n",
            "units_25: 576\n",
            "units_26: 224\n",
            "units_27: 608\n",
            "units_28: 608\n",
            "units_29: 992\n",
            "units_30: 768\n",
            "units_31: 736\n",
            "units_32: 544\n",
            "units_33: 736\n",
            "units_34: 800\n",
            "units_35: 256\n",
            "units_36: 768\n",
            "units_37: 96\n",
            "Score: 0.04612981900572777\n",
            "Trial summary\n",
            "Hyperparameters:\n",
            "num_layers: 24\n",
            "units_0: 160\n",
            "units_1: 608\n",
            "learning_rate: 0.001\n",
            "units_2: 800\n",
            "units_3: 640\n",
            "units_4: 320\n",
            "units_5: 64\n",
            "units_6: 320\n",
            "units_7: 64\n",
            "units_8: 736\n",
            "units_9: 448\n",
            "units_10: 576\n",
            "units_11: 416\n",
            "units_12: 352\n",
            "units_13: 96\n",
            "units_14: 448\n",
            "units_15: 512\n",
            "units_16: 704\n",
            "units_17: 32\n",
            "units_18: 960\n",
            "units_19: 256\n",
            "units_20: 992\n",
            "units_21: 416\n",
            "units_22: 640\n",
            "units_23: 576\n",
            "units_24: 896\n",
            "units_25: 416\n",
            "units_26: 320\n",
            "units_27: 608\n",
            "units_28: 832\n",
            "units_29: 160\n",
            "units_30: 704\n",
            "units_31: 224\n",
            "units_32: 256\n",
            "units_33: 736\n",
            "units_34: 864\n",
            "units_35: 704\n",
            "units_36: 544\n",
            "units_37: 928\n",
            "units_38: 864\n",
            "units_39: 416\n",
            "Score: 0.0521635040640831\n",
            "Trial summary\n",
            "Hyperparameters:\n",
            "num_layers: 38\n",
            "units_0: 896\n",
            "units_1: 736\n",
            "learning_rate: 0.01\n",
            "units_2: 32\n",
            "units_3: 32\n",
            "units_4: 32\n",
            "units_5: 32\n",
            "units_6: 32\n",
            "units_7: 32\n",
            "units_8: 32\n",
            "units_9: 32\n",
            "units_10: 32\n",
            "units_11: 32\n",
            "units_12: 32\n",
            "units_13: 32\n",
            "units_14: 32\n",
            "units_15: 32\n",
            "units_16: 32\n",
            "units_17: 32\n",
            "units_18: 32\n",
            "units_19: 32\n",
            "units_20: 32\n",
            "units_21: 32\n",
            "units_22: 32\n",
            "units_23: 32\n",
            "units_24: 32\n",
            "units_25: 32\n",
            "units_26: 32\n",
            "units_27: 32\n",
            "units_28: 32\n",
            "units_29: 32\n",
            "units_30: 32\n",
            "units_31: 32\n",
            "units_32: 32\n",
            "units_33: 32\n",
            "units_34: 32\n",
            "units_35: 32\n",
            "units_36: 32\n",
            "units_37: 32\n",
            "Score: 0.053906487921873726\n",
            "Trial summary\n",
            "Hyperparameters:\n",
            "num_layers: 40\n",
            "units_0: 864\n",
            "units_1: 256\n",
            "learning_rate: 0.01\n",
            "units_2: 128\n",
            "units_3: 384\n",
            "units_4: 352\n",
            "units_5: 224\n",
            "units_6: 352\n",
            "units_7: 992\n",
            "units_8: 928\n",
            "units_9: 160\n",
            "units_10: 256\n",
            "units_11: 320\n",
            "units_12: 928\n",
            "units_13: 352\n",
            "units_14: 864\n",
            "units_15: 384\n",
            "units_16: 96\n",
            "units_17: 704\n",
            "units_18: 992\n",
            "units_19: 224\n",
            "units_20: 416\n",
            "units_21: 544\n",
            "units_22: 832\n",
            "units_23: 768\n",
            "units_24: 352\n",
            "units_25: 160\n",
            "units_26: 640\n",
            "units_27: 160\n",
            "units_28: 448\n",
            "units_29: 672\n",
            "units_30: 672\n",
            "units_31: 320\n",
            "units_32: 128\n",
            "units_33: 384\n",
            "units_34: 448\n",
            "units_35: 352\n",
            "units_36: 832\n",
            "units_37: 32\n",
            "units_38: 32\n",
            "units_39: 32\n",
            "Score: 0.05390652393301328\n",
            "Trial summary\n",
            "Hyperparameters:\n",
            "num_layers: 27\n",
            "units_0: 928\n",
            "units_1: 64\n",
            "learning_rate: 0.001\n",
            "units_2: 416\n",
            "units_3: 512\n",
            "units_4: 544\n",
            "units_5: 384\n",
            "units_6: 672\n",
            "units_7: 608\n",
            "units_8: 288\n",
            "units_9: 480\n",
            "units_10: 96\n",
            "units_11: 576\n",
            "units_12: 640\n",
            "units_13: 320\n",
            "units_14: 864\n",
            "units_15: 832\n",
            "units_16: 1024\n",
            "units_17: 64\n",
            "units_18: 640\n",
            "units_19: 64\n",
            "units_20: 640\n",
            "units_21: 992\n",
            "units_22: 992\n",
            "units_23: 704\n",
            "units_24: 384\n",
            "units_25: 192\n",
            "units_26: 864\n",
            "units_27: 672\n",
            "units_28: 448\n",
            "units_29: 288\n",
            "units_30: 832\n",
            "units_31: 352\n",
            "units_32: 960\n",
            "units_33: 288\n",
            "units_34: 32\n",
            "units_35: 736\n",
            "units_36: 864\n",
            "units_37: 160\n",
            "Score: 0.05390685051679611\n"
          ],
          "name": "stdout"
        }
      ]
    },
    {
      "cell_type": "code",
      "metadata": {
        "id": "roqS6m3yti3s"
      },
      "source": [
        "from keras.optimizers import Adam"
      ],
      "id": "roqS6m3yti3s",
      "execution_count": 378,
      "outputs": []
    },
    {
      "cell_type": "code",
      "metadata": {
        "colab": {
          "base_uri": "https://localhost:8080/"
        },
        "id": "0cQUQbw9ag8L",
        "outputId": "989839dc-26d9-401e-a985-c229291885fd"
      },
      "source": [
        "X_\n"
      ],
      "id": "0cQUQbw9ag8L",
      "execution_count": 379,
      "outputs": [
        {
          "output_type": "execute_result",
          "data": {
            "text/plain": [
              "array([[0.68859809, 0.79102319, 0.67214285],\n",
              "       [0.67349766, 0.65554292, 0.83360014],\n",
              "       [0.58687169, 0.59062548, 0.8288121 ],\n",
              "       [0.75608042, 0.42007018, 0.69813427],\n",
              "       [0.77286356, 0.87307248, 0.7108141 ],\n",
              "       [0.17411476, 0.55667537, 0.68248803],\n",
              "       [0.        , 0.28203263, 0.17393212],\n",
              "       [0.33029152, 0.55609603, 0.95268991],\n",
              "       [0.53204327, 0.54478914, 0.83271632],\n",
              "       [0.3080608 , 0.37439677, 0.64453168],\n",
              "       [0.96990221, 0.25411496, 0.50026381],\n",
              "       [0.61357573, 0.7005986 , 0.66230563],\n",
              "       [0.66266605, 0.64466888, 0.7735046 ],\n",
              "       [0.63033454, 0.66675513, 0.6941767 ],\n",
              "       [0.39077976, 0.45830615, 0.59791859],\n",
              "       [0.85040239, 0.51060264, 0.6596549 ],\n",
              "       [0.61362657, 1.        , 0.81285275],\n",
              "       [0.35230876, 0.42454956, 0.76767721],\n",
              "       [0.58335427, 0.64948778, 0.83277425],\n",
              "       [0.15116572, 0.44422198, 0.68987735],\n",
              "       [0.00674242, 0.04274377, 0.40589655],\n",
              "       [0.73258651, 0.32986619, 0.82710157],\n",
              "       [0.45579839, 0.6018088 , 0.81184687],\n",
              "       [0.26936417, 0.72495959, 0.83913989],\n",
              "       [0.22671153, 0.85379561, 1.        ],\n",
              "       [0.14273356, 0.53563456, 0.86700322],\n",
              "       [0.00368649, 0.17623313, 0.41728999],\n",
              "       [0.38699282, 0.50882442, 0.92171362],\n",
              "       [0.48512175, 0.61594   , 0.81184687],\n",
              "       [0.61571488, 0.51236333, 0.80071256],\n",
              "       [0.34711444, 0.30171062, 0.82693139],\n",
              "       [0.47689015, 0.41740686, 0.56848864],\n",
              "       [0.47689015, 0.41740686, 0.68265543],\n",
              "       [0.08155402, 0.56009731, 0.38170108],\n",
              "       [0.00694429, 0.12743328, 0.        ],\n",
              "       [1.        , 0.77304533, 0.51617891],\n",
              "       [0.91404707, 0.61161885, 0.63505825],\n",
              "       [0.48684928, 0.53719036, 0.70232676],\n",
              "       [0.15544443, 0.49817451, 0.45687425],\n",
              "       [0.00254049, 0.        , 0.40621443],\n",
              "       [0.38912627, 0.71624789, 0.84779231],\n",
              "       [0.64781259, 0.54293519, 0.80906391],\n",
              "       [0.415307  , 0.36298704, 0.72769212],\n",
              "       [0.59841874, 0.39976689, 0.70064452]])"
            ]
          },
          "metadata": {
            "tags": []
          },
          "execution_count": 379
        }
      ]
    },
    {
      "cell_type": "code",
      "metadata": {
        "id": "cFQtLkztLqCf"
      },
      "source": [
        "num_layers: 3\n",
        "units_0: 320\n",
        "units_1: 192\n",
        "learning_rate: 0.01\n",
        "units_2: 96\n",
        "units_3: 544\n",
        "units_4: 960"
      ],
      "id": "cFQtLkztLqCf",
      "execution_count": null,
      "outputs": []
    },
    {
      "cell_type": "code",
      "metadata": {
        "id": "YcQNsBNTF9nK"
      },
      "source": [
        "model = Sequential()\n",
        "model.add(Dense(320, activation = 'relu', input_dim =3))\n",
        "model.add(Dense(192, activation = 'relu'))\n",
        "model.add(Dense(96, activation = 'relu'))\n",
        "model.add(Dense(544, activation = 'relu'))\n",
        "\n",
        "\n",
        "\n",
        "model.add(Dense(1,activation = 'linear'))\n",
        "model.compile(optimizer=Adam(lr=0.01), loss='MeanSquaredError', metrics = ['MeanSquaredError'])"
      ],
      "id": "YcQNsBNTF9nK",
      "execution_count": 382,
      "outputs": []
    },
    {
      "cell_type": "code",
      "metadata": {
        "id": "nvglpp4JDEsF"
      },
      "source": [
        ""
      ],
      "id": "nvglpp4JDEsF",
      "execution_count": 382,
      "outputs": []
    },
    {
      "cell_type": "code",
      "metadata": {
        "colab": {
          "base_uri": "https://localhost:8080/"
        },
        "id": "IijwqesKGZTX",
        "outputId": "74e02a2d-7323-4aa8-cd67-8c3c3137cf41"
      },
      "source": [
        "hist=model.fit(X_train,y_train,epochs=100,validation_data=(X_test,y_test))"
      ],
      "id": "IijwqesKGZTX",
      "execution_count": 383,
      "outputs": [
        {
          "output_type": "stream",
          "text": [
            "Epoch 1/100\n",
            "8/8 [==============================] - 1s 29ms/step - loss: 0.2868 - mean_squared_error: 0.2868 - val_loss: 0.0238 - val_mean_squared_error: 0.0238\n",
            "Epoch 2/100\n",
            "8/8 [==============================] - 0s 9ms/step - loss: 0.0351 - mean_squared_error: 0.0351 - val_loss: 0.0220 - val_mean_squared_error: 0.0220\n",
            "Epoch 3/100\n",
            "8/8 [==============================] - 0s 10ms/step - loss: 0.0251 - mean_squared_error: 0.0251 - val_loss: 0.0138 - val_mean_squared_error: 0.0138\n",
            "Epoch 4/100\n",
            "8/8 [==============================] - 0s 8ms/step - loss: 0.0237 - mean_squared_error: 0.0237 - val_loss: 0.0163 - val_mean_squared_error: 0.0163\n",
            "Epoch 5/100\n",
            "8/8 [==============================] - 0s 9ms/step - loss: 0.0225 - mean_squared_error: 0.0225 - val_loss: 0.0112 - val_mean_squared_error: 0.0112\n",
            "Epoch 6/100\n",
            "8/8 [==============================] - 0s 10ms/step - loss: 0.0168 - mean_squared_error: 0.0168 - val_loss: 0.0105 - val_mean_squared_error: 0.0105\n",
            "Epoch 7/100\n",
            "8/8 [==============================] - 0s 8ms/step - loss: 0.0161 - mean_squared_error: 0.0161 - val_loss: 0.0120 - val_mean_squared_error: 0.0120\n",
            "Epoch 8/100\n",
            "8/8 [==============================] - 0s 9ms/step - loss: 0.0165 - mean_squared_error: 0.0165 - val_loss: 0.0114 - val_mean_squared_error: 0.0114\n",
            "Epoch 9/100\n",
            "8/8 [==============================] - 0s 9ms/step - loss: 0.0174 - mean_squared_error: 0.0174 - val_loss: 0.0129 - val_mean_squared_error: 0.0129\n",
            "Epoch 10/100\n",
            "8/8 [==============================] - 0s 9ms/step - loss: 0.0190 - mean_squared_error: 0.0190 - val_loss: 0.0108 - val_mean_squared_error: 0.0108\n",
            "Epoch 11/100\n",
            "8/8 [==============================] - 0s 9ms/step - loss: 0.0193 - mean_squared_error: 0.0193 - val_loss: 0.0134 - val_mean_squared_error: 0.0134\n",
            "Epoch 12/100\n",
            "8/8 [==============================] - 0s 9ms/step - loss: 0.0197 - mean_squared_error: 0.0197 - val_loss: 0.0171 - val_mean_squared_error: 0.0171\n",
            "Epoch 13/100\n",
            "8/8 [==============================] - 0s 9ms/step - loss: 0.0196 - mean_squared_error: 0.0196 - val_loss: 0.0187 - val_mean_squared_error: 0.0187\n",
            "Epoch 14/100\n",
            "8/8 [==============================] - 0s 9ms/step - loss: 0.0225 - mean_squared_error: 0.0225 - val_loss: 0.0203 - val_mean_squared_error: 0.0203\n",
            "Epoch 15/100\n",
            "8/8 [==============================] - 0s 9ms/step - loss: 0.0267 - mean_squared_error: 0.0267 - val_loss: 0.0111 - val_mean_squared_error: 0.0111\n",
            "Epoch 16/100\n",
            "8/8 [==============================] - 0s 10ms/step - loss: 0.0163 - mean_squared_error: 0.0163 - val_loss: 0.0111 - val_mean_squared_error: 0.0111\n",
            "Epoch 17/100\n",
            "8/8 [==============================] - 0s 10ms/step - loss: 0.0187 - mean_squared_error: 0.0187 - val_loss: 0.0119 - val_mean_squared_error: 0.0119\n",
            "Epoch 18/100\n",
            "8/8 [==============================] - 0s 9ms/step - loss: 0.0168 - mean_squared_error: 0.0168 - val_loss: 0.0117 - val_mean_squared_error: 0.0117\n",
            "Epoch 19/100\n",
            "8/8 [==============================] - 0s 8ms/step - loss: 0.0189 - mean_squared_error: 0.0189 - val_loss: 0.0112 - val_mean_squared_error: 0.0112\n",
            "Epoch 20/100\n",
            "8/8 [==============================] - 0s 9ms/step - loss: 0.0176 - mean_squared_error: 0.0176 - val_loss: 0.0118 - val_mean_squared_error: 0.0118\n",
            "Epoch 21/100\n",
            "8/8 [==============================] - 0s 9ms/step - loss: 0.0182 - mean_squared_error: 0.0182 - val_loss: 0.0105 - val_mean_squared_error: 0.0105\n",
            "Epoch 22/100\n",
            "8/8 [==============================] - 0s 10ms/step - loss: 0.0155 - mean_squared_error: 0.0155 - val_loss: 0.0144 - val_mean_squared_error: 0.0144\n",
            "Epoch 23/100\n",
            "8/8 [==============================] - 0s 10ms/step - loss: 0.0203 - mean_squared_error: 0.0203 - val_loss: 0.0133 - val_mean_squared_error: 0.0133\n",
            "Epoch 24/100\n",
            "8/8 [==============================] - 0s 9ms/step - loss: 0.0226 - mean_squared_error: 0.0226 - val_loss: 0.0115 - val_mean_squared_error: 0.0115\n",
            "Epoch 25/100\n",
            "8/8 [==============================] - 0s 9ms/step - loss: 0.0203 - mean_squared_error: 0.0203 - val_loss: 0.0135 - val_mean_squared_error: 0.0135\n",
            "Epoch 26/100\n",
            "8/8 [==============================] - 0s 9ms/step - loss: 0.0197 - mean_squared_error: 0.0197 - val_loss: 0.0130 - val_mean_squared_error: 0.0130\n",
            "Epoch 27/100\n",
            "8/8 [==============================] - 0s 8ms/step - loss: 0.0203 - mean_squared_error: 0.0203 - val_loss: 0.0116 - val_mean_squared_error: 0.0116\n",
            "Epoch 28/100\n",
            "8/8 [==============================] - 0s 9ms/step - loss: 0.0165 - mean_squared_error: 0.0165 - val_loss: 0.0113 - val_mean_squared_error: 0.0113\n",
            "Epoch 29/100\n",
            "8/8 [==============================] - 0s 9ms/step - loss: 0.0148 - mean_squared_error: 0.0148 - val_loss: 0.0115 - val_mean_squared_error: 0.0115\n",
            "Epoch 30/100\n",
            "8/8 [==============================] - 0s 8ms/step - loss: 0.0173 - mean_squared_error: 0.0173 - val_loss: 0.0112 - val_mean_squared_error: 0.0112\n",
            "Epoch 31/100\n",
            "8/8 [==============================] - 0s 9ms/step - loss: 0.0191 - mean_squared_error: 0.0191 - val_loss: 0.0110 - val_mean_squared_error: 0.0110\n",
            "Epoch 32/100\n",
            "8/8 [==============================] - 0s 9ms/step - loss: 0.0181 - mean_squared_error: 0.0181 - val_loss: 0.0138 - val_mean_squared_error: 0.0138\n",
            "Epoch 33/100\n",
            "8/8 [==============================] - 0s 9ms/step - loss: 0.0173 - mean_squared_error: 0.0173 - val_loss: 0.0114 - val_mean_squared_error: 0.0114\n",
            "Epoch 34/100\n",
            "8/8 [==============================] - 0s 8ms/step - loss: 0.0157 - mean_squared_error: 0.0157 - val_loss: 0.0106 - val_mean_squared_error: 0.0106\n",
            "Epoch 35/100\n",
            "8/8 [==============================] - 0s 8ms/step - loss: 0.0166 - mean_squared_error: 0.0166 - val_loss: 0.0151 - val_mean_squared_error: 0.0151\n",
            "Epoch 36/100\n",
            "8/8 [==============================] - 0s 9ms/step - loss: 0.0147 - mean_squared_error: 0.0147 - val_loss: 0.0117 - val_mean_squared_error: 0.0117\n",
            "Epoch 37/100\n",
            "8/8 [==============================] - 0s 9ms/step - loss: 0.0148 - mean_squared_error: 0.0148 - val_loss: 0.0110 - val_mean_squared_error: 0.0110\n",
            "Epoch 38/100\n",
            "8/8 [==============================] - 0s 9ms/step - loss: 0.0173 - mean_squared_error: 0.0173 - val_loss: 0.0115 - val_mean_squared_error: 0.0115\n",
            "Epoch 39/100\n",
            "8/8 [==============================] - 0s 10ms/step - loss: 0.0187 - mean_squared_error: 0.0187 - val_loss: 0.0156 - val_mean_squared_error: 0.0156\n",
            "Epoch 40/100\n",
            "8/8 [==============================] - 0s 10ms/step - loss: 0.0176 - mean_squared_error: 0.0176 - val_loss: 0.0137 - val_mean_squared_error: 0.0137\n",
            "Epoch 41/100\n",
            "8/8 [==============================] - 0s 10ms/step - loss: 0.0178 - mean_squared_error: 0.0178 - val_loss: 0.0112 - val_mean_squared_error: 0.0112\n",
            "Epoch 42/100\n",
            "8/8 [==============================] - 0s 10ms/step - loss: 0.0171 - mean_squared_error: 0.0171 - val_loss: 0.0191 - val_mean_squared_error: 0.0191\n",
            "Epoch 43/100\n",
            "8/8 [==============================] - 0s 9ms/step - loss: 0.0187 - mean_squared_error: 0.0187 - val_loss: 0.0156 - val_mean_squared_error: 0.0156\n",
            "Epoch 44/100\n",
            "8/8 [==============================] - 0s 8ms/step - loss: 0.0165 - mean_squared_error: 0.0165 - val_loss: 0.0114 - val_mean_squared_error: 0.0114\n",
            "Epoch 45/100\n",
            "8/8 [==============================] - 0s 9ms/step - loss: 0.0174 - mean_squared_error: 0.0174 - val_loss: 0.0108 - val_mean_squared_error: 0.0108\n",
            "Epoch 46/100\n",
            "8/8 [==============================] - 0s 9ms/step - loss: 0.0158 - mean_squared_error: 0.0158 - val_loss: 0.0115 - val_mean_squared_error: 0.0115\n",
            "Epoch 47/100\n",
            "8/8 [==============================] - 0s 9ms/step - loss: 0.0162 - mean_squared_error: 0.0162 - val_loss: 0.0118 - val_mean_squared_error: 0.0118\n",
            "Epoch 48/100\n",
            "8/8 [==============================] - 0s 9ms/step - loss: 0.0151 - mean_squared_error: 0.0151 - val_loss: 0.0120 - val_mean_squared_error: 0.0120\n",
            "Epoch 49/100\n",
            "8/8 [==============================] - 0s 8ms/step - loss: 0.0151 - mean_squared_error: 0.0151 - val_loss: 0.0126 - val_mean_squared_error: 0.0126\n",
            "Epoch 50/100\n",
            "8/8 [==============================] - 0s 10ms/step - loss: 0.0149 - mean_squared_error: 0.0149 - val_loss: 0.0112 - val_mean_squared_error: 0.0112\n",
            "Epoch 51/100\n",
            "8/8 [==============================] - 0s 10ms/step - loss: 0.0177 - mean_squared_error: 0.0177 - val_loss: 0.0144 - val_mean_squared_error: 0.0144\n",
            "Epoch 52/100\n",
            "8/8 [==============================] - 0s 9ms/step - loss: 0.0219 - mean_squared_error: 0.0219 - val_loss: 0.0184 - val_mean_squared_error: 0.0184\n",
            "Epoch 53/100\n",
            "8/8 [==============================] - 0s 8ms/step - loss: 0.0179 - mean_squared_error: 0.0179 - val_loss: 0.0128 - val_mean_squared_error: 0.0128\n",
            "Epoch 54/100\n",
            "8/8 [==============================] - 0s 9ms/step - loss: 0.0153 - mean_squared_error: 0.0153 - val_loss: 0.0126 - val_mean_squared_error: 0.0126\n",
            "Epoch 55/100\n",
            "8/8 [==============================] - 0s 9ms/step - loss: 0.0159 - mean_squared_error: 0.0159 - val_loss: 0.0120 - val_mean_squared_error: 0.0120\n",
            "Epoch 56/100\n",
            "8/8 [==============================] - 0s 9ms/step - loss: 0.0154 - mean_squared_error: 0.0154 - val_loss: 0.0116 - val_mean_squared_error: 0.0116\n",
            "Epoch 57/100\n",
            "8/8 [==============================] - 0s 10ms/step - loss: 0.0170 - mean_squared_error: 0.0170 - val_loss: 0.0120 - val_mean_squared_error: 0.0120\n",
            "Epoch 58/100\n",
            "8/8 [==============================] - 0s 9ms/step - loss: 0.0161 - mean_squared_error: 0.0161 - val_loss: 0.0145 - val_mean_squared_error: 0.0145\n",
            "Epoch 59/100\n",
            "8/8 [==============================] - 0s 10ms/step - loss: 0.0175 - mean_squared_error: 0.0175 - val_loss: 0.0140 - val_mean_squared_error: 0.0140\n",
            "Epoch 60/100\n",
            "8/8 [==============================] - 0s 9ms/step - loss: 0.0193 - mean_squared_error: 0.0193 - val_loss: 0.0117 - val_mean_squared_error: 0.0117\n",
            "Epoch 61/100\n",
            "8/8 [==============================] - 0s 9ms/step - loss: 0.0168 - mean_squared_error: 0.0168 - val_loss: 0.0138 - val_mean_squared_error: 0.0138\n",
            "Epoch 62/100\n",
            "8/8 [==============================] - 0s 9ms/step - loss: 0.0178 - mean_squared_error: 0.0178 - val_loss: 0.0125 - val_mean_squared_error: 0.0125\n",
            "Epoch 63/100\n",
            "8/8 [==============================] - 0s 8ms/step - loss: 0.0169 - mean_squared_error: 0.0169 - val_loss: 0.0169 - val_mean_squared_error: 0.0169\n",
            "Epoch 64/100\n",
            "8/8 [==============================] - 0s 9ms/step - loss: 0.0193 - mean_squared_error: 0.0193 - val_loss: 0.0195 - val_mean_squared_error: 0.0195\n",
            "Epoch 65/100\n",
            "8/8 [==============================] - 0s 9ms/step - loss: 0.0206 - mean_squared_error: 0.0206 - val_loss: 0.0132 - val_mean_squared_error: 0.0132\n",
            "Epoch 66/100\n",
            "8/8 [==============================] - 0s 9ms/step - loss: 0.0199 - mean_squared_error: 0.0199 - val_loss: 0.0110 - val_mean_squared_error: 0.0110\n",
            "Epoch 67/100\n",
            "8/8 [==============================] - 0s 10ms/step - loss: 0.0143 - mean_squared_error: 0.0143 - val_loss: 0.0118 - val_mean_squared_error: 0.0118\n",
            "Epoch 68/100\n",
            "8/8 [==============================] - 0s 9ms/step - loss: 0.0169 - mean_squared_error: 0.0169 - val_loss: 0.0115 - val_mean_squared_error: 0.0115\n",
            "Epoch 69/100\n",
            "8/8 [==============================] - 0s 9ms/step - loss: 0.0155 - mean_squared_error: 0.0155 - val_loss: 0.0118 - val_mean_squared_error: 0.0118\n",
            "Epoch 70/100\n",
            "8/8 [==============================] - 0s 9ms/step - loss: 0.0162 - mean_squared_error: 0.0162 - val_loss: 0.0187 - val_mean_squared_error: 0.0187\n",
            "Epoch 71/100\n",
            "8/8 [==============================] - 0s 9ms/step - loss: 0.0190 - mean_squared_error: 0.0190 - val_loss: 0.0182 - val_mean_squared_error: 0.0182\n",
            "Epoch 72/100\n",
            "8/8 [==============================] - 0s 8ms/step - loss: 0.0199 - mean_squared_error: 0.0199 - val_loss: 0.0126 - val_mean_squared_error: 0.0126\n",
            "Epoch 73/100\n",
            "8/8 [==============================] - 0s 9ms/step - loss: 0.0154 - mean_squared_error: 0.0154 - val_loss: 0.0115 - val_mean_squared_error: 0.0115\n",
            "Epoch 74/100\n",
            "8/8 [==============================] - 0s 9ms/step - loss: 0.0157 - mean_squared_error: 0.0157 - val_loss: 0.0136 - val_mean_squared_error: 0.0136\n",
            "Epoch 75/100\n",
            "8/8 [==============================] - 0s 9ms/step - loss: 0.0159 - mean_squared_error: 0.0159 - val_loss: 0.0173 - val_mean_squared_error: 0.0173\n",
            "Epoch 76/100\n",
            "8/8 [==============================] - 0s 11ms/step - loss: 0.0214 - mean_squared_error: 0.0214 - val_loss: 0.0170 - val_mean_squared_error: 0.0170\n",
            "Epoch 77/100\n",
            "8/8 [==============================] - 0s 10ms/step - loss: 0.0170 - mean_squared_error: 0.0170 - val_loss: 0.0118 - val_mean_squared_error: 0.0118\n",
            "Epoch 78/100\n",
            "8/8 [==============================] - 0s 9ms/step - loss: 0.0158 - mean_squared_error: 0.0158 - val_loss: 0.0127 - val_mean_squared_error: 0.0127\n",
            "Epoch 79/100\n",
            "8/8 [==============================] - 0s 9ms/step - loss: 0.0202 - mean_squared_error: 0.0202 - val_loss: 0.0148 - val_mean_squared_error: 0.0148\n",
            "Epoch 80/100\n",
            "8/8 [==============================] - 0s 9ms/step - loss: 0.0179 - mean_squared_error: 0.0179 - val_loss: 0.0126 - val_mean_squared_error: 0.0126\n",
            "Epoch 81/100\n",
            "8/8 [==============================] - 0s 9ms/step - loss: 0.0134 - mean_squared_error: 0.0134 - val_loss: 0.0123 - val_mean_squared_error: 0.0123\n",
            "Epoch 82/100\n",
            "8/8 [==============================] - 0s 8ms/step - loss: 0.0137 - mean_squared_error: 0.0137 - val_loss: 0.0120 - val_mean_squared_error: 0.0120\n",
            "Epoch 83/100\n",
            "8/8 [==============================] - 0s 9ms/step - loss: 0.0150 - mean_squared_error: 0.0150 - val_loss: 0.0121 - val_mean_squared_error: 0.0121\n",
            "Epoch 84/100\n",
            "8/8 [==============================] - 0s 9ms/step - loss: 0.0151 - mean_squared_error: 0.0151 - val_loss: 0.0135 - val_mean_squared_error: 0.0135\n",
            "Epoch 85/100\n",
            "8/8 [==============================] - 0s 9ms/step - loss: 0.0150 - mean_squared_error: 0.0150 - val_loss: 0.0126 - val_mean_squared_error: 0.0126\n",
            "Epoch 86/100\n",
            "8/8 [==============================] - 0s 9ms/step - loss: 0.0164 - mean_squared_error: 0.0164 - val_loss: 0.0122 - val_mean_squared_error: 0.0122\n",
            "Epoch 87/100\n",
            "8/8 [==============================] - 0s 9ms/step - loss: 0.0137 - mean_squared_error: 0.0137 - val_loss: 0.0118 - val_mean_squared_error: 0.0118\n",
            "Epoch 88/100\n",
            "8/8 [==============================] - 0s 9ms/step - loss: 0.0158 - mean_squared_error: 0.0158 - val_loss: 0.0155 - val_mean_squared_error: 0.0155\n",
            "Epoch 89/100\n",
            "8/8 [==============================] - 0s 10ms/step - loss: 0.0168 - mean_squared_error: 0.0168 - val_loss: 0.0149 - val_mean_squared_error: 0.0149\n",
            "Epoch 90/100\n",
            "8/8 [==============================] - 0s 10ms/step - loss: 0.0186 - mean_squared_error: 0.0186 - val_loss: 0.0121 - val_mean_squared_error: 0.0121\n",
            "Epoch 91/100\n",
            "8/8 [==============================] - 0s 10ms/step - loss: 0.0162 - mean_squared_error: 0.0162 - val_loss: 0.0121 - val_mean_squared_error: 0.0121\n",
            "Epoch 92/100\n",
            "8/8 [==============================] - 0s 10ms/step - loss: 0.0167 - mean_squared_error: 0.0167 - val_loss: 0.0132 - val_mean_squared_error: 0.0132\n",
            "Epoch 93/100\n",
            "8/8 [==============================] - 0s 9ms/step - loss: 0.0152 - mean_squared_error: 0.0152 - val_loss: 0.0120 - val_mean_squared_error: 0.0120\n",
            "Epoch 94/100\n",
            "8/8 [==============================] - 0s 10ms/step - loss: 0.0145 - mean_squared_error: 0.0145 - val_loss: 0.0174 - val_mean_squared_error: 0.0174\n",
            "Epoch 95/100\n",
            "8/8 [==============================] - 0s 9ms/step - loss: 0.0154 - mean_squared_error: 0.0154 - val_loss: 0.0118 - val_mean_squared_error: 0.0118\n",
            "Epoch 96/100\n",
            "8/8 [==============================] - 0s 9ms/step - loss: 0.0143 - mean_squared_error: 0.0143 - val_loss: 0.0141 - val_mean_squared_error: 0.0141\n",
            "Epoch 97/100\n",
            "8/8 [==============================] - 0s 9ms/step - loss: 0.0152 - mean_squared_error: 0.0152 - val_loss: 0.0128 - val_mean_squared_error: 0.0128\n",
            "Epoch 98/100\n",
            "8/8 [==============================] - 0s 9ms/step - loss: 0.0157 - mean_squared_error: 0.0157 - val_loss: 0.0136 - val_mean_squared_error: 0.0136\n",
            "Epoch 99/100\n",
            "8/8 [==============================] - 0s 9ms/step - loss: 0.0137 - mean_squared_error: 0.0137 - val_loss: 0.0128 - val_mean_squared_error: 0.0128\n",
            "Epoch 100/100\n",
            "8/8 [==============================] - 0s 9ms/step - loss: 0.0144 - mean_squared_error: 0.0144 - val_loss: 0.0123 - val_mean_squared_error: 0.0123\n"
          ],
          "name": "stdout"
        }
      ]
    },
    {
      "cell_type": "code",
      "metadata": {
        "id": "bVU1kBHR6U3n"
      },
      "source": [
        "y_pr=model.predict(X_)"
      ],
      "id": "bVU1kBHR6U3n",
      "execution_count": 385,
      "outputs": []
    },
    {
      "cell_type": "code",
      "metadata": {
        "id": "BPBblZyR6eIp"
      },
      "source": [
        "y_pred=scaler.inverse_transform(y_pr)"
      ],
      "id": "BPBblZyR6eIp",
      "execution_count": 391,
      "outputs": []
    },
    {
      "cell_type": "code",
      "metadata": {
        "colab": {
          "base_uri": "https://localhost:8080/"
        },
        "id": "ypokAR1YtrW1",
        "outputId": "ac9ca932-7552-4bff-ee2c-ee0a6b43f5c0"
      },
      "source": [
        "y_pred"
      ],
      "id": "ypokAR1YtrW1",
      "execution_count": 392,
      "outputs": [
        {
          "output_type": "execute_result",
          "data": {
            "text/plain": [
              "array([[131990.77  ],\n",
              "       [ 97783.17  ],\n",
              "       [ 87773.67  ],\n",
              "       [ 84399.766 ],\n",
              "       [144534.25  ],\n",
              "       [ 57914.05  ],\n",
              "       [  4326.9404],\n",
              "       [ 76288.45  ],\n",
              "       [ 81414.48  ],\n",
              "       [ 60514.793 ],\n",
              "       [ 70592.66  ],\n",
              "       [114743.98  ],\n",
              "       [100619.76  ],\n",
              "       [109787.3   ],\n",
              "       [ 68525.31  ],\n",
              "       [101645.88  ],\n",
              "       [144873.98  ],\n",
              "       [ 73696.75  ],\n",
              "       [ 93834.12  ],\n",
              "       [ 57641.094 ],\n",
              "       [  5371.235 ],\n",
              "       [ 74913.58  ],\n",
              "       [ 85400.08  ],\n",
              "       [ 89195.984 ],\n",
              "       [ 90734.305 ],\n",
              "       [ 73609.85  ],\n",
              "       [  7270.7314],\n",
              "       [ 75680.125 ],\n",
              "       [ 87940.92  ],\n",
              "       [ 82837.14  ],\n",
              "       [ 71089.27  ],\n",
              "       [ 65300.633 ],\n",
              "       [ 76375.68  ],\n",
              "       [ 33407.83  ],\n",
              "       [   519.4209],\n",
              "       [141593.38  ],\n",
              "       [120012.89  ],\n",
              "       [ 86447.805 ],\n",
              "       [ 40556.29  ],\n",
              "       [  4556.2686],\n",
              "       [ 93142.78  ],\n",
              "       [ 86269.2   ],\n",
              "       [ 72844.54  ],\n",
              "       [ 77716.92  ]], dtype=float32)"
            ]
          },
          "metadata": {
            "tags": []
          },
          "execution_count": 392
        }
      ]
    },
    {
      "cell_type": "code",
      "metadata": {
        "colab": {
          "base_uri": "https://localhost:8080/"
        },
        "id": "vzsbP0FX6fPj",
        "outputId": "22f12648-988e-4825-b8f4-f97404281398"
      },
      "source": [
        "y_"
      ],
      "id": "vzsbP0FX6fPj",
      "execution_count": 387,
      "outputs": [
        {
          "output_type": "execute_result",
          "data": {
            "text/plain": [
              "array([[1.1453421e+05],\n",
              "       [1.2741210e+05],\n",
              "       [7.3107940e+04],\n",
              "       [1.0033570e+05],\n",
              "       [8.2920440e+04],\n",
              "       [3.6992000e+04],\n",
              "       [3.2600000e+02],\n",
              "       [8.6287170e+04],\n",
              "       [7.9380380e+04],\n",
              "       [1.0450901e+05],\n",
              "       [9.6828960e+04],\n",
              "       [1.0832711e+05],\n",
              "       [9.9625260e+04],\n",
              "       [7.6878350e+04],\n",
              "       [6.9089170e+04],\n",
              "       [1.2821029e+05],\n",
              "       [1.7741042e+05],\n",
              "       [6.8424710e+04],\n",
              "       [1.3040640e+05],\n",
              "       [4.1651850e+04],\n",
              "       [1.0295000e+02],\n",
              "       [1.2132892e+05],\n",
              "       [9.4156550e+04],\n",
              "       [9.3428490e+04],\n",
              "       [7.3106960e+04],\n",
              "       [6.2484030e+04],\n",
              "       [5.0088000e+04],\n",
              "       [4.5289920e+04],\n",
              "       [9.5437440e+04],\n",
              "       [1.0067486e+05],\n",
              "       [5.5735080e+04],\n",
              "       [8.6421800e+04],\n",
              "       [8.6421800e+04],\n",
              "       [4.1343950e+04],\n",
              "       [1.5788000e+04],\n",
              "       [1.2898555e+05],\n",
              "       [9.3402160e+04],\n",
              "       [1.7674702e+05],\n",
              "       [3.2502400e+04],\n",
              "       [5.5111850e+04],\n",
              "       [1.3304285e+05],\n",
              "       [8.8538890e+04],\n",
              "       [6.6133390e+04],\n",
              "       [6.7090810e+04]])"
            ]
          },
          "metadata": {
            "tags": []
          },
          "execution_count": 387
        }
      ]
    },
    {
      "cell_type": "code",
      "metadata": {
        "id": "8Xnuqz1a6lWB"
      },
      "source": [
        "model.save('forecast_nueral_fs.h5')"
      ],
      "id": "8Xnuqz1a6lWB",
      "execution_count": 388,
      "outputs": []
    },
    {
      "cell_type": "code",
      "metadata": {
        "id": "-qHqKktjlWWM"
      },
      "source": [
        "loading_3=load_model('forecast_nueral_fs.h5')"
      ],
      "id": "-qHqKktjlWWM",
      "execution_count": 389,
      "outputs": []
    },
    {
      "cell_type": "code",
      "metadata": {
        "id": "9of6eP8IlWRL"
      },
      "source": [
        "error=y_-y_pred"
      ],
      "id": "9of6eP8IlWRL",
      "execution_count": 393,
      "outputs": []
    },
    {
      "cell_type": "code",
      "metadata": {
        "colab": {
          "base_uri": "https://localhost:8080/"
        },
        "id": "peI15ctEtv9A",
        "outputId": "b0123ac8-b558-44a8-bf2b-2f0f6a5f63c4"
      },
      "source": [
        "error"
      ],
      "id": "peI15ctEtv9A",
      "execution_count": 394,
      "outputs": [
        {
          "output_type": "execute_result",
          "data": {
            "text/plain": [
              "array([[-17456.555625  ],\n",
              "       [ 29628.928125  ],\n",
              "       [-14665.731875  ],\n",
              "       [ 15935.934375  ],\n",
              "       [-61613.81      ],\n",
              "       [-20922.05078125],\n",
              "       [ -4000.94042969],\n",
              "       [  9998.716875  ],\n",
              "       [ -2034.0965625 ],\n",
              "       [ 43994.21703125],\n",
              "       [ 26236.30375   ],\n",
              "       [ -6416.8665625 ],\n",
              "       [  -994.4978125 ],\n",
              "       [-32908.946875  ],\n",
              "       [   563.8575    ],\n",
              "       [ 26564.4071875 ],\n",
              "       [ 32536.435625  ],\n",
              "       [ -5272.04      ],\n",
              "       [ 36572.2828125 ],\n",
              "       [-15989.24375   ],\n",
              "       [ -5268.28486328],\n",
              "       [ 46415.341875  ],\n",
              "       [  8756.471875  ],\n",
              "       [  4232.505625  ],\n",
              "       [-17627.3446875 ],\n",
              "       [-11125.8215625 ],\n",
              "       [ 42817.26855469],\n",
              "       [-30390.205     ],\n",
              "       [  7496.518125  ],\n",
              "       [ 17837.719375  ],\n",
              "       [-15354.1934375 ],\n",
              "       [ 21121.1671875 ],\n",
              "       [ 10046.1203125 ],\n",
              "       [  7936.121875  ],\n",
              "       [ 15268.57910156],\n",
              "       [-12607.825     ],\n",
              "       [-26610.730625  ],\n",
              "       [ 90299.2153125 ],\n",
              "       [ -8053.8890625 ],\n",
              "       [ 50555.58144531],\n",
              "       [ 39900.06875   ],\n",
              "       [  2269.686875  ],\n",
              "       [ -6711.1490625 ],\n",
              "       [-10626.111875  ]])"
            ]
          },
          "metadata": {
            "tags": []
          },
          "execution_count": 394
        }
      ]
    },
    {
      "cell_type": "code",
      "metadata": {
        "id": "_aowqm-WtOTG",
        "colab": {
          "base_uri": "https://localhost:8080/"
        },
        "outputId": "bd680171-377a-400a-e36a-29a5ff5909ef"
      },
      "source": [
        "from sklearn import metrics \n",
        "\n",
        "np.sqrt(metrics.mean_squared_error(y_,y_pred))"
      ],
      "id": "_aowqm-WtOTG",
      "execution_count": 395,
      "outputs": [
        {
          "output_type": "execute_result",
          "data": {
            "text/plain": [
              "27575.772899862193"
            ]
          },
          "metadata": {
            "tags": []
          },
          "execution_count": 395
        }
      ]
    },
    {
      "cell_type": "code",
      "metadata": {
        "id": "pcIMfKIJtXNC"
      },
      "source": [
        ""
      ],
      "id": "pcIMfKIJtXNC",
      "execution_count": null,
      "outputs": []
    }
  ]
}