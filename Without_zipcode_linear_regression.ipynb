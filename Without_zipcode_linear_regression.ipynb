{
 "cells": [
  {
   "cell_type": "code",
   "execution_count": 165,
   "id": "better-healthcare",
   "metadata": {},
   "outputs": [],
   "source": [
    "import pandas as pd\n",
    "import numpy as np\n",
    "import matplotlib.pyplot as plt\n",
    "import seaborn as sns"
   ]
  },
  {
   "cell_type": "code",
   "execution_count": 166,
   "id": "republican-clerk",
   "metadata": {},
   "outputs": [],
   "source": [
    "df=pd.read_excel('final_feat.xlsx')"
   ]
  },
  {
   "cell_type": "code",
   "execution_count": 167,
   "id": "returning-mountain",
   "metadata": {},
   "outputs": [],
   "source": [
    "df1=df[['Completed Jobs','TMAX','Avg Sales','tech_count','Income_y']]"
   ]
  },
  {
   "cell_type": "code",
   "execution_count": 168,
   "id": "subtle-ethernet",
   "metadata": {},
   "outputs": [
    {
     "data": {
      "text/html": [
       "<div>\n",
       "<style scoped>\n",
       "    .dataframe tbody tr th:only-of-type {\n",
       "        vertical-align: middle;\n",
       "    }\n",
       "\n",
       "    .dataframe tbody tr th {\n",
       "        vertical-align: top;\n",
       "    }\n",
       "\n",
       "    .dataframe thead th {\n",
       "        text-align: right;\n",
       "    }\n",
       "</style>\n",
       "<table border=\"1\" class=\"dataframe\">\n",
       "  <thead>\n",
       "    <tr style=\"text-align: right;\">\n",
       "      <th></th>\n",
       "      <th>Completed Jobs</th>\n",
       "      <th>TMAX</th>\n",
       "      <th>Avg Sales</th>\n",
       "      <th>tech_count</th>\n",
       "      <th>Income_y</th>\n",
       "    </tr>\n",
       "  </thead>\n",
       "  <tbody>\n",
       "    <tr>\n",
       "      <th>0</th>\n",
       "      <td>57</td>\n",
       "      <td>65</td>\n",
       "      <td>3617.444828</td>\n",
       "      <td>59</td>\n",
       "      <td>23933.54</td>\n",
       "    </tr>\n",
       "    <tr>\n",
       "      <th>1</th>\n",
       "      <td>77</td>\n",
       "      <td>71</td>\n",
       "      <td>1781.345385</td>\n",
       "      <td>40</td>\n",
       "      <td>65232.03</td>\n",
       "    </tr>\n",
       "    <tr>\n",
       "      <th>2</th>\n",
       "      <td>55</td>\n",
       "      <td>69</td>\n",
       "      <td>459.248750</td>\n",
       "      <td>21</td>\n",
       "      <td>26195.32</td>\n",
       "    </tr>\n",
       "    <tr>\n",
       "      <th>3</th>\n",
       "      <td>6</td>\n",
       "      <td>69</td>\n",
       "      <td>846.000000</td>\n",
       "      <td>9</td>\n",
       "      <td>264.00</td>\n",
       "    </tr>\n",
       "    <tr>\n",
       "      <th>4</th>\n",
       "      <td>73</td>\n",
       "      <td>77</td>\n",
       "      <td>1820.060789</td>\n",
       "      <td>60</td>\n",
       "      <td>48506.16</td>\n",
       "    </tr>\n",
       "  </tbody>\n",
       "</table>\n",
       "</div>"
      ],
      "text/plain": [
       "   Completed Jobs  TMAX    Avg Sales  tech_count  Income_y\n",
       "0              57    65  3617.444828          59  23933.54\n",
       "1              77    71  1781.345385          40  65232.03\n",
       "2              55    69   459.248750          21  26195.32\n",
       "3               6    69   846.000000           9    264.00\n",
       "4              73    77  1820.060789          60  48506.16"
      ]
     },
     "execution_count": 168,
     "metadata": {},
     "output_type": "execute_result"
    }
   ],
   "source": [
    "df1.head()"
   ]
  },
  {
   "cell_type": "code",
   "execution_count": 169,
   "id": "detected-engineering",
   "metadata": {},
   "outputs": [],
   "source": [
    "df1=df1.drop_duplicates(ignore_index=True)"
   ]
  },
  {
   "cell_type": "code",
   "execution_count": 170,
   "id": "impaired-motor",
   "metadata": {},
   "outputs": [],
   "source": [
    "train=df1[0:300]\n",
    "test=df1[300:]"
   ]
  },
  {
   "cell_type": "code",
   "execution_count": 171,
   "id": "identified-occupation",
   "metadata": {},
   "outputs": [],
   "source": [
    "y=train['Income_y']\n",
    "X=train.drop(['Income_y'],axis=1)"
   ]
  },
  {
   "cell_type": "raw",
   "id": "employed-adobe",
   "metadata": {},
   "source": [
    "import pandas as pd\n",
    "import numpy as np\n",
    "from sklearn.model_selection import KFold\n",
    "\n",
    "\n",
    "def sorted_kfold(df: pd.DataFrame, y_col: str, n_splits: int):\n",
    "    \"\"\"\n",
    "    Sorted Stratified Kfold\n",
    "    :param df: input dataframe\n",
    "    :param y_col: targe column\n",
    "    :param n_splits: number of splits of Kfold\n",
    "    :return: dataframe reordered based on n_splits\n",
    "    \"\"\"\n",
    "    n_samples = df.shape[0]\n",
    "    current = 0\n",
    "    total_len = 0\n",
    "    new_order = list()\n",
    "\n",
    "    df = df.sort_values(by=y_col).reset_index(drop=True)\n",
    "    fold_sizes = np.full(n_splits, n_samples // n_splits, dtype=np.int)\n",
    "    fold_sizes[:n_samples % n_splits] += 1\n",
    "\n",
    "    for fold_size in fold_sizes:\n",
    "        new_order.extend([current + ix + ((n_splits - 1) * ix) for ix in range(fold_size)])\n",
    "        current += 1\n",
    "\n",
    "    return df.reindex(new_order).reset_index(drop=True)\n",
    "\n",
    "\n"
   ]
  },
  {
   "cell_type": "raw",
   "id": "distributed-biodiversity",
   "metadata": {},
   "source": [
    "if __name__ == '__main__':\n",
    "    n_splits = 2\n",
    "\n",
    "    \n",
    "    df_stratified = sorted_kfold(train, 'Income_y', n_splits)\n",
    "\n",
    "    kf = KFold(n_splits=n_splits, shuffle=False)\n",
    "\n",
    "    for train_index, test_index in kf.split(df_stratified):\n",
    "        print(\"TRAIN:\", train_index, \"TEST:\", test_index)"
   ]
  },
  {
   "cell_type": "code",
   "execution_count": null,
   "id": "transparent-think",
   "metadata": {},
   "outputs": [],
   "source": []
  },
  {
   "cell_type": "code",
   "execution_count": 172,
   "id": "competent-modification",
   "metadata": {},
   "outputs": [],
   "source": [
    "from sklearn.model_selection import train_test_split\n",
    "X_train, X_test, y_train, y_test = train_test_split(X, y, test_size=0.3, random_state=42)"
   ]
  },
  {
   "cell_type": "code",
   "execution_count": null,
   "id": "subjective-excitement",
   "metadata": {},
   "outputs": [],
   "source": []
  },
  {
   "cell_type": "code",
   "execution_count": 173,
   "id": "after-netherlands",
   "metadata": {},
   "outputs": [],
   "source": [
    "from sklearn.linear_model import LinearRegression"
   ]
  },
  {
   "cell_type": "code",
   "execution_count": 174,
   "id": "heated-messaging",
   "metadata": {},
   "outputs": [],
   "source": [
    "# creating linear regression model\n",
    "\n",
    "reg_model=LinearRegression(normalize=True)"
   ]
  },
  {
   "cell_type": "code",
   "execution_count": 175,
   "id": "supposed-friday",
   "metadata": {},
   "outputs": [
    {
     "data": {
      "text/plain": [
       "LinearRegression(normalize=True)"
      ]
     },
     "execution_count": 175,
     "metadata": {},
     "output_type": "execute_result"
    }
   ],
   "source": [
    "# fit independent varaibles to the dependent variables\n",
    "reg_model.fit(X_train,y_train)"
   ]
  },
  {
   "cell_type": "code",
   "execution_count": 176,
   "id": "massive-reducing",
   "metadata": {},
   "outputs": [
    {
     "data": {
      "text/plain": [
       "0.6703731481112805"
      ]
     },
     "execution_count": 176,
     "metadata": {},
     "output_type": "execute_result"
    }
   ],
   "source": [
    "reg_model.score(X_train,y_train)"
   ]
  },
  {
   "cell_type": "code",
   "execution_count": 177,
   "id": "champion-planet",
   "metadata": {},
   "outputs": [
    {
     "data": {
      "text/plain": [
       "0.7595383606494059"
      ]
     },
     "execution_count": 177,
     "metadata": {},
     "output_type": "execute_result"
    }
   ],
   "source": [
    "reg_model.score(X_test,y_test)"
   ]
  },
  {
   "cell_type": "code",
   "execution_count": null,
   "id": "difficult-acting",
   "metadata": {},
   "outputs": [],
   "source": []
  },
  {
   "cell_type": "code",
   "execution_count": 178,
   "id": "eight-philadelphia",
   "metadata": {},
   "outputs": [],
   "source": [
    "y_=test['Income_y']\n",
    "X_=test.drop(['Income_y'],axis=1)"
   ]
  },
  {
   "cell_type": "code",
   "execution_count": 179,
   "id": "vulnerable-transcript",
   "metadata": {},
   "outputs": [
    {
     "data": {
      "text/plain": [
       "0.3596790892992324"
      ]
     },
     "execution_count": 179,
     "metadata": {},
     "output_type": "execute_result"
    }
   ],
   "source": [
    "reg_model.score(X_,y_)"
   ]
  },
  {
   "cell_type": "code",
   "execution_count": 180,
   "id": "extreme-charter",
   "metadata": {},
   "outputs": [],
   "source": [
    "y_pred=reg_model.predict(X_)"
   ]
  },
  {
   "cell_type": "code",
   "execution_count": 181,
   "id": "convinced-plastic",
   "metadata": {},
   "outputs": [],
   "source": [
    "comp=pd.DataFrame({'Actual':y_,'Predicted':y_pred})"
   ]
  },
  {
   "cell_type": "code",
   "execution_count": 182,
   "id": "cultural-first",
   "metadata": {},
   "outputs": [
    {
     "data": {
      "text/plain": [
       "<AxesSubplot:>"
      ]
     },
     "execution_count": 182,
     "metadata": {},
     "output_type": "execute_result"
    },
    {
     "data": {
      "image/png": "[encoded data removed]",
      "text/plain": [
       "<Figure size 432x288 with 1 Axes>"
      ]
     },
     "metadata": {
      "needs_background": "light"
     },
     "output_type": "display_data"
    }
   ],
   "source": [
    "comp.plot()"
   ]
  },
  {
   "cell_type": "code",
   "execution_count": 183,
   "id": "forward-combine",
   "metadata": {},
   "outputs": [
    {
     "data": {
      "text/plain": [
       "<matplotlib.collections.PathCollection at 0x29886569080>"
      ]
     },
     "execution_count": 183,
     "metadata": {},
     "output_type": "execute_result"
    },
    {
     "data": {
      "image/png": "[encoded data removed]",
      "text/plain": [
       "<Figure size 432x288 with 1 Axes>"
      ]
     },
     "metadata": {
      "needs_background": "light"
     },
     "output_type": "display_data"
    }
   ],
   "source": [
    "plt.scatter(y_,y_pred)"
   ]
  },
  {
   "cell_type": "code",
   "execution_count": 184,
   "id": "technical-complaint",
   "metadata": {},
   "outputs": [
    {
     "name": "stdout",
     "output_type": "stream",
     "text": [
      "RMSE: 30935.802557531748\n",
      "MAE: 25420.229553011726\n"
     ]
    }
   ],
   "source": [
    "from sklearn import metrics\n",
    "\n",
    "# RMSE and MAE\n",
    "print('RMSE:',np.sqrt(metrics.mean_squared_error(y_,y_pred)))\n",
    "print('MAE:',metrics.mean_absolute_error(y_,y_pred))"
   ]
  },
  {
   "cell_type": "code",
   "execution_count": 185,
   "id": "prepared-geology",
   "metadata": {},
   "outputs": [],
   "source": [
    "comp['Error']=comp['Actual']-comp['Predicted']"
   ]
  },
  {
   "cell_type": "code",
   "execution_count": 186,
   "id": "satisfactory-hammer",
   "metadata": {},
   "outputs": [
    {
     "data": {
      "text/html": [
       "<div>\n",
       "<style scoped>\n",
       "    .dataframe tbody tr th:only-of-type {\n",
       "        vertical-align: middle;\n",
       "    }\n",
       "\n",
       "    .dataframe tbody tr th {\n",
       "        vertical-align: top;\n",
       "    }\n",
       "\n",
       "    .dataframe thead th {\n",
       "        text-align: right;\n",
       "    }\n",
       "</style>\n",
       "<table border=\"1\" class=\"dataframe\">\n",
       "  <thead>\n",
       "    <tr style=\"text-align: right;\">\n",
       "      <th></th>\n",
       "      <th>Actual</th>\n",
       "      <th>Predicted</th>\n",
       "      <th>Error</th>\n",
       "    </tr>\n",
       "  </thead>\n",
       "  <tbody>\n",
       "    <tr>\n",
       "      <th>300</th>\n",
       "      <td>114534.21</td>\n",
       "      <td>126162.087026</td>\n",
       "      <td>-11627.877026</td>\n",
       "    </tr>\n",
       "    <tr>\n",
       "      <th>301</th>\n",
       "      <td>127412.10</td>\n",
       "      <td>137384.699728</td>\n",
       "      <td>-9972.599728</td>\n",
       "    </tr>\n",
       "    <tr>\n",
       "      <th>302</th>\n",
       "      <td>73107.94</td>\n",
       "      <td>113519.156998</td>\n",
       "      <td>-40411.216998</td>\n",
       "    </tr>\n",
       "    <tr>\n",
       "      <th>303</th>\n",
       "      <td>100335.70</td>\n",
       "      <td>113091.804895</td>\n",
       "      <td>-12756.104895</td>\n",
       "    </tr>\n",
       "    <tr>\n",
       "      <th>304</th>\n",
       "      <td>82920.44</td>\n",
       "      <td>134950.872934</td>\n",
       "      <td>-52030.432934</td>\n",
       "    </tr>\n",
       "    <tr>\n",
       "      <th>305</th>\n",
       "      <td>36992.00</td>\n",
       "      <td>59676.858477</td>\n",
       "      <td>-22684.858477</td>\n",
       "    </tr>\n",
       "    <tr>\n",
       "      <th>306</th>\n",
       "      <td>326.00</td>\n",
       "      <td>-9179.715156</td>\n",
       "      <td>9505.715156</td>\n",
       "    </tr>\n",
       "    <tr>\n",
       "      <th>307</th>\n",
       "      <td>86287.17</td>\n",
       "      <td>108683.381206</td>\n",
       "      <td>-22396.211206</td>\n",
       "    </tr>\n",
       "    <tr>\n",
       "      <th>308</th>\n",
       "      <td>79380.38</td>\n",
       "      <td>105747.054959</td>\n",
       "      <td>-26366.674959</td>\n",
       "    </tr>\n",
       "    <tr>\n",
       "      <th>309</th>\n",
       "      <td>104509.01</td>\n",
       "      <td>53692.994466</td>\n",
       "      <td>50816.015534</td>\n",
       "    </tr>\n",
       "    <tr>\n",
       "      <th>310</th>\n",
       "      <td>96828.96</td>\n",
       "      <td>90673.795409</td>\n",
       "      <td>6155.164591</td>\n",
       "    </tr>\n",
       "    <tr>\n",
       "      <th>311</th>\n",
       "      <td>108327.11</td>\n",
       "      <td>135848.140333</td>\n",
       "      <td>-27521.030333</td>\n",
       "    </tr>\n",
       "    <tr>\n",
       "      <th>312</th>\n",
       "      <td>99625.26</td>\n",
       "      <td>125316.005670</td>\n",
       "      <td>-25690.745670</td>\n",
       "    </tr>\n",
       "    <tr>\n",
       "      <th>313</th>\n",
       "      <td>76878.35</td>\n",
       "      <td>114720.608013</td>\n",
       "      <td>-37842.258013</td>\n",
       "    </tr>\n",
       "    <tr>\n",
       "      <th>314</th>\n",
       "      <td>69089.17</td>\n",
       "      <td>64795.939881</td>\n",
       "      <td>4293.230119</td>\n",
       "    </tr>\n",
       "    <tr>\n",
       "      <th>315</th>\n",
       "      <td>128210.29</td>\n",
       "      <td>124549.299997</td>\n",
       "      <td>3660.990003</td>\n",
       "    </tr>\n",
       "    <tr>\n",
       "      <th>316</th>\n",
       "      <td>177410.42</td>\n",
       "      <td>160242.354706</td>\n",
       "      <td>17168.065294</td>\n",
       "    </tr>\n",
       "    <tr>\n",
       "      <th>317</th>\n",
       "      <td>68424.71</td>\n",
       "      <td>93290.773462</td>\n",
       "      <td>-24866.063462</td>\n",
       "    </tr>\n",
       "    <tr>\n",
       "      <th>318</th>\n",
       "      <td>130406.40</td>\n",
       "      <td>126995.817407</td>\n",
       "      <td>3410.582593</td>\n",
       "    </tr>\n",
       "    <tr>\n",
       "      <th>319</th>\n",
       "      <td>41651.85</td>\n",
       "      <td>50597.896735</td>\n",
       "      <td>-8946.046735</td>\n",
       "    </tr>\n",
       "    <tr>\n",
       "      <th>320</th>\n",
       "      <td>102.95</td>\n",
       "      <td>5926.593709</td>\n",
       "      <td>-5823.643709</td>\n",
       "    </tr>\n",
       "    <tr>\n",
       "      <th>321</th>\n",
       "      <td>121328.92</td>\n",
       "      <td>113695.712110</td>\n",
       "      <td>7633.207890</td>\n",
       "    </tr>\n",
       "    <tr>\n",
       "      <th>322</th>\n",
       "      <td>94156.55</td>\n",
       "      <td>119418.185946</td>\n",
       "      <td>-25261.635946</td>\n",
       "    </tr>\n",
       "    <tr>\n",
       "      <th>323</th>\n",
       "      <td>93428.49</td>\n",
       "      <td>116320.347261</td>\n",
       "      <td>-22891.857261</td>\n",
       "    </tr>\n",
       "    <tr>\n",
       "      <th>324</th>\n",
       "      <td>73106.96</td>\n",
       "      <td>129681.533701</td>\n",
       "      <td>-56574.573701</td>\n",
       "    </tr>\n",
       "    <tr>\n",
       "      <th>325</th>\n",
       "      <td>62484.03</td>\n",
       "      <td>54224.541791</td>\n",
       "      <td>8259.488209</td>\n",
       "    </tr>\n",
       "    <tr>\n",
       "      <th>326</th>\n",
       "      <td>50088.00</td>\n",
       "      <td>-4816.558974</td>\n",
       "      <td>54904.558974</td>\n",
       "    </tr>\n",
       "    <tr>\n",
       "      <th>327</th>\n",
       "      <td>45289.92</td>\n",
       "      <td>116684.381223</td>\n",
       "      <td>-71394.461223</td>\n",
       "    </tr>\n",
       "    <tr>\n",
       "      <th>328</th>\n",
       "      <td>95437.44</td>\n",
       "      <td>120315.629404</td>\n",
       "      <td>-24878.189404</td>\n",
       "    </tr>\n",
       "    <tr>\n",
       "      <th>329</th>\n",
       "      <td>100674.86</td>\n",
       "      <td>117059.903782</td>\n",
       "      <td>-16385.043782</td>\n",
       "    </tr>\n",
       "    <tr>\n",
       "      <th>330</th>\n",
       "      <td>55735.08</td>\n",
       "      <td>82760.273373</td>\n",
       "      <td>-27025.193373</td>\n",
       "    </tr>\n",
       "    <tr>\n",
       "      <th>331</th>\n",
       "      <td>86421.80</td>\n",
       "      <td>95172.587299</td>\n",
       "      <td>-8750.787299</td>\n",
       "    </tr>\n",
       "    <tr>\n",
       "      <th>332</th>\n",
       "      <td>86421.80</td>\n",
       "      <td>95296.212908</td>\n",
       "      <td>-8874.412908</td>\n",
       "    </tr>\n",
       "    <tr>\n",
       "      <th>333</th>\n",
       "      <td>41343.95</td>\n",
       "      <td>59785.380080</td>\n",
       "      <td>-18441.430080</td>\n",
       "    </tr>\n",
       "    <tr>\n",
       "      <th>334</th>\n",
       "      <td>15788.00</td>\n",
       "      <td>-2928.488207</td>\n",
       "      <td>18716.488207</td>\n",
       "    </tr>\n",
       "    <tr>\n",
       "      <th>335</th>\n",
       "      <td>128985.55</td>\n",
       "      <td>166230.860580</td>\n",
       "      <td>-37245.310580</td>\n",
       "    </tr>\n",
       "    <tr>\n",
       "      <th>336</th>\n",
       "      <td>93402.16</td>\n",
       "      <td>148425.940571</td>\n",
       "      <td>-55023.780571</td>\n",
       "    </tr>\n",
       "    <tr>\n",
       "      <th>337</th>\n",
       "      <td>176747.02</td>\n",
       "      <td>121064.416095</td>\n",
       "      <td>55682.603905</td>\n",
       "    </tr>\n",
       "    <tr>\n",
       "      <th>338</th>\n",
       "      <td>32502.40</td>\n",
       "      <td>65324.280320</td>\n",
       "      <td>-32821.880320</td>\n",
       "    </tr>\n",
       "    <tr>\n",
       "      <th>339</th>\n",
       "      <td>55111.85</td>\n",
       "      <td>5028.342732</td>\n",
       "      <td>50083.507268</td>\n",
       "    </tr>\n",
       "    <tr>\n",
       "      <th>340</th>\n",
       "      <td>133042.85</td>\n",
       "      <td>130405.698739</td>\n",
       "      <td>2637.151261</td>\n",
       "    </tr>\n",
       "    <tr>\n",
       "      <th>341</th>\n",
       "      <td>88538.89</td>\n",
       "      <td>123989.728409</td>\n",
       "      <td>-35450.838409</td>\n",
       "    </tr>\n",
       "    <tr>\n",
       "      <th>342</th>\n",
       "      <td>66133.39</td>\n",
       "      <td>99144.081655</td>\n",
       "      <td>-33010.691655</td>\n",
       "    </tr>\n",
       "    <tr>\n",
       "      <th>343</th>\n",
       "      <td>67090.81</td>\n",
       "      <td>89688.290671</td>\n",
       "      <td>-22597.480671</td>\n",
       "    </tr>\n",
       "  </tbody>\n",
       "</table>\n",
       "</div>"
      ],
      "text/plain": [
       "        Actual      Predicted         Error\n",
       "300  114534.21  126162.087026 -11627.877026\n",
       "301  127412.10  137384.699728  -9972.599728\n",
       "302   73107.94  113519.156998 -40411.216998\n",
       "303  100335.70  113091.804895 -12756.104895\n",
       "304   82920.44  134950.872934 -52030.432934\n",
       "305   36992.00   59676.858477 -22684.858477\n",
       "306     326.00   -9179.715156   9505.715156\n",
       "307   86287.17  108683.381206 -22396.211206\n",
       "308   79380.38  105747.054959 -26366.674959\n",
       "309  104509.01   53692.994466  50816.015534\n",
       "310   96828.96   90673.795409   6155.164591\n",
       "311  108327.11  135848.140333 -27521.030333\n",
       "312   99625.26  125316.005670 -25690.745670\n",
       "313   76878.35  114720.608013 -37842.258013\n",
       "314   69089.17   64795.939881   4293.230119\n",
       "315  128210.29  124549.299997   3660.990003\n",
       "316  177410.42  160242.354706  17168.065294\n",
       "317   68424.71   93290.773462 -24866.063462\n",
       "318  130406.40  126995.817407   3410.582593\n",
       "319   41651.85   50597.896735  -8946.046735\n",
       "320     102.95    5926.593709  -5823.643709\n",
       "321  121328.92  113695.712110   7633.207890\n",
       "322   94156.55  119418.185946 -25261.635946\n",
       "323   93428.49  116320.347261 -22891.857261\n",
       "324   73106.96  129681.533701 -56574.573701\n",
       "325   62484.03   54224.541791   8259.488209\n",
       "326   50088.00   -4816.558974  54904.558974\n",
       "327   45289.92  116684.381223 -71394.461223\n",
       "328   95437.44  120315.629404 -24878.189404\n",
       "329  100674.86  117059.903782 -16385.043782\n",
       "330   55735.08   82760.273373 -27025.193373\n",
       "331   86421.80   95172.587299  -8750.787299\n",
       "332   86421.80   95296.212908  -8874.412908\n",
       "333   41343.95   59785.380080 -18441.430080\n",
       "334   15788.00   -2928.488207  18716.488207\n",
       "335  128985.55  166230.860580 -37245.310580\n",
       "336   93402.16  148425.940571 -55023.780571\n",
       "337  176747.02  121064.416095  55682.603905\n",
       "338   32502.40   65324.280320 -32821.880320\n",
       "339   55111.85    5028.342732  50083.507268\n",
       "340  133042.85  130405.698739   2637.151261\n",
       "341   88538.89  123989.728409 -35450.838409\n",
       "342   66133.39   99144.081655 -33010.691655\n",
       "343   67090.81   89688.290671 -22597.480671"
      ]
     },
     "execution_count": 186,
     "metadata": {},
     "output_type": "execute_result"
    }
   ],
   "source": [
    "comp"
   ]
  },
  {
   "cell_type": "markdown",
   "id": "unlike-triangle",
   "metadata": {},
   "source": [
    "# Ridge "
   ]
  },
  {
   "cell_type": "code",
   "execution_count": 187,
   "id": "cutting-diameter",
   "metadata": {},
   "outputs": [],
   "source": [
    "from sklearn.linear_model import Ridge\n",
    "from sklearn.model_selection import GridSearchCV"
   ]
  },
  {
   "cell_type": "code",
   "execution_count": 188,
   "id": "focused-marathon",
   "metadata": {},
   "outputs": [],
   "source": [
    "# Intializig ridge model\n",
    "reg_model_1=Ridge()"
   ]
  },
  {
   "cell_type": "code",
   "execution_count": 189,
   "id": "native-surprise",
   "metadata": {},
   "outputs": [],
   "source": [
    "# lamda parameter range \n",
    "\n",
    "hyperparameter_range={'alpha':[1e-15,1e-10,1e-8,1e-3,1e-2,1,5,10,20,30,35,40,45,50,55,60,65,70,75,80,85,90,95,100]}"
   ]
  },
  {
   "cell_type": "code",
   "execution_count": 190,
   "id": "streaming-cooling",
   "metadata": {},
   "outputs": [
    {
     "data": {
      "text/plain": [
       "GridSearchCV(cv=5, estimator=Ridge(),\n",
       "             param_grid={'alpha': [1e-15, 1e-10, 1e-08, 0.001, 0.01, 1, 5, 10,\n",
       "                                   20, 30, 35, 40, 45, 50, 55, 60, 65, 70, 75,\n",
       "                                   80, 85, 90, 95, 100]},\n",
       "             scoring='neg_root_mean_squared_error')"
      ]
     },
     "execution_count": 190,
     "metadata": {},
     "output_type": "execute_result"
    }
   ],
   "source": [
    "# Searching best hyperparameter using gridsearch \n",
    "\n",
    "ridge_reg=GridSearchCV(reg_model_1,hyperparameter_range,scoring='neg_root_mean_squared_error',cv=5)\n",
    "ridge_reg.fit(X,y)"
   ]
  },
  {
   "cell_type": "code",
   "execution_count": 191,
   "id": "false-education",
   "metadata": {},
   "outputs": [
    {
     "data": {
      "text/plain": [
       "{'alpha': 100}"
      ]
     },
     "execution_count": 191,
     "metadata": {},
     "output_type": "execute_result"
    }
   ],
   "source": [
    "# Best lamda\n",
    "ridge_reg.best_params_"
   ]
  },
  {
   "cell_type": "code",
   "execution_count": 192,
   "id": "impressive-pillow",
   "metadata": {},
   "outputs": [
    {
     "data": {
      "text/plain": [
       "-37830.32891942836"
      ]
     },
     "execution_count": 192,
     "metadata": {},
     "output_type": "execute_result"
    }
   ],
   "source": [
    "# error value \n",
    "ridge_reg.best_score_"
   ]
  },
  {
   "cell_type": "code",
   "execution_count": 193,
   "id": "exclusive-minutes",
   "metadata": {},
   "outputs": [],
   "source": [
    "reg_model_2=Ridge(alpha=100)"
   ]
  },
  {
   "cell_type": "code",
   "execution_count": 194,
   "id": "quantitative-wildlife",
   "metadata": {},
   "outputs": [
    {
     "data": {
      "text/plain": [
       "Ridge(alpha=100)"
      ]
     },
     "execution_count": 194,
     "metadata": {},
     "output_type": "execute_result"
    }
   ],
   "source": [
    "reg_model_2.fit(X_train,y_train)"
   ]
  },
  {
   "cell_type": "code",
   "execution_count": 195,
   "id": "liberal-speed",
   "metadata": {},
   "outputs": [
    {
     "data": {
      "text/plain": [
       "0.6703722367727569"
      ]
     },
     "execution_count": 195,
     "metadata": {},
     "output_type": "execute_result"
    }
   ],
   "source": [
    "reg_model_2.score(X_train,y_train)"
   ]
  },
  {
   "cell_type": "code",
   "execution_count": 196,
   "id": "elementary-general",
   "metadata": {},
   "outputs": [
    {
     "data": {
      "text/plain": [
       "0.7595157570754414"
      ]
     },
     "execution_count": 196,
     "metadata": {},
     "output_type": "execute_result"
    }
   ],
   "source": [
    "reg_model_2.score(X_test,y_test)"
   ]
  },
  {
   "cell_type": "code",
   "execution_count": 197,
   "id": "damaged-somerset",
   "metadata": {},
   "outputs": [
    {
     "data": {
      "text/plain": [
       "0.35992118221021285"
      ]
     },
     "execution_count": 197,
     "metadata": {},
     "output_type": "execute_result"
    }
   ],
   "source": [
    "reg_model_2.score(X_,y_)"
   ]
  },
  {
   "cell_type": "code",
   "execution_count": 198,
   "id": "martial-immigration",
   "metadata": {},
   "outputs": [],
   "source": [
    "y_pre_1=reg_model_2.predict(X_)"
   ]
  },
  {
   "cell_type": "code",
   "execution_count": 199,
   "id": "animal-booking",
   "metadata": {
    "scrolled": true
   },
   "outputs": [
    {
     "name": "stdout",
     "output_type": "stream",
     "text": [
      "RMSE: 30929.953891342073\n",
      "MAE: 25414.39429108107\n"
     ]
    }
   ],
   "source": [
    "# RMSE and MAE\n",
    "print('RMSE:',np.sqrt(metrics.mean_squared_error(y_,y_pre_1)))\n",
    "print('MAE:',metrics.mean_absolute_error(y_,y_pre_1))"
   ]
  },
  {
   "cell_type": "code",
   "execution_count": 200,
   "id": "excited-henry",
   "metadata": {},
   "outputs": [],
   "source": [
    "comp_2=pd.DataFrame({'Actual':y_,'Predicted':y_pre_1})"
   ]
  },
  {
   "cell_type": "code",
   "execution_count": 201,
   "id": "complimentary-destiny",
   "metadata": {},
   "outputs": [
    {
     "data": {
      "text/plain": [
       "<AxesSubplot:>"
      ]
     },
     "execution_count": 201,
     "metadata": {},
     "output_type": "execute_result"
    },
    {
     "data": {
      "image/png": "[encoded data removed]",
      "text/plain": [
       "<Figure size 432x288 with 1 Axes>"
      ]
     },
     "metadata": {
      "needs_background": "light"
     },
     "output_type": "display_data"
    }
   ],
   "source": [
    "comp_2.plot()"
   ]
  },
  {
   "cell_type": "code",
   "execution_count": 202,
   "id": "colored-cornell",
   "metadata": {},
   "outputs": [],
   "source": [
    "comp_2['Error']=comp_2['Actual']-comp_2['Predicted']"
   ]
  },
  {
   "cell_type": "code",
   "execution_count": 203,
   "id": "developing-annual",
   "metadata": {},
   "outputs": [
    {
     "data": {
      "text/html": [
       "<div>\n",
       "<style scoped>\n",
       "    .dataframe tbody tr th:only-of-type {\n",
       "        vertical-align: middle;\n",
       "    }\n",
       "\n",
       "    .dataframe tbody tr th {\n",
       "        vertical-align: top;\n",
       "    }\n",
       "\n",
       "    .dataframe thead th {\n",
       "        text-align: right;\n",
       "    }\n",
       "</style>\n",
       "<table border=\"1\" class=\"dataframe\">\n",
       "  <thead>\n",
       "    <tr style=\"text-align: right;\">\n",
       "      <th></th>\n",
       "      <th>Actual</th>\n",
       "      <th>Predicted</th>\n",
       "      <th>Error</th>\n",
       "    </tr>\n",
       "  </thead>\n",
       "  <tbody>\n",
       "    <tr>\n",
       "      <th>300</th>\n",
       "      <td>114534.21</td>\n",
       "      <td>126060.844522</td>\n",
       "      <td>-11526.634522</td>\n",
       "    </tr>\n",
       "    <tr>\n",
       "      <th>301</th>\n",
       "      <td>127412.10</td>\n",
       "      <td>137383.235706</td>\n",
       "      <td>-9971.135706</td>\n",
       "    </tr>\n",
       "    <tr>\n",
       "      <th>302</th>\n",
       "      <td>73107.94</td>\n",
       "      <td>113507.608893</td>\n",
       "      <td>-40399.668893</td>\n",
       "    </tr>\n",
       "    <tr>\n",
       "      <th>303</th>\n",
       "      <td>100335.70</td>\n",
       "      <td>113174.887606</td>\n",
       "      <td>-12839.187606</td>\n",
       "    </tr>\n",
       "    <tr>\n",
       "      <th>304</th>\n",
       "      <td>82920.44</td>\n",
       "      <td>134823.396283</td>\n",
       "      <td>-51902.956283</td>\n",
       "    </tr>\n",
       "    <tr>\n",
       "      <th>305</th>\n",
       "      <td>36992.00</td>\n",
       "      <td>59600.210345</td>\n",
       "      <td>-22608.210345</td>\n",
       "    </tr>\n",
       "    <tr>\n",
       "      <th>306</th>\n",
       "      <td>326.00</td>\n",
       "      <td>-9155.176078</td>\n",
       "      <td>9481.176078</td>\n",
       "    </tr>\n",
       "    <tr>\n",
       "      <th>307</th>\n",
       "      <td>86287.17</td>\n",
       "      <td>108697.367378</td>\n",
       "      <td>-22410.197378</td>\n",
       "    </tr>\n",
       "    <tr>\n",
       "      <th>308</th>\n",
       "      <td>79380.38</td>\n",
       "      <td>105746.207622</td>\n",
       "      <td>-26365.827622</td>\n",
       "    </tr>\n",
       "    <tr>\n",
       "      <th>309</th>\n",
       "      <td>104509.01</td>\n",
       "      <td>53649.704763</td>\n",
       "      <td>50859.305237</td>\n",
       "    </tr>\n",
       "    <tr>\n",
       "      <th>310</th>\n",
       "      <td>96828.96</td>\n",
       "      <td>90781.046335</td>\n",
       "      <td>6047.913665</td>\n",
       "    </tr>\n",
       "    <tr>\n",
       "      <th>311</th>\n",
       "      <td>108327.11</td>\n",
       "      <td>135811.377982</td>\n",
       "      <td>-27484.267982</td>\n",
       "    </tr>\n",
       "    <tr>\n",
       "      <th>312</th>\n",
       "      <td>99625.26</td>\n",
       "      <td>125293.547674</td>\n",
       "      <td>-25668.287674</td>\n",
       "    </tr>\n",
       "    <tr>\n",
       "      <th>313</th>\n",
       "      <td>76878.35</td>\n",
       "      <td>114663.353271</td>\n",
       "      <td>-37785.003271</td>\n",
       "    </tr>\n",
       "    <tr>\n",
       "      <th>314</th>\n",
       "      <td>69089.17</td>\n",
       "      <td>64738.022613</td>\n",
       "      <td>4351.147387</td>\n",
       "    </tr>\n",
       "    <tr>\n",
       "      <th>315</th>\n",
       "      <td>128210.29</td>\n",
       "      <td>124597.586811</td>\n",
       "      <td>3612.703189</td>\n",
       "    </tr>\n",
       "    <tr>\n",
       "      <th>316</th>\n",
       "      <td>177410.42</td>\n",
       "      <td>160094.354683</td>\n",
       "      <td>17316.065317</td>\n",
       "    </tr>\n",
       "    <tr>\n",
       "      <th>317</th>\n",
       "      <td>68424.71</td>\n",
       "      <td>93333.974862</td>\n",
       "      <td>-24909.264862</td>\n",
       "    </tr>\n",
       "    <tr>\n",
       "      <th>318</th>\n",
       "      <td>130406.40</td>\n",
       "      <td>126979.413807</td>\n",
       "      <td>3426.986193</td>\n",
       "    </tr>\n",
       "    <tr>\n",
       "      <th>319</th>\n",
       "      <td>41651.85</td>\n",
       "      <td>50544.983808</td>\n",
       "      <td>-8893.133808</td>\n",
       "    </tr>\n",
       "    <tr>\n",
       "      <th>320</th>\n",
       "      <td>102.95</td>\n",
       "      <td>5906.318493</td>\n",
       "      <td>-5803.368493</td>\n",
       "    </tr>\n",
       "    <tr>\n",
       "      <th>321</th>\n",
       "      <td>121328.92</td>\n",
       "      <td>113856.232441</td>\n",
       "      <td>7472.687559</td>\n",
       "    </tr>\n",
       "    <tr>\n",
       "      <th>322</th>\n",
       "      <td>94156.55</td>\n",
       "      <td>119416.965109</td>\n",
       "      <td>-25260.415109</td>\n",
       "    </tr>\n",
       "    <tr>\n",
       "      <th>323</th>\n",
       "      <td>93428.49</td>\n",
       "      <td>116257.873001</td>\n",
       "      <td>-22829.383001</td>\n",
       "    </tr>\n",
       "    <tr>\n",
       "      <th>324</th>\n",
       "      <td>73106.96</td>\n",
       "      <td>129587.724844</td>\n",
       "      <td>-56480.764844</td>\n",
       "    </tr>\n",
       "    <tr>\n",
       "      <th>325</th>\n",
       "      <td>62484.03</td>\n",
       "      <td>54160.134882</td>\n",
       "      <td>8323.895118</td>\n",
       "    </tr>\n",
       "    <tr>\n",
       "      <th>326</th>\n",
       "      <td>50088.00</td>\n",
       "      <td>-4790.628259</td>\n",
       "      <td>54878.628259</td>\n",
       "    </tr>\n",
       "    <tr>\n",
       "      <th>327</th>\n",
       "      <td>45289.92</td>\n",
       "      <td>116741.401182</td>\n",
       "      <td>-71451.481182</td>\n",
       "    </tr>\n",
       "    <tr>\n",
       "      <th>328</th>\n",
       "      <td>95437.44</td>\n",
       "      <td>120307.150201</td>\n",
       "      <td>-24869.710201</td>\n",
       "    </tr>\n",
       "    <tr>\n",
       "      <th>329</th>\n",
       "      <td>100674.86</td>\n",
       "      <td>117101.333605</td>\n",
       "      <td>-16426.473605</td>\n",
       "    </tr>\n",
       "    <tr>\n",
       "      <th>330</th>\n",
       "      <td>55735.08</td>\n",
       "      <td>82852.489971</td>\n",
       "      <td>-27117.409971</td>\n",
       "    </tr>\n",
       "    <tr>\n",
       "      <th>331</th>\n",
       "      <td>86421.80</td>\n",
       "      <td>95210.925443</td>\n",
       "      <td>-8789.125443</td>\n",
       "    </tr>\n",
       "    <tr>\n",
       "      <th>332</th>\n",
       "      <td>86421.80</td>\n",
       "      <td>95339.374702</td>\n",
       "      <td>-8917.574702</td>\n",
       "    </tr>\n",
       "    <tr>\n",
       "      <th>333</th>\n",
       "      <td>41343.95</td>\n",
       "      <td>59704.315706</td>\n",
       "      <td>-18360.365706</td>\n",
       "    </tr>\n",
       "    <tr>\n",
       "      <th>334</th>\n",
       "      <td>15788.00</td>\n",
       "      <td>-2931.357243</td>\n",
       "      <td>18719.357243</td>\n",
       "    </tr>\n",
       "    <tr>\n",
       "      <th>335</th>\n",
       "      <td>128985.55</td>\n",
       "      <td>166193.190268</td>\n",
       "      <td>-37207.640268</td>\n",
       "    </tr>\n",
       "    <tr>\n",
       "      <th>336</th>\n",
       "      <td>93402.16</td>\n",
       "      <td>148463.416770</td>\n",
       "      <td>-55061.256770</td>\n",
       "    </tr>\n",
       "    <tr>\n",
       "      <th>337</th>\n",
       "      <td>176747.02</td>\n",
       "      <td>121100.302906</td>\n",
       "      <td>55646.717094</td>\n",
       "    </tr>\n",
       "    <tr>\n",
       "      <th>338</th>\n",
       "      <td>32502.40</td>\n",
       "      <td>65268.405109</td>\n",
       "      <td>-32766.005109</td>\n",
       "    </tr>\n",
       "    <tr>\n",
       "      <th>339</th>\n",
       "      <td>55111.85</td>\n",
       "      <td>5021.479976</td>\n",
       "      <td>50090.370024</td>\n",
       "    </tr>\n",
       "    <tr>\n",
       "      <th>340</th>\n",
       "      <td>133042.85</td>\n",
       "      <td>130365.668304</td>\n",
       "      <td>2677.181696</td>\n",
       "    </tr>\n",
       "    <tr>\n",
       "      <th>341</th>\n",
       "      <td>88538.89</td>\n",
       "      <td>124028.231786</td>\n",
       "      <td>-35489.341786</td>\n",
       "    </tr>\n",
       "    <tr>\n",
       "      <th>342</th>\n",
       "      <td>66133.39</td>\n",
       "      <td>99239.541262</td>\n",
       "      <td>-33106.151262</td>\n",
       "    </tr>\n",
       "    <tr>\n",
       "      <th>343</th>\n",
       "      <td>67090.81</td>\n",
       "      <td>89719.781340</td>\n",
       "      <td>-22628.971340</td>\n",
       "    </tr>\n",
       "  </tbody>\n",
       "</table>\n",
       "</div>"
      ],
      "text/plain": [
       "        Actual      Predicted         Error\n",
       "300  114534.21  126060.844522 -11526.634522\n",
       "301  127412.10  137383.235706  -9971.135706\n",
       "302   73107.94  113507.608893 -40399.668893\n",
       "303  100335.70  113174.887606 -12839.187606\n",
       "304   82920.44  134823.396283 -51902.956283\n",
       "305   36992.00   59600.210345 -22608.210345\n",
       "306     326.00   -9155.176078   9481.176078\n",
       "307   86287.17  108697.367378 -22410.197378\n",
       "308   79380.38  105746.207622 -26365.827622\n",
       "309  104509.01   53649.704763  50859.305237\n",
       "310   96828.96   90781.046335   6047.913665\n",
       "311  108327.11  135811.377982 -27484.267982\n",
       "312   99625.26  125293.547674 -25668.287674\n",
       "313   76878.35  114663.353271 -37785.003271\n",
       "314   69089.17   64738.022613   4351.147387\n",
       "315  128210.29  124597.586811   3612.703189\n",
       "316  177410.42  160094.354683  17316.065317\n",
       "317   68424.71   93333.974862 -24909.264862\n",
       "318  130406.40  126979.413807   3426.986193\n",
       "319   41651.85   50544.983808  -8893.133808\n",
       "320     102.95    5906.318493  -5803.368493\n",
       "321  121328.92  113856.232441   7472.687559\n",
       "322   94156.55  119416.965109 -25260.415109\n",
       "323   93428.49  116257.873001 -22829.383001\n",
       "324   73106.96  129587.724844 -56480.764844\n",
       "325   62484.03   54160.134882   8323.895118\n",
       "326   50088.00   -4790.628259  54878.628259\n",
       "327   45289.92  116741.401182 -71451.481182\n",
       "328   95437.44  120307.150201 -24869.710201\n",
       "329  100674.86  117101.333605 -16426.473605\n",
       "330   55735.08   82852.489971 -27117.409971\n",
       "331   86421.80   95210.925443  -8789.125443\n",
       "332   86421.80   95339.374702  -8917.574702\n",
       "333   41343.95   59704.315706 -18360.365706\n",
       "334   15788.00   -2931.357243  18719.357243\n",
       "335  128985.55  166193.190268 -37207.640268\n",
       "336   93402.16  148463.416770 -55061.256770\n",
       "337  176747.02  121100.302906  55646.717094\n",
       "338   32502.40   65268.405109 -32766.005109\n",
       "339   55111.85    5021.479976  50090.370024\n",
       "340  133042.85  130365.668304   2677.181696\n",
       "341   88538.89  124028.231786 -35489.341786\n",
       "342   66133.39   99239.541262 -33106.151262\n",
       "343   67090.81   89719.781340 -22628.971340"
      ]
     },
     "execution_count": 203,
     "metadata": {},
     "output_type": "execute_result"
    }
   ],
   "source": [
    "comp_2"
   ]
  },
  {
   "cell_type": "markdown",
   "id": "accompanied-maximum",
   "metadata": {},
   "source": [
    "# Lasso"
   ]
  },
  {
   "cell_type": "code",
   "execution_count": 204,
   "id": "greenhouse-indian",
   "metadata": {},
   "outputs": [],
   "source": [
    "from sklearn.linear_model import Lasso\n",
    "from sklearn.model_selection import GridSearchCV"
   ]
  },
  {
   "cell_type": "code",
   "execution_count": 205,
   "id": "charged-small",
   "metadata": {},
   "outputs": [],
   "source": [
    "# Intializing the model \n",
    "reg_model_3=Lasso()"
   ]
  },
  {
   "cell_type": "code",
   "execution_count": 206,
   "id": "subjective-return",
   "metadata": {},
   "outputs": [],
   "source": [
    "# hyper parameter range \n",
    "hyperparameters_range={'alpha':[1e-15,1e-10,1e-8,1e-3,1e-2,1,5,10,20,30,35,40,45,50,55,60,65,70,75,80,85,90,95,100]}"
   ]
  },
  {
   "cell_type": "code",
   "execution_count": 207,
   "id": "homeless-decimal",
   "metadata": {},
   "outputs": [
    {
     "name": "stderr",
     "output_type": "stream",
     "text": [
      "C:\\Users\\vksva\\Anaconda3\\lib\\site-packages\\sklearn\\linear_model\\_coordinate_descent.py:531: ConvergenceWarning: Objective did not converge. You might want to increase the number of iterations. Duality gap: 185455617321.42416, tolerance: 113208329.05439414\n",
      "  positive)\n",
      "C:\\Users\\vksva\\Anaconda3\\lib\\site-packages\\sklearn\\linear_model\\_coordinate_descent.py:531: ConvergenceWarning: Objective did not converge. You might want to increase the number of iterations. Duality gap: 167882779636.40912, tolerance: 105941111.49883024\n",
      "  positive)\n",
      "C:\\Users\\vksva\\Anaconda3\\lib\\site-packages\\sklearn\\linear_model\\_coordinate_descent.py:531: ConvergenceWarning: Objective did not converge. You might want to increase the number of iterations. Duality gap: 153458072218.88168, tolerance: 101486300.93390363\n",
      "  positive)\n",
      "C:\\Users\\vksva\\Anaconda3\\lib\\site-packages\\sklearn\\linear_model\\_coordinate_descent.py:531: ConvergenceWarning: Objective did not converge. You might want to increase the number of iterations. Duality gap: 143509074904.23343, tolerance: 97343817.66585755\n",
      "  positive)\n",
      "C:\\Users\\vksva\\Anaconda3\\lib\\site-packages\\sklearn\\linear_model\\_coordinate_descent.py:531: ConvergenceWarning: Objective did not converge. You might want to increase the number of iterations. Duality gap: 163075484206.43393, tolerance: 118928312.43846022\n",
      "  positive)\n",
      "C:\\Users\\vksva\\Anaconda3\\lib\\site-packages\\sklearn\\linear_model\\_coordinate_descent.py:531: ConvergenceWarning: Objective did not converge. You might want to increase the number of iterations. Duality gap: 60361323834.078125, tolerance: 113208329.05439414\n",
      "  positive)\n",
      "C:\\Users\\vksva\\Anaconda3\\lib\\site-packages\\sklearn\\linear_model\\_coordinate_descent.py:531: ConvergenceWarning: Objective did not converge. You might want to increase the number of iterations. Duality gap: 88962786574.75705, tolerance: 101486300.93390363\n",
      "  positive)\n",
      "C:\\Users\\vksva\\Anaconda3\\lib\\site-packages\\sklearn\\linear_model\\_coordinate_descent.py:531: ConvergenceWarning: Objective did not converge. You might want to increase the number of iterations. Duality gap: 95618353889.89574, tolerance: 118928312.43846022\n",
      "  positive)\n"
     ]
    },
    {
     "data": {
      "text/plain": [
       "GridSearchCV(cv=5, estimator=Lasso(),\n",
       "             param_grid={'alpha': [1e-15, 1e-10, 1e-08, 0.001, 0.01, 1, 5, 10,\n",
       "                                   20, 30, 35, 40, 45, 50, 55, 60, 65, 70, 75,\n",
       "                                   80, 85, 90, 95, 100]},\n",
       "             scoring='neg_root_mean_squared_error')"
      ]
     },
     "execution_count": 207,
     "metadata": {},
     "output_type": "execute_result"
    }
   ],
   "source": [
    "# Searching best hyper parameter \n",
    "\n",
    "lasso_reg=GridSearchCV(reg_model_3,hyperparameters_range,scoring='neg_root_mean_squared_error',cv=5)\n",
    "\n",
    "lasso_reg.fit(X,y)"
   ]
  },
  {
   "cell_type": "code",
   "execution_count": 208,
   "id": "virtual-smile",
   "metadata": {},
   "outputs": [
    {
     "data": {
      "text/plain": [
       "{'alpha': 100}"
      ]
     },
     "execution_count": 208,
     "metadata": {},
     "output_type": "execute_result"
    }
   ],
   "source": [
    "#best parameters\n",
    "lasso_reg.best_params_"
   ]
  },
  {
   "cell_type": "code",
   "execution_count": 209,
   "id": "official-lighting",
   "metadata": {},
   "outputs": [
    {
     "data": {
      "text/plain": [
       "-37832.625339535705"
      ]
     },
     "execution_count": 209,
     "metadata": {},
     "output_type": "execute_result"
    }
   ],
   "source": [
    "#best score\n",
    "lasso_reg.best_score_"
   ]
  },
  {
   "cell_type": "code",
   "execution_count": 210,
   "id": "assisted-serial",
   "metadata": {},
   "outputs": [],
   "source": [
    "lasso_pre=Lasso(alpha=100)"
   ]
  },
  {
   "cell_type": "code",
   "execution_count": 211,
   "id": "aerial-electric",
   "metadata": {},
   "outputs": [
    {
     "data": {
      "text/plain": [
       "Lasso(alpha=100)"
      ]
     },
     "execution_count": 211,
     "metadata": {},
     "output_type": "execute_result"
    }
   ],
   "source": [
    "lasso_pre.fit(X_train,y_train)"
   ]
  },
  {
   "cell_type": "code",
   "execution_count": 212,
   "id": "capital-liberal",
   "metadata": {},
   "outputs": [
    {
     "data": {
      "text/plain": [
       "0.6703730888862354"
      ]
     },
     "execution_count": 212,
     "metadata": {},
     "output_type": "execute_result"
    }
   ],
   "source": [
    "#train score\n",
    "lasso_pre.score(X_train,y_train)"
   ]
  },
  {
   "cell_type": "code",
   "execution_count": 213,
   "id": "brief-implement",
   "metadata": {},
   "outputs": [
    {
     "data": {
      "text/plain": [
       "0.7595106178758166"
      ]
     },
     "execution_count": 213,
     "metadata": {},
     "output_type": "execute_result"
    }
   ],
   "source": [
    "# test score\n",
    "lasso_pre.score(X_test,y_test)"
   ]
  },
  {
   "cell_type": "code",
   "execution_count": 214,
   "id": "unauthorized-ecuador",
   "metadata": {},
   "outputs": [
    {
     "data": {
      "text/plain": [
       "0.3595122118766717"
      ]
     },
     "execution_count": 214,
     "metadata": {},
     "output_type": "execute_result"
    }
   ],
   "source": [
    "#unseen data\n",
    "lasso_pre.score(X_,y_)"
   ]
  },
  {
   "cell_type": "code",
   "execution_count": 215,
   "id": "broke-soviet",
   "metadata": {},
   "outputs": [],
   "source": [
    "y_pre_2=lasso_pre.predict(X_)"
   ]
  },
  {
   "cell_type": "code",
   "execution_count": 216,
   "id": "celtic-terrain",
   "metadata": {},
   "outputs": [
    {
     "name": "stdout",
     "output_type": "stream",
     "text": [
      "RMSE: 30939.83346656301\n",
      "MAE: 25423.777738222376\n"
     ]
    }
   ],
   "source": [
    "# RMSE and MAE\n",
    "print('RMSE:',np.sqrt(metrics.mean_squared_error(y_,y_pre_2)))\n",
    "print('MAE:',metrics.mean_absolute_error(y_,y_pre_2))"
   ]
  },
  {
   "cell_type": "code",
   "execution_count": 217,
   "id": "narrative-beatles",
   "metadata": {},
   "outputs": [],
   "source": [
    "comp_3=pd.DataFrame({'Actual':y_,'Predicted':y_pre_2})"
   ]
  },
  {
   "cell_type": "code",
   "execution_count": 218,
   "id": "broken-twenty",
   "metadata": {},
   "outputs": [
    {
     "data": {
      "text/plain": [
       "<AxesSubplot:title={'center':'Lasso Regression'}>"
      ]
     },
     "execution_count": 218,
     "metadata": {},
     "output_type": "execute_result"
    },
    {
     "data": {
      "image/png": "[encoded data removed]",
      "text/plain": [
       "<Figure size 432x288 with 1 Axes>"
      ]
     },
     "metadata": {
      "needs_background": "light"
     },
     "output_type": "display_data"
    },
    {
     "data": {
      "image/png": "[encoded data removed]",
      "text/plain": [
       "<Figure size 432x288 with 1 Axes>"
      ]
     },
     "metadata": {
      "needs_background": "light"
     },
     "output_type": "display_data"
    },
    {
     "data": {
      "image/png": "[encoded data removed]",
      "text/plain": [
       "<Figure size 432x288 with 1 Axes>"
      ]
     },
     "metadata": {
      "needs_background": "light"
     },
     "output_type": "display_data"
    }
   ],
   "source": [
    "#comparision \n",
    "comp.plot(title='Linear Regression')\n",
    "comp_2.plot(title='Ridge Regression')\n",
    "comp_3.plot(title='Lasso Regression')"
   ]
  },
  {
   "cell_type": "code",
   "execution_count": 219,
   "id": "funky-retreat",
   "metadata": {},
   "outputs": [
    {
     "name": "stdout",
     "output_type": "stream",
     "text": [
      "====Linear Regression========\n",
      "RMSE: 30935.802557531748\n",
      "MAE: 25420.229553011726\n",
      "====Ridge Regression========\n",
      "RMSE: 30929.953891342073\n",
      "MAE: 25414.39429108107\n",
      "====Lasso Regression========\n",
      "RMSE: 30939.83346656301\n",
      "MAE: 25423.777738222376\n"
     ]
    }
   ],
   "source": [
    "print('====Linear Regression========')\n",
    "# RMSE and MAE\n",
    "print('RMSE:',np.sqrt(metrics.mean_squared_error(y_,y_pred)))\n",
    "print('MAE:',metrics.mean_absolute_error(y_,y_pred))\n",
    "\n",
    "\n",
    "print('====Ridge Regression========')\n",
    "\n",
    "# RMSE and MAE\n",
    "print('RMSE:',np.sqrt(metrics.mean_squared_error(y_,y_pre_1)))\n",
    "print('MAE:',metrics.mean_absolute_error(y_,y_pre_1))\n",
    "\n",
    "print('====Lasso Regression========')\n",
    "\n",
    "# RMSE and MAE\n",
    "print('RMSE:',np.sqrt(metrics.mean_squared_error(y_,y_pre_2)))\n",
    "print('MAE:',metrics.mean_absolute_error(y_,y_pre_2))"
   ]
  },
  {
   "cell_type": "code",
   "execution_count": null,
   "id": "elder-advance",
   "metadata": {},
   "outputs": [],
   "source": []
  }
 ],
 "metadata": {
  "kernelspec": {
   "display_name": "Python 3",
   "language": "python",
   "name": "python3"
  },
  "language_info": {
   "codemirror_mode": {
    "name": "ipython",
    "version": 3
   },
   "file_extension": ".py",
   "mimetype": "text/x-python",
   "name": "python",
   "nbconvert_exporter": "python",
   "pygments_lexer": "ipython3",
   "version": "3.7.3"
  }
 },
 "nbformat": 4,
 "nbformat_minor": 5
}
