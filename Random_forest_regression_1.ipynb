{
 "cells": [
  {
   "cell_type": "code",
   "execution_count": 45,
   "id": "usual-opposition",
   "metadata": {},
   "outputs": [],
   "source": [
    "import pandas as pd\n",
    "import numpy as np\n",
    "import matplotlib.pyplot as plt\n",
    "import seaborn as sns"
   ]
  },
  {
   "cell_type": "code",
   "execution_count": 46,
   "id": "colonial-thunder",
   "metadata": {},
   "outputs": [],
   "source": [
    "df=pd.read_excel('final_feat.xlsx')"
   ]
  },
  {
   "cell_type": "code",
   "execution_count": 47,
   "id": "answering-circumstances",
   "metadata": {},
   "outputs": [
    {
     "data": {
      "text/html": [
       "<div>\n",
       "<style scoped>\n",
       "    .dataframe tbody tr th:only-of-type {\n",
       "        vertical-align: middle;\n",
       "    }\n",
       "\n",
       "    .dataframe tbody tr th {\n",
       "        vertical-align: top;\n",
       "    }\n",
       "\n",
       "    .dataframe thead th {\n",
       "        text-align: right;\n",
       "    }\n",
       "</style>\n",
       "<table border=\"1\" class=\"dataframe\">\n",
       "  <thead>\n",
       "    <tr style=\"text-align: right;\">\n",
       "      <th></th>\n",
       "      <th>Day of week</th>\n",
       "      <th>Cost</th>\n",
       "      <th>Impressions</th>\n",
       "      <th>Clicks</th>\n",
       "      <th>CTR</th>\n",
       "      <th>Avg. CPC</th>\n",
       "      <th>Conversions</th>\n",
       "      <th>Conv. rate</th>\n",
       "      <th>Cost / conv.</th>\n",
       "      <th>Search Impr. share</th>\n",
       "      <th>...</th>\n",
       "      <th>Total Jobs</th>\n",
       "      <th>Avg Service</th>\n",
       "      <th>Avg Install</th>\n",
       "      <th>Canceled Jobs_y</th>\n",
       "      <th>Turn over %</th>\n",
       "      <th>Canceled %</th>\n",
       "      <th>Avg Sales</th>\n",
       "      <th>bookedjob</th>\n",
       "      <th>totalcalls</th>\n",
       "      <th>Booking rate</th>\n",
       "    </tr>\n",
       "  </thead>\n",
       "  <tbody>\n",
       "    <tr>\n",
       "      <th>0</th>\n",
       "      <td>Thursday</td>\n",
       "      <td>3181.56</td>\n",
       "      <td>13361</td>\n",
       "      <td>156</td>\n",
       "      <td>0.0117</td>\n",
       "      <td>20.39</td>\n",
       "      <td>26.77</td>\n",
       "      <td>0.0486</td>\n",
       "      <td>118.86</td>\n",
       "      <td>0.5337</td>\n",
       "      <td>...</td>\n",
       "      <td>101</td>\n",
       "      <td>143.417833</td>\n",
       "      <td>3224.412750</td>\n",
       "      <td>8</td>\n",
       "      <td>9.900990</td>\n",
       "      <td>7.920792</td>\n",
       "      <td>3617.444828</td>\n",
       "      <td>49</td>\n",
       "      <td>155</td>\n",
       "      <td>31.612903</td>\n",
       "    </tr>\n",
       "    <tr>\n",
       "      <th>1</th>\n",
       "      <td>Friday</td>\n",
       "      <td>2684.67</td>\n",
       "      <td>16841</td>\n",
       "      <td>160</td>\n",
       "      <td>0.0095</td>\n",
       "      <td>16.78</td>\n",
       "      <td>21.00</td>\n",
       "      <td>0.0299</td>\n",
       "      <td>127.84</td>\n",
       "      <td>0.5477</td>\n",
       "      <td>...</td>\n",
       "      <td>89</td>\n",
       "      <td>75.515208</td>\n",
       "      <td>965.365854</td>\n",
       "      <td>7</td>\n",
       "      <td>10.112360</td>\n",
       "      <td>7.865169</td>\n",
       "      <td>1781.345385</td>\n",
       "      <td>56</td>\n",
       "      <td>176</td>\n",
       "      <td>31.818182</td>\n",
       "    </tr>\n",
       "    <tr>\n",
       "      <th>2</th>\n",
       "      <td>Saturday</td>\n",
       "      <td>1338.36</td>\n",
       "      <td>30788</td>\n",
       "      <td>142</td>\n",
       "      <td>0.0046</td>\n",
       "      <td>9.43</td>\n",
       "      <td>11.00</td>\n",
       "      <td>0.0186</td>\n",
       "      <td>121.67</td>\n",
       "      <td>0.5297</td>\n",
       "      <td>...</td>\n",
       "      <td>31</td>\n",
       "      <td>110.019048</td>\n",
       "      <td>1377.666667</td>\n",
       "      <td>4</td>\n",
       "      <td>9.677419</td>\n",
       "      <td>12.903226</td>\n",
       "      <td>459.248750</td>\n",
       "      <td>30</td>\n",
       "      <td>92</td>\n",
       "      <td>32.608696</td>\n",
       "    </tr>\n",
       "    <tr>\n",
       "      <th>3</th>\n",
       "      <td>Sunday</td>\n",
       "      <td>1192.31</td>\n",
       "      <td>12865</td>\n",
       "      <td>108</td>\n",
       "      <td>0.0084</td>\n",
       "      <td>11.04</td>\n",
       "      <td>5.00</td>\n",
       "      <td>0.0130</td>\n",
       "      <td>238.46</td>\n",
       "      <td>0.5741</td>\n",
       "      <td>...</td>\n",
       "      <td>15</td>\n",
       "      <td>67.914286</td>\n",
       "      <td>406.250000</td>\n",
       "      <td>1</td>\n",
       "      <td>13.333333</td>\n",
       "      <td>6.666667</td>\n",
       "      <td>846.000000</td>\n",
       "      <td>11</td>\n",
       "      <td>52</td>\n",
       "      <td>21.153846</td>\n",
       "    </tr>\n",
       "    <tr>\n",
       "      <th>4</th>\n",
       "      <td>Monday</td>\n",
       "      <td>2383.17</td>\n",
       "      <td>49514</td>\n",
       "      <td>188</td>\n",
       "      <td>0.0038</td>\n",
       "      <td>12.68</td>\n",
       "      <td>22.00</td>\n",
       "      <td>0.0566</td>\n",
       "      <td>108.33</td>\n",
       "      <td>0.6027</td>\n",
       "      <td>...</td>\n",
       "      <td>91</td>\n",
       "      <td>78.753750</td>\n",
       "      <td>1646.943488</td>\n",
       "      <td>5</td>\n",
       "      <td>8.791209</td>\n",
       "      <td>5.494505</td>\n",
       "      <td>1820.060789</td>\n",
       "      <td>54</td>\n",
       "      <td>159</td>\n",
       "      <td>33.962264</td>\n",
       "    </tr>\n",
       "  </tbody>\n",
       "</table>\n",
       "<p>5 rows × 38 columns</p>\n",
       "</div>"
      ],
      "text/plain": [
       "  Day of week     Cost  Impressions  Clicks     CTR  Avg. CPC  Conversions  \\\n",
       "0    Thursday  3181.56        13361     156  0.0117     20.39        26.77   \n",
       "1      Friday  2684.67        16841     160  0.0095     16.78        21.00   \n",
       "2    Saturday  1338.36        30788     142  0.0046      9.43        11.00   \n",
       "3      Sunday  1192.31        12865     108  0.0084     11.04         5.00   \n",
       "4      Monday  2383.17        49514     188  0.0038     12.68        22.00   \n",
       "\n",
       "   Conv. rate  Cost / conv. Search Impr. share  ...  Total Jobs   Avg Service  \\\n",
       "0      0.0486        118.86             0.5337  ...          101   143.417833   \n",
       "1      0.0299        127.84             0.5477  ...           89    75.515208   \n",
       "2      0.0186        121.67             0.5297  ...           31   110.019048   \n",
       "3      0.0130        238.46             0.5741  ...           15    67.914286   \n",
       "4      0.0566        108.33             0.6027  ...           91    78.753750   \n",
       "\n",
       "   Avg Install  Canceled Jobs_y  Turn over % Canceled %    Avg Sales  \\\n",
       "0  3224.412750                8     9.900990   7.920792  3617.444828   \n",
       "1   965.365854                7    10.112360   7.865169  1781.345385   \n",
       "2  1377.666667                4     9.677419  12.903226   459.248750   \n",
       "3   406.250000                1    13.333333   6.666667   846.000000   \n",
       "4  1646.943488                5     8.791209   5.494505  1820.060789   \n",
       "\n",
       "   bookedjob  totalcalls  Booking rate  \n",
       "0         49         155     31.612903  \n",
       "1         56         176     31.818182  \n",
       "2         30          92     32.608696  \n",
       "3         11          52     21.153846  \n",
       "4         54         159     33.962264  \n",
       "\n",
       "[5 rows x 38 columns]"
      ]
     },
     "execution_count": 47,
     "metadata": {},
     "output_type": "execute_result"
    }
   ],
   "source": [
    "df.head()"
   ]
  },
  {
   "cell_type": "code",
   "execution_count": 75,
   "id": "removable-theme",
   "metadata": {},
   "outputs": [],
   "source": [
    "df1=df[['Completed Jobs', 'Total Leads','Income_y','Lead Calls','TMAX',\n",
    "        'Avg Install']]"
   ]
  },
  {
   "cell_type": "code",
   "execution_count": 76,
   "id": "hollywood-astronomy",
   "metadata": {},
   "outputs": [
    {
     "data": {
      "text/plain": [
       "<AxesSubplot:>"
      ]
     },
     "execution_count": 76,
     "metadata": {},
     "output_type": "execute_result"
    },
    {
     "data": {
      "image/png": "[encoded data removed]",
      "text/plain": [
       "<Figure size 1440x720 with 2 Axes>"
      ]
     },
     "metadata": {
      "needs_background": "light"
     },
     "output_type": "display_data"
    }
   ],
   "source": [
    "plt.figure(figsize=(20,10))\n",
    "sns.heatmap(df1.corr(method='spearman'),annot=True)"
   ]
  },
  {
   "cell_type": "code",
   "execution_count": 77,
   "id": "massive-fraction",
   "metadata": {},
   "outputs": [],
   "source": [
    "train=df1[0:300]\n",
    "test=df1[300:]"
   ]
  },
  {
   "cell_type": "code",
   "execution_count": 78,
   "id": "secure-alarm",
   "metadata": {},
   "outputs": [],
   "source": [
    "y=train['Income_y']\n",
    "X=train.drop(['Income_y'],axis=1)"
   ]
  },
  {
   "cell_type": "code",
   "execution_count": 79,
   "id": "saving-acting",
   "metadata": {},
   "outputs": [],
   "source": [
    "from sklearn.model_selection import train_test_split\n",
    "X_train, X_test, y_train, y_test = train_test_split(X,y, test_size=0.2, random_state=42)"
   ]
  },
  {
   "cell_type": "code",
   "execution_count": 80,
   "id": "communist-january",
   "metadata": {},
   "outputs": [],
   "source": [
    "from sklearn.ensemble import RandomForestRegressor\n"
   ]
  },
  {
   "cell_type": "code",
   "execution_count": 81,
   "id": "sound-collar",
   "metadata": {},
   "outputs": [],
   "source": [
    "# intializing the randomeforest regressor\n",
    "\n",
    "random_forest_reg=RandomForestRegressor()"
   ]
  },
  {
   "cell_type": "code",
   "execution_count": 82,
   "id": "negative-scheduling",
   "metadata": {},
   "outputs": [
    {
     "data": {
      "text/plain": [
       "Completed Jobs    0\n",
       "Total Leads       0\n",
       "Lead Calls        0\n",
       "TMAX              0\n",
       "Avg Install       0\n",
       "dtype: int64"
      ]
     },
     "execution_count": 82,
     "metadata": {},
     "output_type": "execute_result"
    }
   ],
   "source": [
    "X_train.isnull().sum()"
   ]
  },
  {
   "cell_type": "code",
   "execution_count": 83,
   "id": "amateur-france",
   "metadata": {},
   "outputs": [
    {
     "data": {
      "text/plain": [
       "1676.6812871285001"
      ]
     },
     "execution_count": 83,
     "metadata": {},
     "output_type": "execute_result"
    }
   ],
   "source": [
    "X_train['Avg Install'].median()"
   ]
  },
  {
   "cell_type": "code",
   "execution_count": 84,
   "id": "normal-fundamental",
   "metadata": {},
   "outputs": [
    {
     "name": "stderr",
     "output_type": "stream",
     "text": [
      "C:\\Users\\vksva\\Anaconda3\\lib\\site-packages\\ipykernel_launcher.py:1: SettingWithCopyWarning: \n",
      "A value is trying to be set on a copy of a slice from a DataFrame.\n",
      "Try using .loc[row_indexer,col_indexer] = value instead\n",
      "\n",
      "See the caveats in the documentation: https://pandas.pydata.org/pandas-docs/stable/user_guide/indexing.html#returning-a-view-versus-a-copy\n",
      "  \"\"\"Entry point for launching an IPython kernel.\n"
     ]
    }
   ],
   "source": [
    "X_train['Avg Install']=X_train['Avg Install'].fillna(1706.382716049)"
   ]
  },
  {
   "cell_type": "code",
   "execution_count": 85,
   "id": "reflected-feeding",
   "metadata": {},
   "outputs": [
    {
     "data": {
      "text/plain": [
       "RandomForestRegressor()"
      ]
     },
     "execution_count": 85,
     "metadata": {},
     "output_type": "execute_result"
    }
   ],
   "source": [
    "# fit the X_train and y_train values to the model\n",
    "random_forest_reg.fit(X_train,y_train)"
   ]
  },
  {
   "cell_type": "code",
   "execution_count": 86,
   "id": "olympic-december",
   "metadata": {},
   "outputs": [
    {
     "data": {
      "text/plain": [
       "0.955336394225611"
      ]
     },
     "execution_count": 86,
     "metadata": {},
     "output_type": "execute_result"
    }
   ],
   "source": [
    "# training data set score\n",
    "random_forest_reg.score(X_train,y_train)"
   ]
  },
  {
   "cell_type": "code",
   "execution_count": 87,
   "id": "unlike-kansas",
   "metadata": {},
   "outputs": [
    {
     "data": {
      "text/plain": [
       "0.5933462021388518"
      ]
     },
     "execution_count": 87,
     "metadata": {},
     "output_type": "execute_result"
    }
   ],
   "source": [
    "# test data set score\n",
    "random_forest_reg.score(X_test,y_test)"
   ]
  },
  {
   "cell_type": "code",
   "execution_count": 88,
   "id": "falling-expense",
   "metadata": {},
   "outputs": [
    {
     "data": {
      "text/plain": [
       "Completed Jobs    0\n",
       "Total Leads       0\n",
       "Lead Calls        0\n",
       "TMAX              0\n",
       "Avg Install       0\n",
       "dtype: int64"
      ]
     },
     "execution_count": 88,
     "metadata": {},
     "output_type": "execute_result"
    }
   ],
   "source": [
    "X.isnull().sum(0)"
   ]
  },
  {
   "cell_type": "code",
   "execution_count": 89,
   "id": "intellectual-stevens",
   "metadata": {},
   "outputs": [
    {
     "data": {
      "text/plain": [
       "1647.7444714585"
      ]
     },
     "execution_count": 89,
     "metadata": {},
     "output_type": "execute_result"
    }
   ],
   "source": [
    "X['Avg Install'].median()"
   ]
  },
  {
   "cell_type": "code",
   "execution_count": 90,
   "id": "constitutional-objective",
   "metadata": {},
   "outputs": [],
   "source": [
    "X['Avg Install']=X['Avg Install'].fillna(1712.5)"
   ]
  },
  {
   "cell_type": "code",
   "execution_count": 91,
   "id": "opposite-protest",
   "metadata": {},
   "outputs": [
    {
     "data": {
      "text/plain": [
       "Completed Jobs    0\n",
       "Total Leads       0\n",
       "Income_y          0\n",
       "Lead Calls        0\n",
       "TMAX              0\n",
       "Avg Install       1\n",
       "dtype: int64"
      ]
     },
     "execution_count": 91,
     "metadata": {},
     "output_type": "execute_result"
    }
   ],
   "source": [
    "test.isnull().sum()"
   ]
  },
  {
   "cell_type": "code",
   "execution_count": 92,
   "id": "surprised-progressive",
   "metadata": {},
   "outputs": [
    {
     "data": {
      "text/plain": [
       "2298.813953488"
      ]
     },
     "execution_count": 92,
     "metadata": {},
     "output_type": "execute_result"
    }
   ],
   "source": [
    "test['Avg Install'].median()"
   ]
  },
  {
   "cell_type": "code",
   "execution_count": 93,
   "id": "incoming-mattress",
   "metadata": {},
   "outputs": [
    {
     "name": "stderr",
     "output_type": "stream",
     "text": [
      "C:\\Users\\vksva\\Anaconda3\\lib\\site-packages\\ipykernel_launcher.py:1: SettingWithCopyWarning: \n",
      "A value is trying to be set on a copy of a slice from a DataFrame.\n",
      "Try using .loc[row_indexer,col_indexer] = value instead\n",
      "\n",
      "See the caveats in the documentation: https://pandas.pydata.org/pandas-docs/stable/user_guide/indexing.html#returning-a-view-versus-a-copy\n",
      "  \"\"\"Entry point for launching an IPython kernel.\n"
     ]
    }
   ],
   "source": [
    "test['Avg Install']=test['Avg Install'].fillna(2298.813953488)"
   ]
  },
  {
   "cell_type": "code",
   "execution_count": 94,
   "id": "lesbian-entrepreneur",
   "metadata": {},
   "outputs": [],
   "source": [
    "y_=test['Income_y']\n",
    "X_=test.drop(['Income_y'],axis=1)"
   ]
  },
  {
   "cell_type": "code",
   "execution_count": 95,
   "id": "sized-student",
   "metadata": {},
   "outputs": [
    {
     "data": {
      "text/plain": [
       "-0.12315424208218961"
      ]
     },
     "execution_count": 95,
     "metadata": {},
     "output_type": "execute_result"
    }
   ],
   "source": [
    "random_forest_reg.score(X_,y_)"
   ]
  },
  {
   "cell_type": "code",
   "execution_count": 96,
   "id": "involved-suite",
   "metadata": {},
   "outputs": [],
   "source": [
    "y_pred=random_forest_reg.predict(X_)"
   ]
  },
  {
   "cell_type": "code",
   "execution_count": 97,
   "id": "dying-production",
   "metadata": {},
   "outputs": [],
   "source": [
    "comp=pd.DataFrame({'Actual':y_,'Predicted':y_pred})"
   ]
  },
  {
   "cell_type": "code",
   "execution_count": 98,
   "id": "premium-warehouse",
   "metadata": {},
   "outputs": [
    {
     "data": {
      "text/plain": [
       "<AxesSubplot:>"
      ]
     },
     "execution_count": 98,
     "metadata": {},
     "output_type": "execute_result"
    },
    {
     "data": {
      "image/png": "[encoded data removed]",
      "text/plain": [
       "<Figure size 432x288 with 1 Axes>"
      ]
     },
     "metadata": {
      "needs_background": "light"
     },
     "output_type": "display_data"
    }
   ],
   "source": [
    "comp.plot()\n"
   ]
  },
  {
   "cell_type": "code",
   "execution_count": 99,
   "id": "brown-brunswick",
   "metadata": {},
   "outputs": [],
   "source": [
    "from sklearn import metrics"
   ]
  },
  {
   "cell_type": "code",
   "execution_count": 100,
   "id": "aging-revelation",
   "metadata": {},
   "outputs": [
    {
     "data": {
      "text/plain": [
       "41983.14200730193"
      ]
     },
     "execution_count": 100,
     "metadata": {},
     "output_type": "execute_result"
    }
   ],
   "source": [
    "np.sqrt(metrics.mean_squared_error(y_,y_pred))"
   ]
  },
  {
   "cell_type": "code",
   "execution_count": 101,
   "id": "executive-result",
   "metadata": {},
   "outputs": [
    {
     "data": {
      "text/plain": [
       "31987.06598000001"
      ]
     },
     "execution_count": 101,
     "metadata": {},
     "output_type": "execute_result"
    }
   ],
   "source": [
    "metrics.mean_absolute_error(y_,y_pred)"
   ]
  },
  {
   "cell_type": "code",
   "execution_count": null,
   "id": "suspended-array",
   "metadata": {},
   "outputs": [],
   "source": []
  }
 ],
 "metadata": {
  "kernelspec": {
   "display_name": "Python 3",
   "language": "python",
   "name": "python3"
  },
  "language_info": {
   "codemirror_mode": {
    "name": "ipython",
    "version": 3
   },
   "file_extension": ".py",
   "mimetype": "text/x-python",
   "name": "python",
   "nbconvert_exporter": "python",
   "pygments_lexer": "ipython3",
   "version": "3.7.3"
  }
 },
 "nbformat": 4,
 "nbformat_minor": 5
}
